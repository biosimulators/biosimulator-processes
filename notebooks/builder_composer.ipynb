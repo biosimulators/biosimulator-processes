{
 "cells": [
  {
   "cell_type": "markdown",
   "id": "808b6a4b-0894-4a8e-99d8-bf11b3164b6a",
   "metadata": {},
   "source": [
    "# Bigraph-Builder Demo"
   ]
  },
  {
   "cell_type": "code",
   "execution_count": 1,
   "id": "b385dca6-942d-472c-9963-13b8cb33843c",
   "metadata": {
    "ExecuteTime": {
     "end_time": "2024-02-29T22:16:03.547147Z",
     "start_time": "2024-02-29T22:16:02.510078Z"
    }
   },
   "outputs": [],
   "source": [
    "from builder import Builder, Process, ProcessTypes"
   ]
  },
  {
   "cell_type": "markdown",
   "id": "a403d619-4dbe-49cc-8f24-29a83e31fe15",
   "metadata": {},
   "source": [
    "## Initialize the builder"
   ]
  },
  {
   "cell_type": "code",
   "execution_count": 2,
   "id": "23ae6471dca4692b",
   "metadata": {
    "ExecuteTime": {
     "end_time": "2024-02-29T22:16:36.372695Z",
     "start_time": "2024-02-29T22:16:30.599813Z"
    },
    "collapsed": false,
    "jupyter": {
     "outputs_hidden": false
    }
   },
   "outputs": [
    {
     "name": "stdout",
     "output_type": "stream",
     "text": [
      "CobraProcess registered successfully.\n"
     ]
    },
    {
     "ename": "TypeError",
     "evalue": "Too many parameters for typing.Dict; actual 3, expected 2",
     "output_type": "error",
     "traceback": [
      "\u001b[0;31m---------------------------------------------------------------------------\u001b[0m",
      "\u001b[0;31mTypeError\u001b[0m                                 Traceback (most recent call last)",
      "Cell \u001b[0;32mIn[2], line 1\u001b[0m\n\u001b[0;32m----> 1\u001b[0m \u001b[38;5;28;01mfrom\u001b[39;00m \u001b[38;5;21;01mbiosimulator_processes\u001b[39;00m \u001b[38;5;28;01mimport\u001b[39;00m CORE\n",
      "File \u001b[0;32m~/Desktop/uchc_work/biosimulator-processes/biosimulator_processes/__init__.py:18\u001b[0m\n\u001b[1;32m     15\u001b[0m module_name, class_name \u001b[38;5;241m=\u001b[39m process_path\u001b[38;5;241m.\u001b[39mrsplit(\u001b[38;5;124m'\u001b[39m\u001b[38;5;124m.\u001b[39m\u001b[38;5;124m'\u001b[39m, \u001b[38;5;241m1\u001b[39m)\n\u001b[1;32m     16\u001b[0m \u001b[38;5;28;01mtry\u001b[39;00m:\n\u001b[1;32m     17\u001b[0m     \u001b[38;5;66;03m# Dynamically import the module\u001b[39;00m\n\u001b[0;32m---> 18\u001b[0m     process_module \u001b[38;5;241m=\u001b[39m \u001b[38;5;28;43m__import__\u001b[39;49m\u001b[43m(\u001b[49m\n\u001b[1;32m     19\u001b[0m \u001b[43m        \u001b[49m\u001b[38;5;124;43mf\u001b[39;49m\u001b[38;5;124;43m'\u001b[39;49m\u001b[38;5;124;43mbiosimulator_processes.processes.\u001b[39;49m\u001b[38;5;132;43;01m{\u001b[39;49;00m\u001b[43mmodule_name\u001b[49m\u001b[38;5;132;43;01m}\u001b[39;49;00m\u001b[38;5;124;43m'\u001b[39;49m\u001b[43m,\u001b[49m\u001b[43m \u001b[49m\u001b[43mfromlist\u001b[49m\u001b[38;5;241;43m=\u001b[39;49m\u001b[43m[\u001b[49m\u001b[43mclass_name\u001b[49m\u001b[43m]\u001b[49m\u001b[43m)\u001b[49m\n\u001b[1;32m     20\u001b[0m     \u001b[38;5;66;03m# Get the class from the module\u001b[39;00m\n\u001b[1;32m     21\u001b[0m     process_class \u001b[38;5;241m=\u001b[39m \u001b[38;5;28mgetattr\u001b[39m(process_module, class_name)\n",
      "File \u001b[0;32m~/Desktop/uchc_work/biosimulator-processes/biosimulator_processes/processes/copasi_process.py:36\u001b[0m\n\u001b[1;32m     34\u001b[0m \u001b[38;5;28;01mfrom\u001b[39;00m \u001b[38;5;21;01mprocess_bigraph\u001b[39;00m \u001b[38;5;28;01mimport\u001b[39;00m Process, Composite, pf\n\u001b[1;32m     35\u001b[0m \u001b[38;5;28;01mfrom\u001b[39;00m \u001b[38;5;21;01mbiosimulator_processes\u001b[39;00m\u001b[38;5;21;01m.\u001b[39;00m\u001b[38;5;21;01mutils\u001b[39;00m \u001b[38;5;28;01mimport\u001b[39;00m fetch_biomodel\n\u001b[0;32m---> 36\u001b[0m \u001b[38;5;28;01mfrom\u001b[39;00m \u001b[38;5;21;01mbiosimulator_processes\u001b[39;00m\u001b[38;5;21;01m.\u001b[39;00m\u001b[38;5;21;01mprocess_types\u001b[39;00m \u001b[38;5;28;01mimport\u001b[39;00m MODEL_TYPE\n\u001b[1;32m     37\u001b[0m \u001b[38;5;28;01mimport\u001b[39;00m \u001b[38;5;21;01mbiosimulator_processes\u001b[39;00m\u001b[38;5;21;01m.\u001b[39;00m\u001b[38;5;21;01mprocesses\u001b[39;00m\n\u001b[1;32m     40\u001b[0m \u001b[38;5;28;01mclass\u001b[39;00m \u001b[38;5;21;01mCopasiProcess\u001b[39;00m(Process):\n",
      "File \u001b[0;32m~/Desktop/uchc_work/biosimulator-processes/biosimulator_processes/process_types.py:6\u001b[0m\n\u001b[1;32m      2\u001b[0m \u001b[38;5;28;01mfrom\u001b[39;00m \u001b[38;5;21;01mtyping\u001b[39;00m \u001b[38;5;28;01mimport\u001b[39;00m \u001b[38;5;241m*\u001b[39m\n\u001b[1;32m      3\u001b[0m \u001b[38;5;28;01mfrom\u001b[39;00m \u001b[38;5;21;01mabc\u001b[39;00m \u001b[38;5;28;01mimport\u001b[39;00m ABC, abstractmethod\n\u001b[0;32m----> 6\u001b[0m \u001b[38;5;28;01mclass\u001b[39;00m \u001b[38;5;21;01mModelChange\u001b[39;00m(BaseModel):\n\u001b[1;32m      7\u001b[0m     config: Dict[\u001b[38;5;28mstr\u001b[39m, Union[Dict[\u001b[38;5;28mstr\u001b[39m, Union[\u001b[38;5;28mstr\u001b[39m, \u001b[38;5;28mfloat\u001b[39m]]], Dict[\u001b[38;5;28mstr\u001b[39m, Dict[\u001b[38;5;28mstr\u001b[39m, Union[\u001b[38;5;28mstr\u001b[39m, Dict[\u001b[38;5;28mstr\u001b[39m, Union[\u001b[38;5;28mstr\u001b[39m, \u001b[38;5;28mfloat\u001b[39m]]]]]]\n\u001b[1;32m     10\u001b[0m \u001b[38;5;28;01mclass\u001b[39;00m \u001b[38;5;21;01mModelChanges\u001b[39;00m(BaseModel):\n",
      "File \u001b[0;32m~/Desktop/uchc_work/biosimulator-processes/biosimulator_processes/process_types.py:7\u001b[0m, in \u001b[0;36mModelChange\u001b[0;34m()\u001b[0m\n\u001b[1;32m      6\u001b[0m \u001b[38;5;28;01mclass\u001b[39;00m \u001b[38;5;21;01mModelChange\u001b[39;00m(BaseModel):\n\u001b[0;32m----> 7\u001b[0m     config: \u001b[43mDict\u001b[49m\u001b[43m[\u001b[49m\u001b[38;5;28;43mstr\u001b[39;49m\u001b[43m,\u001b[49m\u001b[43m \u001b[49m\u001b[43mUnion\u001b[49m\u001b[43m[\u001b[49m\u001b[43mDict\u001b[49m\u001b[43m[\u001b[49m\u001b[38;5;28;43mstr\u001b[39;49m\u001b[43m,\u001b[49m\u001b[43m \u001b[49m\u001b[43mUnion\u001b[49m\u001b[43m[\u001b[49m\u001b[38;5;28;43mstr\u001b[39;49m\u001b[43m,\u001b[49m\u001b[43m \u001b[49m\u001b[38;5;28;43mfloat\u001b[39;49m\u001b[43m]\u001b[49m\u001b[43m]\u001b[49m\u001b[43m]\u001b[49m\u001b[43m,\u001b[49m\u001b[43m \u001b[49m\u001b[43mDict\u001b[49m\u001b[43m[\u001b[49m\u001b[38;5;28;43mstr\u001b[39;49m\u001b[43m,\u001b[49m\u001b[43m \u001b[49m\u001b[43mDict\u001b[49m\u001b[43m[\u001b[49m\u001b[38;5;28;43mstr\u001b[39;49m\u001b[43m,\u001b[49m\u001b[43m \u001b[49m\u001b[43mUnion\u001b[49m\u001b[43m[\u001b[49m\u001b[38;5;28;43mstr\u001b[39;49m\u001b[43m,\u001b[49m\u001b[43m \u001b[49m\u001b[43mDict\u001b[49m\u001b[43m[\u001b[49m\u001b[38;5;28;43mstr\u001b[39;49m\u001b[43m,\u001b[49m\u001b[43m \u001b[49m\u001b[43mUnion\u001b[49m\u001b[43m[\u001b[49m\u001b[38;5;28;43mstr\u001b[39;49m\u001b[43m,\u001b[49m\u001b[43m \u001b[49m\u001b[38;5;28;43mfloat\u001b[39;49m\u001b[43m]\u001b[49m\u001b[43m]\u001b[49m\u001b[43m]\u001b[49m\u001b[43m]\u001b[49m\u001b[43m]\u001b[49m\u001b[43m]\u001b[49m\n",
      "File \u001b[0;32m~/miniconda3/envs/processes/lib/python3.10/typing.py:312\u001b[0m, in \u001b[0;36m_tp_cache.<locals>.decorator.<locals>.inner\u001b[0;34m(*args, **kwds)\u001b[0m\n\u001b[1;32m    310\u001b[0m \u001b[38;5;28;01mexcept\u001b[39;00m \u001b[38;5;167;01mTypeError\u001b[39;00m:\n\u001b[1;32m    311\u001b[0m     \u001b[38;5;28;01mpass\u001b[39;00m  \u001b[38;5;66;03m# All real errors (not unhashable args) are raised below.\u001b[39;00m\n\u001b[0;32m--> 312\u001b[0m \u001b[38;5;28;01mreturn\u001b[39;00m \u001b[43mfunc\u001b[49m\u001b[43m(\u001b[49m\u001b[38;5;241;43m*\u001b[39;49m\u001b[43margs\u001b[49m\u001b[43m,\u001b[49m\u001b[43m \u001b[49m\u001b[38;5;241;43m*\u001b[39;49m\u001b[38;5;241;43m*\u001b[39;49m\u001b[43mkwds\u001b[49m\u001b[43m)\u001b[49m\n",
      "File \u001b[0;32m~/miniconda3/envs/processes/lib/python3.10/typing.py:1144\u001b[0m, in \u001b[0;36m_SpecialGenericAlias.__getitem__\u001b[0;34m(self, params)\u001b[0m\n\u001b[1;32m   1142\u001b[0m msg \u001b[38;5;241m=\u001b[39m \u001b[38;5;124m\"\u001b[39m\u001b[38;5;124mParameters to generic types must be types.\u001b[39m\u001b[38;5;124m\"\u001b[39m\n\u001b[1;32m   1143\u001b[0m params \u001b[38;5;241m=\u001b[39m \u001b[38;5;28mtuple\u001b[39m(_type_check(p, msg) \u001b[38;5;28;01mfor\u001b[39;00m p \u001b[38;5;129;01min\u001b[39;00m params)\n\u001b[0;32m-> 1144\u001b[0m \u001b[43m_check_generic\u001b[49m\u001b[43m(\u001b[49m\u001b[38;5;28;43mself\u001b[39;49m\u001b[43m,\u001b[49m\u001b[43m \u001b[49m\u001b[43mparams\u001b[49m\u001b[43m,\u001b[49m\u001b[43m \u001b[49m\u001b[38;5;28;43mself\u001b[39;49m\u001b[38;5;241;43m.\u001b[39;49m\u001b[43m_nparams\u001b[49m\u001b[43m)\u001b[49m\n\u001b[1;32m   1145\u001b[0m \u001b[38;5;28;01mreturn\u001b[39;00m \u001b[38;5;28mself\u001b[39m\u001b[38;5;241m.\u001b[39mcopy_with(params)\n",
      "File \u001b[0;32m~/miniconda3/envs/processes/lib/python3.10/site-packages/typing_extensions.py:167\u001b[0m, in \u001b[0;36m_check_generic\u001b[0;34m(cls, parameters, elen)\u001b[0m\n\u001b[1;32m    165\u001b[0m     \u001b[38;5;28;01mif\u001b[39;00m (num_tv_tuples \u001b[38;5;241m>\u001b[39m \u001b[38;5;241m0\u001b[39m) \u001b[38;5;129;01mand\u001b[39;00m (alen \u001b[38;5;241m>\u001b[39m\u001b[38;5;241m=\u001b[39m elen \u001b[38;5;241m-\u001b[39m num_tv_tuples):\n\u001b[1;32m    166\u001b[0m         \u001b[38;5;28;01mreturn\u001b[39;00m\n\u001b[0;32m--> 167\u001b[0m \u001b[38;5;28;01mraise\u001b[39;00m \u001b[38;5;167;01mTypeError\u001b[39;00m(\u001b[38;5;124mf\u001b[39m\u001b[38;5;124m\"\u001b[39m\u001b[38;5;124mToo \u001b[39m\u001b[38;5;132;01m{\u001b[39;00m\u001b[38;5;124m'\u001b[39m\u001b[38;5;124mmany\u001b[39m\u001b[38;5;124m'\u001b[39m\u001b[38;5;250m \u001b[39m\u001b[38;5;28;01mif\u001b[39;00m\u001b[38;5;250m \u001b[39malen\u001b[38;5;250m \u001b[39m\u001b[38;5;241m>\u001b[39m\u001b[38;5;250m \u001b[39melen\u001b[38;5;250m \u001b[39m\u001b[38;5;28;01melse\u001b[39;00m\u001b[38;5;250m \u001b[39m\u001b[38;5;124m'\u001b[39m\u001b[38;5;124mfew\u001b[39m\u001b[38;5;124m'\u001b[39m\u001b[38;5;132;01m}\u001b[39;00m\u001b[38;5;124m parameters for \u001b[39m\u001b[38;5;132;01m{\u001b[39;00m\u001b[38;5;28mcls\u001b[39m\u001b[38;5;132;01m}\u001b[39;00m\u001b[38;5;124m;\u001b[39m\u001b[38;5;124m\"\u001b[39m\n\u001b[1;32m    168\u001b[0m                 \u001b[38;5;124mf\u001b[39m\u001b[38;5;124m\"\u001b[39m\u001b[38;5;124m actual \u001b[39m\u001b[38;5;132;01m{\u001b[39;00malen\u001b[38;5;132;01m}\u001b[39;00m\u001b[38;5;124m, expected \u001b[39m\u001b[38;5;132;01m{\u001b[39;00melen\u001b[38;5;132;01m}\u001b[39;00m\u001b[38;5;124m\"\u001b[39m)\n",
      "\u001b[0;31mTypeError\u001b[0m: Too many parameters for typing.Dict; actual 3, expected 2"
     ]
    }
   ],
   "source": [
    "from biosimulator_processes import CORE"
   ]
  },
  {
   "cell_type": "code",
   "execution_count": null,
   "id": "b6260555-2bad-4834-adc5-e6d358063579",
   "metadata": {
    "ExecuteTime": {
     "end_time": "2024-02-29T22:16:46.801960Z",
     "start_time": "2024-02-29T22:16:46.793248Z"
    }
   },
   "outputs": [],
   "source": [
    "b = Builder(core=CORE)"
   ]
  },
  {
   "cell_type": "code",
   "execution_count": null,
   "id": "deceb0daee61b0ce",
   "metadata": {
    "collapsed": false,
    "jupyter": {
     "outputs_hidden": false
    }
   },
   "outputs": [],
   "source": []
  },
  {
   "cell_type": "markdown",
   "id": "dd85f98e-c5e3-467b-97ab-1ced7e810a17",
   "metadata": {},
   "source": [
    "### register new types"
   ]
  },
  {
   "cell_type": "code",
   "execution_count": 3,
   "id": "30297af1-2d65-43d9-9ab7-0589d94a8cfe",
   "metadata": {
    "ExecuteTime": {
     "end_time": "2024-01-21T21:29:21.896737Z",
     "start_time": "2024-01-21T21:29:21.891980Z"
    }
   },
   "outputs": [],
   "source": [
    "b.register_type(\n",
    "    'default 1', {\n",
    "        '_inherit': 'float',\n",
    "        '_default': 1.0})"
   ]
  },
  {
   "cell_type": "markdown",
   "id": "4f7cb796-ae5f-4209-b81c-dec1544f0840",
   "metadata": {},
   "source": [
    "## Register processes"
   ]
  },
  {
   "cell_type": "markdown",
   "id": "603e75fd-7b86-4e4c-9e95-adb9faf9668b",
   "metadata": {},
   "source": [
    "### list built-in processes"
   ]
  },
  {
   "cell_type": "code",
   "execution_count": 4,
   "id": "979e0bd85a31d4b0",
   "metadata": {
    "ExecuteTime": {
     "end_time": "2024-02-29T22:17:04.854193Z",
     "start_time": "2024-02-29T22:17:04.809312Z"
    },
    "collapsed": false,
    "jupyter": {
     "outputs_hidden": false
    }
   },
   "outputs": [
    {
     "data": {
      "text/plain": [
       "['ram-emitter',\n",
       " 'CobraProcess',\n",
       " 'CopasiProcess',\n",
       " 'console-emitter',\n",
       " 'TelluriumProcess']"
      ]
     },
     "execution_count": 4,
     "metadata": {},
     "output_type": "execute_result"
    }
   ],
   "source": [
    "b.list_processes()"
   ]
  },
  {
   "cell_type": "markdown",
   "id": "9710444c-97c5-484c-83b0-8d82c3fdb92f",
   "metadata": {},
   "source": [
    "### register process with process class"
   ]
  },
  {
   "cell_type": "code",
   "execution_count": 5,
   "id": "5bff2ea4-42f9-430e-b1cc-f0581510ec8d",
   "metadata": {},
   "outputs": [],
   "source": [
    "from process_bigraph.experiments.minimal_gillespie import GillespieEvent\n",
    "b.register_process('GillespieEvent', GillespieEvent)"
   ]
  },
  {
   "cell_type": "markdown",
   "id": "c3635047-66dd-4c80-85ea-481c74da2a86",
   "metadata": {},
   "source": [
    "### register process by address\n",
    "currently only supports local addresses, but the plan is to support remote addresses and different protocols"
   ]
  },
  {
   "cell_type": "code",
   "execution_count": 6,
   "id": "f2893d4a-c13a-4d95-b85e-d5e9dce53a89",
   "metadata": {},
   "outputs": [],
   "source": [
    "b.register_process(\n",
    "    'GillespieInterval',\n",
    "    address='process_bigraph.experiments.minimal_gillespie.GillespieInterval',  \n",
    ")"
   ]
  },
  {
   "cell_type": "markdown",
   "id": "731974c5-b470-4ddf-a037-4d4aeebc7b42",
   "metadata": {},
   "source": [
    "### register with decorator"
   ]
  },
  {
   "cell_type": "code",
   "execution_count": 7,
   "id": "aec69dcc-471e-4c18-b22b-824cfe440e79",
   "metadata": {},
   "outputs": [],
   "source": [
    "@b.register_process('toy')\n",
    "class Toy(Process):\n",
    "    config_schema = {\n",
    "        'A': 'float',\n",
    "        'B': 'float'}\n",
    "\n",
    "    def __init__(self, config, core):\n",
    "        super().__init__(config, core)\n",
    "\n",
    "    def schema(self):\n",
    "        return {\n",
    "            'inputs': {\n",
    "                'A': 'float',\n",
    "                'B': 'float'},\n",
    "            'outputs': {\n",
    "                'C': 'float'}}\n",
    "\n",
    "    def update(self, state, interval):\n",
    "        update = {'C': state['A'] + state['B']}\n",
    "        return update\n"
   ]
  },
  {
   "cell_type": "markdown",
   "id": "a108cbf0-a594-41d4-996a-de9bf9b6aeea",
   "metadata": {},
   "source": [
    "### list registered processes"
   ]
  },
  {
   "cell_type": "code",
   "execution_count": 5,
   "id": "40cde984-cfdf-4571-af9c-3a3755e3763c",
   "metadata": {
    "ExecuteTime": {
     "end_time": "2024-02-29T22:17:55.896655Z",
     "start_time": "2024-02-29T22:17:55.865157Z"
    }
   },
   "outputs": [
    {
     "data": {
      "text/plain": [
       "['ram-emitter',\n",
       " 'CobraProcess',\n",
       " 'CopasiProcess',\n",
       " 'console-emitter',\n",
       " 'TelluriumProcess']"
      ]
     },
     "execution_count": 5,
     "metadata": {},
     "output_type": "execute_result"
    }
   ],
   "source": [
    "b.list_processes()"
   ]
  },
  {
   "cell_type": "markdown",
   "id": "dfa2d764-8cdb-4a1e-84c5-fd81cc4e6afe",
   "metadata": {},
   "source": [
    "## Add processes to the bigraph"
   ]
  },
  {
   "cell_type": "markdown",
   "id": "49cca341-3f7d-4ac8-be5a-6a7e9f6c4872",
   "metadata": {},
   "source": [
    "### add event_process"
   ]
  },
  {
   "cell_type": "code",
   "execution_count": 9,
   "id": "a153fd48f8c69115",
   "metadata": {
    "ExecuteTime": {
     "end_time": "2024-02-29T22:18:58.854687Z",
     "start_time": "2024-02-29T22:18:58.838535Z"
    },
    "collapsed": false,
    "jupyter": {
     "outputs_hidden": false
    }
   },
   "outputs": [
    {
     "data": {
      "text/plain": [
       "{'model_id': 'string',\n",
       " 'model_source': 'string',\n",
       " 'model_language': {'_type': 'string', '_default': 'sbml'},\n",
       " 'model_name': {'_type': 'string', '_default': 'composite_process_model'},\n",
       " 'model_changes': {'species_changes': 'tree[string]',\n",
       "  'global_parameter_changes': 'tree[string]',\n",
       "  'reaction_changes': 'tree[string]'},\n",
       " 'model_units': 'tree[string]'}"
      ]
     },
     "execution_count": 9,
     "metadata": {},
     "output_type": "execute_result"
    }
   ],
   "source": [
    "from biosimulator_processes.process_types import  MODEL_TYPE\n",
    "\n",
    "MODEL_TYPE"
   ]
  },
  {
   "cell_type": "code",
   "execution_count": 40,
   "id": "b79dc6639a17e353",
   "metadata": {
    "ExecuteTime": {
     "end_time": "2024-02-29T22:52:19.098009Z",
     "start_time": "2024-02-29T22:52:19.072379Z"
    },
    "collapsed": false,
    "jupyter": {
     "outputs_hidden": false
    }
   },
   "outputs": [],
   "source": [
    "\n",
    "    "
   ]
  },
  {
   "cell_type": "code",
   "execution_count": 41,
   "id": "64f1c09a938354e2",
   "metadata": {
    "ExecuteTime": {
     "end_time": "2024-02-29T22:52:19.676325Z",
     "start_time": "2024-02-29T22:52:19.658003Z"
    },
    "collapsed": false,
    "jupyter": {
     "outputs_hidden": false
    }
   },
   "outputs": [],
   "source": [
    "species_changes = ModelChange(config={\n",
    "    'A': {\n",
    "        'initial_expression': 'A -> B'\n",
    "    }\n",
    "})\n",
    "\n",
    "global_params_changes = ModelChange(config={\n",
    "    'Bol': {\n",
    "        'unit': 'ml'\n",
    "    }\n",
    "})\n",
    "\n",
    "model_changes = ModelChanges(species_changes=species_changes, global_parameter_changes=global_params_changes)\n",
    "\n",
    "\n",
    "model = SedModel(\n",
    "    model_id='BIO232423',\n",
    "    model_source='uri:2424',\n",
    "    model_language='sbml',\n",
    "    model_name='Glyc',\n",
    "    model_changes=model_changes\n",
    ")\n"
   ]
  },
  {
   "cell_type": "code",
   "execution_count": 42,
   "id": "dd7bc7acafe252fd",
   "metadata": {
    "ExecuteTime": {
     "end_time": "2024-02-29T22:52:20.659250Z",
     "start_time": "2024-02-29T22:52:20.644293Z"
    },
    "collapsed": false,
    "jupyter": {
     "outputs_hidden": false
    }
   },
   "outputs": [
    {
     "data": {
      "text/plain": [
       "{'model_id': 'BIO232423',\n",
       " 'model_source': 'uri:2424',\n",
       " 'model_language': 'sbml',\n",
       " 'model_name': 'Glyc',\n",
       " 'model_changes': {'species_changes': {'config': {'A': {'initial_expression': 'A -> B'}}},\n",
       "  'global_parameter_changes': {'config': {'Bol': {'unit': 'ml'}}},\n",
       "  'reaction_changes': None}}"
      ]
     },
     "execution_count": 42,
     "metadata": {},
     "output_type": "execute_result"
    }
   ],
   "source": [
    "model.model_dump()"
   ]
  },
  {
   "cell_type": "code",
   "execution_count": 6,
   "id": "503863ee-0a58-44b3-accc-20e0167b947b",
   "metadata": {
    "ExecuteTime": {
     "end_time": "2024-02-29T22:18:04.150647Z",
     "start_time": "2024-02-29T22:18:03.537292Z"
    }
   },
   "outputs": [
    {
     "ename": "Exception",
     "evalue": "config key kdeg not in config_schema for CopasiProcess",
     "output_type": "error",
     "traceback": [
      "\u001b[0;31m---------------------------------------------------------------------------\u001b[0m",
      "\u001b[0;31mException\u001b[0m                                 Traceback (most recent call last)",
      "Cell \u001b[0;32mIn[6], line 1\u001b[0m\n\u001b[0;32m----> 1\u001b[0m \u001b[43mb\u001b[49m\u001b[43m[\u001b[49m\u001b[38;5;124;43m'\u001b[39;49m\u001b[38;5;124;43mcopasi_A\u001b[39;49m\u001b[38;5;124;43m'\u001b[39;49m\u001b[43m]\u001b[49m\u001b[38;5;241;43m.\u001b[39;49m\u001b[43madd_process\u001b[49m\u001b[43m(\u001b[49m\n\u001b[1;32m      2\u001b[0m \u001b[43m    \u001b[49m\u001b[43mname\u001b[49m\u001b[38;5;241;43m=\u001b[39;49m\u001b[38;5;124;43m'\u001b[39;49m\u001b[38;5;124;43mCopasiProcess\u001b[39;49m\u001b[38;5;124;43m'\u001b[39;49m\u001b[43m,\u001b[49m\n\u001b[1;32m      3\u001b[0m \u001b[43m    \u001b[49m\u001b[43mkdeg\u001b[49m\u001b[38;5;241;43m=\u001b[39;49m\u001b[38;5;241;43m1.0\u001b[39;49m\u001b[43m,\u001b[49m\u001b[43m  \u001b[49m\u001b[38;5;66;43;03m# kwargs fill parameters in the config\u001b[39;49;00m\n\u001b[1;32m      4\u001b[0m \u001b[43m)\u001b[49m\n",
      "File \u001b[0;32m~/Library/Caches/pypoetry/virtualenvs/biosimulator-processes-KVuYbFzt-py3.10/lib/python3.10/site-packages/builder/builder_api.py:148\u001b[0m, in \u001b[0;36mBuilderNode.add_process\u001b[0;34m(self, name, config, inputs, outputs, **kwargs)\u001b[0m\n\u001b[1;32m    139\u001b[0m state \u001b[38;5;241m=\u001b[39m {\n\u001b[1;32m    140\u001b[0m     \u001b[38;5;124m'\u001b[39m\u001b[38;5;124m_type\u001b[39m\u001b[38;5;124m'\u001b[39m: edge_type,\n\u001b[1;32m    141\u001b[0m     \u001b[38;5;124m'\u001b[39m\u001b[38;5;124maddress\u001b[39m\u001b[38;5;124m'\u001b[39m: \u001b[38;5;124mf\u001b[39m\u001b[38;5;124m'\u001b[39m\u001b[38;5;124mlocal:\u001b[39m\u001b[38;5;132;01m{\u001b[39;00mname\u001b[38;5;132;01m}\u001b[39;00m\u001b[38;5;124m'\u001b[39m,  \u001b[38;5;66;03m# TODO -- only support local right now?\u001b[39;00m\n\u001b[0;32m   (...)\u001b[0m\n\u001b[1;32m    144\u001b[0m     \u001b[38;5;124m'\u001b[39m\u001b[38;5;124moutputs\u001b[39m\u001b[38;5;124m'\u001b[39m: {} \u001b[38;5;28;01mif\u001b[39;00m outputs \u001b[38;5;129;01mis\u001b[39;00m \u001b[38;5;28;01mNone\u001b[39;00m \u001b[38;5;28;01melse\u001b[39;00m outputs,\n\u001b[1;32m    145\u001b[0m }\n\u001b[1;32m    147\u001b[0m set_path(tree\u001b[38;5;241m=\u001b[39m\u001b[38;5;28mself\u001b[39m\u001b[38;5;241m.\u001b[39mbuilder\u001b[38;5;241m.\u001b[39mtree, path\u001b[38;5;241m=\u001b[39m\u001b[38;5;28mself\u001b[39m\u001b[38;5;241m.\u001b[39mpath, value\u001b[38;5;241m=\u001b[39mstate)\n\u001b[0;32m--> 148\u001b[0m \u001b[38;5;28;43mself\u001b[39;49m\u001b[38;5;241;43m.\u001b[39;49m\u001b[43mbuilder\u001b[49m\u001b[38;5;241;43m.\u001b[39;49m\u001b[43mcomplete\u001b[49m\u001b[43m(\u001b[49m\u001b[43m)\u001b[49m\n",
      "File \u001b[0;32m~/Library/Caches/pypoetry/virtualenvs/biosimulator-processes-KVuYbFzt-py3.10/lib/python3.10/site-packages/builder/builder_api.py:233\u001b[0m, in \u001b[0;36mBuilder.complete\u001b[0;34m(self)\u001b[0m\n\u001b[1;32m    232\u001b[0m \u001b[38;5;28;01mdef\u001b[39;00m \u001b[38;5;21mcomplete\u001b[39m(\u001b[38;5;28mself\u001b[39m):\n\u001b[0;32m--> 233\u001b[0m     \u001b[38;5;28mself\u001b[39m\u001b[38;5;241m.\u001b[39mschema, \u001b[38;5;28mself\u001b[39m\u001b[38;5;241m.\u001b[39mtree \u001b[38;5;241m=\u001b[39m \u001b[38;5;28;43mself\u001b[39;49m\u001b[38;5;241;43m.\u001b[39;49m\u001b[43mcore\u001b[49m\u001b[38;5;241;43m.\u001b[39;49m\u001b[43mcomplete\u001b[49m\u001b[43m(\u001b[49m\u001b[38;5;28;43mself\u001b[39;49m\u001b[38;5;241;43m.\u001b[39;49m\u001b[43mschema\u001b[49m\u001b[43m,\u001b[49m\u001b[43m \u001b[49m\u001b[38;5;28;43mself\u001b[39;49m\u001b[38;5;241;43m.\u001b[39;49m\u001b[43mtree\u001b[49m\u001b[43m)\u001b[49m\n",
      "File \u001b[0;32m~/Library/Caches/pypoetry/virtualenvs/biosimulator-processes-KVuYbFzt-py3.10/lib/python3.10/site-packages/bigraph_schema/type_system.py:1334\u001b[0m, in \u001b[0;36mTypeSystem.complete\u001b[0;34m(self, initial_schema, initial_state)\u001b[0m\n\u001b[1;32m   1328\u001b[0m state \u001b[38;5;241m=\u001b[39m \u001b[38;5;28mself\u001b[39m\u001b[38;5;241m.\u001b[39mhydrate(\n\u001b[1;32m   1329\u001b[0m     full_schema,\n\u001b[1;32m   1330\u001b[0m     initial_state)\n\u001b[1;32m   1332\u001b[0m \u001b[38;5;66;03m# fill in the parts of the composition schema\u001b[39;00m\n\u001b[1;32m   1333\u001b[0m \u001b[38;5;66;03m# determined by the state\u001b[39;00m\n\u001b[0;32m-> 1334\u001b[0m schema, state \u001b[38;5;241m=\u001b[39m \u001b[38;5;28;43mself\u001b[39;49m\u001b[38;5;241;43m.\u001b[39;49m\u001b[43minfer_schema\u001b[49m\u001b[43m(\u001b[49m\n\u001b[1;32m   1335\u001b[0m \u001b[43m    \u001b[49m\u001b[43mfull_schema\u001b[49m\u001b[43m,\u001b[49m\n\u001b[1;32m   1336\u001b[0m \u001b[43m    \u001b[49m\u001b[43mstate\u001b[49m\u001b[43m)\u001b[49m\n\u001b[1;32m   1338\u001b[0m final_state \u001b[38;5;241m=\u001b[39m \u001b[38;5;28mself\u001b[39m\u001b[38;5;241m.\u001b[39mfill(schema, state)\n\u001b[1;32m   1340\u001b[0m \u001b[38;5;66;03m# TODO: add flag to types.access(copy=True)\u001b[39;00m\n",
      "File \u001b[0;32m~/Library/Caches/pypoetry/virtualenvs/biosimulator-processes-KVuYbFzt-py3.10/lib/python3.10/site-packages/process_bigraph/composite.py:270\u001b[0m, in \u001b[0;36mProcessTypes.infer_schema\u001b[0;34m(self, schema, state, top_state, path)\u001b[0m\n\u001b[1;32m    267\u001b[0m             inner_path \u001b[38;5;241m=\u001b[39m path \u001b[38;5;241m+\u001b[39m (key,)\n\u001b[1;32m    268\u001b[0m             \u001b[38;5;28;01mif\u001b[39;00m get_path(schema, inner_path) \u001b[38;5;129;01mis\u001b[39;00m \u001b[38;5;28;01mNone\u001b[39;00m \u001b[38;5;129;01mor\u001b[39;00m get_path(state, inner_path) \u001b[38;5;129;01mis\u001b[39;00m \u001b[38;5;28;01mNone\u001b[39;00m \u001b[38;5;129;01mor\u001b[39;00m (\n\u001b[1;32m    269\u001b[0m                     \u001b[38;5;28misinstance\u001b[39m(value, \u001b[38;5;28mdict\u001b[39m) \u001b[38;5;129;01mand\u001b[39;00m \u001b[38;5;124m'\u001b[39m\u001b[38;5;124m_type\u001b[39m\u001b[38;5;124m'\u001b[39m \u001b[38;5;129;01min\u001b[39;00m value):\n\u001b[0;32m--> 270\u001b[0m                 schema, top_state \u001b[38;5;241m=\u001b[39m \u001b[38;5;28;43mself\u001b[39;49m\u001b[38;5;241;43m.\u001b[39;49m\u001b[43minfer_schema\u001b[49m\u001b[43m(\u001b[49m\n\u001b[1;32m    271\u001b[0m \u001b[43m                    \u001b[49m\u001b[43mschema\u001b[49m\u001b[43m,\u001b[49m\n\u001b[1;32m    272\u001b[0m \u001b[43m                    \u001b[49m\u001b[43mvalue\u001b[49m\u001b[43m,\u001b[49m\n\u001b[1;32m    273\u001b[0m \u001b[43m                    \u001b[49m\u001b[43mtop_state\u001b[49m\u001b[38;5;241;43m=\u001b[39;49m\u001b[43mtop_state\u001b[49m\u001b[43m,\u001b[49m\n\u001b[1;32m    274\u001b[0m \u001b[43m                    \u001b[49m\u001b[43mpath\u001b[49m\u001b[38;5;241;43m=\u001b[39;49m\u001b[43minner_path\u001b[49m\u001b[43m)\u001b[49m\n\u001b[1;32m    276\u001b[0m \u001b[38;5;28;01melif\u001b[39;00m \u001b[38;5;28misinstance\u001b[39m(state, \u001b[38;5;28mstr\u001b[39m):\n\u001b[1;32m    277\u001b[0m     \u001b[38;5;28;01mpass\u001b[39;00m\n",
      "File \u001b[0;32m~/Library/Caches/pypoetry/virtualenvs/biosimulator-processes-KVuYbFzt-py3.10/lib/python3.10/site-packages/process_bigraph/composite.py:222\u001b[0m, in \u001b[0;36mProcessTypes.infer_schema\u001b[0;34m(self, schema, state, top_state, path)\u001b[0m\n\u001b[1;32m    219\u001b[0m state_type \u001b[38;5;241m=\u001b[39m state[\u001b[38;5;124m'\u001b[39m\u001b[38;5;124m_type\u001b[39m\u001b[38;5;124m'\u001b[39m]\n\u001b[1;32m    220\u001b[0m state_schema \u001b[38;5;241m=\u001b[39m \u001b[38;5;28mself\u001b[39m\u001b[38;5;241m.\u001b[39maccess(state_type)\n\u001b[0;32m--> 222\u001b[0m hydrated_state \u001b[38;5;241m=\u001b[39m \u001b[38;5;28;43mself\u001b[39;49m\u001b[38;5;241;43m.\u001b[39;49m\u001b[43mdeserialize\u001b[49m\u001b[43m(\u001b[49m\u001b[43mstate_schema\u001b[49m\u001b[43m,\u001b[49m\u001b[43m \u001b[49m\u001b[43mstate\u001b[49m\u001b[43m)\u001b[49m\n\u001b[1;32m    223\u001b[0m top_state \u001b[38;5;241m=\u001b[39m set_path(\n\u001b[1;32m    224\u001b[0m     top_state,\n\u001b[1;32m    225\u001b[0m     path,\n\u001b[1;32m    226\u001b[0m     hydrated_state)\n\u001b[1;32m    228\u001b[0m schema \u001b[38;5;241m=\u001b[39m set_path(\n\u001b[1;32m    229\u001b[0m     schema,\n\u001b[1;32m    230\u001b[0m     path,\n\u001b[1;32m    231\u001b[0m     {\u001b[38;5;124m'\u001b[39m\u001b[38;5;124m_type\u001b[39m\u001b[38;5;124m'\u001b[39m: state_type})\n",
      "File \u001b[0;32m~/Library/Caches/pypoetry/virtualenvs/biosimulator-processes-KVuYbFzt-py3.10/lib/python3.10/site-packages/bigraph_schema/type_system.py:675\u001b[0m, in \u001b[0;36mTypeSystem.deserialize\u001b[0;34m(self, schema, encoded)\u001b[0m\n\u001b[1;32m    672\u001b[0m     \u001b[38;5;28;01mif\u001b[39;00m encoded \u001b[38;5;129;01mis\u001b[39;00m \u001b[38;5;28;01mNone\u001b[39;00m:\n\u001b[1;32m    673\u001b[0m         encoded \u001b[38;5;241m=\u001b[39m \u001b[38;5;28mself\u001b[39m\u001b[38;5;241m.\u001b[39mdefault(schema)\n\u001b[0;32m--> 675\u001b[0m     \u001b[38;5;28;01mreturn\u001b[39;00m \u001b[43mdeserialize_function\u001b[49m\u001b[43m(\u001b[49m\n\u001b[1;32m    676\u001b[0m \u001b[43m        \u001b[49m\u001b[43mfound\u001b[49m\u001b[43m,\u001b[49m\n\u001b[1;32m    677\u001b[0m \u001b[43m        \u001b[49m\u001b[43mencoded\u001b[49m\u001b[43m,\u001b[49m\n\u001b[1;32m    678\u001b[0m \u001b[43m        \u001b[49m\u001b[38;5;28;43mself\u001b[39;49m\u001b[43m)\u001b[49m\n\u001b[1;32m    680\u001b[0m \u001b[38;5;28;01melif\u001b[39;00m \u001b[38;5;28misinstance\u001b[39m(encoded, \u001b[38;5;28mdict\u001b[39m):\n\u001b[1;32m    681\u001b[0m     result \u001b[38;5;241m=\u001b[39m {}\n",
      "File \u001b[0;32m~/Library/Caches/pypoetry/virtualenvs/biosimulator-processes-KVuYbFzt-py3.10/lib/python3.10/site-packages/process_bigraph/composite.py:95\u001b[0m, in \u001b[0;36mdeserialize_process\u001b[0;34m(schema, encoded, core)\u001b[0m\n\u001b[1;32m     90\u001b[0m interval \u001b[38;5;241m=\u001b[39m core\u001b[38;5;241m.\u001b[39mdeserialize(\n\u001b[1;32m     91\u001b[0m     \u001b[38;5;124m'\u001b[39m\u001b[38;5;124minterval\u001b[39m\u001b[38;5;124m'\u001b[39m,\n\u001b[1;32m     92\u001b[0m     encoded\u001b[38;5;241m.\u001b[39mget(\u001b[38;5;124m'\u001b[39m\u001b[38;5;124minterval\u001b[39m\u001b[38;5;124m'\u001b[39m))\n\u001b[1;32m     94\u001b[0m \u001b[38;5;28;01mif\u001b[39;00m \u001b[38;5;129;01mnot\u001b[39;00m \u001b[38;5;124m'\u001b[39m\u001b[38;5;124minstance\u001b[39m\u001b[38;5;124m'\u001b[39m \u001b[38;5;129;01min\u001b[39;00m deserialized:\n\u001b[0;32m---> 95\u001b[0m     process \u001b[38;5;241m=\u001b[39m \u001b[43minstantiate\u001b[49m\u001b[43m(\u001b[49m\u001b[43mconfig\u001b[49m\u001b[43m,\u001b[49m\u001b[43m \u001b[49m\u001b[43mcore\u001b[49m\u001b[38;5;241;43m=\u001b[39;49m\u001b[43mcore\u001b[49m\u001b[43m)\u001b[49m\n\u001b[1;32m     96\u001b[0m     deserialized[\u001b[38;5;124m'\u001b[39m\u001b[38;5;124minstance\u001b[39m\u001b[38;5;124m'\u001b[39m] \u001b[38;5;241m=\u001b[39m process\n\u001b[1;32m     98\u001b[0m deserialized[\u001b[38;5;124m'\u001b[39m\u001b[38;5;124mconfig\u001b[39m\u001b[38;5;124m'\u001b[39m] \u001b[38;5;241m=\u001b[39m config\n",
      "File \u001b[0;32m~/Desktop/uchc_work/biosimulator-processes/biosimulator_processes/processes/copasi_process.py:121\u001b[0m, in \u001b[0;36mCopasiProcess.__init__\u001b[0;34m(self, config, core)\u001b[0m\n\u001b[1;32m    120\u001b[0m \u001b[38;5;28;01mdef\u001b[39;00m \u001b[38;5;21m__init__\u001b[39m(\u001b[38;5;28mself\u001b[39m, config\u001b[38;5;241m=\u001b[39m\u001b[38;5;28;01mNone\u001b[39;00m, core\u001b[38;5;241m=\u001b[39m\u001b[38;5;28;01mNone\u001b[39;00m):\n\u001b[0;32m--> 121\u001b[0m     \u001b[38;5;28;43msuper\u001b[39;49m\u001b[43m(\u001b[49m\u001b[43m)\u001b[49m\u001b[38;5;241;43m.\u001b[39;49m\u001b[38;5;21;43m__init__\u001b[39;49m\u001b[43m(\u001b[49m\u001b[43mconfig\u001b[49m\u001b[43m,\u001b[49m\u001b[43m \u001b[49m\u001b[43mcore\u001b[49m\u001b[43m)\u001b[49m\n\u001b[1;32m    123\u001b[0m     model_file \u001b[38;5;241m=\u001b[39m \u001b[38;5;28mself\u001b[39m\u001b[38;5;241m.\u001b[39mconfig\u001b[38;5;241m.\u001b[39mget(\u001b[38;5;124m'\u001b[39m\u001b[38;5;124mmodel\u001b[39m\u001b[38;5;124m'\u001b[39m)\u001b[38;5;241m.\u001b[39mget(\u001b[38;5;124m'\u001b[39m\u001b[38;5;124mmodel_source\u001b[39m\u001b[38;5;124m'\u001b[39m)\n\u001b[1;32m    124\u001b[0m     sed_model_id \u001b[38;5;241m=\u001b[39m \u001b[38;5;28mself\u001b[39m\u001b[38;5;241m.\u001b[39mconfig\u001b[38;5;241m.\u001b[39mget(\u001b[38;5;124m'\u001b[39m\u001b[38;5;124mmodel\u001b[39m\u001b[38;5;124m'\u001b[39m)\u001b[38;5;241m.\u001b[39mget(\u001b[38;5;124m'\u001b[39m\u001b[38;5;124mmodel_id\u001b[39m\u001b[38;5;124m'\u001b[39m)\n",
      "File \u001b[0;32m~/Library/Caches/pypoetry/virtualenvs/biosimulator-processes-KVuYbFzt-py3.10/lib/python3.10/site-packages/process_bigraph/composite.py:438\u001b[0m, in \u001b[0;36mProcess.__init__\u001b[0;34m(self, config, core)\u001b[0m\n\u001b[1;32m    436\u001b[0m \u001b[38;5;28;01mfor\u001b[39;00m key \u001b[38;5;129;01min\u001b[39;00m config\u001b[38;5;241m.\u001b[39mkeys():\n\u001b[1;32m    437\u001b[0m     \u001b[38;5;28;01mif\u001b[39;00m key \u001b[38;5;129;01mnot\u001b[39;00m \u001b[38;5;129;01min\u001b[39;00m \u001b[38;5;28mself\u001b[39m\u001b[38;5;241m.\u001b[39mconfig_schema:\n\u001b[0;32m--> 438\u001b[0m         \u001b[38;5;28;01mraise\u001b[39;00m \u001b[38;5;167;01mException\u001b[39;00m(\u001b[38;5;124mf\u001b[39m\u001b[38;5;124m'\u001b[39m\u001b[38;5;124mconfig key \u001b[39m\u001b[38;5;132;01m{\u001b[39;00mkey\u001b[38;5;132;01m}\u001b[39;00m\u001b[38;5;124m not in config_schema for \u001b[39m\u001b[38;5;132;01m{\u001b[39;00m\u001b[38;5;28mself\u001b[39m\u001b[38;5;241m.\u001b[39m\u001b[38;5;18m__class__\u001b[39m\u001b[38;5;241m.\u001b[39m\u001b[38;5;18m__name__\u001b[39m\u001b[38;5;132;01m}\u001b[39;00m\u001b[38;5;124m'\u001b[39m)\n\u001b[1;32m    440\u001b[0m \u001b[38;5;66;03m# fill in defaults for config\u001b[39;00m\n\u001b[1;32m    441\u001b[0m \u001b[38;5;28mself\u001b[39m\u001b[38;5;241m.\u001b[39mconfig \u001b[38;5;241m=\u001b[39m \u001b[38;5;28mself\u001b[39m\u001b[38;5;241m.\u001b[39mcore\u001b[38;5;241m.\u001b[39mfill(\n\u001b[1;32m    442\u001b[0m     \u001b[38;5;28mself\u001b[39m\u001b[38;5;241m.\u001b[39mconfig_schema,\n\u001b[1;32m    443\u001b[0m     config)\n",
      "\u001b[0;31mException\u001b[0m: config key kdeg not in config_schema for CopasiProcess"
     ]
    }
   ],
   "source": [
    "copasi_config = \n",
    "b['copasi_A'].add_process(\n",
    "    name='CopasiProcess',\n",
    "    kdeg=1.0,  # kwargs fill parameters in the config\n",
    ")"
   ]
  },
  {
   "cell_type": "code",
   "execution_count": 10,
   "id": "b094f1e5-5202-48d0-8bdd-57bbdded7fd1",
   "metadata": {},
   "outputs": [
    {
     "data": {
      "image/svg+xml": [
       "<?xml version=\"1.0\" encoding=\"UTF-8\" standalone=\"no\"?>\n",
       "<!DOCTYPE svg PUBLIC \"-//W3C//DTD SVG 1.1//EN\"\n",
       " \"http://www.w3.org/Graphics/SVG/1.1/DTD/svg11.dtd\">\n",
       "<!-- Generated by graphviz version 9.0.0 (0)\n",
       " -->\n",
       "<!-- Title: bigraph Pages: 1 -->\n",
       "<svg width=\"123pt\" height=\"200pt\"\n",
       " viewBox=\"0.00 0.00 126.45 205.99\" xmlns=\"http://www.w3.org/2000/svg\" xmlns:xlink=\"http://www.w3.org/1999/xlink\">\n",
       "<g id=\"graph0\" class=\"graph\" transform=\"scale(0.972222 0.972222) rotate(0) translate(4 201.99)\">\n",
       "<title>bigraph</title>\n",
       "<polygon fill=\"white\" stroke=\"none\" points=\"-4,4 -4,-201.99 122.45,-201.99 122.45,4 -4,4\"/>\n",
       "<!-- (&#39;event_process&#39;, &#39;interval&#39;) -->\n",
       "<g id=\"node1\" class=\"node\">\n",
       "<title>(&#39;event_process&#39;, &#39;interval&#39;)</title>\n",
       "<ellipse fill=\"none\" stroke=\"black\" stroke-width=\"2\" cx=\"52.87\" cy=\"-25.92\" rx=\"25.92\" ry=\"25.92\"/>\n",
       "<text text-anchor=\"start\" x=\"34.54\" y=\"-22.32\" font-family=\"Times,serif\" font-size=\"12.00\">interval</text>\n",
       "</g>\n",
       "<!-- (&#39;event_process&#39;,) -->\n",
       "<g id=\"node2\" class=\"node\">\n",
       "<title>(&#39;event_process&#39;,)</title>\n",
       "<polygon fill=\"none\" stroke=\"black\" stroke-width=\"2\" points=\"90.46,-124.84 15.28,-124.84 15.28,-88.84 90.46,-88.84 90.46,-124.84\"/>\n",
       "<text text-anchor=\"start\" x=\"18.88\" y=\"-103.24\" font-family=\"Times,serif\" font-size=\"12.00\">event_process</text>\n",
       "</g>\n",
       "<!-- (&#39;event_process&#39;,)&#45;&gt;(&#39;event_process&#39;, &#39;interval&#39;) -->\n",
       "<g id=\"edge1\" class=\"edge\">\n",
       "<title>(&#39;event_process&#39;,)&#45;&gt;(&#39;event_process&#39;, &#39;interval&#39;)</title>\n",
       "<path fill=\"none\" stroke=\"black\" stroke-width=\"2\" d=\"M52.87,-87.93C52.87,-77.47 52.87,-64.1 52.87,-52.54\"/>\n",
       "</g>\n",
       "<!-- (&#39;event_process&#39;, &#39;m&#39;, &#39;R&#39;, &#39;N&#39;, &#39;A&#39;) -->\n",
       "<!-- (&#39;event_process&#39;, &#39;m&#39;, &#39;R&#39;, &#39;N&#39;, &#39;A&#39;)&#45;&gt;(&#39;event_process&#39;,) -->\n",
       "<g id=\"edge2\" class=\"edge\">\n",
       "<title>(&#39;event_process&#39;, &#39;m&#39;, &#39;R&#39;, &#39;N&#39;, &#39;A&#39;)&#45;&gt;(&#39;event_process&#39;,)</title>\n",
       "<path fill=\"none\" stroke=\"black\" stroke-dasharray=\"5,2\" d=\"M16.05,-175.21C6.81,-167.14 -4.1,-154.4 1.98,-142.84 3.8,-139.36 6.15,-136.17 8.83,-133.24\"/>\n",
       "<polygon fill=\"black\" stroke=\"black\" points=\"10.95,-136.04 15.98,-126.72 6.24,-130.87 10.95,-136.04\"/>\n",
       "<text text-anchor=\"start\" x=\"2.87\" y=\"-144.84\" font-family=\"Times,serif\" font-size=\"10.00\">mRNA</text>\n",
       "</g>\n",
       "<!-- (&#39;event_process&#39;, &#39;m&#39;, &#39;R&#39;, &#39;N&#39;, &#39;A&#39;)&#45;&gt;(&#39;event_process&#39;,) -->\n",
       "<g id=\"edge4\" class=\"edge\">\n",
       "<title>(&#39;event_process&#39;, &#39;m&#39;, &#39;R&#39;, &#39;N&#39;, &#39;A&#39;)&#45;&gt;(&#39;event_process&#39;,)</title>\n",
       "<path fill=\"none\" stroke=\"black\" stroke-dasharray=\"5,2\" d=\"M34.92,-160C38.71,-148.99 43.16,-136.06 46.68,-125.83\"/>\n",
       "<polygon fill=\"black\" stroke=\"black\" points=\"31.72,-158.57 31.77,-169.16 38.33,-160.85 31.72,-158.57\"/>\n",
       "<text text-anchor=\"start\" x=\"40.87\" y=\"-144.84\" font-family=\"Times,serif\" font-size=\"10.00\">mRNA</text>\n",
       "</g>\n",
       "<!-- (&#39;event_process&#39;, &#39;D&#39;, &#39;N&#39;, &#39;A&#39;) -->\n",
       "<!-- (&#39;event_process&#39;, &#39;D&#39;, &#39;N&#39;, &#39;A&#39;)&#45;&gt;(&#39;event_process&#39;,) -->\n",
       "<g id=\"edge3\" class=\"edge\">\n",
       "<title>(&#39;event_process&#39;, &#39;D&#39;, &#39;N&#39;, &#39;A&#39;)&#45;&gt;(&#39;event_process&#39;,)</title>\n",
       "<path fill=\"none\" stroke=\"black\" stroke-dasharray=\"5,2\" d=\"M97.2,-172.26C90.49,-162.51 80.47,-147.95 71.65,-135.13\"/>\n",
       "<polygon fill=\"black\" stroke=\"black\" points=\"74.62,-133.28 66.07,-127.03 68.86,-137.25 74.62,-133.28\"/>\n",
       "<text text-anchor=\"start\" x=\"82.87\" y=\"-144.84\" font-family=\"Times,serif\" font-size=\"10.00\">DNA</text>\n",
       "</g>\n",
       "</g>\n",
       "</svg>\n"
      ],
      "text/plain": [
       "<graphviz.graphs.Digraph at 0x106c12c40>"
      ]
     },
     "execution_count": 10,
     "metadata": {},
     "output_type": "execute_result"
    }
   ],
   "source": [
    "# visualize shows the process with its disconnected ports\n",
    "b.visualize()"
   ]
  },
  {
   "cell_type": "markdown",
   "id": "0238392e-5d1f-403d-98c9-785576a0d91b",
   "metadata": {},
   "source": [
    "### print ports"
   ]
  },
  {
   "cell_type": "code",
   "execution_count": 11,
   "id": "5ea31425-a8bb-45c3-a31d-77714cc8c137",
   "metadata": {},
   "outputs": [
    {
     "name": "stdout",
     "output_type": "stream",
     "text": [
      "{ '_inputs': { 'DNA': {'A gene': 'float', 'B gene': 'float'},\n",
      "               'mRNA': 'map[float]'},\n",
      "  '_outputs': {'mRNA': 'map[float]'}}\n"
     ]
    }
   ],
   "source": [
    "b['event_process'].interface(True)"
   ]
  },
  {
   "cell_type": "markdown",
   "id": "8068e0af-ebdd-4f01-8c54-4fb3b07fc21e",
   "metadata": {},
   "source": [
    "### connect ports using connect_all\n",
    "`Builder.connect_all` connects ports to stores of the same name."
   ]
  },
  {
   "cell_type": "code",
   "execution_count": 12,
   "id": "c9f462bb-5316-4724-aa8e-b3b71eb379b2",
   "metadata": {},
   "outputs": [
    {
     "data": {
      "text/plain": [
       "Builder({ 'event_process': { '_type': 'process',\n",
       "                     'address': 'local:GillespieEvent',\n",
       "                     'config': {'kdeg': 1.0, 'ktsc': 5.0},\n",
       "                     'inputs': {'DNA': ['DNA_store'], 'mRNA': ['mRNA_store']},\n",
       "                     'instance': <process_bigraph.experiments.minimal_gillespie.GillespieEvent object at 0x106c12dc0>,\n",
       "                     'interval': 1.0,\n",
       "                     'outputs': {'mRNA': ['mRNA_store']}}})"
      ]
     },
     "execution_count": 12,
     "metadata": {},
     "output_type": "execute_result"
    }
   ],
   "source": [
    "b.connect_all(append_to_store_name='_store')\n",
    "b"
   ]
  },
  {
   "cell_type": "code",
   "execution_count": 13,
   "id": "79809baf-1d87-475a-b85f-3729f4716cb4",
   "metadata": {},
   "outputs": [
    {
     "data": {
      "image/svg+xml": [
       "<?xml version=\"1.0\" encoding=\"UTF-8\" standalone=\"no\"?>\n",
       "<!DOCTYPE svg PUBLIC \"-//W3C//DTD SVG 1.1//EN\"\n",
       " \"http://www.w3.org/Graphics/SVG/1.1/DTD/svg11.dtd\">\n",
       "<!-- Generated by graphviz version 9.0.0 (0)\n",
       " -->\n",
       "<!-- Title: bigraph Pages: 1 -->\n",
       "<svg width=\"252pt\" height=\"268pt\"\n",
       " viewBox=\"0.00 0.00 259.23 275.31\" xmlns=\"http://www.w3.org/2000/svg\" xmlns:xlink=\"http://www.w3.org/1999/xlink\">\n",
       "<g id=\"graph0\" class=\"graph\" transform=\"scale(0.972222 0.972222) rotate(0) translate(4 271.31)\">\n",
       "<title>bigraph</title>\n",
       "<polygon fill=\"white\" stroke=\"none\" points=\"-4,4 -4,-271.31 255.23,-271.31 255.23,4 -4,4\"/>\n",
       "<!-- (&#39;event_process&#39;, &#39;interval&#39;) -->\n",
       "<g id=\"node1\" class=\"node\">\n",
       "<title>(&#39;event_process&#39;, &#39;interval&#39;)</title>\n",
       "<ellipse fill=\"none\" stroke=\"black\" stroke-width=\"2\" cx=\"72.08\" cy=\"-25.92\" rx=\"25.92\" ry=\"25.92\"/>\n",
       "<text text-anchor=\"start\" x=\"53.76\" y=\"-22.32\" font-family=\"Times,serif\" font-size=\"12.00\">interval</text>\n",
       "</g>\n",
       "<!-- (&#39;mRNA_store&#39;,) -->\n",
       "<g id=\"node2\" class=\"node\">\n",
       "<title>(&#39;mRNA_store&#39;,)</title>\n",
       "<ellipse fill=\"none\" stroke=\"black\" stroke-width=\"2\" cx=\"42.08\" cy=\"-225.23\" rx=\"42.08\" ry=\"42.08\"/>\n",
       "<text text-anchor=\"start\" x=\"10.08\" y=\"-221.63\" font-family=\"Times,serif\" font-size=\"12.00\">mRNA_store</text>\n",
       "</g>\n",
       "<!-- (&#39;event_process&#39;,) -->\n",
       "<g id=\"node6\" class=\"node\">\n",
       "<title>(&#39;event_process&#39;,)</title>\n",
       "<polygon fill=\"none\" stroke=\"black\" stroke-width=\"2\" points=\"109.67,-130.99 34.5,-130.99 34.5,-94.99 109.67,-94.99 109.67,-130.99\"/>\n",
       "<text text-anchor=\"start\" x=\"38.1\" y=\"-109.39\" font-family=\"Times,serif\" font-size=\"12.00\">event_process</text>\n",
       "</g>\n",
       "<!-- (&#39;mRNA_store&#39;,)&#45;&gt;(&#39;event_process&#39;,) -->\n",
       "<g id=\"edge4\" class=\"edge\">\n",
       "<title>(&#39;mRNA_store&#39;,)&#45;&gt;(&#39;event_process&#39;,)</title>\n",
       "<path fill=\"none\" stroke=\"black\" stroke-dasharray=\"5,2\" d=\"M21.11,-187.95C17.5,-177.14 16.28,-165.43 21.19,-155.14 24.01,-149.23 28.15,-143.9 32.86,-139.18\"/>\n",
       "<polygon fill=\"black\" stroke=\"black\" points=\"34.88,-142.06 40.06,-132.82 30.25,-136.81 34.88,-142.06\"/>\n",
       "<text text-anchor=\"start\" x=\"22.08\" y=\"-157.14\" font-family=\"Times,serif\" font-size=\"10.00\">mRNA</text>\n",
       "</g>\n",
       "<!-- (&#39;mRNA_store&#39;,)&#45;&gt;(&#39;event_process&#39;,) -->\n",
       "<g id=\"edge6\" class=\"edge\">\n",
       "<title>(&#39;mRNA_store&#39;,)&#45;&gt;(&#39;event_process&#39;,)</title>\n",
       "<path fill=\"none\" stroke=\"black\" stroke-dasharray=\"5,2\" d=\"M56.09,-172.74C60.08,-158.1 64.16,-143.11 67.2,-131.93\"/>\n",
       "<polygon fill=\"black\" stroke=\"black\" points=\"52.73,-171.78 53.48,-182.34 59.48,-173.61 52.73,-171.78\"/>\n",
       "<text text-anchor=\"start\" x=\"61.08\" y=\"-157.14\" font-family=\"Times,serif\" font-size=\"10.00\">mRNA</text>\n",
       "</g>\n",
       "<!-- (&#39;DNA_store&#39;,) -->\n",
       "<g id=\"node3\" class=\"node\">\n",
       "<title>(&#39;DNA_store&#39;,)</title>\n",
       "<ellipse fill=\"none\" stroke=\"black\" stroke-width=\"2\" cx=\"161.08\" cy=\"-225.23\" rx=\"36.96\" ry=\"36.96\"/>\n",
       "<text text-anchor=\"start\" x=\"133.42\" y=\"-221.63\" font-family=\"Times,serif\" font-size=\"12.00\">DNA_store</text>\n",
       "</g>\n",
       "<!-- (&#39;DNA_store&#39;, &#39;A gene&#39;) -->\n",
       "<g id=\"node4\" class=\"node\">\n",
       "<title>(&#39;DNA_store&#39;, &#39;A gene&#39;)</title>\n",
       "<ellipse fill=\"none\" stroke=\"black\" stroke-width=\"2\" cx=\"161.08\" cy=\"-112.99\" rx=\"24.15\" ry=\"24.15\"/>\n",
       "<text text-anchor=\"start\" x=\"144.25\" y=\"-109.39\" font-family=\"Times,serif\" font-size=\"12.00\">A gene</text>\n",
       "</g>\n",
       "<!-- (&#39;DNA_store&#39;,)&#45;&gt;(&#39;DNA_store&#39;, &#39;A gene&#39;) -->\n",
       "<g id=\"edge2\" class=\"edge\">\n",
       "<title>(&#39;DNA_store&#39;,)&#45;&gt;(&#39;DNA_store&#39;, &#39;A gene&#39;)</title>\n",
       "<path fill=\"none\" stroke=\"black\" stroke-width=\"2\" d=\"M161.08,-187.52C161.08,-171.24 161.08,-152.53 161.08,-138.06\"/>\n",
       "</g>\n",
       "<!-- (&#39;DNA_store&#39;, &#39;B gene&#39;) -->\n",
       "<g id=\"node5\" class=\"node\">\n",
       "<title>(&#39;DNA_store&#39;, &#39;B gene&#39;)</title>\n",
       "<ellipse fill=\"none\" stroke=\"black\" stroke-width=\"2\" cx=\"227.08\" cy=\"-112.99\" rx=\"24.15\" ry=\"24.15\"/>\n",
       "<text text-anchor=\"start\" x=\"210.25\" y=\"-109.39\" font-family=\"Times,serif\" font-size=\"12.00\">B gene</text>\n",
       "</g>\n",
       "<!-- (&#39;DNA_store&#39;,)&#45;&gt;(&#39;DNA_store&#39;, &#39;B gene&#39;) -->\n",
       "<g id=\"edge3\" class=\"edge\">\n",
       "<title>(&#39;DNA_store&#39;,)&#45;&gt;(&#39;DNA_store&#39;, &#39;B gene&#39;)</title>\n",
       "<path fill=\"none\" stroke=\"black\" stroke-width=\"2\" d=\"M180,-192.64C191.12,-174.06 204.87,-151.09 214.63,-134.78\"/>\n",
       "</g>\n",
       "<!-- (&#39;DNA_store&#39;,)&#45;&gt;(&#39;event_process&#39;,) -->\n",
       "<g id=\"edge5\" class=\"edge\">\n",
       "<title>(&#39;DNA_store&#39;,)&#45;&gt;(&#39;event_process&#39;,)</title>\n",
       "<path fill=\"none\" stroke=\"black\" stroke-dasharray=\"5,2\" d=\"M137.93,-195.55C124.2,-178.54 106.91,-157.13 93.5,-140.51\"/>\n",
       "<polygon fill=\"black\" stroke=\"black\" points=\"96.44,-138.59 87.44,-133.01 91,-142.99 96.44,-138.59\"/>\n",
       "<text text-anchor=\"start\" x=\"112.08\" y=\"-157.14\" font-family=\"Times,serif\" font-size=\"10.00\">DNA</text>\n",
       "</g>\n",
       "<!-- (&#39;event_process&#39;,)&#45;&gt;(&#39;event_process&#39;, &#39;interval&#39;) -->\n",
       "<g id=\"edge1\" class=\"edge\">\n",
       "<title>(&#39;event_process&#39;,)&#45;&gt;(&#39;event_process&#39;, &#39;interval&#39;)</title>\n",
       "<path fill=\"none\" stroke=\"black\" stroke-width=\"2\" d=\"M72.08,-94.36C72.08,-82.29 72.08,-66.09 72.08,-52.6\"/>\n",
       "</g>\n",
       "</g>\n",
       "</svg>\n"
      ],
      "text/plain": [
       "<graphviz.graphs.Digraph at 0x106c12f10>"
      ]
     },
     "execution_count": 13,
     "metadata": {},
     "output_type": "execute_result"
    }
   ],
   "source": [
    "b.visualize()"
   ]
  },
  {
   "cell_type": "markdown",
   "id": "c7687da5-6992-447b-a51b-14373984597f",
   "metadata": {},
   "source": [
    "### add interval process to the config"
   ]
  },
  {
   "cell_type": "code",
   "execution_count": 14,
   "id": "f02c15797bdb73b8",
   "metadata": {
    "ExecuteTime": {
     "start_time": "2024-01-21T21:29:21.997588Z"
    },
    "collapsed": false,
    "jupyter": {
     "outputs_hidden": false
    }
   },
   "outputs": [],
   "source": [
    "b['interval_process'].add_process(\n",
    "    name='GillespieInterval',\n",
    ")"
   ]
  },
  {
   "cell_type": "code",
   "execution_count": 15,
   "id": "aeb344bcd6a120ae",
   "metadata": {
    "ExecuteTime": {
     "start_time": "2024-01-21T21:29:21.998661Z"
    },
    "collapsed": false,
    "jupyter": {
     "outputs_hidden": false
    }
   },
   "outputs": [
    {
     "data": {
      "image/svg+xml": [
       "<?xml version=\"1.0\" encoding=\"UTF-8\" standalone=\"no\"?>\n",
       "<!DOCTYPE svg PUBLIC \"-//W3C//DTD SVG 1.1//EN\"\n",
       " \"http://www.w3.org/Graphics/SVG/1.1/DTD/svg11.dtd\">\n",
       "<!-- Generated by graphviz version 9.0.0 (0)\n",
       " -->\n",
       "<!-- Title: bigraph Pages: 1 -->\n",
       "<svg width=\"375pt\" height=\"268pt\"\n",
       " viewBox=\"0.00 0.00 385.66 275.31\" xmlns=\"http://www.w3.org/2000/svg\" xmlns:xlink=\"http://www.w3.org/1999/xlink\">\n",
       "<g id=\"graph0\" class=\"graph\" transform=\"scale(0.972222 0.972222) rotate(0) translate(4 271.31)\">\n",
       "<title>bigraph</title>\n",
       "<polygon fill=\"white\" stroke=\"none\" points=\"-4,4 -4,-271.31 381.66,-271.31 381.66,4 -4,4\"/>\n",
       "<!-- (&#39;event_process&#39;, &#39;interval&#39;) -->\n",
       "<g id=\"node1\" class=\"node\">\n",
       "<title>(&#39;event_process&#39;, &#39;interval&#39;)</title>\n",
       "<ellipse fill=\"none\" stroke=\"black\" stroke-width=\"2\" cx=\"72.08\" cy=\"-25.92\" rx=\"25.92\" ry=\"25.92\"/>\n",
       "<text text-anchor=\"start\" x=\"53.76\" y=\"-22.32\" font-family=\"Times,serif\" font-size=\"12.00\">interval</text>\n",
       "</g>\n",
       "<!-- (&#39;mRNA_store&#39;,) -->\n",
       "<g id=\"node2\" class=\"node\">\n",
       "<title>(&#39;mRNA_store&#39;,)</title>\n",
       "<ellipse fill=\"none\" stroke=\"black\" stroke-width=\"2\" cx=\"42.08\" cy=\"-225.23\" rx=\"42.08\" ry=\"42.08\"/>\n",
       "<text text-anchor=\"start\" x=\"10.08\" y=\"-221.63\" font-family=\"Times,serif\" font-size=\"12.00\">mRNA_store</text>\n",
       "</g>\n",
       "<!-- (&#39;event_process&#39;,) -->\n",
       "<g id=\"node6\" class=\"node\">\n",
       "<title>(&#39;event_process&#39;,)</title>\n",
       "<polygon fill=\"none\" stroke=\"black\" stroke-width=\"2\" points=\"109.67,-130.99 34.5,-130.99 34.5,-94.99 109.67,-94.99 109.67,-130.99\"/>\n",
       "<text text-anchor=\"start\" x=\"38.1\" y=\"-109.39\" font-family=\"Times,serif\" font-size=\"12.00\">event_process</text>\n",
       "</g>\n",
       "<!-- (&#39;mRNA_store&#39;,)&#45;&gt;(&#39;event_process&#39;,) -->\n",
       "<g id=\"edge4\" class=\"edge\">\n",
       "<title>(&#39;mRNA_store&#39;,)&#45;&gt;(&#39;event_process&#39;,)</title>\n",
       "<path fill=\"none\" stroke=\"black\" stroke-dasharray=\"5,2\" d=\"M21.11,-187.95C17.5,-177.14 16.28,-165.43 21.19,-155.14 24.01,-149.23 28.15,-143.9 32.86,-139.18\"/>\n",
       "<polygon fill=\"black\" stroke=\"black\" points=\"34.88,-142.06 40.06,-132.82 30.25,-136.81 34.88,-142.06\"/>\n",
       "<text text-anchor=\"start\" x=\"22.08\" y=\"-157.14\" font-family=\"Times,serif\" font-size=\"10.00\">mRNA</text>\n",
       "</g>\n",
       "<!-- (&#39;mRNA_store&#39;,)&#45;&gt;(&#39;event_process&#39;,) -->\n",
       "<g id=\"edge6\" class=\"edge\">\n",
       "<title>(&#39;mRNA_store&#39;,)&#45;&gt;(&#39;event_process&#39;,)</title>\n",
       "<path fill=\"none\" stroke=\"black\" stroke-dasharray=\"5,2\" d=\"M56.09,-172.74C60.08,-158.1 64.16,-143.11 67.2,-131.93\"/>\n",
       "<polygon fill=\"black\" stroke=\"black\" points=\"52.73,-171.78 53.48,-182.34 59.48,-173.61 52.73,-171.78\"/>\n",
       "<text text-anchor=\"start\" x=\"61.08\" y=\"-157.14\" font-family=\"Times,serif\" font-size=\"10.00\">mRNA</text>\n",
       "</g>\n",
       "<!-- (&#39;DNA_store&#39;,) -->\n",
       "<g id=\"node3\" class=\"node\">\n",
       "<title>(&#39;DNA_store&#39;,)</title>\n",
       "<ellipse fill=\"none\" stroke=\"black\" stroke-width=\"2\" cx=\"161.08\" cy=\"-225.23\" rx=\"36.96\" ry=\"36.96\"/>\n",
       "<text text-anchor=\"start\" x=\"133.42\" y=\"-221.63\" font-family=\"Times,serif\" font-size=\"12.00\">DNA_store</text>\n",
       "</g>\n",
       "<!-- (&#39;DNA_store&#39;, &#39;A gene&#39;) -->\n",
       "<g id=\"node4\" class=\"node\">\n",
       "<title>(&#39;DNA_store&#39;, &#39;A gene&#39;)</title>\n",
       "<ellipse fill=\"none\" stroke=\"black\" stroke-width=\"2\" cx=\"161.08\" cy=\"-112.99\" rx=\"24.15\" ry=\"24.15\"/>\n",
       "<text text-anchor=\"start\" x=\"144.25\" y=\"-109.39\" font-family=\"Times,serif\" font-size=\"12.00\">A gene</text>\n",
       "</g>\n",
       "<!-- (&#39;DNA_store&#39;,)&#45;&gt;(&#39;DNA_store&#39;, &#39;A gene&#39;) -->\n",
       "<g id=\"edge2\" class=\"edge\">\n",
       "<title>(&#39;DNA_store&#39;,)&#45;&gt;(&#39;DNA_store&#39;, &#39;A gene&#39;)</title>\n",
       "<path fill=\"none\" stroke=\"black\" stroke-width=\"2\" d=\"M161.08,-187.52C161.08,-171.24 161.08,-152.53 161.08,-138.06\"/>\n",
       "</g>\n",
       "<!-- (&#39;DNA_store&#39;, &#39;B gene&#39;) -->\n",
       "<g id=\"node5\" class=\"node\">\n",
       "<title>(&#39;DNA_store&#39;, &#39;B gene&#39;)</title>\n",
       "<ellipse fill=\"none\" stroke=\"black\" stroke-width=\"2\" cx=\"227.08\" cy=\"-112.99\" rx=\"24.15\" ry=\"24.15\"/>\n",
       "<text text-anchor=\"start\" x=\"210.25\" y=\"-109.39\" font-family=\"Times,serif\" font-size=\"12.00\">B gene</text>\n",
       "</g>\n",
       "<!-- (&#39;DNA_store&#39;,)&#45;&gt;(&#39;DNA_store&#39;, &#39;B gene&#39;) -->\n",
       "<g id=\"edge3\" class=\"edge\">\n",
       "<title>(&#39;DNA_store&#39;,)&#45;&gt;(&#39;DNA_store&#39;, &#39;B gene&#39;)</title>\n",
       "<path fill=\"none\" stroke=\"black\" stroke-width=\"2\" d=\"M180,-192.64C191.12,-174.06 204.87,-151.09 214.63,-134.78\"/>\n",
       "</g>\n",
       "<!-- (&#39;DNA_store&#39;,)&#45;&gt;(&#39;event_process&#39;,) -->\n",
       "<g id=\"edge5\" class=\"edge\">\n",
       "<title>(&#39;DNA_store&#39;,)&#45;&gt;(&#39;event_process&#39;,)</title>\n",
       "<path fill=\"none\" stroke=\"black\" stroke-dasharray=\"5,2\" d=\"M137.93,-195.55C124.2,-178.54 106.91,-157.13 93.5,-140.51\"/>\n",
       "<polygon fill=\"black\" stroke=\"black\" points=\"96.44,-138.59 87.44,-133.01 91,-142.99 96.44,-138.59\"/>\n",
       "<text text-anchor=\"start\" x=\"112.08\" y=\"-157.14\" font-family=\"Times,serif\" font-size=\"10.00\">DNA</text>\n",
       "</g>\n",
       "<!-- (&#39;event_process&#39;,)&#45;&gt;(&#39;event_process&#39;, &#39;interval&#39;) -->\n",
       "<g id=\"edge1\" class=\"edge\">\n",
       "<title>(&#39;event_process&#39;,)&#45;&gt;(&#39;event_process&#39;, &#39;interval&#39;)</title>\n",
       "<path fill=\"none\" stroke=\"black\" stroke-width=\"2\" d=\"M72.08,-94.36C72.08,-82.29 72.08,-66.09 72.08,-52.6\"/>\n",
       "</g>\n",
       "<!-- (&#39;interval_process&#39;,) -->\n",
       "<g id=\"node7\" class=\"node\">\n",
       "<title>(&#39;interval_process&#39;,)</title>\n",
       "<polygon fill=\"none\" stroke=\"black\" stroke-width=\"2\" points=\"355,-130.99 269.16,-130.99 269.16,-94.99 355,-94.99 355,-130.99\"/>\n",
       "<text text-anchor=\"start\" x=\"272.76\" y=\"-109.39\" font-family=\"Times,serif\" font-size=\"12.00\">interval_process</text>\n",
       "</g>\n",
       "<!-- (&#39;interval_process&#39;, &#39;D&#39;, &#39;N&#39;, &#39;A&#39;) -->\n",
       "<!-- (&#39;interval_process&#39;, &#39;D&#39;, &#39;N&#39;, &#39;A&#39;)&#45;&gt;(&#39;interval_process&#39;,) -->\n",
       "<g id=\"edge7\" class=\"edge\">\n",
       "<title>(&#39;interval_process&#39;, &#39;D&#39;, &#39;N&#39;, &#39;A&#39;)&#45;&gt;(&#39;interval_process&#39;,)</title>\n",
       "<path fill=\"none\" stroke=\"black\" stroke-dasharray=\"5,2\" d=\"M272.01,-200.26C275.24,-186.69 280.04,-169.6 286.42,-155.14 289.95,-147.13 294.85,-138.84 299.42,-131.81\"/>\n",
       "<polygon fill=\"black\" stroke=\"black\" points=\"268.68,-199.11 269.92,-209.64 275.51,-200.64 268.68,-199.11\"/>\n",
       "<text text-anchor=\"start\" x=\"287.08\" y=\"-157.14\" font-family=\"Times,serif\" font-size=\"10.00\">DNA</text>\n",
       "</g>\n",
       "<!-- (&#39;interval_process&#39;, &#39;m&#39;, &#39;R&#39;, &#39;N&#39;, &#39;A&#39;) -->\n",
       "<!-- (&#39;interval_process&#39;, &#39;m&#39;, &#39;R&#39;, &#39;N&#39;, &#39;A&#39;)&#45;&gt;(&#39;interval_process&#39;,) -->\n",
       "<g id=\"edge8\" class=\"edge\">\n",
       "<title>(&#39;interval_process&#39;, &#39;m&#39;, &#39;R&#39;, &#39;N&#39;, &#39;A&#39;)&#45;&gt;(&#39;interval_process&#39;,)</title>\n",
       "<path fill=\"none\" stroke=\"black\" stroke-dasharray=\"5,2\" d=\"M312.08,-199.38C312.08,-178.76 312.08,-149.94 312.08,-131.63\"/>\n",
       "<polygon fill=\"black\" stroke=\"black\" points=\"308.58,-199.2 312.08,-209.2 315.58,-199.2 308.58,-199.2\"/>\n",
       "<text text-anchor=\"start\" x=\"312.08\" y=\"-157.14\" font-family=\"Times,serif\" font-size=\"10.00\">mRNA</text>\n",
       "</g>\n",
       "<!-- (&#39;interval_process&#39;, &#39;i&#39;, &#39;n&#39;, &#39;t&#39;, &#39;e&#39;, &#39;r&#39;, &#39;v&#39;, &#39;a&#39;, &#39;l&#39;) -->\n",
       "<!-- (&#39;interval_process&#39;, &#39;i&#39;, &#39;n&#39;, &#39;t&#39;, &#39;e&#39;, &#39;r&#39;, &#39;v&#39;, &#39;a&#39;, &#39;l&#39;)&#45;&gt;(&#39;interval_process&#39;,) -->\n",
       "<g id=\"edge9\" class=\"edge\">\n",
       "<title>(&#39;interval_process&#39;, &#39;i&#39;, &#39;n&#39;, &#39;t&#39;, &#39;e&#39;, &#39;r&#39;, &#39;v&#39;, &#39;a&#39;, &#39;l&#39;)&#45;&gt;(&#39;interval_process&#39;,)</title>\n",
       "<path fill=\"none\" stroke=\"black\" stroke-dasharray=\"5,2\" d=\"M358.45,-200.09C354.77,-186.47 349.3,-169.39 342.08,-155.14 337.93,-146.94 332.2,-138.61 326.86,-131.61\"/>\n",
       "<polygon fill=\"black\" stroke=\"black\" points=\"354.99,-200.71 360.84,-209.54 361.78,-198.99 354.99,-200.71\"/>\n",
       "<text text-anchor=\"start\" x=\"346.08\" y=\"-157.14\" font-family=\"Times,serif\" font-size=\"10.00\">interval</text>\n",
       "</g>\n",
       "</g>\n",
       "</svg>\n"
      ],
      "text/plain": [
       "<graphviz.graphs.Digraph at 0x106c111c0>"
      ]
     },
     "execution_count": 15,
     "metadata": {},
     "output_type": "execute_result"
    }
   ],
   "source": [
    "b.visualize()"
   ]
  },
  {
   "cell_type": "markdown",
   "id": "be3f6695-80ed-4819-a121-de29c5cce23e",
   "metadata": {},
   "source": [
    "### connect port to specific target"
   ]
  },
  {
   "cell_type": "code",
   "execution_count": 16,
   "id": "a5a1f48a-41aa-4768-b931-ad268495d836",
   "metadata": {},
   "outputs": [],
   "source": [
    "# to connect a port in a more targeted way, use connect and specify the port and its target path\n",
    "b['interval_process'].connect(port='interval', target=['event_process', 'interval']) \n",
    "\n",
    "# the remaining ports can connect_all\n",
    "b.connect_all() "
   ]
  },
  {
   "cell_type": "code",
   "execution_count": 17,
   "id": "b21b54ae-49e8-47ad-bc88-1327a8e9d230",
   "metadata": {},
   "outputs": [
    {
     "data": {
      "image/svg+xml": [
       "<?xml version=\"1.0\" encoding=\"UTF-8\" standalone=\"no\"?>\n",
       "<!DOCTYPE svg PUBLIC \"-//W3C//DTD SVG 1.1//EN\"\n",
       " \"http://www.w3.org/Graphics/SVG/1.1/DTD/svg11.dtd\">\n",
       "<!-- Generated by graphviz version 9.0.0 (0)\n",
       " -->\n",
       "<!-- Title: bigraph Pages: 1 -->\n",
       "<svg width=\"404pt\" height=\"370pt\"\n",
       " viewBox=\"0.00 0.00 415.03 380.52\" xmlns=\"http://www.w3.org/2000/svg\" xmlns:xlink=\"http://www.w3.org/1999/xlink\">\n",
       "<g id=\"graph0\" class=\"graph\" transform=\"scale(0.972222 0.972222) rotate(0) translate(4 376.52)\">\n",
       "<title>bigraph</title>\n",
       "<polygon fill=\"white\" stroke=\"none\" points=\"-4,4 -4,-376.52 411.03,-376.52 411.03,4 -4,4\"/>\n",
       "<!-- (&#39;event_process&#39;, &#39;interval&#39;) -->\n",
       "<g id=\"node1\" class=\"node\">\n",
       "<title>(&#39;event_process&#39;, &#39;interval&#39;)</title>\n",
       "<ellipse fill=\"none\" stroke=\"black\" stroke-width=\"2\" cx=\"217.37\" cy=\"-107.92\" rx=\"25.92\" ry=\"25.92\"/>\n",
       "<text text-anchor=\"start\" x=\"199.04\" y=\"-104.32\" font-family=\"Times,serif\" font-size=\"12.00\">interval</text>\n",
       "</g>\n",
       "<!-- (&#39;interval_process&#39;,) -->\n",
       "<g id=\"node9\" class=\"node\">\n",
       "<title>(&#39;interval_process&#39;,)</title>\n",
       "<polygon fill=\"none\" stroke=\"black\" stroke-width=\"2\" points=\"260.29,-36 174.45,-36 174.45,0 260.29,0 260.29,-36\"/>\n",
       "<text text-anchor=\"start\" x=\"178.05\" y=\"-14.4\" font-family=\"Times,serif\" font-size=\"12.00\">interval_process</text>\n",
       "</g>\n",
       "<!-- (&#39;event_process&#39;, &#39;interval&#39;)&#45;&gt;(&#39;interval_process&#39;,) -->\n",
       "<g id=\"edge11\" class=\"edge\">\n",
       "<title>(&#39;event_process&#39;, &#39;interval&#39;)&#45;&gt;(&#39;interval_process&#39;,)</title>\n",
       "<path fill=\"none\" stroke=\"black\" stroke-dasharray=\"5,2\" d=\"M217.37,-69.57C217.37,-58.26 217.37,-46.34 217.37,-36.92\"/>\n",
       "<polygon fill=\"black\" stroke=\"black\" points=\"213.87,-69.5 217.37,-79.5 220.87,-69.5 213.87,-69.5\"/>\n",
       "<text text-anchor=\"start\" x=\"217.37\" y=\"-56\" font-family=\"Times,serif\" font-size=\"10.00\">interval</text>\n",
       "</g>\n",
       "<!-- (&#39;mRNA_store&#39;,) -->\n",
       "<g id=\"node2\" class=\"node\">\n",
       "<title>(&#39;mRNA_store&#39;,)</title>\n",
       "<ellipse fill=\"none\" stroke=\"black\" stroke-width=\"2\" cx=\"130.37\" cy=\"-330.43\" rx=\"42.08\" ry=\"42.08\"/>\n",
       "<text text-anchor=\"start\" x=\"98.37\" y=\"-326.83\" font-family=\"Times,serif\" font-size=\"12.00\">mRNA_store</text>\n",
       "</g>\n",
       "<!-- (&#39;mRNA_store&#39;, &#39;A mRNA&#39;) -->\n",
       "<g id=\"node3\" class=\"node\">\n",
       "<title>(&#39;mRNA_store&#39;, &#39;A mRNA&#39;)</title>\n",
       "<ellipse fill=\"none\" stroke=\"black\" stroke-width=\"2\" cx=\"49.37\" cy=\"-211.09\" rx=\"31.26\" ry=\"31.26\"/>\n",
       "<text text-anchor=\"start\" x=\"26.53\" y=\"-207.49\" font-family=\"Times,serif\" font-size=\"12.00\">A mRNA</text>\n",
       "</g>\n",
       "<!-- (&#39;mRNA_store&#39;,)&#45;&gt;(&#39;mRNA_store&#39;, &#39;A mRNA&#39;) -->\n",
       "<g id=\"edge2\" class=\"edge\">\n",
       "<title>(&#39;mRNA_store&#39;,)&#45;&gt;(&#39;mRNA_store&#39;, &#39;A mRNA&#39;)</title>\n",
       "<path fill=\"none\" stroke=\"black\" stroke-width=\"2\" d=\"M106.5,-294.86C93.9,-276.61 78.7,-254.59 67.15,-237.85\"/>\n",
       "</g>\n",
       "<!-- (&#39;mRNA_store&#39;, &#39;B mRNA&#39;) -->\n",
       "<g id=\"node4\" class=\"node\">\n",
       "<title>(&#39;mRNA_store&#39;, &#39;B mRNA&#39;)</title>\n",
       "<ellipse fill=\"none\" stroke=\"black\" stroke-width=\"2\" cx=\"130.37\" cy=\"-211.09\" rx=\"31.25\" ry=\"31.25\"/>\n",
       "<text text-anchor=\"start\" x=\"107.53\" y=\"-207.49\" font-family=\"Times,serif\" font-size=\"12.00\">B mRNA</text>\n",
       "</g>\n",
       "<!-- (&#39;mRNA_store&#39;,)&#45;&gt;(&#39;mRNA_store&#39;, &#39;B mRNA&#39;) -->\n",
       "<g id=\"edge3\" class=\"edge\">\n",
       "<title>(&#39;mRNA_store&#39;,)&#45;&gt;(&#39;mRNA_store&#39;, &#39;B mRNA&#39;)</title>\n",
       "<path fill=\"none\" stroke=\"black\" stroke-width=\"2\" d=\"M130.37,-287.4C130.37,-272.8 130.37,-256.71 130.37,-243.16\"/>\n",
       "</g>\n",
       "<!-- (&#39;event_process&#39;,) -->\n",
       "<g id=\"node8\" class=\"node\">\n",
       "<title>(&#39;event_process&#39;,)</title>\n",
       "<polygon fill=\"none\" stroke=\"black\" stroke-width=\"2\" points=\"254.96,-229.09 179.78,-229.09 179.78,-193.09 254.96,-193.09 254.96,-229.09\"/>\n",
       "<text text-anchor=\"start\" x=\"183.38\" y=\"-207.49\" font-family=\"Times,serif\" font-size=\"12.00\">event_process</text>\n",
       "</g>\n",
       "<!-- (&#39;mRNA_store&#39;,)&#45;&gt;(&#39;event_process&#39;,) -->\n",
       "<g id=\"edge6\" class=\"edge\">\n",
       "<title>(&#39;mRNA_store&#39;,)&#45;&gt;(&#39;event_process&#39;,)</title>\n",
       "<path fill=\"none\" stroke=\"black\" stroke-dasharray=\"5,2\" d=\"M146.37,-290.66C151.44,-280.36 157.56,-269.54 164.48,-260.35 170.68,-252.11 178.42,-244.14 186.04,-237.13\"/>\n",
       "<polygon fill=\"black\" stroke=\"black\" points=\"187.88,-240.18 193.06,-230.94 183.25,-234.93 187.88,-240.18\"/>\n",
       "<text text-anchor=\"start\" x=\"165.37\" y=\"-262.35\" font-family=\"Times,serif\" font-size=\"10.00\">mRNA</text>\n",
       "</g>\n",
       "<!-- (&#39;mRNA_store&#39;,)&#45;&gt;(&#39;event_process&#39;,) -->\n",
       "<g id=\"edge10\" class=\"edge\">\n",
       "<title>(&#39;mRNA_store&#39;,)&#45;&gt;(&#39;event_process&#39;,)</title>\n",
       "<path fill=\"none\" stroke=\"black\" stroke-dasharray=\"5,2\" d=\"M171.47,-295.75C179.41,-287.98 187.17,-279.33 193.37,-270.35 201.94,-257.93 208.25,-241.97 212.24,-229.9\"/>\n",
       "<polygon fill=\"black\" stroke=\"black\" points=\"169.52,-292.79 164.63,-302.19 174.31,-297.89 169.52,-292.79\"/>\n",
       "<text text-anchor=\"start\" x=\"199.37\" y=\"-262.35\" font-family=\"Times,serif\" font-size=\"10.00\">mRNA</text>\n",
       "</g>\n",
       "<!-- (&#39;mRNA_store&#39;,)&#45;&gt;(&#39;interval_process&#39;,) -->\n",
       "<g id=\"edge9\" class=\"edge\">\n",
       "<title>(&#39;mRNA_store&#39;,)&#45;&gt;(&#39;interval_process&#39;,)</title>\n",
       "<path fill=\"none\" stroke=\"black\" stroke-dasharray=\"5,2\" d=\"M91.21,-313.21C62.78,-299.09 26.42,-275.64 9.37,-242.35 -3.3,-217.62 -2.87,-204.78 9.37,-179.84 41.73,-113.9 115.59,-67.31 165.99,-41.79\"/>\n",
       "<polygon fill=\"black\" stroke=\"black\" points=\"167.28,-45.06 174.7,-37.49 164.18,-38.78 167.28,-45.06\"/>\n",
       "<text text-anchor=\"start\" x=\"26.37\" y=\"-153.84\" font-family=\"Times,serif\" font-size=\"10.00\">mRNA</text>\n",
       "</g>\n",
       "<!-- (&#39;DNA_store&#39;,) -->\n",
       "<g id=\"node5\" class=\"node\">\n",
       "<title>(&#39;DNA_store&#39;,)</title>\n",
       "<ellipse fill=\"none\" stroke=\"black\" stroke-width=\"2\" cx=\"333.37\" cy=\"-330.43\" rx=\"36.96\" ry=\"36.96\"/>\n",
       "<text text-anchor=\"start\" x=\"305.71\" y=\"-326.83\" font-family=\"Times,serif\" font-size=\"12.00\">DNA_store</text>\n",
       "</g>\n",
       "<!-- (&#39;DNA_store&#39;, &#39;A gene&#39;) -->\n",
       "<g id=\"node6\" class=\"node\">\n",
       "<title>(&#39;DNA_store&#39;, &#39;A gene&#39;)</title>\n",
       "<ellipse fill=\"none\" stroke=\"black\" stroke-width=\"2\" cx=\"297.37\" cy=\"-211.09\" rx=\"24.15\" ry=\"24.15\"/>\n",
       "<text text-anchor=\"start\" x=\"280.54\" y=\"-207.49\" font-family=\"Times,serif\" font-size=\"12.00\">A gene</text>\n",
       "</g>\n",
       "<!-- (&#39;DNA_store&#39;,)&#45;&gt;(&#39;DNA_store&#39;, &#39;A gene&#39;) -->\n",
       "<g id=\"edge4\" class=\"edge\">\n",
       "<title>(&#39;DNA_store&#39;,)&#45;&gt;(&#39;DNA_store&#39;, &#39;A gene&#39;)</title>\n",
       "<path fill=\"none\" stroke=\"black\" stroke-width=\"2\" d=\"M322.57,-294.23C316.69,-275.06 309.58,-251.88 304.41,-235.05\"/>\n",
       "</g>\n",
       "<!-- (&#39;DNA_store&#39;, &#39;B gene&#39;) -->\n",
       "<g id=\"node7\" class=\"node\">\n",
       "<title>(&#39;DNA_store&#39;, &#39;B gene&#39;)</title>\n",
       "<ellipse fill=\"none\" stroke=\"black\" stroke-width=\"2\" cx=\"363.37\" cy=\"-211.09\" rx=\"24.15\" ry=\"24.15\"/>\n",
       "<text text-anchor=\"start\" x=\"346.54\" y=\"-207.49\" font-family=\"Times,serif\" font-size=\"12.00\">B gene</text>\n",
       "</g>\n",
       "<!-- (&#39;DNA_store&#39;,)&#45;&gt;(&#39;DNA_store&#39;, &#39;B gene&#39;) -->\n",
       "<g id=\"edge5\" class=\"edge\">\n",
       "<title>(&#39;DNA_store&#39;,)&#45;&gt;(&#39;DNA_store&#39;, &#39;B gene&#39;)</title>\n",
       "<path fill=\"none\" stroke=\"black\" stroke-width=\"2\" d=\"M342.45,-293.91C347.31,-274.89 353.17,-252 357.44,-235.28\"/>\n",
       "</g>\n",
       "<!-- (&#39;DNA_store&#39;,)&#45;&gt;(&#39;event_process&#39;,) -->\n",
       "<g id=\"edge7\" class=\"edge\">\n",
       "<title>(&#39;DNA_store&#39;,)&#45;&gt;(&#39;event_process&#39;,)</title>\n",
       "<path fill=\"none\" stroke=\"black\" stroke-dasharray=\"5,2\" d=\"M307.34,-303.1C288.13,-283.68 262.13,-257.38 243.02,-238.04\"/>\n",
       "<polygon fill=\"black\" stroke=\"black\" points=\"245.62,-235.69 236.1,-231.04 240.64,-240.61 245.62,-235.69\"/>\n",
       "<text text-anchor=\"start\" x=\"272.37\" y=\"-262.35\" font-family=\"Times,serif\" font-size=\"10.00\">DNA</text>\n",
       "</g>\n",
       "<!-- (&#39;DNA_store&#39;,)&#45;&gt;(&#39;interval_process&#39;,) -->\n",
       "<g id=\"edge8\" class=\"edge\">\n",
       "<title>(&#39;DNA_store&#39;,)&#45;&gt;(&#39;interval_process&#39;,)</title>\n",
       "<path fill=\"none\" stroke=\"black\" stroke-dasharray=\"5,2\" d=\"M359.35,-302.93C373.26,-286.85 389.01,-265.07 396.37,-242.35 404.93,-215.92 407.68,-205.21 396.37,-179.84 368.67,-117.71 303.8,-69.55 260.24,-42.72\"/>\n",
       "<polygon fill=\"black\" stroke=\"black\" points=\"262.15,-39.78 251.78,-37.62 258.54,-45.78 262.15,-39.78\"/>\n",
       "<text text-anchor=\"start\" x=\"385.37\" y=\"-153.84\" font-family=\"Times,serif\" font-size=\"10.00\">DNA</text>\n",
       "</g>\n",
       "<!-- (&#39;event_process&#39;,)&#45;&gt;(&#39;event_process&#39;, &#39;interval&#39;) -->\n",
       "<g id=\"edge1\" class=\"edge\">\n",
       "<title>(&#39;event_process&#39;,)&#45;&gt;(&#39;event_process&#39;, &#39;interval&#39;)</title>\n",
       "<path fill=\"none\" stroke=\"black\" stroke-width=\"2\" d=\"M217.37,-192.47C217.37,-176.51 217.37,-152.78 217.37,-134.69\"/>\n",
       "</g>\n",
       "</g>\n",
       "</svg>\n"
      ],
      "text/plain": [
       "<graphviz.graphs.Digraph at 0x106c2c1c0>"
      ]
     },
     "execution_count": 17,
     "metadata": {},
     "output_type": "execute_result"
    }
   ],
   "source": [
    "b.visualize()"
   ]
  },
  {
   "cell_type": "markdown",
   "id": "ed3131ee-c607-42e5-88a3-930a84eedf0f",
   "metadata": {},
   "source": [
    "### check current Builder config"
   ]
  },
  {
   "cell_type": "code",
   "execution_count": 18,
   "id": "6e00749f-03b8-496e-9a10-106dbac3713f",
   "metadata": {},
   "outputs": [
    {
     "data": {
      "text/plain": [
       "Builder({ 'DNA_store': {'A gene': 0.0, 'B gene': 0.0},\n",
       "  'event_process': { '_type': 'process',\n",
       "                     'address': 'local:GillespieEvent',\n",
       "                     'config': {'kdeg': 1.0, 'ktsc': 5.0},\n",
       "                     'inputs': {'DNA': ['DNA_store'], 'mRNA': ['mRNA_store']},\n",
       "                     'instance': <process_bigraph.experiments.minimal_gillespie.GillespieEvent object at 0x106c12dc0>,\n",
       "                     'interval': 1.0,\n",
       "                     'outputs': {'mRNA': ['mRNA_store']}},\n",
       "  'interval_process': { '_type': 'step',\n",
       "                        'address': 'local:GillespieInterval',\n",
       "                        'config': {'kdeg': 0.1, 'ktsc': 5.0},\n",
       "                        'inputs': { 'DNA': ['DNA_store'],\n",
       "                                    'mRNA': ['mRNA_store']},\n",
       "                        'instance': <process_bigraph.experiments.minimal_gillespie.GillespieInterval object at 0x106c118b0>,\n",
       "                        'outputs': {'interval': ['event_process', 'interval']}},\n",
       "  'mRNA_store': {}})"
      ]
     },
     "execution_count": 18,
     "metadata": {},
     "output_type": "execute_result"
    }
   ],
   "source": [
    "b"
   ]
  },
  {
   "cell_type": "markdown",
   "id": "9fd708e8-0688-4b97-a50c-e3d0a1c78d83",
   "metadata": {},
   "source": [
    "## Update the initial state"
   ]
  },
  {
   "cell_type": "code",
   "execution_count": 19,
   "id": "212f4501-8050-4c39-88b8-986b3c38e716",
   "metadata": {},
   "outputs": [],
   "source": [
    "initial_state = {\n",
    "    'DNA_store': {\n",
    "        'A gene': 2.0,\n",
    "        'B gene': 1.0},\n",
    "}\n",
    "b.update(initial_state)"
   ]
  },
  {
   "cell_type": "markdown",
   "id": "305582d1-f701-4a55-88a3-f8ec21643033",
   "metadata": {},
   "source": [
    "## Generate composite from builder config and simulate"
   ]
  },
  {
   "cell_type": "code",
   "execution_count": 20,
   "id": "e9a69f36-154c-416e-b00c-5df0726be49e",
   "metadata": {},
   "outputs": [
    {
     "name": "stdout",
     "output_type": "stream",
     "text": [
      "produced interval: {'interval': 1.21174311488629}\n",
      "received interval: 1.21174311488629\n",
      "produced interval: {'interval': 30.66671505248375}\n"
     ]
    }
   ],
   "source": [
    "composite = b.generate()\n",
    "composite.run(10)"
   ]
  },
  {
   "cell_type": "code",
   "execution_count": 21,
   "id": "578492a9-027d-4c5b-b90a-7d63e3f46bc0",
   "metadata": {},
   "outputs": [
    {
     "data": {
      "text/plain": [
       "<process_bigraph.composite.Composite at 0x106c2c700>"
      ]
     },
     "execution_count": 21,
     "metadata": {},
     "output_type": "execute_result"
    }
   ],
   "source": [
    "composite"
   ]
  },
  {
   "cell_type": "markdown",
   "id": "743960b7-a6d3-41af-8737-2776a66c60cd",
   "metadata": {},
   "source": [
    "## Retrieve the composite document"
   ]
  },
  {
   "cell_type": "code",
   "execution_count": 22,
   "id": "c975aab012b2706f",
   "metadata": {
    "ExecuteTime": {
     "start_time": "2024-01-21T21:29:21.999855Z"
    },
    "collapsed": false,
    "jupyter": {
     "outputs_hidden": false
    }
   },
   "outputs": [
    {
     "data": {
      "text/plain": [
       "{'event_process': {'_type': 'process',\n",
       "  'address': 'local:GillespieEvent',\n",
       "  'config': {'kdeg': 1.0, 'ktsc': 5.0},\n",
       "  'inputs': {'mRNA': ['mRNA_store'], 'DNA': ['DNA_store']},\n",
       "  'outputs': {'mRNA': ['mRNA_store']},\n",
       "  'interval': 1.0},\n",
       " 'mRNA_store': {'A mRNA': '1.0', 'B mRNA': '1.0'},\n",
       " 'DNA_store': {'A gene': '2.0', 'B gene': '1.0'},\n",
       " 'interval_process': {'_type': 'step',\n",
       "  'address': 'local:GillespieInterval',\n",
       "  'config': {'ktsc': 5.0, 'kdeg': 0.1},\n",
       "  'inputs': {'DNA': ['DNA_store'], 'mRNA': ['mRNA_store']},\n",
       "  'outputs': {'interval': ['event_process', 'interval']}},\n",
       " 'global_time': '0.0'}"
      ]
     },
     "execution_count": 22,
     "metadata": {},
     "output_type": "execute_result"
    }
   ],
   "source": [
    "doc = b.document()\n",
    "doc"
   ]
  },
  {
   "cell_type": "markdown",
   "id": "b32a13ed-134d-4de1-a1ed-b72807b4af45",
   "metadata": {},
   "source": [
    "### save the document to file"
   ]
  },
  {
   "cell_type": "code",
   "execution_count": 23,
   "id": "752e43636bf9fd17",
   "metadata": {
    "ExecuteTime": {
     "start_time": "2024-01-21T21:29:22.001078Z"
    },
    "collapsed": false,
    "jupyter": {
     "outputs_hidden": false
    }
   },
   "outputs": [
    {
     "name": "stdout",
     "output_type": "stream",
     "text": [
      "File 'toy_bigraph' successfully written in 'out' directory.\n"
     ]
    }
   ],
   "source": [
    "b.write(filename='toy_bigraph')"
   ]
  },
  {
   "cell_type": "markdown",
   "id": "ebdd7599-0b0e-4f79-a8ab-d507a81646d8",
   "metadata": {
    "ExecuteTime": {
     "start_time": "2024-01-21T21:29:22.001943Z"
    },
    "collapsed": false,
    "jupyter": {
     "outputs_hidden": false
    }
   },
   "source": [
    "### load a composite from document\n",
    "This document represents the full state of the composite, and so can reproduce the previous composite when loaded into a fresh Builder"
   ]
  },
  {
   "cell_type": "code",
   "execution_count": 26,
   "id": "56b14beb-27de-469d-b4e6-10fc628e15e0",
   "metadata": {},
   "outputs": [
    {
     "data": {
      "text/plain": [
       "Builder({ 'DNA_store': {'A gene': '2.0', 'B gene': '1.0'},\n",
       "  'event_process': { '_type': 'process',\n",
       "                     'address': 'local:GillespieEvent',\n",
       "                     'config': {'kdeg': 1.0, 'ktsc': 5.0},\n",
       "                     'inputs': {'DNA': ['DNA_store'], 'mRNA': ['mRNA_store']},\n",
       "                     'instance': <process_bigraph.experiments.minimal_gillespie.GillespieEvent object at 0x105271250>,\n",
       "                     'interval': 1.0,\n",
       "                     'outputs': {'mRNA': ['mRNA_store']}},\n",
       "  'global_time': '0.0',\n",
       "  'interval_process': { '_type': 'step',\n",
       "                        'address': 'local:GillespieInterval',\n",
       "                        'config': {'kdeg': 0.1, 'ktsc': 5.0},\n",
       "                        'inputs': { 'DNA': ['DNA_store'],\n",
       "                                    'mRNA': ['mRNA_store']},\n",
       "                        'instance': <process_bigraph.experiments.minimal_gillespie.GillespieInterval object at 0x105271130>,\n",
       "                        'outputs': {'interval': ['event_process', 'interval']}},\n",
       "  'mRNA_store': {'A mRNA': '1.0', 'B mRNA': '1.0'}})"
      ]
     },
     "execution_count": 26,
     "metadata": {},
     "output_type": "execute_result"
    }
   ],
   "source": [
    "b2 = Builder(core=core, file_path='out/toy_bigraph.json')\n",
    "b2"
   ]
  },
  {
   "cell_type": "code",
   "execution_count": 27,
   "id": "6197f4c3-41ca-468b-929f-cc0ebc1fabe9",
   "metadata": {},
   "outputs": [
    {
     "data": {
      "image/svg+xml": [
       "<?xml version=\"1.0\" encoding=\"UTF-8\" standalone=\"no\"?>\n",
       "<!DOCTYPE svg PUBLIC \"-//W3C//DTD SVG 1.1//EN\"\n",
       " \"http://www.w3.org/Graphics/SVG/1.1/DTD/svg11.dtd\">\n",
       "<!-- Generated by graphviz version 9.0.0 (0)\n",
       " -->\n",
       "<!-- Title: bigraph Pages: 1 -->\n",
       "<svg width=\"404pt\" height=\"370pt\"\n",
       " viewBox=\"0.00 0.00 415.03 380.52\" xmlns=\"http://www.w3.org/2000/svg\" xmlns:xlink=\"http://www.w3.org/1999/xlink\">\n",
       "<g id=\"graph0\" class=\"graph\" transform=\"scale(0.972222 0.972222) rotate(0) translate(4 376.52)\">\n",
       "<title>bigraph</title>\n",
       "<polygon fill=\"white\" stroke=\"none\" points=\"-4,4 -4,-376.52 411.03,-376.52 411.03,4 -4,4\"/>\n",
       "<!-- (&#39;event_process&#39;, &#39;interval&#39;) -->\n",
       "<g id=\"node1\" class=\"node\">\n",
       "<title>(&#39;event_process&#39;, &#39;interval&#39;)</title>\n",
       "<ellipse fill=\"none\" stroke=\"black\" stroke-width=\"2\" cx=\"217.37\" cy=\"-107.92\" rx=\"25.92\" ry=\"25.92\"/>\n",
       "<text text-anchor=\"start\" x=\"199.04\" y=\"-104.32\" font-family=\"Times,serif\" font-size=\"12.00\">interval</text>\n",
       "</g>\n",
       "<!-- (&#39;interval_process&#39;,) -->\n",
       "<g id=\"node9\" class=\"node\">\n",
       "<title>(&#39;interval_process&#39;,)</title>\n",
       "<polygon fill=\"none\" stroke=\"black\" stroke-width=\"2\" points=\"260.29,-36 174.45,-36 174.45,0 260.29,0 260.29,-36\"/>\n",
       "<text text-anchor=\"start\" x=\"178.05\" y=\"-14.4\" font-family=\"Times,serif\" font-size=\"12.00\">interval_process</text>\n",
       "</g>\n",
       "<!-- (&#39;event_process&#39;, &#39;interval&#39;)&#45;&gt;(&#39;interval_process&#39;,) -->\n",
       "<g id=\"edge11\" class=\"edge\">\n",
       "<title>(&#39;event_process&#39;, &#39;interval&#39;)&#45;&gt;(&#39;interval_process&#39;,)</title>\n",
       "<path fill=\"none\" stroke=\"black\" stroke-dasharray=\"5,2\" d=\"M217.37,-69.57C217.37,-58.26 217.37,-46.34 217.37,-36.92\"/>\n",
       "<polygon fill=\"black\" stroke=\"black\" points=\"213.87,-69.5 217.37,-79.5 220.87,-69.5 213.87,-69.5\"/>\n",
       "<text text-anchor=\"start\" x=\"217.37\" y=\"-56\" font-family=\"Times,serif\" font-size=\"10.00\">interval</text>\n",
       "</g>\n",
       "<!-- (&#39;mRNA_store&#39;,) -->\n",
       "<g id=\"node2\" class=\"node\">\n",
       "<title>(&#39;mRNA_store&#39;,)</title>\n",
       "<ellipse fill=\"none\" stroke=\"black\" stroke-width=\"2\" cx=\"130.37\" cy=\"-330.43\" rx=\"42.08\" ry=\"42.08\"/>\n",
       "<text text-anchor=\"start\" x=\"98.37\" y=\"-326.83\" font-family=\"Times,serif\" font-size=\"12.00\">mRNA_store</text>\n",
       "</g>\n",
       "<!-- (&#39;mRNA_store&#39;, &#39;A mRNA&#39;) -->\n",
       "<g id=\"node3\" class=\"node\">\n",
       "<title>(&#39;mRNA_store&#39;, &#39;A mRNA&#39;)</title>\n",
       "<ellipse fill=\"none\" stroke=\"black\" stroke-width=\"2\" cx=\"49.37\" cy=\"-211.09\" rx=\"31.26\" ry=\"31.26\"/>\n",
       "<text text-anchor=\"start\" x=\"26.53\" y=\"-207.49\" font-family=\"Times,serif\" font-size=\"12.00\">A mRNA</text>\n",
       "</g>\n",
       "<!-- (&#39;mRNA_store&#39;,)&#45;&gt;(&#39;mRNA_store&#39;, &#39;A mRNA&#39;) -->\n",
       "<g id=\"edge2\" class=\"edge\">\n",
       "<title>(&#39;mRNA_store&#39;,)&#45;&gt;(&#39;mRNA_store&#39;, &#39;A mRNA&#39;)</title>\n",
       "<path fill=\"none\" stroke=\"black\" stroke-width=\"2\" d=\"M106.5,-294.86C93.9,-276.61 78.7,-254.59 67.15,-237.85\"/>\n",
       "</g>\n",
       "<!-- (&#39;mRNA_store&#39;, &#39;B mRNA&#39;) -->\n",
       "<g id=\"node4\" class=\"node\">\n",
       "<title>(&#39;mRNA_store&#39;, &#39;B mRNA&#39;)</title>\n",
       "<ellipse fill=\"none\" stroke=\"black\" stroke-width=\"2\" cx=\"130.37\" cy=\"-211.09\" rx=\"31.25\" ry=\"31.25\"/>\n",
       "<text text-anchor=\"start\" x=\"107.53\" y=\"-207.49\" font-family=\"Times,serif\" font-size=\"12.00\">B mRNA</text>\n",
       "</g>\n",
       "<!-- (&#39;mRNA_store&#39;,)&#45;&gt;(&#39;mRNA_store&#39;, &#39;B mRNA&#39;) -->\n",
       "<g id=\"edge3\" class=\"edge\">\n",
       "<title>(&#39;mRNA_store&#39;,)&#45;&gt;(&#39;mRNA_store&#39;, &#39;B mRNA&#39;)</title>\n",
       "<path fill=\"none\" stroke=\"black\" stroke-width=\"2\" d=\"M130.37,-287.4C130.37,-272.8 130.37,-256.71 130.37,-243.16\"/>\n",
       "</g>\n",
       "<!-- (&#39;event_process&#39;,) -->\n",
       "<g id=\"node8\" class=\"node\">\n",
       "<title>(&#39;event_process&#39;,)</title>\n",
       "<polygon fill=\"none\" stroke=\"black\" stroke-width=\"2\" points=\"254.96,-229.09 179.78,-229.09 179.78,-193.09 254.96,-193.09 254.96,-229.09\"/>\n",
       "<text text-anchor=\"start\" x=\"183.38\" y=\"-207.49\" font-family=\"Times,serif\" font-size=\"12.00\">event_process</text>\n",
       "</g>\n",
       "<!-- (&#39;mRNA_store&#39;,)&#45;&gt;(&#39;event_process&#39;,) -->\n",
       "<g id=\"edge6\" class=\"edge\">\n",
       "<title>(&#39;mRNA_store&#39;,)&#45;&gt;(&#39;event_process&#39;,)</title>\n",
       "<path fill=\"none\" stroke=\"black\" stroke-dasharray=\"5,2\" d=\"M146.37,-290.66C151.44,-280.36 157.56,-269.54 164.48,-260.35 170.68,-252.11 178.42,-244.14 186.04,-237.13\"/>\n",
       "<polygon fill=\"black\" stroke=\"black\" points=\"187.88,-240.18 193.06,-230.94 183.25,-234.93 187.88,-240.18\"/>\n",
       "<text text-anchor=\"start\" x=\"165.37\" y=\"-262.35\" font-family=\"Times,serif\" font-size=\"10.00\">mRNA</text>\n",
       "</g>\n",
       "<!-- (&#39;mRNA_store&#39;,)&#45;&gt;(&#39;event_process&#39;,) -->\n",
       "<g id=\"edge10\" class=\"edge\">\n",
       "<title>(&#39;mRNA_store&#39;,)&#45;&gt;(&#39;event_process&#39;,)</title>\n",
       "<path fill=\"none\" stroke=\"black\" stroke-dasharray=\"5,2\" d=\"M171.47,-295.75C179.41,-287.98 187.17,-279.33 193.37,-270.35 201.94,-257.93 208.25,-241.97 212.24,-229.9\"/>\n",
       "<polygon fill=\"black\" stroke=\"black\" points=\"169.52,-292.79 164.63,-302.19 174.31,-297.89 169.52,-292.79\"/>\n",
       "<text text-anchor=\"start\" x=\"199.37\" y=\"-262.35\" font-family=\"Times,serif\" font-size=\"10.00\">mRNA</text>\n",
       "</g>\n",
       "<!-- (&#39;mRNA_store&#39;,)&#45;&gt;(&#39;interval_process&#39;,) -->\n",
       "<g id=\"edge9\" class=\"edge\">\n",
       "<title>(&#39;mRNA_store&#39;,)&#45;&gt;(&#39;interval_process&#39;,)</title>\n",
       "<path fill=\"none\" stroke=\"black\" stroke-dasharray=\"5,2\" d=\"M91.21,-313.21C62.78,-299.09 26.42,-275.64 9.37,-242.35 -3.3,-217.62 -2.87,-204.78 9.37,-179.84 41.73,-113.9 115.59,-67.31 165.99,-41.79\"/>\n",
       "<polygon fill=\"black\" stroke=\"black\" points=\"167.28,-45.06 174.7,-37.49 164.18,-38.78 167.28,-45.06\"/>\n",
       "<text text-anchor=\"start\" x=\"26.37\" y=\"-153.84\" font-family=\"Times,serif\" font-size=\"10.00\">mRNA</text>\n",
       "</g>\n",
       "<!-- (&#39;DNA_store&#39;,) -->\n",
       "<g id=\"node5\" class=\"node\">\n",
       "<title>(&#39;DNA_store&#39;,)</title>\n",
       "<ellipse fill=\"none\" stroke=\"black\" stroke-width=\"2\" cx=\"333.37\" cy=\"-330.43\" rx=\"36.96\" ry=\"36.96\"/>\n",
       "<text text-anchor=\"start\" x=\"305.71\" y=\"-326.83\" font-family=\"Times,serif\" font-size=\"12.00\">DNA_store</text>\n",
       "</g>\n",
       "<!-- (&#39;DNA_store&#39;, &#39;A gene&#39;) -->\n",
       "<g id=\"node6\" class=\"node\">\n",
       "<title>(&#39;DNA_store&#39;, &#39;A gene&#39;)</title>\n",
       "<ellipse fill=\"none\" stroke=\"black\" stroke-width=\"2\" cx=\"297.37\" cy=\"-211.09\" rx=\"24.15\" ry=\"24.15\"/>\n",
       "<text text-anchor=\"start\" x=\"280.54\" y=\"-207.49\" font-family=\"Times,serif\" font-size=\"12.00\">A gene</text>\n",
       "</g>\n",
       "<!-- (&#39;DNA_store&#39;,)&#45;&gt;(&#39;DNA_store&#39;, &#39;A gene&#39;) -->\n",
       "<g id=\"edge4\" class=\"edge\">\n",
       "<title>(&#39;DNA_store&#39;,)&#45;&gt;(&#39;DNA_store&#39;, &#39;A gene&#39;)</title>\n",
       "<path fill=\"none\" stroke=\"black\" stroke-width=\"2\" d=\"M322.57,-294.23C316.69,-275.06 309.58,-251.88 304.41,-235.05\"/>\n",
       "</g>\n",
       "<!-- (&#39;DNA_store&#39;, &#39;B gene&#39;) -->\n",
       "<g id=\"node7\" class=\"node\">\n",
       "<title>(&#39;DNA_store&#39;, &#39;B gene&#39;)</title>\n",
       "<ellipse fill=\"none\" stroke=\"black\" stroke-width=\"2\" cx=\"363.37\" cy=\"-211.09\" rx=\"24.15\" ry=\"24.15\"/>\n",
       "<text text-anchor=\"start\" x=\"346.54\" y=\"-207.49\" font-family=\"Times,serif\" font-size=\"12.00\">B gene</text>\n",
       "</g>\n",
       "<!-- (&#39;DNA_store&#39;,)&#45;&gt;(&#39;DNA_store&#39;, &#39;B gene&#39;) -->\n",
       "<g id=\"edge5\" class=\"edge\">\n",
       "<title>(&#39;DNA_store&#39;,)&#45;&gt;(&#39;DNA_store&#39;, &#39;B gene&#39;)</title>\n",
       "<path fill=\"none\" stroke=\"black\" stroke-width=\"2\" d=\"M342.45,-293.91C347.31,-274.89 353.17,-252 357.44,-235.28\"/>\n",
       "</g>\n",
       "<!-- (&#39;DNA_store&#39;,)&#45;&gt;(&#39;event_process&#39;,) -->\n",
       "<g id=\"edge7\" class=\"edge\">\n",
       "<title>(&#39;DNA_store&#39;,)&#45;&gt;(&#39;event_process&#39;,)</title>\n",
       "<path fill=\"none\" stroke=\"black\" stroke-dasharray=\"5,2\" d=\"M307.34,-303.1C288.13,-283.68 262.13,-257.38 243.02,-238.04\"/>\n",
       "<polygon fill=\"black\" stroke=\"black\" points=\"245.62,-235.69 236.1,-231.04 240.64,-240.61 245.62,-235.69\"/>\n",
       "<text text-anchor=\"start\" x=\"272.37\" y=\"-262.35\" font-family=\"Times,serif\" font-size=\"10.00\">DNA</text>\n",
       "</g>\n",
       "<!-- (&#39;DNA_store&#39;,)&#45;&gt;(&#39;interval_process&#39;,) -->\n",
       "<g id=\"edge8\" class=\"edge\">\n",
       "<title>(&#39;DNA_store&#39;,)&#45;&gt;(&#39;interval_process&#39;,)</title>\n",
       "<path fill=\"none\" stroke=\"black\" stroke-dasharray=\"5,2\" d=\"M359.35,-302.93C373.26,-286.85 389.01,-265.07 396.37,-242.35 404.93,-215.92 407.68,-205.21 396.37,-179.84 368.67,-117.71 303.8,-69.55 260.24,-42.72\"/>\n",
       "<polygon fill=\"black\" stroke=\"black\" points=\"262.15,-39.78 251.78,-37.62 258.54,-45.78 262.15,-39.78\"/>\n",
       "<text text-anchor=\"start\" x=\"385.37\" y=\"-153.84\" font-family=\"Times,serif\" font-size=\"10.00\">DNA</text>\n",
       "</g>\n",
       "<!-- (&#39;event_process&#39;,)&#45;&gt;(&#39;event_process&#39;, &#39;interval&#39;) -->\n",
       "<g id=\"edge1\" class=\"edge\">\n",
       "<title>(&#39;event_process&#39;,)&#45;&gt;(&#39;event_process&#39;, &#39;interval&#39;)</title>\n",
       "<path fill=\"none\" stroke=\"black\" stroke-width=\"2\" d=\"M217.37,-192.47C217.37,-176.51 217.37,-152.78 217.37,-134.69\"/>\n",
       "</g>\n",
       "</g>\n",
       "</svg>\n"
      ],
      "text/plain": [
       "<graphviz.graphs.Digraph at 0x106bece50>"
      ]
     },
     "execution_count": 27,
     "metadata": {},
     "output_type": "execute_result"
    }
   ],
   "source": [
    "b2.visualize()"
   ]
  },
  {
   "cell_type": "code",
   "execution_count": null,
   "id": "6c11fc1f-23ee-45e5-9975-f3d3b2e1dff9",
   "metadata": {},
   "outputs": [],
   "source": []
  }
 ],
 "metadata": {
  "kernelspec": {
   "display_name": "Python 3 (ipykernel)",
   "language": "python",
   "name": "python3"
  },
  "language_info": {
   "codemirror_mode": {
    "name": "ipython",
    "version": 3
   },
   "file_extension": ".py",
   "mimetype": "text/x-python",
   "name": "python",
   "nbconvert_exporter": "python",
   "pygments_lexer": "ipython3",
   "version": "3.10.13"
  }
 },
 "nbformat": 4,
 "nbformat_minor": 5
}
