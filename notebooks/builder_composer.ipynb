{
 "cells": [
  {
   "cell_type": "markdown",
   "id": "808b6a4b-0894-4a8e-99d8-bf11b3164b6a",
   "metadata": {},
   "source": [
    "## Examples with ```CopasiProcess``` using ``builder.Builder`` and ``biosimulator_processes.data_model``"
   ]
  },
  {
   "cell_type": "code",
   "execution_count": null,
   "id": "b385dca6-942d-472c-9963-13b8cb33843c",
   "metadata": {},
   "outputs": [],
   "source": [
    "from builder import Builder, Process\n",
    "from process_bigraph import pp, pf \n",
    "from biosimulator_processes import CORE\n",
    "from biosimulator_processes.data_model import *\n",
    "from biosimulator_processes.biosimulator_builder import BiosimulatorBuilder"
   ]
  },
  {
   "cell_type": "markdown",
   "id": "a403d619-4dbe-49cc-8f24-29a83e31fe15",
   "metadata": {},
   "source": [
    "#### Initialize a fresh instance of the `BiosimulatorBuilder`, which is inherently configured by `biosimulator_processes.CORE`."
   ]
  },
  {
   "cell_type": "code",
   "execution_count": null,
   "id": "b6260555-2bad-4834-adc5-e6d358063579",
   "metadata": {},
   "outputs": [],
   "source": [
    "b = BiosimulatorBuilder()"
   ]
  },
  {
   "cell_type": "code",
   "execution_count": null,
   "id": "40cde984-cfdf-4571-af9c-3a3755e3763c",
   "metadata": {},
   "outputs": [],
   "source": [
    "###### list registered processes\n",
    "\n",
    "b.list_processes()"
   ]
  },
  {
   "cell_type": "code",
   "outputs": [],
   "source": [
    "from basico import *\n",
    "from basico import biomodels\n",
    "\n",
    "\n",
    "model = load_biomodel('BIOMD0000000861')"
   ],
   "metadata": {
    "collapsed": false
   },
   "id": "9279a6fec5ad0c48",
   "execution_count": null
  },
  {
   "cell_type": "code",
   "outputs": [],
   "source": [
    "get_species(model=model)"
   ],
   "metadata": {
    "collapsed": false
   },
   "id": "da6096ec3e0daa85",
   "execution_count": null
  },
  {
   "cell_type": "markdown",
   "id": "dfa2d764-8cdb-4a1e-84c5-fd81cc4e6afe",
   "metadata": {},
   "source": [
    "#### Example 1: Add a simple `CopasiProcess`-based composite to the bigraph, specifying parameter values through the `data_model`. For now, let's try loading a biomodel and adding a change to initial concentration of a species"
   ]
  },
  {
   "cell_type": "code",
   "outputs": [],
   "source": [
    "# 1. specify model changes\n",
    "\n",
    "process_model_changes = ModelChanges(\n",
    "    species_changes=SpeciesChanges(\n",
    "        species_name='SHP1',\n",
    "        initial_concentration=5.00000\n",
    "    )\n",
    ")\n",
    "\n",
    "\n",
    "pp(process_model_changes.model_dump())"
   ],
   "metadata": {
    "collapsed": false
   },
   "id": "2b1c1bdd6864a771",
   "execution_count": null
  },
  {
   "cell_type": "code",
   "outputs": [],
   "source": [
    "# 2. define the model schema to be used by the composite process (one of the copasiprocess config parameters)\n",
    "\n",
    "process_model = Model(\n",
    "    model_id='simple_copasi_process',\n",
    "    model_source='BIOMD0000000861',\n",
    "    model_name='Simple Composite Process',\n",
    "    model_changes=process_model_changes\n",
    ")\n",
    "\n",
    "\n",
    "pp(process_model.model_dump())"
   ],
   "metadata": {
    "collapsed": false
   },
   "id": "8d0566183a2d1c1f",
   "execution_count": null
  },
  {
   "cell_type": "code",
   "execution_count": null,
   "id": "b79dc6639a17e353",
   "metadata": {
    "collapsed": false
   },
   "outputs": [],
   "source": [
    "# 3. Define config schema to be used as 'config' parameter of Process constructor\n",
    "\n",
    "\n",
    "process_config = CopasiProcessConfigSchema(\n",
    "    method='stochastic',\n",
    "    model=process_model,\n",
    "    process_name='simple_copasi'\n",
    ")\n",
    "\n",
    "\n",
    "pp(process_config.model_dump())"
   ]
  },
  {
   "cell_type": "code",
   "execution_count": null,
   "id": "503863ee-0a58-44b3-accc-20e0167b947b",
   "metadata": {},
   "outputs": [],
   "source": [
    "# 4. Add the process instance by the name of 'simple_copasi' to the builder\n",
    "\n",
    "\n",
    "b[process_config.process_name].add_process(\n",
    "    name='CopasiProcess',\n",
    "    kdeg=1.0,  # kwargs fill parameters in the config\n",
    ")"
   ]
  },
  {
   "cell_type": "code",
   "execution_count": null,
   "id": "b094f1e5-5202-48d0-8bdd-57bbdded7fd1",
   "metadata": {},
   "outputs": [],
   "source": [
    "# visualize shows the process with its disconnected ports\n",
    "b.visualize()"
   ]
  },
  {
   "cell_type": "markdown",
   "id": "0238392e-5d1f-403d-98c9-785576a0d91b",
   "metadata": {},
   "source": [
    "### print ports"
   ]
  },
  {
   "cell_type": "code",
   "execution_count": null,
   "id": "5ea31425-a8bb-45c3-a31d-77714cc8c137",
   "metadata": {},
   "outputs": [],
   "source": [
    "b['event_process'].interface(True)"
   ]
  },
  {
   "cell_type": "markdown",
   "id": "8068e0af-ebdd-4f01-8c54-4fb3b07fc21e",
   "metadata": {},
   "source": [
    "### connect ports using connect_all\n",
    "`Builder.connect_all` connects ports to stores of the same name."
   ]
  },
  {
   "cell_type": "code",
   "execution_count": null,
   "id": "c9f462bb-5316-4724-aa8e-b3b71eb379b2",
   "metadata": {},
   "outputs": [],
   "source": [
    "b.connect_all(append_to_store_name='_store')\n",
    "b"
   ]
  },
  {
   "cell_type": "code",
   "execution_count": null,
   "id": "79809baf-1d87-475a-b85f-3729f4716cb4",
   "metadata": {},
   "outputs": [],
   "source": [
    "b.visualize()"
   ]
  },
  {
   "cell_type": "markdown",
   "id": "c7687da5-6992-447b-a51b-14373984597f",
   "metadata": {},
   "source": [
    "### add interval process to the config"
   ]
  },
  {
   "cell_type": "code",
   "execution_count": null,
   "id": "f02c15797bdb73b8",
   "metadata": {
    "collapsed": false
   },
   "outputs": [],
   "source": [
    "b['interval_process'].add_process(\n",
    "    name='GillespieInterval',\n",
    ")"
   ]
  },
  {
   "cell_type": "code",
   "execution_count": null,
   "id": "aeb344bcd6a120ae",
   "metadata": {
    "collapsed": false
   },
   "outputs": [],
   "source": [
    "b.visualize()"
   ]
  },
  {
   "cell_type": "markdown",
   "id": "be3f6695-80ed-4819-a121-de29c5cce23e",
   "metadata": {},
   "source": [
    "### connect port to specific target"
   ]
  },
  {
   "cell_type": "code",
   "execution_count": null,
   "id": "a5a1f48a-41aa-4768-b931-ad268495d836",
   "metadata": {},
   "outputs": [],
   "source": [
    "# to connect a port in a more targeted way, use connect and specify the port and its target path\n",
    "b['interval_process'].connect(port='interval', target=['event_process', 'interval']) \n",
    "\n",
    "# the remaining ports can connect_all\n",
    "b.connect_all() "
   ]
  },
  {
   "cell_type": "code",
   "execution_count": null,
   "id": "b21b54ae-49e8-47ad-bc88-1327a8e9d230",
   "metadata": {},
   "outputs": [],
   "source": [
    "b.visualize()"
   ]
  },
  {
   "cell_type": "markdown",
   "id": "ed3131ee-c607-42e5-88a3-930a84eedf0f",
   "metadata": {},
   "source": [
    "### check current Builder config"
   ]
  },
  {
   "cell_type": "code",
   "execution_count": null,
   "id": "6e00749f-03b8-496e-9a10-106dbac3713f",
   "metadata": {},
   "outputs": [],
   "source": [
    "b"
   ]
  },
  {
   "cell_type": "markdown",
   "id": "9fd708e8-0688-4b97-a50c-e3d0a1c78d83",
   "metadata": {},
   "source": [
    "## Update the initial state"
   ]
  },
  {
   "cell_type": "code",
   "execution_count": null,
   "id": "212f4501-8050-4c39-88b8-986b3c38e716",
   "metadata": {},
   "outputs": [],
   "source": [
    "initial_state = {\n",
    "    'DNA_store': {\n",
    "        'A gene': 2.0,\n",
    "        'B gene': 1.0},\n",
    "}\n",
    "b.update(initial_state)"
   ]
  },
  {
   "cell_type": "markdown",
   "id": "305582d1-f701-4a55-88a3-f8ec21643033",
   "metadata": {},
   "source": [
    "## Generate composite from builder config and simulate"
   ]
  },
  {
   "cell_type": "code",
   "execution_count": null,
   "id": "e9a69f36-154c-416e-b00c-5df0726be49e",
   "metadata": {},
   "outputs": [],
   "source": [
    "composite = b.generate()\n",
    "composite.run(10)"
   ]
  },
  {
   "cell_type": "code",
   "execution_count": null,
   "id": "578492a9-027d-4c5b-b90a-7d63e3f46bc0",
   "metadata": {},
   "outputs": [],
   "source": [
    "composite"
   ]
  },
  {
   "cell_type": "markdown",
   "id": "743960b7-a6d3-41af-8737-2776a66c60cd",
   "metadata": {},
   "source": [
    "## Retrieve the composite document"
   ]
  },
  {
   "cell_type": "code",
   "execution_count": null,
   "id": "c975aab012b2706f",
   "metadata": {
    "collapsed": false
   },
   "outputs": [],
   "source": [
    "doc = b.document()\n",
    "doc"
   ]
  },
  {
   "cell_type": "markdown",
   "id": "b32a13ed-134d-4de1-a1ed-b72807b4af45",
   "metadata": {},
   "source": [
    "### save the document to file"
   ]
  },
  {
   "cell_type": "code",
   "execution_count": null,
   "id": "752e43636bf9fd17",
   "metadata": {
    "collapsed": false
   },
   "outputs": [],
   "source": [
    "b.write(filename='toy_bigraph')"
   ]
  },
  {
   "cell_type": "markdown",
   "id": "ebdd7599-0b0e-4f79-a8ab-d507a81646d8",
   "metadata": {
    "ExecuteTime": {
     "start_time": "2024-01-21T21:29:22.001943Z"
    },
    "collapsed": false
   },
   "source": [
    "### load a composite from document\n",
    "This document represents the full state of the composite, and so can reproduce the previous composite when loaded into a fresh Builder"
   ]
  },
  {
   "cell_type": "code",
   "execution_count": null,
   "id": "56b14beb-27de-469d-b4e6-10fc628e15e0",
   "metadata": {},
   "outputs": [],
   "source": [
    "b2 = Builder(core=core, file_path='out/toy_bigraph.json')\n",
    "b2"
   ]
  },
  {
   "cell_type": "code",
   "execution_count": null,
   "id": "6197f4c3-41ca-468b-929f-cc0ebc1fabe9",
   "metadata": {},
   "outputs": [],
   "source": [
    "b2.visualize()"
   ]
  },
  {
   "cell_type": "markdown",
   "source": [],
   "metadata": {
    "collapsed": false
   },
   "id": "b379609c7bc217c0"
  },
  {
   "cell_type": "code",
   "outputs": [],
   "source": [],
   "metadata": {
    "collapsed": false
   },
   "id": "2f464e6189bc8287"
  },
  {
   "cell_type": "markdown",
   "source": [
    "### Example 2: Parameter scan composite"
   ],
   "metadata": {
    "collapsed": false
   },
   "id": "69529e31211443e0"
  },
  {
   "cell_type": "code",
   "outputs": [],
   "source": [],
   "metadata": {
    "collapsed": false
   },
   "id": "c3b55f3424ef4a16"
  }
 ],
 "metadata": {
  "kernelspec": {
   "display_name": "Python 3 (ipykernel)",
   "language": "python",
   "name": "python3"
  },
  "language_info": {
   "codemirror_mode": {
    "name": "ipython",
    "version": 3
   },
   "file_extension": ".py",
   "mimetype": "text/x-python",
   "name": "python",
   "nbconvert_exporter": "python",
   "pygments_lexer": "ipython3",
   "version": "3.10.13"
  }
 },
 "nbformat": 4,
 "nbformat_minor": 5
}
