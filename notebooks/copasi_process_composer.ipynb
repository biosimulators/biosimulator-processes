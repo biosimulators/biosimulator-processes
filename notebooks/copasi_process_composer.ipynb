{
 "cells": [
  {
   "cell_type": "markdown",
   "id": "9f7cc96191d5a2ba",
   "metadata": {
    "collapsed": false
   },
   "source": [
    "## Examples with ```CopasiProcess``` using ``builder.Builder`` and ``biosimulator_processes.data_model``"
   ]
  },
  {
   "cell_type": "code",
   "execution_count": null,
   "id": "b43cd4493a594e60",
   "metadata": {
    "collapsed": false
   },
   "outputs": [],
   "source": [
    "import sys \n",
    "\n",
    "sys.path.insert(0, '..')"
   ]
  },
  {
   "cell_type": "code",
   "execution_count": null,
   "id": "65385e04f4f5dd1a",
   "metadata": {
    "collapsed": false
   },
   "outputs": [],
   "source": [
    "import os \n",
    "from process_bigraph import pp, pf \n",
    "from biosimulator_processes.data_model import *\n",
    "from biosimulator_processes.biosimulator_builder import BiosimulatorBuilder"
   ]
  },
  {
   "cell_type": "markdown",
   "id": "99dbe025aeccc23e",
   "metadata": {
    "collapsed": false
   },
   "source": [
    "#### Initialize a fresh instance of the `BiosimulatorBuilder`, which is inherently configured by `biosimulator_processes.CORE` in the top level."
   ]
  },
  {
   "cell_type": "code",
   "execution_count": null,
   "id": "cc709690e20090cf",
   "metadata": {
    "collapsed": false
   },
   "outputs": [],
   "source": [
    "b = BiosimulatorBuilder()"
   ]
  },
  {
   "cell_type": "markdown",
   "id": "eea00feb4c2651d6",
   "metadata": {
    "collapsed": false
   },
   "source": [
    "#### Example 1: Add a simple `CopasiProcess`-based composite to the bigraph, specifying parameter values through the `data_model`. For now, let's try loading a biomodel and adding a change to initial concentration of a species. We will then add another copasi process instance, whose model is this time loaded from a file (to demonstrate the data model)"
   ]
  },
  {
   "cell_type": "markdown",
   "id": "640f49c1e61f116d",
   "metadata": {
    "collapsed": false
   },
   "source": [
    "Let's define a model instance from a file."
   ]
  },
  {
   "cell_type": "code",
   "execution_count": null,
   "id": "edf123175ec3408c",
   "metadata": {
    "collapsed": false
   },
   "outputs": [],
   "source": [
    "model_filepath = '../biosimulator_processes/model_files/BIOMD0000000061_url.xml'\n",
    "\n",
    "os.path.exists(model_filepath)"
   ]
  },
  {
   "cell_type": "code",
   "execution_count": null,
   "id": "40ab6f70ac3f4996",
   "metadata": {
    "collapsed": false
   },
   "outputs": [],
   "source": [
    "# Uncomment if you wish to inspect the species referenced below\n",
    "# model_from_file = load_model(model_filepath)\n",
    "# get_species(model=model_from_file)"
   ]
  },
  {
   "cell_type": "code",
   "execution_count": null,
   "id": "d02a547b85138f96",
   "metadata": {
    "collapsed": false
   },
   "outputs": [],
   "source": [
    "# 1. specify model changes (we know the model specs as we are providing the file. TODO: allow users to introspect the model before change)\n",
    "process_model_changes = ModelChanges(\n",
    "    species_changes=[SpeciesChanges(name='ADP', initial_concentration=2.1**3)]\n",
    ")\n",
    "\n",
    "\n",
    "pp(process_model_changes.model_dump())"
   ]
  },
  {
   "cell_type": "code",
   "execution_count": null,
   "id": "1b6c269646357d7d",
   "metadata": {
    "collapsed": false
   },
   "outputs": [],
   "source": [
    "# 2. define the model schema to be used by the composite process (one of the copasiprocess config parameters)\n",
    "\n",
    "process_model_from_file = Model(\n",
    "    model_id='copasi_process_from_file',\n",
    "    model_source=model_filepath,\n",
    "    model_name='Simple Composite Process from File',\n",
    "    model_changes=process_model_changes\n",
    ")\n",
    "\n",
    "\n",
    "pp(process_model_from_file.model_dump())"
   ]
  },
  {
   "cell_type": "code",
   "execution_count": null,
   "id": "5d434956e65b1a42",
   "metadata": {
    "collapsed": false
   },
   "outputs": [],
   "source": [
    "# 3. Define config schema to be used as 'config' parameter of Process constructor\n",
    "process_config_from_file = CopasiProcessConfigSchema(\n",
    "    method='deterministic',\n",
    "    model=process_model_from_file,\n",
    "    process_name='simple_copasi_from_file'\n",
    ")\n",
    "\n",
    "\n",
    "pp(process_config_from_file.model_dump())"
   ]
  },
  {
   "cell_type": "code",
   "execution_count": null,
   "id": "de88e95d8f616779",
   "metadata": {
    "collapsed": false
   },
   "outputs": [],
   "source": [
    "process_config_from_file.process_name, process_config_from_file.method, process_config_from_file.model"
   ]
  },
  {
   "cell_type": "code",
   "execution_count": null,
   "id": "52d81ea2ea688d47",
   "metadata": {
    "collapsed": false
   },
   "outputs": [],
   "source": [
    "# 4. Add the process instance by the name of 'simple_copasi' to the builder\n",
    "\n",
    "\n",
    "b[process_config_from_file.process_name].add_process(\n",
    "    name='CopasiProcess',\n",
    "    model=process_config_from_file.model,\n",
    "    method=process_config_from_file.method\n",
    ")"
   ]
  },
  {
   "cell_type": "markdown",
   "id": "80fd1a5aca61b442",
   "metadata": {
    "collapsed": false
   },
   "source": [
    "Let's now add a biomodel with adjusted params (we know ahead of time)"
   ]
  },
  {
   "cell_type": "code",
   "execution_count": null,
   "id": "f499f96a817d9faf",
   "metadata": {
    "collapsed": false
   },
   "outputs": [],
   "source": [
    "# Uncomment if you wish to introspect the model referred below\n",
    "# from basico import *\n",
    "# from basico import biomodels\n",
    "# \n",
    "# \n",
    "# biomodel_id = 'BIOMD0000000861'\n",
    "# biomodel = load_biomodel(biomodel_id)\n",
    "# get_species(model=biomodel)"
   ]
  },
  {
   "cell_type": "code",
   "execution_count": null,
   "id": "c24594c6e8229e20",
   "metadata": {
    "collapsed": false
   },
   "outputs": [],
   "source": [
    "# reaction_names = get_reactions(model=biomodel)\n",
    "# \n",
    "# reaction_names"
   ]
  },
  {
   "cell_type": "code",
   "execution_count": null,
   "id": "454db50d61220bc5",
   "metadata": {
    "collapsed": false
   },
   "outputs": [],
   "source": [
    "rparam = ReactionParameter(\n",
    "    parameter_name='EpoRpRJAK2',\n",
    "    value=21312.2\n",
    ")\n",
    "\n",
    "rparam2 = ReactionParameter(\n",
    "    parameter_name='EpoRJAK2',\n",
    "    value=21312.2\n",
    ")\n",
    "\n",
    "rc1 = ReactionChanges(\n",
    "    reaction_name='reaction_1',\n",
    "    parameter_changes=[rparam, rparam2]\n",
    ")\n",
    "\n",
    "rc2 = ReactionChanges(\n",
    "    reaction_name='reaction_11',\n",
    "    reaction_scheme='A + B -> C'\n",
    ")"
   ]
  },
  {
   "cell_type": "code",
   "execution_count": null,
   "id": "bd6781fe4a749c29",
   "metadata": {
    "collapsed": false
   },
   "outputs": [],
   "source": [
    "biomodel_process_changes = ModelChanges(\n",
    "    reaction_changes=[rc1, rc2]\n",
    ")"
   ]
  },
  {
   "cell_type": "code",
   "execution_count": null,
   "id": "e414174a2d6d331b",
   "metadata": {
    "collapsed": false
   },
   "outputs": [],
   "source": [
    "pp(biomodel_process_changes.model_dump())"
   ]
  },
  {
   "cell_type": "code",
   "execution_count": null,
   "id": "9de88bc52fb9a164",
   "metadata": {
    "collapsed": false
   },
   "outputs": [],
   "source": [
    "biomodel_id = 'BIOMD0000000861'\n",
    "\n",
    "\n",
    "biomodel_process_model = Model(\n",
    "    model_id=biomodel_id,\n",
    "    model_source=biomodel_id,\n",
    "    model_name='composite_from_biomodel',\n",
    "    model_changes=biomodel_process_changes\n",
    ")\n",
    "\n",
    "pp(biomodel_process_model.model_dump())"
   ]
  },
  {
   "cell_type": "code",
   "execution_count": null,
   "id": "25ba11c1e1e75f94",
   "metadata": {
    "collapsed": false
   },
   "outputs": [],
   "source": [
    "biomodel_process_config = CopasiProcessConfigSchema(\n",
    "    process_name='copasi_process_from_biomodel',\n",
    "    method='directMethod',\n",
    "    model=biomodel_process_model\n",
    ")\n",
    "\n",
    "\n",
    "pp(biomodel_process_config.model_dump())"
   ]
  },
  {
   "cell_type": "markdown",
   "id": "535828632bf115d",
   "metadata": {
    "collapsed": false
   },
   "source": [
    "Add the biomodel config to the bigraph"
   ]
  },
  {
   "cell_type": "code",
   "execution_count": null,
   "id": "4c3f073b10e2dcc0",
   "metadata": {
    "collapsed": false
   },
   "outputs": [],
   "source": [
    "b[biomodel_process_config.process_name].add_process(\n",
    "    name='CopasiProcess',\n",
    "    model=biomodel_process_config.model,\n",
    "    method=biomodel_process_config.method\n",
    ")"
   ]
  },
  {
   "cell_type": "markdown",
   "id": "974b09970316d79b",
   "metadata": {
    "collapsed": false
   },
   "source": [
    "Visualize the added processes"
   ]
  },
  {
   "cell_type": "code",
   "execution_count": null,
   "id": "c5e03e6714faf9f4",
   "metadata": {
    "collapsed": false
   },
   "outputs": [],
   "source": [
    "b.visualize()"
   ]
  },
  {
   "cell_type": "markdown",
   "id": "1438b52fbe49c4eb",
   "metadata": {
    "collapsed": false
   },
   "source": [
    "Connect the processes together with the default store name:"
   ]
  },
  {
   "cell_type": "code",
   "execution_count": null,
   "id": "d9bef3f51b50fbd5",
   "metadata": {
    "collapsed": false
   },
   "outputs": [],
   "source": [
    "b.connect_all(append_to_store_name='_store')\n",
    "\n",
    "b"
   ]
  },
  {
   "cell_type": "code",
   "execution_count": null,
   "id": "30ace33f0337beb4",
   "metadata": {
    "collapsed": false
   },
   "outputs": [],
   "source": [
    "b.visualize()"
   ]
  },
  {
   "cell_type": "markdown",
   "id": "2ddd8fe2c30fc39d",
   "metadata": {
    "collapsed": false
   },
   "source": [
    "Run composite "
   ]
  },
  {
   "cell_type": "code",
   "execution_count": null,
   "id": "9ead193eb649adff",
   "metadata": {
    "collapsed": false
   },
   "outputs": [],
   "source": [
    "composite = b.generate()"
   ]
  },
  {
   "cell_type": "code",
   "execution_count": null,
   "id": "e0634facb532124e",
   "metadata": {
    "collapsed": false
   },
   "outputs": [],
   "source": [
    "composite.run(10)"
   ]
  },
  {
   "cell_type": "markdown",
   "id": "6c866865840d07e5",
   "metadata": {
    "collapsed": false
   },
   "source": [
    "Generate a single process with no model changes from the model_filepath"
   ]
  },
  {
   "cell_type": "code",
   "execution_count": null,
   "id": "eb13901bf256ceb6",
   "metadata": {
    "collapsed": false
   },
   "outputs": [],
   "source": [
    "b2 = BiosimulatorBuilder()"
   ]
  },
  {
   "cell_type": "code",
   "execution_count": null,
   "id": "19a579660793cc7c",
   "metadata": {
    "collapsed": false
   },
   "outputs": [],
   "source": [
    "single_process_model = Model(\n",
    "    model_source=ModelFilepath(value=model_filepath),\n",
    "    model_id='BIOMD0000000061'\n",
    ")"
   ]
  },
  {
   "cell_type": "code",
   "execution_count": null,
   "id": "680c6eb9d0fecba5",
   "metadata": {
    "collapsed": false
   },
   "outputs": [],
   "source": [
    "single_process_config = CopasiProcessConfigSchema(\n",
    "    process_name='single_copasi_process',\n",
    "    model=single_process_model\n",
    ")\n",
    "\n",
    "pp(single_process_config.model_dump())"
   ]
  },
  {
   "cell_type": "code",
   "execution_count": null,
   "id": "23bbb7a5bed8008f",
   "metadata": {
    "collapsed": false
   },
   "outputs": [],
   "source": [
    "b2[single_process_config.process_name].add_process(\n",
    "    name='CopasiProcess',\n",
    "    model=single_process_config.model\n",
    ")"
   ]
  },
  {
   "cell_type": "code",
   "execution_count": null,
   "id": "170e47387a664a4a",
   "metadata": {
    "collapsed": false
   },
   "outputs": [],
   "source": [
    "b2.connect_all(append_to_store_name='_store')"
   ]
  },
  {
   "cell_type": "code",
   "execution_count": null,
   "id": "331ecf77da2a7c94",
   "metadata": {
    "collapsed": false
   },
   "outputs": [],
   "source": [
    "b2.visualize()"
   ]
  },
  {
   "cell_type": "code",
   "execution_count": null,
   "id": "428c2e6ba402c64c",
   "metadata": {
    "collapsed": false
   },
   "outputs": [],
   "source": [
    "pp(b2)"
   ]
  },
  {
   "cell_type": "code",
   "execution_count": null,
   "id": "4a56a56e317062f4",
   "metadata": {
    "collapsed": false
   },
   "outputs": [],
   "source": [
    "composite2 = b.generate()"
   ]
  },
  {
   "cell_type": "code",
   "execution_count": null,
   "id": "a1b3395080f3a8e",
   "metadata": {
    "collapsed": false
   },
   "outputs": [],
   "source": [
    "composite2.run(10)"
   ]
  },
  {
   "cell_type": "markdown",
   "id": "e26e4b2202e56e0e",
   "metadata": {
    "collapsed": false
   },
   "source": [
    "Connect the single process to an emitter instance"
   ]
  },
  {
   "cell_type": "code",
   "execution_count": null,
   "id": "477c5b2aa2f550c5",
   "metadata": {
    "collapsed": false
   },
   "outputs": [],
   "source": []
  }
 ],
 "metadata": {
  "kernelspec": {
   "display_name": "Python 3",
   "language": "python",
   "name": "python3"
  },
  "language_info": {
   "codemirror_mode": {
    "name": "ipython",
    "version": 2
   },
   "file_extension": ".py",
   "mimetype": "text/x-python",
   "name": "python",
   "nbconvert_exporter": "python",
   "pygments_lexer": "ipython2",
   "version": "2.7.6"
  }
 },
 "nbformat": 4,
 "nbformat_minor": 5
}
