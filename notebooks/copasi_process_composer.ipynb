{
 "cells": [
  {
   "cell_type": "markdown",
   "source": [
    "## Examples with ```CopasiProcess``` using ``builder.Builder`` and ``biosimulator_processes.data_model``"
   ],
   "metadata": {
    "collapsed": false
   },
   "id": "9f7cc96191d5a2ba"
  },
  {
   "cell_type": "code",
   "execution_count": 1,
   "outputs": [],
   "source": [
    "import sys \n",
    "\n",
    "sys.path.insert(0, '..')"
   ],
   "metadata": {
    "collapsed": false,
    "ExecuteTime": {
     "end_time": "2024-03-04T16:42:08.935312Z",
     "start_time": "2024-03-04T16:42:08.931881Z"
    }
   },
   "id": "b43cd4493a594e60"
  },
  {
   "cell_type": "code",
   "execution_count": 2,
   "outputs": [
    {
     "name": "stdout",
     "output_type": "stream",
     "text": [
      "CobraProcess registered successfully.\n",
      "CopasiProcess registered successfully.\n",
      "SmoldynProcess registered successfully.\n",
      "TelluriumProcess registered successfully.\n"
     ]
    }
   ],
   "source": [
    "from builder import Builder, Process\n",
    "from process_bigraph import pp, pf \n",
    "from biosimulator_processes import CORE\n",
    "from biosimulator_processes.data_model import *\n",
    "from biosimulator_processes.biosimulator_builder import BiosimulatorBuilder"
   ],
   "metadata": {
    "collapsed": false,
    "ExecuteTime": {
     "end_time": "2024-03-04T16:42:10.809815Z",
     "start_time": "2024-03-04T16:42:09.047667Z"
    }
   },
   "id": "65385e04f4f5dd1a"
  },
  {
   "cell_type": "markdown",
   "source": [
    "#### Initialize a fresh instance of the `BiosimulatorBuilder`, which is inherently configured by `biosimulator_processes.CORE`."
   ],
   "metadata": {
    "collapsed": false
   },
   "id": "99dbe025aeccc23e"
  },
  {
   "cell_type": "code",
   "execution_count": 3,
   "outputs": [],
   "source": [
    "b = BiosimulatorBuilder()"
   ],
   "metadata": {
    "collapsed": false,
    "ExecuteTime": {
     "end_time": "2024-03-04T16:42:10.810196Z",
     "start_time": "2024-03-04T16:42:10.808054Z"
    }
   },
   "id": "cc709690e20090cf"
  },
  {
   "cell_type": "code",
   "execution_count": 4,
   "outputs": [
    {
     "data": {
      "text/plain": "['CobraProcess',\n 'CopasiProcess',\n 'console-emitter',\n 'SmoldynProcess',\n 'TelluriumProcess',\n 'ram-emitter']"
     },
     "execution_count": 4,
     "metadata": {},
     "output_type": "execute_result"
    }
   ],
   "source": [
    "###### list registered processes\n",
    "\n",
    "b.list_processes()"
   ],
   "metadata": {
    "collapsed": false,
    "ExecuteTime": {
     "end_time": "2024-03-04T16:42:10.813366Z",
     "start_time": "2024-03-04T16:42:10.811517Z"
    }
   },
   "id": "41034be54d9cf16"
  },
  {
   "cell_type": "markdown",
   "source": [
    "Let's load a BIOMODEL from `basico` and inspect the parameters we can adjust:"
   ],
   "metadata": {
    "collapsed": false
   },
   "id": "f46d9983b127470"
  },
  {
   "cell_type": "code",
   "execution_count": 4,
   "outputs": [],
   "source": [],
   "metadata": {
    "collapsed": false,
    "ExecuteTime": {
     "end_time": "2024-03-04T16:42:10.828221Z",
     "start_time": "2024-03-04T16:42:10.813820Z"
    }
   },
   "id": "f1e5eedb251a22c3"
  },
  {
   "cell_type": "markdown",
   "source": [
    "#### Example 1: Add a simple `CopasiProcess`-based composite to the bigraph, specifying parameter values through the `data_model`. For now, let's try loading a biomodel and adding a change to initial concentration of a species. We will then add another copasi process instance, whose model is this time loaded from a file (to demonstrate the data model)"
   ],
   "metadata": {
    "collapsed": false
   },
   "id": "eea00feb4c2651d6"
  },
  {
   "cell_type": "markdown",
   "source": [
    "Let's define a model instance from a file."
   ],
   "metadata": {
    "collapsed": false
   },
   "id": "640f49c1e61f116d"
  },
  {
   "cell_type": "code",
   "outputs": [
    {
     "data": {
      "text/plain": "True"
     },
     "execution_count": 5,
     "metadata": {},
     "output_type": "execute_result"
    }
   ],
   "source": [
    "from basico import * \n",
    "\n",
    "\n",
    "model_filepath = '../biosimulator_processes/model_files/BIOMD0000000061_url.xml'\n",
    "\n",
    "os.path.exists(model_filepath)"
   ],
   "metadata": {
    "collapsed": false,
    "ExecuteTime": {
     "end_time": "2024-03-04T16:42:12.560995Z",
     "start_time": "2024-03-04T16:42:12.555910Z"
    }
   },
   "id": "edf123175ec3408c",
   "execution_count": 5
  },
  {
   "cell_type": "code",
   "outputs": [
    {
     "data": {
      "text/plain": "                              compartment       type    unit  \\\nname                                                           \nExtracellular glucose       extracellular  reactions  mmol/l   \nCytosolic glucose                 cytosol  reactions  mmol/l   \nATP                               cytosol  reactions  mmol/l   \nGlucose-6-Phosphate               cytosol  reactions  mmol/l   \nADP                               cytosol  reactions  mmol/l   \nFructose-6-Phosphate              cytosol  reactions  mmol/l   \nFructose 1,6-bisphosphate         cytosol  reactions  mmol/l   \nGlyceraldehyde 3-phosphate        cytosol  reactions  mmol/l   \nDihydroxyacetone phosphate        cytosol  reactions  mmol/l   \nNAD                               cytosol  reactions  mmol/l   \n1,3-Bisphosphoglycerate           cytosol  reactions  mmol/l   \nNADH                              cytosol  reactions  mmol/l   \nPhosphoenolpyruvate               cytosol  reactions  mmol/l   \nPyruvate                          cytosol  reactions  mmol/l   \nAcetaldehyde                      cytosol  reactions  mmol/l   \nEtOH                              cytosol  reactions  mmol/l   \nExtracellular ethanol       extracellular  reactions  mmol/l   \nGlycerol                          cytosol  reactions  mmol/l   \nExtracellular glycerol      extracellular  reactions  mmol/l   \nExtracellular acetaldehyde  extracellular  reactions  mmol/l   \nExtracellular cyanide       extracellular  reactions  mmol/l   \nAMP                               cytosol  reactions  mmol/l   \nP                           extracellular      fixed  mmol/l   \nMixed flow cyanide          extracellular      fixed  mmol/l   \nMixed flow glucose          extracellular      fixed  mmol/l   \n\n                            initial_concentration  initial_particle_number  \\\nname                                                                         \nExtracellular glucose                    6.700000             4.034834e+21   \nCytosolic glucose                        0.573074             3.451132e+20   \nATP                                      2.100000             1.264650e+21   \nGlucose-6-Phosphate                      4.200000             2.529299e+21   \nADP                                      1.500000             9.033211e+20   \nFructose-6-Phosphate                     0.490000             2.950849e+20   \nFructose 1,6-bisphosphate                4.640000             2.794273e+21   \nGlyceraldehyde 3-phosphate               0.115000             6.925462e+19   \nDihydroxyacetone phosphate               2.950000             1.776532e+21   \nNAD                                      0.650000             3.914391e+20   \n1,3-Bisphosphoglycerate                  0.000270             1.625978e+17   \nNADH                                     0.330000             1.987306e+20   \nPhosphoenolpyruvate                      0.040000             2.408856e+19   \nPyruvate                                 8.700000             5.239262e+21   \nAcetaldehyde                             1.481530             8.921982e+20   \nEtOH                                    19.237900             1.158533e+22   \nExtracellular ethanol                   16.451400             9.907265e+21   \nGlycerol                                 4.196000             2.526890e+21   \nExtracellular glycerol                   1.684780             1.014598e+21   \nExtracellular acetaldehyde               1.288360             7.758685e+20   \nExtracellular cyanide                    5.203580             3.133669e+21   \nAMP                                      0.330000             1.987306e+20   \nP                                        0.000000             0.000000e+00   \nMixed flow cyanide                       5.600000             3.372399e+21   \nMixed flow glucose                      24.000000             1.445314e+22   \n\n                           initial_expression expression  concentration  \\\nname                                                                      \nExtracellular glucose                                          6.700000   \nCytosolic glucose                                              0.573074   \nATP                                                            2.100000   \nGlucose-6-Phosphate                                            4.200000   \nADP                                                            1.500000   \nFructose-6-Phosphate                                           0.490000   \nFructose 1,6-bisphosphate                                      4.640000   \nGlyceraldehyde 3-phosphate                                     0.115000   \nDihydroxyacetone phosphate                                     2.950000   \nNAD                                                            0.650000   \n1,3-Bisphosphoglycerate                                        0.000270   \nNADH                                                           0.330000   \nPhosphoenolpyruvate                                            0.040000   \nPyruvate                                                       8.700000   \nAcetaldehyde                                                   1.481530   \nEtOH                                                          19.237900   \nExtracellular ethanol                                         16.451400   \nGlycerol                                                       4.196000   \nExtracellular glycerol                                         1.684780   \nExtracellular acetaldehyde                                     1.288360   \nExtracellular cyanide                                          5.203580   \nAMP                                                            0.330000   \nP                                                              0.000000   \nMixed flow cyanide                                             5.600000   \nMixed flow glucose                                            24.000000   \n\n                            particle_number          rate  \\\nname                                                        \nExtracellular glucose          4.034834e+21 -1.139132e+00   \nCytosolic glucose              3.451132e+20  6.820866e+01   \nATP                            1.264650e+21 -5.374740e-04   \nGlucose-6-Phosphate            2.529299e+21  2.292073e-05   \nADP                            9.033211e+20  9.874740e-04   \nFructose-6-Phosphate           2.950849e+20 -2.357096e-05   \nFructose 1,6-bisphosphate      2.794273e+21  3.000184e-05   \nGlyceraldehyde 3-phosphate     6.925462e+19 -1.056219e-04   \nDihydroxyacetone phosphate     1.776532e+21  8.613930e-05   \nNAD                            3.914391e+20 -5.799246e-05   \n1,3-Bisphosphoglycerate        1.625978e+17  5.878219e-05   \nNADH                           1.987306e+20  5.799246e-05   \nPhosphoenolpyruvate            2.408856e+19 -2.664671e-05   \nPyruvate                       5.239262e+21 -3.001996e-05   \nAcetaldehyde                   8.921982e+20  5.754463e-05   \nEtOH                           1.158533e+22  7.012204e-05   \nExtracellular ethanol          9.907265e+21 -1.437288e-06   \nGlycerol                       2.526890e+21 -1.733231e-05   \nExtracellular glycerol         1.014598e+21  3.566102e-07   \nExtracellular acetaldehyde     7.758685e+20  1.261075e-07   \nExtracellular cyanide          3.133669e+21  9.153125e-08   \nAMP                            1.987306e+20 -4.500000e-04   \nP                              0.000000e+00  0.000000e+00   \nMixed flow cyanide             3.372399e+21  0.000000e+00   \nMixed flow glucose             1.445314e+22  0.000000e+00   \n\n                            particle_number_rate            key sbml_id  \nname                                                                     \nExtracellular glucose              -6.860013e+20   Metabolite_0    GlcX  \nCytosolic glucose                   4.107622e+22   Metabolite_1     Glc  \nATP                                -3.236744e+17   Metabolite_2     ATP  \nGlucose-6-Phosphate                 1.380319e+16   Metabolite_3     G6P  \nADP                                 5.946708e+17   Metabolite_4     ADP  \nFructose-6-Phosphate               -1.419477e+16   Metabolite_5     F6P  \nFructose 1,6-bisphosphate           1.806753e+16   Metabolite_6     FBP  \nGlyceraldehyde 3-phosphate         -6.360699e+16   Metabolite_7     GAP  \nDihydroxyacetone phosphate          5.187430e+16   Metabolite_8    DHAP  \nNAD                                -3.492388e+16   Metabolite_9     NAD  \n1,3-Bisphosphoglycerate             3.539946e+16  Metabolite_10     BPG  \nNADH                                3.492388e+16  Metabolite_11    NADH  \nPhosphoenolpyruvate                -1.604702e+16  Metabolite_12     PEP  \nPyruvate                           -1.807844e+16  Metabolite_13     Pyr  \nAcetaldehyde                        3.465418e+16  Metabolite_14     ACA  \nEtOH                                4.222848e+16  Metabolite_15    EtOH  \nExtracellular ethanol              -8.655551e+14  Metabolite_16   EtOHX  \nGlycerol                           -1.043776e+16  Metabolite_17    Glyc  \nExtracellular glycerol              2.147557e+14  Metabolite_18   GlycX  \nExtracellular acetaldehyde          7.594373e+13  Metabolite_19    ACAX  \nExtracellular cyanide               5.512141e+13  Metabolite_20     CNX  \nAMP                                -2.709963e+17  Metabolite_21     AMP  \nP                                   0.000000e+00  Metabolite_22       P  \nMixed flow cyanide                  0.000000e+00  Metabolite_23    CNX0  \nMixed flow glucose                  0.000000e+00  Metabolite_24   GlcX0  ",
      "text/html": "<div>\n<style scoped>\n    .dataframe tbody tr th:only-of-type {\n        vertical-align: middle;\n    }\n\n    .dataframe tbody tr th {\n        vertical-align: top;\n    }\n\n    .dataframe thead th {\n        text-align: right;\n    }\n</style>\n<table border=\"1\" class=\"dataframe\">\n  <thead>\n    <tr style=\"text-align: right;\">\n      <th></th>\n      <th>compartment</th>\n      <th>type</th>\n      <th>unit</th>\n      <th>initial_concentration</th>\n      <th>initial_particle_number</th>\n      <th>initial_expression</th>\n      <th>expression</th>\n      <th>concentration</th>\n      <th>particle_number</th>\n      <th>rate</th>\n      <th>particle_number_rate</th>\n      <th>key</th>\n      <th>sbml_id</th>\n    </tr>\n    <tr>\n      <th>name</th>\n      <th></th>\n      <th></th>\n      <th></th>\n      <th></th>\n      <th></th>\n      <th></th>\n      <th></th>\n      <th></th>\n      <th></th>\n      <th></th>\n      <th></th>\n      <th></th>\n      <th></th>\n    </tr>\n  </thead>\n  <tbody>\n    <tr>\n      <th>Extracellular glucose</th>\n      <td>extracellular</td>\n      <td>reactions</td>\n      <td>mmol/l</td>\n      <td>6.700000</td>\n      <td>4.034834e+21</td>\n      <td></td>\n      <td></td>\n      <td>6.700000</td>\n      <td>4.034834e+21</td>\n      <td>-1.139132e+00</td>\n      <td>-6.860013e+20</td>\n      <td>Metabolite_0</td>\n      <td>GlcX</td>\n    </tr>\n    <tr>\n      <th>Cytosolic glucose</th>\n      <td>cytosol</td>\n      <td>reactions</td>\n      <td>mmol/l</td>\n      <td>0.573074</td>\n      <td>3.451132e+20</td>\n      <td></td>\n      <td></td>\n      <td>0.573074</td>\n      <td>3.451132e+20</td>\n      <td>6.820866e+01</td>\n      <td>4.107622e+22</td>\n      <td>Metabolite_1</td>\n      <td>Glc</td>\n    </tr>\n    <tr>\n      <th>ATP</th>\n      <td>cytosol</td>\n      <td>reactions</td>\n      <td>mmol/l</td>\n      <td>2.100000</td>\n      <td>1.264650e+21</td>\n      <td></td>\n      <td></td>\n      <td>2.100000</td>\n      <td>1.264650e+21</td>\n      <td>-5.374740e-04</td>\n      <td>-3.236744e+17</td>\n      <td>Metabolite_2</td>\n      <td>ATP</td>\n    </tr>\n    <tr>\n      <th>Glucose-6-Phosphate</th>\n      <td>cytosol</td>\n      <td>reactions</td>\n      <td>mmol/l</td>\n      <td>4.200000</td>\n      <td>2.529299e+21</td>\n      <td></td>\n      <td></td>\n      <td>4.200000</td>\n      <td>2.529299e+21</td>\n      <td>2.292073e-05</td>\n      <td>1.380319e+16</td>\n      <td>Metabolite_3</td>\n      <td>G6P</td>\n    </tr>\n    <tr>\n      <th>ADP</th>\n      <td>cytosol</td>\n      <td>reactions</td>\n      <td>mmol/l</td>\n      <td>1.500000</td>\n      <td>9.033211e+20</td>\n      <td></td>\n      <td></td>\n      <td>1.500000</td>\n      <td>9.033211e+20</td>\n      <td>9.874740e-04</td>\n      <td>5.946708e+17</td>\n      <td>Metabolite_4</td>\n      <td>ADP</td>\n    </tr>\n    <tr>\n      <th>Fructose-6-Phosphate</th>\n      <td>cytosol</td>\n      <td>reactions</td>\n      <td>mmol/l</td>\n      <td>0.490000</td>\n      <td>2.950849e+20</td>\n      <td></td>\n      <td></td>\n      <td>0.490000</td>\n      <td>2.950849e+20</td>\n      <td>-2.357096e-05</td>\n      <td>-1.419477e+16</td>\n      <td>Metabolite_5</td>\n      <td>F6P</td>\n    </tr>\n    <tr>\n      <th>Fructose 1,6-bisphosphate</th>\n      <td>cytosol</td>\n      <td>reactions</td>\n      <td>mmol/l</td>\n      <td>4.640000</td>\n      <td>2.794273e+21</td>\n      <td></td>\n      <td></td>\n      <td>4.640000</td>\n      <td>2.794273e+21</td>\n      <td>3.000184e-05</td>\n      <td>1.806753e+16</td>\n      <td>Metabolite_6</td>\n      <td>FBP</td>\n    </tr>\n    <tr>\n      <th>Glyceraldehyde 3-phosphate</th>\n      <td>cytosol</td>\n      <td>reactions</td>\n      <td>mmol/l</td>\n      <td>0.115000</td>\n      <td>6.925462e+19</td>\n      <td></td>\n      <td></td>\n      <td>0.115000</td>\n      <td>6.925462e+19</td>\n      <td>-1.056219e-04</td>\n      <td>-6.360699e+16</td>\n      <td>Metabolite_7</td>\n      <td>GAP</td>\n    </tr>\n    <tr>\n      <th>Dihydroxyacetone phosphate</th>\n      <td>cytosol</td>\n      <td>reactions</td>\n      <td>mmol/l</td>\n      <td>2.950000</td>\n      <td>1.776532e+21</td>\n      <td></td>\n      <td></td>\n      <td>2.950000</td>\n      <td>1.776532e+21</td>\n      <td>8.613930e-05</td>\n      <td>5.187430e+16</td>\n      <td>Metabolite_8</td>\n      <td>DHAP</td>\n    </tr>\n    <tr>\n      <th>NAD</th>\n      <td>cytosol</td>\n      <td>reactions</td>\n      <td>mmol/l</td>\n      <td>0.650000</td>\n      <td>3.914391e+20</td>\n      <td></td>\n      <td></td>\n      <td>0.650000</td>\n      <td>3.914391e+20</td>\n      <td>-5.799246e-05</td>\n      <td>-3.492388e+16</td>\n      <td>Metabolite_9</td>\n      <td>NAD</td>\n    </tr>\n    <tr>\n      <th>1,3-Bisphosphoglycerate</th>\n      <td>cytosol</td>\n      <td>reactions</td>\n      <td>mmol/l</td>\n      <td>0.000270</td>\n      <td>1.625978e+17</td>\n      <td></td>\n      <td></td>\n      <td>0.000270</td>\n      <td>1.625978e+17</td>\n      <td>5.878219e-05</td>\n      <td>3.539946e+16</td>\n      <td>Metabolite_10</td>\n      <td>BPG</td>\n    </tr>\n    <tr>\n      <th>NADH</th>\n      <td>cytosol</td>\n      <td>reactions</td>\n      <td>mmol/l</td>\n      <td>0.330000</td>\n      <td>1.987306e+20</td>\n      <td></td>\n      <td></td>\n      <td>0.330000</td>\n      <td>1.987306e+20</td>\n      <td>5.799246e-05</td>\n      <td>3.492388e+16</td>\n      <td>Metabolite_11</td>\n      <td>NADH</td>\n    </tr>\n    <tr>\n      <th>Phosphoenolpyruvate</th>\n      <td>cytosol</td>\n      <td>reactions</td>\n      <td>mmol/l</td>\n      <td>0.040000</td>\n      <td>2.408856e+19</td>\n      <td></td>\n      <td></td>\n      <td>0.040000</td>\n      <td>2.408856e+19</td>\n      <td>-2.664671e-05</td>\n      <td>-1.604702e+16</td>\n      <td>Metabolite_12</td>\n      <td>PEP</td>\n    </tr>\n    <tr>\n      <th>Pyruvate</th>\n      <td>cytosol</td>\n      <td>reactions</td>\n      <td>mmol/l</td>\n      <td>8.700000</td>\n      <td>5.239262e+21</td>\n      <td></td>\n      <td></td>\n      <td>8.700000</td>\n      <td>5.239262e+21</td>\n      <td>-3.001996e-05</td>\n      <td>-1.807844e+16</td>\n      <td>Metabolite_13</td>\n      <td>Pyr</td>\n    </tr>\n    <tr>\n      <th>Acetaldehyde</th>\n      <td>cytosol</td>\n      <td>reactions</td>\n      <td>mmol/l</td>\n      <td>1.481530</td>\n      <td>8.921982e+20</td>\n      <td></td>\n      <td></td>\n      <td>1.481530</td>\n      <td>8.921982e+20</td>\n      <td>5.754463e-05</td>\n      <td>3.465418e+16</td>\n      <td>Metabolite_14</td>\n      <td>ACA</td>\n    </tr>\n    <tr>\n      <th>EtOH</th>\n      <td>cytosol</td>\n      <td>reactions</td>\n      <td>mmol/l</td>\n      <td>19.237900</td>\n      <td>1.158533e+22</td>\n      <td></td>\n      <td></td>\n      <td>19.237900</td>\n      <td>1.158533e+22</td>\n      <td>7.012204e-05</td>\n      <td>4.222848e+16</td>\n      <td>Metabolite_15</td>\n      <td>EtOH</td>\n    </tr>\n    <tr>\n      <th>Extracellular ethanol</th>\n      <td>extracellular</td>\n      <td>reactions</td>\n      <td>mmol/l</td>\n      <td>16.451400</td>\n      <td>9.907265e+21</td>\n      <td></td>\n      <td></td>\n      <td>16.451400</td>\n      <td>9.907265e+21</td>\n      <td>-1.437288e-06</td>\n      <td>-8.655551e+14</td>\n      <td>Metabolite_16</td>\n      <td>EtOHX</td>\n    </tr>\n    <tr>\n      <th>Glycerol</th>\n      <td>cytosol</td>\n      <td>reactions</td>\n      <td>mmol/l</td>\n      <td>4.196000</td>\n      <td>2.526890e+21</td>\n      <td></td>\n      <td></td>\n      <td>4.196000</td>\n      <td>2.526890e+21</td>\n      <td>-1.733231e-05</td>\n      <td>-1.043776e+16</td>\n      <td>Metabolite_17</td>\n      <td>Glyc</td>\n    </tr>\n    <tr>\n      <th>Extracellular glycerol</th>\n      <td>extracellular</td>\n      <td>reactions</td>\n      <td>mmol/l</td>\n      <td>1.684780</td>\n      <td>1.014598e+21</td>\n      <td></td>\n      <td></td>\n      <td>1.684780</td>\n      <td>1.014598e+21</td>\n      <td>3.566102e-07</td>\n      <td>2.147557e+14</td>\n      <td>Metabolite_18</td>\n      <td>GlycX</td>\n    </tr>\n    <tr>\n      <th>Extracellular acetaldehyde</th>\n      <td>extracellular</td>\n      <td>reactions</td>\n      <td>mmol/l</td>\n      <td>1.288360</td>\n      <td>7.758685e+20</td>\n      <td></td>\n      <td></td>\n      <td>1.288360</td>\n      <td>7.758685e+20</td>\n      <td>1.261075e-07</td>\n      <td>7.594373e+13</td>\n      <td>Metabolite_19</td>\n      <td>ACAX</td>\n    </tr>\n    <tr>\n      <th>Extracellular cyanide</th>\n      <td>extracellular</td>\n      <td>reactions</td>\n      <td>mmol/l</td>\n      <td>5.203580</td>\n      <td>3.133669e+21</td>\n      <td></td>\n      <td></td>\n      <td>5.203580</td>\n      <td>3.133669e+21</td>\n      <td>9.153125e-08</td>\n      <td>5.512141e+13</td>\n      <td>Metabolite_20</td>\n      <td>CNX</td>\n    </tr>\n    <tr>\n      <th>AMP</th>\n      <td>cytosol</td>\n      <td>reactions</td>\n      <td>mmol/l</td>\n      <td>0.330000</td>\n      <td>1.987306e+20</td>\n      <td></td>\n      <td></td>\n      <td>0.330000</td>\n      <td>1.987306e+20</td>\n      <td>-4.500000e-04</td>\n      <td>-2.709963e+17</td>\n      <td>Metabolite_21</td>\n      <td>AMP</td>\n    </tr>\n    <tr>\n      <th>P</th>\n      <td>extracellular</td>\n      <td>fixed</td>\n      <td>mmol/l</td>\n      <td>0.000000</td>\n      <td>0.000000e+00</td>\n      <td></td>\n      <td></td>\n      <td>0.000000</td>\n      <td>0.000000e+00</td>\n      <td>0.000000e+00</td>\n      <td>0.000000e+00</td>\n      <td>Metabolite_22</td>\n      <td>P</td>\n    </tr>\n    <tr>\n      <th>Mixed flow cyanide</th>\n      <td>extracellular</td>\n      <td>fixed</td>\n      <td>mmol/l</td>\n      <td>5.600000</td>\n      <td>3.372399e+21</td>\n      <td></td>\n      <td></td>\n      <td>5.600000</td>\n      <td>3.372399e+21</td>\n      <td>0.000000e+00</td>\n      <td>0.000000e+00</td>\n      <td>Metabolite_23</td>\n      <td>CNX0</td>\n    </tr>\n    <tr>\n      <th>Mixed flow glucose</th>\n      <td>extracellular</td>\n      <td>fixed</td>\n      <td>mmol/l</td>\n      <td>24.000000</td>\n      <td>1.445314e+22</td>\n      <td></td>\n      <td></td>\n      <td>24.000000</td>\n      <td>1.445314e+22</td>\n      <td>0.000000e+00</td>\n      <td>0.000000e+00</td>\n      <td>Metabolite_24</td>\n      <td>GlcX0</td>\n    </tr>\n  </tbody>\n</table>\n</div>"
     },
     "execution_count": 6,
     "metadata": {},
     "output_type": "execute_result"
    }
   ],
   "source": [
    "model_from_file = load_model(model_filepath)\n",
    "get_species(model=model_from_file)"
   ],
   "metadata": {
    "collapsed": false,
    "ExecuteTime": {
     "end_time": "2024-03-04T16:42:13.555997Z",
     "start_time": "2024-03-04T16:42:13.490510Z"
    }
   },
   "id": "40ab6f70ac3f4996",
   "execution_count": 6
  },
  {
   "cell_type": "code",
   "execution_count": 7,
   "outputs": [
    {
     "name": "stdout",
     "output_type": "stream",
     "text": [
      "{ 'global_parameter_changes': [],\n",
      "  'reaction_changes': [],\n",
      "  'species_changes': [ { 'expression': '',\n",
      "                         'initial_concentration': 9.261000000000001,\n",
      "                         'initial_expression': '',\n",
      "                         'initial_particle_number': None,\n",
      "                         'name': 'ADP',\n",
      "                         'unit': ''}]}\n"
     ]
    }
   ],
   "source": [
    "# 1. specify model changes\n",
    "process_model_changes = ModelChanges(\n",
    "    species_changes=[SpeciesChanges(name='ADP', initial_concentration=2.1**3)]\n",
    ")\n",
    "\n",
    "\n",
    "pp(process_model_changes.model_dump())"
   ],
   "metadata": {
    "collapsed": false,
    "ExecuteTime": {
     "end_time": "2024-03-04T16:42:14.251034Z",
     "start_time": "2024-03-04T16:42:14.219527Z"
    }
   },
   "id": "d02a547b85138f96"
  },
  {
   "cell_type": "code",
   "execution_count": 8,
   "outputs": [
    {
     "name": "stdout",
     "output_type": "stream",
     "text": [
      "{ 'model_changes': { 'global_parameter_changes': [],\n",
      "                     'reaction_changes': [],\n",
      "                     'species_changes': [ { 'expression': '',\n",
      "                                            'initial_concentration': 9.261000000000001,\n",
      "                                            'initial_expression': '',\n",
      "                                            'initial_particle_number': None,\n",
      "                                            'name': 'ADP',\n",
      "                                            'unit': ''}]},\n",
      "  'model_id': 'copasi_process_from_file',\n",
      "  'model_language': 'sbml',\n",
      "  'model_name': 'Simple Composite Process from File',\n",
      "  'model_source': { 'value': '../biosimulator_processes/model_files/BIOMD0000000061_url.xml'},\n",
      "  'model_units': None}\n"
     ]
    }
   ],
   "source": [
    "# 2. define the model schema to be used by the composite process (one of the copasiprocess config parameters)\n",
    "\n",
    "process_model_from_file = Model(\n",
    "    model_id='copasi_process_from_file',\n",
    "    model_source=model_filepath,\n",
    "    model_name='Simple Composite Process from File',\n",
    "    model_changes=process_model_changes\n",
    ")\n",
    "\n",
    "\n",
    "pp(process_model_from_file.model_dump())"
   ],
   "metadata": {
    "collapsed": false,
    "ExecuteTime": {
     "end_time": "2024-03-04T16:42:14.814108Z",
     "start_time": "2024-03-04T16:42:14.810827Z"
    }
   },
   "id": "1b6c269646357d7d"
  },
  {
   "cell_type": "code",
   "execution_count": 9,
   "outputs": [
    {
     "name": "stdout",
     "output_type": "stream",
     "text": [
      "{ 'method': 'stochastic',\n",
      "  'model': { 'model_changes': { 'global_parameter_changes': [],\n",
      "                                'reaction_changes': [],\n",
      "                                'species_changes': [ { 'expression': '',\n",
      "                                                       'initial_concentration': 9.261000000000001,\n",
      "                                                       'initial_expression': '',\n",
      "                                                       'initial_particle_number': None,\n",
      "                                                       'name': 'ADP',\n",
      "                                                       'unit': ''}]},\n",
      "             'model_id': 'copasi_process_from_file',\n",
      "             'model_language': 'sbml',\n",
      "             'model_name': 'Simple Composite Process from File',\n",
      "             'model_source': { 'value': '../biosimulator_processes/model_files/BIOMD0000000061_url.xml'},\n",
      "             'model_units': None},\n",
      "  'process_name': 'simple_copasi_from_file'}\n"
     ]
    }
   ],
   "source": [
    "# 3. Define config schema to be used as 'config' parameter of Process constructor\n",
    "process_config_from_file = CopasiProcessConfigSchema(\n",
    "    method='stochastic',\n",
    "    model=process_model_from_file,\n",
    "    process_name='simple_copasi_from_file'\n",
    ")\n",
    "\n",
    "\n",
    "pp(process_config_from_file.model_dump())"
   ],
   "metadata": {
    "collapsed": false,
    "ExecuteTime": {
     "end_time": "2024-03-04T16:42:15.337152Z",
     "start_time": "2024-03-04T16:42:15.334361Z"
    }
   },
   "id": "5d434956e65b1a42"
  },
  {
   "cell_type": "code",
   "execution_count": 10,
   "outputs": [
    {
     "data": {
      "text/plain": "{'model_id': 'copasi_process_from_file',\n 'model_source': {'value': '../biosimulator_processes/model_files/BIOMD0000000061_url.xml'},\n 'model_language': 'sbml',\n 'model_name': 'Simple Composite Process from File',\n 'model_changes': {'species_changes': [{'name': 'ADP',\n    'unit': '',\n    'initial_concentration': 9.261000000000001,\n    'initial_particle_number': None,\n    'initial_expression': '',\n    'expression': ''}],\n  'global_parameter_changes': [],\n  'reaction_changes': []},\n 'model_units': None}"
     },
     "execution_count": 10,
     "metadata": {},
     "output_type": "execute_result"
    }
   ],
   "source": [
    "process_config_from_file.model"
   ],
   "metadata": {
    "collapsed": false,
    "ExecuteTime": {
     "end_time": "2024-03-04T16:42:16.043432Z",
     "start_time": "2024-03-04T16:42:16.040674Z"
    }
   },
   "id": "de88e95d8f616779"
  },
  {
   "cell_type": "code",
   "execution_count": 11,
   "outputs": [],
   "source": [
    "# 4. Add the process instance by the name of 'simple_copasi' to the builder\n",
    "\n",
    "\n",
    "b[process_config_from_file.process_name].add_process(\n",
    "    name='CopasiProcess',\n",
    "    model=process_config_from_file.model,\n",
    "    method=process_config_from_file.method\n",
    ")"
   ],
   "metadata": {
    "collapsed": false,
    "ExecuteTime": {
     "end_time": "2024-03-04T16:42:16.698339Z",
     "start_time": "2024-03-04T16:42:16.522040Z"
    }
   },
   "id": "52d81ea2ea688d47"
  },
  {
   "cell_type": "markdown",
   "source": [
    "Let's load a BIOMODEL from `basico` and inspect the parameters we can adjust, and then add it to the composite process:"
   ],
   "metadata": {
    "collapsed": false
   },
   "id": "bfd4af678329923a"
  },
  {
   "cell_type": "code",
   "execution_count": 12,
   "outputs": [
    {
     "data": {
      "text/plain": "             compartment       type    unit  initial_concentration  \\\nname                                                                 \nEpoRJAK2             cyt  reactions  nmol/l           3.976220e+00   \nEpoRpJAK2            cyt  reactions  nmol/l           0.000000e+00   \np1EpoRpJAK2          cyt  reactions  nmol/l           0.000000e+00   \np2EpoRpJAK2          cyt  reactions  nmol/l           0.000000e+00   \np12EpoRpJAK2         cyt  reactions  nmol/l           0.000000e+00   \nEpoRJAK2_CIS         cyt  reactions  nmol/l           0.000000e+00   \nSHP1                 cyt  reactions  nmol/l           2.672510e+01   \nSHP1Act              cyt  reactions  nmol/l           0.000000e+00   \nSTAT5                cyt  reactions  nmol/l           7.975350e+01   \npSTAT5               cyt  reactions  nmol/l           0.000000e+00   \nnpSTAT5              nuc  reactions  nmol/l           0.000000e+00   \nCISnRNA1             nuc  reactions  nmol/l           0.000000e+00   \nCISnRNA2             nuc  reactions  nmol/l           0.000000e+00   \nCISnRNA3             nuc  reactions  nmol/l           0.000000e+00   \nCISnRNA4             nuc  reactions  nmol/l           0.000000e+00   \nCISnRNA5             nuc  reactions  nmol/l           0.000000e+00   \nCISRNA               cyt  reactions  nmol/l           0.000000e+00   \nCIS                  cyt  reactions  nmol/l           0.000000e+00   \nSOCS3nRNA1           nuc  reactions  nmol/l           0.000000e+00   \nSOCS3nRNA2           nuc  reactions  nmol/l           0.000000e+00   \nSOCS3nRNA3           nuc  reactions  nmol/l           0.000000e+00   \nSOCS3nRNA4           nuc  reactions  nmol/l           0.000000e+00   \nSOCS3nRNA5           nuc  reactions  nmol/l           0.000000e+00   \nSOCS3RNA             cyt  reactions  nmol/l           0.000000e+00   \nSOCS3                cyt  reactions  nmol/l           0.000000e+00   \nEpo                  cyt  reactions  nmol/l           1.249970e-07   \n\n              initial_particle_number initial_expression expression  \\\nname                                                                  \nEpoRJAK2                 9.578143e+14                                 \nEpoRpJAK2                0.000000e+00                                 \np1EpoRpJAK2              0.000000e+00                                 \np2EpoRpJAK2              0.000000e+00                                 \np12EpoRpJAK2             0.000000e+00                                 \nEpoRJAK2_CIS             0.000000e+00                                 \nSHP1                     6.437693e+15                                 \nSHP1Act                  0.000000e+00                                 \nSTAT5                    1.921147e+16                                 \npSTAT5                   0.000000e+00                                 \nnpSTAT5                  0.000000e+00                                 \nCISnRNA1                 0.000000e+00                                 \nCISnRNA2                 0.000000e+00                                 \nCISnRNA3                 0.000000e+00                                 \nCISnRNA4                 0.000000e+00                                 \nCISnRNA5                 0.000000e+00                                 \nCISRNA                   0.000000e+00                                 \nCIS                      0.000000e+00                                 \nSOCS3nRNA1               0.000000e+00                                 \nSOCS3nRNA2               0.000000e+00                                 \nSOCS3nRNA3               0.000000e+00                                 \nSOCS3nRNA4               0.000000e+00                                 \nSOCS3nRNA5               0.000000e+00                                 \nSOCS3RNA                 0.000000e+00                                 \nSOCS3                    0.000000e+00                                 \nEpo                      3.010998e+07                                 \n\n              concentration  particle_number      rate  particle_number_rate  \\\nname                                                                           \nEpoRJAK2       3.976220e+00     9.578143e+14 -0.314737         -7.581552e+13   \nEpoRpJAK2      0.000000e+00     0.000000e+00  0.314737          7.581552e+13   \np1EpoRpJAK2    0.000000e+00     0.000000e+00  0.000000          0.000000e+00   \np2EpoRpJAK2    0.000000e+00     0.000000e+00  0.000000          0.000000e+00   \np12EpoRpJAK2   0.000000e+00     0.000000e+00  0.000000          0.000000e+00   \nEpoRJAK2_CIS   0.000000e+00     0.000000e+00  0.000000          0.000000e+00   \nSHP1           2.672510e+01     6.437693e+15  0.000000          0.000000e+00   \nSHP1Act        0.000000e+00     0.000000e+00  0.000000          0.000000e+00   \nSTAT5          7.975350e+01     1.921147e+16  0.000000          0.000000e+00   \npSTAT5         0.000000e+00     0.000000e+00  0.000000          0.000000e+00   \nnpSTAT5        0.000000e+00     0.000000e+00  0.000000          0.000000e+00   \nCISnRNA1       0.000000e+00     0.000000e+00  0.000000          0.000000e+00   \nCISnRNA2       0.000000e+00     0.000000e+00  0.000000          0.000000e+00   \nCISnRNA3       0.000000e+00     0.000000e+00  0.000000          0.000000e+00   \nCISnRNA4       0.000000e+00     0.000000e+00  0.000000          0.000000e+00   \nCISnRNA5       0.000000e+00     0.000000e+00  0.000000          0.000000e+00   \nCISRNA         0.000000e+00     0.000000e+00  0.000000          0.000000e+00   \nCIS            0.000000e+00     0.000000e+00  0.000000          0.000000e+00   \nSOCS3nRNA1     0.000000e+00     0.000000e+00  0.000000          0.000000e+00   \nSOCS3nRNA2     0.000000e+00     0.000000e+00  0.000000          0.000000e+00   \nSOCS3nRNA3     0.000000e+00     0.000000e+00  0.000000          0.000000e+00   \nSOCS3nRNA4     0.000000e+00     0.000000e+00  0.000000          0.000000e+00   \nSOCS3nRNA5     0.000000e+00     0.000000e+00  0.000000          0.000000e+00   \nSOCS3RNA       0.000000e+00     0.000000e+00  0.000000          0.000000e+00   \nSOCS3          0.000000e+00     0.000000e+00  0.000000          0.000000e+00   \nEpo            1.249970e-07     3.010998e+07  0.000000          0.000000e+00   \n\n                        key       sbml_id  \nname                                       \nEpoRJAK2      Metabolite_50      EpoRJAK2  \nEpoRpJAK2     Metabolite_51     EpoRpJAK2  \np1EpoRpJAK2   Metabolite_52   p1EpoRpJAK2  \np2EpoRpJAK2   Metabolite_53   p2EpoRpJAK2  \np12EpoRpJAK2  Metabolite_54  p12EpoRpJAK2  \nEpoRJAK2_CIS  Metabolite_55  EpoRJAK2_CIS  \nSHP1          Metabolite_56          SHP1  \nSHP1Act       Metabolite_57       SHP1Act  \nSTAT5         Metabolite_58         STAT5  \npSTAT5        Metabolite_59        pSTAT5  \nnpSTAT5       Metabolite_60       npSTAT5  \nCISnRNA1      Metabolite_61      CISnRNA1  \nCISnRNA2      Metabolite_62      CISnRNA2  \nCISnRNA3      Metabolite_63      CISnRNA3  \nCISnRNA4      Metabolite_64      CISnRNA4  \nCISnRNA5      Metabolite_65      CISnRNA5  \nCISRNA        Metabolite_66        CISRNA  \nCIS           Metabolite_67           CIS  \nSOCS3nRNA1    Metabolite_68    SOCS3nRNA1  \nSOCS3nRNA2    Metabolite_69    SOCS3nRNA2  \nSOCS3nRNA3    Metabolite_70    SOCS3nRNA3  \nSOCS3nRNA4    Metabolite_71    SOCS3nRNA4  \nSOCS3nRNA5    Metabolite_72    SOCS3nRNA5  \nSOCS3RNA      Metabolite_73      SOCS3RNA  \nSOCS3         Metabolite_74         SOCS3  \nEpo           Metabolite_75           Epo  ",
      "text/html": "<div>\n<style scoped>\n    .dataframe tbody tr th:only-of-type {\n        vertical-align: middle;\n    }\n\n    .dataframe tbody tr th {\n        vertical-align: top;\n    }\n\n    .dataframe thead th {\n        text-align: right;\n    }\n</style>\n<table border=\"1\" class=\"dataframe\">\n  <thead>\n    <tr style=\"text-align: right;\">\n      <th></th>\n      <th>compartment</th>\n      <th>type</th>\n      <th>unit</th>\n      <th>initial_concentration</th>\n      <th>initial_particle_number</th>\n      <th>initial_expression</th>\n      <th>expression</th>\n      <th>concentration</th>\n      <th>particle_number</th>\n      <th>rate</th>\n      <th>particle_number_rate</th>\n      <th>key</th>\n      <th>sbml_id</th>\n    </tr>\n    <tr>\n      <th>name</th>\n      <th></th>\n      <th></th>\n      <th></th>\n      <th></th>\n      <th></th>\n      <th></th>\n      <th></th>\n      <th></th>\n      <th></th>\n      <th></th>\n      <th></th>\n      <th></th>\n      <th></th>\n    </tr>\n  </thead>\n  <tbody>\n    <tr>\n      <th>EpoRJAK2</th>\n      <td>cyt</td>\n      <td>reactions</td>\n      <td>nmol/l</td>\n      <td>3.976220e+00</td>\n      <td>9.578143e+14</td>\n      <td></td>\n      <td></td>\n      <td>3.976220e+00</td>\n      <td>9.578143e+14</td>\n      <td>-0.314737</td>\n      <td>-7.581552e+13</td>\n      <td>Metabolite_50</td>\n      <td>EpoRJAK2</td>\n    </tr>\n    <tr>\n      <th>EpoRpJAK2</th>\n      <td>cyt</td>\n      <td>reactions</td>\n      <td>nmol/l</td>\n      <td>0.000000e+00</td>\n      <td>0.000000e+00</td>\n      <td></td>\n      <td></td>\n      <td>0.000000e+00</td>\n      <td>0.000000e+00</td>\n      <td>0.314737</td>\n      <td>7.581552e+13</td>\n      <td>Metabolite_51</td>\n      <td>EpoRpJAK2</td>\n    </tr>\n    <tr>\n      <th>p1EpoRpJAK2</th>\n      <td>cyt</td>\n      <td>reactions</td>\n      <td>nmol/l</td>\n      <td>0.000000e+00</td>\n      <td>0.000000e+00</td>\n      <td></td>\n      <td></td>\n      <td>0.000000e+00</td>\n      <td>0.000000e+00</td>\n      <td>0.000000</td>\n      <td>0.000000e+00</td>\n      <td>Metabolite_52</td>\n      <td>p1EpoRpJAK2</td>\n    </tr>\n    <tr>\n      <th>p2EpoRpJAK2</th>\n      <td>cyt</td>\n      <td>reactions</td>\n      <td>nmol/l</td>\n      <td>0.000000e+00</td>\n      <td>0.000000e+00</td>\n      <td></td>\n      <td></td>\n      <td>0.000000e+00</td>\n      <td>0.000000e+00</td>\n      <td>0.000000</td>\n      <td>0.000000e+00</td>\n      <td>Metabolite_53</td>\n      <td>p2EpoRpJAK2</td>\n    </tr>\n    <tr>\n      <th>p12EpoRpJAK2</th>\n      <td>cyt</td>\n      <td>reactions</td>\n      <td>nmol/l</td>\n      <td>0.000000e+00</td>\n      <td>0.000000e+00</td>\n      <td></td>\n      <td></td>\n      <td>0.000000e+00</td>\n      <td>0.000000e+00</td>\n      <td>0.000000</td>\n      <td>0.000000e+00</td>\n      <td>Metabolite_54</td>\n      <td>p12EpoRpJAK2</td>\n    </tr>\n    <tr>\n      <th>EpoRJAK2_CIS</th>\n      <td>cyt</td>\n      <td>reactions</td>\n      <td>nmol/l</td>\n      <td>0.000000e+00</td>\n      <td>0.000000e+00</td>\n      <td></td>\n      <td></td>\n      <td>0.000000e+00</td>\n      <td>0.000000e+00</td>\n      <td>0.000000</td>\n      <td>0.000000e+00</td>\n      <td>Metabolite_55</td>\n      <td>EpoRJAK2_CIS</td>\n    </tr>\n    <tr>\n      <th>SHP1</th>\n      <td>cyt</td>\n      <td>reactions</td>\n      <td>nmol/l</td>\n      <td>2.672510e+01</td>\n      <td>6.437693e+15</td>\n      <td></td>\n      <td></td>\n      <td>2.672510e+01</td>\n      <td>6.437693e+15</td>\n      <td>0.000000</td>\n      <td>0.000000e+00</td>\n      <td>Metabolite_56</td>\n      <td>SHP1</td>\n    </tr>\n    <tr>\n      <th>SHP1Act</th>\n      <td>cyt</td>\n      <td>reactions</td>\n      <td>nmol/l</td>\n      <td>0.000000e+00</td>\n      <td>0.000000e+00</td>\n      <td></td>\n      <td></td>\n      <td>0.000000e+00</td>\n      <td>0.000000e+00</td>\n      <td>0.000000</td>\n      <td>0.000000e+00</td>\n      <td>Metabolite_57</td>\n      <td>SHP1Act</td>\n    </tr>\n    <tr>\n      <th>STAT5</th>\n      <td>cyt</td>\n      <td>reactions</td>\n      <td>nmol/l</td>\n      <td>7.975350e+01</td>\n      <td>1.921147e+16</td>\n      <td></td>\n      <td></td>\n      <td>7.975350e+01</td>\n      <td>1.921147e+16</td>\n      <td>0.000000</td>\n      <td>0.000000e+00</td>\n      <td>Metabolite_58</td>\n      <td>STAT5</td>\n    </tr>\n    <tr>\n      <th>pSTAT5</th>\n      <td>cyt</td>\n      <td>reactions</td>\n      <td>nmol/l</td>\n      <td>0.000000e+00</td>\n      <td>0.000000e+00</td>\n      <td></td>\n      <td></td>\n      <td>0.000000e+00</td>\n      <td>0.000000e+00</td>\n      <td>0.000000</td>\n      <td>0.000000e+00</td>\n      <td>Metabolite_59</td>\n      <td>pSTAT5</td>\n    </tr>\n    <tr>\n      <th>npSTAT5</th>\n      <td>nuc</td>\n      <td>reactions</td>\n      <td>nmol/l</td>\n      <td>0.000000e+00</td>\n      <td>0.000000e+00</td>\n      <td></td>\n      <td></td>\n      <td>0.000000e+00</td>\n      <td>0.000000e+00</td>\n      <td>0.000000</td>\n      <td>0.000000e+00</td>\n      <td>Metabolite_60</td>\n      <td>npSTAT5</td>\n    </tr>\n    <tr>\n      <th>CISnRNA1</th>\n      <td>nuc</td>\n      <td>reactions</td>\n      <td>nmol/l</td>\n      <td>0.000000e+00</td>\n      <td>0.000000e+00</td>\n      <td></td>\n      <td></td>\n      <td>0.000000e+00</td>\n      <td>0.000000e+00</td>\n      <td>0.000000</td>\n      <td>0.000000e+00</td>\n      <td>Metabolite_61</td>\n      <td>CISnRNA1</td>\n    </tr>\n    <tr>\n      <th>CISnRNA2</th>\n      <td>nuc</td>\n      <td>reactions</td>\n      <td>nmol/l</td>\n      <td>0.000000e+00</td>\n      <td>0.000000e+00</td>\n      <td></td>\n      <td></td>\n      <td>0.000000e+00</td>\n      <td>0.000000e+00</td>\n      <td>0.000000</td>\n      <td>0.000000e+00</td>\n      <td>Metabolite_62</td>\n      <td>CISnRNA2</td>\n    </tr>\n    <tr>\n      <th>CISnRNA3</th>\n      <td>nuc</td>\n      <td>reactions</td>\n      <td>nmol/l</td>\n      <td>0.000000e+00</td>\n      <td>0.000000e+00</td>\n      <td></td>\n      <td></td>\n      <td>0.000000e+00</td>\n      <td>0.000000e+00</td>\n      <td>0.000000</td>\n      <td>0.000000e+00</td>\n      <td>Metabolite_63</td>\n      <td>CISnRNA3</td>\n    </tr>\n    <tr>\n      <th>CISnRNA4</th>\n      <td>nuc</td>\n      <td>reactions</td>\n      <td>nmol/l</td>\n      <td>0.000000e+00</td>\n      <td>0.000000e+00</td>\n      <td></td>\n      <td></td>\n      <td>0.000000e+00</td>\n      <td>0.000000e+00</td>\n      <td>0.000000</td>\n      <td>0.000000e+00</td>\n      <td>Metabolite_64</td>\n      <td>CISnRNA4</td>\n    </tr>\n    <tr>\n      <th>CISnRNA5</th>\n      <td>nuc</td>\n      <td>reactions</td>\n      <td>nmol/l</td>\n      <td>0.000000e+00</td>\n      <td>0.000000e+00</td>\n      <td></td>\n      <td></td>\n      <td>0.000000e+00</td>\n      <td>0.000000e+00</td>\n      <td>0.000000</td>\n      <td>0.000000e+00</td>\n      <td>Metabolite_65</td>\n      <td>CISnRNA5</td>\n    </tr>\n    <tr>\n      <th>CISRNA</th>\n      <td>cyt</td>\n      <td>reactions</td>\n      <td>nmol/l</td>\n      <td>0.000000e+00</td>\n      <td>0.000000e+00</td>\n      <td></td>\n      <td></td>\n      <td>0.000000e+00</td>\n      <td>0.000000e+00</td>\n      <td>0.000000</td>\n      <td>0.000000e+00</td>\n      <td>Metabolite_66</td>\n      <td>CISRNA</td>\n    </tr>\n    <tr>\n      <th>CIS</th>\n      <td>cyt</td>\n      <td>reactions</td>\n      <td>nmol/l</td>\n      <td>0.000000e+00</td>\n      <td>0.000000e+00</td>\n      <td></td>\n      <td></td>\n      <td>0.000000e+00</td>\n      <td>0.000000e+00</td>\n      <td>0.000000</td>\n      <td>0.000000e+00</td>\n      <td>Metabolite_67</td>\n      <td>CIS</td>\n    </tr>\n    <tr>\n      <th>SOCS3nRNA1</th>\n      <td>nuc</td>\n      <td>reactions</td>\n      <td>nmol/l</td>\n      <td>0.000000e+00</td>\n      <td>0.000000e+00</td>\n      <td></td>\n      <td></td>\n      <td>0.000000e+00</td>\n      <td>0.000000e+00</td>\n      <td>0.000000</td>\n      <td>0.000000e+00</td>\n      <td>Metabolite_68</td>\n      <td>SOCS3nRNA1</td>\n    </tr>\n    <tr>\n      <th>SOCS3nRNA2</th>\n      <td>nuc</td>\n      <td>reactions</td>\n      <td>nmol/l</td>\n      <td>0.000000e+00</td>\n      <td>0.000000e+00</td>\n      <td></td>\n      <td></td>\n      <td>0.000000e+00</td>\n      <td>0.000000e+00</td>\n      <td>0.000000</td>\n      <td>0.000000e+00</td>\n      <td>Metabolite_69</td>\n      <td>SOCS3nRNA2</td>\n    </tr>\n    <tr>\n      <th>SOCS3nRNA3</th>\n      <td>nuc</td>\n      <td>reactions</td>\n      <td>nmol/l</td>\n      <td>0.000000e+00</td>\n      <td>0.000000e+00</td>\n      <td></td>\n      <td></td>\n      <td>0.000000e+00</td>\n      <td>0.000000e+00</td>\n      <td>0.000000</td>\n      <td>0.000000e+00</td>\n      <td>Metabolite_70</td>\n      <td>SOCS3nRNA3</td>\n    </tr>\n    <tr>\n      <th>SOCS3nRNA4</th>\n      <td>nuc</td>\n      <td>reactions</td>\n      <td>nmol/l</td>\n      <td>0.000000e+00</td>\n      <td>0.000000e+00</td>\n      <td></td>\n      <td></td>\n      <td>0.000000e+00</td>\n      <td>0.000000e+00</td>\n      <td>0.000000</td>\n      <td>0.000000e+00</td>\n      <td>Metabolite_71</td>\n      <td>SOCS3nRNA4</td>\n    </tr>\n    <tr>\n      <th>SOCS3nRNA5</th>\n      <td>nuc</td>\n      <td>reactions</td>\n      <td>nmol/l</td>\n      <td>0.000000e+00</td>\n      <td>0.000000e+00</td>\n      <td></td>\n      <td></td>\n      <td>0.000000e+00</td>\n      <td>0.000000e+00</td>\n      <td>0.000000</td>\n      <td>0.000000e+00</td>\n      <td>Metabolite_72</td>\n      <td>SOCS3nRNA5</td>\n    </tr>\n    <tr>\n      <th>SOCS3RNA</th>\n      <td>cyt</td>\n      <td>reactions</td>\n      <td>nmol/l</td>\n      <td>0.000000e+00</td>\n      <td>0.000000e+00</td>\n      <td></td>\n      <td></td>\n      <td>0.000000e+00</td>\n      <td>0.000000e+00</td>\n      <td>0.000000</td>\n      <td>0.000000e+00</td>\n      <td>Metabolite_73</td>\n      <td>SOCS3RNA</td>\n    </tr>\n    <tr>\n      <th>SOCS3</th>\n      <td>cyt</td>\n      <td>reactions</td>\n      <td>nmol/l</td>\n      <td>0.000000e+00</td>\n      <td>0.000000e+00</td>\n      <td></td>\n      <td></td>\n      <td>0.000000e+00</td>\n      <td>0.000000e+00</td>\n      <td>0.000000</td>\n      <td>0.000000e+00</td>\n      <td>Metabolite_74</td>\n      <td>SOCS3</td>\n    </tr>\n    <tr>\n      <th>Epo</th>\n      <td>cyt</td>\n      <td>reactions</td>\n      <td>nmol/l</td>\n      <td>1.249970e-07</td>\n      <td>3.010998e+07</td>\n      <td></td>\n      <td></td>\n      <td>1.249970e-07</td>\n      <td>3.010998e+07</td>\n      <td>0.000000</td>\n      <td>0.000000e+00</td>\n      <td>Metabolite_75</td>\n      <td>Epo</td>\n    </tr>\n  </tbody>\n</table>\n</div>"
     },
     "execution_count": 12,
     "metadata": {},
     "output_type": "execute_result"
    }
   ],
   "source": [
    "from basico import *\n",
    "from basico import biomodels\n",
    "\n",
    "\n",
    "biomodel_id = 'BIOMD0000000861'\n",
    "biomodel = load_biomodel(biomodel_id)\n",
    "get_species(model=biomodel)"
   ],
   "metadata": {
    "collapsed": false,
    "ExecuteTime": {
     "end_time": "2024-03-04T16:42:28.725829Z",
     "start_time": "2024-03-04T16:42:26.443059Z"
    }
   },
   "id": "f499f96a817d9faf"
  },
  {
   "cell_type": "code",
   "outputs": [
    {
     "data": {
      "text/plain": "                                                        scheme      flux  \\\nname                                                                       \nreaction_1                   EpoRJAK2 -> EpoRpJAK2;  Epo SOCS3  0.125895   \nreaction_2                     EpoRpJAK2 -> EpoRJAK2;  SHP1Act  0.000000   \nreaction_3                    EpoRpJAK2 -> p1EpoRpJAK2;  SOCS3  0.000000   \nreaction_4       EpoRpJAK2 -> p2EpoRpJAK2;  EpoRJAK2_CIS SOCS3  0.000000   \nreaction_5    p1EpoRpJAK2 -> p12EpoRpJAK2;  EpoRJAK2_CIS SOCS3  0.000000   \nreaction_6                 p2EpoRpJAK2 -> p12EpoRpJAK2;  SOCS3  0.000000   \nreaction_7                   p1EpoRpJAK2 -> EpoRJAK2;  SHP1Act  0.000000   \nreaction_8                   p2EpoRpJAK2 -> EpoRJAK2;  SHP1Act  0.000000   \nreaction_9                  p12EpoRpJAK2 -> EpoRJAK2;  SHP1Act  0.000000   \nreaction_10        EpoRJAK2_CIS -> ;  p12EpoRpJAK2 p1EpoRpJAK2  0.000000   \nreaction_11  SHP1 -> SHP1Act;  EpoRpJAK2 p12EpoRpJAK2 p1Epo...  0.000000   \nreaction_12                                    SHP1Act -> SHP1  0.000000   \nreaction_13  STAT5 -> pSTAT5;  EpoRpJAK2 SOCS3 p12EpoRpJAK2...  0.000000   \nreaction_14  STAT5 -> pSTAT5;  CIS SOCS3 p12EpoRpJAK2 p1Epo...  0.000000   \nreaction_15                                  pSTAT5 -> npSTAT5  0.000000   \nreaction_16                                   npSTAT5 -> STAT5  0.000000   \nreaction_17                               = CISnRNA1;  npSTAT5  0.000000   \nreaction_18                               CISnRNA1 -> CISnRNA2  0.000000   \nreaction_19                               CISnRNA2 -> CISnRNA3  0.000000   \nreaction_20                               CISnRNA3 -> CISnRNA4  0.000000   \nreaction_21                               CISnRNA4 -> CISnRNA5  0.000000   \nreaction_22                                 CISnRNA5 -> CISRNA  0.000000   \nreaction_23                                         CISRNA ->   0.000000   \nreaction_24                                    -> CIS;  CISRNA  0.000000   \nreaction_25                                            CIS ->   0.000000   \nreaction_26                                             -> CIS  0.000000   \nreaction_27                             = SOCS3nRNA1;  npSTAT5  0.000000   \nreaction_28                           SOCS3nRNA1 -> SOCS3nRNA2  0.000000   \nreaction_29                           SOCS3nRNA2 -> SOCS3nRNA3  0.000000   \nreaction_30                           SOCS3nRNA3 -> SOCS3nRNA4  0.000000   \nreaction_31                           SOCS3nRNA4 -> SOCS3nRNA5  0.000000   \nreaction_32                             SOCS3nRNA5 -> SOCS3RNA  0.000000   \nreaction_33                                       SOCS3RNA ->   0.000000   \nreaction_34                                -> SOCS3;  SOCS3RNA  0.000000   \nreaction_35                                          SOCS3 ->   0.000000   \nreaction_36                                           -> SOCS3  0.000000   \n\n             particle_flux                    function          key  \\\nname                                                                  \nreaction_1    7.581552e+13     Function for reaction_1  Reaction_48   \nreaction_2    0.000000e+00     Function for reaction_2  Reaction_49   \nreaction_3    0.000000e+00     Function for reaction_3  Reaction_50   \nreaction_4    0.000000e+00     Function for reaction_4  Reaction_51   \nreaction_5    0.000000e+00     Function for reaction_5  Reaction_52   \nreaction_6    0.000000e+00     Function for reaction_6  Reaction_53   \nreaction_7    0.000000e+00     Function for reaction_7  Reaction_54   \nreaction_8    0.000000e+00     Function for reaction_8  Reaction_55   \nreaction_9    0.000000e+00     Function for reaction_9  Reaction_56   \nreaction_10   0.000000e+00    Function for reaction_10  Reaction_57   \nreaction_11   0.000000e+00    Function for reaction_11  Reaction_58   \nreaction_12   0.000000e+00  Mass action (irreversible)  Reaction_59   \nreaction_13   0.000000e+00    Function for reaction_13  Reaction_60   \nreaction_14   0.000000e+00    Function for reaction_14  Reaction_61   \nreaction_15   0.000000e+00    Function for reaction_15  Reaction_62   \nreaction_16   0.000000e+00    Function for reaction_16  Reaction_63   \nreaction_17   0.000000e+00    Function for reaction_17  Reaction_64   \nreaction_18   0.000000e+00  Mass action (irreversible)  Reaction_65   \nreaction_19   0.000000e+00  Mass action (irreversible)  Reaction_66   \nreaction_20   0.000000e+00  Mass action (irreversible)  Reaction_67   \nreaction_21   0.000000e+00  Mass action (irreversible)  Reaction_68   \nreaction_22   0.000000e+00    Function for reaction_22  Reaction_69   \nreaction_23   0.000000e+00  Mass action (irreversible)  Reaction_70   \nreaction_24   0.000000e+00    Function for reaction_24  Reaction_71   \nreaction_25   0.000000e+00  Mass action (irreversible)  Reaction_72   \nreaction_26   0.000000e+00    Function for reaction_26  Reaction_73   \nreaction_27   0.000000e+00    Function for reaction_27  Reaction_74   \nreaction_28   0.000000e+00  Mass action (irreversible)  Reaction_75   \nreaction_29   0.000000e+00  Mass action (irreversible)  Reaction_76   \nreaction_30   0.000000e+00  Mass action (irreversible)  Reaction_77   \nreaction_31   0.000000e+00  Mass action (irreversible)  Reaction_78   \nreaction_32   0.000000e+00    Function for reaction_32  Reaction_79   \nreaction_33   0.000000e+00  Mass action (irreversible)  Reaction_80   \nreaction_34   0.000000e+00    Function for reaction_34  Reaction_81   \nreaction_35   0.000000e+00  Mass action (irreversible)  Reaction_82   \nreaction_36   0.000000e+00    Function for reaction_36  Reaction_83   \n\n                 sbml_id                                            mapping  \nname                                                                         \nreaction_1    reaction_1  {'Epo': 'Epo', 'EpoRJAK2': 'EpoRJAK2', 'JAK2Ac...  \nreaction_2    reaction_2  {'EpoRpJAK2': 'EpoRpJAK2', 'JAK2EpoRDeaSHP1': ...  \nreaction_3    reaction_3  {'EpoRActJAK2': 'EpoRActJAK2', 'EpoRpJAK2': 'E...  \nreaction_4    reaction_4  {'EpoRActJAK2': 'EpoRActJAK2', 'EpoRCISInh': '...  \nreaction_5    reaction_5  {'EpoRActJAK2': 'EpoRActJAK2', 'EpoRCISInh': '...  \nreaction_6    reaction_6  {'EpoRActJAK2': 'EpoRActJAK2', 'SOCS3': 'SOCS3...  \nreaction_7    reaction_7  {'JAK2EpoRDeaSHP1': 'JAK2EpoRDeaSHP1', 'SHP1Ac...  \nreaction_8    reaction_8  {'JAK2EpoRDeaSHP1': 'JAK2EpoRDeaSHP1', 'SHP1Ac...  \nreaction_9    reaction_9  {'JAK2EpoRDeaSHP1': 'JAK2EpoRDeaSHP1', 'SHP1Ac...  \nreaction_10  reaction_10  {'EpoRCISRemove': 'EpoRCISRemove', 'EpoRJAK2_C...  \nreaction_11  reaction_11  {'EpoRpJAK2': 'EpoRpJAK2', 'SHP1': 'SHP1', 'SH...  \nreaction_12  reaction_12          {'k1': 'SHP1Dea', 'substrate': 'SHP1Act'}  \nreaction_13  reaction_13  {'EpoRpJAK2': 'EpoRpJAK2', 'SOCS3': 'SOCS3', '...  \nreaction_14  reaction_14  {'CIS': 'CIS', 'CISEqc': 'CISEqc', 'CISInh': '...  \nreaction_15  reaction_15  {'STAT5Imp': 'STAT5Imp', 'cyt': 'cyt', 'pSTAT5...  \nreaction_16  reaction_16  {'STAT5Exp': 'STAT5Exp', 'npSTAT5': 'npSTAT5',...  \nreaction_17  reaction_17  {'ActD': 'ActD', 'CISRNAEqc': 'CISRNAEqc', 'CI...  \nreaction_18  reaction_18     {'k1': 'CISRNADelay', 'substrate': 'CISnRNA1'}  \nreaction_19  reaction_19     {'k1': 'CISRNADelay', 'substrate': 'CISnRNA2'}  \nreaction_20  reaction_20     {'k1': 'CISRNADelay', 'substrate': 'CISnRNA3'}  \nreaction_21  reaction_21     {'k1': 'CISRNADelay', 'substrate': 'CISnRNA4'}  \nreaction_22  reaction_22  {'CISRNADelay': 'CISRNADelay', 'CISnRNA5': 'CI...  \nreaction_23  reaction_23        {'k1': 'CISRNATurn', 'substrate': 'CISRNA'}  \nreaction_24  reaction_24  {'CISEqc': 'CISEqc', 'CISRNA': 'CISRNA', 'CISR...  \nreaction_25  reaction_25              {'k1': 'CISTurn', 'substrate': 'CIS'}  \nreaction_26  reaction_26  {'CISEqc': 'CISEqc', 'CISEqcOE': 'CISEqcOE', '...  \nreaction_27  reaction_27  {'ActD': 'ActD', 'SOCS3RNAEqc': 'SOCS3RNAEqc',...  \nreaction_28  reaction_28  {'k1': 'SOCS3RNADelay', 'substrate': 'SOCS3nRN...  \nreaction_29  reaction_29  {'k1': 'SOCS3RNADelay', 'substrate': 'SOCS3nRN...  \nreaction_30  reaction_30  {'k1': 'SOCS3RNADelay', 'substrate': 'SOCS3nRN...  \nreaction_31  reaction_31  {'k1': 'SOCS3RNADelay', 'substrate': 'SOCS3nRN...  \nreaction_32  reaction_32  {'SOCS3RNADelay': 'SOCS3RNADelay', 'SOCS3nRNA5...  \nreaction_33  reaction_33    {'k1': 'SOCS3RNATurn', 'substrate': 'SOCS3RNA'}  \nreaction_34  reaction_34  {'SOCS3Eqc': 'SOCS3Eqc', 'SOCS3RNA': 'SOCS3RNA...  \nreaction_35  reaction_35          {'k1': 'SOCS3Turn', 'substrate': 'SOCS3'}  \nreaction_36  reaction_36  {'SOCS3Eqc': 'SOCS3Eqc', 'SOCS3EqcOE': 'SOCS3E...  ",
      "text/html": "<div>\n<style scoped>\n    .dataframe tbody tr th:only-of-type {\n        vertical-align: middle;\n    }\n\n    .dataframe tbody tr th {\n        vertical-align: top;\n    }\n\n    .dataframe thead th {\n        text-align: right;\n    }\n</style>\n<table border=\"1\" class=\"dataframe\">\n  <thead>\n    <tr style=\"text-align: right;\">\n      <th></th>\n      <th>scheme</th>\n      <th>flux</th>\n      <th>particle_flux</th>\n      <th>function</th>\n      <th>key</th>\n      <th>sbml_id</th>\n      <th>mapping</th>\n    </tr>\n    <tr>\n      <th>name</th>\n      <th></th>\n      <th></th>\n      <th></th>\n      <th></th>\n      <th></th>\n      <th></th>\n      <th></th>\n    </tr>\n  </thead>\n  <tbody>\n    <tr>\n      <th>reaction_1</th>\n      <td>EpoRJAK2 -&gt; EpoRpJAK2;  Epo SOCS3</td>\n      <td>0.125895</td>\n      <td>7.581552e+13</td>\n      <td>Function for reaction_1</td>\n      <td>Reaction_48</td>\n      <td>reaction_1</td>\n      <td>{'Epo': 'Epo', 'EpoRJAK2': 'EpoRJAK2', 'JAK2Ac...</td>\n    </tr>\n    <tr>\n      <th>reaction_2</th>\n      <td>EpoRpJAK2 -&gt; EpoRJAK2;  SHP1Act</td>\n      <td>0.000000</td>\n      <td>0.000000e+00</td>\n      <td>Function for reaction_2</td>\n      <td>Reaction_49</td>\n      <td>reaction_2</td>\n      <td>{'EpoRpJAK2': 'EpoRpJAK2', 'JAK2EpoRDeaSHP1': ...</td>\n    </tr>\n    <tr>\n      <th>reaction_3</th>\n      <td>EpoRpJAK2 -&gt; p1EpoRpJAK2;  SOCS3</td>\n      <td>0.000000</td>\n      <td>0.000000e+00</td>\n      <td>Function for reaction_3</td>\n      <td>Reaction_50</td>\n      <td>reaction_3</td>\n      <td>{'EpoRActJAK2': 'EpoRActJAK2', 'EpoRpJAK2': 'E...</td>\n    </tr>\n    <tr>\n      <th>reaction_4</th>\n      <td>EpoRpJAK2 -&gt; p2EpoRpJAK2;  EpoRJAK2_CIS SOCS3</td>\n      <td>0.000000</td>\n      <td>0.000000e+00</td>\n      <td>Function for reaction_4</td>\n      <td>Reaction_51</td>\n      <td>reaction_4</td>\n      <td>{'EpoRActJAK2': 'EpoRActJAK2', 'EpoRCISInh': '...</td>\n    </tr>\n    <tr>\n      <th>reaction_5</th>\n      <td>p1EpoRpJAK2 -&gt; p12EpoRpJAK2;  EpoRJAK2_CIS SOCS3</td>\n      <td>0.000000</td>\n      <td>0.000000e+00</td>\n      <td>Function for reaction_5</td>\n      <td>Reaction_52</td>\n      <td>reaction_5</td>\n      <td>{'EpoRActJAK2': 'EpoRActJAK2', 'EpoRCISInh': '...</td>\n    </tr>\n    <tr>\n      <th>reaction_6</th>\n      <td>p2EpoRpJAK2 -&gt; p12EpoRpJAK2;  SOCS3</td>\n      <td>0.000000</td>\n      <td>0.000000e+00</td>\n      <td>Function for reaction_6</td>\n      <td>Reaction_53</td>\n      <td>reaction_6</td>\n      <td>{'EpoRActJAK2': 'EpoRActJAK2', 'SOCS3': 'SOCS3...</td>\n    </tr>\n    <tr>\n      <th>reaction_7</th>\n      <td>p1EpoRpJAK2 -&gt; EpoRJAK2;  SHP1Act</td>\n      <td>0.000000</td>\n      <td>0.000000e+00</td>\n      <td>Function for reaction_7</td>\n      <td>Reaction_54</td>\n      <td>reaction_7</td>\n      <td>{'JAK2EpoRDeaSHP1': 'JAK2EpoRDeaSHP1', 'SHP1Ac...</td>\n    </tr>\n    <tr>\n      <th>reaction_8</th>\n      <td>p2EpoRpJAK2 -&gt; EpoRJAK2;  SHP1Act</td>\n      <td>0.000000</td>\n      <td>0.000000e+00</td>\n      <td>Function for reaction_8</td>\n      <td>Reaction_55</td>\n      <td>reaction_8</td>\n      <td>{'JAK2EpoRDeaSHP1': 'JAK2EpoRDeaSHP1', 'SHP1Ac...</td>\n    </tr>\n    <tr>\n      <th>reaction_9</th>\n      <td>p12EpoRpJAK2 -&gt; EpoRJAK2;  SHP1Act</td>\n      <td>0.000000</td>\n      <td>0.000000e+00</td>\n      <td>Function for reaction_9</td>\n      <td>Reaction_56</td>\n      <td>reaction_9</td>\n      <td>{'JAK2EpoRDeaSHP1': 'JAK2EpoRDeaSHP1', 'SHP1Ac...</td>\n    </tr>\n    <tr>\n      <th>reaction_10</th>\n      <td>EpoRJAK2_CIS -&gt; ;  p12EpoRpJAK2 p1EpoRpJAK2</td>\n      <td>0.000000</td>\n      <td>0.000000e+00</td>\n      <td>Function for reaction_10</td>\n      <td>Reaction_57</td>\n      <td>reaction_10</td>\n      <td>{'EpoRCISRemove': 'EpoRCISRemove', 'EpoRJAK2_C...</td>\n    </tr>\n    <tr>\n      <th>reaction_11</th>\n      <td>SHP1 -&gt; SHP1Act;  EpoRpJAK2 p12EpoRpJAK2 p1Epo...</td>\n      <td>0.000000</td>\n      <td>0.000000e+00</td>\n      <td>Function for reaction_11</td>\n      <td>Reaction_58</td>\n      <td>reaction_11</td>\n      <td>{'EpoRpJAK2': 'EpoRpJAK2', 'SHP1': 'SHP1', 'SH...</td>\n    </tr>\n    <tr>\n      <th>reaction_12</th>\n      <td>SHP1Act -&gt; SHP1</td>\n      <td>0.000000</td>\n      <td>0.000000e+00</td>\n      <td>Mass action (irreversible)</td>\n      <td>Reaction_59</td>\n      <td>reaction_12</td>\n      <td>{'k1': 'SHP1Dea', 'substrate': 'SHP1Act'}</td>\n    </tr>\n    <tr>\n      <th>reaction_13</th>\n      <td>STAT5 -&gt; pSTAT5;  EpoRpJAK2 SOCS3 p12EpoRpJAK2...</td>\n      <td>0.000000</td>\n      <td>0.000000e+00</td>\n      <td>Function for reaction_13</td>\n      <td>Reaction_60</td>\n      <td>reaction_13</td>\n      <td>{'EpoRpJAK2': 'EpoRpJAK2', 'SOCS3': 'SOCS3', '...</td>\n    </tr>\n    <tr>\n      <th>reaction_14</th>\n      <td>STAT5 -&gt; pSTAT5;  CIS SOCS3 p12EpoRpJAK2 p1Epo...</td>\n      <td>0.000000</td>\n      <td>0.000000e+00</td>\n      <td>Function for reaction_14</td>\n      <td>Reaction_61</td>\n      <td>reaction_14</td>\n      <td>{'CIS': 'CIS', 'CISEqc': 'CISEqc', 'CISInh': '...</td>\n    </tr>\n    <tr>\n      <th>reaction_15</th>\n      <td>pSTAT5 -&gt; npSTAT5</td>\n      <td>0.000000</td>\n      <td>0.000000e+00</td>\n      <td>Function for reaction_15</td>\n      <td>Reaction_62</td>\n      <td>reaction_15</td>\n      <td>{'STAT5Imp': 'STAT5Imp', 'cyt': 'cyt', 'pSTAT5...</td>\n    </tr>\n    <tr>\n      <th>reaction_16</th>\n      <td>npSTAT5 -&gt; STAT5</td>\n      <td>0.000000</td>\n      <td>0.000000e+00</td>\n      <td>Function for reaction_16</td>\n      <td>Reaction_63</td>\n      <td>reaction_16</td>\n      <td>{'STAT5Exp': 'STAT5Exp', 'npSTAT5': 'npSTAT5',...</td>\n    </tr>\n    <tr>\n      <th>reaction_17</th>\n      <td>= CISnRNA1;  npSTAT5</td>\n      <td>0.000000</td>\n      <td>0.000000e+00</td>\n      <td>Function for reaction_17</td>\n      <td>Reaction_64</td>\n      <td>reaction_17</td>\n      <td>{'ActD': 'ActD', 'CISRNAEqc': 'CISRNAEqc', 'CI...</td>\n    </tr>\n    <tr>\n      <th>reaction_18</th>\n      <td>CISnRNA1 -&gt; CISnRNA2</td>\n      <td>0.000000</td>\n      <td>0.000000e+00</td>\n      <td>Mass action (irreversible)</td>\n      <td>Reaction_65</td>\n      <td>reaction_18</td>\n      <td>{'k1': 'CISRNADelay', 'substrate': 'CISnRNA1'}</td>\n    </tr>\n    <tr>\n      <th>reaction_19</th>\n      <td>CISnRNA2 -&gt; CISnRNA3</td>\n      <td>0.000000</td>\n      <td>0.000000e+00</td>\n      <td>Mass action (irreversible)</td>\n      <td>Reaction_66</td>\n      <td>reaction_19</td>\n      <td>{'k1': 'CISRNADelay', 'substrate': 'CISnRNA2'}</td>\n    </tr>\n    <tr>\n      <th>reaction_20</th>\n      <td>CISnRNA3 -&gt; CISnRNA4</td>\n      <td>0.000000</td>\n      <td>0.000000e+00</td>\n      <td>Mass action (irreversible)</td>\n      <td>Reaction_67</td>\n      <td>reaction_20</td>\n      <td>{'k1': 'CISRNADelay', 'substrate': 'CISnRNA3'}</td>\n    </tr>\n    <tr>\n      <th>reaction_21</th>\n      <td>CISnRNA4 -&gt; CISnRNA5</td>\n      <td>0.000000</td>\n      <td>0.000000e+00</td>\n      <td>Mass action (irreversible)</td>\n      <td>Reaction_68</td>\n      <td>reaction_21</td>\n      <td>{'k1': 'CISRNADelay', 'substrate': 'CISnRNA4'}</td>\n    </tr>\n    <tr>\n      <th>reaction_22</th>\n      <td>CISnRNA5 -&gt; CISRNA</td>\n      <td>0.000000</td>\n      <td>0.000000e+00</td>\n      <td>Function for reaction_22</td>\n      <td>Reaction_69</td>\n      <td>reaction_22</td>\n      <td>{'CISRNADelay': 'CISRNADelay', 'CISnRNA5': 'CI...</td>\n    </tr>\n    <tr>\n      <th>reaction_23</th>\n      <td>CISRNA -&gt;</td>\n      <td>0.000000</td>\n      <td>0.000000e+00</td>\n      <td>Mass action (irreversible)</td>\n      <td>Reaction_70</td>\n      <td>reaction_23</td>\n      <td>{'k1': 'CISRNATurn', 'substrate': 'CISRNA'}</td>\n    </tr>\n    <tr>\n      <th>reaction_24</th>\n      <td>-&gt; CIS;  CISRNA</td>\n      <td>0.000000</td>\n      <td>0.000000e+00</td>\n      <td>Function for reaction_24</td>\n      <td>Reaction_71</td>\n      <td>reaction_24</td>\n      <td>{'CISEqc': 'CISEqc', 'CISRNA': 'CISRNA', 'CISR...</td>\n    </tr>\n    <tr>\n      <th>reaction_25</th>\n      <td>CIS -&gt;</td>\n      <td>0.000000</td>\n      <td>0.000000e+00</td>\n      <td>Mass action (irreversible)</td>\n      <td>Reaction_72</td>\n      <td>reaction_25</td>\n      <td>{'k1': 'CISTurn', 'substrate': 'CIS'}</td>\n    </tr>\n    <tr>\n      <th>reaction_26</th>\n      <td>-&gt; CIS</td>\n      <td>0.000000</td>\n      <td>0.000000e+00</td>\n      <td>Function for reaction_26</td>\n      <td>Reaction_73</td>\n      <td>reaction_26</td>\n      <td>{'CISEqc': 'CISEqc', 'CISEqcOE': 'CISEqcOE', '...</td>\n    </tr>\n    <tr>\n      <th>reaction_27</th>\n      <td>= SOCS3nRNA1;  npSTAT5</td>\n      <td>0.000000</td>\n      <td>0.000000e+00</td>\n      <td>Function for reaction_27</td>\n      <td>Reaction_74</td>\n      <td>reaction_27</td>\n      <td>{'ActD': 'ActD', 'SOCS3RNAEqc': 'SOCS3RNAEqc',...</td>\n    </tr>\n    <tr>\n      <th>reaction_28</th>\n      <td>SOCS3nRNA1 -&gt; SOCS3nRNA2</td>\n      <td>0.000000</td>\n      <td>0.000000e+00</td>\n      <td>Mass action (irreversible)</td>\n      <td>Reaction_75</td>\n      <td>reaction_28</td>\n      <td>{'k1': 'SOCS3RNADelay', 'substrate': 'SOCS3nRN...</td>\n    </tr>\n    <tr>\n      <th>reaction_29</th>\n      <td>SOCS3nRNA2 -&gt; SOCS3nRNA3</td>\n      <td>0.000000</td>\n      <td>0.000000e+00</td>\n      <td>Mass action (irreversible)</td>\n      <td>Reaction_76</td>\n      <td>reaction_29</td>\n      <td>{'k1': 'SOCS3RNADelay', 'substrate': 'SOCS3nRN...</td>\n    </tr>\n    <tr>\n      <th>reaction_30</th>\n      <td>SOCS3nRNA3 -&gt; SOCS3nRNA4</td>\n      <td>0.000000</td>\n      <td>0.000000e+00</td>\n      <td>Mass action (irreversible)</td>\n      <td>Reaction_77</td>\n      <td>reaction_30</td>\n      <td>{'k1': 'SOCS3RNADelay', 'substrate': 'SOCS3nRN...</td>\n    </tr>\n    <tr>\n      <th>reaction_31</th>\n      <td>SOCS3nRNA4 -&gt; SOCS3nRNA5</td>\n      <td>0.000000</td>\n      <td>0.000000e+00</td>\n      <td>Mass action (irreversible)</td>\n      <td>Reaction_78</td>\n      <td>reaction_31</td>\n      <td>{'k1': 'SOCS3RNADelay', 'substrate': 'SOCS3nRN...</td>\n    </tr>\n    <tr>\n      <th>reaction_32</th>\n      <td>SOCS3nRNA5 -&gt; SOCS3RNA</td>\n      <td>0.000000</td>\n      <td>0.000000e+00</td>\n      <td>Function for reaction_32</td>\n      <td>Reaction_79</td>\n      <td>reaction_32</td>\n      <td>{'SOCS3RNADelay': 'SOCS3RNADelay', 'SOCS3nRNA5...</td>\n    </tr>\n    <tr>\n      <th>reaction_33</th>\n      <td>SOCS3RNA -&gt;</td>\n      <td>0.000000</td>\n      <td>0.000000e+00</td>\n      <td>Mass action (irreversible)</td>\n      <td>Reaction_80</td>\n      <td>reaction_33</td>\n      <td>{'k1': 'SOCS3RNATurn', 'substrate': 'SOCS3RNA'}</td>\n    </tr>\n    <tr>\n      <th>reaction_34</th>\n      <td>-&gt; SOCS3;  SOCS3RNA</td>\n      <td>0.000000</td>\n      <td>0.000000e+00</td>\n      <td>Function for reaction_34</td>\n      <td>Reaction_81</td>\n      <td>reaction_34</td>\n      <td>{'SOCS3Eqc': 'SOCS3Eqc', 'SOCS3RNA': 'SOCS3RNA...</td>\n    </tr>\n    <tr>\n      <th>reaction_35</th>\n      <td>SOCS3 -&gt;</td>\n      <td>0.000000</td>\n      <td>0.000000e+00</td>\n      <td>Mass action (irreversible)</td>\n      <td>Reaction_82</td>\n      <td>reaction_35</td>\n      <td>{'k1': 'SOCS3Turn', 'substrate': 'SOCS3'}</td>\n    </tr>\n    <tr>\n      <th>reaction_36</th>\n      <td>-&gt; SOCS3</td>\n      <td>0.000000</td>\n      <td>0.000000e+00</td>\n      <td>Function for reaction_36</td>\n      <td>Reaction_83</td>\n      <td>reaction_36</td>\n      <td>{'SOCS3Eqc': 'SOCS3Eqc', 'SOCS3EqcOE': 'SOCS3E...</td>\n    </tr>\n  </tbody>\n</table>\n</div>"
     },
     "execution_count": 13,
     "metadata": {},
     "output_type": "execute_result"
    }
   ],
   "source": [
    "reaction_names = get_reactions(model=biomodel)\n",
    "\n",
    "reaction_names"
   ],
   "metadata": {
    "collapsed": false,
    "ExecuteTime": {
     "end_time": "2024-03-04T16:42:28.737875Z",
     "start_time": "2024-03-04T16:42:28.733747Z"
    }
   },
   "id": "c24594c6e8229e20",
   "execution_count": 13
  },
  {
   "cell_type": "code",
   "execution_count": 14,
   "outputs": [],
   "source": [
    "rparam = ReactionParameter(\n",
    "    parameter_name='EpoRpRJAK2',\n",
    "    value=21312.2\n",
    ")\n",
    "\n",
    "rparam2 = ReactionParameter(\n",
    "    parameter_name='EpoRJAK2',\n",
    "    value=21312.2\n",
    ")\n",
    "\n",
    "rc1 = ReactionChanges(\n",
    "    reaction_name='reaction_1',\n",
    "    parameter_changes=[rparam, rparam2]\n",
    ")\n",
    "\n",
    "rc2 = ReactionChanges(\n",
    "    reaction_name='reaction_11',\n",
    "    reaction_scheme='A + B -> C'\n",
    ")"
   ],
   "metadata": {
    "collapsed": false,
    "ExecuteTime": {
     "end_time": "2024-03-04T16:42:28.738709Z",
     "start_time": "2024-03-04T16:42:28.736620Z"
    }
   },
   "id": "454db50d61220bc5"
  },
  {
   "cell_type": "code",
   "outputs": [],
   "source": [
    "biomodel_process_changes = ModelChanges(\n",
    "    reaction_changes=[rc1, rc2]\n",
    ")"
   ],
   "metadata": {
    "collapsed": false,
    "ExecuteTime": {
     "end_time": "2024-03-04T16:42:28.742401Z",
     "start_time": "2024-03-04T16:42:28.739543Z"
    }
   },
   "id": "bd6781fe4a749c29",
   "execution_count": 15
  },
  {
   "cell_type": "code",
   "outputs": [
    {
     "name": "stdout",
     "output_type": "stream",
     "text": [
      "{ 'global_parameter_changes': [],\n",
      "  'reaction_changes': [ { 'parameter_changes': [ { 'parameter_name': 'EpoRpRJAK2',\n",
      "                                                   'value': 21312.2},\n",
      "                                                 { 'parameter_name': 'EpoRJAK2',\n",
      "                                                   'value': 21312.2}],\n",
      "                          'reaction_name': 'reaction_1',\n",
      "                          'reaction_scheme': None},\n",
      "                        { 'parameter_changes': [],\n",
      "                          'reaction_name': 'reaction_11',\n",
      "                          'reaction_scheme': 'A + B -> C'}],\n",
      "  'species_changes': []}\n"
     ]
    }
   ],
   "source": [
    "pp(biomodel_process_changes.model_dump())"
   ],
   "metadata": {
    "collapsed": false,
    "ExecuteTime": {
     "end_time": "2024-03-04T16:42:32.179350Z",
     "start_time": "2024-03-04T16:42:32.175949Z"
    }
   },
   "id": "e414174a2d6d331b",
   "execution_count": 16
  },
  {
   "cell_type": "code",
   "outputs": [
    {
     "name": "stdout",
     "output_type": "stream",
     "text": [
      "{ 'model_changes': { 'global_parameter_changes': [],\n",
      "                     'reaction_changes': [ { 'parameter_changes': [ { 'parameter_name': 'EpoRpRJAK2',\n",
      "                                                                      'value': 21312.2},\n",
      "                                                                    { 'parameter_name': 'EpoRJAK2',\n",
      "                                                                      'value': 21312.2}],\n",
      "                                             'reaction_name': 'reaction_1',\n",
      "                                             'reaction_scheme': None},\n",
      "                                           { 'parameter_changes': [],\n",
      "                                             'reaction_name': 'reaction_11',\n",
      "                                             'reaction_scheme': 'A + B -> C'}],\n",
      "                     'species_changes': []},\n",
      "  'model_id': 'BIOMD0000000861',\n",
      "  'model_language': 'sbml',\n",
      "  'model_name': 'composite_from_biomodel',\n",
      "  'model_source': {'value': 'BIOMD0000000861'},\n",
      "  'model_units': None}\n"
     ]
    }
   ],
   "source": [
    "biomodel_process_model = Model(\n",
    "    model_id=biomodel_id,\n",
    "    model_source=biomodel_id,\n",
    "    model_name='composite_from_biomodel',\n",
    "    model_changes=biomodel_process_changes\n",
    ")\n",
    "\n",
    "pp(biomodel_process_model.model_dump())"
   ],
   "metadata": {
    "collapsed": false,
    "ExecuteTime": {
     "end_time": "2024-03-04T16:42:32.876207Z",
     "start_time": "2024-03-04T16:42:32.872898Z"
    }
   },
   "id": "9de88bc52fb9a164",
   "execution_count": 17
  },
  {
   "cell_type": "code",
   "outputs": [
    {
     "name": "stdout",
     "output_type": "stream",
     "text": [
      "{ 'method': 'directMethod',\n",
      "  'model': { 'model_changes': { 'global_parameter_changes': [],\n",
      "                                'reaction_changes': [ { 'parameter_changes': [ { 'parameter_name': 'EpoRpRJAK2',\n",
      "                                                                                 'value': 21312.2},\n",
      "                                                                               { 'parameter_name': 'EpoRJAK2',\n",
      "                                                                                 'value': 21312.2}],\n",
      "                                                        'reaction_name': 'reaction_1',\n",
      "                                                        'reaction_scheme': None},\n",
      "                                                      { 'parameter_changes': [],\n",
      "                                                        'reaction_name': 'reaction_11',\n",
      "                                                        'reaction_scheme': 'A '\n",
      "                                                                           '+ '\n",
      "                                                                           'B '\n",
      "                                                                           '-> '\n",
      "                                                                           'C'}],\n",
      "                                'species_changes': []},\n",
      "             'model_id': 'BIOMD0000000861',\n",
      "             'model_language': 'sbml',\n",
      "             'model_name': 'composite_from_biomodel',\n",
      "             'model_source': {'value': 'BIOMD0000000861'},\n",
      "             'model_units': None},\n",
      "  'process_name': 'copasi_process_from_biomodel'}\n"
     ]
    }
   ],
   "source": [
    "biomodel_process_config = CopasiProcessConfigSchema(\n",
    "    process_name='copasi_process_from_biomodel',\n",
    "    method='directMethod',\n",
    "    model=biomodel_process_model\n",
    ")\n",
    "\n",
    "\n",
    "pp(biomodel_process_config.model_dump())"
   ],
   "metadata": {
    "collapsed": false,
    "ExecuteTime": {
     "end_time": "2024-03-04T16:43:56.030421Z",
     "start_time": "2024-03-04T16:43:56.025326Z"
    }
   },
   "id": "25ba11c1e1e75f94",
   "execution_count": 18
  },
  {
   "cell_type": "markdown",
   "source": [
    "Add the biomodel config to the bigraph"
   ],
   "metadata": {
    "collapsed": false
   },
   "id": "535828632bf115d"
  },
  {
   "cell_type": "code",
   "outputs": [],
   "source": [
    "b[biomodel_process_config.process_name].add_process(\n",
    "    name='CopasiProcess',\n",
    "    model=biomodel_process_config.model,\n",
    "    method=biomodel_process_config.method\n",
    ")"
   ],
   "metadata": {
    "collapsed": false
   },
   "id": "4c3f073b10e2dcc0"
  }
 ],
 "metadata": {
  "kernelspec": {
   "display_name": "Python 3",
   "language": "python",
   "name": "python3"
  },
  "language_info": {
   "codemirror_mode": {
    "name": "ipython",
    "version": 2
   },
   "file_extension": ".py",
   "mimetype": "text/x-python",
   "name": "python",
   "nbconvert_exporter": "python",
   "pygments_lexer": "ipython2",
   "version": "2.7.6"
  }
 },
 "nbformat": 4,
 "nbformat_minor": 5
}
