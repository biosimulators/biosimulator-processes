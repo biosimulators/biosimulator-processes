{
 "cells": [
  {
   "cell_type": "markdown",
   "source": [
    "## Examples with ```CopasiProcess``` using ``builder.Builder`` and ``biosimulator_processes.data_model``"
   ],
   "metadata": {
    "collapsed": false
   },
   "id": "9f7cc96191d5a2ba"
  },
  {
   "cell_type": "code",
   "execution_count": 1,
   "outputs": [],
   "source": [
    "import sys \n",
    "\n",
    "sys.path.insert(0, '..')"
   ],
   "metadata": {
    "collapsed": false,
    "ExecuteTime": {
     "end_time": "2024-03-04T14:23:19.305472Z",
     "start_time": "2024-03-04T14:23:19.301849Z"
    }
   },
   "id": "b43cd4493a594e60"
  },
  {
   "cell_type": "code",
   "execution_count": 2,
   "outputs": [
    {
     "name": "stdout",
     "output_type": "stream",
     "text": [
      "CobraProcess registered successfully.\n",
      "CopasiProcess registered successfully.\n",
      "SmoldynProcess registered successfully.\n",
      "TelluriumProcess registered successfully.\n"
     ]
    }
   ],
   "source": [
    "from builder import Builder, Process\n",
    "from process_bigraph import pp, pf \n",
    "from biosimulator_processes import CORE\n",
    "from biosimulator_processes.data_model import *\n",
    "from biosimulator_processes.biosimulator_builder import BiosimulatorBuilder"
   ],
   "metadata": {
    "collapsed": false,
    "ExecuteTime": {
     "end_time": "2024-03-04T14:23:21.305290Z",
     "start_time": "2024-03-04T14:23:19.612656Z"
    }
   },
   "id": "65385e04f4f5dd1a"
  },
  {
   "cell_type": "markdown",
   "source": [
    "#### Initialize a fresh instance of the `BiosimulatorBuilder`, which is inherently configured by `biosimulator_processes.CORE`."
   ],
   "metadata": {
    "collapsed": false
   },
   "id": "99dbe025aeccc23e"
  },
  {
   "cell_type": "code",
   "execution_count": 3,
   "outputs": [],
   "source": [
    "b = BiosimulatorBuilder()"
   ],
   "metadata": {
    "collapsed": false,
    "ExecuteTime": {
     "end_time": "2024-03-04T14:23:22.511113Z",
     "start_time": "2024-03-04T14:23:22.507326Z"
    }
   },
   "id": "cc709690e20090cf"
  },
  {
   "cell_type": "code",
   "execution_count": 4,
   "outputs": [
    {
     "data": {
      "text/plain": "['console-emitter',\n 'SmoldynProcess',\n 'TelluriumProcess',\n 'CopasiProcess',\n 'CobraProcess',\n 'ram-emitter']"
     },
     "execution_count": 4,
     "metadata": {},
     "output_type": "execute_result"
    }
   ],
   "source": [
    "###### list registered processes\n",
    "\n",
    "b.list_processes()"
   ],
   "metadata": {
    "collapsed": false,
    "ExecuteTime": {
     "end_time": "2024-03-04T14:23:23.012009Z",
     "start_time": "2024-03-04T14:23:23.009900Z"
    }
   },
   "id": "41034be54d9cf16"
  },
  {
   "cell_type": "markdown",
   "source": [
    "Let's load a BIOMODEL from `basico` and inspect the parameters we can adjust:"
   ],
   "metadata": {
    "collapsed": false
   },
   "id": "f46d9983b127470"
  },
  {
   "cell_type": "code",
   "execution_count": 6,
   "outputs": [
    {
     "data": {
      "text/plain": "             compartment       type    unit  initial_concentration  \\\nname                                                                 \nEpoRJAK2             cyt  reactions  nmol/l           3.976220e+00   \nEpoRpJAK2            cyt  reactions  nmol/l           0.000000e+00   \np1EpoRpJAK2          cyt  reactions  nmol/l           0.000000e+00   \np2EpoRpJAK2          cyt  reactions  nmol/l           0.000000e+00   \np12EpoRpJAK2         cyt  reactions  nmol/l           0.000000e+00   \nEpoRJAK2_CIS         cyt  reactions  nmol/l           0.000000e+00   \nSHP1                 cyt  reactions  nmol/l           2.672510e+01   \nSHP1Act              cyt  reactions  nmol/l           0.000000e+00   \nSTAT5                cyt  reactions  nmol/l           7.975350e+01   \npSTAT5               cyt  reactions  nmol/l           0.000000e+00   \nnpSTAT5              nuc  reactions  nmol/l           0.000000e+00   \nCISnRNA1             nuc  reactions  nmol/l           0.000000e+00   \nCISnRNA2             nuc  reactions  nmol/l           0.000000e+00   \nCISnRNA3             nuc  reactions  nmol/l           0.000000e+00   \nCISnRNA4             nuc  reactions  nmol/l           0.000000e+00   \nCISnRNA5             nuc  reactions  nmol/l           0.000000e+00   \nCISRNA               cyt  reactions  nmol/l           0.000000e+00   \nCIS                  cyt  reactions  nmol/l           0.000000e+00   \nSOCS3nRNA1           nuc  reactions  nmol/l           0.000000e+00   \nSOCS3nRNA2           nuc  reactions  nmol/l           0.000000e+00   \nSOCS3nRNA3           nuc  reactions  nmol/l           0.000000e+00   \nSOCS3nRNA4           nuc  reactions  nmol/l           0.000000e+00   \nSOCS3nRNA5           nuc  reactions  nmol/l           0.000000e+00   \nSOCS3RNA             cyt  reactions  nmol/l           0.000000e+00   \nSOCS3                cyt  reactions  nmol/l           0.000000e+00   \nEpo                  cyt  reactions  nmol/l           1.249970e-07   \n\n              initial_particle_number initial_expression expression  \\\nname                                                                  \nEpoRJAK2                 9.578143e+14                                 \nEpoRpJAK2                0.000000e+00                                 \np1EpoRpJAK2              0.000000e+00                                 \np2EpoRpJAK2              0.000000e+00                                 \np12EpoRpJAK2             0.000000e+00                                 \nEpoRJAK2_CIS             0.000000e+00                                 \nSHP1                     6.437693e+15                                 \nSHP1Act                  0.000000e+00                                 \nSTAT5                    1.921147e+16                                 \npSTAT5                   0.000000e+00                                 \nnpSTAT5                  0.000000e+00                                 \nCISnRNA1                 0.000000e+00                                 \nCISnRNA2                 0.000000e+00                                 \nCISnRNA3                 0.000000e+00                                 \nCISnRNA4                 0.000000e+00                                 \nCISnRNA5                 0.000000e+00                                 \nCISRNA                   0.000000e+00                                 \nCIS                      0.000000e+00                                 \nSOCS3nRNA1               0.000000e+00                                 \nSOCS3nRNA2               0.000000e+00                                 \nSOCS3nRNA3               0.000000e+00                                 \nSOCS3nRNA4               0.000000e+00                                 \nSOCS3nRNA5               0.000000e+00                                 \nSOCS3RNA                 0.000000e+00                                 \nSOCS3                    0.000000e+00                                 \nEpo                      3.010998e+07                                 \n\n              concentration  particle_number      rate  particle_number_rate  \\\nname                                                                           \nEpoRJAK2       3.976220e+00     9.578143e+14 -0.314737         -7.581552e+13   \nEpoRpJAK2      0.000000e+00     0.000000e+00  0.314737          7.581552e+13   \np1EpoRpJAK2    0.000000e+00     0.000000e+00  0.000000          0.000000e+00   \np2EpoRpJAK2    0.000000e+00     0.000000e+00  0.000000          0.000000e+00   \np12EpoRpJAK2   0.000000e+00     0.000000e+00  0.000000          0.000000e+00   \nEpoRJAK2_CIS   0.000000e+00     0.000000e+00  0.000000          0.000000e+00   \nSHP1           2.672510e+01     6.437693e+15  0.000000          0.000000e+00   \nSHP1Act        0.000000e+00     0.000000e+00  0.000000          0.000000e+00   \nSTAT5          7.975350e+01     1.921147e+16  0.000000          0.000000e+00   \npSTAT5         0.000000e+00     0.000000e+00  0.000000          0.000000e+00   \nnpSTAT5        0.000000e+00     0.000000e+00  0.000000          0.000000e+00   \nCISnRNA1       0.000000e+00     0.000000e+00  0.000000          0.000000e+00   \nCISnRNA2       0.000000e+00     0.000000e+00  0.000000          0.000000e+00   \nCISnRNA3       0.000000e+00     0.000000e+00  0.000000          0.000000e+00   \nCISnRNA4       0.000000e+00     0.000000e+00  0.000000          0.000000e+00   \nCISnRNA5       0.000000e+00     0.000000e+00  0.000000          0.000000e+00   \nCISRNA         0.000000e+00     0.000000e+00  0.000000          0.000000e+00   \nCIS            0.000000e+00     0.000000e+00  0.000000          0.000000e+00   \nSOCS3nRNA1     0.000000e+00     0.000000e+00  0.000000          0.000000e+00   \nSOCS3nRNA2     0.000000e+00     0.000000e+00  0.000000          0.000000e+00   \nSOCS3nRNA3     0.000000e+00     0.000000e+00  0.000000          0.000000e+00   \nSOCS3nRNA4     0.000000e+00     0.000000e+00  0.000000          0.000000e+00   \nSOCS3nRNA5     0.000000e+00     0.000000e+00  0.000000          0.000000e+00   \nSOCS3RNA       0.000000e+00     0.000000e+00  0.000000          0.000000e+00   \nSOCS3          0.000000e+00     0.000000e+00  0.000000          0.000000e+00   \nEpo            1.249970e-07     3.010998e+07  0.000000          0.000000e+00   \n\n                        key       sbml_id  \nname                                       \nEpoRJAK2      Metabolite_26      EpoRJAK2  \nEpoRpJAK2     Metabolite_27     EpoRpJAK2  \np1EpoRpJAK2   Metabolite_28   p1EpoRpJAK2  \np2EpoRpJAK2   Metabolite_29   p2EpoRpJAK2  \np12EpoRpJAK2  Metabolite_30  p12EpoRpJAK2  \nEpoRJAK2_CIS  Metabolite_31  EpoRJAK2_CIS  \nSHP1          Metabolite_32          SHP1  \nSHP1Act       Metabolite_33       SHP1Act  \nSTAT5         Metabolite_34         STAT5  \npSTAT5        Metabolite_35        pSTAT5  \nnpSTAT5       Metabolite_36       npSTAT5  \nCISnRNA1      Metabolite_37      CISnRNA1  \nCISnRNA2      Metabolite_38      CISnRNA2  \nCISnRNA3      Metabolite_39      CISnRNA3  \nCISnRNA4      Metabolite_40      CISnRNA4  \nCISnRNA5      Metabolite_41      CISnRNA5  \nCISRNA        Metabolite_42        CISRNA  \nCIS           Metabolite_43           CIS  \nSOCS3nRNA1    Metabolite_44    SOCS3nRNA1  \nSOCS3nRNA2    Metabolite_45    SOCS3nRNA2  \nSOCS3nRNA3    Metabolite_46    SOCS3nRNA3  \nSOCS3nRNA4    Metabolite_47    SOCS3nRNA4  \nSOCS3nRNA5    Metabolite_48    SOCS3nRNA5  \nSOCS3RNA      Metabolite_49      SOCS3RNA  \nSOCS3         Metabolite_50         SOCS3  \nEpo           Metabolite_51           Epo  ",
      "text/html": "<div>\n<style scoped>\n    .dataframe tbody tr th:only-of-type {\n        vertical-align: middle;\n    }\n\n    .dataframe tbody tr th {\n        vertical-align: top;\n    }\n\n    .dataframe thead th {\n        text-align: right;\n    }\n</style>\n<table border=\"1\" class=\"dataframe\">\n  <thead>\n    <tr style=\"text-align: right;\">\n      <th></th>\n      <th>compartment</th>\n      <th>type</th>\n      <th>unit</th>\n      <th>initial_concentration</th>\n      <th>initial_particle_number</th>\n      <th>initial_expression</th>\n      <th>expression</th>\n      <th>concentration</th>\n      <th>particle_number</th>\n      <th>rate</th>\n      <th>particle_number_rate</th>\n      <th>key</th>\n      <th>sbml_id</th>\n    </tr>\n    <tr>\n      <th>name</th>\n      <th></th>\n      <th></th>\n      <th></th>\n      <th></th>\n      <th></th>\n      <th></th>\n      <th></th>\n      <th></th>\n      <th></th>\n      <th></th>\n      <th></th>\n      <th></th>\n      <th></th>\n    </tr>\n  </thead>\n  <tbody>\n    <tr>\n      <th>EpoRJAK2</th>\n      <td>cyt</td>\n      <td>reactions</td>\n      <td>nmol/l</td>\n      <td>3.976220e+00</td>\n      <td>9.578143e+14</td>\n      <td></td>\n      <td></td>\n      <td>3.976220e+00</td>\n      <td>9.578143e+14</td>\n      <td>-0.314737</td>\n      <td>-7.581552e+13</td>\n      <td>Metabolite_26</td>\n      <td>EpoRJAK2</td>\n    </tr>\n    <tr>\n      <th>EpoRpJAK2</th>\n      <td>cyt</td>\n      <td>reactions</td>\n      <td>nmol/l</td>\n      <td>0.000000e+00</td>\n      <td>0.000000e+00</td>\n      <td></td>\n      <td></td>\n      <td>0.000000e+00</td>\n      <td>0.000000e+00</td>\n      <td>0.314737</td>\n      <td>7.581552e+13</td>\n      <td>Metabolite_27</td>\n      <td>EpoRpJAK2</td>\n    </tr>\n    <tr>\n      <th>p1EpoRpJAK2</th>\n      <td>cyt</td>\n      <td>reactions</td>\n      <td>nmol/l</td>\n      <td>0.000000e+00</td>\n      <td>0.000000e+00</td>\n      <td></td>\n      <td></td>\n      <td>0.000000e+00</td>\n      <td>0.000000e+00</td>\n      <td>0.000000</td>\n      <td>0.000000e+00</td>\n      <td>Metabolite_28</td>\n      <td>p1EpoRpJAK2</td>\n    </tr>\n    <tr>\n      <th>p2EpoRpJAK2</th>\n      <td>cyt</td>\n      <td>reactions</td>\n      <td>nmol/l</td>\n      <td>0.000000e+00</td>\n      <td>0.000000e+00</td>\n      <td></td>\n      <td></td>\n      <td>0.000000e+00</td>\n      <td>0.000000e+00</td>\n      <td>0.000000</td>\n      <td>0.000000e+00</td>\n      <td>Metabolite_29</td>\n      <td>p2EpoRpJAK2</td>\n    </tr>\n    <tr>\n      <th>p12EpoRpJAK2</th>\n      <td>cyt</td>\n      <td>reactions</td>\n      <td>nmol/l</td>\n      <td>0.000000e+00</td>\n      <td>0.000000e+00</td>\n      <td></td>\n      <td></td>\n      <td>0.000000e+00</td>\n      <td>0.000000e+00</td>\n      <td>0.000000</td>\n      <td>0.000000e+00</td>\n      <td>Metabolite_30</td>\n      <td>p12EpoRpJAK2</td>\n    </tr>\n    <tr>\n      <th>EpoRJAK2_CIS</th>\n      <td>cyt</td>\n      <td>reactions</td>\n      <td>nmol/l</td>\n      <td>0.000000e+00</td>\n      <td>0.000000e+00</td>\n      <td></td>\n      <td></td>\n      <td>0.000000e+00</td>\n      <td>0.000000e+00</td>\n      <td>0.000000</td>\n      <td>0.000000e+00</td>\n      <td>Metabolite_31</td>\n      <td>EpoRJAK2_CIS</td>\n    </tr>\n    <tr>\n      <th>SHP1</th>\n      <td>cyt</td>\n      <td>reactions</td>\n      <td>nmol/l</td>\n      <td>2.672510e+01</td>\n      <td>6.437693e+15</td>\n      <td></td>\n      <td></td>\n      <td>2.672510e+01</td>\n      <td>6.437693e+15</td>\n      <td>0.000000</td>\n      <td>0.000000e+00</td>\n      <td>Metabolite_32</td>\n      <td>SHP1</td>\n    </tr>\n    <tr>\n      <th>SHP1Act</th>\n      <td>cyt</td>\n      <td>reactions</td>\n      <td>nmol/l</td>\n      <td>0.000000e+00</td>\n      <td>0.000000e+00</td>\n      <td></td>\n      <td></td>\n      <td>0.000000e+00</td>\n      <td>0.000000e+00</td>\n      <td>0.000000</td>\n      <td>0.000000e+00</td>\n      <td>Metabolite_33</td>\n      <td>SHP1Act</td>\n    </tr>\n    <tr>\n      <th>STAT5</th>\n      <td>cyt</td>\n      <td>reactions</td>\n      <td>nmol/l</td>\n      <td>7.975350e+01</td>\n      <td>1.921147e+16</td>\n      <td></td>\n      <td></td>\n      <td>7.975350e+01</td>\n      <td>1.921147e+16</td>\n      <td>0.000000</td>\n      <td>0.000000e+00</td>\n      <td>Metabolite_34</td>\n      <td>STAT5</td>\n    </tr>\n    <tr>\n      <th>pSTAT5</th>\n      <td>cyt</td>\n      <td>reactions</td>\n      <td>nmol/l</td>\n      <td>0.000000e+00</td>\n      <td>0.000000e+00</td>\n      <td></td>\n      <td></td>\n      <td>0.000000e+00</td>\n      <td>0.000000e+00</td>\n      <td>0.000000</td>\n      <td>0.000000e+00</td>\n      <td>Metabolite_35</td>\n      <td>pSTAT5</td>\n    </tr>\n    <tr>\n      <th>npSTAT5</th>\n      <td>nuc</td>\n      <td>reactions</td>\n      <td>nmol/l</td>\n      <td>0.000000e+00</td>\n      <td>0.000000e+00</td>\n      <td></td>\n      <td></td>\n      <td>0.000000e+00</td>\n      <td>0.000000e+00</td>\n      <td>0.000000</td>\n      <td>0.000000e+00</td>\n      <td>Metabolite_36</td>\n      <td>npSTAT5</td>\n    </tr>\n    <tr>\n      <th>CISnRNA1</th>\n      <td>nuc</td>\n      <td>reactions</td>\n      <td>nmol/l</td>\n      <td>0.000000e+00</td>\n      <td>0.000000e+00</td>\n      <td></td>\n      <td></td>\n      <td>0.000000e+00</td>\n      <td>0.000000e+00</td>\n      <td>0.000000</td>\n      <td>0.000000e+00</td>\n      <td>Metabolite_37</td>\n      <td>CISnRNA1</td>\n    </tr>\n    <tr>\n      <th>CISnRNA2</th>\n      <td>nuc</td>\n      <td>reactions</td>\n      <td>nmol/l</td>\n      <td>0.000000e+00</td>\n      <td>0.000000e+00</td>\n      <td></td>\n      <td></td>\n      <td>0.000000e+00</td>\n      <td>0.000000e+00</td>\n      <td>0.000000</td>\n      <td>0.000000e+00</td>\n      <td>Metabolite_38</td>\n      <td>CISnRNA2</td>\n    </tr>\n    <tr>\n      <th>CISnRNA3</th>\n      <td>nuc</td>\n      <td>reactions</td>\n      <td>nmol/l</td>\n      <td>0.000000e+00</td>\n      <td>0.000000e+00</td>\n      <td></td>\n      <td></td>\n      <td>0.000000e+00</td>\n      <td>0.000000e+00</td>\n      <td>0.000000</td>\n      <td>0.000000e+00</td>\n      <td>Metabolite_39</td>\n      <td>CISnRNA3</td>\n    </tr>\n    <tr>\n      <th>CISnRNA4</th>\n      <td>nuc</td>\n      <td>reactions</td>\n      <td>nmol/l</td>\n      <td>0.000000e+00</td>\n      <td>0.000000e+00</td>\n      <td></td>\n      <td></td>\n      <td>0.000000e+00</td>\n      <td>0.000000e+00</td>\n      <td>0.000000</td>\n      <td>0.000000e+00</td>\n      <td>Metabolite_40</td>\n      <td>CISnRNA4</td>\n    </tr>\n    <tr>\n      <th>CISnRNA5</th>\n      <td>nuc</td>\n      <td>reactions</td>\n      <td>nmol/l</td>\n      <td>0.000000e+00</td>\n      <td>0.000000e+00</td>\n      <td></td>\n      <td></td>\n      <td>0.000000e+00</td>\n      <td>0.000000e+00</td>\n      <td>0.000000</td>\n      <td>0.000000e+00</td>\n      <td>Metabolite_41</td>\n      <td>CISnRNA5</td>\n    </tr>\n    <tr>\n      <th>CISRNA</th>\n      <td>cyt</td>\n      <td>reactions</td>\n      <td>nmol/l</td>\n      <td>0.000000e+00</td>\n      <td>0.000000e+00</td>\n      <td></td>\n      <td></td>\n      <td>0.000000e+00</td>\n      <td>0.000000e+00</td>\n      <td>0.000000</td>\n      <td>0.000000e+00</td>\n      <td>Metabolite_42</td>\n      <td>CISRNA</td>\n    </tr>\n    <tr>\n      <th>CIS</th>\n      <td>cyt</td>\n      <td>reactions</td>\n      <td>nmol/l</td>\n      <td>0.000000e+00</td>\n      <td>0.000000e+00</td>\n      <td></td>\n      <td></td>\n      <td>0.000000e+00</td>\n      <td>0.000000e+00</td>\n      <td>0.000000</td>\n      <td>0.000000e+00</td>\n      <td>Metabolite_43</td>\n      <td>CIS</td>\n    </tr>\n    <tr>\n      <th>SOCS3nRNA1</th>\n      <td>nuc</td>\n      <td>reactions</td>\n      <td>nmol/l</td>\n      <td>0.000000e+00</td>\n      <td>0.000000e+00</td>\n      <td></td>\n      <td></td>\n      <td>0.000000e+00</td>\n      <td>0.000000e+00</td>\n      <td>0.000000</td>\n      <td>0.000000e+00</td>\n      <td>Metabolite_44</td>\n      <td>SOCS3nRNA1</td>\n    </tr>\n    <tr>\n      <th>SOCS3nRNA2</th>\n      <td>nuc</td>\n      <td>reactions</td>\n      <td>nmol/l</td>\n      <td>0.000000e+00</td>\n      <td>0.000000e+00</td>\n      <td></td>\n      <td></td>\n      <td>0.000000e+00</td>\n      <td>0.000000e+00</td>\n      <td>0.000000</td>\n      <td>0.000000e+00</td>\n      <td>Metabolite_45</td>\n      <td>SOCS3nRNA2</td>\n    </tr>\n    <tr>\n      <th>SOCS3nRNA3</th>\n      <td>nuc</td>\n      <td>reactions</td>\n      <td>nmol/l</td>\n      <td>0.000000e+00</td>\n      <td>0.000000e+00</td>\n      <td></td>\n      <td></td>\n      <td>0.000000e+00</td>\n      <td>0.000000e+00</td>\n      <td>0.000000</td>\n      <td>0.000000e+00</td>\n      <td>Metabolite_46</td>\n      <td>SOCS3nRNA3</td>\n    </tr>\n    <tr>\n      <th>SOCS3nRNA4</th>\n      <td>nuc</td>\n      <td>reactions</td>\n      <td>nmol/l</td>\n      <td>0.000000e+00</td>\n      <td>0.000000e+00</td>\n      <td></td>\n      <td></td>\n      <td>0.000000e+00</td>\n      <td>0.000000e+00</td>\n      <td>0.000000</td>\n      <td>0.000000e+00</td>\n      <td>Metabolite_47</td>\n      <td>SOCS3nRNA4</td>\n    </tr>\n    <tr>\n      <th>SOCS3nRNA5</th>\n      <td>nuc</td>\n      <td>reactions</td>\n      <td>nmol/l</td>\n      <td>0.000000e+00</td>\n      <td>0.000000e+00</td>\n      <td></td>\n      <td></td>\n      <td>0.000000e+00</td>\n      <td>0.000000e+00</td>\n      <td>0.000000</td>\n      <td>0.000000e+00</td>\n      <td>Metabolite_48</td>\n      <td>SOCS3nRNA5</td>\n    </tr>\n    <tr>\n      <th>SOCS3RNA</th>\n      <td>cyt</td>\n      <td>reactions</td>\n      <td>nmol/l</td>\n      <td>0.000000e+00</td>\n      <td>0.000000e+00</td>\n      <td></td>\n      <td></td>\n      <td>0.000000e+00</td>\n      <td>0.000000e+00</td>\n      <td>0.000000</td>\n      <td>0.000000e+00</td>\n      <td>Metabolite_49</td>\n      <td>SOCS3RNA</td>\n    </tr>\n    <tr>\n      <th>SOCS3</th>\n      <td>cyt</td>\n      <td>reactions</td>\n      <td>nmol/l</td>\n      <td>0.000000e+00</td>\n      <td>0.000000e+00</td>\n      <td></td>\n      <td></td>\n      <td>0.000000e+00</td>\n      <td>0.000000e+00</td>\n      <td>0.000000</td>\n      <td>0.000000e+00</td>\n      <td>Metabolite_50</td>\n      <td>SOCS3</td>\n    </tr>\n    <tr>\n      <th>Epo</th>\n      <td>cyt</td>\n      <td>reactions</td>\n      <td>nmol/l</td>\n      <td>1.249970e-07</td>\n      <td>3.010998e+07</td>\n      <td></td>\n      <td></td>\n      <td>1.249970e-07</td>\n      <td>3.010998e+07</td>\n      <td>0.000000</td>\n      <td>0.000000e+00</td>\n      <td>Metabolite_51</td>\n      <td>Epo</td>\n    </tr>\n  </tbody>\n</table>\n</div>"
     },
     "execution_count": 6,
     "metadata": {},
     "output_type": "execute_result"
    }
   ],
   "source": [],
   "metadata": {
    "collapsed": false,
    "ExecuteTime": {
     "end_time": "2024-03-04T14:24:36.064226Z",
     "start_time": "2024-03-04T14:24:34.080902Z"
    }
   },
   "id": "f1e5eedb251a22c3"
  },
  {
   "cell_type": "markdown",
   "source": [
    "#### Example 1: Add a simple `CopasiProcess`-based composite to the bigraph, specifying parameter values through the `data_model`. For now, let's try loading a biomodel and adding a change to initial concentration of a species. We will then add another copasi process instance, whose model is this time loaded from a file (to demonstrate the data model)"
   ],
   "metadata": {
    "collapsed": false
   },
   "id": "eea00feb4c2651d6"
  },
  {
   "cell_type": "markdown",
   "source": [
    "Let's define a model instance from a file."
   ],
   "metadata": {
    "collapsed": false
   },
   "id": "640f49c1e61f116d"
  },
  {
   "cell_type": "code",
   "outputs": [
    {
     "data": {
      "text/plain": "True"
     },
     "execution_count": 8,
     "metadata": {},
     "output_type": "execute_result"
    }
   ],
   "source": [
    "from basico import * \n",
    "\n",
    "\n",
    "model_filepath = '../biosimulator_processes/model_files/BIOMD0000000061_url.xml'\n",
    "\n",
    "os.path.exists(model_filepath)"
   ],
   "metadata": {
    "collapsed": false,
    "ExecuteTime": {
     "end_time": "2024-03-04T14:27:57.700360Z",
     "start_time": "2024-03-04T14:27:57.696829Z"
    }
   },
   "id": "edf123175ec3408c",
   "execution_count": 8
  },
  {
   "cell_type": "code",
   "outputs": [
    {
     "data": {
      "text/plain": "                              compartment       type    unit  \\\nname                                                           \nExtracellular glucose       extracellular  reactions  mmol/l   \nCytosolic glucose                 cytosol  reactions  mmol/l   \nATP                               cytosol  reactions  mmol/l   \nGlucose-6-Phosphate               cytosol  reactions  mmol/l   \nADP                               cytosol  reactions  mmol/l   \nFructose-6-Phosphate              cytosol  reactions  mmol/l   \nFructose 1,6-bisphosphate         cytosol  reactions  mmol/l   \nGlyceraldehyde 3-phosphate        cytosol  reactions  mmol/l   \nDihydroxyacetone phosphate        cytosol  reactions  mmol/l   \nNAD                               cytosol  reactions  mmol/l   \n1,3-Bisphosphoglycerate           cytosol  reactions  mmol/l   \nNADH                              cytosol  reactions  mmol/l   \nPhosphoenolpyruvate               cytosol  reactions  mmol/l   \nPyruvate                          cytosol  reactions  mmol/l   \nAcetaldehyde                      cytosol  reactions  mmol/l   \nEtOH                              cytosol  reactions  mmol/l   \nExtracellular ethanol       extracellular  reactions  mmol/l   \nGlycerol                          cytosol  reactions  mmol/l   \nExtracellular glycerol      extracellular  reactions  mmol/l   \nExtracellular acetaldehyde  extracellular  reactions  mmol/l   \nExtracellular cyanide       extracellular  reactions  mmol/l   \nAMP                               cytosol  reactions  mmol/l   \nP                           extracellular      fixed  mmol/l   \nMixed flow cyanide          extracellular      fixed  mmol/l   \nMixed flow glucose          extracellular      fixed  mmol/l   \n\n                            initial_concentration  initial_particle_number  \\\nname                                                                         \nExtracellular glucose                    6.700000             4.034834e+21   \nCytosolic glucose                        0.573074             3.451132e+20   \nATP                                      2.100000             1.264650e+21   \nGlucose-6-Phosphate                      4.200000             2.529299e+21   \nADP                                      1.500000             9.033211e+20   \nFructose-6-Phosphate                     0.490000             2.950849e+20   \nFructose 1,6-bisphosphate                4.640000             2.794273e+21   \nGlyceraldehyde 3-phosphate               0.115000             6.925462e+19   \nDihydroxyacetone phosphate               2.950000             1.776532e+21   \nNAD                                      0.650000             3.914391e+20   \n1,3-Bisphosphoglycerate                  0.000270             1.625978e+17   \nNADH                                     0.330000             1.987306e+20   \nPhosphoenolpyruvate                      0.040000             2.408856e+19   \nPyruvate                                 8.700000             5.239262e+21   \nAcetaldehyde                             1.481530             8.921982e+20   \nEtOH                                    19.237900             1.158533e+22   \nExtracellular ethanol                   16.451400             9.907265e+21   \nGlycerol                                 4.196000             2.526890e+21   \nExtracellular glycerol                   1.684780             1.014598e+21   \nExtracellular acetaldehyde               1.288360             7.758685e+20   \nExtracellular cyanide                    5.203580             3.133669e+21   \nAMP                                      0.330000             1.987306e+20   \nP                                        0.000000             0.000000e+00   \nMixed flow cyanide                       5.600000             3.372399e+21   \nMixed flow glucose                      24.000000             1.445314e+22   \n\n                           initial_expression expression  concentration  \\\nname                                                                      \nExtracellular glucose                                          6.700000   \nCytosolic glucose                                              0.573074   \nATP                                                            2.100000   \nGlucose-6-Phosphate                                            4.200000   \nADP                                                            1.500000   \nFructose-6-Phosphate                                           0.490000   \nFructose 1,6-bisphosphate                                      4.640000   \nGlyceraldehyde 3-phosphate                                     0.115000   \nDihydroxyacetone phosphate                                     2.950000   \nNAD                                                            0.650000   \n1,3-Bisphosphoglycerate                                        0.000270   \nNADH                                                           0.330000   \nPhosphoenolpyruvate                                            0.040000   \nPyruvate                                                       8.700000   \nAcetaldehyde                                                   1.481530   \nEtOH                                                          19.237900   \nExtracellular ethanol                                         16.451400   \nGlycerol                                                       4.196000   \nExtracellular glycerol                                         1.684780   \nExtracellular acetaldehyde                                     1.288360   \nExtracellular cyanide                                          5.203580   \nAMP                                                            0.330000   \nP                                                              0.000000   \nMixed flow cyanide                                             5.600000   \nMixed flow glucose                                            24.000000   \n\n                            particle_number          rate  \\\nname                                                        \nExtracellular glucose          4.034834e+21 -1.139132e+00   \nCytosolic glucose              3.451132e+20  6.820866e+01   \nATP                            1.264650e+21 -5.374740e-04   \nGlucose-6-Phosphate            2.529299e+21  2.292073e-05   \nADP                            9.033211e+20  9.874740e-04   \nFructose-6-Phosphate           2.950849e+20 -2.357096e-05   \nFructose 1,6-bisphosphate      2.794273e+21  3.000184e-05   \nGlyceraldehyde 3-phosphate     6.925462e+19 -1.056219e-04   \nDihydroxyacetone phosphate     1.776532e+21  8.613930e-05   \nNAD                            3.914391e+20 -5.799246e-05   \n1,3-Bisphosphoglycerate        1.625978e+17  5.878219e-05   \nNADH                           1.987306e+20  5.799246e-05   \nPhosphoenolpyruvate            2.408856e+19 -2.664671e-05   \nPyruvate                       5.239262e+21 -3.001996e-05   \nAcetaldehyde                   8.921982e+20  5.754463e-05   \nEtOH                           1.158533e+22  7.012204e-05   \nExtracellular ethanol          9.907265e+21 -1.437288e-06   \nGlycerol                       2.526890e+21 -1.733231e-05   \nExtracellular glycerol         1.014598e+21  3.566102e-07   \nExtracellular acetaldehyde     7.758685e+20  1.261075e-07   \nExtracellular cyanide          3.133669e+21  9.153125e-08   \nAMP                            1.987306e+20 -4.500000e-04   \nP                              0.000000e+00  0.000000e+00   \nMixed flow cyanide             3.372399e+21  0.000000e+00   \nMixed flow glucose             1.445314e+22  0.000000e+00   \n\n                            particle_number_rate            key sbml_id  \nname                                                                     \nExtracellular glucose              -6.860013e+20  Metabolite_52    GlcX  \nCytosolic glucose                   4.107622e+22  Metabolite_53     Glc  \nATP                                -3.236744e+17  Metabolite_54     ATP  \nGlucose-6-Phosphate                 1.380319e+16  Metabolite_55     G6P  \nADP                                 5.946708e+17  Metabolite_56     ADP  \nFructose-6-Phosphate               -1.419477e+16  Metabolite_57     F6P  \nFructose 1,6-bisphosphate           1.806753e+16  Metabolite_58     FBP  \nGlyceraldehyde 3-phosphate         -6.360699e+16  Metabolite_59     GAP  \nDihydroxyacetone phosphate          5.187430e+16  Metabolite_60    DHAP  \nNAD                                -3.492388e+16  Metabolite_61     NAD  \n1,3-Bisphosphoglycerate             3.539946e+16  Metabolite_62     BPG  \nNADH                                3.492388e+16  Metabolite_63    NADH  \nPhosphoenolpyruvate                -1.604702e+16  Metabolite_64     PEP  \nPyruvate                           -1.807844e+16  Metabolite_65     Pyr  \nAcetaldehyde                        3.465418e+16  Metabolite_66     ACA  \nEtOH                                4.222848e+16  Metabolite_67    EtOH  \nExtracellular ethanol              -8.655551e+14  Metabolite_68   EtOHX  \nGlycerol                           -1.043776e+16  Metabolite_69    Glyc  \nExtracellular glycerol              2.147557e+14  Metabolite_70   GlycX  \nExtracellular acetaldehyde          7.594373e+13  Metabolite_71    ACAX  \nExtracellular cyanide               5.512141e+13  Metabolite_72     CNX  \nAMP                                -2.709963e+17  Metabolite_73     AMP  \nP                                   0.000000e+00  Metabolite_74       P  \nMixed flow cyanide                  0.000000e+00  Metabolite_75    CNX0  \nMixed flow glucose                  0.000000e+00  Metabolite_76   GlcX0  ",
      "text/html": "<div>\n<style scoped>\n    .dataframe tbody tr th:only-of-type {\n        vertical-align: middle;\n    }\n\n    .dataframe tbody tr th {\n        vertical-align: top;\n    }\n\n    .dataframe thead th {\n        text-align: right;\n    }\n</style>\n<table border=\"1\" class=\"dataframe\">\n  <thead>\n    <tr style=\"text-align: right;\">\n      <th></th>\n      <th>compartment</th>\n      <th>type</th>\n      <th>unit</th>\n      <th>initial_concentration</th>\n      <th>initial_particle_number</th>\n      <th>initial_expression</th>\n      <th>expression</th>\n      <th>concentration</th>\n      <th>particle_number</th>\n      <th>rate</th>\n      <th>particle_number_rate</th>\n      <th>key</th>\n      <th>sbml_id</th>\n    </tr>\n    <tr>\n      <th>name</th>\n      <th></th>\n      <th></th>\n      <th></th>\n      <th></th>\n      <th></th>\n      <th></th>\n      <th></th>\n      <th></th>\n      <th></th>\n      <th></th>\n      <th></th>\n      <th></th>\n      <th></th>\n    </tr>\n  </thead>\n  <tbody>\n    <tr>\n      <th>Extracellular glucose</th>\n      <td>extracellular</td>\n      <td>reactions</td>\n      <td>mmol/l</td>\n      <td>6.700000</td>\n      <td>4.034834e+21</td>\n      <td></td>\n      <td></td>\n      <td>6.700000</td>\n      <td>4.034834e+21</td>\n      <td>-1.139132e+00</td>\n      <td>-6.860013e+20</td>\n      <td>Metabolite_52</td>\n      <td>GlcX</td>\n    </tr>\n    <tr>\n      <th>Cytosolic glucose</th>\n      <td>cytosol</td>\n      <td>reactions</td>\n      <td>mmol/l</td>\n      <td>0.573074</td>\n      <td>3.451132e+20</td>\n      <td></td>\n      <td></td>\n      <td>0.573074</td>\n      <td>3.451132e+20</td>\n      <td>6.820866e+01</td>\n      <td>4.107622e+22</td>\n      <td>Metabolite_53</td>\n      <td>Glc</td>\n    </tr>\n    <tr>\n      <th>ATP</th>\n      <td>cytosol</td>\n      <td>reactions</td>\n      <td>mmol/l</td>\n      <td>2.100000</td>\n      <td>1.264650e+21</td>\n      <td></td>\n      <td></td>\n      <td>2.100000</td>\n      <td>1.264650e+21</td>\n      <td>-5.374740e-04</td>\n      <td>-3.236744e+17</td>\n      <td>Metabolite_54</td>\n      <td>ATP</td>\n    </tr>\n    <tr>\n      <th>Glucose-6-Phosphate</th>\n      <td>cytosol</td>\n      <td>reactions</td>\n      <td>mmol/l</td>\n      <td>4.200000</td>\n      <td>2.529299e+21</td>\n      <td></td>\n      <td></td>\n      <td>4.200000</td>\n      <td>2.529299e+21</td>\n      <td>2.292073e-05</td>\n      <td>1.380319e+16</td>\n      <td>Metabolite_55</td>\n      <td>G6P</td>\n    </tr>\n    <tr>\n      <th>ADP</th>\n      <td>cytosol</td>\n      <td>reactions</td>\n      <td>mmol/l</td>\n      <td>1.500000</td>\n      <td>9.033211e+20</td>\n      <td></td>\n      <td></td>\n      <td>1.500000</td>\n      <td>9.033211e+20</td>\n      <td>9.874740e-04</td>\n      <td>5.946708e+17</td>\n      <td>Metabolite_56</td>\n      <td>ADP</td>\n    </tr>\n    <tr>\n      <th>Fructose-6-Phosphate</th>\n      <td>cytosol</td>\n      <td>reactions</td>\n      <td>mmol/l</td>\n      <td>0.490000</td>\n      <td>2.950849e+20</td>\n      <td></td>\n      <td></td>\n      <td>0.490000</td>\n      <td>2.950849e+20</td>\n      <td>-2.357096e-05</td>\n      <td>-1.419477e+16</td>\n      <td>Metabolite_57</td>\n      <td>F6P</td>\n    </tr>\n    <tr>\n      <th>Fructose 1,6-bisphosphate</th>\n      <td>cytosol</td>\n      <td>reactions</td>\n      <td>mmol/l</td>\n      <td>4.640000</td>\n      <td>2.794273e+21</td>\n      <td></td>\n      <td></td>\n      <td>4.640000</td>\n      <td>2.794273e+21</td>\n      <td>3.000184e-05</td>\n      <td>1.806753e+16</td>\n      <td>Metabolite_58</td>\n      <td>FBP</td>\n    </tr>\n    <tr>\n      <th>Glyceraldehyde 3-phosphate</th>\n      <td>cytosol</td>\n      <td>reactions</td>\n      <td>mmol/l</td>\n      <td>0.115000</td>\n      <td>6.925462e+19</td>\n      <td></td>\n      <td></td>\n      <td>0.115000</td>\n      <td>6.925462e+19</td>\n      <td>-1.056219e-04</td>\n      <td>-6.360699e+16</td>\n      <td>Metabolite_59</td>\n      <td>GAP</td>\n    </tr>\n    <tr>\n      <th>Dihydroxyacetone phosphate</th>\n      <td>cytosol</td>\n      <td>reactions</td>\n      <td>mmol/l</td>\n      <td>2.950000</td>\n      <td>1.776532e+21</td>\n      <td></td>\n      <td></td>\n      <td>2.950000</td>\n      <td>1.776532e+21</td>\n      <td>8.613930e-05</td>\n      <td>5.187430e+16</td>\n      <td>Metabolite_60</td>\n      <td>DHAP</td>\n    </tr>\n    <tr>\n      <th>NAD</th>\n      <td>cytosol</td>\n      <td>reactions</td>\n      <td>mmol/l</td>\n      <td>0.650000</td>\n      <td>3.914391e+20</td>\n      <td></td>\n      <td></td>\n      <td>0.650000</td>\n      <td>3.914391e+20</td>\n      <td>-5.799246e-05</td>\n      <td>-3.492388e+16</td>\n      <td>Metabolite_61</td>\n      <td>NAD</td>\n    </tr>\n    <tr>\n      <th>1,3-Bisphosphoglycerate</th>\n      <td>cytosol</td>\n      <td>reactions</td>\n      <td>mmol/l</td>\n      <td>0.000270</td>\n      <td>1.625978e+17</td>\n      <td></td>\n      <td></td>\n      <td>0.000270</td>\n      <td>1.625978e+17</td>\n      <td>5.878219e-05</td>\n      <td>3.539946e+16</td>\n      <td>Metabolite_62</td>\n      <td>BPG</td>\n    </tr>\n    <tr>\n      <th>NADH</th>\n      <td>cytosol</td>\n      <td>reactions</td>\n      <td>mmol/l</td>\n      <td>0.330000</td>\n      <td>1.987306e+20</td>\n      <td></td>\n      <td></td>\n      <td>0.330000</td>\n      <td>1.987306e+20</td>\n      <td>5.799246e-05</td>\n      <td>3.492388e+16</td>\n      <td>Metabolite_63</td>\n      <td>NADH</td>\n    </tr>\n    <tr>\n      <th>Phosphoenolpyruvate</th>\n      <td>cytosol</td>\n      <td>reactions</td>\n      <td>mmol/l</td>\n      <td>0.040000</td>\n      <td>2.408856e+19</td>\n      <td></td>\n      <td></td>\n      <td>0.040000</td>\n      <td>2.408856e+19</td>\n      <td>-2.664671e-05</td>\n      <td>-1.604702e+16</td>\n      <td>Metabolite_64</td>\n      <td>PEP</td>\n    </tr>\n    <tr>\n      <th>Pyruvate</th>\n      <td>cytosol</td>\n      <td>reactions</td>\n      <td>mmol/l</td>\n      <td>8.700000</td>\n      <td>5.239262e+21</td>\n      <td></td>\n      <td></td>\n      <td>8.700000</td>\n      <td>5.239262e+21</td>\n      <td>-3.001996e-05</td>\n      <td>-1.807844e+16</td>\n      <td>Metabolite_65</td>\n      <td>Pyr</td>\n    </tr>\n    <tr>\n      <th>Acetaldehyde</th>\n      <td>cytosol</td>\n      <td>reactions</td>\n      <td>mmol/l</td>\n      <td>1.481530</td>\n      <td>8.921982e+20</td>\n      <td></td>\n      <td></td>\n      <td>1.481530</td>\n      <td>8.921982e+20</td>\n      <td>5.754463e-05</td>\n      <td>3.465418e+16</td>\n      <td>Metabolite_66</td>\n      <td>ACA</td>\n    </tr>\n    <tr>\n      <th>EtOH</th>\n      <td>cytosol</td>\n      <td>reactions</td>\n      <td>mmol/l</td>\n      <td>19.237900</td>\n      <td>1.158533e+22</td>\n      <td></td>\n      <td></td>\n      <td>19.237900</td>\n      <td>1.158533e+22</td>\n      <td>7.012204e-05</td>\n      <td>4.222848e+16</td>\n      <td>Metabolite_67</td>\n      <td>EtOH</td>\n    </tr>\n    <tr>\n      <th>Extracellular ethanol</th>\n      <td>extracellular</td>\n      <td>reactions</td>\n      <td>mmol/l</td>\n      <td>16.451400</td>\n      <td>9.907265e+21</td>\n      <td></td>\n      <td></td>\n      <td>16.451400</td>\n      <td>9.907265e+21</td>\n      <td>-1.437288e-06</td>\n      <td>-8.655551e+14</td>\n      <td>Metabolite_68</td>\n      <td>EtOHX</td>\n    </tr>\n    <tr>\n      <th>Glycerol</th>\n      <td>cytosol</td>\n      <td>reactions</td>\n      <td>mmol/l</td>\n      <td>4.196000</td>\n      <td>2.526890e+21</td>\n      <td></td>\n      <td></td>\n      <td>4.196000</td>\n      <td>2.526890e+21</td>\n      <td>-1.733231e-05</td>\n      <td>-1.043776e+16</td>\n      <td>Metabolite_69</td>\n      <td>Glyc</td>\n    </tr>\n    <tr>\n      <th>Extracellular glycerol</th>\n      <td>extracellular</td>\n      <td>reactions</td>\n      <td>mmol/l</td>\n      <td>1.684780</td>\n      <td>1.014598e+21</td>\n      <td></td>\n      <td></td>\n      <td>1.684780</td>\n      <td>1.014598e+21</td>\n      <td>3.566102e-07</td>\n      <td>2.147557e+14</td>\n      <td>Metabolite_70</td>\n      <td>GlycX</td>\n    </tr>\n    <tr>\n      <th>Extracellular acetaldehyde</th>\n      <td>extracellular</td>\n      <td>reactions</td>\n      <td>mmol/l</td>\n      <td>1.288360</td>\n      <td>7.758685e+20</td>\n      <td></td>\n      <td></td>\n      <td>1.288360</td>\n      <td>7.758685e+20</td>\n      <td>1.261075e-07</td>\n      <td>7.594373e+13</td>\n      <td>Metabolite_71</td>\n      <td>ACAX</td>\n    </tr>\n    <tr>\n      <th>Extracellular cyanide</th>\n      <td>extracellular</td>\n      <td>reactions</td>\n      <td>mmol/l</td>\n      <td>5.203580</td>\n      <td>3.133669e+21</td>\n      <td></td>\n      <td></td>\n      <td>5.203580</td>\n      <td>3.133669e+21</td>\n      <td>9.153125e-08</td>\n      <td>5.512141e+13</td>\n      <td>Metabolite_72</td>\n      <td>CNX</td>\n    </tr>\n    <tr>\n      <th>AMP</th>\n      <td>cytosol</td>\n      <td>reactions</td>\n      <td>mmol/l</td>\n      <td>0.330000</td>\n      <td>1.987306e+20</td>\n      <td></td>\n      <td></td>\n      <td>0.330000</td>\n      <td>1.987306e+20</td>\n      <td>-4.500000e-04</td>\n      <td>-2.709963e+17</td>\n      <td>Metabolite_73</td>\n      <td>AMP</td>\n    </tr>\n    <tr>\n      <th>P</th>\n      <td>extracellular</td>\n      <td>fixed</td>\n      <td>mmol/l</td>\n      <td>0.000000</td>\n      <td>0.000000e+00</td>\n      <td></td>\n      <td></td>\n      <td>0.000000</td>\n      <td>0.000000e+00</td>\n      <td>0.000000e+00</td>\n      <td>0.000000e+00</td>\n      <td>Metabolite_74</td>\n      <td>P</td>\n    </tr>\n    <tr>\n      <th>Mixed flow cyanide</th>\n      <td>extracellular</td>\n      <td>fixed</td>\n      <td>mmol/l</td>\n      <td>5.600000</td>\n      <td>3.372399e+21</td>\n      <td></td>\n      <td></td>\n      <td>5.600000</td>\n      <td>3.372399e+21</td>\n      <td>0.000000e+00</td>\n      <td>0.000000e+00</td>\n      <td>Metabolite_75</td>\n      <td>CNX0</td>\n    </tr>\n    <tr>\n      <th>Mixed flow glucose</th>\n      <td>extracellular</td>\n      <td>fixed</td>\n      <td>mmol/l</td>\n      <td>24.000000</td>\n      <td>1.445314e+22</td>\n      <td></td>\n      <td></td>\n      <td>24.000000</td>\n      <td>1.445314e+22</td>\n      <td>0.000000e+00</td>\n      <td>0.000000e+00</td>\n      <td>Metabolite_76</td>\n      <td>GlcX0</td>\n    </tr>\n  </tbody>\n</table>\n</div>"
     },
     "execution_count": 9,
     "metadata": {},
     "output_type": "execute_result"
    }
   ],
   "source": [
    "model_from_file = load_model(model_filepath)\n",
    "get_species(model=model_from_file)"
   ],
   "metadata": {
    "collapsed": false,
    "ExecuteTime": {
     "end_time": "2024-03-04T14:28:15.750923Z",
     "start_time": "2024-03-04T14:28:15.686674Z"
    }
   },
   "id": "40ab6f70ac3f4996",
   "execution_count": 9
  },
  {
   "cell_type": "code",
   "execution_count": 10,
   "outputs": [
    {
     "name": "stdout",
     "output_type": "stream",
     "text": [
      "{ 'global_parameter_changes': [],\n",
      "  'reaction_changes': [],\n",
      "  'species_changes': [ { 'expression': '',\n",
      "                         'initial_concentration': 9.261000000000001,\n",
      "                         'initial_expression': '',\n",
      "                         'initial_particle_number': None,\n",
      "                         'name': 'ADP',\n",
      "                         'unit': ''}]}\n"
     ]
    }
   ],
   "source": [
    "# 1. specify model changes\n",
    "process_model_changes = ModelChanges(\n",
    "    species_changes=[SpeciesChanges(name='ADP', initial_concentration=2.1**3)]\n",
    ")\n",
    "\n",
    "\n",
    "pp(process_model_changes.model_dump())"
   ],
   "metadata": {
    "collapsed": false,
    "ExecuteTime": {
     "end_time": "2024-03-04T14:29:01.996375Z",
     "start_time": "2024-03-04T14:29:01.991287Z"
    }
   },
   "id": "d02a547b85138f96"
  },
  {
   "cell_type": "code",
   "execution_count": 12,
   "outputs": [
    {
     "name": "stdout",
     "output_type": "stream",
     "text": [
      "{ 'model_changes': { 'global_parameter_changes': [],\n",
      "                     'reaction_changes': [],\n",
      "                     'species_changes': [ { 'expression': '',\n",
      "                                            'initial_concentration': 9.261000000000001,\n",
      "                                            'initial_expression': '',\n",
      "                                            'initial_particle_number': None,\n",
      "                                            'name': 'ADP',\n",
      "                                            'unit': ''}]},\n",
      "  'model_id': 'copasi_process_from_file',\n",
      "  'model_language': 'sbml',\n",
      "  'model_name': 'Simple Composite Process from File',\n",
      "  'model_source': { 'value': '../biosimulator_processes/model_files/BIOMD0000000061_url.xml'},\n",
      "  'model_units': None}\n"
     ]
    }
   ],
   "source": [
    "# 2. define the model schema to be used by the composite process (one of the copasiprocess config parameters)\n",
    "\n",
    "process_model_from_file = Model(\n",
    "    model_id='copasi_process_from_file',\n",
    "    model_source=model_filepath,\n",
    "    model_name='Simple Composite Process from File',\n",
    "    model_changes=process_model_changes\n",
    ")\n",
    "\n",
    "\n",
    "pp(process_model_from_file.model_dump())"
   ],
   "metadata": {
    "collapsed": false,
    "ExecuteTime": {
     "end_time": "2024-03-04T14:29:43.781788Z",
     "start_time": "2024-03-04T14:29:43.779500Z"
    }
   },
   "id": "1b6c269646357d7d"
  },
  {
   "cell_type": "code",
   "execution_count": 14,
   "outputs": [
    {
     "name": "stdout",
     "output_type": "stream",
     "text": [
      "{ 'method': 'stochastic',\n",
      "  'model': { 'model_changes': { 'global_parameter_changes': [],\n",
      "                                'reaction_changes': [],\n",
      "                                'species_changes': [ { 'expression': '',\n",
      "                                                       'initial_concentration': 9.261000000000001,\n",
      "                                                       'initial_expression': '',\n",
      "                                                       'initial_particle_number': None,\n",
      "                                                       'name': 'ADP',\n",
      "                                                       'unit': ''}]},\n",
      "             'model_id': 'copasi_process_from_file',\n",
      "             'model_language': 'sbml',\n",
      "             'model_name': 'Simple Composite Process from File',\n",
      "             'model_source': { 'value': '../biosimulator_processes/model_files/BIOMD0000000061_url.xml'},\n",
      "             'model_units': None},\n",
      "  'process_name': 'simple_copasi'}\n"
     ]
    }
   ],
   "source": [
    "# 3. Define config schema to be used as 'config' parameter of Process constructor\n",
    "process_config_from_file = CopasiProcessConfigSchema(\n",
    "    method='stochastic',\n",
    "    model=process_model_from_file,\n",
    "    process_name='simple_copasi'\n",
    ")\n",
    "\n",
    "\n",
    "pp(process_config_from_file.model_dump())"
   ],
   "metadata": {
    "collapsed": false,
    "ExecuteTime": {
     "end_time": "2024-03-04T14:30:38.332237Z",
     "start_time": "2024-03-04T14:30:38.328709Z"
    }
   },
   "id": "5d434956e65b1a42"
  },
  {
   "cell_type": "code",
   "execution_count": 15,
   "outputs": [
    {
     "data": {
      "text/plain": "{'model_id': 'copasi_process_from_file',\n 'model_source': {'value': '../biosimulator_processes/model_files/BIOMD0000000061_url.xml'},\n 'model_language': 'sbml',\n 'model_name': 'Simple Composite Process from File',\n 'model_changes': {'species_changes': [{'name': 'ADP',\n    'unit': '',\n    'initial_concentration': 9.261000000000001,\n    'initial_particle_number': None,\n    'initial_expression': '',\n    'expression': ''}],\n  'global_parameter_changes': [],\n  'reaction_changes': []},\n 'model_units': None}"
     },
     "execution_count": 15,
     "metadata": {},
     "output_type": "execute_result"
    }
   ],
   "source": [
    "process_config_from_file.model"
   ],
   "metadata": {
    "collapsed": false,
    "ExecuteTime": {
     "end_time": "2024-03-04T14:30:41.885074Z",
     "start_time": "2024-03-04T14:30:41.880286Z"
    }
   },
   "id": "de88e95d8f616779"
  },
  {
   "cell_type": "code",
   "execution_count": 16,
   "outputs": [
    {
     "ename": "TypeError",
     "evalue": "float() argument must be a string or a real number, not 'NoneType'",
     "output_type": "error",
     "traceback": [
      "\u001B[0;31m---------------------------------------------------------------------------\u001B[0m",
      "\u001B[0;31mTypeError\u001B[0m                                 Traceback (most recent call last)",
      "Cell \u001B[0;32mIn[16], line 4\u001B[0m\n\u001B[1;32m      1\u001B[0m \u001B[38;5;66;03m# 4. Add the process instance by the name of 'simple_copasi' to the builder\u001B[39;00m\n\u001B[0;32m----> 4\u001B[0m \u001B[43mb\u001B[49m\u001B[43m[\u001B[49m\u001B[43mprocess_config_from_file\u001B[49m\u001B[38;5;241;43m.\u001B[39;49m\u001B[43mprocess_name\u001B[49m\u001B[43m]\u001B[49m\u001B[38;5;241;43m.\u001B[39;49m\u001B[43madd_process\u001B[49m\u001B[43m(\u001B[49m\n\u001B[1;32m      5\u001B[0m \u001B[43m    \u001B[49m\u001B[43mname\u001B[49m\u001B[38;5;241;43m=\u001B[39;49m\u001B[38;5;124;43m'\u001B[39;49m\u001B[38;5;124;43mCopasiProcess\u001B[39;49m\u001B[38;5;124;43m'\u001B[39;49m\u001B[43m,\u001B[49m\n\u001B[1;32m      6\u001B[0m \u001B[43m    \u001B[49m\u001B[43mmodel\u001B[49m\u001B[38;5;241;43m=\u001B[39;49m\u001B[43mprocess_config_from_file\u001B[49m\u001B[38;5;241;43m.\u001B[39;49m\u001B[43mmodel\u001B[49m\u001B[43m,\u001B[49m\n\u001B[1;32m      7\u001B[0m \u001B[43m    \u001B[49m\u001B[43mmethod\u001B[49m\u001B[38;5;241;43m=\u001B[39;49m\u001B[43mprocess_config_from_file\u001B[49m\u001B[38;5;241;43m.\u001B[39;49m\u001B[43mmethod\u001B[49m\n\u001B[1;32m      8\u001B[0m \u001B[43m)\u001B[49m\n",
      "File \u001B[0;32m~/Library/Caches/pypoetry/virtualenvs/biosimulator-processes-KVuYbFzt-py3.10/lib/python3.10/site-packages/builder/builder_api.py:148\u001B[0m, in \u001B[0;36mBuilderNode.add_process\u001B[0;34m(self, name, config, inputs, outputs, **kwargs)\u001B[0m\n\u001B[1;32m    139\u001B[0m state \u001B[38;5;241m=\u001B[39m {\n\u001B[1;32m    140\u001B[0m     \u001B[38;5;124m'\u001B[39m\u001B[38;5;124m_type\u001B[39m\u001B[38;5;124m'\u001B[39m: edge_type,\n\u001B[1;32m    141\u001B[0m     \u001B[38;5;124m'\u001B[39m\u001B[38;5;124maddress\u001B[39m\u001B[38;5;124m'\u001B[39m: \u001B[38;5;124mf\u001B[39m\u001B[38;5;124m'\u001B[39m\u001B[38;5;124mlocal:\u001B[39m\u001B[38;5;132;01m{\u001B[39;00mname\u001B[38;5;132;01m}\u001B[39;00m\u001B[38;5;124m'\u001B[39m,  \u001B[38;5;66;03m# TODO -- only support local right now?\u001B[39;00m\n\u001B[0;32m   (...)\u001B[0m\n\u001B[1;32m    144\u001B[0m     \u001B[38;5;124m'\u001B[39m\u001B[38;5;124moutputs\u001B[39m\u001B[38;5;124m'\u001B[39m: {} \u001B[38;5;28;01mif\u001B[39;00m outputs \u001B[38;5;129;01mis\u001B[39;00m \u001B[38;5;28;01mNone\u001B[39;00m \u001B[38;5;28;01melse\u001B[39;00m outputs,\n\u001B[1;32m    145\u001B[0m }\n\u001B[1;32m    147\u001B[0m set_path(tree\u001B[38;5;241m=\u001B[39m\u001B[38;5;28mself\u001B[39m\u001B[38;5;241m.\u001B[39mbuilder\u001B[38;5;241m.\u001B[39mtree, path\u001B[38;5;241m=\u001B[39m\u001B[38;5;28mself\u001B[39m\u001B[38;5;241m.\u001B[39mpath, value\u001B[38;5;241m=\u001B[39mstate)\n\u001B[0;32m--> 148\u001B[0m \u001B[38;5;28;43mself\u001B[39;49m\u001B[38;5;241;43m.\u001B[39;49m\u001B[43mbuilder\u001B[49m\u001B[38;5;241;43m.\u001B[39;49m\u001B[43mcomplete\u001B[49m\u001B[43m(\u001B[49m\u001B[43m)\u001B[49m\n",
      "File \u001B[0;32m~/Library/Caches/pypoetry/virtualenvs/biosimulator-processes-KVuYbFzt-py3.10/lib/python3.10/site-packages/builder/builder_api.py:233\u001B[0m, in \u001B[0;36mBuilder.complete\u001B[0;34m(self)\u001B[0m\n\u001B[1;32m    232\u001B[0m \u001B[38;5;28;01mdef\u001B[39;00m \u001B[38;5;21mcomplete\u001B[39m(\u001B[38;5;28mself\u001B[39m):\n\u001B[0;32m--> 233\u001B[0m     \u001B[38;5;28mself\u001B[39m\u001B[38;5;241m.\u001B[39mschema, \u001B[38;5;28mself\u001B[39m\u001B[38;5;241m.\u001B[39mtree \u001B[38;5;241m=\u001B[39m \u001B[38;5;28;43mself\u001B[39;49m\u001B[38;5;241;43m.\u001B[39;49m\u001B[43mcore\u001B[49m\u001B[38;5;241;43m.\u001B[39;49m\u001B[43mcomplete\u001B[49m\u001B[43m(\u001B[49m\u001B[38;5;28;43mself\u001B[39;49m\u001B[38;5;241;43m.\u001B[39;49m\u001B[43mschema\u001B[49m\u001B[43m,\u001B[49m\u001B[43m \u001B[49m\u001B[38;5;28;43mself\u001B[39;49m\u001B[38;5;241;43m.\u001B[39;49m\u001B[43mtree\u001B[49m\u001B[43m)\u001B[49m\n",
      "File \u001B[0;32m~/Library/Caches/pypoetry/virtualenvs/biosimulator-processes-KVuYbFzt-py3.10/lib/python3.10/site-packages/bigraph_schema/type_system.py:1334\u001B[0m, in \u001B[0;36mTypeSystem.complete\u001B[0;34m(self, initial_schema, initial_state)\u001B[0m\n\u001B[1;32m   1328\u001B[0m state \u001B[38;5;241m=\u001B[39m \u001B[38;5;28mself\u001B[39m\u001B[38;5;241m.\u001B[39mhydrate(\n\u001B[1;32m   1329\u001B[0m     full_schema,\n\u001B[1;32m   1330\u001B[0m     initial_state)\n\u001B[1;32m   1332\u001B[0m \u001B[38;5;66;03m# fill in the parts of the composition schema\u001B[39;00m\n\u001B[1;32m   1333\u001B[0m \u001B[38;5;66;03m# determined by the state\u001B[39;00m\n\u001B[0;32m-> 1334\u001B[0m schema, state \u001B[38;5;241m=\u001B[39m \u001B[38;5;28;43mself\u001B[39;49m\u001B[38;5;241;43m.\u001B[39;49m\u001B[43minfer_schema\u001B[49m\u001B[43m(\u001B[49m\n\u001B[1;32m   1335\u001B[0m \u001B[43m    \u001B[49m\u001B[43mfull_schema\u001B[49m\u001B[43m,\u001B[49m\n\u001B[1;32m   1336\u001B[0m \u001B[43m    \u001B[49m\u001B[43mstate\u001B[49m\u001B[43m)\u001B[49m\n\u001B[1;32m   1338\u001B[0m final_state \u001B[38;5;241m=\u001B[39m \u001B[38;5;28mself\u001B[39m\u001B[38;5;241m.\u001B[39mfill(schema, state)\n\u001B[1;32m   1340\u001B[0m \u001B[38;5;66;03m# TODO: add flag to types.access(copy=True)\u001B[39;00m\n",
      "File \u001B[0;32m~/Library/Caches/pypoetry/virtualenvs/biosimulator-processes-KVuYbFzt-py3.10/lib/python3.10/site-packages/process_bigraph/composite.py:270\u001B[0m, in \u001B[0;36mProcessTypes.infer_schema\u001B[0;34m(self, schema, state, top_state, path)\u001B[0m\n\u001B[1;32m    267\u001B[0m             inner_path \u001B[38;5;241m=\u001B[39m path \u001B[38;5;241m+\u001B[39m (key,)\n\u001B[1;32m    268\u001B[0m             \u001B[38;5;28;01mif\u001B[39;00m get_path(schema, inner_path) \u001B[38;5;129;01mis\u001B[39;00m \u001B[38;5;28;01mNone\u001B[39;00m \u001B[38;5;129;01mor\u001B[39;00m get_path(state, inner_path) \u001B[38;5;129;01mis\u001B[39;00m \u001B[38;5;28;01mNone\u001B[39;00m \u001B[38;5;129;01mor\u001B[39;00m (\n\u001B[1;32m    269\u001B[0m                     \u001B[38;5;28misinstance\u001B[39m(value, \u001B[38;5;28mdict\u001B[39m) \u001B[38;5;129;01mand\u001B[39;00m \u001B[38;5;124m'\u001B[39m\u001B[38;5;124m_type\u001B[39m\u001B[38;5;124m'\u001B[39m \u001B[38;5;129;01min\u001B[39;00m value):\n\u001B[0;32m--> 270\u001B[0m                 schema, top_state \u001B[38;5;241m=\u001B[39m \u001B[38;5;28;43mself\u001B[39;49m\u001B[38;5;241;43m.\u001B[39;49m\u001B[43minfer_schema\u001B[49m\u001B[43m(\u001B[49m\n\u001B[1;32m    271\u001B[0m \u001B[43m                    \u001B[49m\u001B[43mschema\u001B[49m\u001B[43m,\u001B[49m\n\u001B[1;32m    272\u001B[0m \u001B[43m                    \u001B[49m\u001B[43mvalue\u001B[49m\u001B[43m,\u001B[49m\n\u001B[1;32m    273\u001B[0m \u001B[43m                    \u001B[49m\u001B[43mtop_state\u001B[49m\u001B[38;5;241;43m=\u001B[39;49m\u001B[43mtop_state\u001B[49m\u001B[43m,\u001B[49m\n\u001B[1;32m    274\u001B[0m \u001B[43m                    \u001B[49m\u001B[43mpath\u001B[49m\u001B[38;5;241;43m=\u001B[39;49m\u001B[43minner_path\u001B[49m\u001B[43m)\u001B[49m\n\u001B[1;32m    276\u001B[0m \u001B[38;5;28;01melif\u001B[39;00m \u001B[38;5;28misinstance\u001B[39m(state, \u001B[38;5;28mstr\u001B[39m):\n\u001B[1;32m    277\u001B[0m     \u001B[38;5;28;01mpass\u001B[39;00m\n",
      "File \u001B[0;32m~/Library/Caches/pypoetry/virtualenvs/biosimulator-processes-KVuYbFzt-py3.10/lib/python3.10/site-packages/process_bigraph/composite.py:222\u001B[0m, in \u001B[0;36mProcessTypes.infer_schema\u001B[0;34m(self, schema, state, top_state, path)\u001B[0m\n\u001B[1;32m    219\u001B[0m state_type \u001B[38;5;241m=\u001B[39m state[\u001B[38;5;124m'\u001B[39m\u001B[38;5;124m_type\u001B[39m\u001B[38;5;124m'\u001B[39m]\n\u001B[1;32m    220\u001B[0m state_schema \u001B[38;5;241m=\u001B[39m \u001B[38;5;28mself\u001B[39m\u001B[38;5;241m.\u001B[39maccess(state_type)\n\u001B[0;32m--> 222\u001B[0m hydrated_state \u001B[38;5;241m=\u001B[39m \u001B[38;5;28;43mself\u001B[39;49m\u001B[38;5;241;43m.\u001B[39;49m\u001B[43mdeserialize\u001B[49m\u001B[43m(\u001B[49m\u001B[43mstate_schema\u001B[49m\u001B[43m,\u001B[49m\u001B[43m \u001B[49m\u001B[43mstate\u001B[49m\u001B[43m)\u001B[49m\n\u001B[1;32m    223\u001B[0m top_state \u001B[38;5;241m=\u001B[39m set_path(\n\u001B[1;32m    224\u001B[0m     top_state,\n\u001B[1;32m    225\u001B[0m     path,\n\u001B[1;32m    226\u001B[0m     hydrated_state)\n\u001B[1;32m    228\u001B[0m schema \u001B[38;5;241m=\u001B[39m set_path(\n\u001B[1;32m    229\u001B[0m     schema,\n\u001B[1;32m    230\u001B[0m     path,\n\u001B[1;32m    231\u001B[0m     {\u001B[38;5;124m'\u001B[39m\u001B[38;5;124m_type\u001B[39m\u001B[38;5;124m'\u001B[39m: state_type})\n",
      "File \u001B[0;32m~/Library/Caches/pypoetry/virtualenvs/biosimulator-processes-KVuYbFzt-py3.10/lib/python3.10/site-packages/bigraph_schema/type_system.py:675\u001B[0m, in \u001B[0;36mTypeSystem.deserialize\u001B[0;34m(self, schema, encoded)\u001B[0m\n\u001B[1;32m    672\u001B[0m     \u001B[38;5;28;01mif\u001B[39;00m encoded \u001B[38;5;129;01mis\u001B[39;00m \u001B[38;5;28;01mNone\u001B[39;00m:\n\u001B[1;32m    673\u001B[0m         encoded \u001B[38;5;241m=\u001B[39m \u001B[38;5;28mself\u001B[39m\u001B[38;5;241m.\u001B[39mdefault(schema)\n\u001B[0;32m--> 675\u001B[0m     \u001B[38;5;28;01mreturn\u001B[39;00m \u001B[43mdeserialize_function\u001B[49m\u001B[43m(\u001B[49m\n\u001B[1;32m    676\u001B[0m \u001B[43m        \u001B[49m\u001B[43mfound\u001B[49m\u001B[43m,\u001B[49m\n\u001B[1;32m    677\u001B[0m \u001B[43m        \u001B[49m\u001B[43mencoded\u001B[49m\u001B[43m,\u001B[49m\n\u001B[1;32m    678\u001B[0m \u001B[43m        \u001B[49m\u001B[38;5;28;43mself\u001B[39;49m\u001B[43m)\u001B[49m\n\u001B[1;32m    680\u001B[0m \u001B[38;5;28;01melif\u001B[39;00m \u001B[38;5;28misinstance\u001B[39m(encoded, \u001B[38;5;28mdict\u001B[39m):\n\u001B[1;32m    681\u001B[0m     result \u001B[38;5;241m=\u001B[39m {}\n",
      "File \u001B[0;32m~/Library/Caches/pypoetry/virtualenvs/biosimulator-processes-KVuYbFzt-py3.10/lib/python3.10/site-packages/process_bigraph/composite.py:95\u001B[0m, in \u001B[0;36mdeserialize_process\u001B[0;34m(schema, encoded, core)\u001B[0m\n\u001B[1;32m     90\u001B[0m interval \u001B[38;5;241m=\u001B[39m core\u001B[38;5;241m.\u001B[39mdeserialize(\n\u001B[1;32m     91\u001B[0m     \u001B[38;5;124m'\u001B[39m\u001B[38;5;124minterval\u001B[39m\u001B[38;5;124m'\u001B[39m,\n\u001B[1;32m     92\u001B[0m     encoded\u001B[38;5;241m.\u001B[39mget(\u001B[38;5;124m'\u001B[39m\u001B[38;5;124minterval\u001B[39m\u001B[38;5;124m'\u001B[39m))\n\u001B[1;32m     94\u001B[0m \u001B[38;5;28;01mif\u001B[39;00m \u001B[38;5;129;01mnot\u001B[39;00m \u001B[38;5;124m'\u001B[39m\u001B[38;5;124minstance\u001B[39m\u001B[38;5;124m'\u001B[39m \u001B[38;5;129;01min\u001B[39;00m deserialized:\n\u001B[0;32m---> 95\u001B[0m     process \u001B[38;5;241m=\u001B[39m \u001B[43minstantiate\u001B[49m\u001B[43m(\u001B[49m\u001B[43mconfig\u001B[49m\u001B[43m,\u001B[49m\u001B[43m \u001B[49m\u001B[43mcore\u001B[49m\u001B[38;5;241;43m=\u001B[39;49m\u001B[43mcore\u001B[49m\u001B[43m)\u001B[49m\n\u001B[1;32m     96\u001B[0m     deserialized[\u001B[38;5;124m'\u001B[39m\u001B[38;5;124minstance\u001B[39m\u001B[38;5;124m'\u001B[39m] \u001B[38;5;241m=\u001B[39m process\n\u001B[1;32m     98\u001B[0m deserialized[\u001B[38;5;124m'\u001B[39m\u001B[38;5;124mconfig\u001B[39m\u001B[38;5;124m'\u001B[39m] \u001B[38;5;241m=\u001B[39m config\n",
      "File \u001B[0;32m~/Desktop/uchc_work/biosimulator-processes/notebooks/../biosimulator_processes/processes/copasi_process.py:158\u001B[0m, in \u001B[0;36mCopasiProcess.__init__\u001B[0;34m(self, config, core)\u001B[0m\n\u001B[1;32m    156\u001B[0m     \u001B[38;5;28;01melif\u001B[39;00m \u001B[38;5;28misinstance\u001B[39m(species_changes, \u001B[38;5;28mlist\u001B[39m):\n\u001B[1;32m    157\u001B[0m         \u001B[38;5;28;01mfor\u001B[39;00m species_change \u001B[38;5;129;01min\u001B[39;00m species_changes:\n\u001B[0;32m--> 158\u001B[0m             \u001B[43mset_species\u001B[49m\u001B[43m(\u001B[49m\u001B[38;5;241;43m*\u001B[39;49m\u001B[38;5;241;43m*\u001B[39;49m\u001B[43mspecies_change\u001B[49m\u001B[43m,\u001B[49m\u001B[43m \u001B[49m\u001B[43mmodel\u001B[49m\u001B[38;5;241;43m=\u001B[39;49m\u001B[38;5;28;43mself\u001B[39;49m\u001B[38;5;241;43m.\u001B[39;49m\u001B[43mcopasi_model_object\u001B[49m\u001B[43m)\u001B[49m\n\u001B[1;32m    160\u001B[0m \u001B[38;5;66;03m# Get the species (floating only)  TODO: add boundary species\u001B[39;00m\n\u001B[1;32m    161\u001B[0m \u001B[38;5;28mself\u001B[39m\u001B[38;5;241m.\u001B[39mfloating_species_list \u001B[38;5;241m=\u001B[39m get_species(model\u001B[38;5;241m=\u001B[39m\u001B[38;5;28mself\u001B[39m\u001B[38;5;241m.\u001B[39mcopasi_model_object)\u001B[38;5;241m.\u001B[39mindex\u001B[38;5;241m.\u001B[39mtolist()\n",
      "File \u001B[0;32m~/Library/Caches/pypoetry/virtualenvs/biosimulator-processes-KVuYbFzt-py3.10/lib/python3.10/site-packages/basico/model_info.py:3646\u001B[0m, in \u001B[0;36mset_species\u001B[0;34m(name, exact, **kwargs)\u001B[0m\n\u001B[1;32m   3643\u001B[0m \u001B[38;5;28;01mif\u001B[39;00m name \u001B[38;5;129;01mand\u001B[39;00m \u001B[38;5;28misinstance\u001B[39m(name, Iterable) \u001B[38;5;129;01mand\u001B[39;00m current_name \u001B[38;5;129;01mnot\u001B[39;00m \u001B[38;5;129;01min\u001B[39;00m name \u001B[38;5;129;01mand\u001B[39;00m display_name \u001B[38;5;129;01mnot\u001B[39;00m \u001B[38;5;129;01min\u001B[39;00m name:\n\u001B[1;32m   3644\u001B[0m     \u001B[38;5;28;01mcontinue\u001B[39;00m\n\u001B[0;32m-> 3646\u001B[0m \u001B[43m_set_species\u001B[49m\u001B[43m(\u001B[49m\u001B[43mmetab\u001B[49m\u001B[43m,\u001B[49m\u001B[43m \u001B[49m\u001B[43mmodel\u001B[49m\u001B[43m,\u001B[49m\u001B[43m \u001B[49m\u001B[38;5;241;43m*\u001B[39;49m\u001B[38;5;241;43m*\u001B[39;49m\u001B[43mkwargs\u001B[49m\u001B[43m)\u001B[49m\n",
      "File \u001B[0;32m~/Library/Caches/pypoetry/virtualenvs/biosimulator-processes-KVuYbFzt-py3.10/lib/python3.10/site-packages/basico/model_info.py:3672\u001B[0m, in \u001B[0;36m_set_species\u001B[0;34m(metab, c_model, **kwargs)\u001B[0m\n\u001B[1;32m   3670\u001B[0m \u001B[38;5;28;01mif\u001B[39;00m \u001B[38;5;124m'\u001B[39m\u001B[38;5;124minitial_particle_number\u001B[39m\u001B[38;5;124m'\u001B[39m \u001B[38;5;129;01min\u001B[39;00m kwargs:\n\u001B[1;32m   3671\u001B[0m     c_model\u001B[38;5;241m.\u001B[39mupdateInitialValues(metab\u001B[38;5;241m.\u001B[39mgetInitialValueReference())\n\u001B[0;32m-> 3672\u001B[0m     metab\u001B[38;5;241m.\u001B[39msetInitialValue(\u001B[38;5;28;43mfloat\u001B[39;49m\u001B[43m(\u001B[49m\u001B[43mkwargs\u001B[49m\u001B[43m[\u001B[49m\u001B[38;5;124;43m'\u001B[39;49m\u001B[38;5;124;43minitial_particle_number\u001B[39;49m\u001B[38;5;124;43m'\u001B[39;49m\u001B[43m]\u001B[49m\u001B[43m)\u001B[49m)\n\u001B[1;32m   3673\u001B[0m     c_model\u001B[38;5;241m.\u001B[39mupdateInitialValues(metab\u001B[38;5;241m.\u001B[39mgetInitialValueReference())\n\u001B[1;32m   3674\u001B[0m \u001B[38;5;28;01mif\u001B[39;00m \u001B[38;5;124m'\u001B[39m\u001B[38;5;124mconcentration\u001B[39m\u001B[38;5;124m'\u001B[39m \u001B[38;5;129;01min\u001B[39;00m kwargs:\n",
      "\u001B[0;31mTypeError\u001B[0m: float() argument must be a string or a real number, not 'NoneType'"
     ]
    }
   ],
   "source": [
    "# 4. Add the process instance by the name of 'simple_copasi' to the builder\n",
    "\n",
    "\n",
    "b[process_config_from_file.process_name].add_process(\n",
    "    name='CopasiProcess',\n",
    "    model=process_config_from_file.model,\n",
    "    method=process_config_from_file.method\n",
    ")"
   ],
   "metadata": {
    "collapsed": false,
    "ExecuteTime": {
     "end_time": "2024-03-04T14:30:51.880873Z",
     "start_time": "2024-03-04T14:30:51.290Z"
    }
   },
   "id": "52d81ea2ea688d47"
  },
  {
   "cell_type": "markdown",
   "source": [
    "Let's load a BIOMODEL from `basico` and inspect the parameters we can adjust, and then add it to the composite process:"
   ],
   "metadata": {
    "collapsed": false
   },
   "id": "bfd4af678329923a"
  },
  {
   "cell_type": "code",
   "execution_count": null,
   "outputs": [],
   "source": [
    "from basico import *\n",
    "from basico import biomodels\n",
    "\n",
    "\n",
    "biomodel_id = 'BIOMD0000000861'\n",
    "model = load_biomodel(biomodel_id)\n",
    "get_species(model=model)"
   ],
   "metadata": {
    "collapsed": false
   },
   "id": "f499f96a817d9faf"
  },
  {
   "cell_type": "code",
   "execution_count": null,
   "outputs": [],
   "source": [],
   "metadata": {
    "collapsed": false
   },
   "id": "454db50d61220bc5"
  }
 ],
 "metadata": {
  "kernelspec": {
   "display_name": "Python 3",
   "language": "python",
   "name": "python3"
  },
  "language_info": {
   "codemirror_mode": {
    "name": "ipython",
    "version": 2
   },
   "file_extension": ".py",
   "mimetype": "text/x-python",
   "name": "python",
   "nbconvert_exporter": "python",
   "pygments_lexer": "ipython2",
   "version": "2.7.6"
  }
 },
 "nbformat": 4,
 "nbformat_minor": 5
}
