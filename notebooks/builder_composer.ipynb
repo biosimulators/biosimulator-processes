{
 "cells": [
  {
   "cell_type": "code",
   "execution_count": null,
   "id": "initial_id",
   "metadata": {
    "collapsed": true
   },
   "outputs": [],
   "source": [
    "import sys\n",
    "\n",
    "sys.path.insert(0, '..')\n",
    "import os\n",
    "from basico import *\n",
    "from process_bigraph import Composite, pf\n",
    "from builder import Builder, Process as builderProcess, ProcessTypes\n",
    "from biosimulator_processes.processes.copasi_process import CopasiProcess\n",
    "from biosimulator_processes.process_types import MODEL_TYPE, CHANGES_SCHEMA\n",
    "from biosimulator_processes.utils import play_composition\n",
    "from biosimulator_processes.process_types import SedModel, ModelChange, ModelChanges"
   ]
  },
  {
   "cell_type": "code",
   "outputs": [],
   "source": [
    "species_changes = ModelChange(config={\n",
    "    'A': {\n",
    "        'initial_expression': 'A -> B'\n",
    "    }\n",
    "})\n",
    "\n",
    "global_params_changes = ModelChange(config={\n",
    "    'Bol': {\n",
    "        'unit': 'ml'\n",
    "    }\n",
    "})\n",
    "\n",
    "model_changes = ModelChanges(species_changes=species_changes, global_parameter_changes=global_params_changes)\n",
    "\n",
    "\n",
    "model = SedModel(\n",
    "    model_id='BIO232423',\n",
    "    model_source='uri:2424',\n",
    "    model_language='sbml',\n",
    "    model_name='Glyc',\n",
    "    model_changes=model_changes\n",
    ")"
   ],
   "metadata": {
    "collapsed": false
   },
   "id": "774d37b1e2bcb0c7",
   "execution_count": null
  },
  {
   "cell_type": "code",
   "outputs": [],
   "source": [],
   "metadata": {
    "collapsed": false
   },
   "id": "5660853c0ff3a9d1"
  }
 ],
 "metadata": {
  "kernelspec": {
   "display_name": "Python 3",
   "language": "python",
   "name": "python3"
  },
  "language_info": {
   "codemirror_mode": {
    "name": "ipython",
    "version": 2
   },
   "file_extension": ".py",
   "mimetype": "text/x-python",
   "name": "python",
   "nbconvert_exporter": "python",
   "pygments_lexer": "ipython2",
   "version": "2.7.6"
  }
 },
 "nbformat": 4,
 "nbformat_minor": 5
}
