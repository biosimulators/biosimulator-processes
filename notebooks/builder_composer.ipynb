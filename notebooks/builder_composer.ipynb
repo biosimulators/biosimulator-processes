{
 "cells": [
  {
   "cell_type": "markdown",
   "id": "808b6a4b-0894-4a8e-99d8-bf11b3164b6a",
   "metadata": {},
   "source": [
    "## Examples with ```CopasiProcess``` using ``builder.Builder`` and ``biosimulator_processes.data_model``"
   ]
  },
  {
   "cell_type": "code",
   "execution_count": 1,
   "id": "b385dca6-942d-472c-9963-13b8cb33843c",
   "metadata": {
    "ExecuteTime": {
     "end_time": "2024-03-01T20:26:45.156450Z",
     "start_time": "2024-03-01T20:26:43.414577Z"
    }
   },
   "outputs": [
    {
     "name": "stdout",
     "output_type": "stream",
     "text": [
      "CobraProcess registered successfully.\n"
     ]
    },
    {
     "name": "stderr",
     "output_type": "stream",
     "text": [
      "/Users/alex/Library/Caches/pypoetry/virtualenvs/biosimulator-processes-KVuYbFzt-py3.10/lib/python3.10/site-packages/pydantic/_internal/_fields.py:151: UserWarning: Field \"model_id\" has conflict with protected namespace \"model_\".\n",
      "\n",
      "You may be able to resolve this warning by setting `model_config['protected_namespaces'] = ()`.\n",
      "  warnings.warn(\n",
      "/Users/alex/Library/Caches/pypoetry/virtualenvs/biosimulator-processes-KVuYbFzt-py3.10/lib/python3.10/site-packages/pydantic/_internal/_fields.py:151: UserWarning: Field \"model_source\" has conflict with protected namespace \"model_\".\n",
      "\n",
      "You may be able to resolve this warning by setting `model_config['protected_namespaces'] = ()`.\n",
      "  warnings.warn(\n",
      "/Users/alex/Library/Caches/pypoetry/virtualenvs/biosimulator-processes-KVuYbFzt-py3.10/lib/python3.10/site-packages/pydantic/_internal/_fields.py:151: UserWarning: Field \"model_language\" has conflict with protected namespace \"model_\".\n",
      "\n",
      "You may be able to resolve this warning by setting `model_config['protected_namespaces'] = ()`.\n",
      "  warnings.warn(\n",
      "/Users/alex/Library/Caches/pypoetry/virtualenvs/biosimulator-processes-KVuYbFzt-py3.10/lib/python3.10/site-packages/pydantic/_internal/_fields.py:151: UserWarning: Field \"model_name\" has conflict with protected namespace \"model_\".\n",
      "\n",
      "You may be able to resolve this warning by setting `model_config['protected_namespaces'] = ()`.\n",
      "  warnings.warn(\n",
      "/Users/alex/Library/Caches/pypoetry/virtualenvs/biosimulator-processes-KVuYbFzt-py3.10/lib/python3.10/site-packages/pydantic/_internal/_fields.py:151: UserWarning: Field \"model_changes\" has conflict with protected namespace \"model_\".\n",
      "\n",
      "You may be able to resolve this warning by setting `model_config['protected_namespaces'] = ()`.\n",
      "  warnings.warn(\n",
      "/Users/alex/Library/Caches/pypoetry/virtualenvs/biosimulator-processes-KVuYbFzt-py3.10/lib/python3.10/site-packages/pydantic/_internal/_fields.py:151: UserWarning: Field \"model_units\" has conflict with protected namespace \"model_\".\n",
      "\n",
      "You may be able to resolve this warning by setting `model_config['protected_namespaces'] = ()`.\n",
      "  warnings.warn(\n"
     ]
    },
    {
     "name": "stdout",
     "output_type": "stream",
     "text": [
      "CopasiProcess registered successfully.\n",
      "SmoldynProcess registered successfully.\n",
      "TelluriumProcess registered successfully.\n"
     ]
    }
   ],
   "source": [
    "from builder import Builder, Process\n",
    "from process_bigraph import pp, pf \n",
    "from biosimulator_processes import CORE\n",
    "from biosimulator_processes.data_model import *\n",
    "from biosimulator_processes.biosimulator_builder import BiosimulatorBuilder"
   ]
  },
  {
   "cell_type": "markdown",
   "id": "a403d619-4dbe-49cc-8f24-29a83e31fe15",
   "metadata": {},
   "source": [
    "#### Initialize a fresh instance of the `BiosimulatorBuilder`, which is inherently configured by `biosimulator_processes.CORE`."
   ]
  },
  {
   "cell_type": "code",
   "execution_count": 2,
   "id": "b6260555-2bad-4834-adc5-e6d358063579",
   "metadata": {
    "ExecuteTime": {
     "end_time": "2024-03-01T20:26:45.156955Z",
     "start_time": "2024-03-01T20:26:45.154066Z"
    }
   },
   "outputs": [],
   "source": [
    "b = BiosimulatorBuilder()"
   ]
  },
  {
   "cell_type": "code",
   "execution_count": 3,
   "id": "40cde984-cfdf-4571-af9c-3a3755e3763c",
   "metadata": {
    "ExecuteTime": {
     "end_time": "2024-03-01T20:26:45.163368Z",
     "start_time": "2024-03-01T20:26:45.157609Z"
    }
   },
   "outputs": [
    {
     "data": {
      "text/plain": "['TelluriumProcess',\n 'ram-emitter',\n 'CobraProcess',\n 'SmoldynProcess',\n 'console-emitter',\n 'CopasiProcess']"
     },
     "execution_count": 3,
     "metadata": {},
     "output_type": "execute_result"
    }
   ],
   "source": [
    "###### list registered processes\n",
    "\n",
    "b.list_processes()"
   ]
  },
  {
   "cell_type": "code",
   "outputs": [],
   "source": [
    "from basico import *\n",
    "from basico import biomodels\n",
    "\n",
    "\n",
    "model = load_biomodel('BIOMD0000000861')"
   ],
   "metadata": {
    "collapsed": false,
    "ExecuteTime": {
     "end_time": "2024-03-01T20:26:47.219279Z",
     "start_time": "2024-03-01T20:26:45.160804Z"
    }
   },
   "id": "9279a6fec5ad0c48",
   "execution_count": 4
  },
  {
   "cell_type": "code",
   "outputs": [
    {
     "data": {
      "text/plain": "             compartment       type    unit  initial_concentration  \\\nname                                                                 \nEpoRJAK2             cyt  reactions  nmol/l           3.976220e+00   \nEpoRpJAK2            cyt  reactions  nmol/l           0.000000e+00   \np1EpoRpJAK2          cyt  reactions  nmol/l           0.000000e+00   \np2EpoRpJAK2          cyt  reactions  nmol/l           0.000000e+00   \np12EpoRpJAK2         cyt  reactions  nmol/l           0.000000e+00   \nEpoRJAK2_CIS         cyt  reactions  nmol/l           0.000000e+00   \nSHP1                 cyt  reactions  nmol/l           2.672510e+01   \nSHP1Act              cyt  reactions  nmol/l           0.000000e+00   \nSTAT5                cyt  reactions  nmol/l           7.975350e+01   \npSTAT5               cyt  reactions  nmol/l           0.000000e+00   \nnpSTAT5              nuc  reactions  nmol/l           0.000000e+00   \nCISnRNA1             nuc  reactions  nmol/l           0.000000e+00   \nCISnRNA2             nuc  reactions  nmol/l           0.000000e+00   \nCISnRNA3             nuc  reactions  nmol/l           0.000000e+00   \nCISnRNA4             nuc  reactions  nmol/l           0.000000e+00   \nCISnRNA5             nuc  reactions  nmol/l           0.000000e+00   \nCISRNA               cyt  reactions  nmol/l           0.000000e+00   \nCIS                  cyt  reactions  nmol/l           0.000000e+00   \nSOCS3nRNA1           nuc  reactions  nmol/l           0.000000e+00   \nSOCS3nRNA2           nuc  reactions  nmol/l           0.000000e+00   \nSOCS3nRNA3           nuc  reactions  nmol/l           0.000000e+00   \nSOCS3nRNA4           nuc  reactions  nmol/l           0.000000e+00   \nSOCS3nRNA5           nuc  reactions  nmol/l           0.000000e+00   \nSOCS3RNA             cyt  reactions  nmol/l           0.000000e+00   \nSOCS3                cyt  reactions  nmol/l           0.000000e+00   \nEpo                  cyt  reactions  nmol/l           1.249970e-07   \n\n              initial_particle_number initial_expression expression  \\\nname                                                                  \nEpoRJAK2                 9.578143e+14                                 \nEpoRpJAK2                0.000000e+00                                 \np1EpoRpJAK2              0.000000e+00                                 \np2EpoRpJAK2              0.000000e+00                                 \np12EpoRpJAK2             0.000000e+00                                 \nEpoRJAK2_CIS             0.000000e+00                                 \nSHP1                     6.437693e+15                                 \nSHP1Act                  0.000000e+00                                 \nSTAT5                    1.921147e+16                                 \npSTAT5                   0.000000e+00                                 \nnpSTAT5                  0.000000e+00                                 \nCISnRNA1                 0.000000e+00                                 \nCISnRNA2                 0.000000e+00                                 \nCISnRNA3                 0.000000e+00                                 \nCISnRNA4                 0.000000e+00                                 \nCISnRNA5                 0.000000e+00                                 \nCISRNA                   0.000000e+00                                 \nCIS                      0.000000e+00                                 \nSOCS3nRNA1               0.000000e+00                                 \nSOCS3nRNA2               0.000000e+00                                 \nSOCS3nRNA3               0.000000e+00                                 \nSOCS3nRNA4               0.000000e+00                                 \nSOCS3nRNA5               0.000000e+00                                 \nSOCS3RNA                 0.000000e+00                                 \nSOCS3                    0.000000e+00                                 \nEpo                      3.010998e+07                                 \n\n              concentration  particle_number      rate  particle_number_rate  \\\nname                                                                           \nEpoRJAK2       3.976220e+00     9.578143e+14 -0.314737         -7.581552e+13   \nEpoRpJAK2      0.000000e+00     0.000000e+00  0.314737          7.581552e+13   \np1EpoRpJAK2    0.000000e+00     0.000000e+00  0.000000          0.000000e+00   \np2EpoRpJAK2    0.000000e+00     0.000000e+00  0.000000          0.000000e+00   \np12EpoRpJAK2   0.000000e+00     0.000000e+00  0.000000          0.000000e+00   \nEpoRJAK2_CIS   0.000000e+00     0.000000e+00  0.000000          0.000000e+00   \nSHP1           2.672510e+01     6.437693e+15  0.000000          0.000000e+00   \nSHP1Act        0.000000e+00     0.000000e+00  0.000000          0.000000e+00   \nSTAT5          7.975350e+01     1.921147e+16  0.000000          0.000000e+00   \npSTAT5         0.000000e+00     0.000000e+00  0.000000          0.000000e+00   \nnpSTAT5        0.000000e+00     0.000000e+00  0.000000          0.000000e+00   \nCISnRNA1       0.000000e+00     0.000000e+00  0.000000          0.000000e+00   \nCISnRNA2       0.000000e+00     0.000000e+00  0.000000          0.000000e+00   \nCISnRNA3       0.000000e+00     0.000000e+00  0.000000          0.000000e+00   \nCISnRNA4       0.000000e+00     0.000000e+00  0.000000          0.000000e+00   \nCISnRNA5       0.000000e+00     0.000000e+00  0.000000          0.000000e+00   \nCISRNA         0.000000e+00     0.000000e+00  0.000000          0.000000e+00   \nCIS            0.000000e+00     0.000000e+00  0.000000          0.000000e+00   \nSOCS3nRNA1     0.000000e+00     0.000000e+00  0.000000          0.000000e+00   \nSOCS3nRNA2     0.000000e+00     0.000000e+00  0.000000          0.000000e+00   \nSOCS3nRNA3     0.000000e+00     0.000000e+00  0.000000          0.000000e+00   \nSOCS3nRNA4     0.000000e+00     0.000000e+00  0.000000          0.000000e+00   \nSOCS3nRNA5     0.000000e+00     0.000000e+00  0.000000          0.000000e+00   \nSOCS3RNA       0.000000e+00     0.000000e+00  0.000000          0.000000e+00   \nSOCS3          0.000000e+00     0.000000e+00  0.000000          0.000000e+00   \nEpo            1.249970e-07     3.010998e+07  0.000000          0.000000e+00   \n\n                        key       sbml_id  \nname                                       \nEpoRJAK2       Metabolite_0      EpoRJAK2  \nEpoRpJAK2      Metabolite_1     EpoRpJAK2  \np1EpoRpJAK2    Metabolite_2   p1EpoRpJAK2  \np2EpoRpJAK2    Metabolite_3   p2EpoRpJAK2  \np12EpoRpJAK2   Metabolite_4  p12EpoRpJAK2  \nEpoRJAK2_CIS   Metabolite_5  EpoRJAK2_CIS  \nSHP1           Metabolite_6          SHP1  \nSHP1Act        Metabolite_7       SHP1Act  \nSTAT5          Metabolite_8         STAT5  \npSTAT5         Metabolite_9        pSTAT5  \nnpSTAT5       Metabolite_10       npSTAT5  \nCISnRNA1      Metabolite_11      CISnRNA1  \nCISnRNA2      Metabolite_12      CISnRNA2  \nCISnRNA3      Metabolite_13      CISnRNA3  \nCISnRNA4      Metabolite_14      CISnRNA4  \nCISnRNA5      Metabolite_15      CISnRNA5  \nCISRNA        Metabolite_16        CISRNA  \nCIS           Metabolite_17           CIS  \nSOCS3nRNA1    Metabolite_18    SOCS3nRNA1  \nSOCS3nRNA2    Metabolite_19    SOCS3nRNA2  \nSOCS3nRNA3    Metabolite_20    SOCS3nRNA3  \nSOCS3nRNA4    Metabolite_21    SOCS3nRNA4  \nSOCS3nRNA5    Metabolite_22    SOCS3nRNA5  \nSOCS3RNA      Metabolite_23      SOCS3RNA  \nSOCS3         Metabolite_24         SOCS3  \nEpo           Metabolite_25           Epo  ",
      "text/html": "<div>\n<style scoped>\n    .dataframe tbody tr th:only-of-type {\n        vertical-align: middle;\n    }\n\n    .dataframe tbody tr th {\n        vertical-align: top;\n    }\n\n    .dataframe thead th {\n        text-align: right;\n    }\n</style>\n<table border=\"1\" class=\"dataframe\">\n  <thead>\n    <tr style=\"text-align: right;\">\n      <th></th>\n      <th>compartment</th>\n      <th>type</th>\n      <th>unit</th>\n      <th>initial_concentration</th>\n      <th>initial_particle_number</th>\n      <th>initial_expression</th>\n      <th>expression</th>\n      <th>concentration</th>\n      <th>particle_number</th>\n      <th>rate</th>\n      <th>particle_number_rate</th>\n      <th>key</th>\n      <th>sbml_id</th>\n    </tr>\n    <tr>\n      <th>name</th>\n      <th></th>\n      <th></th>\n      <th></th>\n      <th></th>\n      <th></th>\n      <th></th>\n      <th></th>\n      <th></th>\n      <th></th>\n      <th></th>\n      <th></th>\n      <th></th>\n      <th></th>\n    </tr>\n  </thead>\n  <tbody>\n    <tr>\n      <th>EpoRJAK2</th>\n      <td>cyt</td>\n      <td>reactions</td>\n      <td>nmol/l</td>\n      <td>3.976220e+00</td>\n      <td>9.578143e+14</td>\n      <td></td>\n      <td></td>\n      <td>3.976220e+00</td>\n      <td>9.578143e+14</td>\n      <td>-0.314737</td>\n      <td>-7.581552e+13</td>\n      <td>Metabolite_0</td>\n      <td>EpoRJAK2</td>\n    </tr>\n    <tr>\n      <th>EpoRpJAK2</th>\n      <td>cyt</td>\n      <td>reactions</td>\n      <td>nmol/l</td>\n      <td>0.000000e+00</td>\n      <td>0.000000e+00</td>\n      <td></td>\n      <td></td>\n      <td>0.000000e+00</td>\n      <td>0.000000e+00</td>\n      <td>0.314737</td>\n      <td>7.581552e+13</td>\n      <td>Metabolite_1</td>\n      <td>EpoRpJAK2</td>\n    </tr>\n    <tr>\n      <th>p1EpoRpJAK2</th>\n      <td>cyt</td>\n      <td>reactions</td>\n      <td>nmol/l</td>\n      <td>0.000000e+00</td>\n      <td>0.000000e+00</td>\n      <td></td>\n      <td></td>\n      <td>0.000000e+00</td>\n      <td>0.000000e+00</td>\n      <td>0.000000</td>\n      <td>0.000000e+00</td>\n      <td>Metabolite_2</td>\n      <td>p1EpoRpJAK2</td>\n    </tr>\n    <tr>\n      <th>p2EpoRpJAK2</th>\n      <td>cyt</td>\n      <td>reactions</td>\n      <td>nmol/l</td>\n      <td>0.000000e+00</td>\n      <td>0.000000e+00</td>\n      <td></td>\n      <td></td>\n      <td>0.000000e+00</td>\n      <td>0.000000e+00</td>\n      <td>0.000000</td>\n      <td>0.000000e+00</td>\n      <td>Metabolite_3</td>\n      <td>p2EpoRpJAK2</td>\n    </tr>\n    <tr>\n      <th>p12EpoRpJAK2</th>\n      <td>cyt</td>\n      <td>reactions</td>\n      <td>nmol/l</td>\n      <td>0.000000e+00</td>\n      <td>0.000000e+00</td>\n      <td></td>\n      <td></td>\n      <td>0.000000e+00</td>\n      <td>0.000000e+00</td>\n      <td>0.000000</td>\n      <td>0.000000e+00</td>\n      <td>Metabolite_4</td>\n      <td>p12EpoRpJAK2</td>\n    </tr>\n    <tr>\n      <th>EpoRJAK2_CIS</th>\n      <td>cyt</td>\n      <td>reactions</td>\n      <td>nmol/l</td>\n      <td>0.000000e+00</td>\n      <td>0.000000e+00</td>\n      <td></td>\n      <td></td>\n      <td>0.000000e+00</td>\n      <td>0.000000e+00</td>\n      <td>0.000000</td>\n      <td>0.000000e+00</td>\n      <td>Metabolite_5</td>\n      <td>EpoRJAK2_CIS</td>\n    </tr>\n    <tr>\n      <th>SHP1</th>\n      <td>cyt</td>\n      <td>reactions</td>\n      <td>nmol/l</td>\n      <td>2.672510e+01</td>\n      <td>6.437693e+15</td>\n      <td></td>\n      <td></td>\n      <td>2.672510e+01</td>\n      <td>6.437693e+15</td>\n      <td>0.000000</td>\n      <td>0.000000e+00</td>\n      <td>Metabolite_6</td>\n      <td>SHP1</td>\n    </tr>\n    <tr>\n      <th>SHP1Act</th>\n      <td>cyt</td>\n      <td>reactions</td>\n      <td>nmol/l</td>\n      <td>0.000000e+00</td>\n      <td>0.000000e+00</td>\n      <td></td>\n      <td></td>\n      <td>0.000000e+00</td>\n      <td>0.000000e+00</td>\n      <td>0.000000</td>\n      <td>0.000000e+00</td>\n      <td>Metabolite_7</td>\n      <td>SHP1Act</td>\n    </tr>\n    <tr>\n      <th>STAT5</th>\n      <td>cyt</td>\n      <td>reactions</td>\n      <td>nmol/l</td>\n      <td>7.975350e+01</td>\n      <td>1.921147e+16</td>\n      <td></td>\n      <td></td>\n      <td>7.975350e+01</td>\n      <td>1.921147e+16</td>\n      <td>0.000000</td>\n      <td>0.000000e+00</td>\n      <td>Metabolite_8</td>\n      <td>STAT5</td>\n    </tr>\n    <tr>\n      <th>pSTAT5</th>\n      <td>cyt</td>\n      <td>reactions</td>\n      <td>nmol/l</td>\n      <td>0.000000e+00</td>\n      <td>0.000000e+00</td>\n      <td></td>\n      <td></td>\n      <td>0.000000e+00</td>\n      <td>0.000000e+00</td>\n      <td>0.000000</td>\n      <td>0.000000e+00</td>\n      <td>Metabolite_9</td>\n      <td>pSTAT5</td>\n    </tr>\n    <tr>\n      <th>npSTAT5</th>\n      <td>nuc</td>\n      <td>reactions</td>\n      <td>nmol/l</td>\n      <td>0.000000e+00</td>\n      <td>0.000000e+00</td>\n      <td></td>\n      <td></td>\n      <td>0.000000e+00</td>\n      <td>0.000000e+00</td>\n      <td>0.000000</td>\n      <td>0.000000e+00</td>\n      <td>Metabolite_10</td>\n      <td>npSTAT5</td>\n    </tr>\n    <tr>\n      <th>CISnRNA1</th>\n      <td>nuc</td>\n      <td>reactions</td>\n      <td>nmol/l</td>\n      <td>0.000000e+00</td>\n      <td>0.000000e+00</td>\n      <td></td>\n      <td></td>\n      <td>0.000000e+00</td>\n      <td>0.000000e+00</td>\n      <td>0.000000</td>\n      <td>0.000000e+00</td>\n      <td>Metabolite_11</td>\n      <td>CISnRNA1</td>\n    </tr>\n    <tr>\n      <th>CISnRNA2</th>\n      <td>nuc</td>\n      <td>reactions</td>\n      <td>nmol/l</td>\n      <td>0.000000e+00</td>\n      <td>0.000000e+00</td>\n      <td></td>\n      <td></td>\n      <td>0.000000e+00</td>\n      <td>0.000000e+00</td>\n      <td>0.000000</td>\n      <td>0.000000e+00</td>\n      <td>Metabolite_12</td>\n      <td>CISnRNA2</td>\n    </tr>\n    <tr>\n      <th>CISnRNA3</th>\n      <td>nuc</td>\n      <td>reactions</td>\n      <td>nmol/l</td>\n      <td>0.000000e+00</td>\n      <td>0.000000e+00</td>\n      <td></td>\n      <td></td>\n      <td>0.000000e+00</td>\n      <td>0.000000e+00</td>\n      <td>0.000000</td>\n      <td>0.000000e+00</td>\n      <td>Metabolite_13</td>\n      <td>CISnRNA3</td>\n    </tr>\n    <tr>\n      <th>CISnRNA4</th>\n      <td>nuc</td>\n      <td>reactions</td>\n      <td>nmol/l</td>\n      <td>0.000000e+00</td>\n      <td>0.000000e+00</td>\n      <td></td>\n      <td></td>\n      <td>0.000000e+00</td>\n      <td>0.000000e+00</td>\n      <td>0.000000</td>\n      <td>0.000000e+00</td>\n      <td>Metabolite_14</td>\n      <td>CISnRNA4</td>\n    </tr>\n    <tr>\n      <th>CISnRNA5</th>\n      <td>nuc</td>\n      <td>reactions</td>\n      <td>nmol/l</td>\n      <td>0.000000e+00</td>\n      <td>0.000000e+00</td>\n      <td></td>\n      <td></td>\n      <td>0.000000e+00</td>\n      <td>0.000000e+00</td>\n      <td>0.000000</td>\n      <td>0.000000e+00</td>\n      <td>Metabolite_15</td>\n      <td>CISnRNA5</td>\n    </tr>\n    <tr>\n      <th>CISRNA</th>\n      <td>cyt</td>\n      <td>reactions</td>\n      <td>nmol/l</td>\n      <td>0.000000e+00</td>\n      <td>0.000000e+00</td>\n      <td></td>\n      <td></td>\n      <td>0.000000e+00</td>\n      <td>0.000000e+00</td>\n      <td>0.000000</td>\n      <td>0.000000e+00</td>\n      <td>Metabolite_16</td>\n      <td>CISRNA</td>\n    </tr>\n    <tr>\n      <th>CIS</th>\n      <td>cyt</td>\n      <td>reactions</td>\n      <td>nmol/l</td>\n      <td>0.000000e+00</td>\n      <td>0.000000e+00</td>\n      <td></td>\n      <td></td>\n      <td>0.000000e+00</td>\n      <td>0.000000e+00</td>\n      <td>0.000000</td>\n      <td>0.000000e+00</td>\n      <td>Metabolite_17</td>\n      <td>CIS</td>\n    </tr>\n    <tr>\n      <th>SOCS3nRNA1</th>\n      <td>nuc</td>\n      <td>reactions</td>\n      <td>nmol/l</td>\n      <td>0.000000e+00</td>\n      <td>0.000000e+00</td>\n      <td></td>\n      <td></td>\n      <td>0.000000e+00</td>\n      <td>0.000000e+00</td>\n      <td>0.000000</td>\n      <td>0.000000e+00</td>\n      <td>Metabolite_18</td>\n      <td>SOCS3nRNA1</td>\n    </tr>\n    <tr>\n      <th>SOCS3nRNA2</th>\n      <td>nuc</td>\n      <td>reactions</td>\n      <td>nmol/l</td>\n      <td>0.000000e+00</td>\n      <td>0.000000e+00</td>\n      <td></td>\n      <td></td>\n      <td>0.000000e+00</td>\n      <td>0.000000e+00</td>\n      <td>0.000000</td>\n      <td>0.000000e+00</td>\n      <td>Metabolite_19</td>\n      <td>SOCS3nRNA2</td>\n    </tr>\n    <tr>\n      <th>SOCS3nRNA3</th>\n      <td>nuc</td>\n      <td>reactions</td>\n      <td>nmol/l</td>\n      <td>0.000000e+00</td>\n      <td>0.000000e+00</td>\n      <td></td>\n      <td></td>\n      <td>0.000000e+00</td>\n      <td>0.000000e+00</td>\n      <td>0.000000</td>\n      <td>0.000000e+00</td>\n      <td>Metabolite_20</td>\n      <td>SOCS3nRNA3</td>\n    </tr>\n    <tr>\n      <th>SOCS3nRNA4</th>\n      <td>nuc</td>\n      <td>reactions</td>\n      <td>nmol/l</td>\n      <td>0.000000e+00</td>\n      <td>0.000000e+00</td>\n      <td></td>\n      <td></td>\n      <td>0.000000e+00</td>\n      <td>0.000000e+00</td>\n      <td>0.000000</td>\n      <td>0.000000e+00</td>\n      <td>Metabolite_21</td>\n      <td>SOCS3nRNA4</td>\n    </tr>\n    <tr>\n      <th>SOCS3nRNA5</th>\n      <td>nuc</td>\n      <td>reactions</td>\n      <td>nmol/l</td>\n      <td>0.000000e+00</td>\n      <td>0.000000e+00</td>\n      <td></td>\n      <td></td>\n      <td>0.000000e+00</td>\n      <td>0.000000e+00</td>\n      <td>0.000000</td>\n      <td>0.000000e+00</td>\n      <td>Metabolite_22</td>\n      <td>SOCS3nRNA5</td>\n    </tr>\n    <tr>\n      <th>SOCS3RNA</th>\n      <td>cyt</td>\n      <td>reactions</td>\n      <td>nmol/l</td>\n      <td>0.000000e+00</td>\n      <td>0.000000e+00</td>\n      <td></td>\n      <td></td>\n      <td>0.000000e+00</td>\n      <td>0.000000e+00</td>\n      <td>0.000000</td>\n      <td>0.000000e+00</td>\n      <td>Metabolite_23</td>\n      <td>SOCS3RNA</td>\n    </tr>\n    <tr>\n      <th>SOCS3</th>\n      <td>cyt</td>\n      <td>reactions</td>\n      <td>nmol/l</td>\n      <td>0.000000e+00</td>\n      <td>0.000000e+00</td>\n      <td></td>\n      <td></td>\n      <td>0.000000e+00</td>\n      <td>0.000000e+00</td>\n      <td>0.000000</td>\n      <td>0.000000e+00</td>\n      <td>Metabolite_24</td>\n      <td>SOCS3</td>\n    </tr>\n    <tr>\n      <th>Epo</th>\n      <td>cyt</td>\n      <td>reactions</td>\n      <td>nmol/l</td>\n      <td>1.249970e-07</td>\n      <td>3.010998e+07</td>\n      <td></td>\n      <td></td>\n      <td>1.249970e-07</td>\n      <td>3.010998e+07</td>\n      <td>0.000000</td>\n      <td>0.000000e+00</td>\n      <td>Metabolite_25</td>\n      <td>Epo</td>\n    </tr>\n  </tbody>\n</table>\n</div>"
     },
     "execution_count": 5,
     "metadata": {},
     "output_type": "execute_result"
    }
   ],
   "source": [
    "get_species(model=model)"
   ],
   "metadata": {
    "collapsed": false,
    "ExecuteTime": {
     "end_time": "2024-03-01T20:26:47.239689Z",
     "start_time": "2024-03-01T20:26:47.218036Z"
    }
   },
   "id": "da6096ec3e0daa85",
   "execution_count": 5
  },
  {
   "cell_type": "markdown",
   "id": "dfa2d764-8cdb-4a1e-84c5-fd81cc4e6afe",
   "metadata": {},
   "source": [
    "#### Example 1: Add a simple `CopasiProcess`-based composite to the bigraph, specifying parameter values through the `data_model`. For now, let's try loading a biomodel and adding a change to initial concentration of a species"
   ]
  },
  {
   "cell_type": "code",
   "outputs": [
    {
     "name": "stdout",
     "output_type": "stream",
     "text": [
      "{ 'global_parameter_changes': [],\n",
      "  'reaction_changes': [],\n",
      "  'species_changes': { 'expression': '',\n",
      "                       'initial_concentration': 5.0,\n",
      "                       'initial_expression': '',\n",
      "                       'initial_particle_number': None,\n",
      "                       'name': 'SHP1',\n",
      "                       'unit': ''}}\n"
     ]
    }
   ],
   "source": [
    "# 1. specify model changes\n",
    "\n",
    "process_model_changes = ModelChanges(\n",
    "    species_changes=SpeciesChanges(\n",
    "        name='SHP1',\n",
    "        initial_concentration=5.00000\n",
    "    )\n",
    ")\n",
    "\n",
    "\n",
    "pp(process_model_changes.model_dump())"
   ],
   "metadata": {
    "collapsed": false,
    "ExecuteTime": {
     "end_time": "2024-03-01T20:26:47.240290Z",
     "start_time": "2024-03-01T20:26:47.228380Z"
    }
   },
   "id": "2b1c1bdd6864a771",
   "execution_count": 6
  },
  {
   "cell_type": "code",
   "outputs": [
    {
     "name": "stdout",
     "output_type": "stream",
     "text": [
      "{ 'model_changes': { 'global_parameter_changes': [],\n",
      "                     'reaction_changes': [],\n",
      "                     'species_changes': { 'expression': '',\n",
      "                                          'initial_concentration': 5.0,\n",
      "                                          'initial_expression': '',\n",
      "                                          'initial_particle_number': None,\n",
      "                                          'name': 'SHP1',\n",
      "                                          'unit': ''}},\n",
      "  'model_id': 'simple_copasi_process',\n",
      "  'model_language': 'sbml',\n",
      "  'model_name': 'Simple Composite Process',\n",
      "  'model_source': {'value': 'BIOMD0000000861'},\n",
      "  'model_units': None}\n"
     ]
    }
   ],
   "source": [
    "# 2. define the model schema to be used by the composite process (one of the copasiprocess config parameters)\n",
    "\n",
    "process_model = Model(\n",
    "    model_id='simple_copasi_process',\n",
    "    model_source='BIOMD0000000861',\n",
    "    model_name='Simple Composite Process',\n",
    "    model_changes=process_model_changes\n",
    ")\n",
    "\n",
    "\n",
    "pp(process_model.model_dump())"
   ],
   "metadata": {
    "collapsed": false,
    "ExecuteTime": {
     "end_time": "2024-03-01T20:26:47.240731Z",
     "start_time": "2024-03-01T20:26:47.231720Z"
    }
   },
   "id": "8d0566183a2d1c1f",
   "execution_count": 7
  },
  {
   "cell_type": "code",
   "execution_count": 8,
   "id": "b79dc6639a17e353",
   "metadata": {
    "collapsed": false,
    "ExecuteTime": {
     "end_time": "2024-03-01T20:26:47.241147Z",
     "start_time": "2024-03-01T20:26:47.234287Z"
    }
   },
   "outputs": [
    {
     "name": "stdout",
     "output_type": "stream",
     "text": [
      "{ 'method': 'stochastic',\n",
      "  'model': { 'model_changes': { 'global_parameter_changes': [],\n",
      "                                'reaction_changes': [],\n",
      "                                'species_changes': { 'expression': '',\n",
      "                                                     'initial_concentration': 5.0,\n",
      "                                                     'initial_expression': '',\n",
      "                                                     'initial_particle_number': None,\n",
      "                                                     'name': 'SHP1',\n",
      "                                                     'unit': ''}},\n",
      "             'model_id': 'simple_copasi_process',\n",
      "             'model_language': 'sbml',\n",
      "             'model_name': 'Simple Composite Process',\n",
      "             'model_source': {'value': 'BIOMD0000000861'},\n",
      "             'model_units': None}}\n"
     ]
    }
   ],
   "source": [
    "# 3. Define config schema to be used as 'config' parameter of Process constructor\n",
    "\n",
    "\n",
    "process_config = CopasiProcessConfigSchema(\n",
    "    method='stochastic',\n",
    "    model=process_model,\n",
    "    process_name='simple_copasi'\n",
    ")\n",
    "\n",
    "\n",
    "process_config_dict = process_config.model_dump()\n",
    "process_config_dict.pop('process_name')\n",
    "pp(process_config_dict)"
   ]
  },
  {
   "cell_type": "code",
   "outputs": [
    {
     "data": {
      "text/plain": "{'model_id': 'simple_copasi_process',\n 'model_source': {'value': 'BIOMD0000000861'},\n 'model_language': 'sbml',\n 'model_name': 'Simple Composite Process',\n 'model_changes': {'species_changes': {'name': 'SHP1',\n   'unit': '',\n   'initial_concentration': 5.0,\n   'initial_particle_number': None,\n   'initial_expression': '',\n   'expression': ''},\n  'global_parameter_changes': [],\n  'reaction_changes': []},\n 'model_units': None}"
     },
     "execution_count": 9,
     "metadata": {},
     "output_type": "execute_result"
    }
   ],
   "source": [
    "process_config.model"
   ],
   "metadata": {
    "collapsed": false,
    "ExecuteTime": {
     "end_time": "2024-03-01T20:26:47.263708Z",
     "start_time": "2024-03-01T20:26:47.236777Z"
    }
   },
   "id": "1e4306cd3178c99e",
   "execution_count": 9
  },
  {
   "cell_type": "code",
   "outputs": [
    {
     "data": {
      "text/plain": "{'model_id': 'simple_copasi_process',\n 'model_source': {'value': 'BIOMD0000000861'},\n 'model_language': 'sbml',\n 'model_name': 'Simple Composite Process',\n 'model_changes': {'species_changes': {'name': 'SHP1',\n   'unit': '',\n   'initial_concentration': 5.0,\n   'initial_particle_number': None,\n   'initial_expression': '',\n   'expression': ''},\n  'global_parameter_changes': [],\n  'reaction_changes': []},\n 'model_units': None}"
     },
     "execution_count": 10,
     "metadata": {},
     "output_type": "execute_result"
    }
   ],
   "source": [
    "process_config.model"
   ],
   "metadata": {
    "collapsed": false,
    "ExecuteTime": {
     "end_time": "2024-03-01T20:26:47.267191Z",
     "start_time": "2024-03-01T20:26:47.239803Z"
    }
   },
   "id": "de1a53721f43fe1d",
   "execution_count": 10
  },
  {
   "cell_type": "code",
   "execution_count": 11,
   "id": "503863ee-0a58-44b3-accc-20e0167b947b",
   "metadata": {
    "ExecuteTime": {
     "end_time": "2024-03-01T20:26:49.368423Z",
     "start_time": "2024-03-01T20:26:47.285527Z"
    }
   },
   "outputs": [
    {
     "name": "stdout",
     "output_type": "stream",
     "text": [
      "THE CHANGES: {'name': 'SHP1', 'unit': '', 'initial_concentration': None, 'initial_particle_number': '', 'initial_expression': '', 'expression': ''}\n"
     ]
    }
   ],
   "source": [
    "# 4. Add the process instance by the name of 'simple_copasi' to the builder\n",
    "\n",
    "\n",
    "b[process_config.process_name].add_process(\n",
    "    name='CopasiProcess',\n",
    "    model=process_config.model,\n",
    "    method=process_config.method\n",
    ")"
   ]
  },
  {
   "cell_type": "code",
   "execution_count": 12,
   "id": "b094f1e5-5202-48d0-8bdd-57bbdded7fd1",
   "metadata": {
    "ExecuteTime": {
     "end_time": "2024-03-01T20:26:49.580968Z",
     "start_time": "2024-03-01T20:26:49.382861Z"
    }
   },
   "outputs": [
    {
     "data": {
      "image/svg+xml": "<?xml version=\"1.0\" encoding=\"UTF-8\" standalone=\"no\"?>\n<!DOCTYPE svg PUBLIC \"-//W3C//DTD SVG 1.1//EN\"\n \"http://www.w3.org/Graphics/SVG/1.1/DTD/svg11.dtd\">\n<!-- Generated by graphviz version 9.0.0 (20230911.1827)\n -->\n<!-- Title: bigraph Pages: 1 -->\n<svg width=\"373pt\" height=\"206pt\"\n viewBox=\"0.00 0.00 384.15 211.44\" xmlns=\"http://www.w3.org/2000/svg\" xmlns:xlink=\"http://www.w3.org/1999/xlink\">\n<g id=\"graph0\" class=\"graph\" transform=\"scale(0.972222 0.972222) rotate(0) translate(4 207.44)\">\n<title>bigraph</title>\n<polygon fill=\"white\" stroke=\"none\" points=\"-4,4 -4,-207.44 380.15,-207.44 380.15,4 -4,4\"/>\n<!-- (&#39;simple_copasi&#39;, &#39;interval&#39;) -->\n<g id=\"node1\" class=\"node\">\n<title>(&#39;simple_copasi&#39;, &#39;interval&#39;)</title>\n<ellipse fill=\"none\" stroke=\"black\" stroke-width=\"2\" cx=\"128.98\" cy=\"-26.43\" rx=\"26.43\" ry=\"26.43\"/>\n<text text-anchor=\"start\" x=\"111.36\" y=\"-22.15\" font-family=\"Times,serif\" font-size=\"12.00\">interval</text>\n</g>\n<!-- (&#39;simple_copasi&#39;,) -->\n<g id=\"node2\" class=\"node\">\n<title>(&#39;simple_copasi&#39;,)</title>\n<polygon fill=\"none\" stroke=\"black\" stroke-width=\"2\" points=\"165.96,-125.86 92.01,-125.86 92.01,-89.86 165.96,-89.86 165.96,-125.86\"/>\n<text text-anchor=\"start\" x=\"95.61\" y=\"-103.58\" font-family=\"Times,serif\" font-size=\"12.00\">simple_copasi</text>\n</g>\n<!-- (&#39;simple_copasi&#39;,)&#45;&gt;(&#39;simple_copasi&#39;, &#39;interval&#39;) -->\n<g id=\"edge1\" class=\"edge\">\n<title>(&#39;simple_copasi&#39;,)&#45;&gt;(&#39;simple_copasi&#39;, &#39;interval&#39;)</title>\n<path fill=\"none\" stroke=\"black\" stroke-width=\"2\" d=\"M128.98,-89.23C128.98,-78.81 128.98,-65.41 128.98,-53.76\"/>\n</g>\n<!-- (&#39;simple_copasi&#39;, &#39;t&#39;, &#39;i&#39;, &#39;m&#39;, &#39;e&#39;) -->\n<!-- (&#39;simple_copasi&#39;, &#39;t&#39;, &#39;i&#39;, &#39;m&#39;, &#39;e&#39;)&#45;&gt;(&#39;simple_copasi&#39;,) -->\n<g id=\"edge2\" class=\"edge\">\n<title>(&#39;simple_copasi&#39;, &#39;t&#39;, &#39;i&#39;, &#39;m&#39;, &#39;e&#39;)&#45;&gt;(&#39;simple_copasi&#39;,)</title>\n<path fill=\"none\" stroke=\"black\" stroke-dasharray=\"5,2\" d=\"M18.46,-178.36C7.4,-169.39 -5.7,-155.28 2.98,-143.86 12.52,-131.3 48.82,-122.06 80.02,-116.24\"/>\n<polygon fill=\"black\" stroke=\"black\" points=\"80.5,-119.71 89.74,-114.52 79.28,-112.82 80.5,-119.71\"/>\n<text text-anchor=\"start\" x=\"2.98\" y=\"-145.61\" font-family=\"Times,serif\" font-size=\"10.00\">time</text>\n</g>\n<!-- (&#39;simple_copasi&#39;, &#39;t&#39;, &#39;i&#39;, &#39;m&#39;, &#39;e&#39;)&#45;&gt;(&#39;simple_copasi&#39;,) -->\n<g id=\"edge6\" class=\"edge\">\n<title>(&#39;simple_copasi&#39;, &#39;t&#39;, &#39;i&#39;, &#39;m&#39;, &#39;e&#39;)&#45;&gt;(&#39;simple_copasi&#39;,)</title>\n<path fill=\"none\" stroke=\"black\" stroke-dasharray=\"5,2\" d=\"M44.27,-164.49C49.2,-157.3 55.25,-149.71 61.98,-143.86 70.59,-136.36 81.09,-129.92 91.2,-124.68\"/>\n<polygon fill=\"black\" stroke=\"black\" points=\"41.54,-162.27 39.1,-172.58 47.44,-166.04 41.54,-162.27\"/>\n<text text-anchor=\"start\" x=\"61.98\" y=\"-145.61\" font-family=\"Times,serif\" font-size=\"10.00\">time</text>\n</g>\n<!-- (&#39;simple_copasi&#39;, &#39;f&#39;, &#39;l&#39;, &#39;o&#39;, &#39;a&#39;, &#39;t&#39;, &#39;i&#39;, &#39;n&#39;, &#39;g&#39;, &#39;_&#39;, &#39;s&#39;, &#39;p&#39;, &#39;e&#39;, &#39;c&#39;, &#39;i&#39;, &#39;e&#39;, &#39;s&#39;) -->\n<!-- (&#39;simple_copasi&#39;, &#39;f&#39;, &#39;l&#39;, &#39;o&#39;, &#39;a&#39;, &#39;t&#39;, &#39;i&#39;, &#39;n&#39;, &#39;g&#39;, &#39;_&#39;, &#39;s&#39;, &#39;p&#39;, &#39;e&#39;, &#39;c&#39;, &#39;i&#39;, &#39;e&#39;, &#39;s&#39;)&#45;&gt;(&#39;simple_copasi&#39;,) -->\n<g id=\"edge3\" class=\"edge\">\n<title>(&#39;simple_copasi&#39;, &#39;f&#39;, &#39;l&#39;, &#39;o&#39;, &#39;a&#39;, &#39;t&#39;, &#39;i&#39;, &#39;n&#39;, &#39;g&#39;, &#39;_&#39;, &#39;s&#39;, &#39;p&#39;, &#39;e&#39;, &#39;c&#39;, &#39;i&#39;, &#39;e&#39;, &#39;s&#39;)&#45;&gt;(&#39;simple_copasi&#39;,)</title>\n<path fill=\"none\" stroke=\"black\" stroke-dasharray=\"5,2\" d=\"M88.27,-174.26C84.07,-165.38 80.59,-153.52 85.23,-143.86 86.83,-140.53 88.92,-137.41 91.32,-134.53\"/>\n<polygon fill=\"black\" stroke=\"black\" points=\"93.61,-137.18 98.19,-127.62 88.65,-132.24 93.61,-137.18\"/>\n<text text-anchor=\"start\" x=\"85.98\" y=\"-145.61\" font-family=\"Times,serif\" font-size=\"10.00\">floating_species</text>\n</g>\n<!-- (&#39;simple_copasi&#39;, &#39;f&#39;, &#39;l&#39;, &#39;o&#39;, &#39;a&#39;, &#39;t&#39;, &#39;i&#39;, &#39;n&#39;, &#39;g&#39;, &#39;_&#39;, &#39;s&#39;, &#39;p&#39;, &#39;e&#39;, &#39;c&#39;, &#39;i&#39;, &#39;e&#39;, &#39;s&#39;)&#45;&gt;(&#39;simple_copasi&#39;,) -->\n<g id=\"edge7\" class=\"edge\">\n<title>(&#39;simple_copasi&#39;, &#39;f&#39;, &#39;l&#39;, &#39;o&#39;, &#39;a&#39;, &#39;t&#39;, &#39;i&#39;, &#39;n&#39;, &#39;g&#39;, &#39;_&#39;, &#39;s&#39;, &#39;p&#39;, &#39;e&#39;, &#39;c&#39;, &#39;i&#39;, &#39;e&#39;, &#39;s&#39;)&#45;&gt;(&#39;simple_copasi&#39;,)</title>\n<path fill=\"none\" stroke=\"black\" stroke-dasharray=\"5,2\" d=\"M121.63,-179.22C133.05,-174.22 145.38,-166.51 151.98,-155.11 157.28,-145.95 152.81,-135.41 146.45,-126.7\"/>\n<polygon fill=\"black\" stroke=\"black\" points=\"120.68,-175.84 112.6,-182.69 123.19,-182.37 120.68,-175.84\"/>\n<text text-anchor=\"start\" x=\"154.98\" y=\"-145.61\" font-family=\"Times,serif\" font-size=\"10.00\">floating_species</text>\n</g>\n<!-- (&#39;simple_copasi&#39;, &#39;m&#39;, &#39;o&#39;, &#39;d&#39;, &#39;e&#39;, &#39;l&#39;, &#39;_&#39;, &#39;p&#39;, &#39;a&#39;, &#39;r&#39;, &#39;a&#39;, &#39;m&#39;, &#39;e&#39;, &#39;t&#39;, &#39;e&#39;, &#39;r&#39;, &#39;s&#39;) -->\n<!-- (&#39;simple_copasi&#39;, &#39;m&#39;, &#39;o&#39;, &#39;d&#39;, &#39;e&#39;, &#39;l&#39;, &#39;_&#39;, &#39;p&#39;, &#39;a&#39;, &#39;r&#39;, &#39;a&#39;, &#39;m&#39;, &#39;e&#39;, &#39;t&#39;, &#39;e&#39;, &#39;r&#39;, &#39;s&#39;)&#45;&gt;(&#39;simple_copasi&#39;,) -->\n<g id=\"edge4\" class=\"edge\">\n<title>(&#39;simple_copasi&#39;, &#39;m&#39;, &#39;o&#39;, &#39;d&#39;, &#39;e&#39;, &#39;l&#39;, &#39;_&#39;, &#39;p&#39;, &#39;a&#39;, &#39;r&#39;, &#39;a&#39;, &#39;m&#39;, &#39;e&#39;, &#39;t&#39;, &#39;e&#39;, &#39;r&#39;, &#39;s&#39;)&#45;&gt;(&#39;simple_copasi&#39;,)</title>\n<path fill=\"none\" stroke=\"black\" stroke-dasharray=\"5,2\" d=\"M255.65,-174.68C248.72,-165.07 238.06,-152.1 225.98,-143.86 211.44,-133.93 193.77,-126.47 177.51,-121.04\"/>\n<polygon fill=\"black\" stroke=\"black\" points=\"178.56,-117.7 167.97,-118.05 176.47,-124.38 178.56,-117.7\"/>\n<text text-anchor=\"start\" x=\"238.98\" y=\"-145.61\" font-family=\"Times,serif\" font-size=\"10.00\">model_parameters</text>\n</g>\n<!-- (&#39;simple_copasi&#39;, &#39;r&#39;, &#39;e&#39;, &#39;a&#39;, &#39;c&#39;, &#39;t&#39;, &#39;i&#39;, &#39;o&#39;, &#39;n&#39;, &#39;s&#39;) -->\n<!-- (&#39;simple_copasi&#39;, &#39;r&#39;, &#39;e&#39;, &#39;a&#39;, &#39;c&#39;, &#39;t&#39;, &#39;i&#39;, &#39;o&#39;, &#39;n&#39;, &#39;s&#39;)&#45;&gt;(&#39;simple_copasi&#39;,) -->\n<g id=\"edge5\" class=\"edge\">\n<title>(&#39;simple_copasi&#39;, &#39;r&#39;, &#39;e&#39;, &#39;a&#39;, &#39;c&#39;, &#39;t&#39;, &#39;i&#39;, &#39;o&#39;, &#39;n&#39;, &#39;s&#39;)&#45;&gt;(&#39;simple_copasi&#39;,)</title>\n<path fill=\"none\" stroke=\"black\" stroke-dasharray=\"5,2\" d=\"M351.93,-174.94C343.9,-164.94 331.25,-151.31 316.98,-143.86 273.55,-121.17 217.71,-113.01 178.21,-110.17\"/>\n<polygon fill=\"black\" stroke=\"black\" points=\"178.47,-106.67 168.27,-109.55 178.04,-113.66 178.47,-106.67\"/>\n<text text-anchor=\"start\" x=\"331.98\" y=\"-145.61\" font-family=\"Times,serif\" font-size=\"10.00\">reactions</text>\n</g>\n</g>\n</svg>\n",
      "text/plain": "<graphviz.graphs.Digraph at 0x1067432e0>"
     },
     "execution_count": 12,
     "metadata": {},
     "output_type": "execute_result"
    }
   ],
   "source": [
    "# visualize shows the process with its disconnected ports\n",
    "b.visualize()"
   ]
  },
  {
   "cell_type": "code",
   "outputs": [],
   "source": [
    "b"
   ],
   "metadata": {
    "collapsed": false
   },
   "id": "94ca1656b04afb8",
   "execution_count": null
  },
  {
   "cell_type": "markdown",
   "id": "0238392e-5d1f-403d-98c9-785576a0d91b",
   "metadata": {},
   "source": [
    "### print ports"
   ]
  },
  {
   "cell_type": "code",
   "execution_count": null,
   "id": "5ea31425-a8bb-45c3-a31d-77714cc8c137",
   "metadata": {},
   "outputs": [],
   "source": [
    "b['event_process'].interface(True)"
   ]
  },
  {
   "cell_type": "markdown",
   "id": "8068e0af-ebdd-4f01-8c54-4fb3b07fc21e",
   "metadata": {},
   "source": [
    "### connect ports using connect_all\n",
    "`Builder.connect_all` connects ports to stores of the same name."
   ]
  },
  {
   "cell_type": "code",
   "execution_count": null,
   "id": "c9f462bb-5316-4724-aa8e-b3b71eb379b2",
   "metadata": {},
   "outputs": [],
   "source": [
    "b.connect_all(append_to_store_name='_store')\n",
    "b"
   ]
  },
  {
   "cell_type": "code",
   "execution_count": null,
   "id": "79809baf-1d87-475a-b85f-3729f4716cb4",
   "metadata": {},
   "outputs": [],
   "source": [
    "b.visualize()"
   ]
  },
  {
   "cell_type": "markdown",
   "id": "c7687da5-6992-447b-a51b-14373984597f",
   "metadata": {},
   "source": [
    "### add interval process to the config"
   ]
  },
  {
   "cell_type": "code",
   "execution_count": null,
   "id": "f02c15797bdb73b8",
   "metadata": {
    "collapsed": false
   },
   "outputs": [],
   "source": [
    "b['interval_process'].add_process(\n",
    "    name='GillespieInterval',\n",
    ")"
   ]
  },
  {
   "cell_type": "code",
   "execution_count": null,
   "id": "aeb344bcd6a120ae",
   "metadata": {
    "collapsed": false
   },
   "outputs": [],
   "source": [
    "b.visualize()"
   ]
  },
  {
   "cell_type": "markdown",
   "id": "be3f6695-80ed-4819-a121-de29c5cce23e",
   "metadata": {},
   "source": [
    "### connect port to specific target"
   ]
  },
  {
   "cell_type": "code",
   "execution_count": null,
   "id": "a5a1f48a-41aa-4768-b931-ad268495d836",
   "metadata": {},
   "outputs": [],
   "source": [
    "# to connect a port in a more targeted way, use connect and specify the port and its target path\n",
    "b['interval_process'].connect(port='interval', target=['event_process', 'interval']) \n",
    "\n",
    "# the remaining ports can connect_all\n",
    "b.connect_all() "
   ]
  },
  {
   "cell_type": "code",
   "execution_count": null,
   "id": "b21b54ae-49e8-47ad-bc88-1327a8e9d230",
   "metadata": {},
   "outputs": [],
   "source": [
    "b.visualize()"
   ]
  },
  {
   "cell_type": "markdown",
   "id": "ed3131ee-c607-42e5-88a3-930a84eedf0f",
   "metadata": {},
   "source": [
    "### check current Builder config"
   ]
  },
  {
   "cell_type": "code",
   "execution_count": null,
   "id": "6e00749f-03b8-496e-9a10-106dbac3713f",
   "metadata": {},
   "outputs": [],
   "source": [
    "b"
   ]
  },
  {
   "cell_type": "markdown",
   "id": "9fd708e8-0688-4b97-a50c-e3d0a1c78d83",
   "metadata": {},
   "source": [
    "## Update the initial state"
   ]
  },
  {
   "cell_type": "code",
   "execution_count": null,
   "id": "212f4501-8050-4c39-88b8-986b3c38e716",
   "metadata": {},
   "outputs": [],
   "source": [
    "initial_state = {\n",
    "    'DNA_store': {\n",
    "        'A gene': 2.0,\n",
    "        'B gene': 1.0},\n",
    "}\n",
    "b.update(initial_state)"
   ]
  },
  {
   "cell_type": "markdown",
   "id": "305582d1-f701-4a55-88a3-f8ec21643033",
   "metadata": {},
   "source": [
    "## Generate composite from builder config and simulate"
   ]
  },
  {
   "cell_type": "code",
   "execution_count": null,
   "id": "e9a69f36-154c-416e-b00c-5df0726be49e",
   "metadata": {},
   "outputs": [],
   "source": [
    "composite = b.generate()\n",
    "composite.run(10)"
   ]
  },
  {
   "cell_type": "code",
   "execution_count": null,
   "id": "578492a9-027d-4c5b-b90a-7d63e3f46bc0",
   "metadata": {},
   "outputs": [],
   "source": [
    "composite"
   ]
  },
  {
   "cell_type": "markdown",
   "id": "743960b7-a6d3-41af-8737-2776a66c60cd",
   "metadata": {},
   "source": [
    "## Retrieve the composite document"
   ]
  },
  {
   "cell_type": "code",
   "execution_count": null,
   "id": "c975aab012b2706f",
   "metadata": {
    "collapsed": false
   },
   "outputs": [],
   "source": [
    "doc = b.document()\n",
    "doc"
   ]
  },
  {
   "cell_type": "markdown",
   "id": "b32a13ed-134d-4de1-a1ed-b72807b4af45",
   "metadata": {},
   "source": [
    "### save the document to file"
   ]
  },
  {
   "cell_type": "code",
   "execution_count": null,
   "id": "752e43636bf9fd17",
   "metadata": {
    "collapsed": false
   },
   "outputs": [],
   "source": [
    "b.write(filename='toy_bigraph')"
   ]
  },
  {
   "cell_type": "markdown",
   "id": "ebdd7599-0b0e-4f79-a8ab-d507a81646d8",
   "metadata": {
    "ExecuteTime": {
     "start_time": "2024-01-21T21:29:22.001943Z"
    },
    "collapsed": false
   },
   "source": [
    "### load a composite from document\n",
    "This document represents the full state of the composite, and so can reproduce the previous composite when loaded into a fresh Builder"
   ]
  },
  {
   "cell_type": "code",
   "execution_count": null,
   "id": "56b14beb-27de-469d-b4e6-10fc628e15e0",
   "metadata": {},
   "outputs": [],
   "source": [
    "b2 = Builder(core=core, file_path='out/toy_bigraph.json')\n",
    "b2"
   ]
  },
  {
   "cell_type": "code",
   "execution_count": null,
   "id": "6197f4c3-41ca-468b-929f-cc0ebc1fabe9",
   "metadata": {},
   "outputs": [],
   "source": [
    "b2.visualize()"
   ]
  },
  {
   "cell_type": "markdown",
   "source": [],
   "metadata": {
    "collapsed": false
   },
   "id": "b379609c7bc217c0"
  },
  {
   "cell_type": "code",
   "outputs": [],
   "source": [],
   "metadata": {
    "collapsed": false
   },
   "id": "2f464e6189bc8287"
  },
  {
   "cell_type": "markdown",
   "source": [
    "### Example 2: Parameter scan composite"
   ],
   "metadata": {
    "collapsed": false
   },
   "id": "69529e31211443e0"
  },
  {
   "cell_type": "code",
   "outputs": [],
   "source": [],
   "metadata": {
    "collapsed": false
   },
   "id": "c3b55f3424ef4a16"
  }
 ],
 "metadata": {
  "kernelspec": {
   "display_name": "Python 3 (ipykernel)",
   "language": "python",
   "name": "python3"
  },
  "language_info": {
   "codemirror_mode": {
    "name": "ipython",
    "version": 3
   },
   "file_extension": ".py",
   "mimetype": "text/x-python",
   "name": "python",
   "nbconvert_exporter": "python",
   "pygments_lexer": "ipython3",
   "version": "3.10.13"
  }
 },
 "nbformat": 4,
 "nbformat_minor": 5
}
