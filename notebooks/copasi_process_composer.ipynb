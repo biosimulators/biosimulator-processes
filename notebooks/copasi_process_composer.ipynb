{
 "cells": [
  {
   "cell_type": "markdown",
   "source": [
    "## Examples with ```CopasiProcess``` using ``builder.Builder`` and ``biosimulator_processes.data_model``"
   ],
   "metadata": {
    "collapsed": false
   },
   "id": "9f7cc96191d5a2ba"
  },
  {
   "cell_type": "code",
   "execution_count": 1,
   "outputs": [],
   "source": [
    "import sys \n",
    "\n",
    "sys.path.insert(0, '..')"
   ],
   "metadata": {
    "collapsed": false,
    "ExecuteTime": {
     "end_time": "2024-03-04T16:36:20.943311Z",
     "start_time": "2024-03-04T16:36:20.937615Z"
    }
   },
   "id": "b43cd4493a594e60"
  },
  {
   "cell_type": "code",
   "execution_count": 2,
   "outputs": [
    {
     "name": "stdout",
     "output_type": "stream",
     "text": [
      "CobraProcess registered successfully.\n",
      "CopasiProcess registered successfully.\n",
      "SmoldynProcess registered successfully.\n",
      "TelluriumProcess registered successfully.\n"
     ]
    }
   ],
   "source": [
    "from builder import Builder, Process\n",
    "from process_bigraph import pp, pf \n",
    "from biosimulator_processes import CORE\n",
    "from biosimulator_processes.data_model import *\n",
    "from biosimulator_processes.biosimulator_builder import BiosimulatorBuilder"
   ],
   "metadata": {
    "collapsed": false,
    "ExecuteTime": {
     "end_time": "2024-03-04T16:36:22.632529Z",
     "start_time": "2024-03-04T16:36:21.102685Z"
    }
   },
   "id": "65385e04f4f5dd1a"
  },
  {
   "cell_type": "markdown",
   "source": [
    "#### Initialize a fresh instance of the `BiosimulatorBuilder`, which is inherently configured by `biosimulator_processes.CORE`."
   ],
   "metadata": {
    "collapsed": false
   },
   "id": "99dbe025aeccc23e"
  },
  {
   "cell_type": "code",
   "execution_count": 3,
   "outputs": [],
   "source": [
    "b = BiosimulatorBuilder()"
   ],
   "metadata": {
    "collapsed": false,
    "ExecuteTime": {
     "end_time": "2024-03-04T16:36:22.633232Z",
     "start_time": "2024-03-04T16:36:22.631252Z"
    }
   },
   "id": "cc709690e20090cf"
  },
  {
   "cell_type": "code",
   "execution_count": 4,
   "outputs": [
    {
     "data": {
      "text/plain": "['CobraProcess',\n 'TelluriumProcess',\n 'CopasiProcess',\n 'ram-emitter',\n 'SmoldynProcess',\n 'console-emitter']"
     },
     "execution_count": 4,
     "metadata": {},
     "output_type": "execute_result"
    }
   ],
   "source": [
    "###### list registered processes\n",
    "\n",
    "b.list_processes()"
   ],
   "metadata": {
    "collapsed": false,
    "ExecuteTime": {
     "end_time": "2024-03-04T16:36:22.637077Z",
     "start_time": "2024-03-04T16:36:22.634683Z"
    }
   },
   "id": "41034be54d9cf16"
  },
  {
   "cell_type": "markdown",
   "source": [
    "Let's load a BIOMODEL from `basico` and inspect the parameters we can adjust:"
   ],
   "metadata": {
    "collapsed": false
   },
   "id": "f46d9983b127470"
  },
  {
   "cell_type": "code",
   "execution_count": 4,
   "outputs": [],
   "source": [],
   "metadata": {
    "collapsed": false,
    "ExecuteTime": {
     "end_time": "2024-03-04T16:36:23.744581Z",
     "start_time": "2024-03-04T16:36:23.741537Z"
    }
   },
   "id": "f1e5eedb251a22c3"
  },
  {
   "cell_type": "markdown",
   "source": [
    "#### Example 1: Add a simple `CopasiProcess`-based composite to the bigraph, specifying parameter values through the `data_model`. For now, let's try loading a biomodel and adding a change to initial concentration of a species. We will then add another copasi process instance, whose model is this time loaded from a file (to demonstrate the data model)"
   ],
   "metadata": {
    "collapsed": false
   },
   "id": "eea00feb4c2651d6"
  },
  {
   "cell_type": "markdown",
   "source": [
    "Let's define a model instance from a file."
   ],
   "metadata": {
    "collapsed": false
   },
   "id": "640f49c1e61f116d"
  },
  {
   "cell_type": "code",
   "outputs": [
    {
     "data": {
      "text/plain": "True"
     },
     "execution_count": 5,
     "metadata": {},
     "output_type": "execute_result"
    }
   ],
   "source": [
    "from basico import * \n",
    "\n",
    "\n",
    "model_filepath = '../biosimulator_processes/model_files/BIOMD0000000061_url.xml'\n",
    "\n",
    "os.path.exists(model_filepath)"
   ],
   "metadata": {
    "collapsed": false,
    "ExecuteTime": {
     "end_time": "2024-03-04T16:36:24.589871Z",
     "start_time": "2024-03-04T16:36:24.585837Z"
    }
   },
   "id": "edf123175ec3408c",
   "execution_count": 5
  },
  {
   "cell_type": "code",
   "outputs": [
    {
     "data": {
      "text/plain": "                              compartment       type    unit  \\\nname                                                           \nExtracellular glucose       extracellular  reactions  mmol/l   \nCytosolic glucose                 cytosol  reactions  mmol/l   \nATP                               cytosol  reactions  mmol/l   \nGlucose-6-Phosphate               cytosol  reactions  mmol/l   \nADP                               cytosol  reactions  mmol/l   \nFructose-6-Phosphate              cytosol  reactions  mmol/l   \nFructose 1,6-bisphosphate         cytosol  reactions  mmol/l   \nGlyceraldehyde 3-phosphate        cytosol  reactions  mmol/l   \nDihydroxyacetone phosphate        cytosol  reactions  mmol/l   \nNAD                               cytosol  reactions  mmol/l   \n1,3-Bisphosphoglycerate           cytosol  reactions  mmol/l   \nNADH                              cytosol  reactions  mmol/l   \nPhosphoenolpyruvate               cytosol  reactions  mmol/l   \nPyruvate                          cytosol  reactions  mmol/l   \nAcetaldehyde                      cytosol  reactions  mmol/l   \nEtOH                              cytosol  reactions  mmol/l   \nExtracellular ethanol       extracellular  reactions  mmol/l   \nGlycerol                          cytosol  reactions  mmol/l   \nExtracellular glycerol      extracellular  reactions  mmol/l   \nExtracellular acetaldehyde  extracellular  reactions  mmol/l   \nExtracellular cyanide       extracellular  reactions  mmol/l   \nAMP                               cytosol  reactions  mmol/l   \nP                           extracellular      fixed  mmol/l   \nMixed flow cyanide          extracellular      fixed  mmol/l   \nMixed flow glucose          extracellular      fixed  mmol/l   \n\n                            initial_concentration  initial_particle_number  \\\nname                                                                         \nExtracellular glucose                    6.700000             4.034834e+21   \nCytosolic glucose                        0.573074             3.451132e+20   \nATP                                      2.100000             1.264650e+21   \nGlucose-6-Phosphate                      4.200000             2.529299e+21   \nADP                                      1.500000             9.033211e+20   \nFructose-6-Phosphate                     0.490000             2.950849e+20   \nFructose 1,6-bisphosphate                4.640000             2.794273e+21   \nGlyceraldehyde 3-phosphate               0.115000             6.925462e+19   \nDihydroxyacetone phosphate               2.950000             1.776532e+21   \nNAD                                      0.650000             3.914391e+20   \n1,3-Bisphosphoglycerate                  0.000270             1.625978e+17   \nNADH                                     0.330000             1.987306e+20   \nPhosphoenolpyruvate                      0.040000             2.408856e+19   \nPyruvate                                 8.700000             5.239262e+21   \nAcetaldehyde                             1.481530             8.921982e+20   \nEtOH                                    19.237900             1.158533e+22   \nExtracellular ethanol                   16.451400             9.907265e+21   \nGlycerol                                 4.196000             2.526890e+21   \nExtracellular glycerol                   1.684780             1.014598e+21   \nExtracellular acetaldehyde               1.288360             7.758685e+20   \nExtracellular cyanide                    5.203580             3.133669e+21   \nAMP                                      0.330000             1.987306e+20   \nP                                        0.000000             0.000000e+00   \nMixed flow cyanide                       5.600000             3.372399e+21   \nMixed flow glucose                      24.000000             1.445314e+22   \n\n                           initial_expression expression  concentration  \\\nname                                                                      \nExtracellular glucose                                          6.700000   \nCytosolic glucose                                              0.573074   \nATP                                                            2.100000   \nGlucose-6-Phosphate                                            4.200000   \nADP                                                            1.500000   \nFructose-6-Phosphate                                           0.490000   \nFructose 1,6-bisphosphate                                      4.640000   \nGlyceraldehyde 3-phosphate                                     0.115000   \nDihydroxyacetone phosphate                                     2.950000   \nNAD                                                            0.650000   \n1,3-Bisphosphoglycerate                                        0.000270   \nNADH                                                           0.330000   \nPhosphoenolpyruvate                                            0.040000   \nPyruvate                                                       8.700000   \nAcetaldehyde                                                   1.481530   \nEtOH                                                          19.237900   \nExtracellular ethanol                                         16.451400   \nGlycerol                                                       4.196000   \nExtracellular glycerol                                         1.684780   \nExtracellular acetaldehyde                                     1.288360   \nExtracellular cyanide                                          5.203580   \nAMP                                                            0.330000   \nP                                                              0.000000   \nMixed flow cyanide                                             5.600000   \nMixed flow glucose                                            24.000000   \n\n                            particle_number          rate  \\\nname                                                        \nExtracellular glucose          4.034834e+21 -1.139132e+00   \nCytosolic glucose              3.451132e+20  6.820866e+01   \nATP                            1.264650e+21 -5.374740e-04   \nGlucose-6-Phosphate            2.529299e+21  2.292073e-05   \nADP                            9.033211e+20  9.874740e-04   \nFructose-6-Phosphate           2.950849e+20 -2.357096e-05   \nFructose 1,6-bisphosphate      2.794273e+21  3.000184e-05   \nGlyceraldehyde 3-phosphate     6.925462e+19 -1.056219e-04   \nDihydroxyacetone phosphate     1.776532e+21  8.613930e-05   \nNAD                            3.914391e+20 -5.799246e-05   \n1,3-Bisphosphoglycerate        1.625978e+17  5.878219e-05   \nNADH                           1.987306e+20  5.799246e-05   \nPhosphoenolpyruvate            2.408856e+19 -2.664671e-05   \nPyruvate                       5.239262e+21 -3.001996e-05   \nAcetaldehyde                   8.921982e+20  5.754463e-05   \nEtOH                           1.158533e+22  7.012204e-05   \nExtracellular ethanol          9.907265e+21 -1.437288e-06   \nGlycerol                       2.526890e+21 -1.733231e-05   \nExtracellular glycerol         1.014598e+21  3.566102e-07   \nExtracellular acetaldehyde     7.758685e+20  1.261075e-07   \nExtracellular cyanide          3.133669e+21  9.153125e-08   \nAMP                            1.987306e+20 -4.500000e-04   \nP                              0.000000e+00  0.000000e+00   \nMixed flow cyanide             3.372399e+21  0.000000e+00   \nMixed flow glucose             1.445314e+22  0.000000e+00   \n\n                            particle_number_rate            key sbml_id  \nname                                                                     \nExtracellular glucose              -6.860013e+20   Metabolite_0    GlcX  \nCytosolic glucose                   4.107622e+22   Metabolite_1     Glc  \nATP                                -3.236744e+17   Metabolite_2     ATP  \nGlucose-6-Phosphate                 1.380319e+16   Metabolite_3     G6P  \nADP                                 5.946708e+17   Metabolite_4     ADP  \nFructose-6-Phosphate               -1.419477e+16   Metabolite_5     F6P  \nFructose 1,6-bisphosphate           1.806753e+16   Metabolite_6     FBP  \nGlyceraldehyde 3-phosphate         -6.360699e+16   Metabolite_7     GAP  \nDihydroxyacetone phosphate          5.187430e+16   Metabolite_8    DHAP  \nNAD                                -3.492388e+16   Metabolite_9     NAD  \n1,3-Bisphosphoglycerate             3.539946e+16  Metabolite_10     BPG  \nNADH                                3.492388e+16  Metabolite_11    NADH  \nPhosphoenolpyruvate                -1.604702e+16  Metabolite_12     PEP  \nPyruvate                           -1.807844e+16  Metabolite_13     Pyr  \nAcetaldehyde                        3.465418e+16  Metabolite_14     ACA  \nEtOH                                4.222848e+16  Metabolite_15    EtOH  \nExtracellular ethanol              -8.655551e+14  Metabolite_16   EtOHX  \nGlycerol                           -1.043776e+16  Metabolite_17    Glyc  \nExtracellular glycerol              2.147557e+14  Metabolite_18   GlycX  \nExtracellular acetaldehyde          7.594373e+13  Metabolite_19    ACAX  \nExtracellular cyanide               5.512141e+13  Metabolite_20     CNX  \nAMP                                -2.709963e+17  Metabolite_21     AMP  \nP                                   0.000000e+00  Metabolite_22       P  \nMixed flow cyanide                  0.000000e+00  Metabolite_23    CNX0  \nMixed flow glucose                  0.000000e+00  Metabolite_24   GlcX0  ",
      "text/html": "<div>\n<style scoped>\n    .dataframe tbody tr th:only-of-type {\n        vertical-align: middle;\n    }\n\n    .dataframe tbody tr th {\n        vertical-align: top;\n    }\n\n    .dataframe thead th {\n        text-align: right;\n    }\n</style>\n<table border=\"1\" class=\"dataframe\">\n  <thead>\n    <tr style=\"text-align: right;\">\n      <th></th>\n      <th>compartment</th>\n      <th>type</th>\n      <th>unit</th>\n      <th>initial_concentration</th>\n      <th>initial_particle_number</th>\n      <th>initial_expression</th>\n      <th>expression</th>\n      <th>concentration</th>\n      <th>particle_number</th>\n      <th>rate</th>\n      <th>particle_number_rate</th>\n      <th>key</th>\n      <th>sbml_id</th>\n    </tr>\n    <tr>\n      <th>name</th>\n      <th></th>\n      <th></th>\n      <th></th>\n      <th></th>\n      <th></th>\n      <th></th>\n      <th></th>\n      <th></th>\n      <th></th>\n      <th></th>\n      <th></th>\n      <th></th>\n      <th></th>\n    </tr>\n  </thead>\n  <tbody>\n    <tr>\n      <th>Extracellular glucose</th>\n      <td>extracellular</td>\n      <td>reactions</td>\n      <td>mmol/l</td>\n      <td>6.700000</td>\n      <td>4.034834e+21</td>\n      <td></td>\n      <td></td>\n      <td>6.700000</td>\n      <td>4.034834e+21</td>\n      <td>-1.139132e+00</td>\n      <td>-6.860013e+20</td>\n      <td>Metabolite_0</td>\n      <td>GlcX</td>\n    </tr>\n    <tr>\n      <th>Cytosolic glucose</th>\n      <td>cytosol</td>\n      <td>reactions</td>\n      <td>mmol/l</td>\n      <td>0.573074</td>\n      <td>3.451132e+20</td>\n      <td></td>\n      <td></td>\n      <td>0.573074</td>\n      <td>3.451132e+20</td>\n      <td>6.820866e+01</td>\n      <td>4.107622e+22</td>\n      <td>Metabolite_1</td>\n      <td>Glc</td>\n    </tr>\n    <tr>\n      <th>ATP</th>\n      <td>cytosol</td>\n      <td>reactions</td>\n      <td>mmol/l</td>\n      <td>2.100000</td>\n      <td>1.264650e+21</td>\n      <td></td>\n      <td></td>\n      <td>2.100000</td>\n      <td>1.264650e+21</td>\n      <td>-5.374740e-04</td>\n      <td>-3.236744e+17</td>\n      <td>Metabolite_2</td>\n      <td>ATP</td>\n    </tr>\n    <tr>\n      <th>Glucose-6-Phosphate</th>\n      <td>cytosol</td>\n      <td>reactions</td>\n      <td>mmol/l</td>\n      <td>4.200000</td>\n      <td>2.529299e+21</td>\n      <td></td>\n      <td></td>\n      <td>4.200000</td>\n      <td>2.529299e+21</td>\n      <td>2.292073e-05</td>\n      <td>1.380319e+16</td>\n      <td>Metabolite_3</td>\n      <td>G6P</td>\n    </tr>\n    <tr>\n      <th>ADP</th>\n      <td>cytosol</td>\n      <td>reactions</td>\n      <td>mmol/l</td>\n      <td>1.500000</td>\n      <td>9.033211e+20</td>\n      <td></td>\n      <td></td>\n      <td>1.500000</td>\n      <td>9.033211e+20</td>\n      <td>9.874740e-04</td>\n      <td>5.946708e+17</td>\n      <td>Metabolite_4</td>\n      <td>ADP</td>\n    </tr>\n    <tr>\n      <th>Fructose-6-Phosphate</th>\n      <td>cytosol</td>\n      <td>reactions</td>\n      <td>mmol/l</td>\n      <td>0.490000</td>\n      <td>2.950849e+20</td>\n      <td></td>\n      <td></td>\n      <td>0.490000</td>\n      <td>2.950849e+20</td>\n      <td>-2.357096e-05</td>\n      <td>-1.419477e+16</td>\n      <td>Metabolite_5</td>\n      <td>F6P</td>\n    </tr>\n    <tr>\n      <th>Fructose 1,6-bisphosphate</th>\n      <td>cytosol</td>\n      <td>reactions</td>\n      <td>mmol/l</td>\n      <td>4.640000</td>\n      <td>2.794273e+21</td>\n      <td></td>\n      <td></td>\n      <td>4.640000</td>\n      <td>2.794273e+21</td>\n      <td>3.000184e-05</td>\n      <td>1.806753e+16</td>\n      <td>Metabolite_6</td>\n      <td>FBP</td>\n    </tr>\n    <tr>\n      <th>Glyceraldehyde 3-phosphate</th>\n      <td>cytosol</td>\n      <td>reactions</td>\n      <td>mmol/l</td>\n      <td>0.115000</td>\n      <td>6.925462e+19</td>\n      <td></td>\n      <td></td>\n      <td>0.115000</td>\n      <td>6.925462e+19</td>\n      <td>-1.056219e-04</td>\n      <td>-6.360699e+16</td>\n      <td>Metabolite_7</td>\n      <td>GAP</td>\n    </tr>\n    <tr>\n      <th>Dihydroxyacetone phosphate</th>\n      <td>cytosol</td>\n      <td>reactions</td>\n      <td>mmol/l</td>\n      <td>2.950000</td>\n      <td>1.776532e+21</td>\n      <td></td>\n      <td></td>\n      <td>2.950000</td>\n      <td>1.776532e+21</td>\n      <td>8.613930e-05</td>\n      <td>5.187430e+16</td>\n      <td>Metabolite_8</td>\n      <td>DHAP</td>\n    </tr>\n    <tr>\n      <th>NAD</th>\n      <td>cytosol</td>\n      <td>reactions</td>\n      <td>mmol/l</td>\n      <td>0.650000</td>\n      <td>3.914391e+20</td>\n      <td></td>\n      <td></td>\n      <td>0.650000</td>\n      <td>3.914391e+20</td>\n      <td>-5.799246e-05</td>\n      <td>-3.492388e+16</td>\n      <td>Metabolite_9</td>\n      <td>NAD</td>\n    </tr>\n    <tr>\n      <th>1,3-Bisphosphoglycerate</th>\n      <td>cytosol</td>\n      <td>reactions</td>\n      <td>mmol/l</td>\n      <td>0.000270</td>\n      <td>1.625978e+17</td>\n      <td></td>\n      <td></td>\n      <td>0.000270</td>\n      <td>1.625978e+17</td>\n      <td>5.878219e-05</td>\n      <td>3.539946e+16</td>\n      <td>Metabolite_10</td>\n      <td>BPG</td>\n    </tr>\n    <tr>\n      <th>NADH</th>\n      <td>cytosol</td>\n      <td>reactions</td>\n      <td>mmol/l</td>\n      <td>0.330000</td>\n      <td>1.987306e+20</td>\n      <td></td>\n      <td></td>\n      <td>0.330000</td>\n      <td>1.987306e+20</td>\n      <td>5.799246e-05</td>\n      <td>3.492388e+16</td>\n      <td>Metabolite_11</td>\n      <td>NADH</td>\n    </tr>\n    <tr>\n      <th>Phosphoenolpyruvate</th>\n      <td>cytosol</td>\n      <td>reactions</td>\n      <td>mmol/l</td>\n      <td>0.040000</td>\n      <td>2.408856e+19</td>\n      <td></td>\n      <td></td>\n      <td>0.040000</td>\n      <td>2.408856e+19</td>\n      <td>-2.664671e-05</td>\n      <td>-1.604702e+16</td>\n      <td>Metabolite_12</td>\n      <td>PEP</td>\n    </tr>\n    <tr>\n      <th>Pyruvate</th>\n      <td>cytosol</td>\n      <td>reactions</td>\n      <td>mmol/l</td>\n      <td>8.700000</td>\n      <td>5.239262e+21</td>\n      <td></td>\n      <td></td>\n      <td>8.700000</td>\n      <td>5.239262e+21</td>\n      <td>-3.001996e-05</td>\n      <td>-1.807844e+16</td>\n      <td>Metabolite_13</td>\n      <td>Pyr</td>\n    </tr>\n    <tr>\n      <th>Acetaldehyde</th>\n      <td>cytosol</td>\n      <td>reactions</td>\n      <td>mmol/l</td>\n      <td>1.481530</td>\n      <td>8.921982e+20</td>\n      <td></td>\n      <td></td>\n      <td>1.481530</td>\n      <td>8.921982e+20</td>\n      <td>5.754463e-05</td>\n      <td>3.465418e+16</td>\n      <td>Metabolite_14</td>\n      <td>ACA</td>\n    </tr>\n    <tr>\n      <th>EtOH</th>\n      <td>cytosol</td>\n      <td>reactions</td>\n      <td>mmol/l</td>\n      <td>19.237900</td>\n      <td>1.158533e+22</td>\n      <td></td>\n      <td></td>\n      <td>19.237900</td>\n      <td>1.158533e+22</td>\n      <td>7.012204e-05</td>\n      <td>4.222848e+16</td>\n      <td>Metabolite_15</td>\n      <td>EtOH</td>\n    </tr>\n    <tr>\n      <th>Extracellular ethanol</th>\n      <td>extracellular</td>\n      <td>reactions</td>\n      <td>mmol/l</td>\n      <td>16.451400</td>\n      <td>9.907265e+21</td>\n      <td></td>\n      <td></td>\n      <td>16.451400</td>\n      <td>9.907265e+21</td>\n      <td>-1.437288e-06</td>\n      <td>-8.655551e+14</td>\n      <td>Metabolite_16</td>\n      <td>EtOHX</td>\n    </tr>\n    <tr>\n      <th>Glycerol</th>\n      <td>cytosol</td>\n      <td>reactions</td>\n      <td>mmol/l</td>\n      <td>4.196000</td>\n      <td>2.526890e+21</td>\n      <td></td>\n      <td></td>\n      <td>4.196000</td>\n      <td>2.526890e+21</td>\n      <td>-1.733231e-05</td>\n      <td>-1.043776e+16</td>\n      <td>Metabolite_17</td>\n      <td>Glyc</td>\n    </tr>\n    <tr>\n      <th>Extracellular glycerol</th>\n      <td>extracellular</td>\n      <td>reactions</td>\n      <td>mmol/l</td>\n      <td>1.684780</td>\n      <td>1.014598e+21</td>\n      <td></td>\n      <td></td>\n      <td>1.684780</td>\n      <td>1.014598e+21</td>\n      <td>3.566102e-07</td>\n      <td>2.147557e+14</td>\n      <td>Metabolite_18</td>\n      <td>GlycX</td>\n    </tr>\n    <tr>\n      <th>Extracellular acetaldehyde</th>\n      <td>extracellular</td>\n      <td>reactions</td>\n      <td>mmol/l</td>\n      <td>1.288360</td>\n      <td>7.758685e+20</td>\n      <td></td>\n      <td></td>\n      <td>1.288360</td>\n      <td>7.758685e+20</td>\n      <td>1.261075e-07</td>\n      <td>7.594373e+13</td>\n      <td>Metabolite_19</td>\n      <td>ACAX</td>\n    </tr>\n    <tr>\n      <th>Extracellular cyanide</th>\n      <td>extracellular</td>\n      <td>reactions</td>\n      <td>mmol/l</td>\n      <td>5.203580</td>\n      <td>3.133669e+21</td>\n      <td></td>\n      <td></td>\n      <td>5.203580</td>\n      <td>3.133669e+21</td>\n      <td>9.153125e-08</td>\n      <td>5.512141e+13</td>\n      <td>Metabolite_20</td>\n      <td>CNX</td>\n    </tr>\n    <tr>\n      <th>AMP</th>\n      <td>cytosol</td>\n      <td>reactions</td>\n      <td>mmol/l</td>\n      <td>0.330000</td>\n      <td>1.987306e+20</td>\n      <td></td>\n      <td></td>\n      <td>0.330000</td>\n      <td>1.987306e+20</td>\n      <td>-4.500000e-04</td>\n      <td>-2.709963e+17</td>\n      <td>Metabolite_21</td>\n      <td>AMP</td>\n    </tr>\n    <tr>\n      <th>P</th>\n      <td>extracellular</td>\n      <td>fixed</td>\n      <td>mmol/l</td>\n      <td>0.000000</td>\n      <td>0.000000e+00</td>\n      <td></td>\n      <td></td>\n      <td>0.000000</td>\n      <td>0.000000e+00</td>\n      <td>0.000000e+00</td>\n      <td>0.000000e+00</td>\n      <td>Metabolite_22</td>\n      <td>P</td>\n    </tr>\n    <tr>\n      <th>Mixed flow cyanide</th>\n      <td>extracellular</td>\n      <td>fixed</td>\n      <td>mmol/l</td>\n      <td>5.600000</td>\n      <td>3.372399e+21</td>\n      <td></td>\n      <td></td>\n      <td>5.600000</td>\n      <td>3.372399e+21</td>\n      <td>0.000000e+00</td>\n      <td>0.000000e+00</td>\n      <td>Metabolite_23</td>\n      <td>CNX0</td>\n    </tr>\n    <tr>\n      <th>Mixed flow glucose</th>\n      <td>extracellular</td>\n      <td>fixed</td>\n      <td>mmol/l</td>\n      <td>24.000000</td>\n      <td>1.445314e+22</td>\n      <td></td>\n      <td></td>\n      <td>24.000000</td>\n      <td>1.445314e+22</td>\n      <td>0.000000e+00</td>\n      <td>0.000000e+00</td>\n      <td>Metabolite_24</td>\n      <td>GlcX0</td>\n    </tr>\n  </tbody>\n</table>\n</div>"
     },
     "execution_count": 6,
     "metadata": {},
     "output_type": "execute_result"
    }
   ],
   "source": [
    "model_from_file = load_model(model_filepath)\n",
    "get_species(model=model_from_file)"
   ],
   "metadata": {
    "collapsed": false,
    "ExecuteTime": {
     "end_time": "2024-03-04T16:36:25.770840Z",
     "start_time": "2024-03-04T16:36:25.706021Z"
    }
   },
   "id": "40ab6f70ac3f4996",
   "execution_count": 6
  },
  {
   "cell_type": "code",
   "execution_count": 7,
   "outputs": [
    {
     "name": "stdout",
     "output_type": "stream",
     "text": [
      "{ 'global_parameter_changes': [],\n",
      "  'reaction_changes': [],\n",
      "  'species_changes': [ { 'expression': '',\n",
      "                         'initial_concentration': 9.261000000000001,\n",
      "                         'initial_expression': '',\n",
      "                         'initial_particle_number': None,\n",
      "                         'name': 'ADP',\n",
      "                         'unit': ''}]}\n"
     ]
    }
   ],
   "source": [
    "# 1. specify model changes\n",
    "process_model_changes = ModelChanges(\n",
    "    species_changes=[SpeciesChanges(name='ADP', initial_concentration=2.1**3)]\n",
    ")\n",
    "\n",
    "\n",
    "pp(process_model_changes.model_dump())"
   ],
   "metadata": {
    "collapsed": false,
    "ExecuteTime": {
     "end_time": "2024-03-04T16:36:26.438108Z",
     "start_time": "2024-03-04T16:36:26.432170Z"
    }
   },
   "id": "d02a547b85138f96"
  },
  {
   "cell_type": "code",
   "execution_count": 8,
   "outputs": [
    {
     "name": "stdout",
     "output_type": "stream",
     "text": [
      "{ 'model_changes': { 'global_parameter_changes': [],\n",
      "                     'reaction_changes': [],\n",
      "                     'species_changes': [ { 'expression': '',\n",
      "                                            'initial_concentration': 9.261000000000001,\n",
      "                                            'initial_expression': '',\n",
      "                                            'initial_particle_number': None,\n",
      "                                            'name': 'ADP',\n",
      "                                            'unit': ''}]},\n",
      "  'model_id': 'copasi_process_from_file',\n",
      "  'model_language': 'sbml',\n",
      "  'model_name': 'Simple Composite Process from File',\n",
      "  'model_source': { 'value': '../biosimulator_processes/model_files/BIOMD0000000061_url.xml'},\n",
      "  'model_units': None}\n"
     ]
    }
   ],
   "source": [
    "# 2. define the model schema to be used by the composite process (one of the copasiprocess config parameters)\n",
    "\n",
    "process_model_from_file = Model(\n",
    "    model_id='copasi_process_from_file',\n",
    "    model_source=model_filepath,\n",
    "    model_name='Simple Composite Process from File',\n",
    "    model_changes=process_model_changes\n",
    ")\n",
    "\n",
    "\n",
    "pp(process_model_from_file.model_dump())"
   ],
   "metadata": {
    "collapsed": false,
    "ExecuteTime": {
     "end_time": "2024-03-04T16:36:27.149616Z",
     "start_time": "2024-03-04T16:36:27.137212Z"
    }
   },
   "id": "1b6c269646357d7d"
  },
  {
   "cell_type": "code",
   "execution_count": 9,
   "outputs": [
    {
     "name": "stdout",
     "output_type": "stream",
     "text": [
      "{ 'method': 'stochastic',\n",
      "  'model': { 'model_changes': { 'global_parameter_changes': [],\n",
      "                                'reaction_changes': [],\n",
      "                                'species_changes': [ { 'expression': '',\n",
      "                                                       'initial_concentration': 9.261000000000001,\n",
      "                                                       'initial_expression': '',\n",
      "                                                       'initial_particle_number': None,\n",
      "                                                       'name': 'ADP',\n",
      "                                                       'unit': ''}]},\n",
      "             'model_id': 'copasi_process_from_file',\n",
      "             'model_language': 'sbml',\n",
      "             'model_name': 'Simple Composite Process from File',\n",
      "             'model_source': { 'value': '../biosimulator_processes/model_files/BIOMD0000000061_url.xml'},\n",
      "             'model_units': None},\n",
      "  'process_name': 'simple_copasi'}\n"
     ]
    }
   ],
   "source": [
    "# 3. Define config schema to be used as 'config' parameter of Process constructor\n",
    "process_config_from_file = CopasiProcessConfigSchema(\n",
    "    method='stochastic',\n",
    "    model=process_model_from_file,\n",
    "    process_name='simple_copasi'\n",
    ")\n",
    "\n",
    "\n",
    "pp(process_config_from_file.model_dump())"
   ],
   "metadata": {
    "collapsed": false,
    "ExecuteTime": {
     "end_time": "2024-03-04T16:36:27.762814Z",
     "start_time": "2024-03-04T16:36:27.760168Z"
    }
   },
   "id": "5d434956e65b1a42"
  },
  {
   "cell_type": "code",
   "execution_count": 10,
   "outputs": [
    {
     "data": {
      "text/plain": "{'model_id': 'copasi_process_from_file',\n 'model_source': {'value': '../biosimulator_processes/model_files/BIOMD0000000061_url.xml'},\n 'model_language': 'sbml',\n 'model_name': 'Simple Composite Process from File',\n 'model_changes': {'species_changes': [{'name': 'ADP',\n    'unit': '',\n    'initial_concentration': 9.261000000000001,\n    'initial_particle_number': None,\n    'initial_expression': '',\n    'expression': ''}],\n  'global_parameter_changes': [],\n  'reaction_changes': []},\n 'model_units': None}"
     },
     "execution_count": 10,
     "metadata": {},
     "output_type": "execute_result"
    }
   ],
   "source": [
    "process_config_from_file.model"
   ],
   "metadata": {
    "collapsed": false,
    "ExecuteTime": {
     "end_time": "2024-03-04T16:36:28.458757Z",
     "start_time": "2024-03-04T16:36:28.455080Z"
    }
   },
   "id": "de88e95d8f616779"
  },
  {
   "cell_type": "code",
   "execution_count": 11,
   "outputs": [
    {
     "ename": "AttributeError",
     "evalue": "'NoneType' object has no attribute 'index'",
     "output_type": "error",
     "traceback": [
      "\u001B[0;31m---------------------------------------------------------------------------\u001B[0m",
      "\u001B[0;31mAttributeError\u001B[0m                            Traceback (most recent call last)",
      "Cell \u001B[0;32mIn[11], line 4\u001B[0m\n\u001B[1;32m      1\u001B[0m \u001B[38;5;66;03m# 4. Add the process instance by the name of 'simple_copasi' to the builder\u001B[39;00m\n\u001B[0;32m----> 4\u001B[0m \u001B[43mb\u001B[49m\u001B[43m[\u001B[49m\u001B[43mprocess_config_from_file\u001B[49m\u001B[38;5;241;43m.\u001B[39;49m\u001B[43mprocess_name\u001B[49m\u001B[43m]\u001B[49m\u001B[38;5;241;43m.\u001B[39;49m\u001B[43madd_process\u001B[49m\u001B[43m(\u001B[49m\n\u001B[1;32m      5\u001B[0m \u001B[43m    \u001B[49m\u001B[43mname\u001B[49m\u001B[38;5;241;43m=\u001B[39;49m\u001B[38;5;124;43m'\u001B[39;49m\u001B[38;5;124;43mCopasiProcess\u001B[39;49m\u001B[38;5;124;43m'\u001B[39;49m\u001B[43m,\u001B[49m\n\u001B[1;32m      6\u001B[0m \u001B[43m    \u001B[49m\u001B[43mmodel\u001B[49m\u001B[38;5;241;43m=\u001B[39;49m\u001B[43mprocess_config_from_file\u001B[49m\u001B[38;5;241;43m.\u001B[39;49m\u001B[43mmodel\u001B[49m\u001B[43m,\u001B[49m\n\u001B[1;32m      7\u001B[0m \u001B[43m    \u001B[49m\u001B[43mmethod\u001B[49m\u001B[38;5;241;43m=\u001B[39;49m\u001B[43mprocess_config_from_file\u001B[49m\u001B[38;5;241;43m.\u001B[39;49m\u001B[43mmethod\u001B[49m\n\u001B[1;32m      8\u001B[0m \u001B[43m)\u001B[49m\n",
      "File \u001B[0;32m~/Library/Caches/pypoetry/virtualenvs/biosimulator-processes-KVuYbFzt-py3.10/lib/python3.10/site-packages/builder/builder_api.py:148\u001B[0m, in \u001B[0;36mBuilderNode.add_process\u001B[0;34m(self, name, config, inputs, outputs, **kwargs)\u001B[0m\n\u001B[1;32m    139\u001B[0m state \u001B[38;5;241m=\u001B[39m {\n\u001B[1;32m    140\u001B[0m     \u001B[38;5;124m'\u001B[39m\u001B[38;5;124m_type\u001B[39m\u001B[38;5;124m'\u001B[39m: edge_type,\n\u001B[1;32m    141\u001B[0m     \u001B[38;5;124m'\u001B[39m\u001B[38;5;124maddress\u001B[39m\u001B[38;5;124m'\u001B[39m: \u001B[38;5;124mf\u001B[39m\u001B[38;5;124m'\u001B[39m\u001B[38;5;124mlocal:\u001B[39m\u001B[38;5;132;01m{\u001B[39;00mname\u001B[38;5;132;01m}\u001B[39;00m\u001B[38;5;124m'\u001B[39m,  \u001B[38;5;66;03m# TODO -- only support local right now?\u001B[39;00m\n\u001B[0;32m   (...)\u001B[0m\n\u001B[1;32m    144\u001B[0m     \u001B[38;5;124m'\u001B[39m\u001B[38;5;124moutputs\u001B[39m\u001B[38;5;124m'\u001B[39m: {} \u001B[38;5;28;01mif\u001B[39;00m outputs \u001B[38;5;129;01mis\u001B[39;00m \u001B[38;5;28;01mNone\u001B[39;00m \u001B[38;5;28;01melse\u001B[39;00m outputs,\n\u001B[1;32m    145\u001B[0m }\n\u001B[1;32m    147\u001B[0m set_path(tree\u001B[38;5;241m=\u001B[39m\u001B[38;5;28mself\u001B[39m\u001B[38;5;241m.\u001B[39mbuilder\u001B[38;5;241m.\u001B[39mtree, path\u001B[38;5;241m=\u001B[39m\u001B[38;5;28mself\u001B[39m\u001B[38;5;241m.\u001B[39mpath, value\u001B[38;5;241m=\u001B[39mstate)\n\u001B[0;32m--> 148\u001B[0m \u001B[38;5;28;43mself\u001B[39;49m\u001B[38;5;241;43m.\u001B[39;49m\u001B[43mbuilder\u001B[49m\u001B[38;5;241;43m.\u001B[39;49m\u001B[43mcomplete\u001B[49m\u001B[43m(\u001B[49m\u001B[43m)\u001B[49m\n",
      "File \u001B[0;32m~/Library/Caches/pypoetry/virtualenvs/biosimulator-processes-KVuYbFzt-py3.10/lib/python3.10/site-packages/builder/builder_api.py:233\u001B[0m, in \u001B[0;36mBuilder.complete\u001B[0;34m(self)\u001B[0m\n\u001B[1;32m    232\u001B[0m \u001B[38;5;28;01mdef\u001B[39;00m \u001B[38;5;21mcomplete\u001B[39m(\u001B[38;5;28mself\u001B[39m):\n\u001B[0;32m--> 233\u001B[0m     \u001B[38;5;28mself\u001B[39m\u001B[38;5;241m.\u001B[39mschema, \u001B[38;5;28mself\u001B[39m\u001B[38;5;241m.\u001B[39mtree \u001B[38;5;241m=\u001B[39m \u001B[38;5;28;43mself\u001B[39;49m\u001B[38;5;241;43m.\u001B[39;49m\u001B[43mcore\u001B[49m\u001B[38;5;241;43m.\u001B[39;49m\u001B[43mcomplete\u001B[49m\u001B[43m(\u001B[49m\u001B[38;5;28;43mself\u001B[39;49m\u001B[38;5;241;43m.\u001B[39;49m\u001B[43mschema\u001B[49m\u001B[43m,\u001B[49m\u001B[43m \u001B[49m\u001B[38;5;28;43mself\u001B[39;49m\u001B[38;5;241;43m.\u001B[39;49m\u001B[43mtree\u001B[49m\u001B[43m)\u001B[49m\n",
      "File \u001B[0;32m~/Library/Caches/pypoetry/virtualenvs/biosimulator-processes-KVuYbFzt-py3.10/lib/python3.10/site-packages/bigraph_schema/type_system.py:1334\u001B[0m, in \u001B[0;36mTypeSystem.complete\u001B[0;34m(self, initial_schema, initial_state)\u001B[0m\n\u001B[1;32m   1328\u001B[0m state \u001B[38;5;241m=\u001B[39m \u001B[38;5;28mself\u001B[39m\u001B[38;5;241m.\u001B[39mhydrate(\n\u001B[1;32m   1329\u001B[0m     full_schema,\n\u001B[1;32m   1330\u001B[0m     initial_state)\n\u001B[1;32m   1332\u001B[0m \u001B[38;5;66;03m# fill in the parts of the composition schema\u001B[39;00m\n\u001B[1;32m   1333\u001B[0m \u001B[38;5;66;03m# determined by the state\u001B[39;00m\n\u001B[0;32m-> 1334\u001B[0m schema, state \u001B[38;5;241m=\u001B[39m \u001B[38;5;28;43mself\u001B[39;49m\u001B[38;5;241;43m.\u001B[39;49m\u001B[43minfer_schema\u001B[49m\u001B[43m(\u001B[49m\n\u001B[1;32m   1335\u001B[0m \u001B[43m    \u001B[49m\u001B[43mfull_schema\u001B[49m\u001B[43m,\u001B[49m\n\u001B[1;32m   1336\u001B[0m \u001B[43m    \u001B[49m\u001B[43mstate\u001B[49m\u001B[43m)\u001B[49m\n\u001B[1;32m   1338\u001B[0m final_state \u001B[38;5;241m=\u001B[39m \u001B[38;5;28mself\u001B[39m\u001B[38;5;241m.\u001B[39mfill(schema, state)\n\u001B[1;32m   1340\u001B[0m \u001B[38;5;66;03m# TODO: add flag to types.access(copy=True)\u001B[39;00m\n",
      "File \u001B[0;32m~/Library/Caches/pypoetry/virtualenvs/biosimulator-processes-KVuYbFzt-py3.10/lib/python3.10/site-packages/process_bigraph/composite.py:270\u001B[0m, in \u001B[0;36mProcessTypes.infer_schema\u001B[0;34m(self, schema, state, top_state, path)\u001B[0m\n\u001B[1;32m    267\u001B[0m             inner_path \u001B[38;5;241m=\u001B[39m path \u001B[38;5;241m+\u001B[39m (key,)\n\u001B[1;32m    268\u001B[0m             \u001B[38;5;28;01mif\u001B[39;00m get_path(schema, inner_path) \u001B[38;5;129;01mis\u001B[39;00m \u001B[38;5;28;01mNone\u001B[39;00m \u001B[38;5;129;01mor\u001B[39;00m get_path(state, inner_path) \u001B[38;5;129;01mis\u001B[39;00m \u001B[38;5;28;01mNone\u001B[39;00m \u001B[38;5;129;01mor\u001B[39;00m (\n\u001B[1;32m    269\u001B[0m                     \u001B[38;5;28misinstance\u001B[39m(value, \u001B[38;5;28mdict\u001B[39m) \u001B[38;5;129;01mand\u001B[39;00m \u001B[38;5;124m'\u001B[39m\u001B[38;5;124m_type\u001B[39m\u001B[38;5;124m'\u001B[39m \u001B[38;5;129;01min\u001B[39;00m value):\n\u001B[0;32m--> 270\u001B[0m                 schema, top_state \u001B[38;5;241m=\u001B[39m \u001B[38;5;28;43mself\u001B[39;49m\u001B[38;5;241;43m.\u001B[39;49m\u001B[43minfer_schema\u001B[49m\u001B[43m(\u001B[49m\n\u001B[1;32m    271\u001B[0m \u001B[43m                    \u001B[49m\u001B[43mschema\u001B[49m\u001B[43m,\u001B[49m\n\u001B[1;32m    272\u001B[0m \u001B[43m                    \u001B[49m\u001B[43mvalue\u001B[49m\u001B[43m,\u001B[49m\n\u001B[1;32m    273\u001B[0m \u001B[43m                    \u001B[49m\u001B[43mtop_state\u001B[49m\u001B[38;5;241;43m=\u001B[39;49m\u001B[43mtop_state\u001B[49m\u001B[43m,\u001B[49m\n\u001B[1;32m    274\u001B[0m \u001B[43m                    \u001B[49m\u001B[43mpath\u001B[49m\u001B[38;5;241;43m=\u001B[39;49m\u001B[43minner_path\u001B[49m\u001B[43m)\u001B[49m\n\u001B[1;32m    276\u001B[0m \u001B[38;5;28;01melif\u001B[39;00m \u001B[38;5;28misinstance\u001B[39m(state, \u001B[38;5;28mstr\u001B[39m):\n\u001B[1;32m    277\u001B[0m     \u001B[38;5;28;01mpass\u001B[39;00m\n",
      "File \u001B[0;32m~/Library/Caches/pypoetry/virtualenvs/biosimulator-processes-KVuYbFzt-py3.10/lib/python3.10/site-packages/process_bigraph/composite.py:222\u001B[0m, in \u001B[0;36mProcessTypes.infer_schema\u001B[0;34m(self, schema, state, top_state, path)\u001B[0m\n\u001B[1;32m    219\u001B[0m state_type \u001B[38;5;241m=\u001B[39m state[\u001B[38;5;124m'\u001B[39m\u001B[38;5;124m_type\u001B[39m\u001B[38;5;124m'\u001B[39m]\n\u001B[1;32m    220\u001B[0m state_schema \u001B[38;5;241m=\u001B[39m \u001B[38;5;28mself\u001B[39m\u001B[38;5;241m.\u001B[39maccess(state_type)\n\u001B[0;32m--> 222\u001B[0m hydrated_state \u001B[38;5;241m=\u001B[39m \u001B[38;5;28;43mself\u001B[39;49m\u001B[38;5;241;43m.\u001B[39;49m\u001B[43mdeserialize\u001B[49m\u001B[43m(\u001B[49m\u001B[43mstate_schema\u001B[49m\u001B[43m,\u001B[49m\u001B[43m \u001B[49m\u001B[43mstate\u001B[49m\u001B[43m)\u001B[49m\n\u001B[1;32m    223\u001B[0m top_state \u001B[38;5;241m=\u001B[39m set_path(\n\u001B[1;32m    224\u001B[0m     top_state,\n\u001B[1;32m    225\u001B[0m     path,\n\u001B[1;32m    226\u001B[0m     hydrated_state)\n\u001B[1;32m    228\u001B[0m schema \u001B[38;5;241m=\u001B[39m set_path(\n\u001B[1;32m    229\u001B[0m     schema,\n\u001B[1;32m    230\u001B[0m     path,\n\u001B[1;32m    231\u001B[0m     {\u001B[38;5;124m'\u001B[39m\u001B[38;5;124m_type\u001B[39m\u001B[38;5;124m'\u001B[39m: state_type})\n",
      "File \u001B[0;32m~/Library/Caches/pypoetry/virtualenvs/biosimulator-processes-KVuYbFzt-py3.10/lib/python3.10/site-packages/bigraph_schema/type_system.py:675\u001B[0m, in \u001B[0;36mTypeSystem.deserialize\u001B[0;34m(self, schema, encoded)\u001B[0m\n\u001B[1;32m    672\u001B[0m     \u001B[38;5;28;01mif\u001B[39;00m encoded \u001B[38;5;129;01mis\u001B[39;00m \u001B[38;5;28;01mNone\u001B[39;00m:\n\u001B[1;32m    673\u001B[0m         encoded \u001B[38;5;241m=\u001B[39m \u001B[38;5;28mself\u001B[39m\u001B[38;5;241m.\u001B[39mdefault(schema)\n\u001B[0;32m--> 675\u001B[0m     \u001B[38;5;28;01mreturn\u001B[39;00m \u001B[43mdeserialize_function\u001B[49m\u001B[43m(\u001B[49m\n\u001B[1;32m    676\u001B[0m \u001B[43m        \u001B[49m\u001B[43mfound\u001B[49m\u001B[43m,\u001B[49m\n\u001B[1;32m    677\u001B[0m \u001B[43m        \u001B[49m\u001B[43mencoded\u001B[49m\u001B[43m,\u001B[49m\n\u001B[1;32m    678\u001B[0m \u001B[43m        \u001B[49m\u001B[38;5;28;43mself\u001B[39;49m\u001B[43m)\u001B[49m\n\u001B[1;32m    680\u001B[0m \u001B[38;5;28;01melif\u001B[39;00m \u001B[38;5;28misinstance\u001B[39m(encoded, \u001B[38;5;28mdict\u001B[39m):\n\u001B[1;32m    681\u001B[0m     result \u001B[38;5;241m=\u001B[39m {}\n",
      "File \u001B[0;32m~/Library/Caches/pypoetry/virtualenvs/biosimulator-processes-KVuYbFzt-py3.10/lib/python3.10/site-packages/process_bigraph/composite.py:95\u001B[0m, in \u001B[0;36mdeserialize_process\u001B[0;34m(schema, encoded, core)\u001B[0m\n\u001B[1;32m     90\u001B[0m interval \u001B[38;5;241m=\u001B[39m core\u001B[38;5;241m.\u001B[39mdeserialize(\n\u001B[1;32m     91\u001B[0m     \u001B[38;5;124m'\u001B[39m\u001B[38;5;124minterval\u001B[39m\u001B[38;5;124m'\u001B[39m,\n\u001B[1;32m     92\u001B[0m     encoded\u001B[38;5;241m.\u001B[39mget(\u001B[38;5;124m'\u001B[39m\u001B[38;5;124minterval\u001B[39m\u001B[38;5;124m'\u001B[39m))\n\u001B[1;32m     94\u001B[0m \u001B[38;5;28;01mif\u001B[39;00m \u001B[38;5;129;01mnot\u001B[39;00m \u001B[38;5;124m'\u001B[39m\u001B[38;5;124minstance\u001B[39m\u001B[38;5;124m'\u001B[39m \u001B[38;5;129;01min\u001B[39;00m deserialized:\n\u001B[0;32m---> 95\u001B[0m     process \u001B[38;5;241m=\u001B[39m \u001B[43minstantiate\u001B[49m\u001B[43m(\u001B[49m\u001B[43mconfig\u001B[49m\u001B[43m,\u001B[49m\u001B[43m \u001B[49m\u001B[43mcore\u001B[49m\u001B[38;5;241;43m=\u001B[39;49m\u001B[43mcore\u001B[49m\u001B[43m)\u001B[49m\n\u001B[1;32m     96\u001B[0m     deserialized[\u001B[38;5;124m'\u001B[39m\u001B[38;5;124minstance\u001B[39m\u001B[38;5;124m'\u001B[39m] \u001B[38;5;241m=\u001B[39m process\n\u001B[1;32m     98\u001B[0m deserialized[\u001B[38;5;124m'\u001B[39m\u001B[38;5;124mconfig\u001B[39m\u001B[38;5;124m'\u001B[39m] \u001B[38;5;241m=\u001B[39m config\n",
      "File \u001B[0;32m~/Desktop/uchc_work/biosimulator-processes/notebooks/../biosimulator_processes/processes/copasi_process.py:153\u001B[0m, in \u001B[0;36mCopasiProcess.__init__\u001B[0;34m(self, config, core)\u001B[0m\n\u001B[1;32m    150\u001B[0m \u001B[38;5;28mself\u001B[39m\u001B[38;5;241m.\u001B[39mfloating_species_initial \u001B[38;5;241m=\u001B[39m get_species(model\u001B[38;5;241m=\u001B[39m\u001B[38;5;28mself\u001B[39m\u001B[38;5;241m.\u001B[39mcopasi_model_object)[\u001B[38;5;124m'\u001B[39m\u001B[38;5;124mconcentration\u001B[39m\u001B[38;5;124m'\u001B[39m]\u001B[38;5;241m.\u001B[39mtolist()\n\u001B[1;32m    152\u001B[0m \u001B[38;5;66;03m# ----GLOBAL PARAMS: set global parameter changes\u001B[39;00m\n\u001B[0;32m--> 153\u001B[0m existing_global_parameters \u001B[38;5;241m=\u001B[39m \u001B[43mget_parameters\u001B[49m\u001B[43m(\u001B[49m\u001B[43mmodel\u001B[49m\u001B[38;5;241;43m=\u001B[39;49m\u001B[38;5;28;43mself\u001B[39;49m\u001B[38;5;241;43m.\u001B[39;49m\u001B[43mcopasi_model_object\u001B[49m\u001B[43m)\u001B[49m\u001B[38;5;241;43m.\u001B[39;49m\u001B[43mindex\u001B[49m\n\u001B[1;32m    154\u001B[0m global_parameter_changes \u001B[38;5;241m=\u001B[39m \u001B[38;5;28mself\u001B[39m\u001B[38;5;241m.\u001B[39mmodel_changes\u001B[38;5;241m.\u001B[39mget(\u001B[38;5;124m'\u001B[39m\u001B[38;5;124mglobal_parameter_changes\u001B[39m\u001B[38;5;124m'\u001B[39m, [])\n\u001B[1;32m    155\u001B[0m \u001B[38;5;28;01mif\u001B[39;00m global_parameter_changes:\n",
      "\u001B[0;31mAttributeError\u001B[0m: 'NoneType' object has no attribute 'index'"
     ]
    }
   ],
   "source": [
    "# 4. Add the process instance by the name of 'simple_copasi' to the builder\n",
    "\n",
    "\n",
    "b[process_config_from_file.process_name].add_process(\n",
    "    name='CopasiProcess',\n",
    "    model=process_config_from_file.model,\n",
    "    method=process_config_from_file.method\n",
    ")"
   ],
   "metadata": {
    "collapsed": false,
    "ExecuteTime": {
     "end_time": "2024-03-04T16:36:29.508189Z",
     "start_time": "2024-03-04T16:36:28.982186Z"
    }
   },
   "id": "52d81ea2ea688d47"
  },
  {
   "cell_type": "markdown",
   "source": [
    "Let's load a BIOMODEL from `basico` and inspect the parameters we can adjust, and then add it to the composite process:"
   ],
   "metadata": {
    "collapsed": false
   },
   "id": "bfd4af678329923a"
  },
  {
   "cell_type": "code",
   "execution_count": null,
   "outputs": [],
   "source": [
    "from basico import *\n",
    "from basico import biomodels\n",
    "\n",
    "\n",
    "biomodel_id = 'BIOMD0000000861'\n",
    "biomodel = load_biomodel(biomodel_id)\n",
    "get_species(model=biomodel)"
   ],
   "metadata": {
    "collapsed": false
   },
   "id": "f499f96a817d9faf"
  },
  {
   "cell_type": "code",
   "outputs": [],
   "source": [
    "reaction_names = get_reactions(model=biomodel)\n",
    "\n",
    "reaction_names"
   ],
   "metadata": {
    "collapsed": false
   },
   "id": "c24594c6e8229e20",
   "execution_count": null
  },
  {
   "cell_type": "code",
   "execution_count": null,
   "outputs": [],
   "source": [
    "rparam = ReactionParameter(\n",
    "    parameter_name='EpoRpRJAK2',\n",
    "    value=21312.2\n",
    ")\n",
    "\n",
    "rparam2 = ReactionParameter(\n",
    "    parameter_name='EpoRJAK2',\n",
    "    value=21312.2\n",
    ")\n",
    "\n",
    "rc1 = ReactionChanges(\n",
    "    reaction_name='reaction_1',\n",
    "    parameter_changes=[rparam, rparam2]\n",
    ")\n",
    "\n",
    "rc2 = ReactionChanges(\n",
    "    reaction_name='reaction_11',\n",
    "    reaction_scheme='A + B -> C'\n",
    ")"
   ],
   "metadata": {
    "collapsed": false
   },
   "id": "454db50d61220bc5"
  },
  {
   "cell_type": "code",
   "outputs": [],
   "source": [
    "biomodel_process_changes = ModelChanges(\n",
    "    reaction_changes=[rc1, rc2]\n",
    ")"
   ],
   "metadata": {
    "collapsed": false
   },
   "id": "bd6781fe4a749c29",
   "execution_count": null
  },
  {
   "cell_type": "code",
   "outputs": [],
   "source": [
    "pp(biomodel_process_changes.model_dump())"
   ],
   "metadata": {
    "collapsed": false
   },
   "id": "e414174a2d6d331b",
   "execution_count": null
  },
  {
   "cell_type": "code",
   "outputs": [],
   "source": [
    "biomodel_process = Model(\n",
    "    model_id=biomodel_id,\n",
    "    model_source=biomodel_id,\n",
    "    model_name='composite_from_biomodel',\n",
    "    model_changes=biomodel_process_changes\n",
    ")\n",
    "\n",
    "pp(biomodel_process.model_dump())"
   ],
   "metadata": {
    "collapsed": false
   },
   "id": "9de88bc52fb9a164",
   "execution_count": null
  },
  {
   "cell_type": "code",
   "outputs": [],
   "source": [],
   "metadata": {
    "collapsed": false
   },
   "id": "4c3f073b10e2dcc0"
  }
 ],
 "metadata": {
  "kernelspec": {
   "display_name": "Python 3",
   "language": "python",
   "name": "python3"
  },
  "language_info": {
   "codemirror_mode": {
    "name": "ipython",
    "version": 2
   },
   "file_extension": ".py",
   "mimetype": "text/x-python",
   "name": "python",
   "nbconvert_exporter": "python",
   "pygments_lexer": "ipython2",
   "version": "2.7.6"
  }
 },
 "nbformat": 4,
 "nbformat_minor": 5
}
