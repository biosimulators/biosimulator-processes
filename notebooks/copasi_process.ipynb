{
 "cells": [
  {
   "cell_type": "code",
   "execution_count": null,
   "id": "initial_id",
   "metadata": {
    "collapsed": true
   },
   "outputs": [],
   "source": [
    "import sys \n",
    "\n",
    "sys.path.insert(0, '..')"
   ]
  },
  {
   "cell_type": "code",
   "outputs": [],
   "source": [
    "from process_bigraph import Composite, pf \n",
    "from biosimulator_processes.copasi_process import CopasiProcess"
   ],
   "metadata": {
    "collapsed": false
   },
   "id": "c6c10dc5988e52d4"
  },
  {
   "cell_type": "code",
   "outputs": [],
   "source": [
    "# 1. Define the sim state schema:\n",
    "initial_sim_state = {\n",
    "    'copasi': {\n",
    "        '_type': 'process',\n",
    "        'address': 'local:copasi',\n",
    "        'config': {\n",
    "            'model_file': 'biosimulator_processes/model_files/Caravagna2010.xml'\n",
    "        },\n",
    "        'inputs': {\n",
    "            'floating_species': ['floating_species_store'],\n",
    "            'model_parameters': ['model_parameters_store'],\n",
    "            'time': ['time_store'],\n",
    "            'reactions': ['reactions_store']\n",
    "        },\n",
    "        'outputs': {\n",
    "            'floating_species': ['floating_species_store'],\n",
    "            'time': ['time_store'],\n",
    "        }\n",
    "    },\n",
    "    # TODO: Add emitter schema\n",
    "    'emitter': {\n",
    "        '_type': 'step',\n",
    "        'address': 'local:ram-emitter',\n",
    "        'config': {\n",
    "            'emit': {\n",
    "                'floating_species': 'tree[float]',\n",
    "                'time': 'float',\n",
    "            },\n",
    "        },\n",
    "        'inputs': {\n",
    "            'floating_species': ['floating_species_store'],\n",
    "            'time': ['time_store'],\n",
    "        }\n",
    "    }\n",
    "}\n",
    "\n",
    "\n",
    "\n",
    "\n",
    "\n"
   ],
   "metadata": {
    "collapsed": false
   },
   "id": "77636dbde3fa6b74"
  },
  {
   "cell_type": "code",
   "outputs": [],
   "source": [
    "# 2. Make the composite:\n",
    "workflow = Composite({\n",
    "    'state': initial_sim_state\n",
    "})"
   ],
   "metadata": {
    "collapsed": false
   },
   "id": "4c2ef631b005be61"
  },
  {
   "cell_type": "code",
   "outputs": [],
   "source": [
    "# 3. Run the composite workflow:\n",
    "workflow.run(10)"
   ],
   "metadata": {
    "collapsed": false
   },
   "id": "98676149a4ce822f"
  },
  {
   "cell_type": "code",
   "outputs": [],
   "source": [
    "# 4. Gather and pretty print results\n",
    "results = workflow.gather_results()\n",
    "print(f'RESULTS: {pf(results)}')"
   ],
   "metadata": {
    "collapsed": false
   },
   "id": "c15cee593ef000a7"
  },
  {
   "cell_type": "code",
   "outputs": [],
   "source": [
    "# 5. Plot/Analyze the results"
   ],
   "metadata": {
    "collapsed": false
   },
   "id": "297504800772775e"
  }
 ],
 "metadata": {
  "kernelspec": {
   "display_name": "Python 3",
   "language": "python",
   "name": "python3"
  },
  "language_info": {
   "codemirror_mode": {
    "name": "ipython",
    "version": 2
   },
   "file_extension": ".py",
   "mimetype": "text/x-python",
   "name": "python",
   "nbconvert_exporter": "python",
   "pygments_lexer": "ipython2",
   "version": "2.7.6"
  }
 },
 "nbformat": 4,
 "nbformat_minor": 5
}
