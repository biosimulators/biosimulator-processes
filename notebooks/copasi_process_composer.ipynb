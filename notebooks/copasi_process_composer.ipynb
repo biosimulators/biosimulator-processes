{
 "cells": [
  {
   "cell_type": "markdown",
   "id": "d0676f702366d09c",
   "metadata": {
    "collapsed": false
   },
   "source": [
    "# CopasiProcess Composer"
   ]
  },
  {
   "cell_type": "code",
   "execution_count": 1,
   "id": "initial_id",
   "metadata": {
    "ExecuteTime": {
     "end_time": "2024-02-29T00:24:50.842140Z",
     "start_time": "2024-02-29T00:24:50.838759Z"
    }
   },
   "outputs": [],
   "source": [
    "import sys \n",
    "\n",
    "sys.path.insert(0, '..')"
   ]
  },
  {
   "cell_type": "code",
   "execution_count": 2,
   "id": "c6c10dc5988e52d4",
   "metadata": {
    "collapsed": false,
    "ExecuteTime": {
     "end_time": "2024-02-29T00:24:54.475947Z",
     "start_time": "2024-02-29T00:24:52.257781Z"
    }
   },
   "outputs": [
    {
     "name": "stdout",
     "output_type": "stream",
     "text": [
      "CobraProcess registered successfully.\n",
      "CopasiProcess registered successfully.\n",
      "SmoldynProcess registered successfully.\n",
      "TelluriumProcess registered successfully.\n"
     ]
    }
   ],
   "source": [
    "import os \n",
    "from basico import *\n",
    "from process_bigraph import Composite, pf \n",
    "from biosimulator_processes.processes.copasi_process import CopasiProcess\n",
    "from biosimulator_processes.process_types import MODEL_TYPE, CHANGES_SCHEMA"
   ]
  },
  {
   "cell_type": "code",
   "outputs": [],
   "source": [],
   "metadata": {
    "collapsed": false
   },
   "id": "667d704c09df5e9b"
  },
  {
   "cell_type": "code",
   "outputs": [
    {
     "data": {
      "text/plain": "                              compartment       type    unit  \\\nname                                                           \nPhosphoenol pyruvate              cytosol  reactions  mmol/l   \nExtracellular Glucose       extracellular  reactions  mmol/l   \nGlucose-6-Phosphate               cytosol  reactions  mmol/l   \nPyruvate                          cytosol  reactions  mmol/l   \nFructose-6-Phosphate              cytosol  reactions  mmol/l   \nGlucose-1-Phosphate               cytosol  reactions  mmol/l   \n6-Phosphogluconate                cytosol  reactions  mmol/l   \nFructose-1,6-bisphosphate         cytosol  reactions  mmol/l   \nsedoheptulose-7-phosphate         cytosol  reactions  mmol/l   \nGlyceraldehyde-3-Phosphate        cytosol  reactions  mmol/l   \nErythrose-4-phosphate             cytosol  reactions  mmol/l   \nXylulose-5-phosphate              cytosol  reactions  mmol/l   \nRibose-5-phosphate                cytosol  reactions  mmol/l   \nDihydroxyacetonephosphate         cytosol  reactions  mmol/l   \n1,3-diphosphosphoglycerate        cytosol  reactions  mmol/l   \n3-Phosphoglycerate                cytosol  reactions  mmol/l   \n2-Phosphoglycerate                cytosol  reactions  mmol/l   \nRibulose-5-phosphate              cytosol  reactions  mmol/l   \n\n                            initial_concentration  initial_particle_number  \\\nname                                                                         \nPhosphoenol pyruvate                        2.670             1.607912e+21   \nExtracellular Glucose                       2.000             1.204428e+21   \nGlucose-6-Phosphate                         3.480             2.095705e+21   \nPyruvate                                    2.670             1.607912e+21   \nFructose-6-Phosphate                        0.600             3.613284e+20   \nGlucose-1-Phosphate                         0.653             3.932458e+20   \n6-Phosphogluconate                          0.808             4.865890e+20   \nFructose-1,6-bisphosphate                   0.272             1.638022e+20   \nsedoheptulose-7-phosphate                   0.276             1.662111e+20   \nGlyceraldehyde-3-Phosphate                  0.218             1.312827e+20   \nErythrose-4-phosphate                       0.098             5.901698e+19   \nXylulose-5-phosphate                        0.138             8.310554e+19   \nRibose-5-phosphate                          0.398             2.396812e+20   \nDihydroxyacetonephosphate                   0.167             1.005698e+20   \n1,3-diphosphosphoglycerate                  0.008             4.817713e+18   \n3-Phosphoglycerate                          2.130             1.282716e+21   \n2-Phosphoglycerate                          0.399             2.402834e+20   \nRibulose-5-phosphate                        0.111             6.684576e+19   \n\n                           initial_expression expression  concentration  \\\nname                                                                      \nPhosphoenol pyruvate                                              2.670   \nExtracellular Glucose                                             2.000   \nGlucose-6-Phosphate                                               3.480   \nPyruvate                                                          2.670   \nFructose-6-Phosphate                                              0.600   \nGlucose-1-Phosphate                                               0.653   \n6-Phosphogluconate                                                0.808   \nFructose-1,6-bisphosphate                                         0.272   \nsedoheptulose-7-phosphate                                         0.276   \nGlyceraldehyde-3-Phosphate                                        0.218   \nErythrose-4-phosphate                                             0.098   \nXylulose-5-phosphate                                              0.138   \nRibose-5-phosphate                                                0.398   \nDihydroxyacetonephosphate                                         0.167   \n1,3-diphosphosphoglycerate                                        0.008   \n3-Phosphoglycerate                                                2.130   \n2-Phosphoglycerate                                                0.399   \nRibulose-5-phosphate                                              0.111   \n\n                            particle_number          rate  \\\nname                                                        \nPhosphoenol pyruvate           1.607912e+21 -6.037777e+00   \nExtracellular Glucose          1.204428e+21 -9.294452e-02   \nGlucose-6-Phosphate            2.095705e+21  6.037499e+00   \nPyruvate                       1.607912e+21  6.037777e+00   \nFructose-6-Phosphate           3.613284e+20 -1.153453e-03   \nGlucose-1-Phosphate            3.932458e+20 -4.253893e-05   \n6-Phosphogluconate             4.865890e+20 -2.316249e-04   \nFructose-1,6-bisphosphate      1.638022e+20  1.133577e-03   \nsedoheptulose-7-phosphate      1.662111e+20 -1.956809e-11   \nGlyceraldehyde-3-Phosphate     1.312827e+20 -1.675967e-04   \nErythrose-4-phosphate          5.901698e+19  2.418223e-11   \nXylulose-5-phosphate           8.310554e+19 -8.786570e-12   \nRibose-5-phosphate             2.396812e+20 -5.827867e-12   \nDihydroxyacetonephosphate      1.005698e+20 -7.240676e-10   \n1,3-diphosphosphoglycerate     4.817713e+18  5.839285e-01   \n3-Phosphoglycerate             1.282716e+21 -5.489045e-01   \n2-Phosphoglycerate             2.402834e+20 -3.485382e-02   \nRibulose-5-phosphate           6.684576e+19  8.275300e-04   \n\n                            particle_number_rate            key  sbml_id  \nname                                                                      \nPhosphoenol pyruvate               -3.636034e+21   Metabolite_0     cpep  \nExtracellular Glucose              -5.597250e+19   Metabolite_1   cglcex  \nGlucose-6-Phosphate                 3.635867e+21   Metabolite_2     cg6p  \nPyruvate                            3.636034e+21   Metabolite_3     cpyr  \nFructose-6-Phosphate               -6.946258e+17   Metabolite_4     cf6p  \nGlucose-1-Phosphate                -2.561754e+16   Metabolite_5     cg1p  \n6-Phosphogluconate                 -1.394878e+17   Metabolite_6      cpg  \nFructose-1,6-bisphosphate           6.826562e+17   Metabolite_7     cfdp  \nsedoheptulose-7-phosphate          -1.178418e+10   Metabolite_8   csed7p  \nGlyceraldehyde-3-Phosphate         -1.009291e+17   Metabolite_9     cgap  \nErythrose-4-phosphate               1.456288e+10  Metabolite_10     ce4p  \nXylulose-5-phosphate               -5.291396e+09  Metabolite_11   cxyl5p  \nRibose-5-phosphate                 -3.509623e+09  Metabolite_12   crib5p  \nDihydroxyacetonephosphate          -4.360437e+11  Metabolite_13    cdhap  \n1,3-diphosphosphoglycerate          3.516500e+20  Metabolite_14     cpgp  \n3-Phosphoglycerate                 -3.305580e+20  Metabolite_15     cpg3  \n2-Phosphoglycerate                 -2.098946e+19  Metabolite_16     cpg2  \nRibulose-5-phosphate                4.983502e+17  Metabolite_17  cribu5p  ",
      "text/html": "<div>\n<style scoped>\n    .dataframe tbody tr th:only-of-type {\n        vertical-align: middle;\n    }\n\n    .dataframe tbody tr th {\n        vertical-align: top;\n    }\n\n    .dataframe thead th {\n        text-align: right;\n    }\n</style>\n<table border=\"1\" class=\"dataframe\">\n  <thead>\n    <tr style=\"text-align: right;\">\n      <th></th>\n      <th>compartment</th>\n      <th>type</th>\n      <th>unit</th>\n      <th>initial_concentration</th>\n      <th>initial_particle_number</th>\n      <th>initial_expression</th>\n      <th>expression</th>\n      <th>concentration</th>\n      <th>particle_number</th>\n      <th>rate</th>\n      <th>particle_number_rate</th>\n      <th>key</th>\n      <th>sbml_id</th>\n    </tr>\n    <tr>\n      <th>name</th>\n      <th></th>\n      <th></th>\n      <th></th>\n      <th></th>\n      <th></th>\n      <th></th>\n      <th></th>\n      <th></th>\n      <th></th>\n      <th></th>\n      <th></th>\n      <th></th>\n      <th></th>\n    </tr>\n  </thead>\n  <tbody>\n    <tr>\n      <th>Phosphoenol pyruvate</th>\n      <td>cytosol</td>\n      <td>reactions</td>\n      <td>mmol/l</td>\n      <td>2.670</td>\n      <td>1.607912e+21</td>\n      <td></td>\n      <td></td>\n      <td>2.670</td>\n      <td>1.607912e+21</td>\n      <td>-6.037777e+00</td>\n      <td>-3.636034e+21</td>\n      <td>Metabolite_0</td>\n      <td>cpep</td>\n    </tr>\n    <tr>\n      <th>Extracellular Glucose</th>\n      <td>extracellular</td>\n      <td>reactions</td>\n      <td>mmol/l</td>\n      <td>2.000</td>\n      <td>1.204428e+21</td>\n      <td></td>\n      <td></td>\n      <td>2.000</td>\n      <td>1.204428e+21</td>\n      <td>-9.294452e-02</td>\n      <td>-5.597250e+19</td>\n      <td>Metabolite_1</td>\n      <td>cglcex</td>\n    </tr>\n    <tr>\n      <th>Glucose-6-Phosphate</th>\n      <td>cytosol</td>\n      <td>reactions</td>\n      <td>mmol/l</td>\n      <td>3.480</td>\n      <td>2.095705e+21</td>\n      <td></td>\n      <td></td>\n      <td>3.480</td>\n      <td>2.095705e+21</td>\n      <td>6.037499e+00</td>\n      <td>3.635867e+21</td>\n      <td>Metabolite_2</td>\n      <td>cg6p</td>\n    </tr>\n    <tr>\n      <th>Pyruvate</th>\n      <td>cytosol</td>\n      <td>reactions</td>\n      <td>mmol/l</td>\n      <td>2.670</td>\n      <td>1.607912e+21</td>\n      <td></td>\n      <td></td>\n      <td>2.670</td>\n      <td>1.607912e+21</td>\n      <td>6.037777e+00</td>\n      <td>3.636034e+21</td>\n      <td>Metabolite_3</td>\n      <td>cpyr</td>\n    </tr>\n    <tr>\n      <th>Fructose-6-Phosphate</th>\n      <td>cytosol</td>\n      <td>reactions</td>\n      <td>mmol/l</td>\n      <td>0.600</td>\n      <td>3.613284e+20</td>\n      <td></td>\n      <td></td>\n      <td>0.600</td>\n      <td>3.613284e+20</td>\n      <td>-1.153453e-03</td>\n      <td>-6.946258e+17</td>\n      <td>Metabolite_4</td>\n      <td>cf6p</td>\n    </tr>\n    <tr>\n      <th>Glucose-1-Phosphate</th>\n      <td>cytosol</td>\n      <td>reactions</td>\n      <td>mmol/l</td>\n      <td>0.653</td>\n      <td>3.932458e+20</td>\n      <td></td>\n      <td></td>\n      <td>0.653</td>\n      <td>3.932458e+20</td>\n      <td>-4.253893e-05</td>\n      <td>-2.561754e+16</td>\n      <td>Metabolite_5</td>\n      <td>cg1p</td>\n    </tr>\n    <tr>\n      <th>6-Phosphogluconate</th>\n      <td>cytosol</td>\n      <td>reactions</td>\n      <td>mmol/l</td>\n      <td>0.808</td>\n      <td>4.865890e+20</td>\n      <td></td>\n      <td></td>\n      <td>0.808</td>\n      <td>4.865890e+20</td>\n      <td>-2.316249e-04</td>\n      <td>-1.394878e+17</td>\n      <td>Metabolite_6</td>\n      <td>cpg</td>\n    </tr>\n    <tr>\n      <th>Fructose-1,6-bisphosphate</th>\n      <td>cytosol</td>\n      <td>reactions</td>\n      <td>mmol/l</td>\n      <td>0.272</td>\n      <td>1.638022e+20</td>\n      <td></td>\n      <td></td>\n      <td>0.272</td>\n      <td>1.638022e+20</td>\n      <td>1.133577e-03</td>\n      <td>6.826562e+17</td>\n      <td>Metabolite_7</td>\n      <td>cfdp</td>\n    </tr>\n    <tr>\n      <th>sedoheptulose-7-phosphate</th>\n      <td>cytosol</td>\n      <td>reactions</td>\n      <td>mmol/l</td>\n      <td>0.276</td>\n      <td>1.662111e+20</td>\n      <td></td>\n      <td></td>\n      <td>0.276</td>\n      <td>1.662111e+20</td>\n      <td>-1.956809e-11</td>\n      <td>-1.178418e+10</td>\n      <td>Metabolite_8</td>\n      <td>csed7p</td>\n    </tr>\n    <tr>\n      <th>Glyceraldehyde-3-Phosphate</th>\n      <td>cytosol</td>\n      <td>reactions</td>\n      <td>mmol/l</td>\n      <td>0.218</td>\n      <td>1.312827e+20</td>\n      <td></td>\n      <td></td>\n      <td>0.218</td>\n      <td>1.312827e+20</td>\n      <td>-1.675967e-04</td>\n      <td>-1.009291e+17</td>\n      <td>Metabolite_9</td>\n      <td>cgap</td>\n    </tr>\n    <tr>\n      <th>Erythrose-4-phosphate</th>\n      <td>cytosol</td>\n      <td>reactions</td>\n      <td>mmol/l</td>\n      <td>0.098</td>\n      <td>5.901698e+19</td>\n      <td></td>\n      <td></td>\n      <td>0.098</td>\n      <td>5.901698e+19</td>\n      <td>2.418223e-11</td>\n      <td>1.456288e+10</td>\n      <td>Metabolite_10</td>\n      <td>ce4p</td>\n    </tr>\n    <tr>\n      <th>Xylulose-5-phosphate</th>\n      <td>cytosol</td>\n      <td>reactions</td>\n      <td>mmol/l</td>\n      <td>0.138</td>\n      <td>8.310554e+19</td>\n      <td></td>\n      <td></td>\n      <td>0.138</td>\n      <td>8.310554e+19</td>\n      <td>-8.786570e-12</td>\n      <td>-5.291396e+09</td>\n      <td>Metabolite_11</td>\n      <td>cxyl5p</td>\n    </tr>\n    <tr>\n      <th>Ribose-5-phosphate</th>\n      <td>cytosol</td>\n      <td>reactions</td>\n      <td>mmol/l</td>\n      <td>0.398</td>\n      <td>2.396812e+20</td>\n      <td></td>\n      <td></td>\n      <td>0.398</td>\n      <td>2.396812e+20</td>\n      <td>-5.827867e-12</td>\n      <td>-3.509623e+09</td>\n      <td>Metabolite_12</td>\n      <td>crib5p</td>\n    </tr>\n    <tr>\n      <th>Dihydroxyacetonephosphate</th>\n      <td>cytosol</td>\n      <td>reactions</td>\n      <td>mmol/l</td>\n      <td>0.167</td>\n      <td>1.005698e+20</td>\n      <td></td>\n      <td></td>\n      <td>0.167</td>\n      <td>1.005698e+20</td>\n      <td>-7.240676e-10</td>\n      <td>-4.360437e+11</td>\n      <td>Metabolite_13</td>\n      <td>cdhap</td>\n    </tr>\n    <tr>\n      <th>1,3-diphosphosphoglycerate</th>\n      <td>cytosol</td>\n      <td>reactions</td>\n      <td>mmol/l</td>\n      <td>0.008</td>\n      <td>4.817713e+18</td>\n      <td></td>\n      <td></td>\n      <td>0.008</td>\n      <td>4.817713e+18</td>\n      <td>5.839285e-01</td>\n      <td>3.516500e+20</td>\n      <td>Metabolite_14</td>\n      <td>cpgp</td>\n    </tr>\n    <tr>\n      <th>3-Phosphoglycerate</th>\n      <td>cytosol</td>\n      <td>reactions</td>\n      <td>mmol/l</td>\n      <td>2.130</td>\n      <td>1.282716e+21</td>\n      <td></td>\n      <td></td>\n      <td>2.130</td>\n      <td>1.282716e+21</td>\n      <td>-5.489045e-01</td>\n      <td>-3.305580e+20</td>\n      <td>Metabolite_15</td>\n      <td>cpg3</td>\n    </tr>\n    <tr>\n      <th>2-Phosphoglycerate</th>\n      <td>cytosol</td>\n      <td>reactions</td>\n      <td>mmol/l</td>\n      <td>0.399</td>\n      <td>2.402834e+20</td>\n      <td></td>\n      <td></td>\n      <td>0.399</td>\n      <td>2.402834e+20</td>\n      <td>-3.485382e-02</td>\n      <td>-2.098946e+19</td>\n      <td>Metabolite_16</td>\n      <td>cpg2</td>\n    </tr>\n    <tr>\n      <th>Ribulose-5-phosphate</th>\n      <td>cytosol</td>\n      <td>reactions</td>\n      <td>mmol/l</td>\n      <td>0.111</td>\n      <td>6.684576e+19</td>\n      <td></td>\n      <td></td>\n      <td>0.111</td>\n      <td>6.684576e+19</td>\n      <td>8.275300e-04</td>\n      <td>4.983502e+17</td>\n      <td>Metabolite_17</td>\n      <td>cribu5p</td>\n    </tr>\n  </tbody>\n</table>\n</div>"
     },
     "execution_count": 3,
     "metadata": {},
     "output_type": "execute_result"
    }
   ],
   "source": [
    "from biosimulator_processes.utils import generate_sed_model_config_schema as sed_schema, fetch_biomodel\n",
    "\n",
    "\n",
    "model = fetch_biomodel('BIOMD0000000051')\n",
    "\n",
    "get_species(model=model)"
   ],
   "metadata": {
    "collapsed": false,
    "ExecuteTime": {
     "end_time": "2024-02-29T00:29:56.393246Z",
     "start_time": "2024-02-29T00:29:54.094171Z"
    }
   },
   "id": "241f9f2d915e857c",
   "execution_count": 3
  },
  {
   "cell_type": "code",
   "outputs": [
    {
     "data": {
      "text/plain": "              type    unit  initial_value initial_expression  \\\nname                                                           \ncatp    assignment  mmol/l       4.270000                      \ncadp    assignment  mmol/l       0.582000                      \ncamp    assignment  mmol/l       0.954783                      \ncnadp   assignment  mmol/l       0.196759                      \ncnadph  assignment  mmol/l       0.062000                      \ncnad    assignment  mmol/l       1.464399                      \ncnadh   assignment  mmol/l       0.093400                      \n\n                                               expression     value  rate  \\\nname                                                                        \ncatp    4.2699999999999996 - 4.1630000000000003 * ( Ti...  4.270000   NaN   \ncadp    0.58199999999999996 + 1.73 * 2.730999999999999...  0.582000   NaN   \ncamp    0.123 + 7.25 * ( Time / ( 7.25 + 1.47 * Time +...  0.954783   NaN   \ncnadp   0.159 - 0.0055399999999999998 * ( Time / ( 2.7...  0.196759   NaN   \ncnadph  0.062 + 0.33200000000000002 * 2.718 ^ ( - 0.46...  0.062000   NaN   \ncnad    1.3140000000000001 + 1.3140000000000001 * 2.73...  1.464399   NaN   \ncnadh   0.093399999999999997 + 0.0011100000000000001 *...  0.093400   NaN   \n\n                 key sbml_id  \nname                          \ncatp    ModelValue_0    catp  \ncadp    ModelValue_1    cadp  \ncamp    ModelValue_2    camp  \ncnadp   ModelValue_3   cnadp  \ncnadph  ModelValue_4  cnadph  \ncnad    ModelValue_5    cnad  \ncnadh   ModelValue_6   cnadh  ",
      "text/html": "<div>\n<style scoped>\n    .dataframe tbody tr th:only-of-type {\n        vertical-align: middle;\n    }\n\n    .dataframe tbody tr th {\n        vertical-align: top;\n    }\n\n    .dataframe thead th {\n        text-align: right;\n    }\n</style>\n<table border=\"1\" class=\"dataframe\">\n  <thead>\n    <tr style=\"text-align: right;\">\n      <th></th>\n      <th>type</th>\n      <th>unit</th>\n      <th>initial_value</th>\n      <th>initial_expression</th>\n      <th>expression</th>\n      <th>value</th>\n      <th>rate</th>\n      <th>key</th>\n      <th>sbml_id</th>\n    </tr>\n    <tr>\n      <th>name</th>\n      <th></th>\n      <th></th>\n      <th></th>\n      <th></th>\n      <th></th>\n      <th></th>\n      <th></th>\n      <th></th>\n      <th></th>\n    </tr>\n  </thead>\n  <tbody>\n    <tr>\n      <th>catp</th>\n      <td>assignment</td>\n      <td>mmol/l</td>\n      <td>4.270000</td>\n      <td></td>\n      <td>4.2699999999999996 - 4.1630000000000003 * ( Ti...</td>\n      <td>4.270000</td>\n      <td>NaN</td>\n      <td>ModelValue_0</td>\n      <td>catp</td>\n    </tr>\n    <tr>\n      <th>cadp</th>\n      <td>assignment</td>\n      <td>mmol/l</td>\n      <td>0.582000</td>\n      <td></td>\n      <td>0.58199999999999996 + 1.73 * 2.730999999999999...</td>\n      <td>0.582000</td>\n      <td>NaN</td>\n      <td>ModelValue_1</td>\n      <td>cadp</td>\n    </tr>\n    <tr>\n      <th>camp</th>\n      <td>assignment</td>\n      <td>mmol/l</td>\n      <td>0.954783</td>\n      <td></td>\n      <td>0.123 + 7.25 * ( Time / ( 7.25 + 1.47 * Time +...</td>\n      <td>0.954783</td>\n      <td>NaN</td>\n      <td>ModelValue_2</td>\n      <td>camp</td>\n    </tr>\n    <tr>\n      <th>cnadp</th>\n      <td>assignment</td>\n      <td>mmol/l</td>\n      <td>0.196759</td>\n      <td></td>\n      <td>0.159 - 0.0055399999999999998 * ( Time / ( 2.7...</td>\n      <td>0.196759</td>\n      <td>NaN</td>\n      <td>ModelValue_3</td>\n      <td>cnadp</td>\n    </tr>\n    <tr>\n      <th>cnadph</th>\n      <td>assignment</td>\n      <td>mmol/l</td>\n      <td>0.062000</td>\n      <td></td>\n      <td>0.062 + 0.33200000000000002 * 2.718 ^ ( - 0.46...</td>\n      <td>0.062000</td>\n      <td>NaN</td>\n      <td>ModelValue_4</td>\n      <td>cnadph</td>\n    </tr>\n    <tr>\n      <th>cnad</th>\n      <td>assignment</td>\n      <td>mmol/l</td>\n      <td>1.464399</td>\n      <td></td>\n      <td>1.3140000000000001 + 1.3140000000000001 * 2.73...</td>\n      <td>1.464399</td>\n      <td>NaN</td>\n      <td>ModelValue_5</td>\n      <td>cnad</td>\n    </tr>\n    <tr>\n      <th>cnadh</th>\n      <td>assignment</td>\n      <td>mmol/l</td>\n      <td>0.093400</td>\n      <td></td>\n      <td>0.093399999999999997 + 0.0011100000000000001 *...</td>\n      <td>0.093400</td>\n      <td>NaN</td>\n      <td>ModelValue_6</td>\n      <td>cnadh</td>\n    </tr>\n  </tbody>\n</table>\n</div>"
     },
     "execution_count": 4,
     "metadata": {},
     "output_type": "execute_result"
    }
   ],
   "source": [
    "get_parameters(model=model)"
   ],
   "metadata": {
    "collapsed": false,
    "ExecuteTime": {
     "end_time": "2024-02-29T00:30:16.020830Z",
     "start_time": "2024-02-29T00:30:16.017281Z"
    }
   },
   "id": "15cf815bdebd8ea9",
   "execution_count": 4
  },
  {
   "cell_type": "code",
   "outputs": [
    {
     "data": {
      "text/plain": "                                                                                     scheme  \\\nname                                                                                          \nPhosphotransferase system                 \"Extracellular Glucose\" + 65 * \"Phosphoenol py...   \nGlucose-6-phosphate isomerase             Glucose-6-Phosphate = Fructose-6-Phosphate;  6...   \nPhosphoglucomutase                                Glucose-6-Phosphate = Glucose-1-Phosphate   \nGlucose-6-phosphate dehydrogenase                  Glucose-6-Phosphate = 6-Phosphogluconate   \nPhosphofructokinase                       Fructose-6-Phosphate = Fructose-1,6-bisphospha...   \nTransaldolase                             Glyceraldehyde-3-Phosphate + sedoheptulose-7-p...   \nTransketolase a                           Ribose-5-phosphate + Xylulose-5-phosphate = Gl...   \nTransketolase b                           Erythrose-4-phosphate + Xylulose-5-phosphate =...   \nMureine synthesis                                               2 * Fructose-6-Phosphate =    \nAldolase                                  Fructose-1,6-bisphosphate = Dihydroxyacetoneph...   \nGlyceraldehyde-3-phosphate dehydrogenase  Glyceraldehyde-3-Phosphate = 1,3-diphosphospho...   \nTriosephosphate isomerase                 Dihydroxyacetonephosphate = Glyceraldehyde-3-P...   \nTryptophan synthesis                                = Pyruvate + Glyceraldehyde-3-Phosphate   \nGlycerol-3-phosphate dehydrogenase                             Dihydroxyacetonephosphate =    \nPhosphoglycerate kinase                     1,3-diphosphosphoglycerate = 3-Phosphoglycerate   \nSerine synthesis                                                      3-Phosphoglycerate =    \nPhosphoglycerate mutase                             3-Phosphoglycerate = 2-Phosphoglycerate   \nEnolase                                         2-Phosphoglycerate = \"Phosphoenol pyruvate\"   \nPyruvate kinase                           \"Phosphoenol pyruvate\" = Pyruvate;  Fructose-1...   \nPEP carboxylase                           \"Phosphoenol pyruvate\" = ;  Fructose-1,6-bisph...   \nSynthesis 1                                                       \"Phosphoenol pyruvate\" =    \nSynthesis 2                                                                     Pyruvate =    \nDAHP synthesis                            Erythrose-4-phosphate + \"Phosphoenol pyruvate\" =    \nPyruvate dehydrogenase                                                          Pyruvate =    \nMethionine synthesis                                                             = Pyruvate   \n6-Phosphogluconate dehydrogenase                  6-Phosphogluconate = Ribulose-5-phosphate   \nRibose-phosphate isomerase                        Ribulose-5-phosphate = Ribose-5-phosphate   \nRibulose-phosphate epimerase                    Ribulose-5-phosphate = Xylulose-5-phosphate   \nRibose phosphate pyrophosphokinase                                    Ribose-5-phosphate =    \nGlucose-1-phosphate adenyltransferase     Glucose-1-Phosphate = ;  Fructose-1,6-bisphosp...   \nG6P degradation                                                      Glucose-6-Phosphate =    \nF6P degradation                                                     Fructose-6-Phosphate =    \nFDP degradation                                                Fructose-1,6-bisphosphate =    \nGAP degradation                                               Glyceraldehyde-3-Phosphate =    \nDHAP degradation                                               Dihydroxyacetonephosphate =    \nPGP degradation                                               1,3-diphosphosphoglycerate =    \nPG3 degradation                                                       3-Phosphoglycerate =    \nPG2 degradation                                                       2-Phosphoglycerate =    \nPEP degradation                                                   \"Phosphoenol pyruvate\" =    \nRibu5P dilution                                                     Ribulose-5-phosphate =    \nRib5P dilution                                                        Ribose-5-phosphate =    \nXYL5P dilution                                                      Xylulose-5-phosphate =    \nSED7P dilution                                                 sedoheptulose-7-phosphate =    \nPyruvate dilution                                                               Pyruvate =    \nPG dilution                                                           6-Phosphogluconate =    \nE4P dilution                                                       Erythrose-4-phosphate =    \nGLP dilution                                                         Glucose-1-Phosphate =    \nExtracellular glucose kinetics                                    = \"Extracellular Glucose\"   \n\n                                                  flux  particle_flux  \\\nname                                                                    \nPhosphotransferase system                 9.597360e-02   5.779665e+19   \nGlucose-6-phosphate isomerase             5.837679e-02   3.515532e+19   \nPhosphoglucomutase                        2.292288e-03   1.380448e+18   \nGlucose-6-phosphate dehydrogenase         1.400197e-01   8.432183e+19   \nPhosphofructokinase                       1.423843e-01   8.574585e+19   \nTransaldolase                             4.531300e-02   2.728813e+19   \nTransketolase a                           4.532067e-02   2.729275e+19   \nTransketolase b                           3.843200e-02   2.314429e+19   \nMureine synthesis                         4.371100e-04   2.632338e+17   \nAldolase                                  1.412432e-01   8.505864e+19   \nGlyceraldehyde-3-phosphate dehydrogenase  3.204571e-01   1.929838e+20   \nTriosephosphate isomerase                 1.395757e-01   8.405442e+19   \nTryptophan synthesis                      1.037000e-03   6.244960e+17   \nGlycerol-3-phosphate dehydrogenase        1.662906e-03   1.001425e+18   \nPhosphoglycerate kinase                  -2.634717e-01  -1.586664e+20   \nSerine synthesis                          1.749738e-02   1.053717e+19   \nPhosphoglycerate mutase                   2.678762e-01   1.613188e+20   \nEnolase                                   3.027189e-01   1.823016e+20   \nPyruvate kinase                           3.785586e-02   2.279733e+19   \nPEP carboxylase                           4.318788e-02   2.600835e+19   \nSynthesis 1                               1.421500e-02   8.560473e+18   \nSynthesis 2                               5.355900e-02   3.225398e+19   \nDAHP synthesis                            6.878276e-03   4.142194e+18   \nPyruvate dehydrogenase                    1.880300e-01   1.132343e+20   \nMethionine synthesis                      2.262700e-03   1.362630e+18   \n6-Phosphogluconate dehydrogenase          1.402289e-01   8.444779e+19   \nRibose-phosphate isomerase                5.564174e-02   3.350824e+19   \nRibulose-phosphate epimerase              8.375651e-02   5.043935e+19   \nRibose phosphate pyrophosphokinase        1.031000e-02   6.208827e+18   \nGlucose-1-phosphate adenyltransferase     2.316673e-03   1.395133e+18   \nG6P degradation                           9.674400e-05   5.826060e+16   \nF6P degradation                           1.668000e-05   1.004493e+16   \nFDP degradation                           7.561600e-06   4.553702e+15   \nGAP degradation                           6.060400e-06   3.649658e+15   \nDHAP degradation                          4.642600e-06   2.795839e+15   \nPGP degradation                           2.224000e-07   1.339324e+14   \nPG3 degradation                           5.921400e-05   3.565950e+16   \nPG2 degradation                           1.109220e-05   6.679879e+15   \nPEP degradation                           7.422600e-05   4.469994e+16   \nRibu5P dilution                           3.085800e-06   1.858312e+15   \nRib5P dilution                            1.106440e-05   6.663137e+15   \nXYL5P dilution                            3.836400e-06   2.310334e+15   \nSED7P dilution                            7.672800e-06   4.620668e+15   \nPyruvate dilution                         7.422600e-05   4.469994e+16   \nPG dilution                               2.246240e-05   1.352717e+16   \nE4P dilution                              2.724400e-06   1.640672e+15   \nGLP dilution                              1.815340e-05   1.093223e+16   \nExtracellular glucose kinetics            3.029088e-03   1.824159e+18   \n\n                                                                                   function  \\\nname                                                                                          \nPhosphotransferase system                            Function for Phosphotransferase system   \nGlucose-6-phosphate isomerase                    Function for Glucose-6-phosphate isomerase   \nPhosphoglucomutase                                          Function for Phosphoglucomutase   \nGlucose-6-phosphate dehydrogenase            Function for Glucose-6-phosphate dehydrogenase   \nPhosphofructokinase                                        Function for Phosphofructokinase   \nTransaldolase                                                    Function for Transaldolase   \nTransketolase a                                                Function for Transketolase a   \nTransketolase b                                                Function for Transketolase b   \nMureine synthesis                                                Constant flux (reversible)   \nAldolase                                                              Function for Aldolase   \nGlyceraldehyde-3-phosphate dehydrogenase  Function for Glyceraldehyde-3-phosphate dehydr...   \nTriosephosphate isomerase                            Function for Triosephosphate isomerase   \nTryptophan synthesis                                             Constant flux (reversible)   \nGlycerol-3-phosphate dehydrogenase          Function for Glycerol-3-phosphate dehydrogenase   \nPhosphoglycerate kinase                                Function for Phosphoglycerate kinase   \nSerine synthesis                                              Function for Serine synthesis   \nPhosphoglycerate mutase                                Function for Phosphoglycerate mutase   \nEnolase                                                                Function for Enolase   \nPyruvate kinase                                                Function for Pyruvate kinase   \nPEP carboxylase                                                Function for PEP carboxylase   \nSynthesis 1                                                        Function for Synthesis 1   \nSynthesis 2                                                        Function for Synthesis 2   \nDAHP synthesis                                                  Function for DAHP synthesis   \nPyruvate dehydrogenase                                  Function for Pyruvate dehydrogenase   \nMethionine synthesis                                             Constant flux (reversible)   \n6-Phosphogluconate dehydrogenase              Function for 6-Phosphogluconate dehydrogenase   \nRibose-phosphate isomerase                          Function for Ribose-phosphate isomerase   \nRibulose-phosphate epimerase                      Function for Ribulose-phosphate epimerase   \nRibose phosphate pyrophosphokinase          Function for Ribose phosphate pyrophosphokinase   \nGlucose-1-phosphate adenyltransferase     Function for Glucose-1-phosphate adenyltransfe...   \nG6P degradation                                                Function for G6P degradation   \nF6P degradation                                                Function for F6P degradation   \nFDP degradation                                                Function for FDP degradation   \nGAP degradation                                                Function for GAP degradation   \nDHAP degradation                                              Function for DHAP degradation   \nPGP degradation                                                Function for PGP degradation   \nPG3 degradation                                                Function for PG3 degradation   \nPG2 degradation                                                Function for PG2 degradation   \nPEP degradation                                                Function for PEP degradation   \nRibu5P dilution                                                Function for Ribu5P dilution   \nRib5P dilution                                                  Function for Rib5P dilution   \nXYL5P dilution                                                  Function for XYL5P dilution   \nSED7P dilution                                                  Function for SED7P dilution   \nPyruvate dilution                                            Function for Pyruvate dilution   \nPG dilution                                                        Function for PG dilution   \nE4P dilution                                                      Function for E4P dilution   \nGLP dilution                                                      Function for GLP dilution   \nExtracellular glucose kinetics                  Function for Extracellular glucose kinetics   \n\n                                                  key      sbml_id  \\\nname                                                                 \nPhosphotransferase system                  Reaction_0         vPTS   \nGlucose-6-phosphate isomerase              Reaction_1         vPGI   \nPhosphoglucomutase                         Reaction_2         vPGM   \nGlucose-6-phosphate dehydrogenase          Reaction_3       vG6PDH   \nPhosphofructokinase                        Reaction_4         vPFK   \nTransaldolase                              Reaction_5          vTA   \nTransketolase a                            Reaction_6         vTKA   \nTransketolase b                            Reaction_7         vTKB   \nMureine synthesis                          Reaction_8    vMURSyNTH   \nAldolase                                   Reaction_9        vALDO   \nGlyceraldehyde-3-phosphate dehydrogenase  Reaction_10       vGAPDH   \nTriosephosphate isomerase                 Reaction_11         vTIS   \nTryptophan synthesis                      Reaction_12    vTRPSYNTH   \nGlycerol-3-phosphate dehydrogenase        Reaction_13       vG3PDH   \nPhosphoglycerate kinase                   Reaction_14         vPGK   \nSerine synthesis                          Reaction_15    vsersynth   \nPhosphoglycerate mutase                   Reaction_16     vrpGluMu   \nEnolase                                   Reaction_17         vENO   \nPyruvate kinase                           Reaction_18          vPK   \nPEP carboxylase                           Reaction_19  vpepCxylase   \nSynthesis 1                               Reaction_20      vSynth1   \nSynthesis 2                               Reaction_21      vSynth2   \nDAHP synthesis                            Reaction_22       vDAHPS   \nPyruvate dehydrogenase                    Reaction_23         vPDH   \nMethionine synthesis                      Reaction_24   vMethSynth   \n6-Phosphogluconate dehydrogenase          Reaction_25        vPGDH   \nRibose-phosphate isomerase                Reaction_26        vR5PI   \nRibulose-phosphate epimerase              Reaction_27        vRu5P   \nRibose phosphate pyrophosphokinase        Reaction_28         vPPK   \nGlucose-1-phosphate adenyltransferase     Reaction_29       vG1PAT   \nG6P degradation                           Reaction_30         vG6P   \nF6P degradation                           Reaction_31         vf6P   \nFDP degradation                           Reaction_32         vfdP   \nGAP degradation                           Reaction_33         vGAP   \nDHAP degradation                          Reaction_34        vDHAP   \nPGP degradation                           Reaction_35         vPGP   \nPG3 degradation                           Reaction_36         vPG3   \nPG2 degradation                           Reaction_37         vpg2   \nPEP degradation                           Reaction_38         vPEP   \nRibu5P dilution                           Reaction_39      vRibu5p   \nRib5P dilution                            Reaction_40       vRIB5P   \nXYL5P dilution                            Reaction_41       vXYL5P   \nSED7P dilution                            Reaction_42       vSED7P   \nPyruvate dilution                         Reaction_43         vpyr   \nPG dilution                               Reaction_44          vPG   \nE4P dilution                              Reaction_45         vE4P   \nGLP dilution                              Reaction_46         vGLP   \nExtracellular glucose kinetics            Reaction_47       vEXTER   \n\n                                                                                    mapping  \nname                                                                                         \nPhosphotransferase system                 {'KPTSa1': 3082.3, 'KPTSa2': 0.01, 'KPTSa3': 2...  \nGlucose-6-phosphate isomerase             {'KPGIeq': 0.1725, 'KPGIf6p': 0.266, 'KPGIf6pp...  \nPhosphoglucomutase                        {'KPGMeq': 0.196, 'KPGMg1p': 0.0136, 'KPGMg6p'...  \nGlucose-6-phosphate dehydrogenase         {'KG6PDHg6p': 14.4, 'KG6PDHnadp': 0.0246, 'KG6...  \nPhosphofructokinase                       {'KPFKadpa': 128.0, 'KPFKadpb': 3.89, 'KPFKadp...  \nTransaldolase                             {'KTAeq': 1.05, 'ce4p': 'Erythrose-4-phosphate...  \nTransketolase a                           {'KTKaeq': 1.2, 'cgap': 'Glyceraldehyde-3-Phos...  \nTransketolase b                           {'KTKbeq': 10.0, 'ce4p': 'Erythrose-4-phosphat...  \nMureine synthesis                                                         {'v': 0.00043711}  \nAldolase                                  {'VALDOblf': 2.0, 'cdhap': 'Dihydroxyacetoneph...  \nGlyceraldehyde-3-phosphate dehydrogenase  {'KGAPDHeq': 0.63, 'KGAPDHgap': 0.683, 'KGAPDH...  \nTriosephosphate isomerase                 {'cdhap': 'Dihydroxyacetonephosphate', 'cgap':...  \nTryptophan synthesis                                                        {'v': 0.001037}  \nGlycerol-3-phosphate dehydrogenase        {'KG3PDHdhap': 1.0, 'cdhap': 'Dihydroxyacetone...  \nPhosphoglycerate kinase                   {'KPGKadp': 0.185, 'KPGKatp': 0.653, 'KPGKeq':...  \nSerine synthesis                          {'KSerSynthpg3': 1.0, 'cpg3': '3-Phosphoglycer...  \nPhosphoglycerate mutase                   {'KPGluMueq': 0.188, 'KPGluMupg2': 0.369, 'KPG...  \nEnolase                                   {'KENOeq': 6.73, 'KENOpep': 0.135, 'KENOpg2': ...  \nPyruvate kinase                           {'KPKadp': 0.26, 'KPKamp': 0.2, 'KPKatp': 22.5...  \nPEP carboxylase                           {'KpepCxylasefdp': 0.7, 'KpepCxylasepep': 4.07...  \nSynthesis 1                               {'KSynth1pep': 1.0, 'cpep': '\"Phosphoenol pyru...  \nSynthesis 2                               {'KSynth2pyr': 1.0, 'cpyr': 'Pyruvate', 'rmaxS...  \nDAHP synthesis                            {'KDAHPSe4p': 0.035, 'KDAHPSpep': 0.0053, 'ce4...  \nPyruvate dehydrogenase                    {'KPDHpyr': 1159.0, 'cpyr': 'Pyruvate', 'nPDH'...  \nMethionine synthesis                                                       {'v': 0.0022627}  \n6-Phosphogluconate dehydrogenase          {'KPGDHatpinh': 208.0, 'KPGDHnadp': 0.0506, 'K...  \nRibose-phosphate isomerase                {'KR5PIeq': 4.0, 'crib5p': 'Ribose-5-phosphate...  \nRibulose-phosphate epimerase              {'KRu5Peq': 1.4, 'cribu5p': 'Ribulose-5-phosph...  \nRibose phosphate pyrophosphokinase        {'KRPPKrib5p': 0.1, 'crib5p': 'Ribose-5-phosph...  \nGlucose-1-phosphate adenyltransferase     {'KG1PATatp': 4.42, 'KG1PATfdp': 0.119, 'KG1PA...  \nG6P degradation                             {'cg6p': 'Glucose-6-Phosphate', 'mu': 2.78e-05}  \nF6P degradation                            {'cf6p': 'Fructose-6-Phosphate', 'mu': 2.78e-05}  \nFDP degradation                           {'cfdp': 'Fructose-1,6-bisphosphate', 'mu': 2....  \nGAP degradation                           {'cgap': 'Glyceraldehyde-3-Phosphate', 'mu': 2...  \nDHAP degradation                          {'cdhap': 'Dihydroxyacetonephosphate', 'mu': 2...  \nPGP degradation                           {'cpgp': '1,3-diphosphosphoglycerate', 'mu': 2...  \nPG3 degradation                              {'cpg3': '3-Phosphoglycerate', 'mu': 2.78e-05}  \nPG2 degradation                              {'cpg2': '2-Phosphoglycerate', 'mu': 2.78e-05}  \nPEP degradation                           {'cpep': '\"Phosphoenol pyruvate\"', 'mu': 2.78e...  \nRibu5P dilution                           {'cribu5p': 'Ribulose-5-phosphate', 'mu': 2.78...  \nRib5P dilution                             {'crib5p': 'Ribose-5-phosphate', 'mu': 2.78e-05}  \nXYL5P dilution                            {'cxyl5p': 'Xylulose-5-phosphate', 'mu': 2.78e...  \nSED7P dilution                            {'csed7p': 'sedoheptulose-7-phosphate', 'mu': ...  \nPyruvate dilution                                      {'cpyr': 'Pyruvate', 'mu': 2.78e-05}  \nPG dilution                                   {'cpg': '6-Phosphogluconate', 'mu': 2.78e-05}  \nE4P dilution                              {'ce4p': 'Erythrose-4-phosphate', 'mu': 2.78e-05}  \nGLP dilution                                {'cg1p': 'Glucose-1-Phosphate', 'mu': 2.78e-05}  \nExtracellular glucose kinetics            {'Dil': 2.78e-05, 'cfeed': 110.96, 'cglcex': '...  ",
      "text/html": "<div>\n<style scoped>\n    .dataframe tbody tr th:only-of-type {\n        vertical-align: middle;\n    }\n\n    .dataframe tbody tr th {\n        vertical-align: top;\n    }\n\n    .dataframe thead th {\n        text-align: right;\n    }\n</style>\n<table border=\"1\" class=\"dataframe\">\n  <thead>\n    <tr style=\"text-align: right;\">\n      <th></th>\n      <th>scheme</th>\n      <th>flux</th>\n      <th>particle_flux</th>\n      <th>function</th>\n      <th>key</th>\n      <th>sbml_id</th>\n      <th>mapping</th>\n    </tr>\n    <tr>\n      <th>name</th>\n      <th></th>\n      <th></th>\n      <th></th>\n      <th></th>\n      <th></th>\n      <th></th>\n      <th></th>\n    </tr>\n  </thead>\n  <tbody>\n    <tr>\n      <th>Phosphotransferase system</th>\n      <td>\"Extracellular Glucose\" + 65 * \"Phosphoenol py...</td>\n      <td>9.597360e-02</td>\n      <td>5.779665e+19</td>\n      <td>Function for Phosphotransferase system</td>\n      <td>Reaction_0</td>\n      <td>vPTS</td>\n      <td>{'KPTSa1': 3082.3, 'KPTSa2': 0.01, 'KPTSa3': 2...</td>\n    </tr>\n    <tr>\n      <th>Glucose-6-phosphate isomerase</th>\n      <td>Glucose-6-Phosphate = Fructose-6-Phosphate;  6...</td>\n      <td>5.837679e-02</td>\n      <td>3.515532e+19</td>\n      <td>Function for Glucose-6-phosphate isomerase</td>\n      <td>Reaction_1</td>\n      <td>vPGI</td>\n      <td>{'KPGIeq': 0.1725, 'KPGIf6p': 0.266, 'KPGIf6pp...</td>\n    </tr>\n    <tr>\n      <th>Phosphoglucomutase</th>\n      <td>Glucose-6-Phosphate = Glucose-1-Phosphate</td>\n      <td>2.292288e-03</td>\n      <td>1.380448e+18</td>\n      <td>Function for Phosphoglucomutase</td>\n      <td>Reaction_2</td>\n      <td>vPGM</td>\n      <td>{'KPGMeq': 0.196, 'KPGMg1p': 0.0136, 'KPGMg6p'...</td>\n    </tr>\n    <tr>\n      <th>Glucose-6-phosphate dehydrogenase</th>\n      <td>Glucose-6-Phosphate = 6-Phosphogluconate</td>\n      <td>1.400197e-01</td>\n      <td>8.432183e+19</td>\n      <td>Function for Glucose-6-phosphate dehydrogenase</td>\n      <td>Reaction_3</td>\n      <td>vG6PDH</td>\n      <td>{'KG6PDHg6p': 14.4, 'KG6PDHnadp': 0.0246, 'KG6...</td>\n    </tr>\n    <tr>\n      <th>Phosphofructokinase</th>\n      <td>Fructose-6-Phosphate = Fructose-1,6-bisphospha...</td>\n      <td>1.423843e-01</td>\n      <td>8.574585e+19</td>\n      <td>Function for Phosphofructokinase</td>\n      <td>Reaction_4</td>\n      <td>vPFK</td>\n      <td>{'KPFKadpa': 128.0, 'KPFKadpb': 3.89, 'KPFKadp...</td>\n    </tr>\n    <tr>\n      <th>Transaldolase</th>\n      <td>Glyceraldehyde-3-Phosphate + sedoheptulose-7-p...</td>\n      <td>4.531300e-02</td>\n      <td>2.728813e+19</td>\n      <td>Function for Transaldolase</td>\n      <td>Reaction_5</td>\n      <td>vTA</td>\n      <td>{'KTAeq': 1.05, 'ce4p': 'Erythrose-4-phosphate...</td>\n    </tr>\n    <tr>\n      <th>Transketolase a</th>\n      <td>Ribose-5-phosphate + Xylulose-5-phosphate = Gl...</td>\n      <td>4.532067e-02</td>\n      <td>2.729275e+19</td>\n      <td>Function for Transketolase a</td>\n      <td>Reaction_6</td>\n      <td>vTKA</td>\n      <td>{'KTKaeq': 1.2, 'cgap': 'Glyceraldehyde-3-Phos...</td>\n    </tr>\n    <tr>\n      <th>Transketolase b</th>\n      <td>Erythrose-4-phosphate + Xylulose-5-phosphate =...</td>\n      <td>3.843200e-02</td>\n      <td>2.314429e+19</td>\n      <td>Function for Transketolase b</td>\n      <td>Reaction_7</td>\n      <td>vTKB</td>\n      <td>{'KTKbeq': 10.0, 'ce4p': 'Erythrose-4-phosphat...</td>\n    </tr>\n    <tr>\n      <th>Mureine synthesis</th>\n      <td>2 * Fructose-6-Phosphate =</td>\n      <td>4.371100e-04</td>\n      <td>2.632338e+17</td>\n      <td>Constant flux (reversible)</td>\n      <td>Reaction_8</td>\n      <td>vMURSyNTH</td>\n      <td>{'v': 0.00043711}</td>\n    </tr>\n    <tr>\n      <th>Aldolase</th>\n      <td>Fructose-1,6-bisphosphate = Dihydroxyacetoneph...</td>\n      <td>1.412432e-01</td>\n      <td>8.505864e+19</td>\n      <td>Function for Aldolase</td>\n      <td>Reaction_9</td>\n      <td>vALDO</td>\n      <td>{'VALDOblf': 2.0, 'cdhap': 'Dihydroxyacetoneph...</td>\n    </tr>\n    <tr>\n      <th>Glyceraldehyde-3-phosphate dehydrogenase</th>\n      <td>Glyceraldehyde-3-Phosphate = 1,3-diphosphospho...</td>\n      <td>3.204571e-01</td>\n      <td>1.929838e+20</td>\n      <td>Function for Glyceraldehyde-3-phosphate dehydr...</td>\n      <td>Reaction_10</td>\n      <td>vGAPDH</td>\n      <td>{'KGAPDHeq': 0.63, 'KGAPDHgap': 0.683, 'KGAPDH...</td>\n    </tr>\n    <tr>\n      <th>Triosephosphate isomerase</th>\n      <td>Dihydroxyacetonephosphate = Glyceraldehyde-3-P...</td>\n      <td>1.395757e-01</td>\n      <td>8.405442e+19</td>\n      <td>Function for Triosephosphate isomerase</td>\n      <td>Reaction_11</td>\n      <td>vTIS</td>\n      <td>{'cdhap': 'Dihydroxyacetonephosphate', 'cgap':...</td>\n    </tr>\n    <tr>\n      <th>Tryptophan synthesis</th>\n      <td>= Pyruvate + Glyceraldehyde-3-Phosphate</td>\n      <td>1.037000e-03</td>\n      <td>6.244960e+17</td>\n      <td>Constant flux (reversible)</td>\n      <td>Reaction_12</td>\n      <td>vTRPSYNTH</td>\n      <td>{'v': 0.001037}</td>\n    </tr>\n    <tr>\n      <th>Glycerol-3-phosphate dehydrogenase</th>\n      <td>Dihydroxyacetonephosphate =</td>\n      <td>1.662906e-03</td>\n      <td>1.001425e+18</td>\n      <td>Function for Glycerol-3-phosphate dehydrogenase</td>\n      <td>Reaction_13</td>\n      <td>vG3PDH</td>\n      <td>{'KG3PDHdhap': 1.0, 'cdhap': 'Dihydroxyacetone...</td>\n    </tr>\n    <tr>\n      <th>Phosphoglycerate kinase</th>\n      <td>1,3-diphosphosphoglycerate = 3-Phosphoglycerate</td>\n      <td>-2.634717e-01</td>\n      <td>-1.586664e+20</td>\n      <td>Function for Phosphoglycerate kinase</td>\n      <td>Reaction_14</td>\n      <td>vPGK</td>\n      <td>{'KPGKadp': 0.185, 'KPGKatp': 0.653, 'KPGKeq':...</td>\n    </tr>\n    <tr>\n      <th>Serine synthesis</th>\n      <td>3-Phosphoglycerate =</td>\n      <td>1.749738e-02</td>\n      <td>1.053717e+19</td>\n      <td>Function for Serine synthesis</td>\n      <td>Reaction_15</td>\n      <td>vsersynth</td>\n      <td>{'KSerSynthpg3': 1.0, 'cpg3': '3-Phosphoglycer...</td>\n    </tr>\n    <tr>\n      <th>Phosphoglycerate mutase</th>\n      <td>3-Phosphoglycerate = 2-Phosphoglycerate</td>\n      <td>2.678762e-01</td>\n      <td>1.613188e+20</td>\n      <td>Function for Phosphoglycerate mutase</td>\n      <td>Reaction_16</td>\n      <td>vrpGluMu</td>\n      <td>{'KPGluMueq': 0.188, 'KPGluMupg2': 0.369, 'KPG...</td>\n    </tr>\n    <tr>\n      <th>Enolase</th>\n      <td>2-Phosphoglycerate = \"Phosphoenol pyruvate\"</td>\n      <td>3.027189e-01</td>\n      <td>1.823016e+20</td>\n      <td>Function for Enolase</td>\n      <td>Reaction_17</td>\n      <td>vENO</td>\n      <td>{'KENOeq': 6.73, 'KENOpep': 0.135, 'KENOpg2': ...</td>\n    </tr>\n    <tr>\n      <th>Pyruvate kinase</th>\n      <td>\"Phosphoenol pyruvate\" = Pyruvate;  Fructose-1...</td>\n      <td>3.785586e-02</td>\n      <td>2.279733e+19</td>\n      <td>Function for Pyruvate kinase</td>\n      <td>Reaction_18</td>\n      <td>vPK</td>\n      <td>{'KPKadp': 0.26, 'KPKamp': 0.2, 'KPKatp': 22.5...</td>\n    </tr>\n    <tr>\n      <th>PEP carboxylase</th>\n      <td>\"Phosphoenol pyruvate\" = ;  Fructose-1,6-bisph...</td>\n      <td>4.318788e-02</td>\n      <td>2.600835e+19</td>\n      <td>Function for PEP carboxylase</td>\n      <td>Reaction_19</td>\n      <td>vpepCxylase</td>\n      <td>{'KpepCxylasefdp': 0.7, 'KpepCxylasepep': 4.07...</td>\n    </tr>\n    <tr>\n      <th>Synthesis 1</th>\n      <td>\"Phosphoenol pyruvate\" =</td>\n      <td>1.421500e-02</td>\n      <td>8.560473e+18</td>\n      <td>Function for Synthesis 1</td>\n      <td>Reaction_20</td>\n      <td>vSynth1</td>\n      <td>{'KSynth1pep': 1.0, 'cpep': '\"Phosphoenol pyru...</td>\n    </tr>\n    <tr>\n      <th>Synthesis 2</th>\n      <td>Pyruvate =</td>\n      <td>5.355900e-02</td>\n      <td>3.225398e+19</td>\n      <td>Function for Synthesis 2</td>\n      <td>Reaction_21</td>\n      <td>vSynth2</td>\n      <td>{'KSynth2pyr': 1.0, 'cpyr': 'Pyruvate', 'rmaxS...</td>\n    </tr>\n    <tr>\n      <th>DAHP synthesis</th>\n      <td>Erythrose-4-phosphate + \"Phosphoenol pyruvate\" =</td>\n      <td>6.878276e-03</td>\n      <td>4.142194e+18</td>\n      <td>Function for DAHP synthesis</td>\n      <td>Reaction_22</td>\n      <td>vDAHPS</td>\n      <td>{'KDAHPSe4p': 0.035, 'KDAHPSpep': 0.0053, 'ce4...</td>\n    </tr>\n    <tr>\n      <th>Pyruvate dehydrogenase</th>\n      <td>Pyruvate =</td>\n      <td>1.880300e-01</td>\n      <td>1.132343e+20</td>\n      <td>Function for Pyruvate dehydrogenase</td>\n      <td>Reaction_23</td>\n      <td>vPDH</td>\n      <td>{'KPDHpyr': 1159.0, 'cpyr': 'Pyruvate', 'nPDH'...</td>\n    </tr>\n    <tr>\n      <th>Methionine synthesis</th>\n      <td>= Pyruvate</td>\n      <td>2.262700e-03</td>\n      <td>1.362630e+18</td>\n      <td>Constant flux (reversible)</td>\n      <td>Reaction_24</td>\n      <td>vMethSynth</td>\n      <td>{'v': 0.0022627}</td>\n    </tr>\n    <tr>\n      <th>6-Phosphogluconate dehydrogenase</th>\n      <td>6-Phosphogluconate = Ribulose-5-phosphate</td>\n      <td>1.402289e-01</td>\n      <td>8.444779e+19</td>\n      <td>Function for 6-Phosphogluconate dehydrogenase</td>\n      <td>Reaction_25</td>\n      <td>vPGDH</td>\n      <td>{'KPGDHatpinh': 208.0, 'KPGDHnadp': 0.0506, 'K...</td>\n    </tr>\n    <tr>\n      <th>Ribose-phosphate isomerase</th>\n      <td>Ribulose-5-phosphate = Ribose-5-phosphate</td>\n      <td>5.564174e-02</td>\n      <td>3.350824e+19</td>\n      <td>Function for Ribose-phosphate isomerase</td>\n      <td>Reaction_26</td>\n      <td>vR5PI</td>\n      <td>{'KR5PIeq': 4.0, 'crib5p': 'Ribose-5-phosphate...</td>\n    </tr>\n    <tr>\n      <th>Ribulose-phosphate epimerase</th>\n      <td>Ribulose-5-phosphate = Xylulose-5-phosphate</td>\n      <td>8.375651e-02</td>\n      <td>5.043935e+19</td>\n      <td>Function for Ribulose-phosphate epimerase</td>\n      <td>Reaction_27</td>\n      <td>vRu5P</td>\n      <td>{'KRu5Peq': 1.4, 'cribu5p': 'Ribulose-5-phosph...</td>\n    </tr>\n    <tr>\n      <th>Ribose phosphate pyrophosphokinase</th>\n      <td>Ribose-5-phosphate =</td>\n      <td>1.031000e-02</td>\n      <td>6.208827e+18</td>\n      <td>Function for Ribose phosphate pyrophosphokinase</td>\n      <td>Reaction_28</td>\n      <td>vPPK</td>\n      <td>{'KRPPKrib5p': 0.1, 'crib5p': 'Ribose-5-phosph...</td>\n    </tr>\n    <tr>\n      <th>Glucose-1-phosphate adenyltransferase</th>\n      <td>Glucose-1-Phosphate = ;  Fructose-1,6-bisphosp...</td>\n      <td>2.316673e-03</td>\n      <td>1.395133e+18</td>\n      <td>Function for Glucose-1-phosphate adenyltransfe...</td>\n      <td>Reaction_29</td>\n      <td>vG1PAT</td>\n      <td>{'KG1PATatp': 4.42, 'KG1PATfdp': 0.119, 'KG1PA...</td>\n    </tr>\n    <tr>\n      <th>G6P degradation</th>\n      <td>Glucose-6-Phosphate =</td>\n      <td>9.674400e-05</td>\n      <td>5.826060e+16</td>\n      <td>Function for G6P degradation</td>\n      <td>Reaction_30</td>\n      <td>vG6P</td>\n      <td>{'cg6p': 'Glucose-6-Phosphate', 'mu': 2.78e-05}</td>\n    </tr>\n    <tr>\n      <th>F6P degradation</th>\n      <td>Fructose-6-Phosphate =</td>\n      <td>1.668000e-05</td>\n      <td>1.004493e+16</td>\n      <td>Function for F6P degradation</td>\n      <td>Reaction_31</td>\n      <td>vf6P</td>\n      <td>{'cf6p': 'Fructose-6-Phosphate', 'mu': 2.78e-05}</td>\n    </tr>\n    <tr>\n      <th>FDP degradation</th>\n      <td>Fructose-1,6-bisphosphate =</td>\n      <td>7.561600e-06</td>\n      <td>4.553702e+15</td>\n      <td>Function for FDP degradation</td>\n      <td>Reaction_32</td>\n      <td>vfdP</td>\n      <td>{'cfdp': 'Fructose-1,6-bisphosphate', 'mu': 2....</td>\n    </tr>\n    <tr>\n      <th>GAP degradation</th>\n      <td>Glyceraldehyde-3-Phosphate =</td>\n      <td>6.060400e-06</td>\n      <td>3.649658e+15</td>\n      <td>Function for GAP degradation</td>\n      <td>Reaction_33</td>\n      <td>vGAP</td>\n      <td>{'cgap': 'Glyceraldehyde-3-Phosphate', 'mu': 2...</td>\n    </tr>\n    <tr>\n      <th>DHAP degradation</th>\n      <td>Dihydroxyacetonephosphate =</td>\n      <td>4.642600e-06</td>\n      <td>2.795839e+15</td>\n      <td>Function for DHAP degradation</td>\n      <td>Reaction_34</td>\n      <td>vDHAP</td>\n      <td>{'cdhap': 'Dihydroxyacetonephosphate', 'mu': 2...</td>\n    </tr>\n    <tr>\n      <th>PGP degradation</th>\n      <td>1,3-diphosphosphoglycerate =</td>\n      <td>2.224000e-07</td>\n      <td>1.339324e+14</td>\n      <td>Function for PGP degradation</td>\n      <td>Reaction_35</td>\n      <td>vPGP</td>\n      <td>{'cpgp': '1,3-diphosphosphoglycerate', 'mu': 2...</td>\n    </tr>\n    <tr>\n      <th>PG3 degradation</th>\n      <td>3-Phosphoglycerate =</td>\n      <td>5.921400e-05</td>\n      <td>3.565950e+16</td>\n      <td>Function for PG3 degradation</td>\n      <td>Reaction_36</td>\n      <td>vPG3</td>\n      <td>{'cpg3': '3-Phosphoglycerate', 'mu': 2.78e-05}</td>\n    </tr>\n    <tr>\n      <th>PG2 degradation</th>\n      <td>2-Phosphoglycerate =</td>\n      <td>1.109220e-05</td>\n      <td>6.679879e+15</td>\n      <td>Function for PG2 degradation</td>\n      <td>Reaction_37</td>\n      <td>vpg2</td>\n      <td>{'cpg2': '2-Phosphoglycerate', 'mu': 2.78e-05}</td>\n    </tr>\n    <tr>\n      <th>PEP degradation</th>\n      <td>\"Phosphoenol pyruvate\" =</td>\n      <td>7.422600e-05</td>\n      <td>4.469994e+16</td>\n      <td>Function for PEP degradation</td>\n      <td>Reaction_38</td>\n      <td>vPEP</td>\n      <td>{'cpep': '\"Phosphoenol pyruvate\"', 'mu': 2.78e...</td>\n    </tr>\n    <tr>\n      <th>Ribu5P dilution</th>\n      <td>Ribulose-5-phosphate =</td>\n      <td>3.085800e-06</td>\n      <td>1.858312e+15</td>\n      <td>Function for Ribu5P dilution</td>\n      <td>Reaction_39</td>\n      <td>vRibu5p</td>\n      <td>{'cribu5p': 'Ribulose-5-phosphate', 'mu': 2.78...</td>\n    </tr>\n    <tr>\n      <th>Rib5P dilution</th>\n      <td>Ribose-5-phosphate =</td>\n      <td>1.106440e-05</td>\n      <td>6.663137e+15</td>\n      <td>Function for Rib5P dilution</td>\n      <td>Reaction_40</td>\n      <td>vRIB5P</td>\n      <td>{'crib5p': 'Ribose-5-phosphate', 'mu': 2.78e-05}</td>\n    </tr>\n    <tr>\n      <th>XYL5P dilution</th>\n      <td>Xylulose-5-phosphate =</td>\n      <td>3.836400e-06</td>\n      <td>2.310334e+15</td>\n      <td>Function for XYL5P dilution</td>\n      <td>Reaction_41</td>\n      <td>vXYL5P</td>\n      <td>{'cxyl5p': 'Xylulose-5-phosphate', 'mu': 2.78e...</td>\n    </tr>\n    <tr>\n      <th>SED7P dilution</th>\n      <td>sedoheptulose-7-phosphate =</td>\n      <td>7.672800e-06</td>\n      <td>4.620668e+15</td>\n      <td>Function for SED7P dilution</td>\n      <td>Reaction_42</td>\n      <td>vSED7P</td>\n      <td>{'csed7p': 'sedoheptulose-7-phosphate', 'mu': ...</td>\n    </tr>\n    <tr>\n      <th>Pyruvate dilution</th>\n      <td>Pyruvate =</td>\n      <td>7.422600e-05</td>\n      <td>4.469994e+16</td>\n      <td>Function for Pyruvate dilution</td>\n      <td>Reaction_43</td>\n      <td>vpyr</td>\n      <td>{'cpyr': 'Pyruvate', 'mu': 2.78e-05}</td>\n    </tr>\n    <tr>\n      <th>PG dilution</th>\n      <td>6-Phosphogluconate =</td>\n      <td>2.246240e-05</td>\n      <td>1.352717e+16</td>\n      <td>Function for PG dilution</td>\n      <td>Reaction_44</td>\n      <td>vPG</td>\n      <td>{'cpg': '6-Phosphogluconate', 'mu': 2.78e-05}</td>\n    </tr>\n    <tr>\n      <th>E4P dilution</th>\n      <td>Erythrose-4-phosphate =</td>\n      <td>2.724400e-06</td>\n      <td>1.640672e+15</td>\n      <td>Function for E4P dilution</td>\n      <td>Reaction_45</td>\n      <td>vE4P</td>\n      <td>{'ce4p': 'Erythrose-4-phosphate', 'mu': 2.78e-05}</td>\n    </tr>\n    <tr>\n      <th>GLP dilution</th>\n      <td>Glucose-1-Phosphate =</td>\n      <td>1.815340e-05</td>\n      <td>1.093223e+16</td>\n      <td>Function for GLP dilution</td>\n      <td>Reaction_46</td>\n      <td>vGLP</td>\n      <td>{'cg1p': 'Glucose-1-Phosphate', 'mu': 2.78e-05}</td>\n    </tr>\n    <tr>\n      <th>Extracellular glucose kinetics</th>\n      <td>= \"Extracellular Glucose\"</td>\n      <td>3.029088e-03</td>\n      <td>1.824159e+18</td>\n      <td>Function for Extracellular glucose kinetics</td>\n      <td>Reaction_47</td>\n      <td>vEXTER</td>\n      <td>{'Dil': 2.78e-05, 'cfeed': 110.96, 'cglcex': '...</td>\n    </tr>\n  </tbody>\n</table>\n</div>"
     },
     "execution_count": 5,
     "metadata": {},
     "output_type": "execute_result"
    }
   ],
   "source": [
    "get_reactions(model=model)"
   ],
   "metadata": {
    "collapsed": false,
    "ExecuteTime": {
     "end_time": "2024-02-29T00:30:32.433950Z",
     "start_time": "2024-02-29T00:30:32.426916Z"
    }
   },
   "id": "a47bce52feddc014",
   "execution_count": 5
  },
  {
   "cell_type": "code",
   "outputs": [
    {
     "data": {
      "text/plain": "{'model': {'model_changes': {'species_changes': {'Extracellular Glucose': {'initial_concentration': 5.0}},\n   'parameter_changes': {'catp': {'initial_value': 100.0}},\n   'reaction_changes': {'Aldolase': {'scheme': 'A -> B'}}}},\n 'biomodel_id': 'BIOMD0000000051'}"
     },
     "execution_count": 6,
     "metadata": {},
     "output_type": "execute_result"
    }
   ],
   "source": [],
   "metadata": {
    "collapsed": false,
    "ExecuteTime": {
     "end_time": "2024-02-29T00:34:40.067723Z",
     "start_time": "2024-02-29T00:34:40.058378Z"
    }
   },
   "id": "120a2cd7477c9df",
   "execution_count": 6
  },
  {
   "cell_type": "markdown",
   "id": "ac92611c7adf47e1",
   "metadata": {
    "collapsed": false
   },
   "source": [
    "### Example 1: Define a single process instance and a corresponding emitter"
   ]
  },
  {
   "cell_type": "markdown",
   "id": "8608877d697af60c",
   "metadata": {
    "collapsed": false
   },
   "source": [
    "##### 1. Define the schema by which our Composite instance will be configured. Here a user chooses an entrypoint through which to instantiate the composite process. We will use an SBML-encoded model file as our entrypoint in this example."
   ]
  },
  {
   "cell_type": "markdown",
   "source": [
    "\n",
    "##### **As per the `CopasiProcess` constructor, there are three primary methods of entry:**\n",
    "    \n",
    "\n",
    "    # Parse values from the process `config` attribute dictionary:\n",
    "    \n",
    "        model_file = self.config.get('model').get('model_source')\n",
    "        sed_model_id = self.config.get('model').get('model_id')\n",
    "        biomodel_id = self.config.get('biomodel_id')\n",
    "        source_model_id = biomodel_id or sed_model_id\n",
    "\n",
    "\n",
    "    # A. enter with model_file\n",
    "    \n",
    "        if model_file:\n",
    "            self.copasi_model_object = load_model(model_file)\n",
    "    \n",
    "\n",
    "    # B. enter with specific search term for a model\n",
    "     \n",
    "        elif source_model_id:\n",
    "            self.copasi_model_object = fetch_biomodel(model_id=source_model_id)\n",
    "    \n",
    "\n",
    "    # C. enter with a new model\n",
    "    \n",
    "        else:\n",
    "            self.copasi_model_object = new_model(name='CopasiProcess Model')"
   ],
   "metadata": {
    "collapsed": false
   },
   "id": "63a90540d44034e1"
  },
  {
   "cell_type": "markdown",
   "source": [
    "##### Here we define the schema for a single process based on the provided entrypoint."
   ],
   "metadata": {
    "collapsed": false
   },
   "id": "c2537269b7efeee0"
  },
  {
   "cell_type": "code",
   "execution_count": null,
   "id": "77636dbde3fa6b74",
   "metadata": {
    "collapsed": false
   },
   "outputs": [],
   "source": [
    "root = os.path.abspath('..')\n",
    "model_path = os.path.join(root, 'biosimulator_processes/model_files/BIOMD0000000061_url.xml')\n",
    "\n",
    "instance1 = {\n",
    "    'copasi': {\n",
    "        '_type': 'process',\n",
    "        'address': 'local:copasi',\n",
    "        'config': {\n",
    "            'model': {\n",
    "                'model_source': model_path\n",
    "            }\n",
    "        },\n",
    "        'inputs': {\n",
    "            'floating_species': ['floating_species_store'],\n",
    "            'model_parameters': ['model_parameters_store'],\n",
    "            'time': ['time_store'],\n",
    "            'reactions': ['reactions_store']\n",
    "        },\n",
    "        'outputs': {\n",
    "            'floating_species': ['floating_species_store'],\n",
    "            'time': ['time_store'],\n",
    "        }\n",
    "    },\n",
    "    'emitter': {\n",
    "        '_type': 'step',\n",
    "        'address': 'local:ram-emitter',\n",
    "        'config': {\n",
    "            'emit': {\n",
    "                'floating_species': 'tree[float]',\n",
    "                'time': 'float',\n",
    "            },\n",
    "        },\n",
    "        'inputs': {\n",
    "            'floating_species': ['floating_species_store'],\n",
    "            'time': ['time_store'],\n",
    "        }\n",
    "    }\n",
    "}"
   ]
  },
  {
   "cell_type": "markdown",
   "id": "e5199aee6d533761",
   "metadata": {
    "collapsed": false
   },
   "source": [
    "##### 2. Instantiate the Process-Bigraph-Engine with the Composite class"
   ]
  },
  {
   "cell_type": "code",
   "execution_count": null,
   "id": "4c2ef631b005be61",
   "metadata": {
    "collapsed": false
   },
   "outputs": [],
   "source": [
    "workflow = Composite({\n",
    "    'state': instance1\n",
    "})"
   ]
  },
  {
   "cell_type": "markdown",
   "id": "6a402e48fbc30a5b",
   "metadata": {
    "collapsed": false
   },
   "source": [
    "##### 3. Run the Composite workflow with the Engine"
   ]
  },
  {
   "cell_type": "code",
   "execution_count": null,
   "id": "98676149a4ce822f",
   "metadata": {
    "collapsed": false
   },
   "outputs": [],
   "source": [
    "workflow.run(10)"
   ]
  },
  {
   "cell_type": "markdown",
   "id": "d0ff3a2822a8fa2c",
   "metadata": {
    "collapsed": false
   },
   "source": [
    "##### 4. Gather and neatly-print the results."
   ]
  },
  {
   "cell_type": "code",
   "execution_count": null,
   "id": "c15cee593ef000a7",
   "metadata": {
    "collapsed": false
   },
   "outputs": [],
   "source": [
    "results = workflow.gather_results()\n",
    "\n",
    "print(f'RESULTS: {pf(results)}')"
   ]
  },
  {
   "cell_type": "markdown",
   "id": "b098a589f08ce138",
   "metadata": {
    "collapsed": false
   },
   "source": [
    "##### 5. Plot/Analyze the results with Plotly"
   ]
  },
  {
   "cell_type": "code",
   "execution_count": null,
   "id": "297504800772775e",
   "metadata": {
    "collapsed": false
   },
   "outputs": [],
   "source": [
    "# 5. Plot/Analyze the results"
   ]
  },
  {
   "cell_type": "markdown",
   "id": "2afe93d975ed2aee",
   "metadata": {
    "collapsed": false
   },
   "source": [
    "#### Example 2: Define a single-process composition from a given BioModels model id and make model changes. The options available for configuration of a `'model'` that can be run by the composite process are based on SEDML L1V4 specifications. Please note that not all parameters are required in this configuration."
   ]
  },
  {
   "cell_type": "code",
   "outputs": [],
   "source": [
    "CHANGES_SCHEMA"
   ],
   "metadata": {
    "collapsed": false
   },
   "id": "433d58bbe38402af",
   "execution_count": null
  },
  {
   "cell_type": "code",
   "outputs": [],
   "source": [
    "instance2 = {\n",
    "    'copasi': {\n",
    "        '_type': 'process',\n",
    "        'address': 'local:copasi',\n",
    "        'config': {\n",
    "            'model': {\n",
    "                'model_changes': {\n",
    "                    'reaction_changes': {\n",
    "                        'R1': 'A -> B'\n",
    "                    }\n",
    "                }\n",
    "            }\n",
    "        },\n",
    "        'inputs': {\n",
    "            'floating_species': ['floating_species_store'],\n",
    "            'model_parameters': ['model_parameters_store'],\n",
    "            'time': ['time_store'],\n",
    "            'reactions': ['reactions_store']\n",
    "        },\n",
    "        'outputs': {\n",
    "            'floating_species': ['floating_species_store'],\n",
    "            'time': ['time_store'],\n",
    "        }\n",
    "    },\n",
    "    'emitter': {\n",
    "        '_type': 'step',\n",
    "        'address': 'local:ram-emitter',\n",
    "        'config': {\n",
    "            'emit': {\n",
    "                'floating_species': 'tree[float]',\n",
    "                'time': 'float',\n",
    "            },\n",
    "        },\n",
    "        'inputs': {\n",
    "            'floating_species': ['floating_species_store'],\n",
    "            'time': ['time_store'],\n",
    "        }\n",
    "    }\n",
    "}\n",
    "\n",
    "\n",
    "results = play_composition(instance2, 10)"
   ],
   "metadata": {
    "collapsed": false
   },
   "id": "8178d3c295764eb6",
   "execution_count": null
  },
  {
   "cell_type": "code",
   "execution_count": null,
   "id": "1a51b92b-35af-4d94-b9d5-97da90cfa5bd",
   "metadata": {},
   "outputs": [],
   "source": []
  },
  {
   "cell_type": "markdown",
   "source": [
    "#### Example 2a: Define a single process with a different entrypoint."
   ],
   "metadata": {
    "collapsed": false
   },
   "id": "527d7217e4fc20c4"
  },
  {
   "cell_type": "markdown",
   "source": [
    "#### Example 3: Define multiple processes in the same instance for a parameter scan. "
   ],
   "metadata": {
    "collapsed": false
   },
   "id": "ebf2bf601e5054a6"
  },
  {
   "cell_type": "code",
   "outputs": [],
   "source": [
    "from biosimulator_processes.utils import generate_copasi_process_instance"
   ],
   "metadata": {
    "collapsed": false,
    "ExecuteTime": {
     "end_time": "2024-02-28T21:35:19.452122Z",
     "start_time": "2024-02-28T21:35:19.448652Z"
    }
   },
   "id": "56fe39f779b76c37",
   "execution_count": 3
  },
  {
   "cell_type": "code",
   "outputs": [
    {
     "ename": "SyntaxError",
     "evalue": "invalid syntax (2637470785.py, line 1)",
     "output_type": "error",
     "traceback": [
      "\u001B[0;36m  Cell \u001B[0;32mIn[1], line 1\u001B[0;36m\u001B[0m\n\u001B[0;31m    PARAM SCAN FROM LOADED BIOMODEL HERE:\u001B[0m\n\u001B[0m          ^\u001B[0m\n\u001B[0;31mSyntaxError\u001B[0m\u001B[0;31m:\u001B[0m invalid syntax\n"
     ]
    }
   ],
   "source": [
    "PARAM SCAN FROM LOADED BIOMODEL HERE:\n",
    "\n",
    "\n"
   ],
   "metadata": {
    "collapsed": false,
    "ExecuteTime": {
     "end_time": "2024-02-28T21:13:23.730761Z",
     "start_time": "2024-02-28T21:13:23.720343Z"
    }
   },
   "id": "c7280f14074f4b17",
   "execution_count": 1
  },
  {
   "cell_type": "code",
   "outputs": [],
   "source": [
    "parameter_scan_instance = {\n",
    "    'copasi_1': {\n",
    "        '_type': 'process',\n",
    "        'address': 'local:copasi',\n",
    "        'config': {\n",
    "            'model': {\n",
    "                'model_changes': {\n",
    "                    'reaction_changes': {\n",
    "                        'R1': 'A -> B'\n",
    "                    }\n",
    "                }\n",
    "            }\n",
    "        },\n",
    "        'inputs': {\n",
    "            'floating_species': ['floating_species_store'],\n",
    "            'model_parameters': ['model_parameters_store'],\n",
    "            'time': ['time_store'],\n",
    "            'reactions': ['reactions_store']\n",
    "        },\n",
    "        'outputs': {\n",
    "            'floating_species': ['floating_species_store'],\n",
    "            'time': ['time_store'],\n",
    "        }\n",
    "    },\n",
    "    'emitter': {\n",
    "        '_type': 'step',\n",
    "        'address': 'local:ram-emitter',\n",
    "        'config': {\n",
    "            'emit': {\n",
    "                'floating_species': 'tree[float]',\n",
    "                'time': 'float',\n",
    "            },\n",
    "        },\n",
    "        'inputs': {\n",
    "            'floating_species': ['floating_species_store'],\n",
    "            'time': ['time_store'],\n",
    "        }\n",
    "    }\n",
    "}"
   ],
   "metadata": {
    "collapsed": false,
    "ExecuteTime": {
     "end_time": "2024-02-28T21:13:23.952686Z",
     "start_time": "2024-02-28T21:13:23.945673Z"
    }
   },
   "id": "3b8a27c7dd246d02",
   "execution_count": 1
  },
  {
   "cell_type": "code",
   "outputs": [],
   "source": [
    "from biosimulator_processes.utils import generate_composite_copasi_process_instance as copasi_instance"
   ],
   "metadata": {
    "collapsed": false,
    "ExecuteTime": {
     "end_time": "2024-02-28T22:25:33.366994Z",
     "start_time": "2024-02-28T22:25:32.646371Z"
    }
   },
   "id": "57712e54678bcb70",
   "execution_count": 1
  },
  {
   "cell_type": "code",
   "outputs": [],
   "source": [
    "model_config = {\n",
    "    'model': {\n",
    "        'model_changes': {\n",
    "            'reaction_changes': {\n",
    "                'R1': 'A -> B'\n",
    "            }\n",
    "        }\n",
    "    }\n",
    "}\n",
    "\n",
    "\n",
    "instance = copasi_instance(\n",
    "    instance_name='copasi_A',\n",
    "    config=model_config,\n",
    "    add_emitter=True\n",
    ")"
   ],
   "metadata": {
    "collapsed": false,
    "ExecuteTime": {
     "end_time": "2024-02-28T22:25:51.771960Z",
     "start_time": "2024-02-28T22:25:51.763524Z"
    }
   },
   "id": "482579fdd5bb4350",
   "execution_count": 2
  },
  {
   "cell_type": "code",
   "outputs": [
    {
     "data": {
      "text/plain": "{'copasi_A': {'_type': 'process',\n  'address': 'local:copasi',\n  'config': {'model': {'model_changes': {'reaction_changes': {'R1': 'A -> B'}}}},\n  'inputs': {'floating_species': ['floating_species_store'],\n   'model_parameters': ['model_parameters_store'],\n   'time': ['time_store'],\n   'reactions': ['reactions_store']},\n  'outputs': {'floating_species': ['floating_species_store'],\n   'time': ['time_store']}},\n 'emitter': {'_type': 'step',\n  'address': 'local:ram-emitter',\n  'config': {'emit': {'floating_species': 'tree[float]', 'time': 'float'}},\n  'inputs': {'floating_species': ['floating_species_store'],\n   'time': ['time_store']}}}"
     },
     "execution_count": 3,
     "metadata": {},
     "output_type": "execute_result"
    }
   ],
   "source": [
    "instance"
   ],
   "metadata": {
    "collapsed": false,
    "ExecuteTime": {
     "end_time": "2024-02-28T22:25:53.779628Z",
     "start_time": "2024-02-28T22:25:53.774909Z"
    }
   },
   "id": "9e11e97613ec9e16",
   "execution_count": 3
  },
  {
   "cell_type": "code",
   "outputs": [],
   "source": [],
   "metadata": {
    "collapsed": false
   },
   "id": "1ecc10e496abe9cb"
  }
 ],
 "metadata": {
  "kernelspec": {
   "display_name": "Python 3 (ipykernel)",
   "language": "python",
   "name": "python3"
  },
  "language_info": {
   "codemirror_mode": {
    "name": "ipython",
    "version": 3
   },
   "file_extension": ".py",
   "mimetype": "text/x-python",
   "name": "python",
   "nbconvert_exporter": "python",
   "pygments_lexer": "ipython3",
   "version": "3.10.13"
  }
 },
 "nbformat": 4,
 "nbformat_minor": 5
}
