{
 "cells": [
  {
   "cell_type": "code",
   "execution_count": 1,
   "id": "initial_id",
   "metadata": {
    "collapsed": true,
    "ExecuteTime": {
     "end_time": "2024-02-29T20:09:15.122840Z",
     "start_time": "2024-02-29T20:09:11.890820Z"
    }
   },
   "outputs": [
    {
     "name": "stdout",
     "output_type": "stream",
     "text": [
      "CobraProcess registered successfully.\n",
      "CopasiProcess registered successfully.\n",
      "SmoldynProcess registered successfully.\n",
      "TelluriumProcess registered successfully.\n"
     ]
    }
   ],
   "source": [
    "import sys\n",
    "\n",
    "sys.path.insert(0, '..')\n",
    "import os\n",
    "from basico import *\n",
    "from process_bigraph import Composite, pf\n",
    "from builder import Builder, Process as builderProcess, ProcessTypes\n",
    "from biosimulator_processes.processes.copasi_process import CopasiProcess\n",
    "from biosimulator_processes.process_types import MODEL_TYPE, CHANGES_SCHEMA\n",
    "from biosimulator_processes.utils import play_composition"
   ]
  },
  {
   "cell_type": "code",
   "outputs": [
    {
     "data": {
      "text/plain": "{'model_id': 'string',\n 'model_source': 'string',\n 'model_language': {'_type': 'string', '_default': 'sbml'},\n 'model_name': {'_type': 'string', '_default': 'composite_process_model'},\n 'model_changes': {'species_changes': 'tree[string]',\n  'global_parameter_changes': 'tree[string]',\n  'reaction_changes': 'tree[string]'},\n 'model_units': 'tree[string]'}"
     },
     "execution_count": 2,
     "metadata": {},
     "output_type": "execute_result"
    }
   ],
   "source": [
    "MODEL_TYPE"
   ],
   "metadata": {
    "collapsed": false,
    "ExecuteTime": {
     "end_time": "2024-02-29T20:10:05.286585Z",
     "start_time": "2024-02-29T20:10:05.282904Z"
    }
   },
   "id": "774d37b1e2bcb0c7",
   "execution_count": 2
  },
  {
   "cell_type": "code",
   "outputs": [],
   "source": [],
   "metadata": {
    "collapsed": false
   },
   "id": "5660853c0ff3a9d1"
  }
 ],
 "metadata": {
  "kernelspec": {
   "display_name": "Python 3",
   "language": "python",
   "name": "python3"
  },
  "language_info": {
   "codemirror_mode": {
    "name": "ipython",
    "version": 2
   },
   "file_extension": ".py",
   "mimetype": "text/x-python",
   "name": "python",
   "nbconvert_exporter": "python",
   "pygments_lexer": "ipython2",
   "version": "2.7.6"
  }
 },
 "nbformat": 4,
 "nbformat_minor": 5
}
