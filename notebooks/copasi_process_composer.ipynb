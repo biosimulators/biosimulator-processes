{
 "cells": [
  {
   "cell_type": "markdown",
   "id": "d0676f702366d09c",
   "metadata": {
    "collapsed": false
   },
   "source": [
    "# CopasiProcess Composer"
   ]
  },
  {
   "cell_type": "code",
   "execution_count": null,
   "id": "initial_id",
   "metadata": {},
   "outputs": [],
   "source": [
    "import sys \n",
    "\n",
    "sys.path.insert(0, '..')"
   ]
  },
  {
   "cell_type": "code",
   "execution_count": null,
   "id": "c6c10dc5988e52d4",
   "metadata": {
    "collapsed": false
   },
   "outputs": [],
   "source": [
    "import os \n",
    "from basico import *\n",
    "from process_bigraph import Composite, pf \n",
    "from biosimulator_processes.processes.copasi_process import CopasiProcess\n",
    "from biosimulator_processes.process_types import MODEL_TYPE, CHANGES_SCHEMA"
   ]
  },
  {
   "cell_type": "code",
   "outputs": [],
   "source": [
    "def play_composition(instance: dict, duration: int):\n",
    "    workflow = Composite({\n",
    "        'state': instance\n",
    "    })\n",
    "    workflow.run(duration)\n",
    "    results = workflow.gather_results()\n",
    "    print(f'RESULTS: {pf(results)}')\n",
    "    return results"
   ],
   "metadata": {
    "collapsed": false
   },
   "id": "241f9f2d915e857c"
  },
  {
   "cell_type": "markdown",
   "id": "ac92611c7adf47e1",
   "metadata": {
    "collapsed": false
   },
   "source": [
    "### Example 1: Define a single process instance and a corresponding emitter"
   ]
  },
  {
   "cell_type": "markdown",
   "id": "8608877d697af60c",
   "metadata": {
    "collapsed": false
   },
   "source": [
    "##### 1. Define the schema by which our Composite instance will be configured. Here a user chooses an entrypoint through which to instantiate the composite process. We will use an SBML-encoded model file as our entrypoint in this example."
   ]
  },
  {
   "cell_type": "markdown",
   "source": [
    "\n",
    "##### **As per the `CopasiProcess` constructor, there are three primary methods of entry:**\n",
    "    \n",
    "\n",
    "    # Parse values from the process `config` attribute dictionary:\n",
    "    \n",
    "        model_file = self.config.get('model').get('model_source')\n",
    "        sed_model_id = self.config.get('model').get('model_id')\n",
    "        biomodel_id = self.config.get('biomodel_id')\n",
    "        source_model_id = biomodel_id or sed_model_id\n",
    "\n",
    "\n",
    "    # A. enter with model_file\n",
    "    \n",
    "        if model_file:\n",
    "            self.copasi_model_object = load_model(model_file)\n",
    "    \n",
    "\n",
    "    # B. enter with specific search term for a model\n",
    "     \n",
    "        elif source_model_id:\n",
    "            self.copasi_model_object = fetch_biomodel(model_id=source_model_id)\n",
    "    \n",
    "\n",
    "    # C. enter with a new model\n",
    "    \n",
    "        else:\n",
    "            self.copasi_model_object = new_model(name='CopasiProcess Model')"
   ],
   "metadata": {
    "collapsed": false
   },
   "id": "63a90540d44034e1"
  },
  {
   "cell_type": "markdown",
   "source": [
    "##### Here we define the schema for a single process based on the provided entrypoint."
   ],
   "metadata": {
    "collapsed": false
   },
   "id": "c2537269b7efeee0"
  },
  {
   "cell_type": "code",
   "execution_count": null,
   "id": "77636dbde3fa6b74",
   "metadata": {
    "collapsed": false
   },
   "outputs": [],
   "source": [
    "root = os.path.abspath('..')\n",
    "model_path = os.path.join(root, 'biosimulator_processes/model_files/BIOMD0000000061_url.xml')\n",
    "\n",
    "instance1 = {\n",
    "    'copasi': {\n",
    "        '_type': 'process',\n",
    "        'address': 'local:copasi',\n",
    "        'config': {\n",
    "            'model': {\n",
    "                'model_source': model_path\n",
    "            }\n",
    "        },\n",
    "        'inputs': {\n",
    "            'floating_species': ['floating_species_store'],\n",
    "            'model_parameters': ['model_parameters_store'],\n",
    "            'time': ['time_store'],\n",
    "            'reactions': ['reactions_store']\n",
    "        },\n",
    "        'outputs': {\n",
    "            'floating_species': ['floating_species_store'],\n",
    "            'time': ['time_store'],\n",
    "        }\n",
    "    },\n",
    "    'emitter': {\n",
    "        '_type': 'step',\n",
    "        'address': 'local:ram-emitter',\n",
    "        'config': {\n",
    "            'emit': {\n",
    "                'floating_species': 'tree[float]',\n",
    "                'time': 'float',\n",
    "            },\n",
    "        },\n",
    "        'inputs': {\n",
    "            'floating_species': ['floating_species_store'],\n",
    "            'time': ['time_store'],\n",
    "        }\n",
    "    }\n",
    "}"
   ]
  },
  {
   "cell_type": "markdown",
   "id": "e5199aee6d533761",
   "metadata": {
    "collapsed": false
   },
   "source": [
    "##### 2. Instantiate the Process-Bigraph-Engine with the Composite class"
   ]
  },
  {
   "cell_type": "code",
   "execution_count": null,
   "id": "4c2ef631b005be61",
   "metadata": {
    "collapsed": false
   },
   "outputs": [],
   "source": [
    "workflow = Composite({\n",
    "    'state': instance1\n",
    "})"
   ]
  },
  {
   "cell_type": "markdown",
   "id": "6a402e48fbc30a5b",
   "metadata": {
    "collapsed": false
   },
   "source": [
    "##### 3. Run the Composite workflow with the Engine"
   ]
  },
  {
   "cell_type": "code",
   "execution_count": null,
   "id": "98676149a4ce822f",
   "metadata": {
    "collapsed": false
   },
   "outputs": [],
   "source": [
    "workflow.run(10)"
   ]
  },
  {
   "cell_type": "markdown",
   "id": "d0ff3a2822a8fa2c",
   "metadata": {
    "collapsed": false
   },
   "source": [
    "##### 4. Gather and neatly-print the results."
   ]
  },
  {
   "cell_type": "code",
   "execution_count": null,
   "id": "c15cee593ef000a7",
   "metadata": {
    "collapsed": false
   },
   "outputs": [],
   "source": [
    "results = workflow.gather_results()\n",
    "\n",
    "print(f'RESULTS: {pf(results)}')"
   ]
  },
  {
   "cell_type": "markdown",
   "id": "b098a589f08ce138",
   "metadata": {
    "collapsed": false
   },
   "source": [
    "##### 5. Plot/Analyze the results with Plotly"
   ]
  },
  {
   "cell_type": "code",
   "execution_count": null,
   "id": "297504800772775e",
   "metadata": {
    "collapsed": false
   },
   "outputs": [],
   "source": [
    "# 5. Plot/Analyze the results"
   ]
  },
  {
   "cell_type": "markdown",
   "id": "2afe93d975ed2aee",
   "metadata": {
    "collapsed": false
   },
   "source": [
    "#### Example 2: Define a single-process composition from a given BioModels model id and make model changes. The options available for configuration of a `'model'` that can be run by the composite process are based on SEDML L1V4 specifications. Please note that not all parameters are required in this configuration."
   ]
  },
  {
   "cell_type": "code",
   "outputs": [],
   "source": [
    "CHANGES_SCHEMA"
   ],
   "metadata": {
    "collapsed": false
   },
   "id": "433d58bbe38402af",
   "execution_count": null
  },
  {
   "cell_type": "code",
   "outputs": [],
   "source": [
    "instance2 = {\n",
    "    'copasi': {\n",
    "        '_type': 'process',\n",
    "        'address': 'local:copasi',\n",
    "        'config': {\n",
    "            'model': {\n",
    "                'model_changes': {\n",
    "                    'reaction_changes': {\n",
    "                        'R1': 'A -> B'\n",
    "                    }\n",
    "                }\n",
    "            }\n",
    "        },\n",
    "        'inputs': {\n",
    "            'floating_species': ['floating_species_store'],\n",
    "            'model_parameters': ['model_parameters_store'],\n",
    "            'time': ['time_store'],\n",
    "            'reactions': ['reactions_store']\n",
    "        },\n",
    "        'outputs': {\n",
    "            'floating_species': ['floating_species_store'],\n",
    "            'time': ['time_store'],\n",
    "        }\n",
    "    },\n",
    "    'emitter': {\n",
    "        '_type': 'step',\n",
    "        'address': 'local:ram-emitter',\n",
    "        'config': {\n",
    "            'emit': {\n",
    "                'floating_species': 'tree[float]',\n",
    "                'time': 'float',\n",
    "            },\n",
    "        },\n",
    "        'inputs': {\n",
    "            'floating_species': ['floating_species_store'],\n",
    "            'time': ['time_store'],\n",
    "        }\n",
    "    }\n",
    "}\n",
    "\n",
    "\n",
    "results = play_composition(instance2, 10)"
   ],
   "metadata": {
    "collapsed": false
   },
   "id": "8178d3c295764eb6",
   "execution_count": null
  },
  {
   "cell_type": "code",
   "execution_count": null,
   "id": "1a51b92b-35af-4d94-b9d5-97da90cfa5bd",
   "metadata": {},
   "outputs": [],
   "source": []
  },
  {
   "cell_type": "markdown",
   "source": [
    "#### Example 2a: Define a single process with a different entrypoint."
   ],
   "metadata": {
    "collapsed": false
   },
   "id": "527d7217e4fc20c4"
  },
  {
   "cell_type": "markdown",
   "source": [
    "#### Example 3: Define multiple processes in the same instance for a parameter scan. "
   ],
   "metadata": {
    "collapsed": false
   },
   "id": "ebf2bf601e5054a6"
  },
  {
   "cell_type": "code",
   "outputs": [],
   "source": [
    "from biosimulator_processes.utils import generate_copasi_process_instance"
   ],
   "metadata": {
    "collapsed": false,
    "ExecuteTime": {
     "end_time": "2024-02-28T21:21:05.924230Z",
     "start_time": "2024-02-28T21:21:05.401040Z"
    }
   },
   "id": "56fe39f779b76c37",
   "execution_count": 2
  },
  {
   "cell_type": "code",
   "outputs": [
    {
     "ename": "SyntaxError",
     "evalue": "invalid syntax (2637470785.py, line 1)",
     "output_type": "error",
     "traceback": [
      "\u001B[0;36m  Cell \u001B[0;32mIn[1], line 1\u001B[0;36m\u001B[0m\n\u001B[0;31m    PARAM SCAN FROM LOADED BIOMODEL HERE:\u001B[0m\n\u001B[0m          ^\u001B[0m\n\u001B[0;31mSyntaxError\u001B[0m\u001B[0;31m:\u001B[0m invalid syntax\n"
     ]
    }
   ],
   "source": [
    "PARAM SCAN FROM LOADED BIOMODEL HERE:\n",
    "\n",
    "\n"
   ],
   "metadata": {
    "collapsed": false,
    "ExecuteTime": {
     "end_time": "2024-02-28T21:13:23.730761Z",
     "start_time": "2024-02-28T21:13:23.720343Z"
    }
   },
   "id": "c7280f14074f4b17",
   "execution_count": 1
  },
  {
   "cell_type": "code",
   "outputs": [],
   "source": [
    "parameter_scan_instance = {\n",
    "    'copasi_1': {\n",
    "        '_type': 'process',\n",
    "        'address': 'local:copasi',\n",
    "        'config': {\n",
    "            'model': {\n",
    "                'model_changes': {\n",
    "                    'reaction_changes': {\n",
    "                        'R1': 'A -> B'\n",
    "                    }\n",
    "                }\n",
    "            }\n",
    "        },\n",
    "        'inputs': {\n",
    "            'floating_species': ['floating_species_store'],\n",
    "            'model_parameters': ['model_parameters_store'],\n",
    "            'time': ['time_store'],\n",
    "            'reactions': ['reactions_store']\n",
    "        },\n",
    "        'outputs': {\n",
    "            'floating_species': ['floating_species_store'],\n",
    "            'time': ['time_store'],\n",
    "        }\n",
    "    },\n",
    "    'emitter': {\n",
    "        '_type': 'step',\n",
    "        'address': 'local:ram-emitter',\n",
    "        'config': {\n",
    "            'emit': {\n",
    "                'floating_species': 'tree[float]',\n",
    "                'time': 'float',\n",
    "            },\n",
    "        },\n",
    "        'inputs': {\n",
    "            'floating_species': ['floating_species_store'],\n",
    "            'time': ['time_store'],\n",
    "        }\n",
    "    }\n",
    "}"
   ],
   "metadata": {
    "collapsed": false,
    "ExecuteTime": {
     "end_time": "2024-02-28T21:13:23.952686Z",
     "start_time": "2024-02-28T21:13:23.945673Z"
    }
   },
   "id": "3b8a27c7dd246d02",
   "execution_count": 1
  },
  {
   "cell_type": "code",
   "outputs": [],
   "source": [],
   "metadata": {
    "collapsed": false
   },
   "id": "57712e54678bcb70"
  }
 ],
 "metadata": {
  "kernelspec": {
   "display_name": "Python 3 (ipykernel)",
   "language": "python",
   "name": "python3"
  },
  "language_info": {
   "codemirror_mode": {
    "name": "ipython",
    "version": 3
   },
   "file_extension": ".py",
   "mimetype": "text/x-python",
   "name": "python",
   "nbconvert_exporter": "python",
   "pygments_lexer": "ipython3",
   "version": "3.10.13"
  }
 },
 "nbformat": 4,
 "nbformat_minor": 5
}
