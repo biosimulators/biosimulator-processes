{
 "cells": [
  {
   "cell_type": "markdown",
   "source": [
    "## Examples with ```CopasiProcess``` using ``builder.Builder`` and ``biosimulator_processes.data_model``"
   ],
   "metadata": {
    "collapsed": false
   },
   "id": "9f7cc96191d5a2ba"
  },
  {
   "cell_type": "code",
   "execution_count": 4,
   "outputs": [],
   "source": [
    "import sys \n",
    "\n",
    "sys.path.insert(0, '..')"
   ],
   "metadata": {
    "collapsed": false,
    "ExecuteTime": {
     "end_time": "2024-03-04T15:21:16.245495Z",
     "start_time": "2024-03-04T15:21:16.239915Z"
    }
   },
   "id": "b43cd4493a594e60"
  },
  {
   "cell_type": "code",
   "execution_count": 5,
   "outputs": [
    {
     "name": "stdout",
     "output_type": "stream",
     "text": [
      "CobraProcess registered successfully.\n",
      "CopasiProcess registered successfully.\n",
      "SmoldynProcess registered successfully.\n",
      "TelluriumProcess registered successfully.\n"
     ]
    }
   ],
   "source": [
    "from builder import Builder, Process\n",
    "from process_bigraph import pp, pf \n",
    "from biosimulator_processes import CORE\n",
    "from biosimulator_processes.data_model import *\n",
    "from biosimulator_processes.biosimulator_builder import BiosimulatorBuilder"
   ],
   "metadata": {
    "collapsed": false,
    "ExecuteTime": {
     "end_time": "2024-03-04T15:21:17.587868Z",
     "start_time": "2024-03-04T15:21:16.425455Z"
    }
   },
   "id": "65385e04f4f5dd1a"
  },
  {
   "cell_type": "markdown",
   "source": [
    "#### Initialize a fresh instance of the `BiosimulatorBuilder`, which is inherently configured by `biosimulator_processes.CORE`."
   ],
   "metadata": {
    "collapsed": false
   },
   "id": "99dbe025aeccc23e"
  },
  {
   "cell_type": "code",
   "execution_count": null,
   "outputs": [],
   "source": [
    "b = BiosimulatorBuilder()"
   ],
   "metadata": {
    "collapsed": false
   },
   "id": "cc709690e20090cf"
  },
  {
   "cell_type": "code",
   "execution_count": null,
   "outputs": [],
   "source": [
    "###### list registered processes\n",
    "\n",
    "b.list_processes()"
   ],
   "metadata": {
    "collapsed": false
   },
   "id": "41034be54d9cf16"
  },
  {
   "cell_type": "markdown",
   "source": [
    "Let's load a BIOMODEL from `basico` and inspect the parameters we can adjust:"
   ],
   "metadata": {
    "collapsed": false
   },
   "id": "f46d9983b127470"
  },
  {
   "cell_type": "code",
   "execution_count": null,
   "outputs": [],
   "source": [],
   "metadata": {
    "collapsed": false
   },
   "id": "f1e5eedb251a22c3"
  },
  {
   "cell_type": "markdown",
   "source": [
    "#### Example 1: Add a simple `CopasiProcess`-based composite to the bigraph, specifying parameter values through the `data_model`. For now, let's try loading a biomodel and adding a change to initial concentration of a species. We will then add another copasi process instance, whose model is this time loaded from a file (to demonstrate the data model)"
   ],
   "metadata": {
    "collapsed": false
   },
   "id": "eea00feb4c2651d6"
  },
  {
   "cell_type": "markdown",
   "source": [
    "Let's define a model instance from a file."
   ],
   "metadata": {
    "collapsed": false
   },
   "id": "640f49c1e61f116d"
  },
  {
   "cell_type": "code",
   "outputs": [],
   "source": [
    "from basico import * \n",
    "\n",
    "\n",
    "model_filepath = '../biosimulator_processes/model_files/BIOMD0000000061_url.xml'\n",
    "\n",
    "os.path.exists(model_filepath)"
   ],
   "metadata": {
    "collapsed": false
   },
   "id": "edf123175ec3408c",
   "execution_count": null
  },
  {
   "cell_type": "code",
   "outputs": [],
   "source": [
    "model_from_file = load_model(model_filepath)\n",
    "get_species(model=model_from_file)"
   ],
   "metadata": {
    "collapsed": false
   },
   "id": "40ab6f70ac3f4996",
   "execution_count": null
  },
  {
   "cell_type": "code",
   "execution_count": null,
   "outputs": [],
   "source": [
    "# 1. specify model changes\n",
    "process_model_changes = ModelChanges(\n",
    "    species_changes=[SpeciesChanges(name='ADP', initial_concentration=2.1**3)]\n",
    ")\n",
    "\n",
    "\n",
    "pp(process_model_changes.model_dump())"
   ],
   "metadata": {
    "collapsed": false
   },
   "id": "d02a547b85138f96"
  },
  {
   "cell_type": "code",
   "execution_count": null,
   "outputs": [],
   "source": [
    "# 2. define the model schema to be used by the composite process (one of the copasiprocess config parameters)\n",
    "\n",
    "process_model_from_file = Model(\n",
    "    model_id='copasi_process_from_file',\n",
    "    model_source=model_filepath,\n",
    "    model_name='Simple Composite Process from File',\n",
    "    model_changes=process_model_changes\n",
    ")\n",
    "\n",
    "\n",
    "pp(process_model_from_file.model_dump())"
   ],
   "metadata": {
    "collapsed": false
   },
   "id": "1b6c269646357d7d"
  },
  {
   "cell_type": "code",
   "execution_count": null,
   "outputs": [],
   "source": [
    "# 3. Define config schema to be used as 'config' parameter of Process constructor\n",
    "process_config_from_file = CopasiProcessConfigSchema(\n",
    "    method='stochastic',\n",
    "    model=process_model_from_file,\n",
    "    process_name='simple_copasi'\n",
    ")\n",
    "\n",
    "\n",
    "pp(process_config_from_file.model_dump())"
   ],
   "metadata": {
    "collapsed": false
   },
   "id": "5d434956e65b1a42"
  },
  {
   "cell_type": "code",
   "execution_count": null,
   "outputs": [],
   "source": [
    "process_config_from_file.model"
   ],
   "metadata": {
    "collapsed": false
   },
   "id": "de88e95d8f616779"
  },
  {
   "cell_type": "code",
   "execution_count": null,
   "outputs": [],
   "source": [
    "# 4. Add the process instance by the name of 'simple_copasi' to the builder\n",
    "\n",
    "\n",
    "b[process_config_from_file.process_name].add_process(\n",
    "    name='CopasiProcess',\n",
    "    model=process_config_from_file.model,\n",
    "    method=process_config_from_file.method\n",
    ")"
   ],
   "metadata": {
    "collapsed": false
   },
   "id": "52d81ea2ea688d47"
  },
  {
   "cell_type": "markdown",
   "source": [
    "Let's load a BIOMODEL from `basico` and inspect the parameters we can adjust, and then add it to the composite process:"
   ],
   "metadata": {
    "collapsed": false
   },
   "id": "bfd4af678329923a"
  },
  {
   "cell_type": "code",
   "execution_count": 1,
   "outputs": [
    {
     "data": {
      "text/plain": "             compartment       type    unit  initial_concentration  \\\nname                                                                 \nEpoRJAK2             cyt  reactions  nmol/l           3.976220e+00   \nEpoRpJAK2            cyt  reactions  nmol/l           0.000000e+00   \np1EpoRpJAK2          cyt  reactions  nmol/l           0.000000e+00   \np2EpoRpJAK2          cyt  reactions  nmol/l           0.000000e+00   \np12EpoRpJAK2         cyt  reactions  nmol/l           0.000000e+00   \nEpoRJAK2_CIS         cyt  reactions  nmol/l           0.000000e+00   \nSHP1                 cyt  reactions  nmol/l           2.672510e+01   \nSHP1Act              cyt  reactions  nmol/l           0.000000e+00   \nSTAT5                cyt  reactions  nmol/l           7.975350e+01   \npSTAT5               cyt  reactions  nmol/l           0.000000e+00   \nnpSTAT5              nuc  reactions  nmol/l           0.000000e+00   \nCISnRNA1             nuc  reactions  nmol/l           0.000000e+00   \nCISnRNA2             nuc  reactions  nmol/l           0.000000e+00   \nCISnRNA3             nuc  reactions  nmol/l           0.000000e+00   \nCISnRNA4             nuc  reactions  nmol/l           0.000000e+00   \nCISnRNA5             nuc  reactions  nmol/l           0.000000e+00   \nCISRNA               cyt  reactions  nmol/l           0.000000e+00   \nCIS                  cyt  reactions  nmol/l           0.000000e+00   \nSOCS3nRNA1           nuc  reactions  nmol/l           0.000000e+00   \nSOCS3nRNA2           nuc  reactions  nmol/l           0.000000e+00   \nSOCS3nRNA3           nuc  reactions  nmol/l           0.000000e+00   \nSOCS3nRNA4           nuc  reactions  nmol/l           0.000000e+00   \nSOCS3nRNA5           nuc  reactions  nmol/l           0.000000e+00   \nSOCS3RNA             cyt  reactions  nmol/l           0.000000e+00   \nSOCS3                cyt  reactions  nmol/l           0.000000e+00   \nEpo                  cyt  reactions  nmol/l           1.249970e-07   \n\n              initial_particle_number initial_expression expression  \\\nname                                                                  \nEpoRJAK2                 9.578143e+14                                 \nEpoRpJAK2                0.000000e+00                                 \np1EpoRpJAK2              0.000000e+00                                 \np2EpoRpJAK2              0.000000e+00                                 \np12EpoRpJAK2             0.000000e+00                                 \nEpoRJAK2_CIS             0.000000e+00                                 \nSHP1                     6.437693e+15                                 \nSHP1Act                  0.000000e+00                                 \nSTAT5                    1.921147e+16                                 \npSTAT5                   0.000000e+00                                 \nnpSTAT5                  0.000000e+00                                 \nCISnRNA1                 0.000000e+00                                 \nCISnRNA2                 0.000000e+00                                 \nCISnRNA3                 0.000000e+00                                 \nCISnRNA4                 0.000000e+00                                 \nCISnRNA5                 0.000000e+00                                 \nCISRNA                   0.000000e+00                                 \nCIS                      0.000000e+00                                 \nSOCS3nRNA1               0.000000e+00                                 \nSOCS3nRNA2               0.000000e+00                                 \nSOCS3nRNA3               0.000000e+00                                 \nSOCS3nRNA4               0.000000e+00                                 \nSOCS3nRNA5               0.000000e+00                                 \nSOCS3RNA                 0.000000e+00                                 \nSOCS3                    0.000000e+00                                 \nEpo                      3.010998e+07                                 \n\n              concentration  particle_number      rate  particle_number_rate  \\\nname                                                                           \nEpoRJAK2       3.976220e+00     9.578143e+14 -0.314737         -7.581552e+13   \nEpoRpJAK2      0.000000e+00     0.000000e+00  0.314737          7.581552e+13   \np1EpoRpJAK2    0.000000e+00     0.000000e+00  0.000000          0.000000e+00   \np2EpoRpJAK2    0.000000e+00     0.000000e+00  0.000000          0.000000e+00   \np12EpoRpJAK2   0.000000e+00     0.000000e+00  0.000000          0.000000e+00   \nEpoRJAK2_CIS   0.000000e+00     0.000000e+00  0.000000          0.000000e+00   \nSHP1           2.672510e+01     6.437693e+15  0.000000          0.000000e+00   \nSHP1Act        0.000000e+00     0.000000e+00  0.000000          0.000000e+00   \nSTAT5          7.975350e+01     1.921147e+16  0.000000          0.000000e+00   \npSTAT5         0.000000e+00     0.000000e+00  0.000000          0.000000e+00   \nnpSTAT5        0.000000e+00     0.000000e+00  0.000000          0.000000e+00   \nCISnRNA1       0.000000e+00     0.000000e+00  0.000000          0.000000e+00   \nCISnRNA2       0.000000e+00     0.000000e+00  0.000000          0.000000e+00   \nCISnRNA3       0.000000e+00     0.000000e+00  0.000000          0.000000e+00   \nCISnRNA4       0.000000e+00     0.000000e+00  0.000000          0.000000e+00   \nCISnRNA5       0.000000e+00     0.000000e+00  0.000000          0.000000e+00   \nCISRNA         0.000000e+00     0.000000e+00  0.000000          0.000000e+00   \nCIS            0.000000e+00     0.000000e+00  0.000000          0.000000e+00   \nSOCS3nRNA1     0.000000e+00     0.000000e+00  0.000000          0.000000e+00   \nSOCS3nRNA2     0.000000e+00     0.000000e+00  0.000000          0.000000e+00   \nSOCS3nRNA3     0.000000e+00     0.000000e+00  0.000000          0.000000e+00   \nSOCS3nRNA4     0.000000e+00     0.000000e+00  0.000000          0.000000e+00   \nSOCS3nRNA5     0.000000e+00     0.000000e+00  0.000000          0.000000e+00   \nSOCS3RNA       0.000000e+00     0.000000e+00  0.000000          0.000000e+00   \nSOCS3          0.000000e+00     0.000000e+00  0.000000          0.000000e+00   \nEpo            1.249970e-07     3.010998e+07  0.000000          0.000000e+00   \n\n                        key       sbml_id  \nname                                       \nEpoRJAK2       Metabolite_0      EpoRJAK2  \nEpoRpJAK2      Metabolite_1     EpoRpJAK2  \np1EpoRpJAK2    Metabolite_2   p1EpoRpJAK2  \np2EpoRpJAK2    Metabolite_3   p2EpoRpJAK2  \np12EpoRpJAK2   Metabolite_4  p12EpoRpJAK2  \nEpoRJAK2_CIS   Metabolite_5  EpoRJAK2_CIS  \nSHP1           Metabolite_6          SHP1  \nSHP1Act        Metabolite_7       SHP1Act  \nSTAT5          Metabolite_8         STAT5  \npSTAT5         Metabolite_9        pSTAT5  \nnpSTAT5       Metabolite_10       npSTAT5  \nCISnRNA1      Metabolite_11      CISnRNA1  \nCISnRNA2      Metabolite_12      CISnRNA2  \nCISnRNA3      Metabolite_13      CISnRNA3  \nCISnRNA4      Metabolite_14      CISnRNA4  \nCISnRNA5      Metabolite_15      CISnRNA5  \nCISRNA        Metabolite_16        CISRNA  \nCIS           Metabolite_17           CIS  \nSOCS3nRNA1    Metabolite_18    SOCS3nRNA1  \nSOCS3nRNA2    Metabolite_19    SOCS3nRNA2  \nSOCS3nRNA3    Metabolite_20    SOCS3nRNA3  \nSOCS3nRNA4    Metabolite_21    SOCS3nRNA4  \nSOCS3nRNA5    Metabolite_22    SOCS3nRNA5  \nSOCS3RNA      Metabolite_23      SOCS3RNA  \nSOCS3         Metabolite_24         SOCS3  \nEpo           Metabolite_25           Epo  ",
      "text/html": "<div>\n<style scoped>\n    .dataframe tbody tr th:only-of-type {\n        vertical-align: middle;\n    }\n\n    .dataframe tbody tr th {\n        vertical-align: top;\n    }\n\n    .dataframe thead th {\n        text-align: right;\n    }\n</style>\n<table border=\"1\" class=\"dataframe\">\n  <thead>\n    <tr style=\"text-align: right;\">\n      <th></th>\n      <th>compartment</th>\n      <th>type</th>\n      <th>unit</th>\n      <th>initial_concentration</th>\n      <th>initial_particle_number</th>\n      <th>initial_expression</th>\n      <th>expression</th>\n      <th>concentration</th>\n      <th>particle_number</th>\n      <th>rate</th>\n      <th>particle_number_rate</th>\n      <th>key</th>\n      <th>sbml_id</th>\n    </tr>\n    <tr>\n      <th>name</th>\n      <th></th>\n      <th></th>\n      <th></th>\n      <th></th>\n      <th></th>\n      <th></th>\n      <th></th>\n      <th></th>\n      <th></th>\n      <th></th>\n      <th></th>\n      <th></th>\n      <th></th>\n    </tr>\n  </thead>\n  <tbody>\n    <tr>\n      <th>EpoRJAK2</th>\n      <td>cyt</td>\n      <td>reactions</td>\n      <td>nmol/l</td>\n      <td>3.976220e+00</td>\n      <td>9.578143e+14</td>\n      <td></td>\n      <td></td>\n      <td>3.976220e+00</td>\n      <td>9.578143e+14</td>\n      <td>-0.314737</td>\n      <td>-7.581552e+13</td>\n      <td>Metabolite_0</td>\n      <td>EpoRJAK2</td>\n    </tr>\n    <tr>\n      <th>EpoRpJAK2</th>\n      <td>cyt</td>\n      <td>reactions</td>\n      <td>nmol/l</td>\n      <td>0.000000e+00</td>\n      <td>0.000000e+00</td>\n      <td></td>\n      <td></td>\n      <td>0.000000e+00</td>\n      <td>0.000000e+00</td>\n      <td>0.314737</td>\n      <td>7.581552e+13</td>\n      <td>Metabolite_1</td>\n      <td>EpoRpJAK2</td>\n    </tr>\n    <tr>\n      <th>p1EpoRpJAK2</th>\n      <td>cyt</td>\n      <td>reactions</td>\n      <td>nmol/l</td>\n      <td>0.000000e+00</td>\n      <td>0.000000e+00</td>\n      <td></td>\n      <td></td>\n      <td>0.000000e+00</td>\n      <td>0.000000e+00</td>\n      <td>0.000000</td>\n      <td>0.000000e+00</td>\n      <td>Metabolite_2</td>\n      <td>p1EpoRpJAK2</td>\n    </tr>\n    <tr>\n      <th>p2EpoRpJAK2</th>\n      <td>cyt</td>\n      <td>reactions</td>\n      <td>nmol/l</td>\n      <td>0.000000e+00</td>\n      <td>0.000000e+00</td>\n      <td></td>\n      <td></td>\n      <td>0.000000e+00</td>\n      <td>0.000000e+00</td>\n      <td>0.000000</td>\n      <td>0.000000e+00</td>\n      <td>Metabolite_3</td>\n      <td>p2EpoRpJAK2</td>\n    </tr>\n    <tr>\n      <th>p12EpoRpJAK2</th>\n      <td>cyt</td>\n      <td>reactions</td>\n      <td>nmol/l</td>\n      <td>0.000000e+00</td>\n      <td>0.000000e+00</td>\n      <td></td>\n      <td></td>\n      <td>0.000000e+00</td>\n      <td>0.000000e+00</td>\n      <td>0.000000</td>\n      <td>0.000000e+00</td>\n      <td>Metabolite_4</td>\n      <td>p12EpoRpJAK2</td>\n    </tr>\n    <tr>\n      <th>EpoRJAK2_CIS</th>\n      <td>cyt</td>\n      <td>reactions</td>\n      <td>nmol/l</td>\n      <td>0.000000e+00</td>\n      <td>0.000000e+00</td>\n      <td></td>\n      <td></td>\n      <td>0.000000e+00</td>\n      <td>0.000000e+00</td>\n      <td>0.000000</td>\n      <td>0.000000e+00</td>\n      <td>Metabolite_5</td>\n      <td>EpoRJAK2_CIS</td>\n    </tr>\n    <tr>\n      <th>SHP1</th>\n      <td>cyt</td>\n      <td>reactions</td>\n      <td>nmol/l</td>\n      <td>2.672510e+01</td>\n      <td>6.437693e+15</td>\n      <td></td>\n      <td></td>\n      <td>2.672510e+01</td>\n      <td>6.437693e+15</td>\n      <td>0.000000</td>\n      <td>0.000000e+00</td>\n      <td>Metabolite_6</td>\n      <td>SHP1</td>\n    </tr>\n    <tr>\n      <th>SHP1Act</th>\n      <td>cyt</td>\n      <td>reactions</td>\n      <td>nmol/l</td>\n      <td>0.000000e+00</td>\n      <td>0.000000e+00</td>\n      <td></td>\n      <td></td>\n      <td>0.000000e+00</td>\n      <td>0.000000e+00</td>\n      <td>0.000000</td>\n      <td>0.000000e+00</td>\n      <td>Metabolite_7</td>\n      <td>SHP1Act</td>\n    </tr>\n    <tr>\n      <th>STAT5</th>\n      <td>cyt</td>\n      <td>reactions</td>\n      <td>nmol/l</td>\n      <td>7.975350e+01</td>\n      <td>1.921147e+16</td>\n      <td></td>\n      <td></td>\n      <td>7.975350e+01</td>\n      <td>1.921147e+16</td>\n      <td>0.000000</td>\n      <td>0.000000e+00</td>\n      <td>Metabolite_8</td>\n      <td>STAT5</td>\n    </tr>\n    <tr>\n      <th>pSTAT5</th>\n      <td>cyt</td>\n      <td>reactions</td>\n      <td>nmol/l</td>\n      <td>0.000000e+00</td>\n      <td>0.000000e+00</td>\n      <td></td>\n      <td></td>\n      <td>0.000000e+00</td>\n      <td>0.000000e+00</td>\n      <td>0.000000</td>\n      <td>0.000000e+00</td>\n      <td>Metabolite_9</td>\n      <td>pSTAT5</td>\n    </tr>\n    <tr>\n      <th>npSTAT5</th>\n      <td>nuc</td>\n      <td>reactions</td>\n      <td>nmol/l</td>\n      <td>0.000000e+00</td>\n      <td>0.000000e+00</td>\n      <td></td>\n      <td></td>\n      <td>0.000000e+00</td>\n      <td>0.000000e+00</td>\n      <td>0.000000</td>\n      <td>0.000000e+00</td>\n      <td>Metabolite_10</td>\n      <td>npSTAT5</td>\n    </tr>\n    <tr>\n      <th>CISnRNA1</th>\n      <td>nuc</td>\n      <td>reactions</td>\n      <td>nmol/l</td>\n      <td>0.000000e+00</td>\n      <td>0.000000e+00</td>\n      <td></td>\n      <td></td>\n      <td>0.000000e+00</td>\n      <td>0.000000e+00</td>\n      <td>0.000000</td>\n      <td>0.000000e+00</td>\n      <td>Metabolite_11</td>\n      <td>CISnRNA1</td>\n    </tr>\n    <tr>\n      <th>CISnRNA2</th>\n      <td>nuc</td>\n      <td>reactions</td>\n      <td>nmol/l</td>\n      <td>0.000000e+00</td>\n      <td>0.000000e+00</td>\n      <td></td>\n      <td></td>\n      <td>0.000000e+00</td>\n      <td>0.000000e+00</td>\n      <td>0.000000</td>\n      <td>0.000000e+00</td>\n      <td>Metabolite_12</td>\n      <td>CISnRNA2</td>\n    </tr>\n    <tr>\n      <th>CISnRNA3</th>\n      <td>nuc</td>\n      <td>reactions</td>\n      <td>nmol/l</td>\n      <td>0.000000e+00</td>\n      <td>0.000000e+00</td>\n      <td></td>\n      <td></td>\n      <td>0.000000e+00</td>\n      <td>0.000000e+00</td>\n      <td>0.000000</td>\n      <td>0.000000e+00</td>\n      <td>Metabolite_13</td>\n      <td>CISnRNA3</td>\n    </tr>\n    <tr>\n      <th>CISnRNA4</th>\n      <td>nuc</td>\n      <td>reactions</td>\n      <td>nmol/l</td>\n      <td>0.000000e+00</td>\n      <td>0.000000e+00</td>\n      <td></td>\n      <td></td>\n      <td>0.000000e+00</td>\n      <td>0.000000e+00</td>\n      <td>0.000000</td>\n      <td>0.000000e+00</td>\n      <td>Metabolite_14</td>\n      <td>CISnRNA4</td>\n    </tr>\n    <tr>\n      <th>CISnRNA5</th>\n      <td>nuc</td>\n      <td>reactions</td>\n      <td>nmol/l</td>\n      <td>0.000000e+00</td>\n      <td>0.000000e+00</td>\n      <td></td>\n      <td></td>\n      <td>0.000000e+00</td>\n      <td>0.000000e+00</td>\n      <td>0.000000</td>\n      <td>0.000000e+00</td>\n      <td>Metabolite_15</td>\n      <td>CISnRNA5</td>\n    </tr>\n    <tr>\n      <th>CISRNA</th>\n      <td>cyt</td>\n      <td>reactions</td>\n      <td>nmol/l</td>\n      <td>0.000000e+00</td>\n      <td>0.000000e+00</td>\n      <td></td>\n      <td></td>\n      <td>0.000000e+00</td>\n      <td>0.000000e+00</td>\n      <td>0.000000</td>\n      <td>0.000000e+00</td>\n      <td>Metabolite_16</td>\n      <td>CISRNA</td>\n    </tr>\n    <tr>\n      <th>CIS</th>\n      <td>cyt</td>\n      <td>reactions</td>\n      <td>nmol/l</td>\n      <td>0.000000e+00</td>\n      <td>0.000000e+00</td>\n      <td></td>\n      <td></td>\n      <td>0.000000e+00</td>\n      <td>0.000000e+00</td>\n      <td>0.000000</td>\n      <td>0.000000e+00</td>\n      <td>Metabolite_17</td>\n      <td>CIS</td>\n    </tr>\n    <tr>\n      <th>SOCS3nRNA1</th>\n      <td>nuc</td>\n      <td>reactions</td>\n      <td>nmol/l</td>\n      <td>0.000000e+00</td>\n      <td>0.000000e+00</td>\n      <td></td>\n      <td></td>\n      <td>0.000000e+00</td>\n      <td>0.000000e+00</td>\n      <td>0.000000</td>\n      <td>0.000000e+00</td>\n      <td>Metabolite_18</td>\n      <td>SOCS3nRNA1</td>\n    </tr>\n    <tr>\n      <th>SOCS3nRNA2</th>\n      <td>nuc</td>\n      <td>reactions</td>\n      <td>nmol/l</td>\n      <td>0.000000e+00</td>\n      <td>0.000000e+00</td>\n      <td></td>\n      <td></td>\n      <td>0.000000e+00</td>\n      <td>0.000000e+00</td>\n      <td>0.000000</td>\n      <td>0.000000e+00</td>\n      <td>Metabolite_19</td>\n      <td>SOCS3nRNA2</td>\n    </tr>\n    <tr>\n      <th>SOCS3nRNA3</th>\n      <td>nuc</td>\n      <td>reactions</td>\n      <td>nmol/l</td>\n      <td>0.000000e+00</td>\n      <td>0.000000e+00</td>\n      <td></td>\n      <td></td>\n      <td>0.000000e+00</td>\n      <td>0.000000e+00</td>\n      <td>0.000000</td>\n      <td>0.000000e+00</td>\n      <td>Metabolite_20</td>\n      <td>SOCS3nRNA3</td>\n    </tr>\n    <tr>\n      <th>SOCS3nRNA4</th>\n      <td>nuc</td>\n      <td>reactions</td>\n      <td>nmol/l</td>\n      <td>0.000000e+00</td>\n      <td>0.000000e+00</td>\n      <td></td>\n      <td></td>\n      <td>0.000000e+00</td>\n      <td>0.000000e+00</td>\n      <td>0.000000</td>\n      <td>0.000000e+00</td>\n      <td>Metabolite_21</td>\n      <td>SOCS3nRNA4</td>\n    </tr>\n    <tr>\n      <th>SOCS3nRNA5</th>\n      <td>nuc</td>\n      <td>reactions</td>\n      <td>nmol/l</td>\n      <td>0.000000e+00</td>\n      <td>0.000000e+00</td>\n      <td></td>\n      <td></td>\n      <td>0.000000e+00</td>\n      <td>0.000000e+00</td>\n      <td>0.000000</td>\n      <td>0.000000e+00</td>\n      <td>Metabolite_22</td>\n      <td>SOCS3nRNA5</td>\n    </tr>\n    <tr>\n      <th>SOCS3RNA</th>\n      <td>cyt</td>\n      <td>reactions</td>\n      <td>nmol/l</td>\n      <td>0.000000e+00</td>\n      <td>0.000000e+00</td>\n      <td></td>\n      <td></td>\n      <td>0.000000e+00</td>\n      <td>0.000000e+00</td>\n      <td>0.000000</td>\n      <td>0.000000e+00</td>\n      <td>Metabolite_23</td>\n      <td>SOCS3RNA</td>\n    </tr>\n    <tr>\n      <th>SOCS3</th>\n      <td>cyt</td>\n      <td>reactions</td>\n      <td>nmol/l</td>\n      <td>0.000000e+00</td>\n      <td>0.000000e+00</td>\n      <td></td>\n      <td></td>\n      <td>0.000000e+00</td>\n      <td>0.000000e+00</td>\n      <td>0.000000</td>\n      <td>0.000000e+00</td>\n      <td>Metabolite_24</td>\n      <td>SOCS3</td>\n    </tr>\n    <tr>\n      <th>Epo</th>\n      <td>cyt</td>\n      <td>reactions</td>\n      <td>nmol/l</td>\n      <td>1.249970e-07</td>\n      <td>3.010998e+07</td>\n      <td></td>\n      <td></td>\n      <td>1.249970e-07</td>\n      <td>3.010998e+07</td>\n      <td>0.000000</td>\n      <td>0.000000e+00</td>\n      <td>Metabolite_25</td>\n      <td>Epo</td>\n    </tr>\n  </tbody>\n</table>\n</div>"
     },
     "execution_count": 1,
     "metadata": {},
     "output_type": "execute_result"
    }
   ],
   "source": [
    "from basico import *\n",
    "from basico import biomodels\n",
    "\n",
    "\n",
    "biomodel_id = 'BIOMD0000000861'\n",
    "biomodel = load_biomodel(biomodel_id)\n",
    "get_species(model=biomodel)"
   ],
   "metadata": {
    "collapsed": false,
    "ExecuteTime": {
     "end_time": "2024-03-04T15:21:10.682552Z",
     "start_time": "2024-03-04T15:21:08.075605Z"
    }
   },
   "id": "f499f96a817d9faf"
  },
  {
   "cell_type": "code",
   "outputs": [
    {
     "data": {
      "text/plain": "                                                        scheme      flux  \\\nname                                                                       \nreaction_1                   EpoRJAK2 -> EpoRpJAK2;  Epo SOCS3  0.125895   \nreaction_2                     EpoRpJAK2 -> EpoRJAK2;  SHP1Act  0.000000   \nreaction_3                    EpoRpJAK2 -> p1EpoRpJAK2;  SOCS3  0.000000   \nreaction_4       EpoRpJAK2 -> p2EpoRpJAK2;  EpoRJAK2_CIS SOCS3  0.000000   \nreaction_5    p1EpoRpJAK2 -> p12EpoRpJAK2;  EpoRJAK2_CIS SOCS3  0.000000   \nreaction_6                 p2EpoRpJAK2 -> p12EpoRpJAK2;  SOCS3  0.000000   \nreaction_7                   p1EpoRpJAK2 -> EpoRJAK2;  SHP1Act  0.000000   \nreaction_8                   p2EpoRpJAK2 -> EpoRJAK2;  SHP1Act  0.000000   \nreaction_9                  p12EpoRpJAK2 -> EpoRJAK2;  SHP1Act  0.000000   \nreaction_10        EpoRJAK2_CIS -> ;  p12EpoRpJAK2 p1EpoRpJAK2  0.000000   \nreaction_11  SHP1 -> SHP1Act;  EpoRpJAK2 p12EpoRpJAK2 p1Epo...  0.000000   \nreaction_12                                    SHP1Act -> SHP1  0.000000   \nreaction_13  STAT5 -> pSTAT5;  EpoRpJAK2 SOCS3 p12EpoRpJAK2...  0.000000   \nreaction_14  STAT5 -> pSTAT5;  CIS SOCS3 p12EpoRpJAK2 p1Epo...  0.000000   \nreaction_15                                  pSTAT5 -> npSTAT5  0.000000   \nreaction_16                                   npSTAT5 -> STAT5  0.000000   \nreaction_17                               = CISnRNA1;  npSTAT5  0.000000   \nreaction_18                               CISnRNA1 -> CISnRNA2  0.000000   \nreaction_19                               CISnRNA2 -> CISnRNA3  0.000000   \nreaction_20                               CISnRNA3 -> CISnRNA4  0.000000   \nreaction_21                               CISnRNA4 -> CISnRNA5  0.000000   \nreaction_22                                 CISnRNA5 -> CISRNA  0.000000   \nreaction_23                                         CISRNA ->   0.000000   \nreaction_24                                    -> CIS;  CISRNA  0.000000   \nreaction_25                                            CIS ->   0.000000   \nreaction_26                                             -> CIS  0.000000   \nreaction_27                             = SOCS3nRNA1;  npSTAT5  0.000000   \nreaction_28                           SOCS3nRNA1 -> SOCS3nRNA2  0.000000   \nreaction_29                           SOCS3nRNA2 -> SOCS3nRNA3  0.000000   \nreaction_30                           SOCS3nRNA3 -> SOCS3nRNA4  0.000000   \nreaction_31                           SOCS3nRNA4 -> SOCS3nRNA5  0.000000   \nreaction_32                             SOCS3nRNA5 -> SOCS3RNA  0.000000   \nreaction_33                                       SOCS3RNA ->   0.000000   \nreaction_34                                -> SOCS3;  SOCS3RNA  0.000000   \nreaction_35                                          SOCS3 ->   0.000000   \nreaction_36                                           -> SOCS3  0.000000   \n\n             particle_flux                    function          key  \\\nname                                                                  \nreaction_1    7.581552e+13     Function for reaction_1   Reaction_0   \nreaction_2    0.000000e+00     Function for reaction_2   Reaction_1   \nreaction_3    0.000000e+00     Function for reaction_3   Reaction_2   \nreaction_4    0.000000e+00     Function for reaction_4   Reaction_3   \nreaction_5    0.000000e+00     Function for reaction_5   Reaction_4   \nreaction_6    0.000000e+00     Function for reaction_6   Reaction_5   \nreaction_7    0.000000e+00     Function for reaction_7   Reaction_6   \nreaction_8    0.000000e+00     Function for reaction_8   Reaction_7   \nreaction_9    0.000000e+00     Function for reaction_9   Reaction_8   \nreaction_10   0.000000e+00    Function for reaction_10   Reaction_9   \nreaction_11   0.000000e+00    Function for reaction_11  Reaction_10   \nreaction_12   0.000000e+00  Mass action (irreversible)  Reaction_11   \nreaction_13   0.000000e+00    Function for reaction_13  Reaction_12   \nreaction_14   0.000000e+00    Function for reaction_14  Reaction_13   \nreaction_15   0.000000e+00    Function for reaction_15  Reaction_14   \nreaction_16   0.000000e+00    Function for reaction_16  Reaction_15   \nreaction_17   0.000000e+00    Function for reaction_17  Reaction_16   \nreaction_18   0.000000e+00  Mass action (irreversible)  Reaction_17   \nreaction_19   0.000000e+00  Mass action (irreversible)  Reaction_18   \nreaction_20   0.000000e+00  Mass action (irreversible)  Reaction_19   \nreaction_21   0.000000e+00  Mass action (irreversible)  Reaction_20   \nreaction_22   0.000000e+00    Function for reaction_22  Reaction_21   \nreaction_23   0.000000e+00  Mass action (irreversible)  Reaction_22   \nreaction_24   0.000000e+00    Function for reaction_24  Reaction_23   \nreaction_25   0.000000e+00  Mass action (irreversible)  Reaction_24   \nreaction_26   0.000000e+00    Function for reaction_26  Reaction_25   \nreaction_27   0.000000e+00    Function for reaction_27  Reaction_26   \nreaction_28   0.000000e+00  Mass action (irreversible)  Reaction_27   \nreaction_29   0.000000e+00  Mass action (irreversible)  Reaction_28   \nreaction_30   0.000000e+00  Mass action (irreversible)  Reaction_29   \nreaction_31   0.000000e+00  Mass action (irreversible)  Reaction_30   \nreaction_32   0.000000e+00    Function for reaction_32  Reaction_31   \nreaction_33   0.000000e+00  Mass action (irreversible)  Reaction_32   \nreaction_34   0.000000e+00    Function for reaction_34  Reaction_33   \nreaction_35   0.000000e+00  Mass action (irreversible)  Reaction_34   \nreaction_36   0.000000e+00    Function for reaction_36  Reaction_35   \n\n                 sbml_id                                            mapping  \nname                                                                         \nreaction_1    reaction_1  {'Epo': 'Epo', 'EpoRJAK2': 'EpoRJAK2', 'JAK2Ac...  \nreaction_2    reaction_2  {'EpoRpJAK2': 'EpoRpJAK2', 'JAK2EpoRDeaSHP1': ...  \nreaction_3    reaction_3  {'EpoRActJAK2': 'EpoRActJAK2', 'EpoRpJAK2': 'E...  \nreaction_4    reaction_4  {'EpoRActJAK2': 'EpoRActJAK2', 'EpoRCISInh': '...  \nreaction_5    reaction_5  {'EpoRActJAK2': 'EpoRActJAK2', 'EpoRCISInh': '...  \nreaction_6    reaction_6  {'EpoRActJAK2': 'EpoRActJAK2', 'SOCS3': 'SOCS3...  \nreaction_7    reaction_7  {'JAK2EpoRDeaSHP1': 'JAK2EpoRDeaSHP1', 'SHP1Ac...  \nreaction_8    reaction_8  {'JAK2EpoRDeaSHP1': 'JAK2EpoRDeaSHP1', 'SHP1Ac...  \nreaction_9    reaction_9  {'JAK2EpoRDeaSHP1': 'JAK2EpoRDeaSHP1', 'SHP1Ac...  \nreaction_10  reaction_10  {'EpoRCISRemove': 'EpoRCISRemove', 'EpoRJAK2_C...  \nreaction_11  reaction_11  {'EpoRpJAK2': 'EpoRpJAK2', 'SHP1': 'SHP1', 'SH...  \nreaction_12  reaction_12          {'k1': 'SHP1Dea', 'substrate': 'SHP1Act'}  \nreaction_13  reaction_13  {'EpoRpJAK2': 'EpoRpJAK2', 'SOCS3': 'SOCS3', '...  \nreaction_14  reaction_14  {'CIS': 'CIS', 'CISEqc': 'CISEqc', 'CISInh': '...  \nreaction_15  reaction_15  {'STAT5Imp': 'STAT5Imp', 'cyt': 'cyt', 'pSTAT5...  \nreaction_16  reaction_16  {'STAT5Exp': 'STAT5Exp', 'npSTAT5': 'npSTAT5',...  \nreaction_17  reaction_17  {'ActD': 'ActD', 'CISRNAEqc': 'CISRNAEqc', 'CI...  \nreaction_18  reaction_18     {'k1': 'CISRNADelay', 'substrate': 'CISnRNA1'}  \nreaction_19  reaction_19     {'k1': 'CISRNADelay', 'substrate': 'CISnRNA2'}  \nreaction_20  reaction_20     {'k1': 'CISRNADelay', 'substrate': 'CISnRNA3'}  \nreaction_21  reaction_21     {'k1': 'CISRNADelay', 'substrate': 'CISnRNA4'}  \nreaction_22  reaction_22  {'CISRNADelay': 'CISRNADelay', 'CISnRNA5': 'CI...  \nreaction_23  reaction_23        {'k1': 'CISRNATurn', 'substrate': 'CISRNA'}  \nreaction_24  reaction_24  {'CISEqc': 'CISEqc', 'CISRNA': 'CISRNA', 'CISR...  \nreaction_25  reaction_25              {'k1': 'CISTurn', 'substrate': 'CIS'}  \nreaction_26  reaction_26  {'CISEqc': 'CISEqc', 'CISEqcOE': 'CISEqcOE', '...  \nreaction_27  reaction_27  {'ActD': 'ActD', 'SOCS3RNAEqc': 'SOCS3RNAEqc',...  \nreaction_28  reaction_28  {'k1': 'SOCS3RNADelay', 'substrate': 'SOCS3nRN...  \nreaction_29  reaction_29  {'k1': 'SOCS3RNADelay', 'substrate': 'SOCS3nRN...  \nreaction_30  reaction_30  {'k1': 'SOCS3RNADelay', 'substrate': 'SOCS3nRN...  \nreaction_31  reaction_31  {'k1': 'SOCS3RNADelay', 'substrate': 'SOCS3nRN...  \nreaction_32  reaction_32  {'SOCS3RNADelay': 'SOCS3RNADelay', 'SOCS3nRNA5...  \nreaction_33  reaction_33    {'k1': 'SOCS3RNATurn', 'substrate': 'SOCS3RNA'}  \nreaction_34  reaction_34  {'SOCS3Eqc': 'SOCS3Eqc', 'SOCS3RNA': 'SOCS3RNA...  \nreaction_35  reaction_35          {'k1': 'SOCS3Turn', 'substrate': 'SOCS3'}  \nreaction_36  reaction_36  {'SOCS3Eqc': 'SOCS3Eqc', 'SOCS3EqcOE': 'SOCS3E...  ",
      "text/html": "<div>\n<style scoped>\n    .dataframe tbody tr th:only-of-type {\n        vertical-align: middle;\n    }\n\n    .dataframe tbody tr th {\n        vertical-align: top;\n    }\n\n    .dataframe thead th {\n        text-align: right;\n    }\n</style>\n<table border=\"1\" class=\"dataframe\">\n  <thead>\n    <tr style=\"text-align: right;\">\n      <th></th>\n      <th>scheme</th>\n      <th>flux</th>\n      <th>particle_flux</th>\n      <th>function</th>\n      <th>key</th>\n      <th>sbml_id</th>\n      <th>mapping</th>\n    </tr>\n    <tr>\n      <th>name</th>\n      <th></th>\n      <th></th>\n      <th></th>\n      <th></th>\n      <th></th>\n      <th></th>\n      <th></th>\n    </tr>\n  </thead>\n  <tbody>\n    <tr>\n      <th>reaction_1</th>\n      <td>EpoRJAK2 -&gt; EpoRpJAK2;  Epo SOCS3</td>\n      <td>0.125895</td>\n      <td>7.581552e+13</td>\n      <td>Function for reaction_1</td>\n      <td>Reaction_0</td>\n      <td>reaction_1</td>\n      <td>{'Epo': 'Epo', 'EpoRJAK2': 'EpoRJAK2', 'JAK2Ac...</td>\n    </tr>\n    <tr>\n      <th>reaction_2</th>\n      <td>EpoRpJAK2 -&gt; EpoRJAK2;  SHP1Act</td>\n      <td>0.000000</td>\n      <td>0.000000e+00</td>\n      <td>Function for reaction_2</td>\n      <td>Reaction_1</td>\n      <td>reaction_2</td>\n      <td>{'EpoRpJAK2': 'EpoRpJAK2', 'JAK2EpoRDeaSHP1': ...</td>\n    </tr>\n    <tr>\n      <th>reaction_3</th>\n      <td>EpoRpJAK2 -&gt; p1EpoRpJAK2;  SOCS3</td>\n      <td>0.000000</td>\n      <td>0.000000e+00</td>\n      <td>Function for reaction_3</td>\n      <td>Reaction_2</td>\n      <td>reaction_3</td>\n      <td>{'EpoRActJAK2': 'EpoRActJAK2', 'EpoRpJAK2': 'E...</td>\n    </tr>\n    <tr>\n      <th>reaction_4</th>\n      <td>EpoRpJAK2 -&gt; p2EpoRpJAK2;  EpoRJAK2_CIS SOCS3</td>\n      <td>0.000000</td>\n      <td>0.000000e+00</td>\n      <td>Function for reaction_4</td>\n      <td>Reaction_3</td>\n      <td>reaction_4</td>\n      <td>{'EpoRActJAK2': 'EpoRActJAK2', 'EpoRCISInh': '...</td>\n    </tr>\n    <tr>\n      <th>reaction_5</th>\n      <td>p1EpoRpJAK2 -&gt; p12EpoRpJAK2;  EpoRJAK2_CIS SOCS3</td>\n      <td>0.000000</td>\n      <td>0.000000e+00</td>\n      <td>Function for reaction_5</td>\n      <td>Reaction_4</td>\n      <td>reaction_5</td>\n      <td>{'EpoRActJAK2': 'EpoRActJAK2', 'EpoRCISInh': '...</td>\n    </tr>\n    <tr>\n      <th>reaction_6</th>\n      <td>p2EpoRpJAK2 -&gt; p12EpoRpJAK2;  SOCS3</td>\n      <td>0.000000</td>\n      <td>0.000000e+00</td>\n      <td>Function for reaction_6</td>\n      <td>Reaction_5</td>\n      <td>reaction_6</td>\n      <td>{'EpoRActJAK2': 'EpoRActJAK2', 'SOCS3': 'SOCS3...</td>\n    </tr>\n    <tr>\n      <th>reaction_7</th>\n      <td>p1EpoRpJAK2 -&gt; EpoRJAK2;  SHP1Act</td>\n      <td>0.000000</td>\n      <td>0.000000e+00</td>\n      <td>Function for reaction_7</td>\n      <td>Reaction_6</td>\n      <td>reaction_7</td>\n      <td>{'JAK2EpoRDeaSHP1': 'JAK2EpoRDeaSHP1', 'SHP1Ac...</td>\n    </tr>\n    <tr>\n      <th>reaction_8</th>\n      <td>p2EpoRpJAK2 -&gt; EpoRJAK2;  SHP1Act</td>\n      <td>0.000000</td>\n      <td>0.000000e+00</td>\n      <td>Function for reaction_8</td>\n      <td>Reaction_7</td>\n      <td>reaction_8</td>\n      <td>{'JAK2EpoRDeaSHP1': 'JAK2EpoRDeaSHP1', 'SHP1Ac...</td>\n    </tr>\n    <tr>\n      <th>reaction_9</th>\n      <td>p12EpoRpJAK2 -&gt; EpoRJAK2;  SHP1Act</td>\n      <td>0.000000</td>\n      <td>0.000000e+00</td>\n      <td>Function for reaction_9</td>\n      <td>Reaction_8</td>\n      <td>reaction_9</td>\n      <td>{'JAK2EpoRDeaSHP1': 'JAK2EpoRDeaSHP1', 'SHP1Ac...</td>\n    </tr>\n    <tr>\n      <th>reaction_10</th>\n      <td>EpoRJAK2_CIS -&gt; ;  p12EpoRpJAK2 p1EpoRpJAK2</td>\n      <td>0.000000</td>\n      <td>0.000000e+00</td>\n      <td>Function for reaction_10</td>\n      <td>Reaction_9</td>\n      <td>reaction_10</td>\n      <td>{'EpoRCISRemove': 'EpoRCISRemove', 'EpoRJAK2_C...</td>\n    </tr>\n    <tr>\n      <th>reaction_11</th>\n      <td>SHP1 -&gt; SHP1Act;  EpoRpJAK2 p12EpoRpJAK2 p1Epo...</td>\n      <td>0.000000</td>\n      <td>0.000000e+00</td>\n      <td>Function for reaction_11</td>\n      <td>Reaction_10</td>\n      <td>reaction_11</td>\n      <td>{'EpoRpJAK2': 'EpoRpJAK2', 'SHP1': 'SHP1', 'SH...</td>\n    </tr>\n    <tr>\n      <th>reaction_12</th>\n      <td>SHP1Act -&gt; SHP1</td>\n      <td>0.000000</td>\n      <td>0.000000e+00</td>\n      <td>Mass action (irreversible)</td>\n      <td>Reaction_11</td>\n      <td>reaction_12</td>\n      <td>{'k1': 'SHP1Dea', 'substrate': 'SHP1Act'}</td>\n    </tr>\n    <tr>\n      <th>reaction_13</th>\n      <td>STAT5 -&gt; pSTAT5;  EpoRpJAK2 SOCS3 p12EpoRpJAK2...</td>\n      <td>0.000000</td>\n      <td>0.000000e+00</td>\n      <td>Function for reaction_13</td>\n      <td>Reaction_12</td>\n      <td>reaction_13</td>\n      <td>{'EpoRpJAK2': 'EpoRpJAK2', 'SOCS3': 'SOCS3', '...</td>\n    </tr>\n    <tr>\n      <th>reaction_14</th>\n      <td>STAT5 -&gt; pSTAT5;  CIS SOCS3 p12EpoRpJAK2 p1Epo...</td>\n      <td>0.000000</td>\n      <td>0.000000e+00</td>\n      <td>Function for reaction_14</td>\n      <td>Reaction_13</td>\n      <td>reaction_14</td>\n      <td>{'CIS': 'CIS', 'CISEqc': 'CISEqc', 'CISInh': '...</td>\n    </tr>\n    <tr>\n      <th>reaction_15</th>\n      <td>pSTAT5 -&gt; npSTAT5</td>\n      <td>0.000000</td>\n      <td>0.000000e+00</td>\n      <td>Function for reaction_15</td>\n      <td>Reaction_14</td>\n      <td>reaction_15</td>\n      <td>{'STAT5Imp': 'STAT5Imp', 'cyt': 'cyt', 'pSTAT5...</td>\n    </tr>\n    <tr>\n      <th>reaction_16</th>\n      <td>npSTAT5 -&gt; STAT5</td>\n      <td>0.000000</td>\n      <td>0.000000e+00</td>\n      <td>Function for reaction_16</td>\n      <td>Reaction_15</td>\n      <td>reaction_16</td>\n      <td>{'STAT5Exp': 'STAT5Exp', 'npSTAT5': 'npSTAT5',...</td>\n    </tr>\n    <tr>\n      <th>reaction_17</th>\n      <td>= CISnRNA1;  npSTAT5</td>\n      <td>0.000000</td>\n      <td>0.000000e+00</td>\n      <td>Function for reaction_17</td>\n      <td>Reaction_16</td>\n      <td>reaction_17</td>\n      <td>{'ActD': 'ActD', 'CISRNAEqc': 'CISRNAEqc', 'CI...</td>\n    </tr>\n    <tr>\n      <th>reaction_18</th>\n      <td>CISnRNA1 -&gt; CISnRNA2</td>\n      <td>0.000000</td>\n      <td>0.000000e+00</td>\n      <td>Mass action (irreversible)</td>\n      <td>Reaction_17</td>\n      <td>reaction_18</td>\n      <td>{'k1': 'CISRNADelay', 'substrate': 'CISnRNA1'}</td>\n    </tr>\n    <tr>\n      <th>reaction_19</th>\n      <td>CISnRNA2 -&gt; CISnRNA3</td>\n      <td>0.000000</td>\n      <td>0.000000e+00</td>\n      <td>Mass action (irreversible)</td>\n      <td>Reaction_18</td>\n      <td>reaction_19</td>\n      <td>{'k1': 'CISRNADelay', 'substrate': 'CISnRNA2'}</td>\n    </tr>\n    <tr>\n      <th>reaction_20</th>\n      <td>CISnRNA3 -&gt; CISnRNA4</td>\n      <td>0.000000</td>\n      <td>0.000000e+00</td>\n      <td>Mass action (irreversible)</td>\n      <td>Reaction_19</td>\n      <td>reaction_20</td>\n      <td>{'k1': 'CISRNADelay', 'substrate': 'CISnRNA3'}</td>\n    </tr>\n    <tr>\n      <th>reaction_21</th>\n      <td>CISnRNA4 -&gt; CISnRNA5</td>\n      <td>0.000000</td>\n      <td>0.000000e+00</td>\n      <td>Mass action (irreversible)</td>\n      <td>Reaction_20</td>\n      <td>reaction_21</td>\n      <td>{'k1': 'CISRNADelay', 'substrate': 'CISnRNA4'}</td>\n    </tr>\n    <tr>\n      <th>reaction_22</th>\n      <td>CISnRNA5 -&gt; CISRNA</td>\n      <td>0.000000</td>\n      <td>0.000000e+00</td>\n      <td>Function for reaction_22</td>\n      <td>Reaction_21</td>\n      <td>reaction_22</td>\n      <td>{'CISRNADelay': 'CISRNADelay', 'CISnRNA5': 'CI...</td>\n    </tr>\n    <tr>\n      <th>reaction_23</th>\n      <td>CISRNA -&gt;</td>\n      <td>0.000000</td>\n      <td>0.000000e+00</td>\n      <td>Mass action (irreversible)</td>\n      <td>Reaction_22</td>\n      <td>reaction_23</td>\n      <td>{'k1': 'CISRNATurn', 'substrate': 'CISRNA'}</td>\n    </tr>\n    <tr>\n      <th>reaction_24</th>\n      <td>-&gt; CIS;  CISRNA</td>\n      <td>0.000000</td>\n      <td>0.000000e+00</td>\n      <td>Function for reaction_24</td>\n      <td>Reaction_23</td>\n      <td>reaction_24</td>\n      <td>{'CISEqc': 'CISEqc', 'CISRNA': 'CISRNA', 'CISR...</td>\n    </tr>\n    <tr>\n      <th>reaction_25</th>\n      <td>CIS -&gt;</td>\n      <td>0.000000</td>\n      <td>0.000000e+00</td>\n      <td>Mass action (irreversible)</td>\n      <td>Reaction_24</td>\n      <td>reaction_25</td>\n      <td>{'k1': 'CISTurn', 'substrate': 'CIS'}</td>\n    </tr>\n    <tr>\n      <th>reaction_26</th>\n      <td>-&gt; CIS</td>\n      <td>0.000000</td>\n      <td>0.000000e+00</td>\n      <td>Function for reaction_26</td>\n      <td>Reaction_25</td>\n      <td>reaction_26</td>\n      <td>{'CISEqc': 'CISEqc', 'CISEqcOE': 'CISEqcOE', '...</td>\n    </tr>\n    <tr>\n      <th>reaction_27</th>\n      <td>= SOCS3nRNA1;  npSTAT5</td>\n      <td>0.000000</td>\n      <td>0.000000e+00</td>\n      <td>Function for reaction_27</td>\n      <td>Reaction_26</td>\n      <td>reaction_27</td>\n      <td>{'ActD': 'ActD', 'SOCS3RNAEqc': 'SOCS3RNAEqc',...</td>\n    </tr>\n    <tr>\n      <th>reaction_28</th>\n      <td>SOCS3nRNA1 -&gt; SOCS3nRNA2</td>\n      <td>0.000000</td>\n      <td>0.000000e+00</td>\n      <td>Mass action (irreversible)</td>\n      <td>Reaction_27</td>\n      <td>reaction_28</td>\n      <td>{'k1': 'SOCS3RNADelay', 'substrate': 'SOCS3nRN...</td>\n    </tr>\n    <tr>\n      <th>reaction_29</th>\n      <td>SOCS3nRNA2 -&gt; SOCS3nRNA3</td>\n      <td>0.000000</td>\n      <td>0.000000e+00</td>\n      <td>Mass action (irreversible)</td>\n      <td>Reaction_28</td>\n      <td>reaction_29</td>\n      <td>{'k1': 'SOCS3RNADelay', 'substrate': 'SOCS3nRN...</td>\n    </tr>\n    <tr>\n      <th>reaction_30</th>\n      <td>SOCS3nRNA3 -&gt; SOCS3nRNA4</td>\n      <td>0.000000</td>\n      <td>0.000000e+00</td>\n      <td>Mass action (irreversible)</td>\n      <td>Reaction_29</td>\n      <td>reaction_30</td>\n      <td>{'k1': 'SOCS3RNADelay', 'substrate': 'SOCS3nRN...</td>\n    </tr>\n    <tr>\n      <th>reaction_31</th>\n      <td>SOCS3nRNA4 -&gt; SOCS3nRNA5</td>\n      <td>0.000000</td>\n      <td>0.000000e+00</td>\n      <td>Mass action (irreversible)</td>\n      <td>Reaction_30</td>\n      <td>reaction_31</td>\n      <td>{'k1': 'SOCS3RNADelay', 'substrate': 'SOCS3nRN...</td>\n    </tr>\n    <tr>\n      <th>reaction_32</th>\n      <td>SOCS3nRNA5 -&gt; SOCS3RNA</td>\n      <td>0.000000</td>\n      <td>0.000000e+00</td>\n      <td>Function for reaction_32</td>\n      <td>Reaction_31</td>\n      <td>reaction_32</td>\n      <td>{'SOCS3RNADelay': 'SOCS3RNADelay', 'SOCS3nRNA5...</td>\n    </tr>\n    <tr>\n      <th>reaction_33</th>\n      <td>SOCS3RNA -&gt;</td>\n      <td>0.000000</td>\n      <td>0.000000e+00</td>\n      <td>Mass action (irreversible)</td>\n      <td>Reaction_32</td>\n      <td>reaction_33</td>\n      <td>{'k1': 'SOCS3RNATurn', 'substrate': 'SOCS3RNA'}</td>\n    </tr>\n    <tr>\n      <th>reaction_34</th>\n      <td>-&gt; SOCS3;  SOCS3RNA</td>\n      <td>0.000000</td>\n      <td>0.000000e+00</td>\n      <td>Function for reaction_34</td>\n      <td>Reaction_33</td>\n      <td>reaction_34</td>\n      <td>{'SOCS3Eqc': 'SOCS3Eqc', 'SOCS3RNA': 'SOCS3RNA...</td>\n    </tr>\n    <tr>\n      <th>reaction_35</th>\n      <td>SOCS3 -&gt;</td>\n      <td>0.000000</td>\n      <td>0.000000e+00</td>\n      <td>Mass action (irreversible)</td>\n      <td>Reaction_34</td>\n      <td>reaction_35</td>\n      <td>{'k1': 'SOCS3Turn', 'substrate': 'SOCS3'}</td>\n    </tr>\n    <tr>\n      <th>reaction_36</th>\n      <td>-&gt; SOCS3</td>\n      <td>0.000000</td>\n      <td>0.000000e+00</td>\n      <td>Function for reaction_36</td>\n      <td>Reaction_35</td>\n      <td>reaction_36</td>\n      <td>{'SOCS3Eqc': 'SOCS3Eqc', 'SOCS3EqcOE': 'SOCS3E...</td>\n    </tr>\n  </tbody>\n</table>\n</div>"
     },
     "execution_count": 12,
     "metadata": {},
     "output_type": "execute_result"
    }
   ],
   "source": [
    "reaction_names = get_reactions(model=biomodel)\n",
    "\n",
    "reaction_names"
   ],
   "metadata": {
    "collapsed": false,
    "ExecuteTime": {
     "end_time": "2024-03-04T15:23:37.309780Z",
     "start_time": "2024-03-04T15:23:37.303629Z"
    }
   },
   "id": "c24594c6e8229e20",
   "execution_count": 12
  },
  {
   "cell_type": "code",
   "execution_count": 18,
   "outputs": [],
   "source": [
    "rparam = ReactionParameter(\n",
    "    parameter_name='EpoRpRJAK2',\n",
    "    value=21312.2\n",
    ")\n",
    "\n",
    "rparam2 = ReactionParameter(\n",
    "    parameter_name='EpoRJAK2',\n",
    "    value=21312.2\n",
    ")\n",
    "\n",
    "rc1 = ReactionChanges(\n",
    "    reaction_name='reaction_1',\n",
    "    parameter_changes=[rparam, rparam2]\n",
    ")"
   ],
   "metadata": {
    "collapsed": false,
    "ExecuteTime": {
     "end_time": "2024-03-04T15:25:24.747234Z",
     "start_time": "2024-03-04T15:25:24.741630Z"
    }
   },
   "id": "454db50d61220bc5"
  },
  {
   "cell_type": "code",
   "outputs": [
    {
     "name": "stdout",
     "output_type": "stream",
     "text": [
      "{ 'parameter_changes': [ {'parameter_name': 'EpoRpRJAK2', 'value': 21312.2},\n",
      "                         {'parameter_name': 'EpoRJAK2', 'value': 21312.2}],\n",
      "  'reaction_name': 'reaction_1',\n",
      "  'reaction_scheme': None}\n"
     ]
    }
   ],
   "source": [
    "pp(rc1.model_dump())"
   ],
   "metadata": {
    "collapsed": false,
    "ExecuteTime": {
     "end_time": "2024-03-04T15:25:25.093602Z",
     "start_time": "2024-03-04T15:25:25.091074Z"
    }
   },
   "id": "b2e9619befac07ee",
   "execution_count": 19
  },
  {
   "cell_type": "code",
   "outputs": [],
   "source": [],
   "metadata": {
    "collapsed": false
   },
   "id": "7dcc4eb78cee520d"
  }
 ],
 "metadata": {
  "kernelspec": {
   "display_name": "Python 3",
   "language": "python",
   "name": "python3"
  },
  "language_info": {
   "codemirror_mode": {
    "name": "ipython",
    "version": 2
   },
   "file_extension": ".py",
   "mimetype": "text/x-python",
   "name": "python",
   "nbconvert_exporter": "python",
   "pygments_lexer": "ipython2",
   "version": "2.7.6"
  }
 },
 "nbformat": 4,
 "nbformat_minor": 5
}
