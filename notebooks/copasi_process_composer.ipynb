{
 "cells": [
  {
   "cell_type": "markdown",
   "id": "9f7cc96191d5a2ba",
   "metadata": {
    "collapsed": false
   },
   "source": [
    "## Examples with ```CopasiProcess``` using ``builder.Builder`` and ``biosimulator_processes.data_model``"
   ]
  },
  {
   "cell_type": "code",
   "execution_count": 1,
   "id": "b43cd4493a594e60",
   "metadata": {
    "collapsed": false,
    "ExecuteTime": {
     "end_time": "2024-03-04T18:16:40.552145Z",
     "start_time": "2024-03-04T18:16:40.547337Z"
    }
   },
   "outputs": [],
   "source": [
    "import sys \n",
    "\n",
    "sys.path.insert(0, '..')"
   ]
  },
  {
   "cell_type": "code",
   "outputs": [
    {
     "name": "stdout",
     "output_type": "stream",
     "text": [
      "CobraProcess registered successfully.\n",
      "CopasiProcess registered successfully.\n",
      "SmoldynProcess registered successfully.\n",
      "TelluriumProcess registered successfully.\n"
     ]
    }
   ],
   "source": [
    "import os \n",
    "from process_bigraph import pp, pf \n",
    "from biosimulator_processes.data_model import *\n",
    "from biosimulator_processes.biosimulator_builder import BiosimulatorBuilder"
   ],
   "metadata": {
    "collapsed": false,
    "ExecuteTime": {
     "end_time": "2024-03-04T18:16:44.740326Z",
     "start_time": "2024-03-04T18:16:40.740803Z"
    }
   },
   "id": "65385e04f4f5dd1a",
   "execution_count": 2
  },
  {
   "cell_type": "markdown",
   "id": "99dbe025aeccc23e",
   "metadata": {
    "collapsed": false
   },
   "source": [
    "#### Initialize a fresh instance of the `BiosimulatorBuilder`, which is inherently configured by `biosimulator_processes.CORE` in the top level."
   ]
  },
  {
   "cell_type": "code",
   "execution_count": 3,
   "id": "cc709690e20090cf",
   "metadata": {
    "collapsed": false,
    "ExecuteTime": {
     "end_time": "2024-03-04T18:16:44.743127Z",
     "start_time": "2024-03-04T18:16:44.741263Z"
    }
   },
   "outputs": [],
   "source": [
    "b = BiosimulatorBuilder()"
   ]
  },
  {
   "cell_type": "markdown",
   "id": "eea00feb4c2651d6",
   "metadata": {
    "collapsed": false
   },
   "source": [
    "#### Example 1: Add a simple `CopasiProcess`-based composite to the bigraph, specifying parameter values through the `data_model`. For now, let's try loading a biomodel and adding a change to initial concentration of a species. We will then add another copasi process instance, whose model is this time loaded from a file (to demonstrate the data model)"
   ]
  },
  {
   "cell_type": "markdown",
   "id": "640f49c1e61f116d",
   "metadata": {
    "collapsed": false
   },
   "source": [
    "Let's define a model instance from a file."
   ]
  },
  {
   "cell_type": "code",
   "execution_count": 4,
   "id": "edf123175ec3408c",
   "metadata": {
    "collapsed": false,
    "ExecuteTime": {
     "end_time": "2024-03-04T18:16:45.946766Z",
     "start_time": "2024-03-04T18:16:45.942700Z"
    }
   },
   "outputs": [
    {
     "data": {
      "text/plain": "True"
     },
     "execution_count": 4,
     "metadata": {},
     "output_type": "execute_result"
    }
   ],
   "source": [
    "model_filepath = '../biosimulator_processes/model_files/BIOMD0000000061_url.xml'\n",
    "\n",
    "os.path.exists(model_filepath)"
   ]
  },
  {
   "cell_type": "code",
   "execution_count": 5,
   "id": "40ab6f70ac3f4996",
   "metadata": {
    "collapsed": false,
    "ExecuteTime": {
     "end_time": "2024-03-04T18:16:46.356620Z",
     "start_time": "2024-03-04T18:16:46.354301Z"
    }
   },
   "outputs": [],
   "source": [
    "# Uncomment if you wish to inspect the species referenced below\n",
    "# model_from_file = load_model(model_filepath)\n",
    "# get_species(model=model_from_file)"
   ]
  },
  {
   "cell_type": "code",
   "execution_count": 6,
   "id": "d02a547b85138f96",
   "metadata": {
    "collapsed": false,
    "ExecuteTime": {
     "end_time": "2024-03-04T18:16:46.739805Z",
     "start_time": "2024-03-04T18:16:46.737224Z"
    }
   },
   "outputs": [
    {
     "name": "stdout",
     "output_type": "stream",
     "text": [
      "{ 'global_parameter_changes': [],\n",
      "  'reaction_changes': [],\n",
      "  'species_changes': [ { 'expression': '',\n",
      "                         'initial_concentration': 9.261000000000001,\n",
      "                         'initial_expression': '',\n",
      "                         'initial_particle_number': None,\n",
      "                         'name': 'ADP',\n",
      "                         'unit': ''}]}\n"
     ]
    }
   ],
   "source": [
    "# 1. specify model changes (we know the model specs as we are providing the file. TODO: allow users to introspect the model before change)\n",
    "process_model_changes = ModelChanges(\n",
    "    species_changes=[SpeciesChanges(name='ADP', initial_concentration=2.1**3)]\n",
    ")\n",
    "\n",
    "\n",
    "pp(process_model_changes.model_dump())"
   ]
  },
  {
   "cell_type": "code",
   "execution_count": 7,
   "id": "1b6c269646357d7d",
   "metadata": {
    "collapsed": false,
    "ExecuteTime": {
     "end_time": "2024-03-04T18:16:47.333078Z",
     "start_time": "2024-03-04T18:16:47.329862Z"
    }
   },
   "outputs": [
    {
     "name": "stdout",
     "output_type": "stream",
     "text": [
      "{ 'model_changes': { 'global_parameter_changes': [],\n",
      "                     'reaction_changes': [],\n",
      "                     'species_changes': [ { 'expression': '',\n",
      "                                            'initial_concentration': 9.261000000000001,\n",
      "                                            'initial_expression': '',\n",
      "                                            'initial_particle_number': None,\n",
      "                                            'name': 'ADP',\n",
      "                                            'unit': ''}]},\n",
      "  'model_id': 'copasi_process_from_file',\n",
      "  'model_language': 'sbml',\n",
      "  'model_name': 'Simple Composite Process from File',\n",
      "  'model_source': { 'value': '../biosimulator_processes/model_files/BIOMD0000000061_url.xml'},\n",
      "  'model_units': None}\n"
     ]
    }
   ],
   "source": [
    "# 2. define the model schema to be used by the composite process (one of the copasiprocess config parameters)\n",
    "\n",
    "process_model_from_file = Model(\n",
    "    model_id='copasi_process_from_file',\n",
    "    model_source=model_filepath,\n",
    "    model_name='Simple Composite Process from File',\n",
    "    model_changes=process_model_changes\n",
    ")\n",
    "\n",
    "\n",
    "pp(process_model_from_file.model_dump())"
   ]
  },
  {
   "cell_type": "code",
   "execution_count": 8,
   "id": "5d434956e65b1a42",
   "metadata": {
    "collapsed": false,
    "ExecuteTime": {
     "end_time": "2024-03-04T18:16:47.811Z",
     "start_time": "2024-03-04T18:16:47.807927Z"
    }
   },
   "outputs": [
    {
     "name": "stdout",
     "output_type": "stream",
     "text": [
      "{ 'method': 'stochastic',\n",
      "  'model': { 'model_changes': { 'global_parameter_changes': [],\n",
      "                                'reaction_changes': [],\n",
      "                                'species_changes': [ { 'expression': '',\n",
      "                                                       'initial_concentration': 9.261000000000001,\n",
      "                                                       'initial_expression': '',\n",
      "                                                       'initial_particle_number': None,\n",
      "                                                       'name': 'ADP',\n",
      "                                                       'unit': ''}]},\n",
      "             'model_id': 'copasi_process_from_file',\n",
      "             'model_language': 'sbml',\n",
      "             'model_name': 'Simple Composite Process from File',\n",
      "             'model_source': { 'value': '../biosimulator_processes/model_files/BIOMD0000000061_url.xml'},\n",
      "             'model_units': None},\n",
      "  'process_name': 'simple_copasi_from_file'}\n"
     ]
    }
   ],
   "source": [
    "# 3. Define config schema to be used as 'config' parameter of Process constructor\n",
    "process_config_from_file = CopasiProcessConfigSchema(\n",
    "    method='stochastic',\n",
    "    model=process_model_from_file,\n",
    "    process_name='simple_copasi_from_file'\n",
    ")\n",
    "\n",
    "\n",
    "pp(process_config_from_file.model_dump())"
   ]
  },
  {
   "cell_type": "code",
   "execution_count": 9,
   "id": "de88e95d8f616779",
   "metadata": {
    "collapsed": false,
    "ExecuteTime": {
     "end_time": "2024-03-04T18:16:48.288307Z",
     "start_time": "2024-03-04T18:16:48.285654Z"
    }
   },
   "outputs": [
    {
     "data": {
      "text/plain": "{'model_id': 'copasi_process_from_file',\n 'model_source': {'value': '../biosimulator_processes/model_files/BIOMD0000000061_url.xml'},\n 'model_language': 'sbml',\n 'model_name': 'Simple Composite Process from File',\n 'model_changes': {'species_changes': [{'name': 'ADP',\n    'unit': '',\n    'initial_concentration': 9.261000000000001,\n    'initial_particle_number': None,\n    'initial_expression': '',\n    'expression': ''}],\n  'global_parameter_changes': [],\n  'reaction_changes': []},\n 'model_units': None}"
     },
     "execution_count": 9,
     "metadata": {},
     "output_type": "execute_result"
    }
   ],
   "source": [
    "process_config_from_file.model"
   ]
  },
  {
   "cell_type": "code",
   "execution_count": 10,
   "id": "52d81ea2ea688d47",
   "metadata": {
    "collapsed": false,
    "ExecuteTime": {
     "end_time": "2024-03-04T18:16:48.904487Z",
     "start_time": "2024-03-04T18:16:48.722041Z"
    }
   },
   "outputs": [],
   "source": [
    "# 4. Add the process instance by the name of 'simple_copasi' to the builder\n",
    "\n",
    "\n",
    "b[process_config_from_file.process_name].add_process(\n",
    "    name='CopasiProcess',\n",
    "    model=process_config_from_file.model,\n",
    "    method=process_config_from_file.method\n",
    ")"
   ]
  },
  {
   "cell_type": "markdown",
   "source": [
    "Let's now add a biomodel with adjusted params (we know ahead of time)"
   ],
   "metadata": {
    "collapsed": false
   },
   "id": "80fd1a5aca61b442"
  },
  {
   "cell_type": "code",
   "execution_count": 11,
   "id": "f499f96a817d9faf",
   "metadata": {
    "collapsed": false,
    "ExecuteTime": {
     "end_time": "2024-03-04T18:16:50.115960Z",
     "start_time": "2024-03-04T18:16:50.114064Z"
    }
   },
   "outputs": [],
   "source": [
    "# Uncomment if you wish to introspect the model referred below\n",
    "# from basico import *\n",
    "# from basico import biomodels\n",
    "# \n",
    "# \n",
    "# biomodel_id = 'BIOMD0000000861'\n",
    "# biomodel = load_biomodel(biomodel_id)\n",
    "# get_species(model=biomodel)"
   ]
  },
  {
   "cell_type": "code",
   "execution_count": 12,
   "id": "c24594c6e8229e20",
   "metadata": {
    "collapsed": false,
    "ExecuteTime": {
     "end_time": "2024-03-04T18:16:50.523673Z",
     "start_time": "2024-03-04T18:16:50.520712Z"
    }
   },
   "outputs": [],
   "source": [
    "# reaction_names = get_reactions(model=biomodel)\n",
    "# \n",
    "# reaction_names"
   ]
  },
  {
   "cell_type": "code",
   "execution_count": 13,
   "id": "454db50d61220bc5",
   "metadata": {
    "collapsed": false,
    "ExecuteTime": {
     "end_time": "2024-03-04T18:16:50.988474Z",
     "start_time": "2024-03-04T18:16:50.986417Z"
    }
   },
   "outputs": [],
   "source": [
    "rparam = ReactionParameter(\n",
    "    parameter_name='EpoRpRJAK2',\n",
    "    value=21312.2\n",
    ")\n",
    "\n",
    "rparam2 = ReactionParameter(\n",
    "    parameter_name='EpoRJAK2',\n",
    "    value=21312.2\n",
    ")\n",
    "\n",
    "rc1 = ReactionChanges(\n",
    "    reaction_name='reaction_1',\n",
    "    parameter_changes=[rparam, rparam2]\n",
    ")\n",
    "\n",
    "rc2 = ReactionChanges(\n",
    "    reaction_name='reaction_11',\n",
    "    reaction_scheme='A + B -> C'\n",
    ")"
   ]
  },
  {
   "cell_type": "code",
   "execution_count": 14,
   "id": "bd6781fe4a749c29",
   "metadata": {
    "collapsed": false,
    "ExecuteTime": {
     "end_time": "2024-03-04T18:16:51.753456Z",
     "start_time": "2024-03-04T18:16:51.751025Z"
    }
   },
   "outputs": [],
   "source": [
    "biomodel_process_changes = ModelChanges(\n",
    "    reaction_changes=[rc1, rc2]\n",
    ")"
   ]
  },
  {
   "cell_type": "code",
   "execution_count": 15,
   "id": "e414174a2d6d331b",
   "metadata": {
    "collapsed": false,
    "ExecuteTime": {
     "end_time": "2024-03-04T18:16:52.897856Z",
     "start_time": "2024-03-04T18:16:52.894173Z"
    }
   },
   "outputs": [
    {
     "name": "stdout",
     "output_type": "stream",
     "text": [
      "{ 'global_parameter_changes': [],\n",
      "  'reaction_changes': [ { 'parameter_changes': [ { 'parameter_name': 'EpoRpRJAK2',\n",
      "                                                   'value': 21312.2},\n",
      "                                                 { 'parameter_name': 'EpoRJAK2',\n",
      "                                                   'value': 21312.2}],\n",
      "                          'reaction_name': 'reaction_1',\n",
      "                          'reaction_scheme': None},\n",
      "                        { 'parameter_changes': [],\n",
      "                          'reaction_name': 'reaction_11',\n",
      "                          'reaction_scheme': 'A + B -> C'}],\n",
      "  'species_changes': []}\n"
     ]
    }
   ],
   "source": [
    "pp(biomodel_process_changes.model_dump())"
   ]
  },
  {
   "cell_type": "code",
   "execution_count": 16,
   "id": "9de88bc52fb9a164",
   "metadata": {
    "collapsed": false,
    "ExecuteTime": {
     "end_time": "2024-03-04T18:16:53.574506Z",
     "start_time": "2024-03-04T18:16:53.571474Z"
    }
   },
   "outputs": [
    {
     "name": "stdout",
     "output_type": "stream",
     "text": [
      "{ 'model_changes': { 'global_parameter_changes': [],\n",
      "                     'reaction_changes': [ { 'parameter_changes': [ { 'parameter_name': 'EpoRpRJAK2',\n",
      "                                                                      'value': 21312.2},\n",
      "                                                                    { 'parameter_name': 'EpoRJAK2',\n",
      "                                                                      'value': 21312.2}],\n",
      "                                             'reaction_name': 'reaction_1',\n",
      "                                             'reaction_scheme': None},\n",
      "                                           { 'parameter_changes': [],\n",
      "                                             'reaction_name': 'reaction_11',\n",
      "                                             'reaction_scheme': 'A + B -> C'}],\n",
      "                     'species_changes': []},\n",
      "  'model_id': 'BIOMD0000000861',\n",
      "  'model_language': 'sbml',\n",
      "  'model_name': 'composite_from_biomodel',\n",
      "  'model_source': {'value': 'BIOMD0000000861'},\n",
      "  'model_units': None}\n"
     ]
    }
   ],
   "source": [
    "biomodel_id = 'BIOMD0000000861'\n",
    "\n",
    "\n",
    "biomodel_process_model = Model(\n",
    "    model_id=biomodel_id,\n",
    "    model_source=biomodel_id,\n",
    "    model_name='composite_from_biomodel',\n",
    "    model_changes=biomodel_process_changes\n",
    ")\n",
    "\n",
    "pp(biomodel_process_model.model_dump())"
   ]
  },
  {
   "cell_type": "code",
   "execution_count": 17,
   "id": "25ba11c1e1e75f94",
   "metadata": {
    "collapsed": false,
    "ExecuteTime": {
     "end_time": "2024-03-04T18:16:54.320763Z",
     "start_time": "2024-03-04T18:16:54.318201Z"
    }
   },
   "outputs": [
    {
     "name": "stdout",
     "output_type": "stream",
     "text": [
      "{ 'method': 'directMethod',\n",
      "  'model': { 'model_changes': { 'global_parameter_changes': [],\n",
      "                                'reaction_changes': [ { 'parameter_changes': [ { 'parameter_name': 'EpoRpRJAK2',\n",
      "                                                                                 'value': 21312.2},\n",
      "                                                                               { 'parameter_name': 'EpoRJAK2',\n",
      "                                                                                 'value': 21312.2}],\n",
      "                                                        'reaction_name': 'reaction_1',\n",
      "                                                        'reaction_scheme': None},\n",
      "                                                      { 'parameter_changes': [],\n",
      "                                                        'reaction_name': 'reaction_11',\n",
      "                                                        'reaction_scheme': 'A '\n",
      "                                                                           '+ '\n",
      "                                                                           'B '\n",
      "                                                                           '-> '\n",
      "                                                                           'C'}],\n",
      "                                'species_changes': []},\n",
      "             'model_id': 'BIOMD0000000861',\n",
      "             'model_language': 'sbml',\n",
      "             'model_name': 'composite_from_biomodel',\n",
      "             'model_source': {'value': 'BIOMD0000000861'},\n",
      "             'model_units': None},\n",
      "  'process_name': 'copasi_process_from_biomodel'}\n"
     ]
    }
   ],
   "source": [
    "biomodel_process_config = CopasiProcessConfigSchema(\n",
    "    process_name='copasi_process_from_biomodel',\n",
    "    method='directMethod',\n",
    "    model=biomodel_process_model\n",
    ")\n",
    "\n",
    "\n",
    "pp(biomodel_process_config.model_dump())"
   ]
  },
  {
   "cell_type": "markdown",
   "id": "535828632bf115d",
   "metadata": {
    "collapsed": false
   },
   "source": [
    "Add the biomodel config to the bigraph"
   ]
  },
  {
   "cell_type": "code",
   "execution_count": 18,
   "id": "4c3f073b10e2dcc0",
   "metadata": {
    "collapsed": false,
    "ExecuteTime": {
     "end_time": "2024-03-04T18:16:59.244410Z",
     "start_time": "2024-03-04T18:16:56.934443Z"
    }
   },
   "outputs": [],
   "source": [
    "b[biomodel_process_config.process_name].add_process(\n",
    "    name='CopasiProcess',\n",
    "    model=biomodel_process_config.model,\n",
    "    method=biomodel_process_config.method\n",
    ")"
   ]
  },
  {
   "cell_type": "markdown",
   "source": [
    "Visualize the added processes"
   ],
   "metadata": {
    "collapsed": false
   },
   "id": "974b09970316d79b"
  },
  {
   "cell_type": "code",
   "execution_count": 19,
   "id": "c5e03e6714faf9f4",
   "metadata": {
    "collapsed": false,
    "ExecuteTime": {
     "end_time": "2024-03-04T18:17:00.597043Z",
     "start_time": "2024-03-04T18:17:00.378837Z"
    }
   },
   "outputs": [
    {
     "data": {
      "image/svg+xml": "<?xml version=\"1.0\" encoding=\"UTF-8\" standalone=\"no\"?>\n<!DOCTYPE svg PUBLIC \"-//W3C//DTD SVG 1.1//EN\"\n \"http://www.w3.org/Graphics/SVG/1.1/DTD/svg11.dtd\">\n<!-- Generated by graphviz version 9.0.0 (20230911.1827)\n -->\n<!-- Title: bigraph Pages: 1 -->\n<svg width=\"781pt\" height=\"206pt\"\n viewBox=\"0.00 0.00 803.15 211.44\" xmlns=\"http://www.w3.org/2000/svg\" xmlns:xlink=\"http://www.w3.org/1999/xlink\">\n<g id=\"graph0\" class=\"graph\" transform=\"scale(0.972222 0.972222) rotate(0) translate(4 207.44)\">\n<title>bigraph</title>\n<polygon fill=\"white\" stroke=\"none\" points=\"-4,4 -4,-207.44 799.15,-207.44 799.15,4 -4,4\"/>\n<!-- (&#39;simple_copasi_from_file&#39;, &#39;interval&#39;) -->\n<g id=\"node1\" class=\"node\">\n<title>(&#39;simple_copasi_from_file&#39;, &#39;interval&#39;)</title>\n<ellipse fill=\"none\" stroke=\"black\" stroke-width=\"2\" cx=\"128.98\" cy=\"-26.43\" rx=\"26.43\" ry=\"26.43\"/>\n<text text-anchor=\"start\" x=\"111.36\" y=\"-22.15\" font-family=\"Times,serif\" font-size=\"12.00\">interval</text>\n</g>\n<!-- (&#39;copasi_process_from_biomodel&#39;, &#39;interval&#39;) -->\n<g id=\"node2\" class=\"node\">\n<title>(&#39;copasi_process_from_biomodel&#39;, &#39;interval&#39;)</title>\n<ellipse fill=\"none\" stroke=\"black\" stroke-width=\"2\" cx=\"547.98\" cy=\"-26.43\" rx=\"26.43\" ry=\"26.43\"/>\n<text text-anchor=\"start\" x=\"530.36\" y=\"-22.15\" font-family=\"Times,serif\" font-size=\"12.00\">interval</text>\n</g>\n<!-- (&#39;simple_copasi_from_file&#39;,) -->\n<g id=\"node3\" class=\"node\">\n<title>(&#39;simple_copasi_from_file&#39;,)</title>\n<polygon fill=\"none\" stroke=\"black\" stroke-width=\"2\" points=\"190.71,-125.86 67.26,-125.86 67.26,-89.86 190.71,-89.86 190.71,-125.86\"/>\n<text text-anchor=\"start\" x=\"70.86\" y=\"-103.58\" font-family=\"Times,serif\" font-size=\"12.00\">simple_copasi_from_file</text>\n</g>\n<!-- (&#39;simple_copasi_from_file&#39;,)&#45;&gt;(&#39;simple_copasi_from_file&#39;, &#39;interval&#39;) -->\n<g id=\"edge1\" class=\"edge\">\n<title>(&#39;simple_copasi_from_file&#39;,)&#45;&gt;(&#39;simple_copasi_from_file&#39;, &#39;interval&#39;)</title>\n<path fill=\"none\" stroke=\"black\" stroke-width=\"2\" d=\"M128.98,-89.23C128.98,-78.81 128.98,-65.41 128.98,-53.76\"/>\n</g>\n<!-- (&#39;copasi_process_from_biomodel&#39;,) -->\n<g id=\"node4\" class=\"node\">\n<title>(&#39;copasi_process_from_biomodel&#39;,)</title>\n<polygon fill=\"none\" stroke=\"black\" stroke-width=\"2\" points=\"626.58,-125.86 469.38,-125.86 469.38,-89.86 626.58,-89.86 626.58,-125.86\"/>\n<text text-anchor=\"start\" x=\"472.98\" y=\"-103.58\" font-family=\"Times,serif\" font-size=\"12.00\">copasi_process_from_biomodel</text>\n</g>\n<!-- (&#39;copasi_process_from_biomodel&#39;,)&#45;&gt;(&#39;copasi_process_from_biomodel&#39;, &#39;interval&#39;) -->\n<g id=\"edge2\" class=\"edge\">\n<title>(&#39;copasi_process_from_biomodel&#39;,)&#45;&gt;(&#39;copasi_process_from_biomodel&#39;, &#39;interval&#39;)</title>\n<path fill=\"none\" stroke=\"black\" stroke-width=\"2\" d=\"M547.98,-89.23C547.98,-78.81 547.98,-65.41 547.98,-53.76\"/>\n</g>\n<!-- (&#39;simple_copasi_from_file&#39;, &#39;t&#39;, &#39;i&#39;, &#39;m&#39;, &#39;e&#39;) -->\n<!-- (&#39;simple_copasi_from_file&#39;, &#39;t&#39;, &#39;i&#39;, &#39;m&#39;, &#39;e&#39;)&#45;&gt;(&#39;simple_copasi_from_file&#39;,) -->\n<g id=\"edge3\" class=\"edge\">\n<title>(&#39;simple_copasi_from_file&#39;, &#39;t&#39;, &#39;i&#39;, &#39;m&#39;, &#39;e&#39;)&#45;&gt;(&#39;simple_copasi_from_file&#39;,)</title>\n<path fill=\"none\" stroke=\"black\" stroke-dasharray=\"5,2\" d=\"M18.46,-178.36C7.4,-169.39 -5.7,-155.28 2.98,-143.86 10.04,-134.57 31.72,-127.1 55.15,-121.49\"/>\n<polygon fill=\"black\" stroke=\"black\" points=\"55.91,-124.91 64.89,-119.29 54.37,-118.08 55.91,-124.91\"/>\n<text text-anchor=\"start\" x=\"2.98\" y=\"-145.61\" font-family=\"Times,serif\" font-size=\"10.00\">time</text>\n</g>\n<!-- (&#39;simple_copasi_from_file&#39;, &#39;t&#39;, &#39;i&#39;, &#39;m&#39;, &#39;e&#39;)&#45;&gt;(&#39;simple_copasi_from_file&#39;,) -->\n<g id=\"edge11\" class=\"edge\">\n<title>(&#39;simple_copasi_from_file&#39;, &#39;t&#39;, &#39;i&#39;, &#39;m&#39;, &#39;e&#39;)&#45;&gt;(&#39;simple_copasi_from_file&#39;,)</title>\n<path fill=\"none\" stroke=\"black\" stroke-dasharray=\"5,2\" d=\"M44.27,-164.49C49.2,-157.3 55.25,-149.71 61.98,-143.86 69.5,-137.31 78.47,-131.57 87.35,-126.72\"/>\n<polygon fill=\"black\" stroke=\"black\" points=\"41.54,-162.27 39.1,-172.58 47.44,-166.04 41.54,-162.27\"/>\n<text text-anchor=\"start\" x=\"61.98\" y=\"-145.61\" font-family=\"Times,serif\" font-size=\"10.00\">time</text>\n</g>\n<!-- (&#39;simple_copasi_from_file&#39;, &#39;f&#39;, &#39;l&#39;, &#39;o&#39;, &#39;a&#39;, &#39;t&#39;, &#39;i&#39;, &#39;n&#39;, &#39;g&#39;, &#39;_&#39;, &#39;s&#39;, &#39;p&#39;, &#39;e&#39;, &#39;c&#39;, &#39;i&#39;, &#39;e&#39;, &#39;s&#39;) -->\n<!-- (&#39;simple_copasi_from_file&#39;, &#39;f&#39;, &#39;l&#39;, &#39;o&#39;, &#39;a&#39;, &#39;t&#39;, &#39;i&#39;, &#39;n&#39;, &#39;g&#39;, &#39;_&#39;, &#39;s&#39;, &#39;p&#39;, &#39;e&#39;, &#39;c&#39;, &#39;i&#39;, &#39;e&#39;, &#39;s&#39;)&#45;&gt;(&#39;simple_copasi_from_file&#39;,) -->\n<g id=\"edge4\" class=\"edge\">\n<title>(&#39;simple_copasi_from_file&#39;, &#39;f&#39;, &#39;l&#39;, &#39;o&#39;, &#39;a&#39;, &#39;t&#39;, &#39;i&#39;, &#39;n&#39;, &#39;g&#39;, &#39;_&#39;, &#39;s&#39;, &#39;p&#39;, &#39;e&#39;, &#39;c&#39;, &#39;i&#39;, &#39;e&#39;, &#39;s&#39;)&#45;&gt;(&#39;simple_copasi_from_file&#39;,)</title>\n<path fill=\"none\" stroke=\"black\" stroke-dasharray=\"5,2\" d=\"M88.27,-174.26C84.07,-165.38 80.59,-153.52 85.23,-143.86 86.83,-140.53 88.92,-137.41 91.32,-134.53\"/>\n<polygon fill=\"black\" stroke=\"black\" points=\"93.61,-137.18 98.19,-127.62 88.65,-132.24 93.61,-137.18\"/>\n<text text-anchor=\"start\" x=\"85.98\" y=\"-145.61\" font-family=\"Times,serif\" font-size=\"10.00\">floating_species</text>\n</g>\n<!-- (&#39;simple_copasi_from_file&#39;, &#39;f&#39;, &#39;l&#39;, &#39;o&#39;, &#39;a&#39;, &#39;t&#39;, &#39;i&#39;, &#39;n&#39;, &#39;g&#39;, &#39;_&#39;, &#39;s&#39;, &#39;p&#39;, &#39;e&#39;, &#39;c&#39;, &#39;i&#39;, &#39;e&#39;, &#39;s&#39;)&#45;&gt;(&#39;simple_copasi_from_file&#39;,) -->\n<g id=\"edge12\" class=\"edge\">\n<title>(&#39;simple_copasi_from_file&#39;, &#39;f&#39;, &#39;l&#39;, &#39;o&#39;, &#39;a&#39;, &#39;t&#39;, &#39;i&#39;, &#39;n&#39;, &#39;g&#39;, &#39;_&#39;, &#39;s&#39;, &#39;p&#39;, &#39;e&#39;, &#39;c&#39;, &#39;i&#39;, &#39;e&#39;, &#39;s&#39;)&#45;&gt;(&#39;simple_copasi_from_file&#39;,)</title>\n<path fill=\"none\" stroke=\"black\" stroke-dasharray=\"5,2\" d=\"M121.63,-179.22C133.05,-174.22 145.38,-166.51 151.98,-155.11 157.28,-145.95 152.81,-135.41 146.45,-126.7\"/>\n<polygon fill=\"black\" stroke=\"black\" points=\"120.68,-175.84 112.6,-182.69 123.19,-182.37 120.68,-175.84\"/>\n<text text-anchor=\"start\" x=\"154.98\" y=\"-145.61\" font-family=\"Times,serif\" font-size=\"10.00\">floating_species</text>\n</g>\n<!-- (&#39;simple_copasi_from_file&#39;, &#39;m&#39;, &#39;o&#39;, &#39;d&#39;, &#39;e&#39;, &#39;l&#39;, &#39;_&#39;, &#39;p&#39;, &#39;a&#39;, &#39;r&#39;, &#39;a&#39;, &#39;m&#39;, &#39;e&#39;, &#39;t&#39;, &#39;e&#39;, &#39;r&#39;, &#39;s&#39;) -->\n<!-- (&#39;simple_copasi_from_file&#39;, &#39;m&#39;, &#39;o&#39;, &#39;d&#39;, &#39;e&#39;, &#39;l&#39;, &#39;_&#39;, &#39;p&#39;, &#39;a&#39;, &#39;r&#39;, &#39;a&#39;, &#39;m&#39;, &#39;e&#39;, &#39;t&#39;, &#39;e&#39;, &#39;r&#39;, &#39;s&#39;)&#45;&gt;(&#39;simple_copasi_from_file&#39;,) -->\n<g id=\"edge5\" class=\"edge\">\n<title>(&#39;simple_copasi_from_file&#39;, &#39;m&#39;, &#39;o&#39;, &#39;d&#39;, &#39;e&#39;, &#39;l&#39;, &#39;_&#39;, &#39;p&#39;, &#39;a&#39;, &#39;r&#39;, &#39;a&#39;, &#39;m&#39;, &#39;e&#39;, &#39;t&#39;, &#39;e&#39;, &#39;r&#39;, &#39;s&#39;)&#45;&gt;(&#39;simple_copasi_from_file&#39;,)</title>\n<path fill=\"none\" stroke=\"black\" stroke-dasharray=\"5,2\" d=\"M255.65,-174.68C248.72,-165.07 238.06,-152.1 225.98,-143.86 218.57,-138.8 210.34,-134.38 201.9,-130.54\"/>\n<polygon fill=\"black\" stroke=\"black\" points=\"203.51,-127.42 192.94,-126.74 200.78,-133.86 203.51,-127.42\"/>\n<text text-anchor=\"start\" x=\"239.98\" y=\"-145.61\" font-family=\"Times,serif\" font-size=\"10.00\">model_parameters</text>\n</g>\n<!-- (&#39;simple_copasi_from_file&#39;, &#39;r&#39;, &#39;e&#39;, &#39;a&#39;, &#39;c&#39;, &#39;t&#39;, &#39;i&#39;, &#39;o&#39;, &#39;n&#39;, &#39;s&#39;) -->\n<!-- (&#39;simple_copasi_from_file&#39;, &#39;r&#39;, &#39;e&#39;, &#39;a&#39;, &#39;c&#39;, &#39;t&#39;, &#39;i&#39;, &#39;o&#39;, &#39;n&#39;, &#39;s&#39;)&#45;&gt;(&#39;simple_copasi_from_file&#39;,) -->\n<g id=\"edge6\" class=\"edge\">\n<title>(&#39;simple_copasi_from_file&#39;, &#39;r&#39;, &#39;e&#39;, &#39;a&#39;, &#39;c&#39;, &#39;t&#39;, &#39;i&#39;, &#39;o&#39;, &#39;n&#39;, &#39;s&#39;)&#45;&gt;(&#39;simple_copasi_from_file&#39;,)</title>\n<path fill=\"none\" stroke=\"black\" stroke-dasharray=\"5,2\" d=\"M352.2,-174.94C344.39,-164.93 332.05,-151.3 317.98,-143.86 282.7,-125.19 239.12,-116.32 202.7,-112.18\"/>\n<polygon fill=\"black\" stroke=\"black\" points=\"203.46,-108.74 193.15,-111.19 202.74,-115.7 203.46,-108.74\"/>\n<text text-anchor=\"start\" x=\"332.98\" y=\"-145.61\" font-family=\"Times,serif\" font-size=\"10.00\">reactions</text>\n</g>\n<!-- (&#39;copasi_process_from_biomodel&#39;, &#39;t&#39;, &#39;i&#39;, &#39;m&#39;, &#39;e&#39;) -->\n<!-- (&#39;copasi_process_from_biomodel&#39;, &#39;t&#39;, &#39;i&#39;, &#39;m&#39;, &#39;e&#39;)&#45;&gt;(&#39;copasi_process_from_biomodel&#39;,) -->\n<g id=\"edge7\" class=\"edge\">\n<title>(&#39;copasi_process_from_biomodel&#39;, &#39;t&#39;, &#39;i&#39;, &#39;m&#39;, &#39;e&#39;)&#45;&gt;(&#39;copasi_process_from_biomodel&#39;,)</title>\n<path fill=\"none\" stroke=\"black\" stroke-dasharray=\"5,2\" d=\"M428,-175.67C421.26,-166.35 414.79,-153.32 421.98,-143.86 427.36,-136.78 441.22,-130.77 457.88,-125.82\"/>\n<polygon fill=\"black\" stroke=\"black\" points=\"458.39,-129.31 467.1,-123.28 456.53,-122.56 458.39,-129.31\"/>\n<text text-anchor=\"start\" x=\"421.98\" y=\"-145.61\" font-family=\"Times,serif\" font-size=\"10.00\">time</text>\n</g>\n<!-- (&#39;copasi_process_from_biomodel&#39;, &#39;t&#39;, &#39;i&#39;, &#39;m&#39;, &#39;e&#39;)&#45;&gt;(&#39;copasi_process_from_biomodel&#39;,) -->\n<g id=\"edge13\" class=\"edge\">\n<title>(&#39;copasi_process_from_biomodel&#39;, &#39;t&#39;, &#39;i&#39;, &#39;m&#39;, &#39;e&#39;)&#45;&gt;(&#39;copasi_process_from_biomodel&#39;,)</title>\n<path fill=\"none\" stroke=\"black\" stroke-dasharray=\"5,2\" d=\"M455.33,-167.24C462.75,-159.38 471.8,-150.63 480.98,-143.86 489.53,-137.54 499.38,-131.72 508.85,-126.71\"/>\n<polygon fill=\"black\" stroke=\"black\" points=\"452.89,-164.72 448.76,-174.47 458.07,-169.43 452.89,-164.72\"/>\n<text text-anchor=\"start\" x=\"480.98\" y=\"-145.61\" font-family=\"Times,serif\" font-size=\"10.00\">time</text>\n</g>\n<!-- (&#39;copasi_process_from_biomodel&#39;, &#39;f&#39;, &#39;l&#39;, &#39;o&#39;, &#39;a&#39;, &#39;t&#39;, &#39;i&#39;, &#39;n&#39;, &#39;g&#39;, &#39;_&#39;, &#39;s&#39;, &#39;p&#39;, &#39;e&#39;, &#39;c&#39;, &#39;i&#39;, &#39;e&#39;, &#39;s&#39;) -->\n<!-- (&#39;copasi_process_from_biomodel&#39;, &#39;f&#39;, &#39;l&#39;, &#39;o&#39;, &#39;a&#39;, &#39;t&#39;, &#39;i&#39;, &#39;n&#39;, &#39;g&#39;, &#39;_&#39;, &#39;s&#39;, &#39;p&#39;, &#39;e&#39;, &#39;c&#39;, &#39;i&#39;, &#39;e&#39;, &#39;s&#39;)&#45;&gt;(&#39;copasi_process_from_biomodel&#39;,) -->\n<g id=\"edge8\" class=\"edge\">\n<title>(&#39;copasi_process_from_biomodel&#39;, &#39;f&#39;, &#39;l&#39;, &#39;o&#39;, &#39;a&#39;, &#39;t&#39;, &#39;i&#39;, &#39;n&#39;, &#39;g&#39;, &#39;_&#39;, &#39;s&#39;, &#39;p&#39;, &#39;e&#39;, &#39;c&#39;, &#39;i&#39;, &#39;e&#39;, &#39;s&#39;)&#45;&gt;(&#39;copasi_process_from_biomodel&#39;,)</title>\n<path fill=\"none\" stroke=\"black\" stroke-dasharray=\"5,2\" d=\"M533.7,-181.15C523.44,-175.88 510.36,-167.22 504.23,-155.11 500.53,-147.78 502.65,-140.82 507.53,-134.62\"/>\n<polygon fill=\"black\" stroke=\"black\" points=\"509.86,-137.24 514.54,-127.74 504.95,-132.25 509.86,-137.24\"/>\n<text text-anchor=\"start\" x=\"504.98\" y=\"-145.61\" font-family=\"Times,serif\" font-size=\"10.00\">floating_species</text>\n</g>\n<!-- (&#39;copasi_process_from_biomodel&#39;, &#39;f&#39;, &#39;l&#39;, &#39;o&#39;, &#39;a&#39;, &#39;t&#39;, &#39;i&#39;, &#39;n&#39;, &#39;g&#39;, &#39;_&#39;, &#39;s&#39;, &#39;p&#39;, &#39;e&#39;, &#39;c&#39;, &#39;i&#39;, &#39;e&#39;, &#39;s&#39;)&#45;&gt;(&#39;copasi_process_from_biomodel&#39;,) -->\n<g id=\"edge14\" class=\"edge\">\n<title>(&#39;copasi_process_from_biomodel&#39;, &#39;f&#39;, &#39;l&#39;, &#39;o&#39;, &#39;a&#39;, &#39;t&#39;, &#39;i&#39;, &#39;n&#39;, &#39;g&#39;, &#39;_&#39;, &#39;s&#39;, &#39;p&#39;, &#39;e&#39;, &#39;c&#39;, &#39;i&#39;, &#39;e&#39;, &#39;s&#39;)&#45;&gt;(&#39;copasi_process_from_biomodel&#39;,)</title>\n<path fill=\"none\" stroke=\"black\" stroke-dasharray=\"5,2\" d=\"M565.15,-167.15C567.55,-163.36 569.64,-159.27 570.98,-155.11 574.1,-145.37 569.88,-135.14 564.24,-126.78\"/>\n<polygon fill=\"black\" stroke=\"black\" points=\"562.41,-164.97 559.32,-175.11 568.05,-169.11 562.41,-164.97\"/>\n<text text-anchor=\"start\" x=\"572.98\" y=\"-145.61\" font-family=\"Times,serif\" font-size=\"10.00\">floating_species</text>\n</g>\n<!-- (&#39;copasi_process_from_biomodel&#39;, &#39;m&#39;, &#39;o&#39;, &#39;d&#39;, &#39;e&#39;, &#39;l&#39;, &#39;_&#39;, &#39;p&#39;, &#39;a&#39;, &#39;r&#39;, &#39;a&#39;, &#39;m&#39;, &#39;e&#39;, &#39;t&#39;, &#39;e&#39;, &#39;r&#39;, &#39;s&#39;) -->\n<!-- (&#39;copasi_process_from_biomodel&#39;, &#39;m&#39;, &#39;o&#39;, &#39;d&#39;, &#39;e&#39;, &#39;l&#39;, &#39;_&#39;, &#39;p&#39;, &#39;a&#39;, &#39;r&#39;, &#39;a&#39;, &#39;m&#39;, &#39;e&#39;, &#39;t&#39;, &#39;e&#39;, &#39;r&#39;, &#39;s&#39;)&#45;&gt;(&#39;copasi_process_from_biomodel&#39;,) -->\n<g id=\"edge9\" class=\"edge\">\n<title>(&#39;copasi_process_from_biomodel&#39;, &#39;m&#39;, &#39;o&#39;, &#39;d&#39;, &#39;e&#39;, &#39;l&#39;, &#39;_&#39;, &#39;p&#39;, &#39;a&#39;, &#39;r&#39;, &#39;a&#39;, &#39;m&#39;, &#39;e&#39;, &#39;t&#39;, &#39;e&#39;, &#39;r&#39;, &#39;s&#39;)&#45;&gt;(&#39;copasi_process_from_biomodel&#39;,)</title>\n<path fill=\"none\" stroke=\"black\" stroke-dasharray=\"5,2\" d=\"M674.36,-174.7C667.2,-165.1 656.24,-152.14 643.98,-143.86 637.03,-139.16 629.37,-135.01 621.51,-131.35\"/>\n<polygon fill=\"black\" stroke=\"black\" points=\"623.04,-128.2 612.48,-127.43 620.26,-134.62 623.04,-128.2\"/>\n<text text-anchor=\"start\" x=\"656.98\" y=\"-145.61\" font-family=\"Times,serif\" font-size=\"10.00\">model_parameters</text>\n</g>\n<!-- (&#39;copasi_process_from_biomodel&#39;, &#39;r&#39;, &#39;e&#39;, &#39;a&#39;, &#39;c&#39;, &#39;t&#39;, &#39;i&#39;, &#39;o&#39;, &#39;n&#39;, &#39;s&#39;) -->\n<!-- (&#39;copasi_process_from_biomodel&#39;, &#39;r&#39;, &#39;e&#39;, &#39;a&#39;, &#39;c&#39;, &#39;t&#39;, &#39;i&#39;, &#39;o&#39;, &#39;n&#39;, &#39;s&#39;)&#45;&gt;(&#39;copasi_process_from_biomodel&#39;,) -->\n<g id=\"edge10\" class=\"edge\">\n<title>(&#39;copasi_process_from_biomodel&#39;, &#39;r&#39;, &#39;e&#39;, &#39;a&#39;, &#39;c&#39;, &#39;t&#39;, &#39;i&#39;, &#39;o&#39;, &#39;n&#39;, &#39;s&#39;)&#45;&gt;(&#39;copasi_process_from_biomodel&#39;,)</title>\n<path fill=\"none\" stroke=\"black\" stroke-dasharray=\"5,2\" d=\"M770.99,-175.35C762.76,-165.31 749.64,-151.42 734.98,-143.86 705.44,-128.62 670.23,-119.95 638.37,-115.05\"/>\n<polygon fill=\"black\" stroke=\"black\" points=\"639.14,-111.62 628.75,-113.68 638.16,-118.55 639.14,-111.62\"/>\n<text text-anchor=\"start\" x=\"749.98\" y=\"-145.61\" font-family=\"Times,serif\" font-size=\"10.00\">reactions</text>\n</g>\n</g>\n</svg>\n",
      "text/plain": "<graphviz.graphs.Digraph at 0x29c86d960>"
     },
     "execution_count": 19,
     "metadata": {},
     "output_type": "execute_result"
    }
   ],
   "source": [
    "b.visualize()"
   ]
  },
  {
   "cell_type": "markdown",
   "source": [
    "Connect the processes together with the default store name:"
   ],
   "metadata": {
    "collapsed": false
   },
   "id": "1438b52fbe49c4eb"
  },
  {
   "cell_type": "code",
   "outputs": [
    {
     "data": {
      "text/plain": "Builder({ 'copasi_process_from_biomodel': { '_type': 'process',\n                                    'address': 'local:CopasiProcess',\n                                    'config': { 'method': 'directMethod',\n                                                'model': { 'model_changes': { 'global_parameter_changes': [ ],\n                                                                              'reaction_changes': [ { 'parameter_changes': [ { 'parameter_name': 'EpoRpRJAK2',\n                                                                                                                               'value': 21312.2},\n                                                                                                                             { 'parameter_name': 'EpoRJAK2',\n                                                                                                                               'value': 21312.2}],\n                                                                                                      'reaction_name': 'reaction_1',\n                                                                                                      'reaction_scheme': None},\n                                                                                                    { 'parameter_changes': [ ],\n                                                                                                      'reaction_name': 'reaction_11',\n                                                                                                      'reaction_scheme': 'A '\n                                                                                                                         '+ '\n                                                                                                                         'B '\n                                                                                                                         '-> '\n                                                                                                                         'C'}],\n                                                                              'species_changes': [ ]},\n                                                           'model_id': 'BIOMD0000000861',\n                                                           'model_language': 'sbml',\n                                                           'model_name': 'composite_from_biomodel',\n                                                           'model_source': { 'value': 'BIOMD0000000861'},\n                                                           'model_units': None}},\n                                    'inputs': { 'floating_species': [ 'floating_species_store'],\n                                                'model_parameters': [ 'model_parameters_store'],\n                                                'reactions': [ 'reactions_store'],\n                                                'time': ['time_store']},\n                                    'instance': <biosimulator_processes.processes.copasi_process.CopasiProcess object at 0x29ccd70d0>,\n                                    'interval': 1.0,\n                                    'outputs': { 'floating_species': [ 'floating_species_store'],\n                                                 'time': ['time_store']}},\n  'simple_copasi_from_file': { '_type': 'process',\n                               'address': 'local:CopasiProcess',\n                               'config': { 'method': 'stochastic',\n                                           'model': { 'model_changes': { 'global_parameter_changes': [ ],\n                                                                         'reaction_changes': [ ],\n                                                                         'species_changes': [ { 'expression': '',\n                                                                                                'initial_concentration': 9.261000000000001,\n                                                                                                'initial_expression': '',\n                                                                                                'initial_particle_number': None,\n                                                                                                'unit': ''}]},\n                                                      'model_id': 'copasi_process_from_file',\n                                                      'model_language': 'sbml',\n                                                      'model_name': 'Simple '\n                                                                    'Composite '\n                                                                    'Process '\n                                                                    'from File',\n                                                      'model_source': { 'value': '../biosimulator_processes/model_files/BIOMD0000000061_url.xml'},\n                                                      'model_units': None}},\n                               'inputs': { 'floating_species': [ 'floating_species_store'],\n                                           'model_parameters': [ 'model_parameters_store'],\n                                           'reactions': ['reactions_store'],\n                                           'time': ['time_store']},\n                               'instance': <biosimulator_processes.processes.copasi_process.CopasiProcess object at 0x105cc1360>,\n                               'interval': 1.0,\n                               'outputs': { 'floating_species': [ 'floating_species_store'],\n                                            'time': ['time_store']}}})"
     },
     "execution_count": 20,
     "metadata": {},
     "output_type": "execute_result"
    }
   ],
   "source": [
    "b.connect_all(append_to_store_name='_store')\n",
    "\n",
    "b"
   ],
   "metadata": {
    "collapsed": false,
    "ExecuteTime": {
     "end_time": "2024-03-04T18:17:08.884244Z",
     "start_time": "2024-03-04T18:17:08.876800Z"
    }
   },
   "id": "d9bef3f51b50fbd5",
   "execution_count": 20
  },
  {
   "cell_type": "code",
   "outputs": [],
   "source": [],
   "metadata": {
    "collapsed": false
   },
   "id": "30ace33f0337beb4"
  }
 ],
 "metadata": {
  "kernelspec": {
   "display_name": "Python 3",
   "language": "python",
   "name": "python3"
  },
  "language_info": {
   "codemirror_mode": {
    "name": "ipython",
    "version": 2
   },
   "file_extension": ".py",
   "mimetype": "text/x-python",
   "name": "python",
   "nbconvert_exporter": "python",
   "pygments_lexer": "ipython2",
   "version": "2.7.6"
  }
 },
 "nbformat": 4,
 "nbformat_minor": 5
}
