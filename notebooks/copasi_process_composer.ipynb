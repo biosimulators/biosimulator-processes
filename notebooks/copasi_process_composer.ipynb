{
 "cells": [
  {
   "cell_type": "markdown",
   "id": "d0676f702366d09c",
   "metadata": {
    "collapsed": false
   },
   "source": [
    "# CopasiProcess Composer"
   ]
  },
  {
   "cell_type": "code",
   "execution_count": null,
   "id": "initial_id",
   "metadata": {},
   "outputs": [],
   "source": [
    "import sys \n",
    "\n",
    "sys.path.insert(0, '..')"
   ]
  },
  {
   "cell_type": "code",
   "execution_count": 1,
   "id": "c6c10dc5988e52d4",
   "metadata": {
    "collapsed": false,
    "ExecuteTime": {
     "end_time": "2024-02-28T20:57:05.779779Z",
     "start_time": "2024-02-28T20:57:03.764811Z"
    }
   },
   "outputs": [
    {
     "name": "stdout",
     "output_type": "stream",
     "text": [
      "CobraProcess registered successfully.\n",
      "CopasiProcess registered successfully.\n",
      "SmoldynProcess registered successfully.\n",
      "TelluriumProcess registered successfully.\n"
     ]
    }
   ],
   "source": [
    "import os \n",
    "from basico import *\n",
    "from process_bigraph import Composite, pf \n",
    "from biosimulator_processes.processes.copasi_process import CopasiProcess\n",
    "from biosimulator_processes.process_types import MODEL_TYPE, CHANGES_SCHEMA"
   ]
  },
  {
   "cell_type": "markdown",
   "id": "ac92611c7adf47e1",
   "metadata": {
    "collapsed": false
   },
   "source": [
    "### Example 1: Define a single process instance and a corresponding emitter"
   ]
  },
  {
   "cell_type": "markdown",
   "id": "8608877d697af60c",
   "metadata": {
    "collapsed": false
   },
   "source": [
    "##### 1. Define the schema by which our Composite instance will be configured. Here a user chooses an entrypoint through which to instantiate the composite process. We will use an SBML-encoded model file as our entrypoint in this example."
   ]
  },
  {
   "cell_type": "markdown",
   "source": [
    "\n",
    "##### **As per the `CopasiProcess` constructor, there are three primary methods of entry:**\n",
    "    \n",
    "\n",
    "    # Parse values from the process `config` attribute dictionary:\n",
    "    \n",
    "        model_file = self.config.get('model').get('model_source')\n",
    "        sed_model_id = self.config.get('model').get('model_id')\n",
    "        biomodel_id = self.config.get('biomodel_id')\n",
    "        source_model_id = biomodel_id or sed_model_id\n",
    "\n",
    "\n",
    "    # A. enter with model_file\n",
    "    \n",
    "        if model_file:\n",
    "            self.copasi_model_object = load_model(model_file)\n",
    "    \n",
    "\n",
    "    # B. enter with specific search term for a model\n",
    "     \n",
    "        elif source_model_id:\n",
    "            self.copasi_model_object = fetch_biomodel(model_id=source_model_id)\n",
    "    \n",
    "\n",
    "    # C. enter with a new model\n",
    "    \n",
    "        else:\n",
    "            self.copasi_model_object = new_model(name='CopasiProcess Model')"
   ],
   "metadata": {
    "collapsed": false
   },
   "id": "63a90540d44034e1"
  },
  {
   "cell_type": "markdown",
   "source": [
    "##### Here we define the schema for a single process based on the provided entrypoint."
   ],
   "metadata": {
    "collapsed": false
   },
   "id": "c2537269b7efeee0"
  },
  {
   "cell_type": "code",
   "execution_count": null,
   "id": "77636dbde3fa6b74",
   "metadata": {
    "collapsed": false
   },
   "outputs": [],
   "source": [
    "root = os.path.abspath('..')\n",
    "model_path = os.path.join(root, 'biosimulator_processes/model_files/Caravagna2010.xml')\n",
    "\n",
    "instance = {\n",
    "    'copasi': {\n",
    "        '_type': 'process',\n",
    "        'address': 'local:copasi',\n",
    "        'config': {\n",
    "            'model': {\n",
    "                'model_source': model_path\n",
    "            }\n",
    "        },\n",
    "        'inputs': {\n",
    "            'floating_species': ['floating_species_store'],\n",
    "            'model_parameters': ['model_parameters_store'],\n",
    "            'time': ['time_store'],\n",
    "            'reactions': ['reactions_store']\n",
    "        },\n",
    "        'outputs': {\n",
    "            'floating_species': ['floating_species_store'],\n",
    "            'time': ['time_store'],\n",
    "        }\n",
    "    },\n",
    "    'emitter': {\n",
    "        '_type': 'step',\n",
    "        'address': 'local:ram-emitter',\n",
    "        'config': {\n",
    "            'emit': {\n",
    "                'floating_species': 'tree[float]',\n",
    "                'time': 'float',\n",
    "            },\n",
    "        },\n",
    "        'inputs': {\n",
    "            'floating_species': ['floating_species_store'],\n",
    "            'time': ['time_store'],\n",
    "        }\n",
    "    }\n",
    "}"
   ]
  },
  {
   "cell_type": "markdown",
   "id": "e5199aee6d533761",
   "metadata": {
    "collapsed": false
   },
   "source": [
    "##### 2. Instantiate the Process-Bigraph-Engine with the Composite class"
   ]
  },
  {
   "cell_type": "code",
   "execution_count": null,
   "id": "4c2ef631b005be61",
   "metadata": {
    "collapsed": false
   },
   "outputs": [],
   "source": [
    "workflow = Composite({\n",
    "    'state': instance\n",
    "})"
   ]
  },
  {
   "cell_type": "markdown",
   "id": "6a402e48fbc30a5b",
   "metadata": {
    "collapsed": false
   },
   "source": [
    "##### 3. Run the Composite workflow with the Engine"
   ]
  },
  {
   "cell_type": "code",
   "execution_count": null,
   "id": "98676149a4ce822f",
   "metadata": {
    "collapsed": false
   },
   "outputs": [],
   "source": [
    "workflow.run(10)"
   ]
  },
  {
   "cell_type": "markdown",
   "id": "d0ff3a2822a8fa2c",
   "metadata": {
    "collapsed": false
   },
   "source": [
    "##### 4. Gather and neatly-print the results."
   ]
  },
  {
   "cell_type": "code",
   "execution_count": null,
   "id": "c15cee593ef000a7",
   "metadata": {
    "collapsed": false
   },
   "outputs": [],
   "source": [
    "results = workflow.gather_results()\n",
    "\n",
    "print(f'RESULTS: {pf(results)}')"
   ]
  },
  {
   "cell_type": "markdown",
   "id": "b098a589f08ce138",
   "metadata": {
    "collapsed": false
   },
   "source": [
    "##### 5. Plot/Analyze the results with Plotly"
   ]
  },
  {
   "cell_type": "code",
   "execution_count": null,
   "id": "297504800772775e",
   "metadata": {
    "collapsed": false
   },
   "outputs": [],
   "source": [
    "# 5. Plot/Analyze the results"
   ]
  },
  {
   "cell_type": "markdown",
   "id": "2afe93d975ed2aee",
   "metadata": {
    "collapsed": false
   },
   "source": [
    "#### Example 2: Define a single-process composition from a given BioModels model id and make model changes. The options available for configuration of a `'model'` that can be run by the composite process are based on SEDML L1V4 specifications. Please note that not all parameters are required in this configuration."
   ]
  },
  {
   "cell_type": "code",
   "outputs": [
    {
     "data": {
      "text/plain": "'The following types have been derived from both SEDML L1v4 and basico itself.\\n\\n        BASICO_MODEL_CHANGES_TYPE = {\\n            \\'species_changes\\': {   # <-- this is done like set_species(\\'B\\', kwarg=) where the inner most keys are the kwargs\\n                \\'species_name\\': {\\n                    \\'unit\\': \\'maybe[string]\\',\\n                    \\'initial_concentration\\': \\'maybe[float]\\',\\n                    \\'initial_particle_number\\': \\'maybe[float]\\',\\n                    \\'initial_expression\\': \\'maybe[string]\\',\\n                    \\'expression\\': \\'maybe[string]\\'\\n                }\\n            },\\n            \\'global_parameter_changes\\': {   # <-- this is done with set_parameters(PARAM, kwarg=). where the inner most keys are the kwargs\\n                \\'global_parameter_name\\': {\\n                    \\'initial_value\\': \\'maybe[float]\\',\\n                    \\'initial_expression\\': \\'maybe[string]\\',\\n                    \\'expression\\': \\'maybe[string]\\',\\n                    \\'status\\': \\'maybe[string]\\',\\n                    \\'type\\': \\'maybe[string]\\'  # (ie: fixed, assignment, reactions)\\n                }\\n            },\\n            \\'reaction_changes\\': {\\n                \\'reaction_name\\': {\\n                    \\'parameters\\': {\\n                        \\'reaction_parameter_name\\': \\'maybe[int]\\'  # (new reaction_parameter_name value)  <-- this is done with set_reaction_parameters(name=\"(REACTION_NAME).REACTION_NAME_PARAM\", value=VALUE)\\n                    },\\n                    \\'reaction_scheme\\': \\'maybe[string]\\'   # <-- this is done like set_reaction(name = \\'R1\\', scheme = \\'S + E + F = ES\\')\\n                }\\n            }\\n        }\\n'"
     },
     "execution_count": 2,
     "metadata": {},
     "output_type": "execute_result"
    }
   ],
   "source": [
    "CHANGES_SCHEMA"
   ],
   "metadata": {
    "collapsed": false,
    "ExecuteTime": {
     "end_time": "2024-02-28T20:57:27.860061Z",
     "start_time": "2024-02-28T20:57:27.857520Z"
    }
   },
   "id": "433d58bbe38402af",
   "execution_count": 2
  },
  {
   "cell_type": "code",
   "outputs": [],
   "source": [
    "instance = {\n",
    "    'copasi': {\n",
    "        '_type': 'process',\n",
    "        'address': 'local:copasi',\n",
    "        'config': {\n",
    "            'model': {\n",
    "                'model_changes': {\n",
    "                    'reaction_changes': {\n",
    "                        'R1': 'A -> B'\n",
    "                    }\n",
    "                }\n",
    "            }\n",
    "        },\n",
    "        'inputs': {\n",
    "            'floating_species': ['floating_species_store'],\n",
    "            'model_parameters': ['model_parameters_store'],\n",
    "            'time': ['time_store'],\n",
    "            'reactions': ['reactions_store']\n",
    "        },\n",
    "        'outputs': {\n",
    "            'floating_species': ['floating_species_store'],\n",
    "            'time': ['time_store'],\n",
    "        }\n",
    "    },\n",
    "    'emitter': {\n",
    "        '_type': 'step',\n",
    "        'address': 'local:ram-emitter',\n",
    "        'config': {\n",
    "            'emit': {\n",
    "                'floating_species': 'tree[float]',\n",
    "                'time': 'float',\n",
    "            },\n",
    "        },\n",
    "        'inputs': {\n",
    "            'floating_species': ['floating_species_store'],\n",
    "            'time': ['time_store'],\n",
    "        }\n",
    "    }\n",
    "}"
   ],
   "metadata": {
    "collapsed": false
   },
   "id": "8178d3c295764eb6"
  },
  {
   "cell_type": "code",
   "execution_count": null,
   "id": "1a51b92b-35af-4d94-b9d5-97da90cfa5bd",
   "metadata": {},
   "outputs": [],
   "source": []
  },
  {
   "cell_type": "markdown",
   "source": [
    "#### Example 2a: Define a single process with a different entrypoint."
   ],
   "metadata": {
    "collapsed": false
   },
   "id": "527d7217e4fc20c4"
  },
  {
   "cell_type": "markdown",
   "source": [
    "#### Example 3: Define multiple processes in the same instance for a parameter scan. "
   ],
   "metadata": {
    "collapsed": false
   },
   "id": "ebf2bf601e5054a6"
  },
  {
   "cell_type": "code",
   "outputs": [],
   "source": [],
   "metadata": {
    "collapsed": false
   },
   "id": "c7280f14074f4b17"
  }
 ],
 "metadata": {
  "kernelspec": {
   "display_name": "Python 3 (ipykernel)",
   "language": "python",
   "name": "python3"
  },
  "language_info": {
   "codemirror_mode": {
    "name": "ipython",
    "version": 3
   },
   "file_extension": ".py",
   "mimetype": "text/x-python",
   "name": "python",
   "nbconvert_exporter": "python",
   "pygments_lexer": "ipython3",
   "version": "3.10.13"
  }
 },
 "nbformat": 4,
 "nbformat_minor": 5
}
