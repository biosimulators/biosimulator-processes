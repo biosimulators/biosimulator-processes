{
 "cells": [
  {
   "cell_type": "markdown",
   "id": "d0676f702366d09c",
   "metadata": {
    "collapsed": false
   },
   "source": [
    "# CopasiProcess Composer"
   ]
  },
  {
   "cell_type": "code",
   "execution_count": 1,
   "id": "initial_id",
   "metadata": {
    "ExecuteTime": {
     "end_time": "2024-02-27T21:20:21.639742Z",
     "start_time": "2024-02-27T21:20:21.636935Z"
    }
   },
   "outputs": [],
   "source": [
    "import sys \n",
    "\n",
    "sys.path.insert(0, '..')"
   ]
  },
  {
   "cell_type": "code",
   "execution_count": 2,
   "id": "b9e880d6859188a4",
   "metadata": {
    "collapsed": false,
    "ExecuteTime": {
     "end_time": "2024-02-27T21:20:21.766781Z",
     "start_time": "2024-02-27T21:20:21.640680Z"
    }
   },
   "outputs": [
    {
     "name": "stdout",
     "output_type": "stream",
     "text": [
      "Python 3.10.5\r\n"
     ]
    }
   ],
   "source": [
    "!python3 --version"
   ]
  },
  {
   "cell_type": "code",
   "execution_count": 1,
   "id": "c6c10dc5988e52d4",
   "metadata": {
    "collapsed": false,
    "ExecuteTime": {
     "end_time": "2024-02-27T21:24:25.592805Z",
     "start_time": "2024-02-27T21:24:23.855895Z"
    }
   },
   "outputs": [
    {
     "name": "stdout",
     "output_type": "stream",
     "text": [
      "CobraProcess registered successfully.\n",
      "CopasiProcess registered successfully.\n",
      "SmoldynProcess not available. Error: \n",
      "PLEASE NOTE: Smoldyn is not correctly installed on your system which prevents you from using the SmoldynProcess. Please refer to the README for further information on installing Smoldyn.\n",
      "TelluriumProcess registered successfully.\n"
     ]
    }
   ],
   "source": [
    "from basico import *\n",
    "from basico import biomodels\n",
    "from process_bigraph import Composite, pf \n",
    "from biosimulator_processes.processes.copasi_process import CopasiProcess"
   ]
  },
  {
   "cell_type": "markdown",
   "id": "ac92611c7adf47e1",
   "metadata": {
    "collapsed": false
   },
   "source": [
    "## Example 1: Define a single process instance and a corresponding emitter"
   ]
  },
  {
   "cell_type": "markdown",
   "id": "8608877d697af60c",
   "metadata": {
    "collapsed": false
   },
   "source": [
    "##### 1. Define the schema by which our Composite instance will be configured"
   ]
  },
  {
   "cell_type": "code",
   "execution_count": 3,
   "outputs": [
    {
     "data": {
      "text/plain": "True"
     },
     "execution_count": 3,
     "metadata": {},
     "output_type": "execute_result"
    }
   ],
   "source": [
    "import os \n",
    "os.getcwd()\n",
    "\n",
    "os.path.exists('../biosimulator_processes/model_files/Caravagna2010.xml')"
   ],
   "metadata": {
    "collapsed": false,
    "ExecuteTime": {
     "end_time": "2024-02-27T21:24:37.452780Z",
     "start_time": "2024-02-27T21:24:37.439381Z"
    }
   },
   "id": "b5383de4f0ddbd0b"
  },
  {
   "cell_type": "code",
   "execution_count": 4,
   "id": "77636dbde3fa6b74",
   "metadata": {
    "collapsed": false,
    "ExecuteTime": {
     "end_time": "2024-02-27T21:24:38.070275Z",
     "start_time": "2024-02-27T21:24:38.065022Z"
    }
   },
   "outputs": [],
   "source": [
    "instance = {\n",
    "    'copasi': {\n",
    "        '_type': 'process',\n",
    "        'address': 'local:copasi',\n",
    "        'config': {\n",
    "            'model_file': '../biosimulator_processes/model_files/Caravagna2010.xml'\n",
    "        },\n",
    "        'inputs': {\n",
    "            'floating_species': ['floating_species_store'],\n",
    "            'model_parameters': ['model_parameters_store'],\n",
    "            'time': ['time_store'],\n",
    "            'reactions': ['reactions_store']\n",
    "        },\n",
    "        'outputs': {\n",
    "            'floating_species': ['floating_species_store'],\n",
    "            'time': ['time_store'],\n",
    "        }\n",
    "    },\n",
    "    # TODO: Add emitter schema\n",
    "    'emitter': {\n",
    "        '_type': 'step',\n",
    "        'address': 'local:ram-emitter',\n",
    "        'config': {\n",
    "            'emit': {\n",
    "                'floating_species': 'tree[float]',\n",
    "                'time': 'float',\n",
    "            },\n",
    "        },\n",
    "        'inputs': {\n",
    "            'floating_species': ['floating_species_store'],\n",
    "            'time': ['time_store'],\n",
    "        }\n",
    "    }\n",
    "}"
   ]
  },
  {
   "cell_type": "code",
   "execution_count": null,
   "outputs": [],
   "source": [
    "from biosimulator_processes.processes"
   ],
   "metadata": {
    "collapsed": false
   },
   "id": "55527e1d306f4825"
  },
  {
   "cell_type": "code",
   "execution_count": 7,
   "id": "90ccd6ca-a60b-4461-a9e8-b8221124d2b7",
   "metadata": {},
   "outputs": [],
   "source": [
    "def fetch_biomodel(term: str, index: int = 0):\n",
    "        \"\"\"Search for models matching the term and return an instantiated model from BioModels.\n",
    "\n",
    "            Args:\n",
    "                term:`str`: search term\n",
    "                index:`int`: selector index for model choice\n",
    "\n",
    "            Returns:\n",
    "                `CDataModel` instance of loaded model.\n",
    "            TODO: Implement a dynamic search of this\n",
    "        \"\"\"\n",
    "        models = biomodels.search_for_model(term)\n",
    "        model = models[index]\n",
    "        sbml = biomodels.get_content_for_model(model['id'])\n",
    "        return load_model_from_string(sbml)"
   ]
  },
  {
   "cell_type": "code",
   "execution_count": 8,
   "id": "cdd87fe8-0f8a-4606-8339-ae839bc38421",
   "metadata": {},
   "outputs": [],
   "source": [
    "model = fetch_biomodel('insulin')"
   ]
  },
  {
   "cell_type": "code",
   "execution_count": 9,
   "id": "99acdcb5-c624-4192-a8e8-8af7b89f5ced",
   "metadata": {},
   "outputs": [
    {
     "data": {
      "text/html": [
       "<div>\n",
       "<style scoped>\n",
       "    .dataframe tbody tr th:only-of-type {\n",
       "        vertical-align: middle;\n",
       "    }\n",
       "\n",
       "    .dataframe tbody tr th {\n",
       "        vertical-align: top;\n",
       "    }\n",
       "\n",
       "    .dataframe thead th {\n",
       "        text-align: right;\n",
       "    }\n",
       "</style>\n",
       "<table border=\"1\" class=\"dataframe\">\n",
       "  <thead>\n",
       "    <tr style=\"text-align: right;\">\n",
       "      <th></th>\n",
       "      <th>scheme</th>\n",
       "      <th>flux</th>\n",
       "      <th>particle_flux</th>\n",
       "      <th>function</th>\n",
       "      <th>key</th>\n",
       "      <th>sbml_id</th>\n",
       "      <th>mapping</th>\n",
       "    </tr>\n",
       "    <tr>\n",
       "      <th>name</th>\n",
       "      <th></th>\n",
       "      <th></th>\n",
       "      <th></th>\n",
       "      <th></th>\n",
       "      <th></th>\n",
       "      <th></th>\n",
       "      <th></th>\n",
       "    </tr>\n",
       "  </thead>\n",
       "  <tbody>\n",
       "    <tr>\n",
       "      <th>v1</th>\n",
       "      <td>EGF + EGFR = EGF-EGFR</td>\n",
       "      <td>744300.0</td>\n",
       "      <td>744300.0</td>\n",
       "      <td>Function for v1</td>\n",
       "      <td>Reaction_0</td>\n",
       "      <td>v1</td>\n",
       "      <td>{'c1': 'extracellular volume', 'c2': 'cytoplas...</td>\n",
       "    </tr>\n",
       "    <tr>\n",
       "      <th>v2</th>\n",
       "      <td>2 * EGF-EGFR = EGF-EGFR^2</td>\n",
       "      <td>0.0</td>\n",
       "      <td>0.0</td>\n",
       "      <td>Function for v2</td>\n",
       "      <td>Reaction_1</td>\n",
       "      <td>v2</td>\n",
       "      <td>{'c2': 'cytoplasm', 'k2': 'k2', 'kr2': 'kr2', ...</td>\n",
       "    </tr>\n",
       "    <tr>\n",
       "      <th>v3</th>\n",
       "      <td>EGF-EGFR^2 = EGF-EGFR*^2</td>\n",
       "      <td>0.0</td>\n",
       "      <td>0.0</td>\n",
       "      <td>Function for v3</td>\n",
       "      <td>Reaction_2</td>\n",
       "      <td>v3</td>\n",
       "      <td>{'c2': 'cytoplasm', 'k3': 'k3', 'kr3': 'kr3', ...</td>\n",
       "    </tr>\n",
       "    <tr>\n",
       "      <th>v4</th>\n",
       "      <td>EGF-EGFR*^2-GAP-Grb2 + Prot = EGF-EGFR*^2-GAP-...</td>\n",
       "      <td>0.0</td>\n",
       "      <td>0.0</td>\n",
       "      <td>Function for v4</td>\n",
       "      <td>Reaction_3</td>\n",
       "      <td>v4</td>\n",
       "      <td>{'c2': 'cytoplasm', 'k4': 'k4', 'kr4': 'kr4', ...</td>\n",
       "    </tr>\n",
       "    <tr>\n",
       "      <th>v5</th>\n",
       "      <td>EGF-EGFR*^2-GAP-Grb2-Prot = EGF-EGFRi*^2-GAP-G...</td>\n",
       "      <td>0.0</td>\n",
       "      <td>0.0</td>\n",
       "      <td>Function for v5</td>\n",
       "      <td>Reaction_4</td>\n",
       "      <td>v5</td>\n",
       "      <td>{'k5': 'k5', 'x7': 'EGF-EGFR*^2-GAP-Grb2-Prot'}</td>\n",
       "    </tr>\n",
       "    <tr>\n",
       "      <th>...</th>\n",
       "      <td>...</td>\n",
       "      <td>...</td>\n",
       "      <td>...</td>\n",
       "      <td>...</td>\n",
       "      <td>...</td>\n",
       "      <td>...</td>\n",
       "      <td>...</td>\n",
       "    </tr>\n",
       "    <tr>\n",
       "      <th>v121</th>\n",
       "      <td>EGF-EGFR*^2-GAP-Shc*-Grb2-Sos-Ras-GDP + Prot =...</td>\n",
       "      <td>0.0</td>\n",
       "      <td>0.0</td>\n",
       "      <td>Function for v121</td>\n",
       "      <td>Reaction_120</td>\n",
       "      <td>v121</td>\n",
       "      <td>{'c2': 'cytoplasm', 'k4': 'k4', 'kr4': 'kr4', ...</td>\n",
       "    </tr>\n",
       "    <tr>\n",
       "      <th>v122</th>\n",
       "      <td>EGF-EGFR*^2-GAP-Shc*-Grb2-Sos-Ras-GDP-Prot = P...</td>\n",
       "      <td>0.0</td>\n",
       "      <td>0.0</td>\n",
       "      <td>Function for v122</td>\n",
       "      <td>Reaction_121</td>\n",
       "      <td>v122</td>\n",
       "      <td>{'k5': 'k5', 'x93': 'EGF-EGFR*^2-GAP-Shc*-Grb2...</td>\n",
       "    </tr>\n",
       "    <tr>\n",
       "      <th>v123</th>\n",
       "      <td>EGF-EGFR*^2-GAP-Shc*-Grb2-Sos-Ras-GTP = EGF-EG...</td>\n",
       "      <td>0.0</td>\n",
       "      <td>0.0</td>\n",
       "      <td>Function for v123</td>\n",
       "      <td>Reaction_122</td>\n",
       "      <td>v123</td>\n",
       "      <td>{'c2': 'cytoplasm', 'k6': 'k6', 'kr6': 'kr6', ...</td>\n",
       "    </tr>\n",
       "    <tr>\n",
       "      <th>v124</th>\n",
       "      <td>EGF-EGFR*^2-GAP-Shc*-Grb2-Sos-Ras-GTP + Prot =...</td>\n",
       "      <td>0.0</td>\n",
       "      <td>0.0</td>\n",
       "      <td>Function for v124</td>\n",
       "      <td>Reaction_123</td>\n",
       "      <td>v124</td>\n",
       "      <td>{'c2': 'cytoplasm', 'k4': 'k4', 'kr4': 'kr4', ...</td>\n",
       "    </tr>\n",
       "    <tr>\n",
       "      <th>v125</th>\n",
       "      <td>EGF-EGFR*^2-GAP-Shc*-Grb2-Sos-Ras-GTP-Prot = E...</td>\n",
       "      <td>0.0</td>\n",
       "      <td>0.0</td>\n",
       "      <td>Function for v125</td>\n",
       "      <td>Reaction_124</td>\n",
       "      <td>v125</td>\n",
       "      <td>{'k5': 'k5', 'x94': 'EGF-EGFR*^2-GAP-Shc*-Grb2...</td>\n",
       "    </tr>\n",
       "  </tbody>\n",
       "</table>\n",
       "<p>125 rows × 7 columns</p>\n",
       "</div>"
      ],
      "text/plain": [
       "                                                 scheme      flux  \\\n",
       "name                                                                \n",
       "v1                                EGF + EGFR = EGF-EGFR  744300.0   \n",
       "v2                            2 * EGF-EGFR = EGF-EGFR^2       0.0   \n",
       "v3                             EGF-EGFR^2 = EGF-EGFR*^2       0.0   \n",
       "v4    EGF-EGFR*^2-GAP-Grb2 + Prot = EGF-EGFR*^2-GAP-...       0.0   \n",
       "v5    EGF-EGFR*^2-GAP-Grb2-Prot = EGF-EGFRi*^2-GAP-G...       0.0   \n",
       "...                                                 ...       ...   \n",
       "v121  EGF-EGFR*^2-GAP-Shc*-Grb2-Sos-Ras-GDP + Prot =...       0.0   \n",
       "v122  EGF-EGFR*^2-GAP-Shc*-Grb2-Sos-Ras-GDP-Prot = P...       0.0   \n",
       "v123  EGF-EGFR*^2-GAP-Shc*-Grb2-Sos-Ras-GTP = EGF-EG...       0.0   \n",
       "v124  EGF-EGFR*^2-GAP-Shc*-Grb2-Sos-Ras-GTP + Prot =...       0.0   \n",
       "v125  EGF-EGFR*^2-GAP-Shc*-Grb2-Sos-Ras-GTP-Prot = E...       0.0   \n",
       "\n",
       "      particle_flux           function           key sbml_id  \\\n",
       "name                                                           \n",
       "v1         744300.0    Function for v1    Reaction_0      v1   \n",
       "v2              0.0    Function for v2    Reaction_1      v2   \n",
       "v3              0.0    Function for v3    Reaction_2      v3   \n",
       "v4              0.0    Function for v4    Reaction_3      v4   \n",
       "v5              0.0    Function for v5    Reaction_4      v5   \n",
       "...             ...                ...           ...     ...   \n",
       "v121            0.0  Function for v121  Reaction_120    v121   \n",
       "v122            0.0  Function for v122  Reaction_121    v122   \n",
       "v123            0.0  Function for v123  Reaction_122    v123   \n",
       "v124            0.0  Function for v124  Reaction_123    v124   \n",
       "v125            0.0  Function for v125  Reaction_124    v125   \n",
       "\n",
       "                                                mapping  \n",
       "name                                                     \n",
       "v1    {'c1': 'extracellular volume', 'c2': 'cytoplas...  \n",
       "v2    {'c2': 'cytoplasm', 'k2': 'k2', 'kr2': 'kr2', ...  \n",
       "v3    {'c2': 'cytoplasm', 'k3': 'k3', 'kr3': 'kr3', ...  \n",
       "v4    {'c2': 'cytoplasm', 'k4': 'k4', 'kr4': 'kr4', ...  \n",
       "v5      {'k5': 'k5', 'x7': 'EGF-EGFR*^2-GAP-Grb2-Prot'}  \n",
       "...                                                 ...  \n",
       "v121  {'c2': 'cytoplasm', 'k4': 'k4', 'kr4': 'kr4', ...  \n",
       "v122  {'k5': 'k5', 'x93': 'EGF-EGFR*^2-GAP-Shc*-Grb2...  \n",
       "v123  {'c2': 'cytoplasm', 'k6': 'k6', 'kr6': 'kr6', ...  \n",
       "v124  {'c2': 'cytoplasm', 'k4': 'k4', 'kr4': 'kr4', ...  \n",
       "v125  {'k5': 'k5', 'x94': 'EGF-EGFR*^2-GAP-Shc*-Grb2...  \n",
       "\n",
       "[125 rows x 7 columns]"
      ]
     },
     "execution_count": 9,
     "metadata": {},
     "output_type": "execute_result"
    }
   ],
   "source": [
    "get_reactions(model=model)"
   ]
  },
  {
   "cell_type": "code",
   "execution_count": 10,
   "id": "f86b994e-63e0-483d-ba3b-cd8e9b6bcc8e",
   "metadata": {},
   "outputs": [],
   "source": [
    "config = {\n",
    "    'reactions': {\n",
    "        'R1': {\n",
    "            'scheme': 'A -> B'\n",
    "        }\n",
    "    }\n",
    "}"
   ]
  },
  {
   "cell_type": "code",
   "execution_count": 11,
   "id": "a33f4749-7640-4ce6-824a-b99c596480c9",
   "metadata": {},
   "outputs": [],
   "source": [
    "for reaction_name, reaction_spec in config['reactions'].items():\n",
    "                    add_reaction(\n",
    "                        name=reaction_name,\n",
    "                        scheme=reaction_spec['scheme']\n",
    "                    )"
   ]
  },
  {
   "cell_type": "code",
   "execution_count": 12,
   "id": "d572a371-aedc-41d2-83c8-156b04c7d118",
   "metadata": {},
   "outputs": [
    {
     "data": {
      "text/html": [
       "<div>\n",
       "<style scoped>\n",
       "    .dataframe tbody tr th:only-of-type {\n",
       "        vertical-align: middle;\n",
       "    }\n",
       "\n",
       "    .dataframe tbody tr th {\n",
       "        vertical-align: top;\n",
       "    }\n",
       "\n",
       "    .dataframe thead th {\n",
       "        text-align: right;\n",
       "    }\n",
       "</style>\n",
       "<table border=\"1\" class=\"dataframe\">\n",
       "  <thead>\n",
       "    <tr style=\"text-align: right;\">\n",
       "      <th></th>\n",
       "      <th>scheme</th>\n",
       "      <th>flux</th>\n",
       "      <th>particle_flux</th>\n",
       "      <th>function</th>\n",
       "      <th>key</th>\n",
       "      <th>sbml_id</th>\n",
       "      <th>mapping</th>\n",
       "    </tr>\n",
       "    <tr>\n",
       "      <th>name</th>\n",
       "      <th></th>\n",
       "      <th></th>\n",
       "      <th></th>\n",
       "      <th></th>\n",
       "      <th></th>\n",
       "      <th></th>\n",
       "      <th></th>\n",
       "    </tr>\n",
       "  </thead>\n",
       "  <tbody>\n",
       "    <tr>\n",
       "      <th>v1</th>\n",
       "      <td>EGF + EGFR = EGF-EGFR</td>\n",
       "      <td>744300.0</td>\n",
       "      <td>744300.0</td>\n",
       "      <td>Function for v1</td>\n",
       "      <td>Reaction_0</td>\n",
       "      <td>v1</td>\n",
       "      <td>{'c1': 'extracellular volume', 'c2': 'cytoplas...</td>\n",
       "    </tr>\n",
       "    <tr>\n",
       "      <th>v2</th>\n",
       "      <td>2 * EGF-EGFR = EGF-EGFR^2</td>\n",
       "      <td>0.0</td>\n",
       "      <td>0.0</td>\n",
       "      <td>Function for v2</td>\n",
       "      <td>Reaction_1</td>\n",
       "      <td>v2</td>\n",
       "      <td>{'c2': 'cytoplasm', 'k2': 'k2', 'kr2': 'kr2', ...</td>\n",
       "    </tr>\n",
       "    <tr>\n",
       "      <th>v3</th>\n",
       "      <td>EGF-EGFR^2 = EGF-EGFR*^2</td>\n",
       "      <td>0.0</td>\n",
       "      <td>0.0</td>\n",
       "      <td>Function for v3</td>\n",
       "      <td>Reaction_2</td>\n",
       "      <td>v3</td>\n",
       "      <td>{'c2': 'cytoplasm', 'k3': 'k3', 'kr3': 'kr3', ...</td>\n",
       "    </tr>\n",
       "    <tr>\n",
       "      <th>v4</th>\n",
       "      <td>EGF-EGFR*^2-GAP-Grb2 + Prot = EGF-EGFR*^2-GAP-...</td>\n",
       "      <td>0.0</td>\n",
       "      <td>0.0</td>\n",
       "      <td>Function for v4</td>\n",
       "      <td>Reaction_3</td>\n",
       "      <td>v4</td>\n",
       "      <td>{'c2': 'cytoplasm', 'k4': 'k4', 'kr4': 'kr4', ...</td>\n",
       "    </tr>\n",
       "    <tr>\n",
       "      <th>v5</th>\n",
       "      <td>EGF-EGFR*^2-GAP-Grb2-Prot = EGF-EGFRi*^2-GAP-G...</td>\n",
       "      <td>0.0</td>\n",
       "      <td>0.0</td>\n",
       "      <td>Function for v5</td>\n",
       "      <td>Reaction_4</td>\n",
       "      <td>v5</td>\n",
       "      <td>{'k5': 'k5', 'x7': 'EGF-EGFR*^2-GAP-Grb2-Prot'}</td>\n",
       "    </tr>\n",
       "    <tr>\n",
       "      <th>...</th>\n",
       "      <td>...</td>\n",
       "      <td>...</td>\n",
       "      <td>...</td>\n",
       "      <td>...</td>\n",
       "      <td>...</td>\n",
       "      <td>...</td>\n",
       "      <td>...</td>\n",
       "    </tr>\n",
       "    <tr>\n",
       "      <th>v122</th>\n",
       "      <td>EGF-EGFR*^2-GAP-Shc*-Grb2-Sos-Ras-GDP-Prot = P...</td>\n",
       "      <td>0.0</td>\n",
       "      <td>0.0</td>\n",
       "      <td>Function for v122</td>\n",
       "      <td>Reaction_121</td>\n",
       "      <td>v122</td>\n",
       "      <td>{'k5': 'k5', 'x93': 'EGF-EGFR*^2-GAP-Shc*-Grb2...</td>\n",
       "    </tr>\n",
       "    <tr>\n",
       "      <th>v123</th>\n",
       "      <td>EGF-EGFR*^2-GAP-Shc*-Grb2-Sos-Ras-GTP = EGF-EG...</td>\n",
       "      <td>0.0</td>\n",
       "      <td>0.0</td>\n",
       "      <td>Function for v123</td>\n",
       "      <td>Reaction_122</td>\n",
       "      <td>v123</td>\n",
       "      <td>{'c2': 'cytoplasm', 'k6': 'k6', 'kr6': 'kr6', ...</td>\n",
       "    </tr>\n",
       "    <tr>\n",
       "      <th>v124</th>\n",
       "      <td>EGF-EGFR*^2-GAP-Shc*-Grb2-Sos-Ras-GTP + Prot =...</td>\n",
       "      <td>0.0</td>\n",
       "      <td>0.0</td>\n",
       "      <td>Function for v124</td>\n",
       "      <td>Reaction_123</td>\n",
       "      <td>v124</td>\n",
       "      <td>{'c2': 'cytoplasm', 'k4': 'k4', 'kr4': 'kr4', ...</td>\n",
       "    </tr>\n",
       "    <tr>\n",
       "      <th>v125</th>\n",
       "      <td>EGF-EGFR*^2-GAP-Shc*-Grb2-Sos-Ras-GTP-Prot = E...</td>\n",
       "      <td>0.0</td>\n",
       "      <td>0.0</td>\n",
       "      <td>Function for v125</td>\n",
       "      <td>Reaction_124</td>\n",
       "      <td>v125</td>\n",
       "      <td>{'k5': 'k5', 'x94': 'EGF-EGFR*^2-GAP-Shc*-Grb2...</td>\n",
       "    </tr>\n",
       "    <tr>\n",
       "      <th>R1</th>\n",
       "      <td>A -&gt; B</td>\n",
       "      <td>0.0</td>\n",
       "      <td>0.0</td>\n",
       "      <td>Mass action (irreversible)</td>\n",
       "      <td>Reaction_125</td>\n",
       "      <td></td>\n",
       "      <td>{'k1': 0.1, 'substrate': 'A'}</td>\n",
       "    </tr>\n",
       "  </tbody>\n",
       "</table>\n",
       "<p>126 rows × 7 columns</p>\n",
       "</div>"
      ],
      "text/plain": [
       "                                                 scheme      flux  \\\n",
       "name                                                                \n",
       "v1                                EGF + EGFR = EGF-EGFR  744300.0   \n",
       "v2                            2 * EGF-EGFR = EGF-EGFR^2       0.0   \n",
       "v3                             EGF-EGFR^2 = EGF-EGFR*^2       0.0   \n",
       "v4    EGF-EGFR*^2-GAP-Grb2 + Prot = EGF-EGFR*^2-GAP-...       0.0   \n",
       "v5    EGF-EGFR*^2-GAP-Grb2-Prot = EGF-EGFRi*^2-GAP-G...       0.0   \n",
       "...                                                 ...       ...   \n",
       "v122  EGF-EGFR*^2-GAP-Shc*-Grb2-Sos-Ras-GDP-Prot = P...       0.0   \n",
       "v123  EGF-EGFR*^2-GAP-Shc*-Grb2-Sos-Ras-GTP = EGF-EG...       0.0   \n",
       "v124  EGF-EGFR*^2-GAP-Shc*-Grb2-Sos-Ras-GTP + Prot =...       0.0   \n",
       "v125  EGF-EGFR*^2-GAP-Shc*-Grb2-Sos-Ras-GTP-Prot = E...       0.0   \n",
       "R1                                               A -> B       0.0   \n",
       "\n",
       "      particle_flux                    function           key sbml_id  \\\n",
       "name                                                                    \n",
       "v1         744300.0             Function for v1    Reaction_0      v1   \n",
       "v2              0.0             Function for v2    Reaction_1      v2   \n",
       "v3              0.0             Function for v3    Reaction_2      v3   \n",
       "v4              0.0             Function for v4    Reaction_3      v4   \n",
       "v5              0.0             Function for v5    Reaction_4      v5   \n",
       "...             ...                         ...           ...     ...   \n",
       "v122            0.0           Function for v122  Reaction_121    v122   \n",
       "v123            0.0           Function for v123  Reaction_122    v123   \n",
       "v124            0.0           Function for v124  Reaction_123    v124   \n",
       "v125            0.0           Function for v125  Reaction_124    v125   \n",
       "R1              0.0  Mass action (irreversible)  Reaction_125           \n",
       "\n",
       "                                                mapping  \n",
       "name                                                     \n",
       "v1    {'c1': 'extracellular volume', 'c2': 'cytoplas...  \n",
       "v2    {'c2': 'cytoplasm', 'k2': 'k2', 'kr2': 'kr2', ...  \n",
       "v3    {'c2': 'cytoplasm', 'k3': 'k3', 'kr3': 'kr3', ...  \n",
       "v4    {'c2': 'cytoplasm', 'k4': 'k4', 'kr4': 'kr4', ...  \n",
       "v5      {'k5': 'k5', 'x7': 'EGF-EGFR*^2-GAP-Grb2-Prot'}  \n",
       "...                                                 ...  \n",
       "v122  {'k5': 'k5', 'x93': 'EGF-EGFR*^2-GAP-Shc*-Grb2...  \n",
       "v123  {'c2': 'cytoplasm', 'k6': 'k6', 'kr6': 'kr6', ...  \n",
       "v124  {'c2': 'cytoplasm', 'k4': 'k4', 'kr4': 'kr4', ...  \n",
       "v125  {'k5': 'k5', 'x94': 'EGF-EGFR*^2-GAP-Shc*-Grb2...  \n",
       "R1                        {'k1': 0.1, 'substrate': 'A'}  \n",
       "\n",
       "[126 rows x 7 columns]"
      ]
     },
     "execution_count": 12,
     "metadata": {},
     "output_type": "execute_result"
    }
   ],
   "source": [
    "get_reactions(model=model)"
   ]
  },
  {
   "cell_type": "markdown",
   "id": "e5199aee6d533761",
   "metadata": {
    "collapsed": false
   },
   "source": [
    "##### 2. Instantiate the Process-Bigraph-Engine with the Composite class"
   ]
  },
  {
   "cell_type": "code",
   "execution_count": 3,
   "id": "4c2ef631b005be61",
   "metadata": {
    "collapsed": false,
    "ExecuteTime": {
     "end_time": "2024-02-27T21:23:20.402456Z",
     "start_time": "2024-02-27T21:23:20.365137Z"
    }
   },
   "outputs": [],
   "source": [
    "workflow = Composite({\n",
    "    'state': instance\n",
    "})"
   ]
  },
  {
   "cell_type": "markdown",
   "id": "6a402e48fbc30a5b",
   "metadata": {
    "collapsed": false
   },
   "source": [
    "##### 3. Run the Composite workflow with the Engine"
   ]
  },
  {
   "cell_type": "code",
   "execution_count": 4,
   "id": "98676149a4ce822f",
   "metadata": {
    "collapsed": false,
    "ExecuteTime": {
     "end_time": "2024-02-27T21:23:21.963694Z",
     "start_time": "2024-02-27T21:23:21.872500Z"
    }
   },
   "outputs": [
    {
     "name": "stderr",
     "output_type": "stream",
     "text": [
      "Error while running the simulation: >ERROR 2024-02-27T16:23:21<\n",
      "  CCopasiTask (5): No output file defined for report of task 'Time-Course'.>EXCEPTION 2024-02-27T16:23:21<\n",
      "  CTrajectoryMethod (25): Invalid state at time '1.000000'.\n",
      "/Users/alex/Desktop/uchc_work/biosimulator-processes/biosimulator_processes/processes/copasi_process.py:193: FutureWarning:\n",
      "\n",
      "Series.__getitem__ treating keys as positions is deprecated. In a future version, integer keys will always be treated as labels (consistent with DataFrame behavior). To access a value by position, use `ser.iloc[pos]`\n",
      "\n",
      "Error while running the simulation: >ERROR 2024-02-27T16:23:21<\n",
      "  CCopasiTask (5): No output file defined for report of task 'Time-Course'.>EXCEPTION 2024-02-27T16:23:21<\n",
      "  CTrajectoryMethod (25): Invalid state at time '1.000000'.\n",
      "Error while running the simulation: >ERROR 2024-02-27T16:23:21<\n",
      "  CCopasiTask (5): No output file defined for report of task 'Time-Course'.>EXCEPTION 2024-02-27T16:23:21<\n",
      "  CTrajectoryMethod (25): Invalid state at time '1.000000'.\n",
      "Error while running the simulation: >ERROR 2024-02-27T16:23:21<\n",
      "  CCopasiTask (5): No output file defined for report of task 'Time-Course'.>EXCEPTION 2024-02-27T16:23:21<\n",
      "  CTrajectoryMethod (25): Invalid state at time '1.000000'.\n",
      "Error while running the simulation: >ERROR 2024-02-27T16:23:21<\n",
      "  CCopasiTask (5): No output file defined for report of task 'Time-Course'.>EXCEPTION 2024-02-27T16:23:21<\n",
      "  CTrajectoryMethod (25): Invalid state at time '1.000000'.\n",
      "Error while running the simulation: >ERROR 2024-02-27T16:23:21<\n",
      "  CCopasiTask (5): No output file defined for report of task 'Time-Course'.>EXCEPTION 2024-02-27T16:23:21<\n",
      "  CTrajectoryMethod (25): Invalid state at time '1.000000'.\n",
      "Error while running the simulation: >ERROR 2024-02-27T16:23:21<\n",
      "  CCopasiTask (5): No output file defined for report of task 'Time-Course'.>EXCEPTION 2024-02-27T16:23:21<\n",
      "  CTrajectoryMethod (25): Invalid state at time '1.000000'.\n",
      "Error while running the simulation: >ERROR 2024-02-27T16:23:21<\n",
      "  CCopasiTask (5): No output file defined for report of task 'Time-Course'.>EXCEPTION 2024-02-27T16:23:21<\n",
      "  CTrajectoryMethod (25): Invalid state at time '1.000000'.\n",
      "Error while running the simulation: >ERROR 2024-02-27T16:23:21<\n",
      "  CCopasiTask (5): No output file defined for report of task 'Time-Course'.>EXCEPTION 2024-02-27T16:23:21<\n",
      "  CTrajectoryMethod (25): Invalid state at time '1.000000'.\n",
      "Error while running the simulation: >ERROR 2024-02-27T16:23:21<\n",
      "  CCopasiTask (5): No output file defined for report of task 'Time-Course'.>EXCEPTION 2024-02-27T16:23:21<\n",
      "  CTrajectoryMethod (25): Invalid state at time '1.000000'.\n"
     ]
    }
   ],
   "source": [
    "workflow.run(10)"
   ]
  },
  {
   "cell_type": "markdown",
   "id": "d0ff3a2822a8fa2c",
   "metadata": {
    "collapsed": false
   },
   "source": [
    "##### 4. Gather and neatly-print the results."
   ]
  },
  {
   "cell_type": "code",
   "execution_count": 7,
   "id": "c15cee593ef000a7",
   "metadata": {
    "ExecuteTime": {
     "end_time": "2024-02-27T18:03:31.449568Z",
     "start_time": "2024-02-27T18:03:31.430175Z"
    },
    "collapsed": false
   },
   "outputs": [
    {
     "ename": "NameError",
     "evalue": "name 'workflow' is not defined",
     "output_type": "error",
     "traceback": [
      "\u001B[0;31m---------------------------------------------------------------------------\u001B[0m",
      "\u001B[0;31mNameError\u001B[0m                                 Traceback (most recent call last)",
      "Cell \u001B[0;32mIn[7], line 1\u001B[0m\n\u001B[0;32m----> 1\u001B[0m results \u001B[38;5;241m=\u001B[39m \u001B[43mworkflow\u001B[49m\u001B[38;5;241m.\u001B[39mgather_results()\n\u001B[1;32m      3\u001B[0m \u001B[38;5;28mprint\u001B[39m(\u001B[38;5;124mf\u001B[39m\u001B[38;5;124m'\u001B[39m\u001B[38;5;124mRESULTS: \u001B[39m\u001B[38;5;132;01m{\u001B[39;00mpf(results)\u001B[38;5;132;01m}\u001B[39;00m\u001B[38;5;124m'\u001B[39m)\n",
      "\u001B[0;31mNameError\u001B[0m: name 'workflow' is not defined"
     ]
    }
   ],
   "source": [
    "results = workflow.gather_results()\n",
    "\n",
    "print(f'RESULTS: {pf(results)}')"
   ]
  },
  {
   "cell_type": "markdown",
   "id": "b098a589f08ce138",
   "metadata": {
    "collapsed": false
   },
   "source": [
    "##### 5. Plot/Analyze the results with Plotly"
   ]
  },
  {
   "cell_type": "code",
   "execution_count": 8,
   "id": "297504800772775e",
   "metadata": {
    "ExecuteTime": {
     "end_time": "2024-02-27T18:03:34.777284Z",
     "start_time": "2024-02-27T18:03:34.770320Z"
    },
    "collapsed": false
   },
   "outputs": [],
   "source": [
    "# 5. Plot/Analyze the results"
   ]
  },
  {
   "cell_type": "markdown",
   "id": "2afe93d975ed2aee",
   "metadata": {
    "collapsed": false
   },
   "source": [
    "### Example 2: Define multiple processes in the same instance for a parameter scan"
   ]
  },
  {
   "cell_type": "code",
   "execution_count": 8,
   "id": "d84e1287d98391ae",
   "metadata": {
    "collapsed": false
   },
   "outputs": [],
   "source": [
    "def fetch_biomodel(term: str, index: int = 0):\n",
    "        \"\"\"Search for models matching the term and return an instantiated model from BioModels.\n",
    "\n",
    "            Args:\n",
    "                term:`str`: search term\n",
    "                index:`int`: selector index for model choice\n",
    "\n",
    "            Returns:\n",
    "                `CDataModel` instance of loaded model.\n",
    "            TODO: Implement a dynamic search of this\n",
    "        \"\"\"\n",
    "        models = biomodels.search_for_model(term)\n",
    "        model = models[index]\n",
    "        sbml = biomodels.get_content_for_model(model['id'])\n",
    "        return load_model_from_string(sbml)"
   ]
  },
  {
   "cell_type": "code",
   "execution_count": 9,
   "id": "c39df5c3-dc22-4493-8e8e-925e0f9042c4",
   "metadata": {},
   "outputs": [],
   "source": [
    "model = fetch_biomodel('autism')"
   ]
  },
  {
   "cell_type": "code",
   "execution_count": 20,
   "id": "dcdc9e24-3ea6-4dbf-94de-2e4627bcada2",
   "metadata": {},
   "outputs": [],
   "source": [
    "def fetch_biomodel(term: str, index: int = 0):\n",
    "        \"\"\"Search for models matching the term and return an instantiated model from BioModels.\n",
    "\n",
    "            Args:\n",
    "                term:`str`: search term\n",
    "                index:`int`: selector index for model choice\n",
    "\n",
    "            Returns:\n",
    "                `CDataModel` instance of loaded model.\n",
    "            TODO: Implement a dynamic search of this\n",
    "        \"\"\"\n",
    "        models = biomodels.search_for_model(term)\n",
    "        model = models[index]\n",
    "        sbml = biomodels.get_content_for_model(model['id'])\n",
    "        sbml_string = load_model_from_string(sbml)\n",
    "        return sbml_string"
   ]
  },
  {
   "cell_type": "code",
   "execution_count": 21,
   "id": "0114cef1-be1e-4973-b281-ec8843e2825f",
   "metadata": {},
   "outputs": [],
   "source": [
    "model = fetch_biomodel('autism')"
   ]
  },
  {
   "cell_type": "code",
   "execution_count": 22,
   "id": "68793d40-965b-44a5-b0b4-8c90a1965cd8",
   "metadata": {},
   "outputs": [
    {
     "data": {
      "text/plain": [
       "<CDataModel \"Root\">"
      ]
     },
     "execution_count": 22,
     "metadata": {},
     "output_type": "execute_result"
    }
   ],
   "source": [
    "model"
   ]
  },
  {
   "cell_type": "code",
   "execution_count": 30,
   "id": "bfa4748e-6bd4-4363-8e93-030b708f871d",
   "metadata": {
    "ExecuteTime": {
     "end_time": "2024-02-27T18:02:12.369543Z",
     "start_time": "2024-02-27T18:02:12.368755Z"
    }
   },
   "outputs": [],
   "source": [
    "tc = run_time_course(duration = 100)"
   ]
  },
  {
   "cell_type": "code",
   "execution_count": 31,
   "id": "f7997932-3427-44d6-b31e-7aae5335522d",
   "metadata": {
    "ExecuteTime": {
     "end_time": "2024-02-27T18:02:13.152225Z",
     "start_time": "2024-02-27T18:02:13.148833Z"
    }
   },
   "outputs": [
    {
     "name": "stdout",
     "output_type": "stream",
     "text": [
      "Unexpected exception formatting exception. Falling back to standard exception\n"
     ]
    },
    {
     "name": "stderr",
     "output_type": "stream",
     "text": [
      "Traceback (most recent call last):\n",
      "  File \"/Users/alex/Library/Caches/pypoetry/virtualenvs/biosimulator-processes-KVuYbFzt-py3.11/lib/python3.11/site-packages/IPython/core/interactiveshell.py\", line 3577, in run_code\n",
      "  File \"/var/folders/s3/2mt567997bj0_z5_19sd89500000gn/T/ipykernel_8199/2939347939.py\", line 1, in <module>\n",
      "    tc.plot();\n",
      "    ^^^^^^^^^\n",
      "  File \"/Users/alex/Library/Caches/pypoetry/virtualenvs/biosimulator-processes-KVuYbFzt-py3.11/lib/python3.11/site-packages/pandas/plotting/_core.py\", line 947, in __call__\n",
      "  File \"/Users/alex/Library/Caches/pypoetry/virtualenvs/biosimulator-processes-KVuYbFzt-py3.11/lib/python3.11/site-packages/pandas/plotting/_core.py\", line 1944, in _get_plot_backend\n",
      "  File \"/Users/alex/Library/Caches/pypoetry/virtualenvs/biosimulator-processes-KVuYbFzt-py3.11/lib/python3.11/site-packages/pandas/plotting/_core.py\", line 1874, in _load_backend\n",
      "ImportError: matplotlib is required for plotting when the default backend \"matplotlib\" is selected.\n",
      "\n",
      "During handling of the above exception, another exception occurred:\n",
      "\n",
      "Traceback (most recent call last):\n",
      "  File \"/Users/alex/Library/Caches/pypoetry/virtualenvs/biosimulator-processes-KVuYbFzt-py3.11/lib/python3.11/site-packages/pygments/styles/__init__.py\", line 45, in get_style_by_name\n",
      "ModuleNotFoundError: No module named 'pygments.styles.default'\n",
      "\n",
      "During handling of the above exception, another exception occurred:\n",
      "\n",
      "Traceback (most recent call last):\n",
      "  File \"/Users/alex/Library/Caches/pypoetry/virtualenvs/biosimulator-processes-KVuYbFzt-py3.11/lib/python3.11/site-packages/IPython/core/interactiveshell.py\", line 2168, in showtraceback\n",
      "  File \"/Users/alex/Library/Caches/pypoetry/virtualenvs/biosimulator-processes-KVuYbFzt-py3.11/lib/python3.11/site-packages/IPython/core/ultratb.py\", line 1454, in structured_traceback\n",
      "  File \"/Users/alex/Library/Caches/pypoetry/virtualenvs/biosimulator-processes-KVuYbFzt-py3.11/lib/python3.11/site-packages/IPython/core/ultratb.py\", line 1345, in structured_traceback\n",
      "  File \"/Users/alex/Library/Caches/pypoetry/virtualenvs/biosimulator-processes-KVuYbFzt-py3.11/lib/python3.11/site-packages/IPython/core/ultratb.py\", line 1192, in structured_traceback\n",
      "  File \"/Users/alex/Library/Caches/pypoetry/virtualenvs/biosimulator-processes-KVuYbFzt-py3.11/lib/python3.11/site-packages/IPython/core/ultratb.py\", line 1082, in format_exception_as_a_whole\n",
      "  File \"/Users/alex/Library/Caches/pypoetry/virtualenvs/biosimulator-processes-KVuYbFzt-py3.11/lib/python3.11/site-packages/IPython/core/ultratb.py\", line 1133, in get_records\n",
      "  File \"/Users/alex/Library/Caches/pypoetry/virtualenvs/biosimulator-processes-KVuYbFzt-py3.11/lib/python3.11/site-packages/pygments/styles/__init__.py\", line 47, in get_style_by_name\n",
      "pygments.util.ClassNotFound: Could not find style module 'pygments.styles.default', though it should be builtin.\n"
     ]
    }
   ],
   "source": [
    "tc.plot();"
   ]
  },
  {
   "cell_type": "code",
   "execution_count": null,
   "id": "1a51b92b-35af-4d94-b9d5-97da90cfa5bd",
   "metadata": {},
   "outputs": [],
   "source": []
  }
 ],
 "metadata": {
  "kernelspec": {
   "display_name": "Python 3 (ipykernel)",
   "language": "python",
   "name": "python3"
  },
  "language_info": {
   "codemirror_mode": {
    "name": "ipython",
    "version": 3
   },
   "file_extension": ".py",
   "mimetype": "text/x-python",
   "name": "python",
   "nbconvert_exporter": "python",
   "pygments_lexer": "ipython3",
   "version": "3.10.13"
  }
 },
 "nbformat": 4,
 "nbformat_minor": 5
}
