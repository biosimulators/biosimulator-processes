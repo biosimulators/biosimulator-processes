{
 "cells": [
  {
   "cell_type": "markdown",
   "id": "d0676f702366d09c",
   "metadata": {
    "collapsed": false
   },
   "source": [
    "# CopasiProcess Composer"
   ]
  },
  {
   "cell_type": "code",
   "execution_count": 1,
   "id": "initial_id",
   "metadata": {
    "ExecuteTime": {
     "end_time": "2024-02-29T16:59:36.149145Z",
     "start_time": "2024-02-29T16:59:36.144904Z"
    }
   },
   "outputs": [],
   "source": [
    "import sys \n",
    "\n",
    "sys.path.insert(0, '..')"
   ]
  },
  {
   "cell_type": "code",
   "execution_count": 2,
   "id": "c6c10dc5988e52d4",
   "metadata": {
    "collapsed": false,
    "ExecuteTime": {
     "end_time": "2024-02-29T17:00:00.484873Z",
     "start_time": "2024-02-29T16:59:55.278922Z"
    }
   },
   "outputs": [
    {
     "name": "stdout",
     "output_type": "stream",
     "text": [
      "CobraProcess registered successfully.\n",
      "CopasiProcess registered successfully.\n",
      "SmoldynProcess registered successfully.\n",
      "TelluriumProcess registered successfully.\n"
     ]
    }
   ],
   "source": [
    "import os \n",
    "from basico import *\n",
    "from process_bigraph import Composite, pf \n",
    "from biosimulator_processes.processes.copasi_process import CopasiProcess\n",
    "from biosimulator_processes.process_types import MODEL_TYPE, CHANGES_SCHEMA\n",
    "from biosimulator_processes.utils import play_composition"
   ]
  },
  {
   "cell_type": "markdown",
   "id": "ac92611c7adf47e1",
   "metadata": {
    "collapsed": false
   },
   "source": [
    "### Example 1: Define a single process instance and a corresponding emitter"
   ]
  },
  {
   "cell_type": "markdown",
   "id": "8608877d697af60c",
   "metadata": {
    "collapsed": false
   },
   "source": [
    "##### 1. Define the schema by which our Composite instance will be configured. Here a user chooses an entrypoint through which to instantiate the composite process. We will use an SBML-encoded model file as our entrypoint in this example."
   ]
  },
  {
   "cell_type": "markdown",
   "source": [
    "\n",
    "##### **As per the `CopasiProcess` constructor, there are three primary methods of entry:**\n",
    "    \n",
    "\n",
    "    # Parse values from the process `config` attribute dictionary:\n",
    "    \n",
    "        model_file = self.config.get('model').get('model_source')\n",
    "        sed_model_id = self.config.get('model').get('model_id')\n",
    "        biomodel_id = self.config.get('biomodel_id')\n",
    "        source_model_id = biomodel_id or sed_model_id\n",
    "\n",
    "\n",
    "    # A. enter with model_file\n",
    "    \n",
    "        if model_file:\n",
    "            self.copasi_model_object = load_model(model_file)\n",
    "    \n",
    "\n",
    "    # B. enter with specific search term for a model\n",
    "     \n",
    "        elif source_model_id:\n",
    "            self.copasi_model_object = fetch_biomodel(model_id=source_model_id)\n",
    "    \n",
    "\n",
    "    # C. enter with a new model\n",
    "    \n",
    "        else:\n",
    "            self.copasi_model_object = new_model(name='CopasiProcess Model')"
   ],
   "metadata": {
    "collapsed": false
   },
   "id": "63a90540d44034e1"
  },
  {
   "cell_type": "markdown",
   "source": [
    "##### Here we define the schema for a single process based on the provided entrypoint."
   ],
   "metadata": {
    "collapsed": false
   },
   "id": "c2537269b7efeee0"
  },
  {
   "cell_type": "code",
   "execution_count": null,
   "id": "77636dbde3fa6b74",
   "metadata": {
    "collapsed": false
   },
   "outputs": [],
   "source": [
    "root = os.path.abspath('..')\n",
    "model_path = os.path.join(root, 'biosimulator_processes/model_files/BIOMD0000000061_url.xml')\n",
    "\n",
    "instance1 = {\n",
    "    'copasi': {\n",
    "        '_type': 'process',\n",
    "        'address': 'local:copasi',\n",
    "        'config': {\n",
    "            'model': {\n",
    "                'model_source': model_path\n",
    "            }\n",
    "        },\n",
    "        'inputs': {\n",
    "            'floating_species': ['floating_species_store'],\n",
    "            'model_parameters': ['model_parameters_store'],\n",
    "            'time': ['time_store'],\n",
    "            'reactions': ['reactions_store']\n",
    "        },\n",
    "        'outputs': {\n",
    "            'floating_species': ['floating_species_store'],\n",
    "            'time': ['time_store'],\n",
    "        }\n",
    "    },\n",
    "    'emitter': {\n",
    "        '_type': 'step',\n",
    "        'address': 'local:ram-emitter',\n",
    "        'config': {\n",
    "            'emit': {\n",
    "                'floating_species': 'tree[float]',\n",
    "                'time': 'float',\n",
    "            },\n",
    "        },\n",
    "        'inputs': {\n",
    "            'floating_species': ['floating_species_store'],\n",
    "            'time': ['time_store'],\n",
    "        }\n",
    "    }\n",
    "}"
   ]
  },
  {
   "cell_type": "markdown",
   "id": "e5199aee6d533761",
   "metadata": {
    "collapsed": false
   },
   "source": [
    "##### 2. Instantiate the Process-Bigraph-Engine with the Composite class"
   ]
  },
  {
   "cell_type": "code",
   "execution_count": null,
   "id": "4c2ef631b005be61",
   "metadata": {
    "collapsed": false
   },
   "outputs": [],
   "source": [
    "workflow = Composite({\n",
    "    'state': instance1\n",
    "})"
   ]
  },
  {
   "cell_type": "markdown",
   "id": "6a402e48fbc30a5b",
   "metadata": {
    "collapsed": false
   },
   "source": [
    "##### 3. Run the Composite workflow with the Engine"
   ]
  },
  {
   "cell_type": "code",
   "execution_count": null,
   "id": "98676149a4ce822f",
   "metadata": {
    "collapsed": false
   },
   "outputs": [],
   "source": [
    "workflow.run(10)"
   ]
  },
  {
   "cell_type": "markdown",
   "id": "d0ff3a2822a8fa2c",
   "metadata": {
    "collapsed": false
   },
   "source": [
    "##### 4. Gather and neatly-print the results."
   ]
  },
  {
   "cell_type": "code",
   "execution_count": null,
   "id": "c15cee593ef000a7",
   "metadata": {
    "collapsed": false
   },
   "outputs": [],
   "source": [
    "results = workflow.gather_results()\n",
    "\n",
    "print(f'RESULTS: {pf(results)}')"
   ]
  },
  {
   "cell_type": "markdown",
   "id": "b098a589f08ce138",
   "metadata": {
    "collapsed": false
   },
   "source": [
    "##### 5. Plot/Analyze the results with Plotly"
   ]
  },
  {
   "cell_type": "code",
   "execution_count": null,
   "id": "297504800772775e",
   "metadata": {
    "collapsed": false
   },
   "outputs": [],
   "source": [
    "# 5. Plot/Analyze the results"
   ]
  },
  {
   "cell_type": "markdown",
   "id": "2afe93d975ed2aee",
   "metadata": {
    "collapsed": false
   },
   "source": [
    "#### Example 2: Define a single-process composition from a given BioModels model id and make model changes. The options available for configuration of a `'model'` that can be run by the composite process are based on SEDML L1V4 specifications. Please note that not all parameters are required in this configuration."
   ]
  },
  {
   "cell_type": "code",
   "outputs": [],
   "source": [
    "CHANGES_SCHEMA"
   ],
   "metadata": {
    "collapsed": false
   },
   "id": "433d58bbe38402af",
   "execution_count": null
  },
  {
   "cell_type": "code",
   "outputs": [],
   "source": [
    "instance2 = {\n",
    "    'copasi': {\n",
    "        '_type': 'process',\n",
    "        'address': 'local:copasi',\n",
    "        'config': {\n",
    "            'model': {\n",
    "                'model_changes': {\n",
    "                    'reaction_changes': {\n",
    "                        'R1': 'A -> B'\n",
    "                    }\n",
    "                }\n",
    "            }\n",
    "        },\n",
    "        'inputs': {\n",
    "            'floating_species': ['floating_species_store'],\n",
    "            'model_parameters': ['model_parameters_store'],\n",
    "            'time': ['time_store'],\n",
    "            'reactions': ['reactions_store']\n",
    "        },\n",
    "        'outputs': {\n",
    "            'floating_species': ['floating_species_store'],\n",
    "            'time': ['time_store'],\n",
    "        }\n",
    "    },\n",
    "    'emitter': {\n",
    "        '_type': 'step',\n",
    "        'address': 'local:ram-emitter',\n",
    "        'config': {\n",
    "            'emit': {\n",
    "                'floating_species': 'tree[float]',\n",
    "                'time': 'float',\n",
    "            },\n",
    "        },\n",
    "        'inputs': {\n",
    "            'floating_species': ['floating_species_store'],\n",
    "            'time': ['time_store'],\n",
    "        }\n",
    "    }\n",
    "}\n",
    "\n",
    "\n",
    "results = play_composition(instance2, 10)"
   ],
   "metadata": {
    "collapsed": false
   },
   "id": "8178d3c295764eb6",
   "execution_count": null
  },
  {
   "cell_type": "code",
   "execution_count": null,
   "id": "1a51b92b-35af-4d94-b9d5-97da90cfa5bd",
   "metadata": {},
   "outputs": [],
   "source": []
  },
  {
   "cell_type": "markdown",
   "source": [
    "#### Example 2a: Define a single process with a different entrypoint."
   ],
   "metadata": {
    "collapsed": false
   },
   "id": "527d7217e4fc20c4"
  },
  {
   "cell_type": "markdown",
   "source": [
    "#### Example 3: Define multiple processes in the same instance for a parameter scan. "
   ],
   "metadata": {
    "collapsed": false
   },
   "id": "ebf2bf601e5054a6"
  },
  {
   "cell_type": "code",
   "outputs": [],
   "source": [
    "from biosimulator_processes.utils import generate_copasi_process_instance"
   ],
   "metadata": {
    "collapsed": false
   },
   "id": "56fe39f779b76c37",
   "execution_count": null
  },
  {
   "cell_type": "code",
   "outputs": [],
   "source": [
    "PARAM SCAN FROM LOADED BIOMODEL HERE:\n",
    "\n",
    "\n"
   ],
   "metadata": {
    "collapsed": false
   },
   "id": "c7280f14074f4b17",
   "execution_count": null
  },
  {
   "cell_type": "code",
   "outputs": [],
   "source": [
    "parameter_scan_instance = {\n",
    "    'copasi_1': {\n",
    "        '_type': 'process',\n",
    "        'address': 'local:copasi',\n",
    "        'config': {\n",
    "            'model': {\n",
    "                'model_changes': {\n",
    "                    'reaction_changes': {\n",
    "                        'R1': 'A -> B'\n",
    "                    }\n",
    "                }\n",
    "            }\n",
    "        },\n",
    "        'inputs': {\n",
    "            'floating_species': ['floating_species_store'],\n",
    "            'model_parameters': ['model_parameters_store'],\n",
    "            'time': ['time_store'],\n",
    "            'reactions': ['reactions_store']\n",
    "        },\n",
    "        'outputs': {\n",
    "            'floating_species': ['floating_species_store'],\n",
    "            'time': ['time_store'],\n",
    "        }\n",
    "    },\n",
    "    'emitter': {\n",
    "        '_type': 'step',\n",
    "        'address': 'local:ram-emitter',\n",
    "        'config': {\n",
    "            'emit': {\n",
    "                'floating_species': 'tree[float]',\n",
    "                'time': 'float',\n",
    "            },\n",
    "        },\n",
    "        'inputs': {\n",
    "            'floating_species': ['floating_species_store'],\n",
    "            'time': ['time_store'],\n",
    "        }\n",
    "    }\n",
    "}"
   ],
   "metadata": {
    "collapsed": false
   },
   "id": "3b8a27c7dd246d02",
   "execution_count": null
  },
  {
   "cell_type": "code",
   "outputs": [],
   "source": [
    "from biosimulator_processes.utils import generate_composite_copasi_process_instance as copasi_instance"
   ],
   "metadata": {
    "collapsed": false
   },
   "id": "57712e54678bcb70",
   "execution_count": null
  },
  {
   "cell_type": "code",
   "outputs": [],
   "source": [
    "model_config = {\n",
    "    'model': {\n",
    "        'model_changes': {\n",
    "            'reaction_changes': {\n",
    "                'R1': 'A -> B'\n",
    "            }\n",
    "        }\n",
    "    }\n",
    "}\n",
    "\n",
    "\n",
    "instance = copasi_instance(\n",
    "    instance_name='copasi_A',\n",
    "    config=model_config,\n",
    "    add_emitter=True\n",
    ")"
   ],
   "metadata": {
    "collapsed": false
   },
   "id": "482579fdd5bb4350",
   "execution_count": null
  },
  {
   "cell_type": "code",
   "outputs": [],
   "source": [
    "instance"
   ],
   "metadata": {
    "collapsed": false
   },
   "id": "9e11e97613ec9e16",
   "execution_count": null
  },
  {
   "cell_type": "code",
   "outputs": [],
   "source": [
    "from biosimulator_processes.utils import generate_copasi_parameter_scan_instance as param_scan"
   ],
   "metadata": {
    "collapsed": false,
    "ExecuteTime": {
     "end_time": "2024-02-29T17:00:17.283305Z",
     "start_time": "2024-02-29T17:00:17.280707Z"
    }
   },
   "id": "1ecc10e496abe9cb",
   "execution_count": 3
  },
  {
   "cell_type": "code",
   "outputs": [],
   "source": [
    "parameter_scan_instance = param_scan(num_iterations=100, entry_config={'biomodel_id': 'BIOMD0000000051'})"
   ],
   "metadata": {
    "collapsed": false,
    "ExecuteTime": {
     "end_time": "2024-02-29T17:00:22.139870Z",
     "start_time": "2024-02-29T17:00:22.131298Z"
    }
   },
   "id": "35ea2649d0f98801",
   "execution_count": 4
  },
  {
   "cell_type": "code",
   "outputs": [
    {
     "data": {
      "text/plain": "{'copasi_0': {'copasi_0': {'_type': 'process',\n   'address': 'local:copasi',\n   'config': {'model': {'model_changes': {'species_changes': {'Extracellular Glucose': {'initial_concentration': 1.0}},\n      'parameter_changes': {'catp': {'initial_value': 1.0}},\n      'reaction_changes': None}},\n    'biomodel_id': 'BIOMD0000000051'},\n   'inputs': {'floating_species': ['floating_species_store'],\n    'model_parameters': ['model_parameters_store'],\n    'time': ['time_store'],\n    'reactions': ['reactions_store']},\n   'outputs': {'floating_species': ['floating_species_store'],\n    'time': ['time_store']}}},\n 'copasi_1': {'copasi_1': {'_type': 'process',\n   'address': 'local:copasi',\n   'config': {'model': {'model_changes': {'species_changes': {'Extracellular Glucose': {'initial_concentration': 3.0}},\n      'parameter_changes': {'catp': {'initial_value': 2.0}},\n      'reaction_changes': None}},\n    'biomodel_id': 'BIOMD0000000051'},\n   'inputs': {'floating_species': ['floating_species_store'],\n    'model_parameters': ['model_parameters_store'],\n    'time': ['time_store'],\n    'reactions': ['reactions_store']},\n   'outputs': {'floating_species': ['floating_species_store'],\n    'time': ['time_store']}}},\n 'copasi_2': {'copasi_2': {'_type': 'process',\n   'address': 'local:copasi',\n   'config': {'model': {'model_changes': {'species_changes': {'Extracellular Glucose': {'initial_concentration': 9.0}},\n      'parameter_changes': {'catp': {'initial_value': 1.0}},\n      'reaction_changes': None}},\n    'biomodel_id': 'BIOMD0000000051'},\n   'inputs': {'floating_species': ['floating_species_store'],\n    'model_parameters': ['model_parameters_store'],\n    'time': ['time_store'],\n    'reactions': ['reactions_store']},\n   'outputs': {'floating_species': ['floating_species_store'],\n    'time': ['time_store']}}},\n 'copasi_3': {'copasi_3': {'_type': 'process',\n   'address': 'local:copasi',\n   'config': {'model': {'model_changes': {'species_changes': {'Extracellular Glucose': {'initial_concentration': 27.0}},\n      'parameter_changes': {'catp': {'initial_value': 0.0}},\n      'reaction_changes': None}},\n    'biomodel_id': 'BIOMD0000000051'},\n   'inputs': {'floating_species': ['floating_species_store'],\n    'model_parameters': ['model_parameters_store'],\n    'time': ['time_store'],\n    'reactions': ['reactions_store']},\n   'outputs': {'floating_species': ['floating_species_store'],\n    'time': ['time_store']}}},\n 'copasi_4': {'copasi_4': {'_type': 'process',\n   'address': 'local:copasi',\n   'config': {'model': {'model_changes': {'species_changes': {'Extracellular Glucose': {'initial_concentration': 81.0}},\n      'parameter_changes': {'catp': {'initial_value': 1.0}},\n      'reaction_changes': None}},\n    'biomodel_id': 'BIOMD0000000051'},\n   'inputs': {'floating_species': ['floating_species_store'],\n    'model_parameters': ['model_parameters_store'],\n    'time': ['time_store'],\n    'reactions': ['reactions_store']},\n   'outputs': {'floating_species': ['floating_species_store'],\n    'time': ['time_store']}}},\n 'copasi_5': {'copasi_5': {'_type': 'process',\n   'address': 'local:copasi',\n   'config': {'model': {'model_changes': {'species_changes': {'Extracellular Glucose': {'initial_concentration': 243.0}},\n      'parameter_changes': {'catp': {'initial_value': -32.0}},\n      'reaction_changes': None}},\n    'biomodel_id': 'BIOMD0000000051'},\n   'inputs': {'floating_species': ['floating_species_store'],\n    'model_parameters': ['model_parameters_store'],\n    'time': ['time_store'],\n    'reactions': ['reactions_store']},\n   'outputs': {'floating_species': ['floating_species_store'],\n    'time': ['time_store']}}},\n 'copasi_6': {'copasi_6': {'_type': 'process',\n   'address': 'local:copasi',\n   'config': {'model': {'model_changes': {'species_changes': {'Extracellular Glucose': {'initial_concentration': 729.0}},\n      'parameter_changes': {'catp': {'initial_value': 729.0}},\n      'reaction_changes': None}},\n    'biomodel_id': 'BIOMD0000000051'},\n   'inputs': {'floating_species': ['floating_species_store'],\n    'model_parameters': ['model_parameters_store'],\n    'time': ['time_store'],\n    'reactions': ['reactions_store']},\n   'outputs': {'floating_species': ['floating_species_store'],\n    'time': ['time_store']}}},\n 'copasi_7': {'copasi_7': {'_type': 'process',\n   'address': 'local:copasi',\n   'config': {'model': {'model_changes': {'species_changes': {'Extracellular Glucose': {'initial_concentration': 2187.0}},\n      'parameter_changes': {'catp': {'initial_value': -16384.0}},\n      'reaction_changes': None}},\n    'biomodel_id': 'BIOMD0000000051'},\n   'inputs': {'floating_species': ['floating_species_store'],\n    'model_parameters': ['model_parameters_store'],\n    'time': ['time_store'],\n    'reactions': ['reactions_store']},\n   'outputs': {'floating_species': ['floating_species_store'],\n    'time': ['time_store']}}},\n 'copasi_8': {'copasi_8': {'_type': 'process',\n   'address': 'local:copasi',\n   'config': {'model': {'model_changes': {'species_changes': {'Extracellular Glucose': {'initial_concentration': 6561.0}},\n      'parameter_changes': {'catp': {'initial_value': 390625.0}},\n      'reaction_changes': None}},\n    'biomodel_id': 'BIOMD0000000051'},\n   'inputs': {'floating_species': ['floating_species_store'],\n    'model_parameters': ['model_parameters_store'],\n    'time': ['time_store'],\n    'reactions': ['reactions_store']},\n   'outputs': {'floating_species': ['floating_species_store'],\n    'time': ['time_store']}}},\n 'copasi_9': {'copasi_9': {'_type': 'process',\n   'address': 'local:copasi',\n   'config': {'model': {'model_changes': {'species_changes': {'Extracellular Glucose': {'initial_concentration': 19683.0}},\n      'parameter_changes': {'catp': {'initial_value': -10077696.0}},\n      'reaction_changes': None}},\n    'biomodel_id': 'BIOMD0000000051'},\n   'inputs': {'floating_species': ['floating_species_store'],\n    'model_parameters': ['model_parameters_store'],\n    'time': ['time_store'],\n    'reactions': ['reactions_store']},\n   'outputs': {'floating_species': ['floating_species_store'],\n    'time': ['time_store']}}},\n 'copasi_10': {'copasi_10': {'_type': 'process',\n   'address': 'local:copasi',\n   'config': {'model': {'model_changes': {'species_changes': {'Extracellular Glucose': {'initial_concentration': 59049.0}},\n      'parameter_changes': {'catp': {'initial_value': 282475249.0}},\n      'reaction_changes': None}},\n    'biomodel_id': 'BIOMD0000000051'},\n   'inputs': {'floating_species': ['floating_species_store'],\n    'model_parameters': ['model_parameters_store'],\n    'time': ['time_store'],\n    'reactions': ['reactions_store']},\n   'outputs': {'floating_species': ['floating_species_store'],\n    'time': ['time_store']}}},\n 'copasi_11': {'copasi_11': {'_type': 'process',\n   'address': 'local:copasi',\n   'config': {'model': {'model_changes': {'species_changes': {'Extracellular Glucose': {'initial_concentration': 177147.0}},\n      'parameter_changes': {'catp': {'initial_value': -8589934592.0}},\n      'reaction_changes': None}},\n    'biomodel_id': 'BIOMD0000000051'},\n   'inputs': {'floating_species': ['floating_species_store'],\n    'model_parameters': ['model_parameters_store'],\n    'time': ['time_store'],\n    'reactions': ['reactions_store']},\n   'outputs': {'floating_species': ['floating_species_store'],\n    'time': ['time_store']}}},\n 'copasi_12': {'copasi_12': {'_type': 'process',\n   'address': 'local:copasi',\n   'config': {'model': {'model_changes': {'species_changes': {'Extracellular Glucose': {'initial_concentration': 531441.0}},\n      'parameter_changes': {'catp': {'initial_value': 282429536481.0}},\n      'reaction_changes': None}},\n    'biomodel_id': 'BIOMD0000000051'},\n   'inputs': {'floating_species': ['floating_species_store'],\n    'model_parameters': ['model_parameters_store'],\n    'time': ['time_store'],\n    'reactions': ['reactions_store']},\n   'outputs': {'floating_species': ['floating_species_store'],\n    'time': ['time_store']}}},\n 'copasi_13': {'copasi_13': {'_type': 'process',\n   'address': 'local:copasi',\n   'config': {'model': {'model_changes': {'species_changes': {'Extracellular Glucose': {'initial_concentration': 1594323.0}},\n      'parameter_changes': {'catp': {'initial_value': -10000000000000.0}},\n      'reaction_changes': None}},\n    'biomodel_id': 'BIOMD0000000051'},\n   'inputs': {'floating_species': ['floating_species_store'],\n    'model_parameters': ['model_parameters_store'],\n    'time': ['time_store'],\n    'reactions': ['reactions_store']},\n   'outputs': {'floating_species': ['floating_species_store'],\n    'time': ['time_store']}}},\n 'copasi_14': {'copasi_14': {'_type': 'process',\n   'address': 'local:copasi',\n   'config': {'model': {'model_changes': {'species_changes': {'Extracellular Glucose': {'initial_concentration': 4782969.0}},\n      'parameter_changes': {'catp': {'initial_value': 379749833583241.0}},\n      'reaction_changes': None}},\n    'biomodel_id': 'BIOMD0000000051'},\n   'inputs': {'floating_species': ['floating_species_store'],\n    'model_parameters': ['model_parameters_store'],\n    'time': ['time_store'],\n    'reactions': ['reactions_store']},\n   'outputs': {'floating_species': ['floating_species_store'],\n    'time': ['time_store']}}},\n 'copasi_15': {'copasi_15': {'_type': 'process',\n   'address': 'local:copasi',\n   'config': {'model': {'model_changes': {'species_changes': {'Extracellular Glucose': {'initial_concentration': 14348907.0}},\n      'parameter_changes': {'catp': {'initial_value': -1.5407021574586368e+16}},\n      'reaction_changes': None}},\n    'biomodel_id': 'BIOMD0000000051'},\n   'inputs': {'floating_species': ['floating_species_store'],\n    'model_parameters': ['model_parameters_store'],\n    'time': ['time_store'],\n    'reactions': ['reactions_store']},\n   'outputs': {'floating_species': ['floating_species_store'],\n    'time': ['time_store']}}},\n 'copasi_16': {'copasi_16': {'_type': 'process',\n   'address': 'local:copasi',\n   'config': {'model': {'model_changes': {'species_changes': {'Extracellular Glucose': {'initial_concentration': 43046721.0}},\n      'parameter_changes': {'catp': {'initial_value': 6.654166091831799e+17}},\n      'reaction_changes': None}},\n    'biomodel_id': 'BIOMD0000000051'},\n   'inputs': {'floating_species': ['floating_species_store'],\n    'model_parameters': ['model_parameters_store'],\n    'time': ['time_store'],\n    'reactions': ['reactions_store']},\n   'outputs': {'floating_species': ['floating_species_store'],\n    'time': ['time_store']}}},\n 'copasi_17': {'copasi_17': {'_type': 'process',\n   'address': 'local:copasi',\n   'config': {'model': {'model_changes': {'species_changes': {'Extracellular Glucose': {'initial_concentration': 129140163.0}},\n      'parameter_changes': {'catp': {'initial_value': -3.0491346729331196e+19}},\n      'reaction_changes': None}},\n    'biomodel_id': 'BIOMD0000000051'},\n   'inputs': {'floating_species': ['floating_species_store'],\n    'model_parameters': ['model_parameters_store'],\n    'time': ['time_store'],\n    'reactions': ['reactions_store']},\n   'outputs': {'floating_species': ['floating_species_store'],\n    'time': ['time_store']}}},\n 'copasi_18': {'copasi_18': {'_type': 'process',\n   'address': 'local:copasi',\n   'config': {'model': {'model_changes': {'species_changes': {'Extracellular Glucose': {'initial_concentration': 387420489.0}},\n      'parameter_changes': {'catp': {'initial_value': 1.4778918800354003e+21}},\n      'reaction_changes': None}},\n    'biomodel_id': 'BIOMD0000000051'},\n   'inputs': {'floating_species': ['floating_species_store'],\n    'model_parameters': ['model_parameters_store'],\n    'time': ['time_store'],\n    'reactions': ['reactions_store']},\n   'outputs': {'floating_species': ['floating_species_store'],\n    'time': ['time_store']}}},\n 'copasi_19': {'copasi_19': {'_type': 'process',\n   'address': 'local:copasi',\n   'config': {'model': {'model_changes': {'species_changes': {'Extracellular Glucose': {'initial_concentration': 1162261467.0}},\n      'parameter_changes': {'catp': {'initial_value': -7.555786372591432e+22}},\n      'reaction_changes': None}},\n    'biomodel_id': 'BIOMD0000000051'},\n   'inputs': {'floating_species': ['floating_species_store'],\n    'model_parameters': ['model_parameters_store'],\n    'time': ['time_store'],\n    'reactions': ['reactions_store']},\n   'outputs': {'floating_species': ['floating_species_store'],\n    'time': ['time_store']}}},\n 'copasi_20': {'copasi_20': {'_type': 'process',\n   'address': 'local:copasi',\n   'config': {'model': {'model_changes': {'species_changes': {'Extracellular Glucose': {'initial_concentration': 3486784401.0}},\n      'parameter_changes': {'catp': {'initial_value': 4.0642314066475725e+24}},\n      'reaction_changes': None}},\n    'biomodel_id': 'BIOMD0000000051'},\n   'inputs': {'floating_species': ['floating_species_store'],\n    'model_parameters': ['model_parameters_store'],\n    'time': ['time_store'],\n    'reactions': ['reactions_store']},\n   'outputs': {'floating_species': ['floating_species_store'],\n    'time': ['time_store']}}},\n 'copasi_21': {'copasi_21': {'_type': 'process',\n   'address': 'local:copasi',\n   'config': {'model': {'model_changes': {'species_changes': {'Extracellular Glucose': {'initial_concentration': 10460353203.0}},\n      'parameter_changes': {'catp': {'initial_value': -2.2946825189512942e+26}},\n      'reaction_changes': None}},\n    'biomodel_id': 'BIOMD0000000051'},\n   'inputs': {'floating_species': ['floating_species_store'],\n    'model_parameters': ['model_parameters_store'],\n    'time': ['time_store'],\n    'reactions': ['reactions_store']},\n   'outputs': {'floating_species': ['floating_species_store'],\n    'time': ['time_store']}}},\n 'copasi_22': {'copasi_22': {'_type': 'process',\n   'address': 'local:copasi',\n   'config': {'model': {'model_changes': {'species_changes': {'Extracellular Glucose': {'initial_concentration': 31381059609.0}},\n      'parameter_changes': {'catp': {'initial_value': 1.356998041817409e+28}},\n      'reaction_changes': None}},\n    'biomodel_id': 'BIOMD0000000051'},\n   'inputs': {'floating_species': ['floating_species_store'],\n    'model_parameters': ['model_parameters_store'],\n    'time': ['time_store'],\n    'reactions': ['reactions_store']},\n   'outputs': {'floating_species': ['floating_species_store'],\n    'time': ['time_store']}}},\n 'copasi_23': {'copasi_23': {'_type': 'process',\n   'address': 'local:copasi',\n   'config': {'model': {'model_changes': {'species_changes': {'Extracellular Glucose': {'initial_concentration': 94143178827.0}},\n      'parameter_changes': {'catp': {'initial_value': -8.388608e+29}},\n      'reaction_changes': None}},\n    'biomodel_id': 'BIOMD0000000051'},\n   'inputs': {'floating_species': ['floating_species_store'],\n    'model_parameters': ['model_parameters_store'],\n    'time': ['time_store'],\n    'reactions': ['reactions_store']},\n   'outputs': {'floating_species': ['floating_species_store'],\n    'time': ['time_store']}}},\n 'copasi_24': {'copasi_24': {'_type': 'process',\n   'address': 'local:copasi',\n   'config': {'model': {'model_changes': {'species_changes': {'Extracellular Glucose': {'initial_concentration': 282429536481.0}},\n      'parameter_changes': {'catp': {'initial_value': 5.410819837727259e+31}},\n      'reaction_changes': None}},\n    'biomodel_id': 'BIOMD0000000051'},\n   'inputs': {'floating_species': ['floating_species_store'],\n    'model_parameters': ['model_parameters_store'],\n    'time': ['time_store'],\n    'reactions': ['reactions_store']},\n   'outputs': {'floating_species': ['floating_species_store'],\n    'time': ['time_store']}}},\n 'copasi_25': {'copasi_25': {'_type': 'process',\n   'address': 'local:copasi',\n   'config': {'model': {'model_changes': {'species_changes': {'Extracellular Glucose': {'initial_concentration': 847288609443.0}},\n      'parameter_changes': {'catp': {'initial_value': -3.63552403817421e+33}},\n      'reaction_changes': None}},\n    'biomodel_id': 'BIOMD0000000051'},\n   'inputs': {'floating_species': ['floating_species_store'],\n    'model_parameters': ['model_parameters_store'],\n    'time': ['time_store'],\n    'reactions': ['reactions_store']},\n   'outputs': {'floating_species': ['floating_species_store'],\n    'time': ['time_store']}}},\n 'copasi_26': {'copasi_26': {'_type': 'process',\n   'address': 'local:copasi',\n   'config': {'model': {'model_changes': {'species_changes': {'Extracellular Glucose': {'initial_concentration': 2541865828329.0}},\n      'parameter_changes': {'catp': {'initial_value': 2.5405265415414954e+35}},\n      'reaction_changes': None}},\n    'biomodel_id': 'BIOMD0000000051'},\n   'inputs': {'floating_species': ['floating_species_store'],\n    'model_parameters': ['model_parameters_store'],\n    'time': ['time_store'],\n    'reactions': ['reactions_store']},\n   'outputs': {'floating_species': ['floating_species_store'],\n    'time': ['time_store']}}},\n 'copasi_27': {'copasi_27': {'_type': 'process',\n   'address': 'local:copasi',\n   'config': {'model': {'model_changes': {'species_changes': {'Extracellular Glucose': {'initial_concentration': 7625597484987.0}},\n      'parameter_changes': {'catp': {'initial_value': -1.8437563379178328e+37}},\n      'reaction_changes': None}},\n    'biomodel_id': 'BIOMD0000000051'},\n   'inputs': {'floating_species': ['floating_species_store'],\n    'model_parameters': ['model_parameters_store'],\n    'time': ['time_store'],\n    'reactions': ['reactions_store']},\n   'outputs': {'floating_species': ['floating_species_store'],\n    'time': ['time_store']}}},\n 'copasi_28': {'copasi_28': {'_type': 'process',\n   'address': 'local:copasi',\n   'config': {'model': {'model_changes': {'species_changes': {'Extracellular Glucose': {'initial_concentration': 22876792454961.0}},\n      'parameter_changes': {'catp': {'initial_value': 1.3877787807814458e+39}},\n      'reaction_changes': None}},\n    'biomodel_id': 'BIOMD0000000051'},\n   'inputs': {'floating_species': ['floating_species_store'],\n    'model_parameters': ['model_parameters_store'],\n    'time': ['time_store'],\n    'reactions': ['reactions_store']},\n   'outputs': {'floating_species': ['floating_species_store'],\n    'time': ['time_store']}}},\n 'copasi_29': {'copasi_29': {'_type': 'process',\n   'address': 'local:copasi',\n   'config': {'model': {'model_changes': {'species_changes': {'Extracellular Glucose': {'initial_concentration': 68630377364883.0}},\n      'parameter_changes': {'catp': {'initial_value': -1.08199957741721e+41}},\n      'reaction_changes': None}},\n    'biomodel_id': 'BIOMD0000000051'},\n   'inputs': {'floating_species': ['floating_species_store'],\n    'model_parameters': ['model_parameters_store'],\n    'time': ['time_store'],\n    'reactions': ['reactions_store']},\n   'outputs': {'floating_species': ['floating_species_store'],\n    'time': ['time_store']}}},\n 'copasi_30': {'copasi_30': {'_type': 'process',\n   'address': 'local:copasi',\n   'config': {'model': {'model_changes': {'species_changes': {'Extracellular Glucose': {'initial_concentration': 205891132094649.0}},\n      'parameter_changes': {'catp': {'initial_value': 8.727963568087712e+42}},\n      'reaction_changes': None}},\n    'biomodel_id': 'BIOMD0000000051'},\n   'inputs': {'floating_species': ['floating_species_store'],\n    'model_parameters': ['model_parameters_store'],\n    'time': ['time_store'],\n    'reactions': ['reactions_store']},\n   'outputs': {'floating_species': ['floating_species_store'],\n    'time': ['time_store']}}},\n 'copasi_31': {'copasi_31': {'_type': 'process',\n   'address': 'local:copasi',\n   'config': {'model': {'model_changes': {'species_changes': {'Extracellular Glucose': {'initial_concentration': 617673396283947.0}},\n      'parameter_changes': {'catp': {'initial_value': -7.276105233821381e+44}},\n      'reaction_changes': None}},\n    'biomodel_id': 'BIOMD0000000051'},\n   'inputs': {'floating_species': ['floating_species_store'],\n    'model_parameters': ['model_parameters_store'],\n    'time': ['time_store'],\n    'reactions': ['reactions_store']},\n   'outputs': {'floating_species': ['floating_species_store'],\n    'time': ['time_store']}}},\n 'copasi_32': {'copasi_32': {'_type': 'process',\n   'address': 'local:copasi',\n   'config': {'model': {'model_changes': {'species_changes': {'Extracellular Glucose': {'initial_concentration': 1853020188851841.0}},\n      'parameter_changes': {'catp': {'initial_value': 6.262329758944878e+46}},\n      'reaction_changes': None}},\n    'biomodel_id': 'BIOMD0000000051'},\n   'inputs': {'floating_species': ['floating_species_store'],\n    'model_parameters': ['model_parameters_store'],\n    'time': ['time_store'],\n    'reactions': ['reactions_store']},\n   'outputs': {'floating_species': ['floating_species_store'],\n    'time': ['time_store']}}},\n 'copasi_33': {'copasi_33': {'_type': 'process',\n   'address': 'local:copasi',\n   'config': {'model': {'model_changes': {'species_changes': {'Extracellular Glucose': {'initial_concentration': 5559060566555523.0}},\n      'parameter_changes': {'catp': {'initial_value': -5.559060566555523e+48}},\n      'reaction_changes': None}},\n    'biomodel_id': 'BIOMD0000000051'},\n   'inputs': {'floating_species': ['floating_species_store'],\n    'model_parameters': ['model_parameters_store'],\n    'time': ['time_store'],\n    'reactions': ['reactions_store']},\n   'outputs': {'floating_species': ['floating_species_store'],\n    'time': ['time_store']}}},\n 'copasi_34': {'copasi_34': {'_type': 'process',\n   'address': 'local:copasi',\n   'config': {'model': {'model_changes': {'species_changes': {'Extracellular Glucose': {'initial_concentration': 1.667718169966657e+16}},\n      'parameter_changes': {'catp': {'initial_value': 5.085077665283759e+50}},\n      'reaction_changes': None}},\n    'biomodel_id': 'BIOMD0000000051'},\n   'inputs': {'floating_species': ['floating_species_store'],\n    'model_parameters': ['model_parameters_store'],\n    'time': ['time_store'],\n    'reactions': ['reactions_store']},\n   'outputs': {'floating_species': ['floating_species_store'],\n    'time': ['time_store']}}},\n 'copasi_35': {'copasi_35': {'_type': 'process',\n   'address': 'local:copasi',\n   'config': {'model': {'model_changes': {'species_changes': {'Extracellular Glucose': {'initial_concentration': 5.0031545098999704e+16}},\n      'parameter_changes': {'catp': {'initial_value': -4.789048565205903e+52}},\n      'reaction_changes': None}},\n    'biomodel_id': 'BIOMD0000000051'},\n   'inputs': {'floating_species': ['floating_species_store'],\n    'model_parameters': ['model_parameters_store'],\n    'time': ['time_store'],\n    'reactions': ['reactions_store']},\n   'outputs': {'floating_species': ['floating_species_store'],\n    'time': ['time_store']}}},\n 'copasi_36': {'copasi_36': {'_type': 'process',\n   'address': 'local:copasi',\n   'config': {'model': {'model_changes': {'species_changes': {'Extracellular Glucose': {'initial_concentration': 1.5009463529699914e+17}},\n      'parameter_changes': {'catp': {'initial_value': 4.639827510633868e+54}},\n      'reaction_changes': None}},\n    'biomodel_id': 'BIOMD0000000051'},\n   'inputs': {'floating_species': ['floating_species_store'],\n    'model_parameters': ['model_parameters_store'],\n    'time': ['time_store'],\n    'reactions': ['reactions_store']},\n   'outputs': {'floating_species': ['floating_species_store'],\n    'time': ['time_store']}}},\n 'copasi_37': {'copasi_37': {'_type': 'process',\n   'address': 'local:copasi',\n   'config': {'model': {'model_changes': {'species_changes': {'Extracellular Glucose': {'initial_concentration': 4.502839058909974e+17}},\n      'parameter_changes': {'catp': {'initial_value': -4.620829355366081e+56}},\n      'reaction_changes': None}},\n    'biomodel_id': 'BIOMD0000000051'},\n   'inputs': {'floating_species': ['floating_species_store'],\n    'model_parameters': ['model_parameters_store'],\n    'time': ['time_store'],\n    'reactions': ['reactions_store']},\n   'outputs': {'floating_species': ['floating_species_store'],\n    'time': ['time_store']}}},\n 'copasi_38': {'copasi_38': {'_type': 'process',\n   'address': 'local:copasi',\n   'config': {'model': {'model_changes': {'species_changes': {'Extracellular Glucose': {'initial_concentration': 1.350851717672992e+18}},\n      'parameter_changes': {'catp': {'initial_value': 4.7270009034809127e+58}},\n      'reaction_changes': None}},\n    'biomodel_id': 'BIOMD0000000051'},\n   'inputs': {'floating_species': ['floating_species_store'],\n    'model_parameters': ['model_parameters_store'],\n    'time': ['time_store'],\n    'reactions': ['reactions_store']},\n   'outputs': {'floating_species': ['floating_species_store'],\n    'time': ['time_store']}}},\n 'copasi_39': {'copasi_39': {'_type': 'process',\n   'address': 'local:copasi',\n   'config': {'model': {'model_changes': {'species_changes': {'Extracellular Glucose': {'initial_concentration': 4.052555153018976e+18}},\n      'parameter_changes': {'catp': {'initial_value': -4.963608617944918e+60}},\n      'reaction_changes': None}},\n    'biomodel_id': 'BIOMD0000000051'},\n   'inputs': {'floating_species': ['floating_species_store'],\n    'model_parameters': ['model_parameters_store'],\n    'time': ['time_store'],\n    'reactions': ['reactions_store']},\n   'outputs': {'floating_species': ['floating_species_store'],\n    'time': ['time_store']}}},\n 'copasi_40': {'copasi_40': {'_type': 'process',\n   'address': 'local:copasi',\n   'config': {'model': {'model_changes': {'species_changes': {'Extracellular Glucose': {'initial_concentration': 1.2157665459056929e+19}},\n      'parameter_changes': {'catp': {'initial_value': 5.346492509150121e+62}},\n      'reaction_changes': None}},\n    'biomodel_id': 'BIOMD0000000051'},\n   'inputs': {'floating_species': ['floating_species_store'],\n    'model_parameters': ['model_parameters_store'],\n    'time': ['time_store'],\n    'reactions': ['reactions_store']},\n   'outputs': {'floating_species': ['floating_species_store'],\n    'time': ['time_store']}}},\n 'copasi_41': {'copasi_41': {'_type': 'process',\n   'address': 'local:copasi',\n   'config': {'model': {'model_changes': {'species_changes': {'Extracellular Glucose': {'initial_concentration': 3.647299637717079e+19}},\n      'parameter_changes': {'catp': {'initial_value': -5.903743239824623e+64}},\n      'reaction_changes': None}},\n    'biomodel_id': 'BIOMD0000000051'},\n   'inputs': {'floating_species': ['floating_species_store'],\n    'model_parameters': ['model_parameters_store'],\n    'time': ['time_store'],\n    'reactions': ['reactions_store']},\n   'outputs': {'floating_species': ['floating_species_store'],\n    'time': ['time_store']}}},\n 'copasi_42': {'copasi_42': {'_type': 'process',\n   'address': 'local:copasi',\n   'config': {'model': {'model_changes': {'species_changes': {'Extracellular Glucose': {'initial_concentration': 1.0941898913151237e+20}},\n      'parameter_changes': {'catp': {'initial_value': 6.6790315523026014e+66}},\n      'reaction_changes': None}},\n    'biomodel_id': 'BIOMD0000000051'},\n   'inputs': {'floating_species': ['floating_species_store'],\n    'model_parameters': ['model_parameters_store'],\n    'time': ['time_store'],\n    'reactions': ['reactions_store']},\n   'outputs': {'floating_species': ['floating_species_store'],\n    'time': ['time_store']}}},\n 'copasi_43': {'copasi_43': {'_type': 'process',\n   'address': 'local:copasi',\n   'config': {'model': {'model_changes': {'species_changes': {'Extracellular Glucose': {'initial_concentration': 3.2825696739453705e+20}},\n      'parameter_changes': {'catp': {'initial_value': -7.737125245533627e+68}},\n      'reaction_changes': None}},\n    'biomodel_id': 'BIOMD0000000051'},\n   'inputs': {'floating_species': ['floating_species_store'],\n    'model_parameters': ['model_parameters_store'],\n    'time': ['time_store'],\n    'reactions': ['reactions_store']},\n   'outputs': {'floating_species': ['floating_species_store'],\n    'time': ['time_store']}}},\n 'copasi_44': {'copasi_44': {'_type': 'process',\n   'address': 'local:copasi',\n   'config': {'model': {'model_changes': {'species_changes': {'Extracellular Glucose': {'initial_concentration': 9.847709021836112e+20}},\n      'parameter_changes': {'catp': {'initial_value': 9.172541718083714e+70}},\n      'reaction_changes': None}},\n    'biomodel_id': 'BIOMD0000000051'},\n   'inputs': {'floating_species': ['floating_species_store'],\n    'model_parameters': ['model_parameters_store'],\n    'time': ['time_store'],\n    'reactions': ['reactions_store']},\n   'outputs': {'floating_species': ['floating_species_store'],\n    'time': ['time_store']}}},\n 'copasi_45': {'copasi_45': {'_type': 'process',\n   'address': 'local:copasi',\n   'config': {'model': {'model_changes': {'species_changes': {'Extracellular Glucose': {'initial_concentration': 2.9543127065508336e+21}},\n      'parameter_changes': {'catp': {'initial_value': -1.1122900900855932e+73}},\n      'reaction_changes': None}},\n    'biomodel_id': 'BIOMD0000000051'},\n   'inputs': {'floating_species': ['floating_species_store'],\n    'model_parameters': ['model_parameters_store'],\n    'time': ['time_store'],\n    'reactions': ['reactions_store']},\n   'outputs': {'floating_species': ['floating_species_store'],\n    'time': ['time_store']}}},\n 'copasi_46': {'copasi_46': {'_type': 'process',\n   'address': 'local:copasi',\n   'config': {'model': {'model_changes': {'species_changes': {'Extracellular Glucose': {'initial_concentration': 8.862938119652501e+21}},\n      'parameter_changes': {'catp': {'initial_value': 1.3789513890924755e+75}},\n      'reaction_changes': None}},\n    'biomodel_id': 'BIOMD0000000051'},\n   'inputs': {'floating_species': ['floating_species_store'],\n    'model_parameters': ['model_parameters_store'],\n    'time': ['time_store'],\n    'reactions': ['reactions_store']},\n   'outputs': {'floating_species': ['floating_species_store'],\n    'time': ['time_store']}}},\n 'copasi_47': {'copasi_47': {'_type': 'process',\n   'address': 'local:copasi',\n   'config': {'model': {'model_changes': {'species_changes': {'Extracellular Glucose': {'initial_concentration': 2.65888143589575e+22}},\n      'parameter_changes': {'catp': {'initial_value': -1.74693117386187e+77}},\n      'reaction_changes': None}},\n    'biomodel_id': 'BIOMD0000000051'},\n   'inputs': {'floating_species': ['floating_species_store'],\n    'model_parameters': ['model_parameters_store'],\n    'time': ['time_store'],\n    'reactions': ['reactions_store']},\n   'outputs': {'floating_species': ['floating_species_store'],\n    'time': ['time_store']}}},\n 'copasi_48': {'copasi_48': {'_type': 'process',\n   'address': 'local:copasi',\n   'config': {'model': {'model_changes': {'species_changes': {'Extracellular Glucose': {'initial_concentration': 7.976644307687251e+22}},\n      'parameter_changes': {'catp': {'initial_value': 2.260479960062846e+79}},\n      'reaction_changes': None}},\n    'biomodel_id': 'BIOMD0000000051'},\n   'inputs': {'floating_species': ['floating_species_store'],\n    'model_parameters': ['model_parameters_store'],\n    'time': ['time_store'],\n    'reactions': ['reactions_store']},\n   'outputs': {'floating_species': ['floating_species_store'],\n    'time': ['time_store']}}},\n 'copasi_49': {'copasi_49': {'_type': 'process',\n   'address': 'local:copasi',\n   'config': {'model': {'model_changes': {'species_changes': {'Extracellular Glucose': {'initial_concentration': 2.3929932923061753e+23}},\n      'parameter_changes': {'catp': {'initial_value': -2.9863021875341116e+81}},\n      'reaction_changes': None}},\n    'biomodel_id': 'BIOMD0000000051'},\n   'inputs': {'floating_species': ['floating_species_store'],\n    'model_parameters': ['model_parameters_store'],\n    'time': ['time_store'],\n    'reactions': ['reactions_store']},\n   'outputs': {'floating_species': ['floating_species_store'],\n    'time': ['time_store']}}},\n 'copasi_50': {'copasi_50': {'_type': 'process',\n   'address': 'local:copasi',\n   'config': {'model': {'model_changes': {'species_changes': {'Extracellular Glucose': {'initial_concentration': 7.178979876918526e+23}},\n      'parameter_changes': {'catp': {'initial_value': 4.0261773080566945e+83}},\n      'reaction_changes': None}},\n    'biomodel_id': 'BIOMD0000000051'},\n   'inputs': {'floating_species': ['floating_species_store'],\n    'model_parameters': ['model_parameters_store'],\n    'time': ['time_store'],\n    'reactions': ['reactions_store']},\n   'outputs': {'floating_species': ['floating_species_store'],\n    'time': ['time_store']}}},\n 'copasi_51': {'copasi_51': {'_type': 'process',\n   'address': 'local:copasi',\n   'config': {'model': {'model_changes': {'species_changes': {'Extracellular Glucose': {'initial_concentration': 2.1536939630755577e+24}},\n      'parameter_changes': {'catp': {'initial_value': -5.537364423931249e+85}},\n      'reaction_changes': None}},\n    'biomodel_id': 'BIOMD0000000051'},\n   'inputs': {'floating_species': ['floating_species_store'],\n    'model_parameters': ['model_parameters_store'],\n    'time': ['time_store'],\n    'reactions': ['reactions_store']},\n   'outputs': {'floating_species': ['floating_species_store'],\n    'time': ['time_store']}}},\n 'copasi_52': {'copasi_52': {'_type': 'process',\n   'address': 'local:copasi',\n   'config': {'model': {'model_changes': {'species_changes': {'Extracellular Glucose': {'initial_concentration': 6.461081889226673e+24}},\n      'parameter_changes': {'catp': {'initial_value': 7.765978099609044e+87}},\n      'reaction_changes': None}},\n    'biomodel_id': 'BIOMD0000000051'},\n   'inputs': {'floating_species': ['floating_species_store'],\n    'model_parameters': ['model_parameters_store'],\n    'time': ['time_store'],\n    'reactions': ['reactions_store']},\n   'outputs': {'floating_species': ['floating_species_store'],\n    'time': ['time_store']}}},\n 'copasi_53': {'copasi_53': {'_type': 'process',\n   'address': 'local:copasi',\n   'config': {'model': {'model_changes': {'species_changes': {'Extracellular Glucose': {'initial_concentration': 1.938324566768002e+25}},\n      'parameter_changes': {'catp': {'initial_value': -1.1102230246251566e+90}},\n      'reaction_changes': None}},\n    'biomodel_id': 'BIOMD0000000051'},\n   'inputs': {'floating_species': ['floating_species_store'],\n    'model_parameters': ['model_parameters_store'],\n    'time': ['time_store'],\n    'reactions': ['reactions_store']},\n   'outputs': {'floating_species': ['floating_species_store'],\n    'time': ['time_store']}}},\n 'copasi_54': {'copasi_54': {'_type': 'process',\n   'address': 'local:copasi',\n   'config': {'model': {'model_changes': {'species_changes': {'Extracellular Glucose': {'initial_concentration': 5.814973700304006e+25}},\n      'parameter_changes': {'catp': {'initial_value': 1.6172959883211022e+92}},\n      'reaction_changes': None}},\n    'biomodel_id': 'BIOMD0000000051'},\n   'inputs': {'floating_species': ['floating_species_store'],\n    'model_parameters': ['model_parameters_store'],\n    'time': ['time_store'],\n    'reactions': ['reactions_store']},\n   'outputs': {'floating_species': ['floating_species_store'],\n    'time': ['time_store']}}},\n 'copasi_55': {'copasi_55': {'_type': 'process',\n   'address': 'local:copasi',\n   'config': {'model': {'model_changes': {'species_changes': {'Extracellular Glucose': {'initial_concentration': 1.7444921100912017e+26}},\n      'parameter_changes': {'catp': {'initial_value': -2.3998489083985175e+94}},\n      'reaction_changes': None}},\n    'biomodel_id': 'BIOMD0000000051'},\n   'inputs': {'floating_species': ['floating_species_store'],\n    'model_parameters': ['model_parameters_store'],\n    'time': ['time_store'],\n    'reactions': ['reactions_store']},\n   'outputs': {'floating_species': ['floating_species_store'],\n    'time': ['time_store']}}},\n 'copasi_56': {'copasi_56': {'_type': 'process',\n   'address': 'local:copasi',\n   'config': {'model': {'model_changes': {'species_changes': {'Extracellular Glucose': {'initial_concentration': 5.233476330273606e+26}},\n      'parameter_changes': {'catp': {'initial_value': 3.6261744842640864e+96}},\n      'reaction_changes': None}},\n    'biomodel_id': 'BIOMD0000000051'},\n   'inputs': {'floating_species': ['floating_species_store'],\n    'model_parameters': ['model_parameters_store'],\n    'time': ['time_store'],\n    'reactions': ['reactions_store']},\n   'outputs': {'floating_species': ['floating_species_store'],\n    'time': ['time_store']}}},\n 'copasi_57': {'copasi_57': {'_type': 'process',\n   'address': 'local:copasi',\n   'config': {'model': {'model_changes': {'species_changes': {'Extracellular Glucose': {'initial_concentration': 1.5700428990820816e+27}},\n      'parameter_changes': {'catp': {'initial_value': -5.577560758395552e+98}},\n      'reaction_changes': None}},\n    'biomodel_id': 'BIOMD0000000051'},\n   'inputs': {'floating_species': ['floating_species_store'],\n    'model_parameters': ['model_parameters_store'],\n    'time': ['time_store'],\n    'reactions': ['reactions_store']},\n   'outputs': {'floating_species': ['floating_species_store'],\n    'time': ['time_store']}}},\n 'copasi_58': {'copasi_58': {'_type': 'process',\n   'address': 'local:copasi',\n   'config': {'model': {'model_changes': {'species_changes': {'Extracellular Glucose': {'initial_concentration': 4.710128697246245e+27}},\n      'parameter_changes': {'catp': {'initial_value': 8.73043715894886e+100}},\n      'reaction_changes': None}},\n    'biomodel_id': 'BIOMD0000000051'},\n   'inputs': {'floating_species': ['floating_species_store'],\n    'model_parameters': ['model_parameters_store'],\n    'time': ['time_store'],\n    'reactions': ['reactions_store']},\n   'outputs': {'floating_species': ['floating_species_store'],\n    'time': ['time_store']}}},\n 'copasi_59': {'copasi_59': {'_type': 'process',\n   'address': 'local:copasi',\n   'config': {'model': {'model_changes': {'species_changes': {'Extracellular Glucose': {'initial_concentration': 1.4130386091738735e+28}},\n      'parameter_changes': {'catp': {'initial_value': -1.3902522075819006e+103}},\n      'reaction_changes': None}},\n    'biomodel_id': 'BIOMD0000000051'},\n   'inputs': {'floating_species': ['floating_species_store'],\n    'model_parameters': ['model_parameters_store'],\n    'time': ['time_store'],\n    'reactions': ['reactions_store']},\n   'outputs': {'floating_species': ['floating_species_store'],\n    'time': ['time_store']}}},\n 'copasi_60': {'copasi_60': {'_type': 'process',\n   'address': 'local:copasi',\n   'config': {'model': {'model_changes': {'species_changes': {'Extracellular Glucose': {'initial_concentration': 4.23911582752162e+28}},\n      'parameter_changes': {'catp': {'initial_value': 2.2516005203233799e+105}},\n      'reaction_changes': None}},\n    'biomodel_id': 'BIOMD0000000051'},\n   'inputs': {'floating_species': ['floating_species_store'],\n    'model_parameters': ['model_parameters_store'],\n    'time': ['time_store'],\n    'reactions': ['reactions_store']},\n   'outputs': {'floating_species': ['floating_species_store'],\n    'time': ['time_store']}}},\n 'copasi_61': {'copasi_61': {'_type': 'process',\n   'address': 'local:copasi',\n   'config': {'model': {'model_changes': {'species_changes': {'Extracellular Glucose': {'initial_concentration': 1.271734748256486e+29}},\n      'parameter_changes': {'catp': {'initial_value': -3.707725785982764e+107}},\n      'reaction_changes': None}},\n    'biomodel_id': 'BIOMD0000000051'},\n   'inputs': {'floating_species': ['floating_species_store'],\n    'model_parameters': ['model_parameters_store'],\n    'time': ['time_store'],\n    'reactions': ['reactions_store']},\n   'outputs': {'floating_species': ['floating_species_store'],\n    'time': ['time_store']}}},\n 'copasi_62': {'copasi_62': {'_type': 'process',\n   'address': 'local:copasi',\n   'config': {'model': {'model_changes': {'species_changes': {'Extracellular Glucose': {'initial_concentration': 3.8152042447694586e+29}},\n      'parameter_changes': {'catp': {'initial_value': 6.2061850642980544e+109}},\n      'reaction_changes': None}},\n    'biomodel_id': 'BIOMD0000000051'},\n   'inputs': {'floating_species': ['floating_species_store'],\n    'model_parameters': ['model_parameters_store'],\n    'time': ['time_store'],\n    'reactions': ['reactions_store']},\n   'outputs': {'floating_species': ['floating_species_store'],\n    'time': ['time_store']}}},\n 'copasi_63': {'copasi_63': {'_type': 'process',\n   'address': 'local:copasi',\n   'config': {'model': {'model_changes': {'species_changes': {'Extracellular Glucose': {'initial_concentration': 1.1445612734308374e+30}},\n      'parameter_changes': {'catp': {'initial_value': -1.055671444382888e+112}},\n      'reaction_changes': None}},\n    'biomodel_id': 'BIOMD0000000051'},\n   'inputs': {'floating_species': ['floating_species_store'],\n    'model_parameters': ['model_parameters_store'],\n    'time': ['time_store'],\n    'reactions': ['reactions_store']},\n   'outputs': {'floating_species': ['floating_species_store'],\n    'time': ['time_store']}}},\n 'copasi_64': {'copasi_64': {'_type': 'process',\n   'address': 'local:copasi',\n   'config': {'model': {'model_changes': {'species_changes': {'Extracellular Glucose': {'initial_concentration': 3.4336838202925124e+30}},\n      'parameter_changes': {'catp': {'initial_value': 1.8243553755672408e+114}},\n      'reaction_changes': None}},\n    'biomodel_id': 'BIOMD0000000051'},\n   'inputs': {'floating_species': ['floating_species_store'],\n    'model_parameters': ['model_parameters_store'],\n    'time': ['time_store'],\n    'reactions': ['reactions_store']},\n   'outputs': {'floating_species': ['floating_species_store'],\n    'time': ['time_store']}}},\n 'copasi_65': {'copasi_65': {'_type': 'process',\n   'address': 'local:copasi',\n   'config': {'model': {'model_changes': {'species_changes': {'Extracellular Glucose': {'initial_concentration': 1.0301051460877538e+31}},\n      'parameter_changes': {'catp': {'initial_value': -3.202283793178454e+116}},\n      'reaction_changes': None}},\n    'biomodel_id': 'BIOMD0000000051'},\n   'inputs': {'floating_species': ['floating_species_store'],\n    'model_parameters': ['model_parameters_store'],\n    'time': ['time_store'],\n    'reactions': ['reactions_store']},\n   'outputs': {'floating_species': ['floating_species_store'],\n    'time': ['time_store']}}},\n 'copasi_66': {'copasi_66': {'_type': 'process',\n   'address': 'local:copasi',\n   'config': {'model': {'model_changes': {'species_changes': {'Extracellular Glucose': {'initial_concentration': 3.090315438263261e+31}},\n      'parameter_changes': {'catp': {'initial_value': 5.7078987919450065e+118}},\n      'reaction_changes': None}},\n    'biomodel_id': 'BIOMD0000000051'},\n   'inputs': {'floating_species': ['floating_species_store'],\n    'model_parameters': ['model_parameters_store'],\n    'time': ['time_store'],\n    'reactions': ['reactions_store']},\n   'outputs': {'floating_species': ['floating_species_store'],\n    'time': ['time_store']}}},\n 'copasi_67': {'copasi_67': {'_type': 'process',\n   'address': 'local:copasi',\n   'config': {'model': {'model_changes': {'species_changes': {'Extracellular Glucose': {'initial_concentration': 9.270946314789783e+31}},\n      'parameter_changes': {'catp': {'initial_value': -1.0328999512347634e+121}},\n      'reaction_changes': None}},\n    'biomodel_id': 'BIOMD0000000051'},\n   'inputs': {'floating_species': ['floating_species_store'],\n    'model_parameters': ['model_parameters_store'],\n    'time': ['time_store'],\n    'reactions': ['reactions_store']},\n   'outputs': {'floating_species': ['floating_species_store'],\n    'time': ['time_store']}}},\n 'copasi_68': {'copasi_68': {'_type': 'process',\n   'address': 'local:copasi',\n   'config': {'model': {'model_changes': {'species_changes': {'Extracellular Glucose': {'initial_concentration': 2.7812838944369352e+32}},\n      'parameter_changes': {'catp': {'initial_value': 1.8971787507474678e+123}},\n      'reaction_changes': None}},\n    'biomodel_id': 'BIOMD0000000051'},\n   'inputs': {'floating_species': ['floating_species_store'],\n    'model_parameters': ['model_parameters_store'],\n    'time': ['time_store'],\n    'reactions': ['reactions_store']},\n   'outputs': {'floating_species': ['floating_species_store'],\n    'time': ['time_store']}}},\n 'copasi_69': {'copasi_69': {'_type': 'process',\n   'address': 'local:copasi',\n   'config': {'model': {'model_changes': {'species_changes': {'Extracellular Glucose': {'initial_concentration': 8.343851683310805e+32}},\n      'parameter_changes': {'catp': {'initial_value': -3.536157110771666e+125}},\n      'reaction_changes': None}},\n    'biomodel_id': 'BIOMD0000000051'},\n   'inputs': {'floating_species': ['floating_species_store'],\n    'model_parameters': ['model_parameters_store'],\n    'time': ['time_store'],\n    'reactions': ['reactions_store']},\n   'outputs': {'floating_species': ['floating_species_store'],\n    'time': ['time_store']}}},\n 'copasi_70': {'copasi_70': {'_type': 'process',\n   'address': 'local:copasi',\n   'config': {'model': {'model_changes': {'species_changes': {'Extracellular Glucose': {'initial_concentration': 2.5031555049932416e+33}},\n      'parameter_changes': {'catp': {'initial_value': 6.687074921915309e+127}},\n      'reaction_changes': None}},\n    'biomodel_id': 'BIOMD0000000051'},\n   'inputs': {'floating_species': ['floating_species_store'],\n    'model_parameters': ['model_parameters_store'],\n    'time': ['time_store'],\n    'reactions': ['reactions_store']},\n   'outputs': {'floating_species': ['floating_species_store'],\n    'time': ['time_store']}}},\n 'copasi_71': {'copasi_71': {'_type': 'process',\n   'address': 'local:copasi',\n   'config': {'model': {'model_changes': {'species_changes': {'Extracellular Glucose': {'initial_concentration': 7.509466514979725e+33}},\n      'parameter_changes': {'catp': {'initial_value': -1.282722764219853e+130}},\n      'reaction_changes': None}},\n    'biomodel_id': 'BIOMD0000000051'},\n   'inputs': {'floating_species': ['floating_species_store'],\n    'model_parameters': ['model_parameters_store'],\n    'time': ['time_store'],\n    'reactions': ['reactions_store']},\n   'outputs': {'floating_species': ['floating_species_store'],\n    'time': ['time_store']}}},\n 'copasi_72': {'copasi_72': {'_type': 'process',\n   'address': 'local:copasi',\n   'config': {'model': {'model_changes': {'species_changes': {'Extracellular Glucose': {'initial_concentration': 2.252839954493917e+34}},\n      'parameter_changes': {'catp': {'initial_value': 2.4953676069084525e+132}},\n      'reaction_changes': None}},\n    'biomodel_id': 'BIOMD0000000051'},\n   'inputs': {'floating_species': ['floating_species_store'],\n    'model_parameters': ['model_parameters_store'],\n    'time': ['time_store'],\n    'reactions': ['reactions_store']},\n   'outputs': {'floating_species': ['floating_species_store'],\n    'time': ['time_store']}}},\n 'copasi_73': {'copasi_73': {'_type': 'process',\n   'address': 'local:copasi',\n   'config': {'model': {'model_changes': {'species_changes': {'Extracellular Glucose': {'initial_concentration': 6.758519863481753e+34}},\n      'parameter_changes': {'catp': {'initial_value': -4.922173535218487e+134}},\n      'reaction_changes': None}},\n    'biomodel_id': 'BIOMD0000000051'},\n   'inputs': {'floating_species': ['floating_species_store'],\n    'model_parameters': ['model_parameters_store'],\n    'time': ['time_store'],\n    'reactions': ['reactions_store']},\n   'outputs': {'floating_species': ['floating_species_store'],\n    'time': ['time_store']}}},\n 'copasi_74': {'copasi_74': {'_type': 'process',\n   'address': 'local:copasi',\n   'config': {'model': {'model_changes': {'species_changes': {'Extracellular Glucose': {'initial_concentration': 2.0275559590445257e+35}},\n      'parameter_changes': {'catp': {'initial_value': 9.842780613983922e+136}},\n      'reaction_changes': None}},\n    'biomodel_id': 'BIOMD0000000051'},\n   'inputs': {'floating_species': ['floating_species_store'],\n    'model_parameters': ['model_parameters_store'],\n    'time': ['time_store'],\n    'reactions': ['reactions_store']},\n   'outputs': {'floating_species': ['floating_species_store'],\n    'time': ['time_store']}}},\n 'copasi_75': {'copasi_75': {'_type': 'process',\n   'address': 'local:copasi',\n   'config': {'model': {'model_changes': {'species_changes': {'Extracellular Glucose': {'initial_concentration': 6.0826678771335774e+35}},\n      'parameter_changes': {'catp': {'initial_value': -1.9949739648013772e+139}},\n      'reaction_changes': None}},\n    'biomodel_id': 'BIOMD0000000051'},\n   'inputs': {'floating_species': ['floating_species_store'],\n    'model_parameters': ['model_parameters_store'],\n    'time': ['time_store'],\n    'reactions': ['reactions_store']},\n   'outputs': {'floating_species': ['floating_species_store'],\n    'time': ['time_store']}}},\n 'copasi_76': {'copasi_76': {'_type': 'process',\n   'address': 'local:copasi',\n   'config': {'model': {'model_changes': {'species_changes': {'Extracellular Glucose': {'initial_concentration': 1.8248003631400732e+36}},\n      'parameter_changes': {'catp': {'initial_value': 4.09767366999553e+141}},\n      'reaction_changes': None}},\n    'biomodel_id': 'BIOMD0000000051'},\n   'inputs': {'floating_species': ['floating_species_store'],\n    'model_parameters': ['model_parameters_store'],\n    'time': ['time_store'],\n    'reactions': ['reactions_store']},\n   'outputs': {'floating_species': ['floating_species_store'],\n    'time': ['time_store']}}},\n 'copasi_77': {'copasi_77': {'_type': 'process',\n   'address': 'local:copasi',\n   'config': {'model': {'model_changes': {'species_changes': {'Extracellular Glucose': {'initial_concentration': 5.474401089420219e+36}},\n      'parameter_changes': {'catp': {'initial_value': -8.527906287593991e+143}},\n      'reaction_changes': None}},\n    'biomodel_id': 'BIOMD0000000051'},\n   'inputs': {'floating_species': ['floating_species_store'],\n    'model_parameters': ['model_parameters_store'],\n    'time': ['time_store'],\n    'reactions': ['reactions_store']},\n   'outputs': {'floating_species': ['floating_species_store'],\n    'time': ['time_store']}}},\n 'copasi_78': {'copasi_78': {'_type': 'process',\n   'address': 'local:copasi',\n   'config': {'model': {'model_changes': {'species_changes': {'Extracellular Glucose': {'initial_concentration': 1.6423203268260657e+37}},\n      'parameter_changes': {'catp': {'initial_value': 1.7979538686803107e+146}},\n      'reaction_changes': None}},\n    'biomodel_id': 'BIOMD0000000051'},\n   'inputs': {'floating_species': ['floating_species_store'],\n    'model_parameters': ['model_parameters_store'],\n    'time': ['time_store'],\n    'reactions': ['reactions_store']},\n   'outputs': {'floating_species': ['floating_species_store'],\n    'time': ['time_store']}}},\n 'copasi_79': {'copasi_79': {'_type': 'process',\n   'address': 'local:copasi',\n   'config': {'model': {'model_changes': {'species_changes': {'Extracellular Glucose': {'initial_concentration': 4.926960980478197e+37}},\n      'parameter_changes': {'catp': {'initial_value': -3.8394922047207187e+148}},\n      'reaction_changes': None}},\n    'biomodel_id': 'BIOMD0000000051'},\n   'inputs': {'floating_species': ['floating_species_store'],\n    'model_parameters': ['model_parameters_store'],\n    'time': ['time_store'],\n    'reactions': ['reactions_store']},\n   'outputs': {'floating_species': ['floating_species_store'],\n    'time': ['time_store']}}},\n 'copasi_80': {'copasi_80': {'_type': 'process',\n   'address': 'local:copasi',\n   'config': {'model': {'model_changes': {'species_changes': {'Extracellular Glucose': {'initial_concentration': 1.4780882941434593e+38}},\n      'parameter_changes': {'catp': {'initial_value': 8.303439272767327e+150}},\n      'reaction_changes': None}},\n    'biomodel_id': 'BIOMD0000000051'},\n   'inputs': {'floating_species': ['floating_species_store'],\n    'model_parameters': ['model_parameters_store'],\n    'time': ['time_store'],\n    'reactions': ['reactions_store']},\n   'outputs': {'floating_species': ['floating_species_store'],\n    'time': ['time_store']}}},\n 'copasi_81': {'copasi_81': {'_type': 'process',\n   'address': 'local:copasi',\n   'config': {'model': {'model_changes': {'species_changes': {'Extracellular Glucose': {'initial_concentration': 4.434264882430378e+38}},\n      'parameter_changes': {'catp': {'initial_value': -1.8182886086129776e+153}},\n      'reaction_changes': None}},\n    'biomodel_id': 'BIOMD0000000051'},\n   'inputs': {'floating_species': ['floating_species_store'],\n    'model_parameters': ['model_parameters_store'],\n    'time': ['time_store'],\n    'reactions': ['reactions_store']},\n   'outputs': {'floating_species': ['floating_species_store'],\n    'time': ['time_store']}}},\n 'copasi_82': {'copasi_82': {'_type': 'process',\n   'address': 'local:copasi',\n   'config': {'model': {'model_changes': {'species_changes': {'Extracellular Glucose': {'initial_concentration': 1.3302794647291133e+39}},\n      'parameter_changes': {'catp': {'initial_value': 4.031080637267739e+155}},\n      'reaction_changes': None}},\n    'biomodel_id': 'BIOMD0000000051'},\n   'inputs': {'floating_species': ['floating_species_store'],\n    'model_parameters': ['model_parameters_store'],\n    'time': ['time_store'],\n    'reactions': ['reactions_store']},\n   'outputs': {'floating_species': ['floating_species_store'],\n    'time': ['time_store']}}},\n 'copasi_83': {'copasi_83': {'_type': 'process',\n   'address': 'local:copasi',\n   'config': {'model': {'model_changes': {'species_changes': {'Extracellular Glucose': {'initial_concentration': 3.99083839418734e+39}},\n      'parameter_changes': {'catp': {'initial_value': -9.046256971665328e+157}},\n      'reaction_changes': None}},\n    'biomodel_id': 'BIOMD0000000051'},\n   'inputs': {'floating_species': ['floating_species_store'],\n    'model_parameters': ['model_parameters_store'],\n    'time': ['time_store'],\n    'reactions': ['reactions_store']},\n   'outputs': {'floating_species': ['floating_species_store'],\n    'time': ['time_store']}}},\n 'copasi_84': {'copasi_84': {'_type': 'process',\n   'address': 'local:copasi',\n   'config': {'model': {'model_changes': {'species_changes': {'Extracellular Glucose': {'initial_concentration': 1.197251518256202e+40}},\n      'parameter_changes': {'catp': {'initial_value': 2.0546676624565614e+160}},\n      'reaction_changes': None}},\n    'biomodel_id': 'BIOMD0000000051'},\n   'inputs': {'floating_species': ['floating_species_store'],\n    'model_parameters': ['model_parameters_store'],\n    'time': ['time_store'],\n    'reactions': ['reactions_store']},\n   'outputs': {'floating_species': ['floating_species_store'],\n    'time': ['time_store']}}},\n 'copasi_85': {'copasi_85': {'_type': 'process',\n   'address': 'local:copasi',\n   'config': {'model': {'model_changes': {'species_changes': {'Extracellular Glucose': {'initial_concentration': 3.591754554768606e+40}},\n      'parameter_changes': {'catp': {'initial_value': -4.722559655150671e+162}},\n      'reaction_changes': None}},\n    'biomodel_id': 'BIOMD0000000051'},\n   'inputs': {'floating_species': ['floating_species_store'],\n    'model_parameters': ['model_parameters_store'],\n    'time': ['time_store'],\n    'reactions': ['reactions_store']},\n   'outputs': {'floating_species': ['floating_species_store'],\n    'time': ['time_store']}}},\n 'copasi_86': {'copasi_86': {'_type': 'process',\n   'address': 'local:copasi',\n   'config': {'model': {'model_changes': {'species_changes': {'Extracellular Glucose': {'initial_concentration': 1.0775263664305817e+41}},\n      'parameter_changes': {'catp': {'initial_value': 1.098287256145076e+165}},\n      'reaction_changes': None}},\n    'biomodel_id': 'BIOMD0000000051'},\n   'inputs': {'floating_species': ['floating_species_store'],\n    'model_parameters': ['model_parameters_store'],\n    'time': ['time_store'],\n    'reactions': ['reactions_store']},\n   'outputs': {'floating_species': ['floating_species_store'],\n    'time': ['time_store']}}},\n 'copasi_87': {'copasi_87': {'_type': 'process',\n   'address': 'local:copasi',\n   'config': {'model': {'model_changes': {'species_changes': {'Extracellular Glucose': {'initial_concentration': 3.2325790992917455e+41}},\n      'parameter_changes': {'catp': {'initial_value': -2.5840319990130316e+167}},\n      'reaction_changes': None}},\n    'biomodel_id': 'BIOMD0000000051'},\n   'inputs': {'floating_species': ['floating_species_store'],\n    'model_parameters': ['model_parameters_store'],\n    'time': ['time_store'],\n    'reactions': ['reactions_store']},\n   'outputs': {'floating_species': ['floating_species_store'],\n    'time': ['time_store']}}},\n 'copasi_88': {'copasi_88': {'_type': 'process',\n   'address': 'local:copasi',\n   'config': {'model': {'model_changes': {'species_changes': {'Extracellular Glucose': {'initial_concentration': 9.697737297875236e+41}},\n      'parameter_changes': {'catp': {'initial_value': 6.149863307533675e+169}},\n      'reaction_changes': None}},\n    'biomodel_id': 'BIOMD0000000051'},\n   'inputs': {'floating_species': ['floating_species_store'],\n    'model_parameters': ['model_parameters_store'],\n    'time': ['time_store'],\n    'reactions': ['reactions_store']},\n   'outputs': {'floating_species': ['floating_species_store'],\n    'time': ['time_store']}}},\n 'copasi_89': {'copasi_89': {'_type': 'process',\n   'address': 'local:copasi',\n   'config': {'model': {'model_changes': {'species_changes': {'Extracellular Glucose': {'initial_concentration': 2.909321189362571e+42}},\n      'parameter_changes': {'catp': {'initial_value': -1.4803423396265347e+172}},\n      'reaction_changes': None}},\n    'biomodel_id': 'BIOMD0000000051'},\n   'inputs': {'floating_species': ['floating_species_store'],\n    'model_parameters': ['model_parameters_store'],\n    'time': ['time_store'],\n    'reactions': ['reactions_store']},\n   'outputs': {'floating_species': ['floating_species_store'],\n    'time': ['time_store']}}},\n 'copasi_90': {'copasi_90': {'_type': 'process',\n   'address': 'local:copasi',\n   'config': {'model': {'model_changes': {'species_changes': {'Extracellular Glucose': {'initial_concentration': 8.727963568087712e+42}},\n      'parameter_changes': {'catp': {'initial_value': 3.603568116041181e+174}},\n      'reaction_changes': None}},\n    'biomodel_id': 'BIOMD0000000051'},\n   'inputs': {'floating_species': ['floating_species_store'],\n    'model_parameters': ['model_parameters_store'],\n    'time': ['time_store'],\n    'reactions': ['reactions_store']},\n   'outputs': {'floating_species': ['floating_species_store'],\n    'time': ['time_store']}}},\n 'copasi_91': {'copasi_91': {'_type': 'process',\n   'address': 'local:copasi',\n   'config': {'model': {'model_changes': {'species_changes': {'Extracellular Glucose': {'initial_concentration': 2.6183890704263137e+43}},\n      'parameter_changes': {'catp': {'initial_value': -8.869990724142571e+176}},\n      'reaction_changes': None}},\n    'biomodel_id': 'BIOMD0000000051'},\n   'inputs': {'floating_species': ['floating_species_store'],\n    'model_parameters': ['model_parameters_store'],\n    'time': ['time_store'],\n    'reactions': ['reactions_store']},\n   'outputs': {'floating_species': ['floating_species_store'],\n    'time': ['time_store']}}},\n 'copasi_92': {'copasi_92': {'_type': 'process',\n   'address': 'local:copasi',\n   'config': {'model': {'model_changes': {'species_changes': {'Extracellular Glucose': {'initial_concentration': 7.855167211278941e+43}},\n      'parameter_changes': {'catp': {'initial_value': 2.2073978302726454e+179}},\n      'reaction_changes': None}},\n    'biomodel_id': 'BIOMD0000000051'},\n   'inputs': {'floating_species': ['floating_species_store'],\n    'model_parameters': ['model_parameters_store'],\n    'time': ['time_store'],\n    'reactions': ['reactions_store']},\n   'outputs': {'floating_species': ['floating_species_store'],\n    'time': ['time_store']}}},\n 'copasi_93': {'copasi_93': {'_type': 'process',\n   'address': 'local:copasi',\n   'config': {'model': {'model_changes': {'species_changes': {'Extracellular Glucose': {'initial_concentration': 2.3565501633836824e+44}},\n      'parameter_changes': {'catp': {'initial_value': -5.55332867254366e+181}},\n      'reaction_changes': None}},\n    'biomodel_id': 'BIOMD0000000051'},\n   'inputs': {'floating_species': ['floating_species_store'],\n    'model_parameters': ['model_parameters_store'],\n    'time': ['time_store'],\n    'reactions': ['reactions_store']},\n   'outputs': {'floating_species': ['floating_species_store'],\n    'time': ['time_store']}}},\n 'copasi_94': {'copasi_94': {'_type': 'process',\n   'address': 'local:copasi',\n   'config': {'model': {'model_changes': {'species_changes': {'Extracellular Glucose': {'initial_concentration': 7.069650490151047e+44}},\n      'parameter_changes': {'catp': {'initial_value': 1.4121826718183249e+184}},\n      'reaction_changes': None}},\n    'biomodel_id': 'BIOMD0000000051'},\n   'inputs': {'floating_species': ['floating_species_store'],\n    'model_parameters': ['model_parameters_store'],\n    'time': ['time_store'],\n    'reactions': ['reactions_store']},\n   'outputs': {'floating_species': ['floating_species_store'],\n    'time': ['time_store']}}},\n 'copasi_95': {'copasi_95': {'_type': 'process',\n   'address': 'local:copasi',\n   'config': {'model': {'model_changes': {'species_changes': {'Extracellular Glucose': {'initial_concentration': 2.1208951470453142e+45}},\n      'parameter_changes': {'catp': {'initial_value': -3.629473232621766e+186}},\n      'reaction_changes': None}},\n    'biomodel_id': 'BIOMD0000000051'},\n   'inputs': {'floating_species': ['floating_species_store'],\n    'model_parameters': ['model_parameters_store'],\n    'time': ['time_store'],\n    'reactions': ['reactions_store']},\n   'outputs': {'floating_species': ['floating_species_store'],\n    'time': ['time_store']}}},\n 'copasi_96': {'copasi_96': {'_type': 'process',\n   'address': 'local:copasi',\n   'config': {'model': {'model_changes': {'species_changes': {'Extracellular Glucose': {'initial_concentration': 6.362685441135942e+45}},\n      'parameter_changes': {'catp': {'initial_value': 9.426773259036049e+188}},\n      'reaction_changes': None}},\n    'biomodel_id': 'BIOMD0000000051'},\n   'inputs': {'floating_species': ['floating_species_store'],\n    'model_parameters': ['model_parameters_store'],\n    'time': ['time_store'],\n    'reactions': ['reactions_store']},\n   'outputs': {'floating_species': ['floating_species_store'],\n    'time': ['time_store']}}},\n 'copasi_97': {'copasi_97': {'_type': 'process',\n   'address': 'local:copasi',\n   'config': {'model': {'model_changes': {'species_changes': {'Extracellular Glucose': {'initial_concentration': 1.9088056323407826e+46}},\n      'parameter_changes': {'catp': {'initial_value': -2.4740119849691286e+191}},\n      'reaction_changes': None}},\n    'biomodel_id': 'BIOMD0000000051'},\n   'inputs': {'floating_species': ['floating_species_store'],\n    'model_parameters': ['model_parameters_store'],\n    'time': ['time_store'],\n    'reactions': ['reactions_store']},\n   'outputs': {'floating_species': ['floating_species_store'],\n    'time': ['time_store']}}},\n 'copasi_98': {'copasi_98': {'_type': 'process',\n   'address': 'local:copasi',\n   'config': {'model': {'model_changes': {'species_changes': {'Extracellular Glucose': {'initial_concentration': 5.726416897022348e+46}},\n      'parameter_changes': {'catp': {'initial_value': 6.560143180425513e+193}},\n      'reaction_changes': None}},\n    'biomodel_id': 'BIOMD0000000051'},\n   'inputs': {'floating_species': ['floating_species_store'],\n    'model_parameters': ['model_parameters_store'],\n    'time': ['time_store'],\n    'reactions': ['reactions_store']},\n   'outputs': {'floating_species': ['floating_species_store'],\n    'time': ['time_store']}}},\n 'copasi_99': {'copasi_99': {'_type': 'process',\n   'address': 'local:copasi',\n   'config': {'model': {'model_changes': {'species_changes': {'Extracellular Glucose': {'initial_concentration': 1.7179250691067045e+47}},\n      'parameter_changes': {'catp': {'initial_value': -1.7573249332135053e+196}},\n      'reaction_changes': None}},\n    'biomodel_id': 'BIOMD0000000051'},\n   'inputs': {'floating_species': ['floating_species_store'],\n    'model_parameters': ['model_parameters_store'],\n    'time': ['time_store'],\n    'reactions': ['reactions_store']},\n   'outputs': {'floating_species': ['floating_species_store'],\n    'time': ['time_store']}}},\n 'emitter': {'_type': 'step',\n  'address': 'local:ram-emitter',\n  'config': {'emit': {'floating_species': 'tree[float]', 'time': 'float'}},\n  'inputs': {'floating_species': ['floating_species_store'],\n   'time': ['time_store']}}}"
     },
     "execution_count": 5,
     "metadata": {},
     "output_type": "execute_result"
    }
   ],
   "source": [
    "parameter_scan_instance"
   ],
   "metadata": {
    "collapsed": false,
    "ExecuteTime": {
     "end_time": "2024-02-29T17:00:24.990632Z",
     "start_time": "2024-02-29T17:00:24.954228Z"
    }
   },
   "id": "b1c627f48370f410",
   "execution_count": 5
  },
  {
   "cell_type": "code",
   "outputs": [
    {
     "ename": "Exception",
     "evalue": "config key biomodel_id not in config_schema for CopasiProcess",
     "output_type": "error",
     "traceback": [
      "\u001B[0;31m---------------------------------------------------------------------------\u001B[0m",
      "\u001B[0;31mException\u001B[0m                                 Traceback (most recent call last)",
      "Cell \u001B[0;32mIn[7], line 1\u001B[0m\n\u001B[0;32m----> 1\u001B[0m results \u001B[38;5;241m=\u001B[39m \u001B[43mplay_composition\u001B[49m\u001B[43m(\u001B[49m\u001B[43minstance\u001B[49m\u001B[38;5;241;43m=\u001B[39;49m\u001B[43mparameter_scan_instance\u001B[49m\u001B[43m,\u001B[49m\u001B[43m \u001B[49m\u001B[43mduration\u001B[49m\u001B[38;5;241;43m=\u001B[39;49m\u001B[38;5;241;43m10\u001B[39;49m\u001B[43m)\u001B[49m\n",
      "File \u001B[0;32m~/Desktop/uchc_work/biosimulator-processes/notebooks/../biosimulator_processes/utils.py:31\u001B[0m, in \u001B[0;36mplay_composition\u001B[0;34m(instance, duration)\u001B[0m\n\u001B[1;32m     29\u001B[0m \u001B[38;5;28;01mdef\u001B[39;00m \u001B[38;5;21mplay_composition\u001B[39m(instance: \u001B[38;5;28mdict\u001B[39m, duration: \u001B[38;5;28mint\u001B[39m):\n\u001B[1;32m     30\u001B[0m \u001B[38;5;250m    \u001B[39m\u001B[38;5;124;03m\"\"\"Configure and run a Composite workflow.\"\"\"\u001B[39;00m\n\u001B[0;32m---> 31\u001B[0m     workflow \u001B[38;5;241m=\u001B[39m \u001B[43mComposite\u001B[49m\u001B[43m(\u001B[49m\u001B[43m{\u001B[49m\n\u001B[1;32m     32\u001B[0m \u001B[43m        \u001B[49m\u001B[38;5;124;43m'\u001B[39;49m\u001B[38;5;124;43mstate\u001B[39;49m\u001B[38;5;124;43m'\u001B[39;49m\u001B[43m:\u001B[49m\u001B[43m \u001B[49m\u001B[43minstance\u001B[49m\n\u001B[1;32m     33\u001B[0m \u001B[43m    \u001B[49m\u001B[43m}\u001B[49m\u001B[43m)\u001B[49m\n\u001B[1;32m     34\u001B[0m     workflow\u001B[38;5;241m.\u001B[39mrun(duration)\n\u001B[1;32m     35\u001B[0m     results \u001B[38;5;241m=\u001B[39m workflow\u001B[38;5;241m.\u001B[39mgather_results()\n",
      "File \u001B[0;32m~/Library/Caches/pypoetry/virtualenvs/biosimulator-processes-KVuYbFzt-py3.10/lib/python3.10/site-packages/process_bigraph/composite.py:411\u001B[0m, in \u001B[0;36mComposite.__init__\u001B[0;34m(self, config, local_types)\u001B[0m\n\u001B[1;32m    408\u001B[0m \u001B[38;5;28;01mif\u001B[39;00m \u001B[38;5;124m'\u001B[39m\u001B[38;5;124mglobal_time\u001B[39m\u001B[38;5;124m'\u001B[39m \u001B[38;5;129;01mnot\u001B[39;00m \u001B[38;5;129;01min\u001B[39;00m initial_state:\n\u001B[1;32m    409\u001B[0m     initial_state[\u001B[38;5;124m'\u001B[39m\u001B[38;5;124mglobal_time\u001B[39m\u001B[38;5;124m'\u001B[39m] \u001B[38;5;241m=\u001B[39m \u001B[38;5;241m0.0\u001B[39m\n\u001B[0;32m--> 411\u001B[0m composition, state \u001B[38;5;241m=\u001B[39m \u001B[38;5;28;43mself\u001B[39;49m\u001B[38;5;241;43m.\u001B[39;49m\u001B[43mcore\u001B[49m\u001B[38;5;241;43m.\u001B[39;49m\u001B[43mcomplete\u001B[49m\u001B[43m(\u001B[49m\n\u001B[1;32m    412\u001B[0m \u001B[43m    \u001B[49m\u001B[43minitial_composition\u001B[49m\u001B[43m,\u001B[49m\n\u001B[1;32m    413\u001B[0m \u001B[43m    \u001B[49m\u001B[43minitial_state\u001B[49m\u001B[43m)\u001B[49m\n\u001B[1;32m    415\u001B[0m \u001B[38;5;28mself\u001B[39m\u001B[38;5;241m.\u001B[39mcomposition \u001B[38;5;241m=\u001B[39m copy\u001B[38;5;241m.\u001B[39mdeepcopy(\n\u001B[1;32m    416\u001B[0m     \u001B[38;5;28mself\u001B[39m\u001B[38;5;241m.\u001B[39mcore\u001B[38;5;241m.\u001B[39maccess(composition))\n\u001B[1;32m    418\u001B[0m \u001B[38;5;66;03m# TODO: add flag to self.core.access(copy=True)\u001B[39;00m\n",
      "File \u001B[0;32m~/Library/Caches/pypoetry/virtualenvs/biosimulator-processes-KVuYbFzt-py3.10/lib/python3.10/site-packages/bigraph_schema/type_system.py:1251\u001B[0m, in \u001B[0;36mTypeSystem.complete\u001B[0;34m(self, initial_schema, initial_state)\u001B[0m\n\u001B[1;32m   1245\u001B[0m state \u001B[38;5;241m=\u001B[39m \u001B[38;5;28mself\u001B[39m\u001B[38;5;241m.\u001B[39mhydrate(\n\u001B[1;32m   1246\u001B[0m     full_schema,\n\u001B[1;32m   1247\u001B[0m     initial_state)\n\u001B[1;32m   1249\u001B[0m \u001B[38;5;66;03m# fill in the parts of the composition schema\u001B[39;00m\n\u001B[1;32m   1250\u001B[0m \u001B[38;5;66;03m# determined by the state\u001B[39;00m\n\u001B[0;32m-> 1251\u001B[0m schema, state \u001B[38;5;241m=\u001B[39m \u001B[38;5;28;43mself\u001B[39;49m\u001B[38;5;241;43m.\u001B[39;49m\u001B[43minfer_schema\u001B[49m\u001B[43m(\u001B[49m\n\u001B[1;32m   1252\u001B[0m \u001B[43m    \u001B[49m\u001B[43mfull_schema\u001B[49m\u001B[43m,\u001B[49m\n\u001B[1;32m   1253\u001B[0m \u001B[43m    \u001B[49m\u001B[43mstate\u001B[49m\u001B[43m)\u001B[49m\n\u001B[1;32m   1255\u001B[0m final_state \u001B[38;5;241m=\u001B[39m \u001B[38;5;28mself\u001B[39m\u001B[38;5;241m.\u001B[39mfill(schema, state)\n\u001B[1;32m   1257\u001B[0m \u001B[38;5;66;03m# TODO: add flag to types.access(copy=True)\u001B[39;00m\n",
      "File \u001B[0;32m~/Library/Caches/pypoetry/virtualenvs/biosimulator-processes-KVuYbFzt-py3.10/lib/python3.10/site-packages/process_bigraph/type_system.py:243\u001B[0m, in \u001B[0;36mProcessTypes.infer_schema\u001B[0;34m(self, schema, state, top_state, path)\u001B[0m\n\u001B[1;32m    240\u001B[0m             inner_path \u001B[38;5;241m=\u001B[39m path \u001B[38;5;241m+\u001B[39m (key,)\n\u001B[1;32m    241\u001B[0m             \u001B[38;5;28;01mif\u001B[39;00m get_path(schema, inner_path) \u001B[38;5;129;01mis\u001B[39;00m \u001B[38;5;28;01mNone\u001B[39;00m \u001B[38;5;129;01mor\u001B[39;00m get_path(state, inner_path) \u001B[38;5;129;01mis\u001B[39;00m \u001B[38;5;28;01mNone\u001B[39;00m \u001B[38;5;129;01mor\u001B[39;00m (\n\u001B[1;32m    242\u001B[0m                     \u001B[38;5;28misinstance\u001B[39m(value, \u001B[38;5;28mdict\u001B[39m) \u001B[38;5;129;01mand\u001B[39;00m \u001B[38;5;124m'\u001B[39m\u001B[38;5;124m_type\u001B[39m\u001B[38;5;124m'\u001B[39m \u001B[38;5;129;01min\u001B[39;00m value):\n\u001B[0;32m--> 243\u001B[0m                 schema, top_state \u001B[38;5;241m=\u001B[39m \u001B[38;5;28;43mself\u001B[39;49m\u001B[38;5;241;43m.\u001B[39;49m\u001B[43minfer_schema\u001B[49m\u001B[43m(\u001B[49m\n\u001B[1;32m    244\u001B[0m \u001B[43m                    \u001B[49m\u001B[43mschema\u001B[49m\u001B[43m,\u001B[49m\n\u001B[1;32m    245\u001B[0m \u001B[43m                    \u001B[49m\u001B[43mvalue\u001B[49m\u001B[43m,\u001B[49m\n\u001B[1;32m    246\u001B[0m \u001B[43m                    \u001B[49m\u001B[43mtop_state\u001B[49m\u001B[38;5;241;43m=\u001B[39;49m\u001B[43mtop_state\u001B[49m\u001B[43m,\u001B[49m\n\u001B[1;32m    247\u001B[0m \u001B[43m                    \u001B[49m\u001B[43mpath\u001B[49m\u001B[38;5;241;43m=\u001B[39;49m\u001B[43minner_path\u001B[49m\u001B[43m)\u001B[49m\n\u001B[1;32m    249\u001B[0m \u001B[38;5;28;01melif\u001B[39;00m \u001B[38;5;28misinstance\u001B[39m(state, \u001B[38;5;28mstr\u001B[39m):\n\u001B[1;32m    250\u001B[0m     \u001B[38;5;28;01mpass\u001B[39;00m\n",
      "File \u001B[0;32m~/Library/Caches/pypoetry/virtualenvs/biosimulator-processes-KVuYbFzt-py3.10/lib/python3.10/site-packages/process_bigraph/type_system.py:243\u001B[0m, in \u001B[0;36mProcessTypes.infer_schema\u001B[0;34m(self, schema, state, top_state, path)\u001B[0m\n\u001B[1;32m    240\u001B[0m             inner_path \u001B[38;5;241m=\u001B[39m path \u001B[38;5;241m+\u001B[39m (key,)\n\u001B[1;32m    241\u001B[0m             \u001B[38;5;28;01mif\u001B[39;00m get_path(schema, inner_path) \u001B[38;5;129;01mis\u001B[39;00m \u001B[38;5;28;01mNone\u001B[39;00m \u001B[38;5;129;01mor\u001B[39;00m get_path(state, inner_path) \u001B[38;5;129;01mis\u001B[39;00m \u001B[38;5;28;01mNone\u001B[39;00m \u001B[38;5;129;01mor\u001B[39;00m (\n\u001B[1;32m    242\u001B[0m                     \u001B[38;5;28misinstance\u001B[39m(value, \u001B[38;5;28mdict\u001B[39m) \u001B[38;5;129;01mand\u001B[39;00m \u001B[38;5;124m'\u001B[39m\u001B[38;5;124m_type\u001B[39m\u001B[38;5;124m'\u001B[39m \u001B[38;5;129;01min\u001B[39;00m value):\n\u001B[0;32m--> 243\u001B[0m                 schema, top_state \u001B[38;5;241m=\u001B[39m \u001B[38;5;28;43mself\u001B[39;49m\u001B[38;5;241;43m.\u001B[39;49m\u001B[43minfer_schema\u001B[49m\u001B[43m(\u001B[49m\n\u001B[1;32m    244\u001B[0m \u001B[43m                    \u001B[49m\u001B[43mschema\u001B[49m\u001B[43m,\u001B[49m\n\u001B[1;32m    245\u001B[0m \u001B[43m                    \u001B[49m\u001B[43mvalue\u001B[49m\u001B[43m,\u001B[49m\n\u001B[1;32m    246\u001B[0m \u001B[43m                    \u001B[49m\u001B[43mtop_state\u001B[49m\u001B[38;5;241;43m=\u001B[39;49m\u001B[43mtop_state\u001B[49m\u001B[43m,\u001B[49m\n\u001B[1;32m    247\u001B[0m \u001B[43m                    \u001B[49m\u001B[43mpath\u001B[49m\u001B[38;5;241;43m=\u001B[39;49m\u001B[43minner_path\u001B[49m\u001B[43m)\u001B[49m\n\u001B[1;32m    249\u001B[0m \u001B[38;5;28;01melif\u001B[39;00m \u001B[38;5;28misinstance\u001B[39m(state, \u001B[38;5;28mstr\u001B[39m):\n\u001B[1;32m    250\u001B[0m     \u001B[38;5;28;01mpass\u001B[39;00m\n",
      "File \u001B[0;32m~/Library/Caches/pypoetry/virtualenvs/biosimulator-processes-KVuYbFzt-py3.10/lib/python3.10/site-packages/process_bigraph/type_system.py:195\u001B[0m, in \u001B[0;36mProcessTypes.infer_schema\u001B[0;34m(self, schema, state, top_state, path)\u001B[0m\n\u001B[1;32m    192\u001B[0m state_type \u001B[38;5;241m=\u001B[39m state[\u001B[38;5;124m'\u001B[39m\u001B[38;5;124m_type\u001B[39m\u001B[38;5;124m'\u001B[39m]\n\u001B[1;32m    193\u001B[0m state_schema \u001B[38;5;241m=\u001B[39m \u001B[38;5;28mself\u001B[39m\u001B[38;5;241m.\u001B[39maccess(state_type)\n\u001B[0;32m--> 195\u001B[0m hydrated_state \u001B[38;5;241m=\u001B[39m \u001B[38;5;28;43mself\u001B[39;49m\u001B[38;5;241;43m.\u001B[39;49m\u001B[43mdeserialize\u001B[49m\u001B[43m(\u001B[49m\u001B[43mstate_schema\u001B[49m\u001B[43m,\u001B[49m\u001B[43m \u001B[49m\u001B[43mstate\u001B[49m\u001B[43m)\u001B[49m\n\u001B[1;32m    196\u001B[0m top_state \u001B[38;5;241m=\u001B[39m set_path(\n\u001B[1;32m    197\u001B[0m     top_state,\n\u001B[1;32m    198\u001B[0m     path,\n\u001B[1;32m    199\u001B[0m     hydrated_state)\n\u001B[1;32m    201\u001B[0m schema \u001B[38;5;241m=\u001B[39m set_path(\n\u001B[1;32m    202\u001B[0m     schema,\n\u001B[1;32m    203\u001B[0m     path,\n\u001B[1;32m    204\u001B[0m     {\u001B[38;5;124m'\u001B[39m\u001B[38;5;124m_type\u001B[39m\u001B[38;5;124m'\u001B[39m: state_type})\n",
      "File \u001B[0;32m~/Library/Caches/pypoetry/virtualenvs/biosimulator-processes-KVuYbFzt-py3.10/lib/python3.10/site-packages/bigraph_schema/type_system.py:605\u001B[0m, in \u001B[0;36mTypeSystem.deserialize\u001B[0;34m(self, schema, encoded)\u001B[0m\n\u001B[1;32m    602\u001B[0m     \u001B[38;5;28;01mif\u001B[39;00m encoded \u001B[38;5;129;01mis\u001B[39;00m \u001B[38;5;28;01mNone\u001B[39;00m:\n\u001B[1;32m    603\u001B[0m         encoded \u001B[38;5;241m=\u001B[39m \u001B[38;5;28mself\u001B[39m\u001B[38;5;241m.\u001B[39mdefault(schema)\n\u001B[0;32m--> 605\u001B[0m     \u001B[38;5;28;01mreturn\u001B[39;00m \u001B[43mdeserialize_function\u001B[49m\u001B[43m(\u001B[49m\n\u001B[1;32m    606\u001B[0m \u001B[43m        \u001B[49m\u001B[43mencoded\u001B[49m\u001B[43m,\u001B[49m\n\u001B[1;32m    607\u001B[0m \u001B[43m        \u001B[49m\u001B[43mfound\u001B[49m\u001B[43m,\u001B[49m\n\u001B[1;32m    608\u001B[0m \u001B[43m        \u001B[49m\u001B[38;5;28;43mself\u001B[39;49m\u001B[43m)\u001B[49m\n\u001B[1;32m    610\u001B[0m \u001B[38;5;28;01melif\u001B[39;00m \u001B[38;5;28misinstance\u001B[39m(encoded, \u001B[38;5;28mdict\u001B[39m):\n\u001B[1;32m    611\u001B[0m     result \u001B[38;5;241m=\u001B[39m {}\n",
      "File \u001B[0;32m~/Library/Caches/pypoetry/virtualenvs/biosimulator-processes-KVuYbFzt-py3.10/lib/python3.10/site-packages/process_bigraph/type_system.py:86\u001B[0m, in \u001B[0;36mdeserialize_process\u001B[0;34m(encoded, schema, core)\u001B[0m\n\u001B[1;32m     81\u001B[0m interval \u001B[38;5;241m=\u001B[39m core\u001B[38;5;241m.\u001B[39mdeserialize(\n\u001B[1;32m     82\u001B[0m     \u001B[38;5;124m'\u001B[39m\u001B[38;5;124minterval\u001B[39m\u001B[38;5;124m'\u001B[39m,\n\u001B[1;32m     83\u001B[0m     encoded\u001B[38;5;241m.\u001B[39mget(\u001B[38;5;124m'\u001B[39m\u001B[38;5;124minterval\u001B[39m\u001B[38;5;124m'\u001B[39m))\n\u001B[1;32m     85\u001B[0m \u001B[38;5;28;01mif\u001B[39;00m \u001B[38;5;129;01mnot\u001B[39;00m \u001B[38;5;124m'\u001B[39m\u001B[38;5;124minstance\u001B[39m\u001B[38;5;124m'\u001B[39m \u001B[38;5;129;01min\u001B[39;00m deserialized:\n\u001B[0;32m---> 86\u001B[0m     process \u001B[38;5;241m=\u001B[39m \u001B[43minstantiate\u001B[49m\u001B[43m(\u001B[49m\u001B[43mconfig\u001B[49m\u001B[43m)\u001B[49m\n\u001B[1;32m     87\u001B[0m     deserialized[\u001B[38;5;124m'\u001B[39m\u001B[38;5;124minstance\u001B[39m\u001B[38;5;124m'\u001B[39m] \u001B[38;5;241m=\u001B[39m process\n\u001B[1;32m     89\u001B[0m deserialized[\u001B[38;5;124m'\u001B[39m\u001B[38;5;124mconfig\u001B[39m\u001B[38;5;124m'\u001B[39m] \u001B[38;5;241m=\u001B[39m config\n",
      "File \u001B[0;32m~/Desktop/uchc_work/biosimulator-processes/notebooks/../biosimulator_processes/processes/copasi_process.py:121\u001B[0m, in \u001B[0;36mCopasiProcess.__init__\u001B[0;34m(self, config, core)\u001B[0m\n\u001B[1;32m    120\u001B[0m \u001B[38;5;28;01mdef\u001B[39;00m \u001B[38;5;21m__init__\u001B[39m(\u001B[38;5;28mself\u001B[39m, config\u001B[38;5;241m=\u001B[39m\u001B[38;5;28;01mNone\u001B[39;00m, core\u001B[38;5;241m=\u001B[39m\u001B[38;5;28;01mNone\u001B[39;00m):\n\u001B[0;32m--> 121\u001B[0m     \u001B[38;5;28;43msuper\u001B[39;49m\u001B[43m(\u001B[49m\u001B[43m)\u001B[49m\u001B[38;5;241;43m.\u001B[39;49m\u001B[38;5;21;43m__init__\u001B[39;49m\u001B[43m(\u001B[49m\u001B[43mconfig\u001B[49m\u001B[43m,\u001B[49m\u001B[43m \u001B[49m\u001B[43mcore\u001B[49m\u001B[43m)\u001B[49m\n\u001B[1;32m    123\u001B[0m     model_file \u001B[38;5;241m=\u001B[39m \u001B[38;5;28mself\u001B[39m\u001B[38;5;241m.\u001B[39mconfig\u001B[38;5;241m.\u001B[39mget(\u001B[38;5;124m'\u001B[39m\u001B[38;5;124mmodel\u001B[39m\u001B[38;5;124m'\u001B[39m)\u001B[38;5;241m.\u001B[39mget(\u001B[38;5;124m'\u001B[39m\u001B[38;5;124mmodel_source\u001B[39m\u001B[38;5;124m'\u001B[39m)\n\u001B[1;32m    124\u001B[0m     sed_model_id \u001B[38;5;241m=\u001B[39m \u001B[38;5;28mself\u001B[39m\u001B[38;5;241m.\u001B[39mconfig\u001B[38;5;241m.\u001B[39mget(\u001B[38;5;124m'\u001B[39m\u001B[38;5;124mmodel\u001B[39m\u001B[38;5;124m'\u001B[39m)\u001B[38;5;241m.\u001B[39mget(\u001B[38;5;124m'\u001B[39m\u001B[38;5;124mmodel_id\u001B[39m\u001B[38;5;124m'\u001B[39m)\n",
      "File \u001B[0;32m~/Library/Caches/pypoetry/virtualenvs/biosimulator-processes-KVuYbFzt-py3.10/lib/python3.10/site-packages/process_bigraph/composite.py:105\u001B[0m, in \u001B[0;36mProcess.__init__\u001B[0;34m(self, config, local_types)\u001B[0m\n\u001B[1;32m    103\u001B[0m \u001B[38;5;28;01mfor\u001B[39;00m key \u001B[38;5;129;01min\u001B[39;00m config\u001B[38;5;241m.\u001B[39mkeys():\n\u001B[1;32m    104\u001B[0m     \u001B[38;5;28;01mif\u001B[39;00m key \u001B[38;5;129;01mnot\u001B[39;00m \u001B[38;5;129;01min\u001B[39;00m \u001B[38;5;28mself\u001B[39m\u001B[38;5;241m.\u001B[39mconfig_schema:\n\u001B[0;32m--> 105\u001B[0m         \u001B[38;5;28;01mraise\u001B[39;00m \u001B[38;5;167;01mException\u001B[39;00m(\u001B[38;5;124mf\u001B[39m\u001B[38;5;124m'\u001B[39m\u001B[38;5;124mconfig key \u001B[39m\u001B[38;5;132;01m{\u001B[39;00mkey\u001B[38;5;132;01m}\u001B[39;00m\u001B[38;5;124m not in config_schema for \u001B[39m\u001B[38;5;132;01m{\u001B[39;00m\u001B[38;5;28mself\u001B[39m\u001B[38;5;241m.\u001B[39m\u001B[38;5;18m__class__\u001B[39m\u001B[38;5;241m.\u001B[39m\u001B[38;5;18m__name__\u001B[39m\u001B[38;5;132;01m}\u001B[39;00m\u001B[38;5;124m'\u001B[39m)\n\u001B[1;32m    107\u001B[0m \u001B[38;5;66;03m# fill in defaults for config\u001B[39;00m\n\u001B[1;32m    108\u001B[0m \u001B[38;5;28mself\u001B[39m\u001B[38;5;241m.\u001B[39mconfig \u001B[38;5;241m=\u001B[39m \u001B[38;5;28mself\u001B[39m\u001B[38;5;241m.\u001B[39mcore\u001B[38;5;241m.\u001B[39mfill(\n\u001B[1;32m    109\u001B[0m     \u001B[38;5;28mself\u001B[39m\u001B[38;5;241m.\u001B[39mconfig_schema,\n\u001B[1;32m    110\u001B[0m     config)\n",
      "\u001B[0;31mException\u001B[0m: config key biomodel_id not in config_schema for CopasiProcess"
     ]
    }
   ],
   "source": [
    "results = play_composition(instance=parameter_scan_instance, duration=10)"
   ],
   "metadata": {
    "collapsed": false,
    "ExecuteTime": {
     "end_time": "2024-02-29T17:01:23.395584Z",
     "start_time": "2024-02-29T17:01:23.095131Z"
    }
   },
   "id": "87cced9f87885d4e",
   "execution_count": 7
  },
  {
   "cell_type": "code",
   "outputs": [],
   "source": [],
   "metadata": {
    "collapsed": false
   },
   "id": "fe14c4d829cb0f58"
  }
 ],
 "metadata": {
  "kernelspec": {
   "display_name": "Python 3 (ipykernel)",
   "language": "python",
   "name": "python3"
  },
  "language_info": {
   "codemirror_mode": {
    "name": "ipython",
    "version": 3
   },
   "file_extension": ".py",
   "mimetype": "text/x-python",
   "name": "python",
   "nbconvert_exporter": "python",
   "pygments_lexer": "ipython3",
   "version": "3.10.13"
  }
 },
 "nbformat": 4,
 "nbformat_minor": 5
}
