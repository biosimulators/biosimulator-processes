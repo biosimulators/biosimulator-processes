{
 "cells": [
  {
   "cell_type": "code",
   "execution_count": 15,
   "id": "initial_id",
   "metadata": {
    "collapsed": true,
    "ExecuteTime": {
     "end_time": "2024-02-27T15:36:56.096550Z",
     "start_time": "2024-02-27T15:36:56.091278Z"
    }
   },
   "outputs": [],
   "source": [
    "import sys \n",
    "\n",
    "sys.path.insert(0, '..')"
   ]
  },
  {
   "cell_type": "code",
   "outputs": [],
   "source": [
    "from basico import *\n",
    "from process_bigraph import Composite, pf \n",
    "from biosimulator_processes.processes.copasi_process import CopasiProcess"
   ],
   "metadata": {
    "collapsed": false,
    "ExecuteTime": {
     "end_time": "2024-02-27T15:36:57.246146Z",
     "start_time": "2024-02-27T15:36:57.239860Z"
    }
   },
   "id": "c6c10dc5988e52d4",
   "execution_count": 16
  },
  {
   "cell_type": "markdown",
   "source": [
    "### Example 1: Define a single process instance and a corresponding emitter"
   ],
   "metadata": {
    "collapsed": false
   },
   "id": "ac92611c7adf47e1"
  },
  {
   "cell_type": "markdown",
   "source": [
    "##### 1. Define the schema by which our Composite instance will be configured"
   ],
   "metadata": {
    "collapsed": false
   },
   "id": "8608877d697af60c"
  },
  {
   "cell_type": "code",
   "outputs": [],
   "source": [
    "instance = {\n",
    "    'copasi': {\n",
    "        '_type': 'process',\n",
    "        'address': 'local:copasi',\n",
    "        'config': {\n",
    "            'model_file': 'biosimulator_processes/model_files/Caravagna2010.xml'\n",
    "        },\n",
    "        'inputs': {\n",
    "            'floating_species': ['floating_species_store'],\n",
    "            'model_parameters': ['model_parameters_store'],\n",
    "            'time': ['time_store'],\n",
    "            'reactions': ['reactions_store']\n",
    "        },\n",
    "        'outputs': {\n",
    "            'floating_species': ['floating_species_store'],\n",
    "            'time': ['time_store'],\n",
    "        }\n",
    "    },\n",
    "    # TODO: Add emitter schema\n",
    "    'emitter': {\n",
    "        '_type': 'step',\n",
    "        'address': 'local:ram-emitter',\n",
    "        'config': {\n",
    "            'emit': {\n",
    "                'floating_species': 'tree[float]',\n",
    "                'time': 'float',\n",
    "            },\n",
    "        },\n",
    "        'inputs': {\n",
    "            'floating_species': ['floating_species_store'],\n",
    "            'time': ['time_store'],\n",
    "        }\n",
    "    }\n",
    "}"
   ],
   "metadata": {
    "collapsed": false,
    "ExecuteTime": {
     "end_time": "2024-02-27T15:44:23.766224Z",
     "start_time": "2024-02-27T15:44:23.760968Z"
    }
   },
   "id": "77636dbde3fa6b74",
   "execution_count": 19
  },
  {
   "cell_type": "markdown",
   "source": [],
   "metadata": {
    "collapsed": false
   },
   "id": "ab745a55ff67da50"
  },
  {
   "cell_type": "markdown",
   "source": [
    "##### 2. Instantiate the Process-Bigraph-Engine with the Composite class"
   ],
   "metadata": {
    "collapsed": false
   },
   "id": "e5199aee6d533761"
  },
  {
   "cell_type": "code",
   "outputs": [],
   "source": [
    "workflow = Composite({\n",
    "    'state': instance\n",
    "})"
   ],
   "metadata": {
    "collapsed": false
   },
   "id": "4c2ef631b005be61"
  },
  {
   "cell_type": "markdown",
   "source": [
    "##### 3. Run the Composite workflow with the Engine"
   ],
   "metadata": {
    "collapsed": false
   },
   "id": "6a402e48fbc30a5b"
  },
  {
   "cell_type": "code",
   "outputs": [],
   "source": [
    "workflow.run(10)"
   ],
   "metadata": {
    "collapsed": false
   },
   "id": "98676149a4ce822f"
  },
  {
   "cell_type": "markdown",
   "source": [
    "##### 4. Gather and neatly-print the results."
   ],
   "metadata": {
    "collapsed": false
   },
   "id": "d0ff3a2822a8fa2c"
  },
  {
   "cell_type": "code",
   "outputs": [],
   "source": [
    "results = workflow.gather_results()\n",
    "\n",
    "print(f'RESULTS: {pf(results)}')"
   ],
   "metadata": {
    "collapsed": false
   },
   "id": "c15cee593ef000a7"
  },
  {
   "cell_type": "markdown",
   "source": [
    "##### 5. Plot/Analyze the results with Plotly"
   ],
   "metadata": {
    "collapsed": false
   },
   "id": "b098a589f08ce138"
  },
  {
   "cell_type": "code",
   "outputs": [],
   "source": [
    "# 5. Plot/Analyze the results"
   ],
   "metadata": {
    "collapsed": false
   },
   "id": "297504800772775e"
  },
  {
   "cell_type": "markdown",
   "source": [
    "### Example 2: Define multiple processes in the same instance for a parameter scan"
   ],
   "metadata": {
    "collapsed": false
   },
   "id": "2afe93d975ed2aee"
  },
  {
   "cell_type": "code",
   "outputs": [],
   "source": [],
   "metadata": {
    "collapsed": false
   },
   "id": "6157c1b8f1f67d05"
  }
 ],
 "metadata": {
  "kernelspec": {
   "display_name": "Python 3",
   "language": "python",
   "name": "python3"
  },
  "language_info": {
   "codemirror_mode": {
    "name": "ipython",
    "version": 2
   },
   "file_extension": ".py",
   "mimetype": "text/x-python",
   "name": "python",
   "nbconvert_exporter": "python",
   "pygments_lexer": "ipython2",
   "version": "2.7.6"
  }
 },
 "nbformat": 4,
 "nbformat_minor": 5
}
